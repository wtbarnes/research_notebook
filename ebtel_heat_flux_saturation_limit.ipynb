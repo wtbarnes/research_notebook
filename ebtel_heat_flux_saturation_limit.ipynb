{
 "cells": [
  {
   "cell_type": "markdown",
   "metadata": {},
   "source": [
    "#Comparisons for differing values of $\\beta$ and its effect on EBTEL emission measure"
   ]
  },
  {
   "cell_type": "code",
   "execution_count": 1,
   "metadata": {
    "collapsed": false
   },
   "outputs": [
    {
     "name": "stderr",
     "output_type": "stream",
     "text": [
      "/opt/local/Library/Frameworks/Python.framework/Versions/2.7/lib/python2.7/site-packages/matplotlib/__init__.py:1318: UserWarning:  This call to matplotlib.use() has no effect\n",
      "because the backend has already been chosen;\n",
      "matplotlib.use() must be called *before* pylab, matplotlib.pyplot,\n",
      "or matplotlib.backends is imported for the first time.\n",
      "\n",
      "  warnings.warn(_use_error_msg)\n"
     ]
    }
   ],
   "source": [
    "%matplotlib inline\n",
    "import matplotlib.pyplot as plt\n",
    "import numpy as np\n",
    "single_fluid_root = '/Users/willbarnes/Documents/Rice/Research/EBTEL_repo/'\n",
    "two_fluid_root = '/Users/willbarnes/Documents/Rice/Research/EBTEL-2fluid_repo/'\n",
    "import sys\n",
    "sys.path.append(single_fluid_root+'bin/')\n",
    "sys.path.append(two_fluid_root+'bin/')\n",
    "import ebtel_wrapper as sfw\n",
    "import ebtel2fl_run as tfw\n",
    "import ebtel2fl_plot as tfp\n",
    "reload(sfw)\n",
    "reload(tfw)\n",
    "plt.close('all')"
   ]
  },
  {
   "cell_type": "markdown",
   "metadata": {},
   "source": [
    "When calculating the heat flux, we often use the classical expresssion "
   ]
  }
 ],
 "metadata": {
  "kernelspec": {
   "display_name": "Python 2",
   "language": "python",
   "name": "python2"
  },
  "language_info": {
   "codemirror_mode": {
    "name": "ipython",
    "version": 2
   },
   "file_extension": ".py",
   "mimetype": "text/x-python",
   "name": "python",
   "nbconvert_exporter": "python",
   "pygments_lexer": "ipython2",
   "version": "2.7.9"
  }
 },
 "nbformat": 4,
 "nbformat_minor": 0
}
