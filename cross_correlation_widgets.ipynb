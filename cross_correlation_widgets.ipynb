{
 "cells": [
  {
   "cell_type": "code",
   "execution_count": 1,
   "metadata": {},
   "outputs": [],
   "source": [
    "import ipywidgets\n",
    "from ipywidgets import interactive\n",
    "import numpy as np\n",
    "import matplotlib.pyplot as plt\n",
    "\n",
    "%matplotlib notebook"
   ]
  },
  {
   "cell_type": "code",
   "execution_count": 12,
   "metadata": {},
   "outputs": [],
   "source": [
    "def f(mu_a, mu_b, sigma_a, sigma_b,A_a, A_b):\n",
    "    #A_a,A_b=1,1\n",
    "    fig = plt.figure(figsize=(15,10))\n",
    "    # Gaussians\n",
    "    ax = fig.add_subplot(211)\n",
    "    x = np.linspace(0, 1, num=1000)\n",
    "    g_a = np.exp(-((x - mu_a)**2)/(2*sigma_a**2))\n",
    "    g_b = np.exp(-((x - mu_b)**2)/(2*sigma_b**2))\n",
    "    ax.plot(x,g_a,color='C1')\n",
    "    ax.plot(x,g_b,color='C0')\n",
    "    #ax.set_ylim(x[0],x[-1])\n",
    "    ax.set_xlim(x[0],x[-1])\n",
    "    # Cross-correlation\n",
    "    ax = fig.add_subplot(212)\n",
    "    delta_x = np.diff(x).cumsum()\n",
    "    timelags = np.hstack([-delta_x[::-1], np.array([0]), delta_x])\n",
    "    g_a_norm = (g_a - g_a.mean())/g_a.std()\n",
    "    g_b_norm = (g_b - g_b.mean())/g_b.std()\n",
    "    cc = np.fft.irfft(np.fft.rfft(g_a_norm[::-1], n=timelags.shape[0])\n",
    "                      * np.fft.rfft(g_b_norm, n=timelags.shape[0]), n=timelags.shape[0])\n",
    "    cc /= x.shape[0]\n",
    "    ax.plot(timelags,cc)\n",
    "    ax.set_ylim(-1,1)\n",
    "    ax.set_xlim(timelags[0],timelags[-1])\n",
    "    plt.show()\n"
   ]
  },
  {
   "cell_type": "code",
   "execution_count": 31,
   "metadata": {},
   "outputs": [],
   "source": [
    "interactive_plot = interactive(f,\n",
    "                               mu_a=(0., 1),\n",
    "                               mu_b=(0., 1),\n",
    "                               sigma_a=(0.01, 0.25),\n",
    "                               sigma_b=(0.01, 0.25),\n",
    "                               A_a=(0.0, 1.0),\n",
    "                               A_b=(0.0, 1.0),\n",
    "                              )"
   ]
  },
  {
   "cell_type": "code",
   "execution_count": 32,
   "metadata": {},
   "outputs": [
    {
     "data": {
      "application/vnd.jupyter.widget-view+json": {
       "model_id": "932b09249cf24865b611a1f0a76bd89c",
       "version_major": 2,
       "version_minor": 0
      },
      "text/plain": [
       "interactive(children=(FloatSlider(value=0.5, description='mu_a', max=1.0), FloatSlider(value=0.5, description=…"
      ]
     },
     "metadata": {},
     "output_type": "display_data"
    }
   ],
   "source": [
    "interactive_plot"
   ]
  },
  {
   "cell_type": "code",
   "execution_count": null,
   "metadata": {},
   "outputs": [],
   "source": []
  }
 ],
 "metadata": {
  "kernelspec": {
   "display_name": "Python [default]",
   "language": "python",
   "name": "python3"
  },
  "language_info": {
   "codemirror_mode": {
    "name": "ipython",
    "version": 3
   },
   "file_extension": ".py",
   "mimetype": "text/x-python",
   "name": "python",
   "nbconvert_exporter": "python",
   "pygments_lexer": "ipython3",
   "version": "3.6.6"
  }
 },
 "nbformat": 4,
 "nbformat_minor": 2
}
