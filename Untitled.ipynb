{
 "cells": [
  {
   "cell_type": "code",
   "execution_count": 7,
   "metadata": {},
   "outputs": [],
   "source": [
    "import dask.array\n",
    "import numpy as np\n",
    "import sunpy.map\n",
    "import matplotlib.pyplot as plt\n",
    "\n",
    "%matplotlib inline"
   ]
  },
  {
   "cell_type": "code",
   "execution_count": 2,
   "metadata": {},
   "outputs": [],
   "source": [
    "d = np.random.rand(10,10)\n",
    "da = dask.array.from_array(d,chunks=(1,1))"
   ]
  },
  {
   "cell_type": "code",
   "execution_count": 3,
   "metadata": {},
   "outputs": [
    {
     "name": "stderr",
     "output_type": "stream",
     "text": [
      "/Users/willbarnes/anaconda/envs/sunpy/lib/python3.6/site-packages/sunpy-1.0.dev9743-py3.6-macosx-10.7-x86_64.egg/sunpy/map/mapbase.py:229: Warning: Missing metadata for observation time: setting observation time to current time\n",
      "  meas=self.measurement, wave=self.wavelength, date=self.date,\n",
      "/Users/willbarnes/anaconda/envs/sunpy/lib/python3.6/site-packages/sunpy-1.0.dev9743-py3.6-macosx-10.7-x86_64.egg/sunpy/map/mapbase.py:644: Warning: Missing metadata for heliographic latitude: assuming Earth-based observer\n",
      "  return SkyCoord(lat=self.heliographic_latitude,\n",
      "/Users/willbarnes/anaconda/envs/sunpy/lib/python3.6/site-packages/sunpy-1.0.dev9743-py3.6-macosx-10.7-x86_64.egg/sunpy/map/mapbase.py:645: Warning: Missing metadata for heliographic longitude: assuming longitude of 0 degrees\n",
      "  lon=self.heliographic_longitude,\n",
      "/Users/willbarnes/anaconda/envs/sunpy/lib/python3.6/site-packages/sunpy-1.0.dev9743-py3.6-macosx-10.7-x86_64.egg/sunpy/map/mapbase.py:646: Warning: Missing metadata for Sun-spacecraft separation: assuming Sun-Earth distance\n",
      "  radius=self.dsun,\n"
     ]
    },
    {
     "data": {
      "text/plain": [
       "SunPy Map\n",
       "---------\n",
       "Observatory:\t\t \n",
       "Instrument:\t\t \n",
       "Detector:\t\t \n",
       "Measurement:\t\t 0.0\n",
       "Wavelength:\t\t 0.0\n",
       "Observation Date:\t 2018-07-14 17:17:58\n",
       "Exposure Time:\t\t 0.000000 s\n",
       "Dimension:\t\t [10. 10.] pix\n",
       "Coordinate System:\t helioprojective\n",
       "Scale:\t\t\t [1. 1.] arcsec / pix\n",
       "Reference Pixel:\t [5.5 5.5] pix\n",
       "Reference Coord:\t [0. 0.] arcsec\n",
       "array([[0.96751914, 0.8692971 , 0.20843966, 0.32531499, 0.71911801,\n",
       "        0.07259066, 0.18641737, 0.09266553, 0.75175548, 0.82259677],\n",
       "       [0.16381893, 0.34887804, 0.30357007, 0.73520014, 0.18590004,\n",
       "        0.7481217 , 0.50891114, 0.61267879, 0.4404849 , 0.55886753],\n",
       "       [0.23560316, 0.30609674, 0.10146749, 0.96349544, 0.44799365,\n",
       "        0.01134434, 0.21611842, 0.56246117, 0.86245562, 0.0382053 ],\n",
       "       [0.74316138, 0.6325481 , 0.67011787, 0.86021213, 0.99790939,\n",
       "        0.24628565, 0.95554788, 0.79419848, 0.52524555, 0.45376133],\n",
       "       [0.8113767 , 0.32289252, 0.19435563, 0.09745455, 0.78941629,\n",
       "        0.9748232 , 0.55275503, 0.49251488, 0.08293857, 0.12603404],\n",
       "       [0.64871222, 0.71095617, 0.03764831, 0.37132854, 0.98562141,\n",
       "        0.10980187, 0.91294502, 0.60045502, 0.41529736, 0.2936161 ],\n",
       "       [0.5990848 , 0.84376504, 0.90090882, 0.15285712, 0.25618119,\n",
       "        0.01495714, 0.75324342, 0.11651614, 0.88532731, 0.25030797],\n",
       "       [0.2005435 , 0.75999836, 0.67220193, 0.31027575, 0.25103735,\n",
       "        0.53206867, 0.7471639 , 0.0364025 , 0.78076075, 0.01259055],\n",
       "       [0.58429767, 0.70318432, 0.35926923, 0.28891912, 0.2831618 ,\n",
       "        0.36865245, 0.54729533, 0.60929678, 0.1293803 , 0.88025389],\n",
       "       [0.64775127, 0.04516142, 0.35913581, 0.23356124, 0.96280453,\n",
       "        0.05060844, 0.71946147, 0.97769824, 0.37376739, 0.4313841 ]])"
      ]
     },
     "execution_count": 3,
     "metadata": {},
     "output_type": "execute_result"
    }
   ],
   "source": [
    "sunpy.map.Map(d,{})"
   ]
  },
  {
   "cell_type": "code",
   "execution_count": 4,
   "metadata": {},
   "outputs": [],
   "source": [
    "foo = sunpy.map.Map(da,{})"
   ]
  },
  {
   "cell_type": "code",
   "execution_count": 8,
   "metadata": {},
   "outputs": [
    {
     "data": {
      "image/png": "[encoded data removed]",
      "text/plain": [
       "<Figure size 432x288 with 1 Axes>"
      ]
     },
     "metadata": {},
     "output_type": "display_data"
    }
   ],
   "source": [
    "foo.plot()\n",
    "plt.show()"
   ]
  },
  {
   "cell_type": "code",
   "execution_count": 9,
   "metadata": {},
   "outputs": [
    {
     "data": {
      "text/plain": [
       "dask.array.core.Array"
      ]
     },
     "execution_count": 9,
     "metadata": {},
     "output_type": "execute_result"
    }
   ],
   "source": [
    "type(da)"
   ]
  },
  {
   "cell_type": "code",
   "execution_count": 12,
   "metadata": {},
   "outputs": [
    {
     "data": {
      "text/plain": [
       "True"
      ]
     },
     "execution_count": 12,
     "metadata": {},
     "output_type": "execute_result"
    }
   ],
   "source": [
    "isinstance(da, dask.array.Array)"
   ]
  },
  {
   "cell_type": "code",
   "execution_count": 9,
   "metadata": {},
   "outputs": [],
   "source": [
    "foobar = (1,)\n",
    "foobar += (2,)"
   ]
  },
  {
   "cell_type": "code",
   "execution_count": 10,
   "metadata": {},
   "outputs": [
    {
     "data": {
      "text/plain": [
       "(1, 2)"
      ]
     },
     "execution_count": 10,
     "metadata": {},
     "output_type": "execute_result"
    }
   ],
   "source": [
    "foobar"
   ]
  },
  {
   "cell_type": "code",
   "execution_count": null,
   "metadata": {},
   "outputs": [],
   "source": []
  }
 ],
 "metadata": {
  "kernelspec": {
   "display_name": "Python [conda env:sunpy]",
   "language": "python",
   "name": "conda-env-sunpy-py"
  },
  "language_info": {
   "codemirror_mode": {
    "name": "ipython",
    "version": 3
   },
   "file_extension": ".py",
   "mimetype": "text/x-python",
   "name": "python",
   "nbconvert_exporter": "python",
   "pygments_lexer": "ipython3",
   "version": "3.6.6"
  }
 },
 "nbformat": 4,
 "nbformat_minor": 2
}
