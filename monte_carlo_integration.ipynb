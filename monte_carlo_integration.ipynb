{
 "cells": [
  {
   "cell_type": "code",
   "execution_count": 1,
   "metadata": {
    "collapsed": true
   },
   "outputs": [],
   "source": [
    "%matplotlib inline\n",
    "import matplotlib.pyplot as plt\n",
    "import numpy as np"
   ]
  },
  {
   "cell_type": "markdown",
   "metadata": {},
   "source": [
    "#Monte-Carlo Integration"
   ]
  },
  {
   "cell_type": "markdown",
   "metadata": {},
   "source": [
    "Here, we want to use Monte-Carlo integration techniques in order to try and determine the mean of a power-law distribution with $\\alpha\\le2$.\n",
    "\n",
    "Recall that a power-law relation is given by $p(x)=Cx^{-\\alpha}$. In order to find the mean of this distribution, we can calculate the first moment,$$\\langle x\\rangle=\\int_{x_{min}}^{x_{max}}\\mathrm{d}x~xp(x).$$This seems simple enough. However, upon computing the integral, we find that $$\\langle x\\rangle = \\frac{C}{2-\\alpha}x^{2-\\alpha}\\Big\\rvert_{x_{min}}^{x_{max}}.$$Notice that for $\\alpha=2$, $\\langle x\\rangle\\to\\infty$ and that for $\\alpha<2$, $\\langle x\\rangle<0$. Additionally, if we push $x_{max}\\to\\infty$, we will notice that our integral will diverge for all $\\alpha<2$. So what can we do?\n",
    "\n",
    "Here, we will try to use a Monte-Carlo approach to evaluate the integral for **finite** $x_{max}$ such that $\\langle x\\rangle$ can be calculated.\n",
    "\n",
    "Consider the integral, $$I=\\int_a^b\\mathrm{d}x~f(x).$$In our case, $f(x)=xp(x)=Cx^{-\\alpha+1}$. We can write this integral in terms of its average as $$I=\\int_a^b\\mathrm{d}x~f(x)=(b-a)\\langle f\\rangle$$where $\\langle f\\rangle\\approx\\frac{1}{N}\\sum_{i=1}^{N}f(x_i)$. Thus, by using a large number of points $N$, we can compute the integral to a reasonable degree of accuracy."
   ]
  },
  {
   "cell_type": "markdown",
   "metadata": {},
   "source": [
    "First, let's do a test case. If $f(x)=x^2$ and $a=-1,b=1$, we know that $I=\\frac{2}{3}$. Let's compute this integral using an MC method to test how well it compares to the actual answer."
   ]
  },
  {
   "cell_type": "code",
   "execution_count": 2,
   "metadata": {
    "collapsed": true
   },
   "outputs": [],
   "source": [
    "def test_func(x,**kwargs):\n",
    "    return x**2"
   ]
  },
  {
   "cell_type": "code",
   "execution_count": 3,
   "metadata": {
    "collapsed": true
   },
   "outputs": [],
   "source": [
    "def monte_carlo_integrator(N,f,**kwargs):\n",
    "    #generate points in the given range\n",
    "    np.random.seed()\n",
    "    points = (kwargs['b'] - kwargs['a'])*np.random.rand(N) + kwargs['a']\n",
    "    \n",
    "    #calculate the average\n",
    "    f_sum = 0.0\n",
    "    for p in points:\n",
    "        f_sum = f_sum + f(p,**kwargs)\n",
    "    f_mean = f_sum/N\n",
    "    \n",
    "    #return total answer\n",
    "    return (kwargs['b'] - kwargs['a'])*f_mean"
   ]
  },
  {
   "cell_type": "code",
   "execution_count": 4,
   "metadata": {
    "collapsed": false
   },
   "outputs": [
    {
     "name": "stdout",
     "output_type": "stream",
     "text": [
      "Monte-Carlo Integration of x^2 on [-1,1] for N=100 is 0.7020\n"
     ]
    }
   ],
   "source": [
    "a = -1\n",
    "b = +1\n",
    "N = 100\n",
    "print \"Monte-Carlo Integration of x^2 on [%d,%d] for N=%d is %.4f\"%(a,b,N,monte_carlo_integrator(N,test_func,a=a,b=b))"
   ]
  },
  {
   "cell_type": "markdown",
   "metadata": {},
   "source": [
    "That's reasonably close ($\\frac{2}{3}\\approx0.667$) but increasing $N$ will improve our estimate. "
   ]
  },
  {
   "cell_type": "code",
   "execution_count": 5,
   "metadata": {
    "collapsed": true
   },
   "outputs": [],
   "source": [
    "mc_test = []\n",
    "N = np.linspace(100,100000,100)\n",
    "for n in N:\n",
    "    mc_test.append(monte_carlo_integrator(n,test_func,a=a,b=b))"
   ]
  },
  {
   "cell_type": "code",
   "execution_count": 6,
   "metadata": {
    "collapsed": false
   },
   "outputs": [
    {
     "data": {
      "image/png": "[encoded data removed]",
      "text/plain": [
       "<matplotlib.figure.Figure at 0x10ec85b10>"
      ]
     },
     "metadata": {},
     "output_type": "display_data"
    }
   ],
   "source": [
    "fig = plt.figure(figsize=(8,8))\n",
    "ax = fig.gca()\n",
    "ax.plot(N,mc_test)\n",
    "ax.axhline(y=2.0/3.0,color='black',linestyle='--')\n",
    "ax.set_xlabel(r'$N$',fontsize=22)\n",
    "ax.set_ylabel(r'$I$',fontsize=22)\n",
    "ax.set_ylim(0.5,0.75)\n",
    "plt.show()"
   ]
  },
  {
   "cell_type": "markdown",
   "metadata": {},
   "source": [
    "Now that we've tried it out on a test case, let's try it out on our mean function for $\\alpha\\le2$."
   ]
  },
  {
   "cell_type": "code",
   "execution_count": 7,
   "metadata": {
    "collapsed": true
   },
   "outputs": [],
   "source": [
    "def pl_mean(x,**kwargs):\n",
    "    #define coefficient\n",
    "    C = (1.0 - kwargs['alpha'])/(kwargs['b']**(1.0-kwargs['alpha']) - kwargs['a']**(1.0-kwargs['alpha']))\n",
    "    #define power-law function\n",
    "    f = C*x**(-kwargs['alpha'])\n",
    "    #return the mean integrand\n",
    "    return x*f"
   ]
  },
  {
   "cell_type": "code",
   "execution_count": 8,
   "metadata": {
    "collapsed": false
   },
   "outputs": [],
   "source": [
    "N = np.logspace(3,6,100)\n",
    "for i in range(len(N)):\n",
    "    N[i] = int(N[i])\n",
    "a = 0.05\n",
    "b = 0.5\n",
    "alpha = 2.0\n",
    "mc_test_alpha2 = []\n",
    "for n in N:\n",
    "    mc_test_alpha2.append(monte_carlo_integrator(n,pl_mean,a=a,b=b,alpha=alpha))"
   ]
  },
  {
   "cell_type": "code",
   "execution_count": 9,
   "metadata": {
    "collapsed": false
   },
   "outputs": [
    {
     "data": {
      "image/png": "[encoded data removed]",
      "text/plain": [
       "<matplotlib.figure.Figure at 0x10ec85a10>"
      ]
     },
     "metadata": {},
     "output_type": "display_data"
    }
   ],
   "source": [
    "fig = plt.figure(figsize=(8,8))\n",
    "ax = fig.gca()\n",
    "ax.plot(N,mc_test_alpha2,'bo')\n",
    "ax.set_xlabel(r'$N$',fontsize=22)\n",
    "ax.set_ylabel(r'$I$',fontsize=22)\n",
    "ax.set_xscale('log')\n",
    "ax.set_ylim(0.1,0.15)\n",
    "plt.show()"
   ]
  },
  {
   "cell_type": "markdown",
   "metadata": {},
   "source": [
    "Similarly, we can try this out for $\\alpha=1.5$."
   ]
  },
  {
   "cell_type": "code",
   "execution_count": 10,
   "metadata": {
    "collapsed": true
   },
   "outputs": [],
   "source": [
    "alpha = 1.5\n",
    "N = np.logspace(3,6,100)\n",
    "for i in range(len(N)):\n",
    "    N[i] = int(N[i])\n",
    "mc_test_alpha15 = []\n",
    "for n in N:\n",
    "    mc_test_alpha15.append(monte_carlo_integrator(n,pl_mean,a=a,b=b,alpha=alpha))"
   ]
  },
  {
   "cell_type": "code",
   "execution_count": 11,
   "metadata": {
    "collapsed": false
   },
   "outputs": [
    {
     "data": {
      "image/png": "[encoded data removed]",
      "text/plain": [
       "<matplotlib.figure.Figure at 0x10ec85c50>"
      ]
     },
     "metadata": {},
     "output_type": "display_data"
    }
   ],
   "source": [
    "fig = plt.figure(figsize=(8,8))\n",
    "ax = fig.gca()\n",
    "ax.plot(N,mc_test_alpha15,'bo')\n",
    "ax.set_xlabel(r'$N$',fontsize=22)\n",
    "ax.set_ylabel(r'$I$',fontsize=22)\n",
    "ax.set_xscale('log')\n",
    "ax.set_ylim(0.15,0.16)\n",
    "plt.show()"
   ]
  },
  {
   "cell_type": "markdown",
   "metadata": {},
   "source": [
    "It seems that we are indeed converging on a single value, but is it the right value? To check this, we can compute some actual values from power-law distributions with these given indices and check to see what the resulting mean values are."
   ]
  },
  {
   "cell_type": "code",
   "execution_count": 12,
   "metadata": {
    "collapsed": true
   },
   "outputs": [],
   "source": [
    "def pl_dist(a0,a1,alpha,x):\n",
    "        return ((a1**(alpha+1) - a0**(alpha+1))*x + a0**(alpha+1))**(1/(alpha+1))"
   ]
  },
  {
   "cell_type": "code",
   "execution_count": 13,
   "metadata": {
    "collapsed": true
   },
   "outputs": [],
   "source": [
    "num_samples = 1.0e+6\n",
    "dist2 = pl_dist(a,b,-2.0,np.random.rand(num_samples))\n",
    "dist15 = pl_dist(a,b,-1.5,np.random.rand(num_samples))"
   ]
  },
  {
   "cell_type": "code",
   "execution_count": 14,
   "metadata": {
    "collapsed": false
   },
   "outputs": [
    {
     "data": {
      "text/plain": [
       "<matplotlib.text.Text at 0x110b9a950>"
      ]
     },
     "execution_count": 14,
     "metadata": {},
     "output_type": "execute_result"
    },
    {
     "data": {
      "image/png": "[encoded data removed]",
      "text/plain": [
       "<matplotlib.figure.Figure at 0x10e1805d0>"
      ]
     },
     "metadata": {},
     "output_type": "display_data"
    }
   ],
   "source": [
    "fig,ax = plt.subplots(1,2,figsize=(12,8))\n",
    "plt.subplots_adjust(wspace=0)\n",
    "ax[0].axhline(y=np.mean(dist2),color='k',linestyle='--',linewidth=2)\n",
    "ax[0].plot(N,mc_test_alpha2,'r.')\n",
    "ax[0].set_xlabel(r'$N$',fontsize=22)\n",
    "ax[0].set_ylabel(r'$I$',fontsize=22)\n",
    "ax[0].set_xscale('log')\n",
    "ax[0].set_ylim(0.1,0.2)\n",
    "ax[0].set_title(r'$\\alpha=-2$',fontsize=22)\n",
    "ax[1].axhline(y=np.mean(dist15),color='k',linestyle='--',linewidth=2)\n",
    "ax[1].plot(N,mc_test_alpha15,'r.')\n",
    "ax[1].set_xlabel(r'$N$',fontsize=22)\n",
    "ax[1].set_xscale('log')\n",
    "ax[1].set_ylim(0.1,0.2)\n",
    "ax[1].set_yticks([])\n",
    "ax[1].set_title(r'$\\alpha=-1.5$',fontsize=22)"
   ]
  },
  {
   "cell_type": "markdown",
   "metadata": {},
   "source": [
    "Thus, we can see that, given an adequate number of samples, we can converge to approximately the correct value of the mean for $\\alpha\\le2$."
   ]
  },
  {
   "cell_type": "markdown",
   "metadata": {},
   "source": [
    "##Estimating Range from Mean"
   ]
  },
  {
   "cell_type": "markdown",
   "metadata": {
    "collapsed": true
   },
   "source": [
    "We need to find a way to estimate the range of the distribution, $Q_{\\mathrm{min}},Q_{\\mathrm{max}}$, such that our time-averaged heating rate is approximately $H_n$. We can calculate the mean from the first moment of the distribution but this expression is useless for $\\alpha\\le2$. Instead, let's just try to estimate it using the simple formula $$\\langle Q\\rangle\\sim(Q_{\\mathrm{max}}-Q_{\\mathrm{min}})/N$$and let $Q_{\\mathrm{min}},Q_{\\mathrm{max}}$ be separated such that $Q_{\\mathrm{max}}=\\delta Q_{\\mathrm{min}}$ where $\\delta\\ge10$. Combining these expressions then $$\\langle Q\\rangle\\sim Q_{\\mathrm{min}}(\\delta-1)/N.$$Provided we can calculate $\\langle Q\\rangle$, we can find $Q_{\\mathrm{min}}$. \n",
    "\n",
    "Let's try an example using our method used above for $\\alpha=-1.5$ and $\\delta=10$. We will use $Q_{\\mathrm{min}}=10^{23}$ and then calculate this from the mean to see how well our approximation does."
   ]
  },
  {
   "cell_type": "code",
   "execution_count": 68,
   "metadata": {
    "collapsed": true
   },
   "outputs": [],
   "source": [
    "q0 = 1.0e+23\n",
    "delta = 10.0\n",
    "q1 = delta*q0\n",
    "alpha = -1.5\n",
    "t_wait = np.arange(250,5250,250)\n",
    "qmean = monte_carlo_integrator(1.0e+6,pl_mean,b=q1,a=q0,alpha=alpha)"
   ]
  },
  {
   "cell_type": "code",
   "execution_count": 69,
   "metadata": {
    "collapsed": false
   },
   "outputs": [
    {
     "name": "stdout",
     "output_type": "stream",
     "text": [
      "1.59546194297e+23\n"
     ]
    }
   ],
   "source": [
    "def time_averaged_heating_rate(L,tpeak):\n",
    "    kappa = 1.0e-6\n",
    "    return kappa*tpeak**(3.5)/L**2\n",
    "def qmin(qmean,delta):\n",
    "    return qmean*2.0/(delta-1.0) \n",
    "print qmin(qmean,delta)"
   ]
  },
  {
   "cell_type": "markdown",
   "metadata": {},
   "source": [
    "Now, let's look at the required $Q_{\\mathrm{min}}$ values for a range of $\\langle Q\\rangle$ values as specified by $T_N$."
   ]
  },
  {
   "cell_type": "code",
   "execution_count": 70,
   "metadata": {
    "collapsed": true
   },
   "outputs": [],
   "source": [
    "def qmean_tn(const,t_wait):\n",
    "    hn = time_averaged_heating_rate(const['L'],const['tpeak'])\n",
    "    return 2.0*hn*const['L']*const['A']*(const['tau'] + t_wait)"
   ]
  },
  {
   "cell_type": "code",
   "execution_count": 71,
   "metadata": {
    "collapsed": false
   },
   "outputs": [],
   "source": [
    "const = {'L':120.0e+8}\n",
    "const['A'] = 1.0e+14\n",
    "const['tau'] = 100.0\n",
    "const['tpeak'] = 4.0e+6"
   ]
  },
  {
   "cell_type": "code",
   "execution_count": 72,
   "metadata": {
    "collapsed": false
   },
   "outputs": [],
   "source": [
    "q_average = []\n",
    "q_minimum = []\n",
    "q_maximum = []\n",
    "for tw in t_wait:\n",
    "    q_average.append(qmean_tn(const,tw))\n",
    "    q_minimum.append(qmin(qmean_tn(const,tw),delta))\n",
    "    q_maximum.append(qmin(qmean_tn(const,tw),delta)*delta)"
   ]
  },
  {
   "cell_type": "code",
   "execution_count": 73,
   "metadata": {
    "collapsed": false
   },
   "outputs": [
    {
     "data": {
      "image/png": "[encoded data removed]",
      "text/plain": [
       "<matplotlib.figure.Figure at 0x10e175ed0>"
      ]
     },
     "metadata": {},
     "output_type": "display_data"
    }
   ],
   "source": [
    "fig = plt.figure(figsize=(8,8))\n",
    "ax = fig.gca()\n",
    "ax.plot(t_wait,q_average)\n",
    "ax.plot(t_wait,q_minimum,'k--')\n",
    "ax.plot(t_wait,q_maximum,'r--')\n",
    "ax.set_xlabel(r'$T_n$',fontsize=22)\n",
    "ax.set_ylabel(r'$\\langle Q\\rangle$, $Q_{\\mathrm{min}}$',fontsize=22)\n",
    "ax.set_yscale('log')\n",
    "plt.show()"
   ]
  },
  {
   "cell_type": "code",
   "execution_count": null,
   "metadata": {
    "collapsed": true
   },
   "outputs": [],
   "source": []
  }
 ],
 "metadata": {
  "kernelspec": {
   "display_name": "Python 2",
   "language": "python",
   "name": "python2"
  },
  "language_info": {
   "codemirror_mode": {
    "name": "ipython",
    "version": 2
   },
   "file_extension": ".py",
   "mimetype": "text/x-python",
   "name": "python",
   "nbconvert_exporter": "python",
   "pygments_lexer": "ipython2",
   "version": "2.7.9"
  }
 },
 "nbformat": 4,
 "nbformat_minor": 0
}
