{
 "cells": [
  {
   "cell_type": "markdown",
   "metadata": {},
   "source": [
    "# Testing YAML I/O with units"
   ]
  },
  {
   "cell_type": "code",
   "execution_count": 1,
   "metadata": {},
   "outputs": [],
   "source": [
    "import astropy.units as u\n",
    "import numpy as np\n",
    "import yaml\n",
    "import asdf\n",
    "\n",
    "from hydrad_tools.configure import Configure"
   ]
  },
  {
   "cell_type": "code",
   "execution_count": 29,
   "metadata": {},
   "outputs": [],
   "source": [
    "base_config = {\n",
    "    'general': {\n",
    "        'total_time': 5e4 * u.s,\n",
    "        'loop_length': 80 * u.Mm,\n",
    "        'footpoint_height': 5e8 * u.cm,\n",
    "        'output_interval': 5*u.s,\n",
    "        'loop_inclination': 0*u.deg,\n",
    "        'logging_frequency': 1000,\n",
    "        'write_file_physical': True,\n",
    "        'write_file_ion_populations': False,\n",
    "        'write_file_hydrogen_level_populations': False,\n",
    "        'write_file_timescales': False,\n",
    "        'write_file_equation_terms': False,\n",
    "        'heat_flux_limiting_coefficient': 1./6.,\n",
    "        'heat_flux_timestep_limit': 1e-10*u.s,\n",
    "        'use_kinetic_model': False,\n",
    "        'minimum_collisional_coupling_timescale': 0.01*u.s,\n",
    "        'force_single_fluid': False,\n",
    "        #'tabulated_gravity_profile':,\n",
    "        #'tabulated_cross_section_profile':,\n",
    "    },\n",
    "    'initial_conditions': {\n",
    "        'footpoint_temperature': 2e4 * u.K,\n",
    "        'footpoint_density': 1e11 * u.cm**(-3),\n",
    "        'isothermal': False,\n",
    "        'heating_location': 40 * u.Mm,\n",
    "        'heating_scale_height': 1e300*u.cm,\n",
    "        'heating_range_lower_bound': 1e-8*u.erg/u.s/(u.cm**3),\n",
    "        'heating_range_upper_bound': 1e2*u.erg/u.s/(u.cm**3),\n",
    "        'heating_range_step_size': 0.01,\n",
    "        'heating_range_fine_tuning': 10000.0,\n",
    "        'use_tabulated_gravity': False,\n",
    "    },\n",
    "    'radiation': {\n",
    "        'use_power_law_radiative_losses': True,\n",
    "        'decouple_ionization_state_solver': False,\n",
    "        'density_dependent_rates': False,\n",
    "        'optically_thick_radiation': False,\n",
    "        'nlte_chromosphere': False,\n",
    "        'ranges_dataset': 'ranges',\n",
    "        'emissivity_dataset': 'chianti_v7',\n",
    "        'abundance_dataset': 'asplund',\n",
    "        'rates_dataset': 'chianti_v7',\n",
    "        'elements_equilibrium': ['Fe'],\n",
    "        'elements_nonequilibrium': [],\n",
    "    },\n",
    "    'heating': {\n",
    "        'heat_electrons': True,\n",
    "        'background_heating': False,\n",
    "        'beam_heating': False,\n",
    "        'alfven_wave_heating': False,\n",
    "        'events': [\n",
    "            {'time_start': 0.*u.s, \n",
    "             'rise_duration': 100*u.s,\n",
    "             'decay_duration': 100*u.s, \n",
    "             'total_duration': 200*u.s,\n",
    "             'location': 4e9*u.cm, \n",
    "             'scale_height': 1e300 * u.cm,\n",
    "             'rate': 0.1 *u.erg/u.s/(u.cm**3),},\n",
    "        ],\n",
    "    },\n",
    "    'solver': {\n",
    "        'epsilon': 0.01,\n",
    "        'safety_radiation': 0.1,\n",
    "        'safety_conduction': 1.0,\n",
    "        'safety_advection': 1.0,\n",
    "        'safety_atomic': 1.0,\n",
    "        'safety_viscosity': 1.0,\n",
    "        'cutoff_ion_fraction':1e-6,\n",
    "        'epsilon_d':0.1,\n",
    "        'epsilon_r':1.8649415311920072,\n",
    "        'timestep_increase_limit': 0.05,\n",
    "        'relative_viscous_timescale': None,\n",
    "        'minimum_radiation_temperature': 2e4*u.K,\n",
    "        'zero_over_temperature_interval': 5.0e2*u.K,\n",
    "        'minimum_temperature': 1e4*u.K,\n",
    "        'maximum_optically_thin_density': 1e12*u.cm**(-3),\n",
    "    },\n",
    "    'grid': {\n",
    "        'adapt': True,\n",
    "        'adapt_every_n_time_steps': 10,\n",
    "        'minimum_cells': 150,\n",
    "        'maximum_cells': 30000,\n",
    "        'maximum_refinement_level': 12,\n",
    "        'minimum_delta_s': 1.0*u.cm,\n",
    "        'maximum_variation': 0.10,\n",
    "        'refine_on_density': True,\n",
    "        'refine_on_electron_energy': True,\n",
    "        'refine_on_hydrogen_energy': False,\n",
    "        'minimum_fractional_difference': 0.10,\n",
    "        'maximum_fractional_difference': 0.20,\n",
    "        'linear_restriction': True,\n",
    "        'enforce_conservation': False,\n",
    "    }\n",
    "} "
   ]
  },
  {
   "cell_type": "code",
   "execution_count": 30,
   "metadata": {},
   "outputs": [
    {
     "name": "stderr",
     "output_type": "stream",
     "text": [
      "WARNING: UnitsWarning: The unit 'erg' has been deprecated in the VOUnit standard. Suggested: cm2 g s-2. [astropy.units.format.utils]\n"
     ]
    }
   ],
   "source": [
    "af = asdf.AsdfFile(base_config)"
   ]
  },
  {
   "cell_type": "code",
   "execution_count": 31,
   "metadata": {},
   "outputs": [
    {
     "name": "stderr",
     "output_type": "stream",
     "text": [
      "WARNING: UnitsWarning: The unit 'erg' has been deprecated in the VOUnit standard. Suggested: cm2 g s-2. [astropy.units.format.utils]\n"
     ]
    }
   ],
   "source": [
    "af.write_to('big_example.asdf')"
   ]
  },
  {
   "cell_type": "code",
   "execution_count": 19,
   "metadata": {},
   "outputs": [],
   "source": [
    "c = Configure(base_config)"
   ]
  },
  {
   "cell_type": "code",
   "execution_count": 20,
   "metadata": {},
   "outputs": [
    {
     "name": "stderr",
     "output_type": "stream",
     "text": [
      "WARNING: UnitsWarning: The unit 'erg' has been deprecated in the VOUnit standard. Suggested: cm2 g s-2. [astropy.units.format.utils]\n"
     ]
    }
   ],
   "source": [
    "c.save_config(c.config, 'base_config.asdf')"
   ]
  },
  {
   "cell_type": "code",
   "execution_count": 28,
   "metadata": {},
   "outputs": [
    {
     "ename": "ValueError",
     "evalue": "Input object does not appear to be ASDF file or FITS with ASDF extension",
     "output_type": "error",
     "traceback": [
      "\u001b[0;31m---------------------------------------------------------------------------\u001b[0m",
      "\u001b[0;31mValueError\u001b[0m                                Traceback (most recent call last)",
      "\u001b[0;32m<ipython-input-28-d2429647697e>\u001b[0m in \u001b[0;36m<module>\u001b[0;34m()\u001b[0m\n\u001b[0;32m----> 1\u001b[0;31m \u001b[0mbc2\u001b[0m \u001b[0;34m=\u001b[0m \u001b[0mConfigure\u001b[0m\u001b[0;34m.\u001b[0m\u001b[0mload_config\u001b[0m\u001b[0;34m(\u001b[0m\u001b[0;34m'big_example.asdf'\u001b[0m\u001b[0;34m)\u001b[0m\u001b[0;34m\u001b[0m\u001b[0m\n\u001b[0m",
      "\u001b[0;32m~/anaconda/envs/hydrad_tools/lib/python3.6/site-packages/hydrad_tools/configure/configure.py\u001b[0m in \u001b[0;36mload_config\u001b[0;34m(filename)\u001b[0m\n\u001b[1;32m     52\u001b[0m         \u001b[0mfilename\u001b[0m \u001b[0;34m(\u001b[0m\u001b[0;31m`\u001b[0m\u001b[0mstr\u001b[0m\u001b[0;31m`\u001b[0m\u001b[0;34m)\u001b[0m\u001b[0;34m:\u001b[0m \u001b[0mPath\u001b[0m \u001b[0mto\u001b[0m \u001b[0mASDF\u001b[0m \u001b[0mconfiguration\u001b[0m \u001b[0mfile\u001b[0m\u001b[0;34m\u001b[0m\u001b[0m\n\u001b[1;32m     53\u001b[0m         \"\"\"\n\u001b[0;32m---> 54\u001b[0;31m         \u001b[0;32mwith\u001b[0m \u001b[0masdf\u001b[0m\u001b[0;34m.\u001b[0m\u001b[0mopen\u001b[0m\u001b[0;34m(\u001b[0m\u001b[0mfilename\u001b[0m\u001b[0;34m)\u001b[0m \u001b[0;32mas\u001b[0m \u001b[0maf\u001b[0m\u001b[0;34m:\u001b[0m\u001b[0;34m\u001b[0m\u001b[0m\n\u001b[0m\u001b[1;32m     55\u001b[0m             \u001b[0mconfig\u001b[0m \u001b[0;34m=\u001b[0m \u001b[0maf\u001b[0m\u001b[0;34m.\u001b[0m\u001b[0mtree\u001b[0m\u001b[0;34m\u001b[0m\u001b[0m\n\u001b[1;32m     56\u001b[0m         \u001b[0;32mreturn\u001b[0m \u001b[0mconfig\u001b[0m\u001b[0;34m\u001b[0m\u001b[0m\n",
      "\u001b[0;32m~/anaconda/envs/hydrad_tools/lib/python3.6/site-packages/asdf/asdf.py\u001b[0m in \u001b[0;36mopen\u001b[0;34m(cls, fd, uri, mode, validate_checksums, extensions, do_not_fill_defaults, ignore_version_mismatch, ignore_unrecognized_tag, _force_raw_types, copy_arrays, custom_schema, strict_extension_check, ignore_missing_extensions)\u001b[0m\n\u001b[1;32m    764\u001b[0m             \u001b[0m_force_raw_types\u001b[0m\u001b[0;34m=\u001b[0m\u001b[0m_force_raw_types\u001b[0m\u001b[0;34m,\u001b[0m\u001b[0;34m\u001b[0m\u001b[0m\n\u001b[1;32m    765\u001b[0m             \u001b[0mstrict_extension_check\u001b[0m\u001b[0;34m=\u001b[0m\u001b[0mstrict_extension_check\u001b[0m\u001b[0;34m,\u001b[0m\u001b[0;34m\u001b[0m\u001b[0m\n\u001b[0;32m--> 766\u001b[0;31m             ignore_missing_extensions=ignore_missing_extensions)\n\u001b[0m\u001b[1;32m    767\u001b[0m \u001b[0;34m\u001b[0m\u001b[0m\n\u001b[1;32m    768\u001b[0m     \u001b[0;32mdef\u001b[0m \u001b[0m_write_tree\u001b[0m\u001b[0;34m(\u001b[0m\u001b[0mself\u001b[0m\u001b[0;34m,\u001b[0m \u001b[0mtree\u001b[0m\u001b[0;34m,\u001b[0m \u001b[0mfd\u001b[0m\u001b[0;34m,\u001b[0m \u001b[0mpad_blocks\u001b[0m\u001b[0;34m)\u001b[0m\u001b[0;34m:\u001b[0m\u001b[0;34m\u001b[0m\u001b[0m\n",
      "\u001b[0;32m~/anaconda/envs/hydrad_tools/lib/python3.6/site-packages/asdf/asdf.py\u001b[0m in \u001b[0;36m_open_impl\u001b[0;34m(cls, self, fd, uri, mode, validate_checksums, do_not_fill_defaults, _get_yaml_content, _force_raw_types, strict_extension_check, ignore_missing_extensions)\u001b[0m\n\u001b[1;32m    669\u001b[0m             raise ValueError(\n\u001b[1;32m    670\u001b[0m                 \u001b[0;34m\"Input object does not appear to be ASDF file or FITS with \"\u001b[0m \u001b[0;34m+\u001b[0m\u001b[0;34m\u001b[0m\u001b[0m\n\u001b[0;32m--> 671\u001b[0;31m                 \"ASDF extension\")\n\u001b[0m\u001b[1;32m    672\u001b[0m         return cls._open_asdf(self, fd, uri=uri, mode=mode,\n\u001b[1;32m    673\u001b[0m                 \u001b[0mvalidate_checksums\u001b[0m\u001b[0;34m=\u001b[0m\u001b[0mvalidate_checksums\u001b[0m\u001b[0;34m,\u001b[0m\u001b[0;34m\u001b[0m\u001b[0m\n",
      "\u001b[0;31mValueError\u001b[0m: Input object does not appear to be ASDF file or FITS with ASDF extension"
     ]
    }
   ],
   "source": [
    "bc2 = Configure.load_config('big_example.asdf')"
   ]
  },
  {
   "cell_type": "code",
   "execution_count": 22,
   "metadata": {},
   "outputs": [],
   "source": [
    "c2 = Configure(bc2)"
   ]
  },
  {
   "cell_type": "code",
   "execution_count": 23,
   "metadata": {},
   "outputs": [
    {
     "name": "stdout",
     "output_type": "stream",
     "text": [
      "0.0 0.0 0.0\n",
      "\n",
      "1\n",
      "\n",
      "4000000000.0 1e+300 0.1 0.0 100.0 100.0 200.0\n",
      "\n",
      "Configuration file generated by hydrad_tools on 2018-06-07_15.13.32\n"
     ]
    }
   ],
   "source": [
    "print(c2.heating_cfg)"
   ]
  },
  {
   "cell_type": "code",
   "execution_count": 3,
   "metadata": {},
   "outputs": [],
   "source": [
    "test_dict = {\n",
    "    'general': {\n",
    "        'loop_length': 100*u.cm,\n",
    "        'total_time': 5e3 * u.s,\n",
    "        'logging_frequency': 1000,\n",
    "    },\n",
    "    'initial_conditions': {\n",
    "        'footpoint_temperature': 1e4*u.K,\n",
    "        'use_gravity_file': False,\n",
    "    }\n",
    "}\n",
    "test_dict2 = {'general': {'loop_length': 100,\n",
    "                          'total_time': 5e3,\n",
    "                          'logging_frequency': 1000,},\n",
    "              'initial_conditions': {'footpoint_temperature': 1e4,\n",
    "                                     'use_gravity_file': False,}}"
   ]
  },
  {
   "cell_type": "code",
   "execution_count": 4,
   "metadata": {},
   "outputs": [],
   "source": [
    "af = asdf.AsdfFile(test_dict)"
   ]
  },
  {
   "cell_type": "code",
   "execution_count": 5,
   "metadata": {},
   "outputs": [],
   "source": [
    "af.write_to('test.asdf')"
   ]
  },
  {
   "cell_type": "code",
   "execution_count": 6,
   "metadata": {},
   "outputs": [],
   "source": [
    "with asdf.open('test.asdf') as f:\n",
    "    test_dict_rt = f.tree"
   ]
  },
  {
   "cell_type": "code",
   "execution_count": 8,
   "metadata": {},
   "outputs": [
    {
     "data": {
      "text/plain": [
       "[b'ASDF_STANDARD 1.2.0']"
      ]
     },
     "execution_count": 8,
     "metadata": {},
     "output_type": "execute_result"
    }
   ],
   "source": [
    "f.comments"
   ]
  },
  {
   "cell_type": "code",
   "execution_count": 6,
   "metadata": {},
   "outputs": [],
   "source": [
    "with open('test.yml','w') as f:\n",
    "    test_dict_io = {}\n",
    "    for k in test_dict:\n",
    "        test_dict_io[k] = {}\n",
    "        for v in test_dict[k]:\n",
    "            if isinstance(test_dict[k][v], u.Quantity):\n",
    "                test_dict_io[k][v] = {'value': test_dict[k][v].value, 'unit': test_dict[k][v].unit.to_string()}\n",
    "            else:\n",
    "                test_dict_io[k][v] = test_dict[k][v]\n",
    "    yaml.dump(test_dict_io, f)"
   ]
  },
  {
   "cell_type": "code",
   "execution_count": 14,
   "metadata": {},
   "outputs": [],
   "source": [
    "with open('test.yml','r') as f:\n",
    "    foo = yaml.load(f)\n",
    "    new_foo = {}\n",
    "    for k in foo:\n",
    "        new_foo[k] = {}\n",
    "        for v in foo[k]:\n",
    "            if type(foo[k][v]) is dict and 'unit' in foo[k][v] and 'value' in foo[k][v]:\n",
    "                new_foo[k][v] = u.Quantity(foo[k][v]['value'],foo[k][v]['unit'])\n",
    "            else:\n",
    "                new_foo[k][v] = foo[k][v]"
   ]
  },
  {
   "cell_type": "code",
   "execution_count": 16,
   "metadata": {},
   "outputs": [
    {
     "data": {
      "text/plain": [
       "{'general': {'logging_frequency': 1000,\n",
       "  'loop_length': <Quantity 100. cm>,\n",
       "  'total_time': <Quantity 5000. s>},\n",
       " 'initial_conditions': {'footpoint_temperature': <Quantity 10000. K>,\n",
       "  'use_gravity_file': False}}"
      ]
     },
     "execution_count": 16,
     "metadata": {},
     "output_type": "execute_result"
    }
   ],
   "source": [
    "test_dict"
   ]
  },
  {
   "cell_type": "code",
   "execution_count": 17,
   "metadata": {},
   "outputs": [
    {
     "data": {
      "text/plain": [
       "True"
      ]
     },
     "execution_count": 17,
     "metadata": {},
     "output_type": "execute_result"
    }
   ],
   "source": [
    "new_foo == test_dict"
   ]
  },
  {
   "cell_type": "code",
   "execution_count": 33,
   "metadata": {},
   "outputs": [],
   "source": [
    "default_config = {\n",
    "    'general': {\n",
    "        'output_interval': 1*u.s,\n",
    "        'logging_frequency': 1000,\n",
    "        'write_file_physical': True,\n",
    "        'write_file_ion_populations': False,\n",
    "        'write_file_hydrogen_level_populations': False,\n",
    "        'write_file_timescales': False,\n",
    "        'write_file_equation_terms': False,\n",
    "        'heat_flux_timestep_limit': 1e-10*u.s,\n",
    "        'use_kinetic_model': False,\n",
    "        'minimum_collisional_coupling_timescale': 0.01*u.s,\n",
    "        'force_single_fluid': False,\n",
    "        #'tabulated_gravity_profile':,\n",
    "        #'tabulated_cross_section_profile':,\n",
    "    },\n",
    "    'initial_conditions': {\n",
    "        'isothermal': False,\n",
    "        'heating_range_lower_bound': 1e-8*u.erg/u.s/(u.cm**3),\n",
    "        'heating_range_upper_bound': 1e2*u.erg/u.s/(u.cm**3),\n",
    "        'heating_range_step_size': 0.01,\n",
    "        'heating_range_fine_tuning': 10000.0,\n",
    "        'use_tabulated_gravity': False,\n",
    "    },\n",
    "    'radiation': {\n",
    "        'use_power_law_radiative_losses': True,\n",
    "        'decouple_ionization_state_solver': False,\n",
    "        'density_dependent_rates': False,\n",
    "        'optically_thick_radiation': False,\n",
    "        'nlte_chromosphere': False,\n",
    "        'ranges_dataset': 'ranges',\n",
    "        'emissivity_dataset': 'chianti_v7',\n",
    "        'abundance_dataset': 'asplund',\n",
    "        'rates_dataset': 'chianti_v7',\n",
    "        'elements_equilibrium': ['Fe'],\n",
    "        'elements_nonequilibrium': [],\n",
    "    },\n",
    "    'heating': {\n",
    "        'heat_electrons': True,\n",
    "        'background_heating': False,\n",
    "        'beam_heating': False,\n",
    "        'alfven_wave_heating': False,\n",
    "        'events': [],\n",
    "    },\n",
    "    'solver': {\n",
    "        'epsilon': 0.01,\n",
    "        'safety_radiation': 0.1,\n",
    "        'safety_conduction': 1.0,\n",
    "        'safety_advection': 1.0,\n",
    "        'safety_atomic': 1.0,\n",
    "        'safety_viscosity': 1.0,\n",
    "        'cutoff_ion_fraction':1e-6,\n",
    "        'epsilon_d':0.1,\n",
    "        'epsilon_r':1.8649415311920072,\n",
    "        'timestep_increase_limit': 0.05,\n",
    "        'relative_viscous_timescale': None,\n",
    "        'minimum_radiation_temperature': 2e4*u.K,\n",
    "        'zero_over_temperature_interval': 5.0e2*u.K,\n",
    "        'minimum_temperature': 1e4*u.K,\n",
    "        'maximum_optically_thin_density': 1e12*u.cm**(-3),\n",
    "    },\n",
    "    'grid': {\n",
    "        'adapt': True,\n",
    "        'adapt_every_n_time_steps': 10,\n",
    "        'minimum_cells': 150,\n",
    "        'maximum_cells': 30000,\n",
    "        'maximum_refinement_level': 12,\n",
    "        'minimum_delta_s': 1.0*u.cm,\n",
    "        'maximum_variation': 0.10,\n",
    "        'refine_on_density': True,\n",
    "        'refine_on_electron_energy': True,\n",
    "        'refine_on_hydrogen_energy': False,\n",
    "        'minimum_fractional_difference': 0.10,\n",
    "        'maximum_fractional_difference': 0.20,\n",
    "        'linear_restriction': False,\n",
    "        'enforce_conservation': True,\n",
    "    }\n",
    "} "
   ]
  },
  {
   "cell_type": "code",
   "execution_count": 34,
   "metadata": {},
   "outputs": [
    {
     "name": "stderr",
     "output_type": "stream",
     "text": [
      "WARNING: UnitsWarning: The unit 'erg' has been deprecated in the VOUnit standard. Suggested: cm2 g s-2. [astropy.units.format.utils]\n"
     ]
    }
   ],
   "source": [
    "Configure.save_config(default_config,'/Users/willbarnes/Documents/work/codes/hydrad_tools/defaults.asdf')"
   ]
  },
  {
   "cell_type": "code",
   "execution_count": null,
   "metadata": {},
   "outputs": [],
   "source": []
  }
 ],
 "metadata": {
  "kernelspec": {
   "display_name": "Python [conda env:hydrad_tools]",
   "language": "python",
   "name": "conda-env-hydrad_tools-py"
  },
  "language_info": {
   "codemirror_mode": {
    "name": "ipython",
    "version": 3
   },
   "file_extension": ".py",
   "mimetype": "text/x-python",
   "name": "python",
   "nbconvert_exporter": "python",
   "pygments_lexer": "ipython3",
   "version": "3.6.4"
  }
 },
 "nbformat": 4,
 "nbformat_minor": 2
}
