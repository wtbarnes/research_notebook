{
 "cells": [
  {
   "cell_type": "markdown",
   "metadata": {},
   "source": [
    "# `hercules` GUI Testing\n",
    "\n",
    "Testing functionality of IPython widget GUI for configuring HYDRAD runs."
   ]
  },
  {
   "cell_type": "code",
   "execution_count": 1,
   "metadata": {
    "collapsed": true
   },
   "outputs": [],
   "source": [
    "import ipywidgets as widgets\n",
    "from IPython.display import display"
   ]
  },
  {
   "cell_type": "code",
   "execution_count": 8,
   "metadata": {
    "collapsed": false
   },
   "outputs": [],
   "source": [
    "#Start creating tabs\n",
    "name = widgets.Text(description='Name:', padding=4)\n",
    "#name.layout.padding = 4\n",
    "color = widgets.Dropdown(description='Color:', options=['red', 'orange', 'yellow', 'green', 'blue', 'indigo', 'violet'])\n",
    "#color.layout.padding = 4\n",
    "page1 = widgets.Box(children=[name, color])\n",
    "#page1.layout.padding = 4\n",
    "\n",
    "age = widgets.IntSlider(description='Age:', min=0, max=120, value=50)\n",
    "#age.layout.padding = 4\n",
    "gender = widgets.RadioButtons(description='Gender:', options=['male', 'female'])\n",
    "#gender.layout.padding = 4\n",
    "element_selector = widgets.SelectMultiple(\n",
    "    description=\"Elements\",\n",
    "    options=['H', 'He', 'Fe']\n",
    ")\n",
    "page2 = widgets.Box(children=[age, gender, element_selector])\n",
    "#page2.layout.padding = 4\n",
    "\n",
    "tabs = widgets.Tab(children=[page1, page2])\n",
    "display(tabs)\n",
    "\n",
    "tabs.set_title(0, 'Initial Conditions')\n",
    "tabs.set_title(1, 'Radiation')"
   ]
  },
  {
   "cell_type": "code",
   "execution_count": null,
   "metadata": {
    "collapsed": true
   },
   "outputs": [],
   "source": []
  }
 ],
 "metadata": {
  "kernelspec": {
   "display_name": "Python 3",
   "language": "python",
   "name": "python3"
  },
  "language_info": {
   "codemirror_mode": {
    "name": "ipython",
    "version": 3
   },
   "file_extension": ".py",
   "mimetype": "text/x-python",
   "name": "python",
   "nbconvert_exporter": "python",
   "pygments_lexer": "ipython3",
   "version": "3.4.4"
  }
 },
 "nbformat": 4,
 "nbformat_minor": 0
}
