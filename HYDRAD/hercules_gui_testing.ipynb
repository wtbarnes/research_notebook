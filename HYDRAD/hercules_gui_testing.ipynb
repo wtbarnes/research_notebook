{
 "cells": [
  {
   "cell_type": "markdown",
   "metadata": {},
   "source": [
    "# `hercules` GUI Testing\n",
    "\n",
    "Testing functionality of IPython widget GUI for configuring HYDRAD runs."
   ]
  },
  {
   "cell_type": "code",
   "execution_count": 1,
   "metadata": {
    "collapsed": true
   },
   "outputs": [],
   "source": [
    "import ipywidgets as widgets\n",
    "from IPython.display import display"
   ]
  },
  {
   "cell_type": "code",
   "execution_count": 31,
   "metadata": {
    "collapsed": false
   },
   "outputs": [],
   "source": [
    "###Initial Conditions Page\n",
    "###Geometrical Properties\n",
    "L = widgets.FloatText(description='Loop length (cm)',value=None,)\n",
    "L.padding = 4\n",
    "fp = widgets.FloatText(description='Foot-point height (cm)',value=None,)\n",
    "fp.padding = 4\n",
    "inc = widgets.FloatText(description='Inclination from vertical (deg.)',value=0)\n",
    "inc.padding = 4\n",
    "page_gp = widgets.Box(children=[L,fp,inc])\n",
    "###Boundary Conditions\n",
    "isot = widgets.Checkbox(description='Isothermal initial conditions')\n",
    "isot.padding = 4\n",
    "fp_temp = widgets.FloatText(description='Foot-point temperature (K)',value=None,)\n",
    "fp_temp.padding = 4\n",
    "fp_density = widgets.FloatText(description='Foot-point density (cm$^{-3}$)',value=None,)\n",
    "fp_density.padding = 4\n",
    "page_bc = widgets.Box(children=[isot,fp_temp,fp_density])\n",
    "page_bc.width\n",
    "###Parameter Space\n",
    "#hl = \n",
    "###Set IC Tabs\n",
    "tabs_ic = widgets.Tab(children=[page_gp,page_bc])\n",
    "tabs_ic.set_title(0,'Geometrical Properties')\n",
    "tabs_ic.set_title(1,'Boundary Conditions')"
   ]
  },
  {
   "cell_type": "code",
   "execution_count": 35,
   "metadata": {
    "collapsed": true
   },
   "outputs": [],
   "source": [
    "###Output\n",
    "ic_path = widgets.Text(description='Initial conditions results path:',value='',)\n",
    "ic_path.padding = 4\n",
    "dur = widgets.FloatText(description='Simulation duration',value=None,)\n",
    "dur.padding = 4\n",
    "output_opts = widgets.SelectMultiple(description='Output data:',\n",
    "                                     options=['Primitive Variables','Ion Populations','Time Scales','Equation terms'])\n",
    "output_opts.padding = 4\n",
    "tab_op = widgets.Box(children=[ic_path,dur,output_opts])"
   ]
  },
  {
   "cell_type": "code",
   "execution_count": 37,
   "metadata": {
    "collapsed": false
   },
   "outputs": [],
   "source": [
    "#Build all tabs\n",
    "top_tabs = widgets.Tab(children=[tabs_ic,tab_op])\n",
    "top_tabs.padding = 4\n",
    "top_tabs.set_title(0,'Initial Conditions')\n",
    "top_tabs.set_title(1,'Output Options')\n",
    "display(top_tabs)"
   ]
  }
 ],
 "metadata": {
  "kernelspec": {
   "display_name": "Python 3",
   "language": "python",
   "name": "python3"
  },
  "language_info": {
   "codemirror_mode": {
    "name": "ipython",
    "version": 3
   },
   "file_extension": ".py",
   "mimetype": "text/x-python",
   "name": "python",
   "nbconvert_exporter": "python",
   "pygments_lexer": "ipython3",
   "version": "3.4.4"
  }
 },
 "nbformat": 4,
 "nbformat_minor": 0
}
