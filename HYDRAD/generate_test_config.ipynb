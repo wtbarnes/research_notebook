{
 "cells": [
  {
   "cell_type": "markdown",
   "metadata": {},
   "source": [
    "# Generate Test Configuration Files\n",
    "Generate some test HYDRAD configuration files for testing new version of HYDRAD"
   ]
  },
  {
   "cell_type": "code",
   "execution_count": 24,
   "metadata": {
    "collapsed": false
   },
   "outputs": [],
   "source": [
    "import os,sys\n",
    "import periodictable\n",
    "import numpy as np\n",
    "import matplotlib.pyplot as plt\n",
    "sys.path.append(os.path.join(os.environ['RESEARCH_DIR'],'boilerplate'))"
   ]
  },
  {
   "cell_type": "code",
   "execution_count": 25,
   "metadata": {
    "collapsed": true
   },
   "outputs": [],
   "source": [
    "import io_handlers as ioh"
   ]
  },
  {
   "cell_type": "markdown",
   "metadata": {},
   "source": [
    "First, configure initial conditions options."
   ]
  },
  {
   "cell_type": "code",
   "execution_count": 26,
   "metadata": {
    "collapsed": true
   },
   "outputs": [],
   "source": [
    "testing_root=os.path.join('/data/datadrive2/HYDRAD_runs/tests')"
   ]
  },
  {
   "cell_type": "code",
   "execution_count": 27,
   "metadata": {
    "collapsed": false
   },
   "outputs": [],
   "source": [
    "ic_config_dict={}\n",
    "#Initial conditions options\n",
    "ic_config_dict['ic_root_output'] = os.path.join(testing_root,'dynamic/ic/timing_test1.initial.amr')\n",
    "ic_config_dict['loop_length_full'] = 9.0e+9\n",
    "ic_config_dict['loop_inclination'] = 0.0\n",
    "ic_config_dict['foot_point_height'] = 5.0e+8\n",
    "ic_config_dict['foot_point_temperature'] = 2.0e+4\n",
    "ic_config_dict['foot_point_density'] = 1e+11\n",
    "ic_config_dict['heating_loc'] = 4.5e+9\n",
    "ic_config_dict['heating_spread'] = 1e+308\n",
    "ic_config_dict['heating_range_lower'] = -8.0\n",
    "ic_config_dict['heating_range_upper'] = 2.0\n",
    "ic_config_dict['search_step_size'] = 0.001\n",
    "ic_config_dict['fine_tune_intervals'] = 10000.0\n",
    "ic_config_dict['isothermal'] = False\n",
    "ic_config_dict['use_power_law_radiative_losses'] = False\n",
    "ic_config_dict['density_dependent_rates'] = False\n",
    "ic_config_dict['optically_thick_radiation'] = False\n",
    "ic_config_dict['use_tabulated_gravity'] = False\n",
    "ic_config_dict['tabulated_gravity_file'] = \"no_file\"\n",
    "ic_config_dict['epsilon'] = 0.01\n",
    "ic_config_dict['adapt'] = True\n",
    "ic_config_dict['min_cells'] = 150\n",
    "ic_config_dict['max_cells'] = 30000\n",
    "ic_config_dict['max_refinement_level'] = 12\n",
    "ic_config_dict['min_ds'] = 1.0\n",
    "ic_config_dict['max_variation'] = 1.10"
   ]
  },
  {
   "cell_type": "code",
   "execution_count": 28,
   "metadata": {
    "collapsed": false
   },
   "outputs": [],
   "source": [
    "#Print to file\n",
    "ic_handler = ioh.OutputHandler(os.path.join(testing_root,'dynamic/config/timing_test1.initial_conditions.cfg.xml'),ic_config_dict)\n",
    "ic_handler.print_to_xml()"
   ]
  },
  {
   "cell_type": "code",
   "execution_count": 29,
   "metadata": {
    "collapsed": false,
    "scrolled": true
   },
   "outputs": [
    {
     "name": "stdout",
     "output_type": "stream",
     "text": [
      "<?xml version=\"1.0\" ?>\n",
      "<root>\n",
      "    <heating_spread>1e+308</heating_spread>\n",
      "    <min_cells>150</min_cells>\n",
      "    <max_cells>30000</max_cells>\n",
      "    <search_step_size>0.001</search_step_size>\n",
      "    <heating_range_upper>2.0</heating_range_upper>\n",
      "    <tabulated_gravity_file>no_file</tabulated_gravity_file>\n",
      "    <loop_length_full>9000000000.0</loop_length_full>\n",
      "    <use_tabulated_gravity>False</use_tabulated_gravity>\n",
      "    <adapt>True</adapt>\n",
      "    <epsilon>0.01</epsilon>\n",
      "    <density_dependent_rates>False</density_dependent_rates>\n",
      "    <max_refinement_level>12</max_refinement_level>\n",
      "    <heating_loc>4500000000.0</heating_loc>\n",
      "    <fine_tune_intervals>10000.0</fine_tune_intervals>\n",
      "    <foot_point_density>100000000000.0</foot_point_density>\n",
      "    <heating_range_lower>-8.0</heating_range_lower>\n",
      "    <ic_root_output>/data/datadrive2/HYDRAD_runs/tests/dynamic/ic/timing_test1.initial.amr</ic_root_output>\n",
      "    <optically_thick_radiation>False</optically_thick_radiation>\n",
      "    <loop_inclination>0.0</loop_inclination>\n",
      "    <min_ds>1.0</min_ds>\n",
      "    <foot_point_temperature>20000.0</foot_point_temperature>\n",
      "    <foot_point_height>500000000.0</foot_point_height>\n",
      "    <use_power_law_radiative_losses>False</use_power_law_radiative_losses>\n",
      "    <isothermal>False</isothermal>\n",
      "    <max_variation>1.1</max_variation>\n",
      "</root>\n",
      "\n"
     ]
    }
   ],
   "source": [
    "ic_handler.display_xml()"
   ]
  },
  {
   "cell_type": "markdown",
   "metadata": {},
   "source": [
    "Now configure the radiation options for both the equilibrium and non-equilibrium cases."
   ]
  },
  {
   "cell_type": "code",
   "execution_count": 30,
   "metadata": {
    "collapsed": true
   },
   "outputs": [],
   "source": [
    "rad_config_dict = {}\n",
    "#Radiation configuration options\n",
    "rad_config_dict['atomicDB'] = os.path.join(os.environ['RESEARCH_DIR'],'apolloDB/')\n",
    "rad_config_dict['rangesFile'] = 'ranges.rng'\n",
    "rad_config_dict['emissivityDir'] = 'chianti_v7/'\n",
    "rad_config_dict['abundanceFile'] = 'asplund.ab'\n",
    "rad_config_dict['rates_balancesDir'] = 'chianti_v7/'\n",
    "rad_config_dict['density_dependent_rates'] = ic_config_dict['density_dependent_rates']\n",
    "rad_config_dict['minimum_collisional_coupling_time_scale'] = 0.01\n",
    "rad_config_dict['max_optically_thin_density'] = 12.0\n",
    "rad_config_dict['safety_atomic'] = 1.0\n",
    "rad_config_dict['cutoff_ion_fraction'] = 1.0e-5\n",
    "rad_config_dict['epsilon_d'] = 0.1\n",
    "rad_config_dict['epsilon_r'] = 1.8649415311920072"
   ]
  },
  {
   "cell_type": "code",
   "execution_count": 31,
   "metadata": {
    "collapsed": true
   },
   "outputs": [],
   "source": [
    "#eq elements\n",
    "el_nums = [1,2,6,7,8,10,11,12,13,14,16,18,20,26,28]\n",
    "tmp=[]\n",
    "for en in el_nums:\n",
    "    tmp.append({'element':{'name':periodictable.elements[en].symbol.lower(),'number':en}})\n",
    "rad_config_dict['elements'] = tmp\n",
    "rad_config_dict['numElements'] = len(el_nums)\n",
    "rad_handler = ioh.OutputHandler(os.path.join(testing_root,'dynamic/config/timing_test1.rad_eq.cfg.xml'),rad_config_dict)\n",
    "rad_handler.print_to_xml()"
   ]
  },
  {
   "cell_type": "code",
   "execution_count": 32,
   "metadata": {
    "collapsed": false,
    "scrolled": true
   },
   "outputs": [
    {
     "name": "stdout",
     "output_type": "stream",
     "text": [
      "<?xml version=\"1.0\" ?>\n",
      "<root>\n",
      "    <rangesFile>ranges.rng</rangesFile>\n",
      "    <epsilon_d>0.1</epsilon_d>\n",
      "    <cutoff_ion_fraction>1e-05</cutoff_ion_fraction>\n",
      "    <minimum_collisional_coupling_time_scale>0.01</minimum_collisional_coupling_time_scale>\n",
      "    <max_optically_thin_density>12.0</max_optically_thin_density>\n",
      "    <abundanceFile>asplund.ab</abundanceFile>\n",
      "    <rates_balancesDir>chianti_v7/</rates_balancesDir>\n",
      "    <safety_atomic>1.0</safety_atomic>\n",
      "    <emissivityDir>chianti_v7/</emissivityDir>\n",
      "    <epsilon_r>1.8649415311920072</epsilon_r>\n",
      "    <density_dependent_rates>False</density_dependent_rates>\n",
      "    <atomicDB>/home/wtb2/Documents/apolloDB/</atomicDB>\n",
      "    <elements>\n",
      "        <element name=\"h\" number=\"1\"/>\n",
      "        <element name=\"he\" number=\"2\"/>\n",
      "        <element name=\"c\" number=\"6\"/>\n",
      "        <element name=\"n\" number=\"7\"/>\n",
      "        <element name=\"o\" number=\"8\"/>\n",
      "        <element name=\"ne\" number=\"10\"/>\n",
      "        <element name=\"na\" number=\"11\"/>\n",
      "        <element name=\"mg\" number=\"12\"/>\n",
      "        <element name=\"al\" number=\"13\"/>\n",
      "        <element name=\"si\" number=\"14\"/>\n",
      "        <element name=\"s\" number=\"16\"/>\n",
      "        <element name=\"ar\" number=\"18\"/>\n",
      "        <element name=\"ca\" number=\"20\"/>\n",
      "        <element name=\"fe\" number=\"26\"/>\n",
      "        <element name=\"ni\" number=\"28\"/>\n",
      "    </elements>\n",
      "    <numElements>15</numElements>\n",
      "</root>\n",
      "\n"
     ]
    }
   ],
   "source": [
    "rad_handler.display_xml()"
   ]
  },
  {
   "cell_type": "code",
   "execution_count": 33,
   "metadata": {
    "collapsed": true
   },
   "outputs": [],
   "source": [
    "#neq elements\n",
    "el_nums = [12,14,20,26]\n",
    "tmp=[]\n",
    "for en in el_nums:\n",
    "    tmp.append({'element':{'name':periodictable.elements[en].symbol.lower(),'number':en}})\n",
    "rad_config_dict['elements'] = tmp\n",
    "rad_config_dict['numElements'] = len(el_nums)\n",
    "rad_handler = ioh.OutputHandler(os.path.join(testing_root,'dynamic/config/timing_test1.rad_neq.cfg.xml'),rad_config_dict)\n",
    "rad_handler.print_to_xml()"
   ]
  },
  {
   "cell_type": "code",
   "execution_count": 34,
   "metadata": {
    "collapsed": false,
    "scrolled": true
   },
   "outputs": [
    {
     "name": "stdout",
     "output_type": "stream",
     "text": [
      "<?xml version=\"1.0\" ?>\n",
      "<root>\n",
      "    <rangesFile>ranges.rng</rangesFile>\n",
      "    <epsilon_d>0.1</epsilon_d>\n",
      "    <cutoff_ion_fraction>1e-05</cutoff_ion_fraction>\n",
      "    <minimum_collisional_coupling_time_scale>0.01</minimum_collisional_coupling_time_scale>\n",
      "    <max_optically_thin_density>12.0</max_optically_thin_density>\n",
      "    <abundanceFile>asplund.ab</abundanceFile>\n",
      "    <rates_balancesDir>chianti_v7/</rates_balancesDir>\n",
      "    <safety_atomic>1.0</safety_atomic>\n",
      "    <emissivityDir>chianti_v7/</emissivityDir>\n",
      "    <epsilon_r>1.8649415311920072</epsilon_r>\n",
      "    <density_dependent_rates>False</density_dependent_rates>\n",
      "    <atomicDB>/home/wtb2/Documents/apolloDB/</atomicDB>\n",
      "    <elements>\n",
      "        <element name=\"mg\" number=\"12\"/>\n",
      "        <element name=\"si\" number=\"14\"/>\n",
      "        <element name=\"ca\" number=\"20\"/>\n",
      "        <element name=\"fe\" number=\"26\"/>\n",
      "    </elements>\n",
      "    <numElements>4</numElements>\n",
      "</root>\n",
      "\n"
     ]
    }
   ],
   "source": [
    "rad_handler.display_xml()"
   ]
  },
  {
   "cell_type": "markdown",
   "metadata": {},
   "source": [
    "Finally, configure the HYDRAD options."
   ]
  },
  {
   "cell_type": "code",
   "execution_count": 35,
   "metadata": {
    "collapsed": false
   },
   "outputs": [],
   "source": [
    "hydrad_config_dict={}\n",
    "#Hydrad configuration options\n",
    "hydrad_config_dict['ic_profiles'] = os.path.join(testing_root,'dynamic/ic/timing_test1.initial.amr')\n",
    "hydrad_config_dict['tabulated_gravity_file'] = os.path.join(testing_root,'dynamic/ic/timing_test1.initial.amr.gravity')\n",
    "hydrad_config_dict['kinetic_sh_table_filename'] = 'none'\n",
    "hydrad_config_dict['duration'] = 5e+3\n",
    "hydrad_config_dict['output_dir'] = os.path.join(testing_root,'dynamic/hydrad/')\n",
    "hydrad_config_dict['file_output_period'] = 10\n",
    "hydrad_config_dict['output_every_n_time_steps'] = 1000\n",
    "hydrad_config_dict['write_file_physical'] = True\n",
    "hydrad_config_dict['write_file_ion_populations'] = True\n",
    "hydrad_config_dict['write_file_terms'] = True\n",
    "hydrad_config_dict['write_file_scales'] = False\n",
    "hydrad_config_dict['heated_species'] = 0\n",
    "hydrad_config_dict['non_equilibrium_radiation'] = True\n",
    "hydrad_config_dict['use_power_law_radiative_losses'] = ic_config_dict['use_power_law_radiative_losses']\n",
    "hydrad_config_dict['decouple_ionisation_state_solver'] = False\n",
    "hydrad_config_dict['density_dependent_rates'] = rad_config_dict['density_dependent_rates']\n",
    "hydrad_config_dict['optically_thick_radiation'] = False\n",
    "hydrad_config_dict['use_kinetic_model'] = False\n",
    "hydrad_config_dict['minimum_collisional_coupling_time_scale'] = rad_config_dict['minimum_collisional_coupling_time_scale']\n",
    "hydrad_config_dict['force_single_fluid'] = False\n",
    "hydrad_config_dict['safety_radiation'] = 1.0\n",
    "hydrad_config_dict['safety_conduction'] = 1.0\n",
    "hydrad_config_dict['safety_advection'] = 1.0\n",
    "hydrad_config_dict['safety_viscosity'] = 1.0\n",
    "hydrad_config_dict['time_step_increase_limit'] = 1.05\n",
    "hydrad_config_dict['numerical_viscosity'] = False\n",
    "hydrad_config_dict['relative_viscous_time_scale'] = 1.0\n",
    "hydrad_config_dict['minimum_radiation_temperature'] = 2.0e+4\n",
    "hydrad_config_dict['zero_over_temperature_interval'] = 5e+2\n",
    "hydrad_config_dict['minimum_temperature'] = 1e+4\n",
    "hydrad_config_dict['adapt'] = True\n",
    "hydrad_config_dict['max_refinement_level'] = 12\n",
    "hydrad_config_dict['min_frac_diff'] = 0.1\n",
    "hydrad_config_dict['max_frac_diff'] = 0.2\n",
    "hydrad_config_dict['refine_on_density'] = True\n",
    "hydrad_config_dict['refine_on_electron_energy'] = True\n",
    "hydrad_config_dict['refine_on_hydrogen_energy'] = False\n",
    "hydrad_config_dict['linear_restriction'] = False\n",
    "hydrad_config_dict['enforce_conservation'] = True\n",
    "#heating\n",
    "tmp=[]\n",
    "tmp.append({'val_heating_file':os.path.join(rad_config_dict['atomicDB'],'OpticallyThick/VAL_atmospheres/VAL.heat')})\n",
    "tmp.append({'duration':100.0})\n",
    "tmp.append({'num_events':1})\n",
    "tmp.append({'bg':{'loc':4.5e+9,'spread':1e+308,'magnitude':1e-5}})\n",
    "tmptmp=[]\n",
    "tmptmp.append({'event':{'loc':4.5e+9,'spread':1e+308,'magnitude':0.2,'rise_start':0.0,'rise_end':50.0,\n",
    "                        'decay_start':50.0,'decay_end':100.0}})\n",
    "tmp.append({'events':tmptmp})\n",
    "hydrad_config_dict['heating'] = tmp"
   ]
  },
  {
   "cell_type": "code",
   "execution_count": 36,
   "metadata": {
    "collapsed": true
   },
   "outputs": [],
   "source": [
    "hydrad_handler = ioh.OutputHandler(os.path.join(testing_root,'dynamic/config/timing_test1.hydrad.cfg.xml'),hydrad_config_dict)\n",
    "hydrad_handler.print_to_xml()"
   ]
  },
  {
   "cell_type": "code",
   "execution_count": 37,
   "metadata": {
    "collapsed": false,
    "scrolled": true
   },
   "outputs": [
    {
     "name": "stdout",
     "output_type": "stream",
     "text": [
      "<?xml version=\"1.0\" ?>\n",
      "<root>\n",
      "    <minimum_collisional_coupling_time_scale>0.01</minimum_collisional_coupling_time_scale>\n",
      "    <zero_over_temperature_interval>500.0</zero_over_temperature_interval>\n",
      "    <write_file_ion_populations>True</write_file_ion_populations>\n",
      "    <optically_thick_radiation>False</optically_thick_radiation>\n",
      "    <write_file_terms>True</write_file_terms>\n",
      "    <numerical_viscosity>False</numerical_viscosity>\n",
      "    <tabulated_gravity_file>/data/datadrive2/HYDRAD_runs/tests/dynamic/ic/timing_test1.initial.amr.gravity</tabulated_gravity_file>\n",
      "    <refine_on_hydrogen_energy>False</refine_on_hydrogen_energy>\n",
      "    <max_frac_diff>0.2</max_frac_diff>\n",
      "    <non_equilibrium_radiation>True</non_equilibrium_radiation>\n",
      "    <refine_on_electron_energy>True</refine_on_electron_energy>\n",
      "    <refine_on_density>True</refine_on_density>\n",
      "    <output_dir>/data/datadrive2/HYDRAD_runs/tests/dynamic/hydrad/</output_dir>\n",
      "    <safety_viscosity>1.0</safety_viscosity>\n",
      "    <decouple_ionisation_state_solver>False</decouple_ionisation_state_solver>\n",
      "    <density_dependent_rates>False</density_dependent_rates>\n",
      "    <max_refinement_level>12</max_refinement_level>\n",
      "    <heated_species>0</heated_species>\n",
      "    <output_every_n_time_steps>1000</output_every_n_time_steps>\n",
      "    <time_step_increase_limit>1.05</time_step_increase_limit>\n",
      "    <minimum_radiation_temperature>20000.0</minimum_radiation_temperature>\n",
      "    <write_file_scales>False</write_file_scales>\n",
      "    <force_single_fluid>False</force_single_fluid>\n",
      "    <safety_conduction>1.0</safety_conduction>\n",
      "    <duration>5000.0</duration>\n",
      "    <safety_radiation>1.0</safety_radiation>\n",
      "    <min_frac_diff>0.1</min_frac_diff>\n",
      "    <minimum_temperature>10000.0</minimum_temperature>\n",
      "    <heating>\n",
      "        <val_heating_file>/home/wtb2/Documents/apolloDB/OpticallyThick/VAL_atmospheres/VAL.heat</val_heating_file>\n",
      "        <duration>100.0</duration>\n",
      "        <num_events>1</num_events>\n",
      "        <bg loc=\"4500000000.0\" magnitude=\"1e-05\" spread=\"1e+308\"/>\n",
      "        <events>\n",
      "            <event decay_end=\"100.0\" decay_start=\"50.0\" loc=\"4500000000.0\" magnitude=\"0.2\" rise_end=\"50.0\" rise_start=\"0.0\" spread=\"1e+308\"/>\n",
      "        </events>\n",
      "    </heating>\n",
      "    <linear_restriction>False</linear_restriction>\n",
      "    <enforce_conservation>True</enforce_conservation>\n",
      "    <ic_profiles>/data/datadrive2/HYDRAD_runs/tests/dynamic/ic/timing_test1.initial.amr</ic_profiles>\n",
      "    <adapt>True</adapt>\n",
      "    <relative_viscous_time_scale>1.0</relative_viscous_time_scale>\n",
      "    <write_file_physical>True</write_file_physical>\n",
      "    <kinetic_sh_table_filename>none</kinetic_sh_table_filename>\n",
      "    <file_output_period>10</file_output_period>\n",
      "    <use_kinetic_model>False</use_kinetic_model>\n",
      "    <use_power_law_radiative_losses>False</use_power_law_radiative_losses>\n",
      "    <safety_advection>1.0</safety_advection>\n",
      "</root>\n",
      "\n"
     ]
    }
   ],
   "source": [
    "hydrad_handler.display_xml()"
   ]
  },
  {
   "cell_type": "markdown",
   "metadata": {},
   "source": [
    "Next, we'll print a config file to test whether our loop can be maintained at equilibrium. All this means is that we'll set our number of events to 0 such that no heating is dumped into the loop and the background heating will be set to the equilibrium value."
   ]
  },
  {
   "cell_type": "code",
   "execution_count": 38,
   "metadata": {
    "collapsed": false
   },
   "outputs": [],
   "source": [
    "hydrad_config_dict['output_dir'] = os.path.join(testing_root,'steady/hydrad/')\n",
    "hydrad_config_dict['heating'][2]={'num_events':0}\n",
    "with open('/data/datadrive2/HYDRAD_runs/tests/dynamic/ic/timing_test1.initial.amr.sol','r') as f:\n",
    "    hydrad_config_dict['heating'][3]['bg']['magnitude']=float(f.readline())"
   ]
  },
  {
   "cell_type": "code",
   "execution_count": 39,
   "metadata": {
    "collapsed": false
   },
   "outputs": [],
   "source": [
    "hydrad_handler_steady = ioh.OutputHandler(os.path.join(testing_root,'steady/config/steady_test1.hydrad.cfg.xml'),\n",
    "                                          hydrad_config_dict)"
   ]
  },
  {
   "cell_type": "code",
   "execution_count": 40,
   "metadata": {
    "collapsed": true
   },
   "outputs": [],
   "source": [
    "hydrad_handler_steady.print_to_xml()"
   ]
  },
  {
   "cell_type": "code",
   "execution_count": 41,
   "metadata": {
    "collapsed": false
   },
   "outputs": [
    {
     "name": "stdout",
     "output_type": "stream",
     "text": [
      "<?xml version=\"1.0\" ?>\n",
      "<root>\n",
      "    <minimum_collisional_coupling_time_scale>0.01</minimum_collisional_coupling_time_scale>\n",
      "    <zero_over_temperature_interval>500.0</zero_over_temperature_interval>\n",
      "    <write_file_ion_populations>True</write_file_ion_populations>\n",
      "    <optically_thick_radiation>False</optically_thick_radiation>\n",
      "    <write_file_terms>True</write_file_terms>\n",
      "    <numerical_viscosity>False</numerical_viscosity>\n",
      "    <tabulated_gravity_file>/data/datadrive2/HYDRAD_runs/tests/dynamic/ic/timing_test1.initial.amr.gravity</tabulated_gravity_file>\n",
      "    <refine_on_hydrogen_energy>False</refine_on_hydrogen_energy>\n",
      "    <max_frac_diff>0.2</max_frac_diff>\n",
      "    <non_equilibrium_radiation>True</non_equilibrium_radiation>\n",
      "    <refine_on_electron_energy>True</refine_on_electron_energy>\n",
      "    <refine_on_density>True</refine_on_density>\n",
      "    <output_dir>/data/datadrive2/HYDRAD_runs/tests/steady/hydrad/</output_dir>\n",
      "    <safety_viscosity>1.0</safety_viscosity>\n",
      "    <decouple_ionisation_state_solver>False</decouple_ionisation_state_solver>\n",
      "    <density_dependent_rates>False</density_dependent_rates>\n",
      "    <max_refinement_level>12</max_refinement_level>\n",
      "    <heated_species>0</heated_species>\n",
      "    <output_every_n_time_steps>1000</output_every_n_time_steps>\n",
      "    <time_step_increase_limit>1.05</time_step_increase_limit>\n",
      "    <minimum_radiation_temperature>20000.0</minimum_radiation_temperature>\n",
      "    <write_file_scales>False</write_file_scales>\n",
      "    <force_single_fluid>False</force_single_fluid>\n",
      "    <safety_conduction>1.0</safety_conduction>\n",
      "    <duration>5000.0</duration>\n",
      "    <safety_radiation>1.0</safety_radiation>\n",
      "    <min_frac_diff>0.1</min_frac_diff>\n",
      "    <minimum_temperature>10000.0</minimum_temperature>\n",
      "    <heating>\n",
      "        <val_heating_file>/home/wtb2/Documents/apolloDB/OpticallyThick/VAL_atmospheres/VAL.heat</val_heating_file>\n",
      "        <duration>100.0</duration>\n",
      "        <num_events>0</num_events>\n",
      "        <bg loc=\"4500000000.0\" magnitude=\"0.00027323176447195126\" spread=\"1e+308\"/>\n",
      "        <events>\n",
      "            <event decay_end=\"100.0\" decay_start=\"50.0\" loc=\"4500000000.0\" magnitude=\"0.2\" rise_end=\"50.0\" rise_start=\"0.0\" spread=\"1e+308\"/>\n",
      "        </events>\n",
      "    </heating>\n",
      "    <linear_restriction>False</linear_restriction>\n",
      "    <enforce_conservation>True</enforce_conservation>\n",
      "    <ic_profiles>/data/datadrive2/HYDRAD_runs/tests/dynamic/ic/timing_test1.initial.amr</ic_profiles>\n",
      "    <adapt>True</adapt>\n",
      "    <relative_viscous_time_scale>1.0</relative_viscous_time_scale>\n",
      "    <write_file_physical>True</write_file_physical>\n",
      "    <kinetic_sh_table_filename>none</kinetic_sh_table_filename>\n",
      "    <file_output_period>10</file_output_period>\n",
      "    <use_kinetic_model>False</use_kinetic_model>\n",
      "    <use_power_law_radiative_losses>False</use_power_law_radiative_losses>\n",
      "    <safety_advection>1.0</safety_advection>\n",
      "</root>\n",
      "\n"
     ]
    }
   ],
   "source": [
    "hydrad_handler_steady.display_xml()"
   ]
  },
  {
   "cell_type": "code",
   "execution_count": null,
   "metadata": {
    "collapsed": true
   },
   "outputs": [],
   "source": []
  }
 ],
 "metadata": {
  "kernelspec": {
   "display_name": "Python [default]",
   "language": "python",
   "name": "python3"
  },
  "language_info": {
   "codemirror_mode": {
    "name": "ipython",
    "version": 3
   },
   "file_extension": ".py",
   "mimetype": "text/x-python",
   "name": "python",
   "nbconvert_exporter": "python",
   "pygments_lexer": "ipython3",
   "version": "3.6.1"
  }
 },
 "nbformat": 4,
 "nbformat_minor": 2
}
