{
 "cells": [
  {
   "cell_type": "markdown",
   "metadata": {},
   "source": [
    "# Reading and Writing Timeseries from FITS Files\n",
    "Here we're going to test how `yt` reads fits files and how easy it is to read/write time series information to and from FITS files."
   ]
  },
  {
   "cell_type": "code",
   "execution_count": 10,
   "metadata": {
    "collapsed": true
   },
   "outputs": [],
   "source": [
    "import os\n",
    "import sys\n",
    "\n",
    "import sunpy.map\n",
    "from sunpy.net import vso\n",
    "from astropy.io import fits\n",
    "import astropy.units as u\n",
    "import numpy as np\n",
    "import yt\n",
    "\n",
    "%matplotlib inline"
   ]
  },
  {
   "cell_type": "markdown",
   "metadata": {},
   "source": [
    "First, grab an SDO image so that we have some sample header file information."
   ]
  },
  {
   "cell_type": "code",
   "execution_count": 8,
   "metadata": {
    "collapsed": false
   },
   "outputs": [
    {
     "name": "stderr",
     "output_type": "stream",
     "text": [
      "Exception ignored in: <bound method FITS_rec.__del__ of FITS_rec([(array([1698,    0], dtype=int32),),\n",
      "       (array([1691, 1698], dtype=int32),),\n",
      "       (array([1659, 3389], dtype=int32),), ...,\n",
      "       (array([   1678, 7392734], dtype=int32),),\n",
      "       (array([   1678, 7394412], dtype=int32),),\n",
      "       (array([   1688, 7396090], dtype=int32),)], \n",
      "      dtype=(numpy.record, [('COMPRESSED_DATA', '>i4', (2,))]))>\n",
      "Traceback (most recent call last):\n",
      "  File \"/opt/anaconda3/lib/python3.4/site-packages/astropy/io/fits/fitsrec.py\", line 640, in __del__\n",
      "    del self._coldefs\n",
      "  File \"/opt/anaconda3/lib/python3.4/site-packages/astropy/io/fits/fitsrec.py\", line 637, in _coldefs\n",
      "    raise AttributeError(exc.args[0])\n",
      "AttributeError: _coldefs\n"
     ]
    }
   ],
   "source": [
    "client = vso.VSOClient()\n",
    "result_aia = client.query(\n",
    "    vso.attrs.Time((2013, 1, 1, 7, 34, 0), (2013, 1, 1, 9, 0, 0)), # Time range.\n",
    "    vso.attrs.Instrument('AIA'),\n",
    "    vso.attrs.Physobs('intensity'), \n",
    "    vso.attrs.Sample(5000 * u.s)    \n",
    ")\n",
    "data_aia = client.get(result_aia, methods=('URL-FILE_Rice', 'URL-FILE')).wait()"
   ]
  },
  {
   "cell_type": "code",
   "execution_count": 165,
   "metadata": {
    "collapsed": false
   },
   "outputs": [
    {
     "name": "stderr",
     "output_type": "stream",
     "text": [
      "Exception ignored in: <bound method FITS_rec.__del__ of FITS_rec([(array([1698,    0], dtype=int32),),\n",
      "       (array([1691, 1698], dtype=int32),),\n",
      "       (array([1659, 3389], dtype=int32),), ...,\n",
      "       (array([   1678, 7392734], dtype=int32),),\n",
      "       (array([   1678, 7394412], dtype=int32),),\n",
      "       (array([   1688, 7396090], dtype=int32),)], \n",
      "      dtype=(numpy.record, [('COMPRESSED_DATA', '>i4', (2,))]))>\n",
      "Traceback (most recent call last):\n",
      "  File \"/opt/anaconda3/lib/python3.4/site-packages/astropy/io/fits/fitsrec.py\", line 640, in __del__\n",
      "    del self._coldefs\n",
      "  File \"/opt/anaconda3/lib/python3.4/site-packages/astropy/io/fits/fitsrec.py\", line 637, in _coldefs\n",
      "    raise AttributeError(exc.args[0])\n",
      "AttributeError: _coldefs\n"
     ]
    }
   ],
   "source": [
    "aia_map = sunpy.map.Map(data_aia[0])"
   ]
  },
  {
   "cell_type": "markdown",
   "metadata": {},
   "source": [
    "Configure a default header. May need some work once we are doing this for real."
   ]
  },
  {
   "cell_type": "code",
   "execution_count": 178,
   "metadata": {
    "collapsed": false
   },
   "outputs": [],
   "source": [
    "template = aia_map.wcs.to_header()"
   ]
  },
  {
   "cell_type": "markdown",
   "metadata": {},
   "source": [
    "Write a series of FITS files so that they can be loaded as a timeseries into `yt`."
   ]
  },
  {
   "cell_type": "code",
   "execution_count": 179,
   "metadata": {
    "code_folding": [],
    "collapsed": false
   },
   "outputs": [],
   "source": [
    "time = np.linspace(0.0,100.0,10)\n",
    "template['bunit'] = 'cts/pixel/s*cm'\n",
    "for t in time:\n",
    "    #set some faux emissivity arrays\n",
    "    a1 = np.random.rand(30,40,50)\n",
    "    a2 = np.random.rand(30,40,50)\n",
    "    a3 = np.random.rand(30,40,50) \n",
    "    #configure fits   \n",
    "    template['time'] = t\n",
    "    #template['NAXIS1'],template['NAXIS2'],template['NAXIS3'] = np.shape(a1)\n",
    "    template['btype'] = 'A1'\n",
    "    hdu1 = fits.PrimaryHDU(a1,header=template)\n",
    "    #template['NAXIS1'],template['NAXIS2'],template['NAXIS3'] = np.shape(a2)\n",
    "    template['btype'] = 'A2'\n",
    "    hdu2 = fits.ImageHDU(a2,header=template)\n",
    "    #template['NAXIS1'],template['NAXIS2'],template['NAXIS3'] = np.shape(a3)\n",
    "    template['btype'] = 'A3'\n",
    "    hdu3 = fits.ImageHDU(a3,header=template)\n",
    "    #write fits file\n",
    "    hdulist = fits.HDUList([hdu1,hdu2,hdu3])\n",
    "    hdulist.writeto('/data/datadrive1/sample_yt_data/example_fits_tests/fits_test_{}.fits'.format(list(time).index(t)))"
   ]
  },
  {
   "cell_type": "code",
   "execution_count": 180,
   "metadata": {
    "collapsed": false
   },
   "outputs": [],
   "source": [
    "ts = yt.load('/data/datadrive1/sample_yt_data/example_fits_tests/fits_test_*.fits')"
   ]
  },
  {
   "cell_type": "markdown",
   "metadata": {},
   "source": [
    "Have to set the time manually though it can be stored in the header so not the end of the world."
   ]
  },
  {
   "cell_type": "code",
   "execution_count": 188,
   "metadata": {
    "collapsed": false,
    "scrolled": true
   },
   "outputs": [
    {
     "name": "stderr",
     "output_type": "stream",
     "text": [
      "yt : [WARNING  ] 2016-10-20 13:18:39,754 Cannot find time\n",
      "yt : [WARNING  ] 2016-10-20 13:18:39,759 No length conversion provided. Assuming 1 = 1 cm.\n",
      "yt : [INFO     ] 2016-10-20 13:18:39,763 Parameters: current_time              = 0.0\n",
      "yt : [INFO     ] 2016-10-20 13:18:39,764 Parameters: domain_dimensions         = [50 40 30]\n",
      "yt : [INFO     ] 2016-10-20 13:18:39,765 Parameters: domain_left_edge          = [ 0.5  0.5  0.5]\n",
      "yt : [INFO     ] 2016-10-20 13:18:39,766 Parameters: domain_right_edge         = [ 50.5  40.5  30.5]\n",
      "yt : [INFO     ] 2016-10-20 13:18:39,767 Parameters: cosmological_simulation   = 0.0\n",
      "yt : [WARNING  ] 2016-10-20 13:18:39,781 Cannot find time\n",
      "yt : [WARNING  ] 2016-10-20 13:18:39,786 No length conversion provided. Assuming 1 = 1 cm.\n",
      "yt : [INFO     ] 2016-10-20 13:18:39,790 Parameters: current_time              = 0.0\n",
      "yt : [INFO     ] 2016-10-20 13:18:39,791 Parameters: domain_dimensions         = [50 40 30]\n",
      "yt : [INFO     ] 2016-10-20 13:18:39,792 Parameters: domain_left_edge          = [ 0.5  0.5  0.5]\n",
      "yt : [INFO     ] 2016-10-20 13:18:39,793 Parameters: domain_right_edge         = [ 50.5  40.5  30.5]\n",
      "yt : [INFO     ] 2016-10-20 13:18:39,795 Parameters: cosmological_simulation   = 0.0\n",
      "yt : [WARNING  ] 2016-10-20 13:18:39,811 Cannot find time\n",
      "yt : [WARNING  ] 2016-10-20 13:18:39,816 No length conversion provided. Assuming 1 = 1 cm.\n",
      "yt : [INFO     ] 2016-10-20 13:18:39,820 Parameters: current_time              = 0.0\n",
      "yt : [INFO     ] 2016-10-20 13:18:39,820 Parameters: domain_dimensions         = [50 40 30]\n",
      "yt : [INFO     ] 2016-10-20 13:18:39,821 Parameters: domain_left_edge          = [ 0.5  0.5  0.5]\n",
      "yt : [INFO     ] 2016-10-20 13:18:39,823 Parameters: domain_right_edge         = [ 50.5  40.5  30.5]\n",
      "yt : [INFO     ] 2016-10-20 13:18:39,824 Parameters: cosmological_simulation   = 0.0\n",
      "yt : [WARNING  ] 2016-10-20 13:18:39,839 Cannot find time\n",
      "yt : [WARNING  ] 2016-10-20 13:18:39,844 No length conversion provided. Assuming 1 = 1 cm.\n",
      "yt : [INFO     ] 2016-10-20 13:18:39,849 Parameters: current_time              = 0.0\n",
      "yt : [INFO     ] 2016-10-20 13:18:39,849 Parameters: domain_dimensions         = [50 40 30]\n",
      "yt : [INFO     ] 2016-10-20 13:18:39,850 Parameters: domain_left_edge          = [ 0.5  0.5  0.5]\n",
      "yt : [INFO     ] 2016-10-20 13:18:39,851 Parameters: domain_right_edge         = [ 50.5  40.5  30.5]\n",
      "yt : [INFO     ] 2016-10-20 13:18:39,852 Parameters: cosmological_simulation   = 0.0\n",
      "yt : [WARNING  ] 2016-10-20 13:18:39,866 Cannot find time\n",
      "yt : [WARNING  ] 2016-10-20 13:18:39,872 No length conversion provided. Assuming 1 = 1 cm.\n",
      "yt : [INFO     ] 2016-10-20 13:18:39,876 Parameters: current_time              = 0.0\n",
      "yt : [INFO     ] 2016-10-20 13:18:39,877 Parameters: domain_dimensions         = [50 40 30]\n",
      "yt : [INFO     ] 2016-10-20 13:18:39,878 Parameters: domain_left_edge          = [ 0.5  0.5  0.5]\n",
      "yt : [INFO     ] 2016-10-20 13:18:39,880 Parameters: domain_right_edge         = [ 50.5  40.5  30.5]\n",
      "yt : [INFO     ] 2016-10-20 13:18:39,881 Parameters: cosmological_simulation   = 0.0\n",
      "yt : [WARNING  ] 2016-10-20 13:18:39,896 Cannot find time\n",
      "yt : [WARNING  ] 2016-10-20 13:18:39,901 No length conversion provided. Assuming 1 = 1 cm.\n",
      "yt : [INFO     ] 2016-10-20 13:18:39,905 Parameters: current_time              = 0.0\n",
      "yt : [INFO     ] 2016-10-20 13:18:39,905 Parameters: domain_dimensions         = [50 40 30]\n",
      "yt : [INFO     ] 2016-10-20 13:18:39,907 Parameters: domain_left_edge          = [ 0.5  0.5  0.5]\n",
      "yt : [INFO     ] 2016-10-20 13:18:39,908 Parameters: domain_right_edge         = [ 50.5  40.5  30.5]\n",
      "yt : [INFO     ] 2016-10-20 13:18:39,909 Parameters: cosmological_simulation   = 0.0\n",
      "yt : [WARNING  ] 2016-10-20 13:18:39,921 Cannot find time\n",
      "yt : [WARNING  ] 2016-10-20 13:18:39,927 No length conversion provided. Assuming 1 = 1 cm.\n",
      "yt : [INFO     ] 2016-10-20 13:18:39,931 Parameters: current_time              = 0.0\n",
      "yt : [INFO     ] 2016-10-20 13:18:39,931 Parameters: domain_dimensions         = [50 40 30]\n",
      "yt : [INFO     ] 2016-10-20 13:18:39,932 Parameters: domain_left_edge          = [ 0.5  0.5  0.5]\n",
      "yt : [INFO     ] 2016-10-20 13:18:39,933 Parameters: domain_right_edge         = [ 50.5  40.5  30.5]\n",
      "yt : [INFO     ] 2016-10-20 13:18:39,934 Parameters: cosmological_simulation   = 0.0\n",
      "yt : [WARNING  ] 2016-10-20 13:18:39,946 Cannot find time\n",
      "yt : [WARNING  ] 2016-10-20 13:18:39,955 No length conversion provided. Assuming 1 = 1 cm.\n",
      "yt : [INFO     ] 2016-10-20 13:18:39,960 Parameters: current_time              = 0.0\n",
      "yt : [INFO     ] 2016-10-20 13:18:39,961 Parameters: domain_dimensions         = [50 40 30]\n",
      "yt : [INFO     ] 2016-10-20 13:18:39,963 Parameters: domain_left_edge          = [ 0.5  0.5  0.5]\n",
      "yt : [INFO     ] 2016-10-20 13:18:39,964 Parameters: domain_right_edge         = [ 50.5  40.5  30.5]\n",
      "yt : [INFO     ] 2016-10-20 13:18:39,965 Parameters: cosmological_simulation   = 0.0\n",
      "yt : [WARNING  ] 2016-10-20 13:18:39,982 Cannot find time\n",
      "yt : [WARNING  ] 2016-10-20 13:18:39,988 No length conversion provided. Assuming 1 = 1 cm.\n",
      "yt : [INFO     ] 2016-10-20 13:18:39,992 Parameters: current_time              = 0.0\n",
      "yt : [INFO     ] 2016-10-20 13:18:39,993 Parameters: domain_dimensions         = [50 40 30]\n",
      "yt : [INFO     ] 2016-10-20 13:18:39,994 Parameters: domain_left_edge          = [ 0.5  0.5  0.5]\n",
      "yt : [INFO     ] 2016-10-20 13:18:39,995 Parameters: domain_right_edge         = [ 50.5  40.5  30.5]\n",
      "yt : [INFO     ] 2016-10-20 13:18:39,996 Parameters: cosmological_simulation   = 0.0\n",
      "yt : [WARNING  ] 2016-10-20 13:18:40,009 Cannot find time\n",
      "yt : [WARNING  ] 2016-10-20 13:18:40,016 No length conversion provided. Assuming 1 = 1 cm.\n",
      "yt : [INFO     ] 2016-10-20 13:18:40,020 Parameters: current_time              = 0.0\n",
      "yt : [INFO     ] 2016-10-20 13:18:40,020 Parameters: domain_dimensions         = [50 40 30]\n",
      "yt : [INFO     ] 2016-10-20 13:18:40,021 Parameters: domain_left_edge          = [ 0.5  0.5  0.5]\n",
      "yt : [INFO     ] 2016-10-20 13:18:40,022 Parameters: domain_right_edge         = [ 50.5  40.5  30.5]\n",
      "yt : [INFO     ] 2016-10-20 13:18:40,023 Parameters: cosmological_simulation   = 0.0\n"
     ]
    }
   ],
   "source": [
    "for ds in ts:\n",
    "    ds.current_time = ds.primary_header['time']"
   ]
  },
  {
   "cell_type": "code",
   "execution_count": 189,
   "metadata": {
    "collapsed": false
   },
   "outputs": [
    {
     "name": "stderr",
     "output_type": "stream",
     "text": [
      "yt : [WARNING  ] 2016-10-20 13:18:47,726 Cannot find time\n",
      "yt : [WARNING  ] 2016-10-20 13:18:47,733 No length conversion provided. Assuming 1 = 1 cm.\n",
      "yt : [INFO     ] 2016-10-20 13:18:47,739 Parameters: current_time              = 0.0\n",
      "yt : [INFO     ] 2016-10-20 13:18:47,740 Parameters: domain_dimensions         = [50 40 30]\n",
      "yt : [INFO     ] 2016-10-20 13:18:47,741 Parameters: domain_left_edge          = [ 0.5  0.5  0.5]\n",
      "yt : [INFO     ] 2016-10-20 13:18:47,743 Parameters: domain_right_edge         = [ 50.5  40.5  30.5]\n",
      "yt : [INFO     ] 2016-10-20 13:18:47,744 Parameters: cosmological_simulation   = 0.0\n"
     ]
    },
    {
     "ename": "ReferenceError",
     "evalue": "weakly-referenced object no longer exists",
     "output_type": "error",
     "traceback": [
      "\u001b[0;31m---------------------------------------------------------------------------\u001b[0m",
      "\u001b[0;31mReferenceError\u001b[0m                            Traceback (most recent call last)",
      "\u001b[0;32m<ipython-input-189-a9fd1b09a2e4>\u001b[0m in \u001b[0;36m<module>\u001b[0;34m()\u001b[0m\n\u001b[1;32m      1\u001b[0m \u001b[0;31m#yt.SlicePlot(ts[9],'z','A2')\u001b[0m\u001b[0;34m\u001b[0m\u001b[0;34m\u001b[0m\u001b[0m\n\u001b[0;32m----> 2\u001b[0;31m \u001b[0myt\u001b[0m\u001b[0;34m.\u001b[0m\u001b[0mPhasePlot\u001b[0m\u001b[0;34m(\u001b[0m\u001b[0mts\u001b[0m\u001b[0;34m[\u001b[0m\u001b[0;36m9\u001b[0m\u001b[0;34m]\u001b[0m\u001b[0;34m.\u001b[0m\u001b[0mall_data\u001b[0m\u001b[0;34m(\u001b[0m\u001b[0;34m)\u001b[0m\u001b[0;34m,\u001b[0m\u001b[0;34m'A1'\u001b[0m\u001b[0;34m,\u001b[0m\u001b[0;34m'A2'\u001b[0m\u001b[0;34m,\u001b[0m\u001b[0;34m'A3'\u001b[0m\u001b[0;34m)\u001b[0m\u001b[0;34m\u001b[0m\u001b[0m\n\u001b[0m",
      "\u001b[0;32m/opt/anaconda3/lib/python3.4/site-packages/yt/visualization/profile_plotter.py\u001b[0m in \u001b[0;36m__init__\u001b[0;34m(self, data_source, x_field, y_field, z_fields, weight_field, x_bins, y_bins, accumulation, fractional, fontsize, figure_size)\u001b[0m\n\u001b[1;32m    743\u001b[0m                  fontsize=18, figure_size=8.0):\n\u001b[1;32m    744\u001b[0m \u001b[0;34m\u001b[0m\u001b[0m\n\u001b[0;32m--> 745\u001b[0;31m         \u001b[0;32mif\u001b[0m \u001b[0misinstance\u001b[0m\u001b[0;34m(\u001b[0m\u001b[0mdata_source\u001b[0m\u001b[0;34m.\u001b[0m\u001b[0mds\u001b[0m\u001b[0;34m,\u001b[0m \u001b[0mYTProfileDataset\u001b[0m\u001b[0;34m)\u001b[0m\u001b[0;34m:\u001b[0m\u001b[0;34m\u001b[0m\u001b[0m\n\u001b[0m\u001b[1;32m    746\u001b[0m             \u001b[0mprofile\u001b[0m \u001b[0;34m=\u001b[0m \u001b[0mdata_source\u001b[0m\u001b[0;34m.\u001b[0m\u001b[0mds\u001b[0m\u001b[0;34m.\u001b[0m\u001b[0mprofile\u001b[0m\u001b[0;34m\u001b[0m\u001b[0m\n\u001b[1;32m    747\u001b[0m         \u001b[0;32melse\u001b[0m\u001b[0;34m:\u001b[0m\u001b[0;34m\u001b[0m\u001b[0m\n",
      "\u001b[0;31mReferenceError\u001b[0m: weakly-referenced object no longer exists"
     ]
    }
   ],
   "source": [
    "#yt.SlicePlot(ts[9],'z','A2')\n",
    "yt.PhasePlot(ts[9].all_data(),'A1','A2','A3')"
   ]
  },
  {
   "cell_type": "code",
   "execution_count": null,
   "metadata": {
    "collapsed": true
   },
   "outputs": [],
   "source": []
  }
 ],
 "metadata": {
  "anaconda-cloud": {},
  "kernelspec": {
   "display_name": "Python [default]",
   "language": "python",
   "name": "python3"
  },
  "language_info": {
   "codemirror_mode": {
    "name": "ipython",
    "version": 3
   },
   "file_extension": ".py",
   "mimetype": "text/x-python",
   "name": "python",
   "nbconvert_exporter": "python",
   "pygments_lexer": "ipython3",
   "version": "3.4.5"
  }
 },
 "nbformat": 4,
 "nbformat_minor": 1
}
