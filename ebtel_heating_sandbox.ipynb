{
 "cells": [
  {
   "cell_type": "code",
   "execution_count": 1,
   "metadata": {
    "collapsed": true
   },
   "outputs": [],
   "source": [
    "%matplotlib inline\n",
    "import matplotlib.pyplot as plt\n",
    "import numpy as np"
   ]
  },
  {
   "cell_type": "markdown",
   "metadata": {},
   "source": [
    "#EBTEL Heating Sandbox"
   ]
  },
  {
   "cell_type": "markdown",
   "metadata": {},
   "source": [
    "Here, I'm testing whether specifying the range of my power-law distribution allows me to properly constrain the time-averaged heating rate $H_n$."
   ]
  },
  {
   "cell_type": "code",
   "execution_count": 2,
   "metadata": {
    "collapsed": true
   },
   "outputs": [],
   "source": [
    "#specify constants\n",
    "tau = 100.0\n",
    "loop_length = 20.0e+8\n",
    "area = 1.0e+14\n",
    "tpeak = 4.0e+6\n",
    "total_time = 8.0e+4\n",
    "delta = 10.0\n",
    "const = {'tau':tau,'loop_length':loop_length,'area':area,'tpeak':tpeak,'total_time':total_time,'delta':delta}\n",
    "#additional parameters\n",
    "alpha = -1.5\n",
    "t_wait = np.arange(250,5250,250)"
   ]
  },
  {
   "cell_type": "code",
   "execution_count": 3,
   "metadata": {
    "collapsed": true
   },
   "outputs": [],
   "source": [
    "#some functions\n",
    "def pl_dist(a0,a1,alpha,x):\n",
    "    return ((a1**(alpha+1) - a0**(alpha+1))*x + a0**(alpha+1))**(1/(alpha+1))\n",
    "def time_averaged_heating_rate(L,tpeak):\n",
    "    kappa = 1.0e-6\n",
    "    return kappa*tpeak**(3.5)/L**2\n",
    "def mean_energy(const,tn):\n",
    "    hn = time_averaged_heating_rate(const['loop_length'],const['tpeak'])\n",
    "    return 2.0*hn*const['loop_length']*const['area']*(const['tau'] + tn)\n",
    "def min_energy(qmean,delta):\n",
    "    return qmean*2.0/(delta-1.0) "
   ]
  },
  {
   "cell_type": "markdown",
   "metadata": {},
   "source": [
    "Now, for each value of $T_n$, construct a distribution whose bounds are specified such that $H_n$ is constant across $T_n$ and specified such that enough energy is being dumped in to maintain a peak temperature $T_{\\mathrm{peak}}$."
   ]
  },
  {
   "cell_type": "code",
   "execution_count": 4,
   "metadata": {
    "collapsed": false
   },
   "outputs": [],
   "source": [
    "wait_time_distributions = []\n",
    "for tw in t_wait:\n",
    "    #calculate number of events\n",
    "    n = int(np.ceil(const['total_time']/(const['tau'] + tw)))\n",
    "    #calculate bounds\n",
    "    a0 = min_energy(mean_energy(const,tw),const['delta'])/(const['loop_length']*const['area']*const['tau'])\n",
    "    a1 = a0*const['delta']\n",
    "    #calculate the distribution\n",
    "    wait_time_distributions.append(pl_dist(a0,a1,alpha,np.random.rand(n)))"
   ]
  },
  {
   "cell_type": "markdown",
   "metadata": {},
   "source": [
    "Let's check what the time-averaged heating rate should be for our specified conditions in order to keep our plasma at an equilibrium temperature of $T_{\\mathrm{peak}}$ and then plot the resulting values for our distributions constructed according to our constraint on $Q_{\\mathrm{min}}$."
   ]
  },
  {
   "cell_type": "code",
   "execution_count": 5,
   "metadata": {
    "collapsed": false
   },
   "outputs": [
    {
     "name": "stdout",
     "output_type": "stream",
     "text": [
      "The time-averaged heating rate for L=20.0 Mm and T_peak=4.0 MK is 0.03200\n"
     ]
    }
   ],
   "source": [
    "hn_target = time_averaged_heating_rate(const['loop_length'],const['tpeak'])\n",
    "print \"The time-averaged heating rate for L=%.1f Mm and T_peak=%.1f MK is %.5f\"%(const['loop_length']/1.0e+8,const['tpeak']/1.0e+6,hn_target)"
   ]
  },
  {
   "cell_type": "code",
   "execution_count": 6,
   "metadata": {
    "collapsed": false
   },
   "outputs": [
    {
     "data": {
      "image/png": "[encoded data removed]",
      "text/plain": [
       "<matplotlib.figure.Figure at 0x104e74d10>"
      ]
     },
     "metadata": {},
     "output_type": "display_data"
    }
   ],
   "source": [
    "fig = plt.figure(figsize=(10,10))\n",
    "ax = fig.gca()\n",
    "error_axis = ax.twinx()\n",
    "for i in range(len(t_wait)):\n",
    "    hn_tw = const['tau']/2.0*np.sum(wait_time_distributions[i])/const['total_time']\n",
    "    ax.plot(t_wait[i],hn_tw,'bo')\n",
    "    error_axis.plot(t_wait[i],np.fabs(hn_tw - hn_target)/np.fabs(hn_tw + hn_target),'ro')\n",
    "ax.axhline(y=time_averaged_heating_rate(const['loop_length'],const['tpeak']),color='k',linestyle='--')\n",
    "ax.set_xlabel(r'$T_N$',fontsize=22)\n",
    "ax.set_ylabel(r'$H_n$',fontsize=22)\n",
    "error_axis.set_ylabel(r'$\\epsilon$',fontsize=22)\n",
    "ax.set_ylim([0.0001,1.0])\n",
    "error_axis.set_ylim([0,1])\n",
    "ax.set_yscale('log')\n",
    "plt.show()"
   ]
  },
  {
   "cell_type": "markdown",
   "metadata": {},
   "source": [
    "Let's compare this to the case where we dont' attempt to constrain the heating at all."
   ]
  },
  {
   "cell_type": "code",
   "execution_count": 7,
   "metadata": {
    "collapsed": true
   },
   "outputs": [],
   "source": [
    "wait_time_distributions_no_constraint= []\n",
    "for tw in t_wait:\n",
    "    #calculate number of events\n",
    "    n = int(np.ceil(const['total_time']/(const['tau'] + tw)))\n",
    "    #calculate bounds\n",
    "    a0 = 1.0e+23/(const['loop_length']*const['area']*const['tau'])\n",
    "    a1 = a0*const['delta']\n",
    "    #calculate the distribution\n",
    "    wait_time_distributions_no_constraint.append(pl_dist(a0,a1,alpha,np.random.rand(n)))"
   ]
  },
  {
   "cell_type": "code",
   "execution_count": 8,
   "metadata": {
    "collapsed": false
   },
   "outputs": [
    {
     "data": {
      "image/png": "[encoded data removed]",
      "text/plain": [
       "<matplotlib.figure.Figure at 0x104e63250>"
      ]
     },
     "metadata": {},
     "output_type": "display_data"
    }
   ],
   "source": [
    "fig = plt.figure(figsize=(10,10))\n",
    "ax = fig.gca()\n",
    "error_axis = ax.twinx()\n",
    "for i in range(len(t_wait)):\n",
    "    hn_tw = const['tau']/2.0*np.sum(wait_time_distributions_no_constraint[i])/const['total_time']\n",
    "    ax.plot(t_wait[i],hn_tw,'bo')\n",
    "    error_axis.plot(t_wait[i],np.fabs(hn_tw - hn_target)/np.fabs(hn_tw + hn_target),'ro')\n",
    "ax.axhline(y=hn_target,color='k',linestyle='--')\n",
    "ax.set_xlabel(r'$T_N$',fontsize=22)\n",
    "ax.set_ylabel(r'$H_n$',fontsize=22)\n",
    "error_axis.set_ylabel(r'$\\epsilon$',fontsize=22)\n",
    "ax.set_ylim([0.0001,1.0])\n",
    "error_axis.set_ylim([0,1])\n",
    "ax.set_yscale('log')\n",
    "plt.show()"
   ]
  },
  {
   "cell_type": "markdown",
   "metadata": {},
   "source": [
    "Obviously, the case where we attempt to constrain the range of our distribution yields much better results in terms of consistency across our range of $T_N$ values as well as matching our target $H_n$ value as compared to our current method which makes no attempt to maintain constant time-averaged heating rate. However, even in the case of varying $Q_{\\mathrm{min}}$, we can see that we are still off target by a factor of 2-3 in some cases. This is most likely due to our poor estimate of $Q_{\\mathrm{min}}$."
   ]
  },
  {
   "cell_type": "markdown",
   "metadata": {},
   "source": [
    "##Improved Estimates of $Q_{\\mathrm{min}}$"
   ]
  },
  {
   "cell_type": "markdown",
   "metadata": {},
   "source": [
    "Recall that we can calculate the mean of our power-law distribution even for $\\alpha\\le2$ using a Monte-Carlo approach provided we specify the bounds $a,b$. Thus, we want to find $a$ (with $b=\\delta a$) such that $$\\langle Q\\rangle - \\frac{a(\\delta - 1)}{\\mathcal{N}}\\sum_{i=1}^{\\mathcal{N}}x_ip(x_i)=0$$where $\\langle Q\\rangle$ is the mean energy per nanoflare as specified by $H_n$ and $T_N$, $\\mathcal{N}$ is the number of points uniformly distributed on $x_i\\in[a,\\delta a]$, and $p(x)$ is our power-law relation. \n",
    "\n",
    "By coming up with a value $a$ which satisfies this relation, we will have an improved calculation of $Q_{\\mathrm{min}}$ and thus better constrain $H_i$ such that the $H_n=\\tau/2\\sum_{i=1}^NH_i/T_{\\mathrm{total}}$."
   ]
  },
  {
   "cell_type": "code",
   "execution_count": 9,
   "metadata": {
    "collapsed": true
   },
   "outputs": [],
   "source": [
    "#monte-carlo integrator function\n",
    "def monte_carlo_integrator(N,f,**kwargs):\n",
    "    #generate points in the given range\n",
    "    np.random.seed()\n",
    "    points = (kwargs['b'] - kwargs['a'])*np.random.rand(N) + kwargs['a']\n",
    "    \n",
    "    #calculate the average\n",
    "    f_sum = 0.0\n",
    "    for p in points:\n",
    "        f_sum = f_sum + f(p,**kwargs)\n",
    "    f_mean = f_sum/N\n",
    "    \n",
    "    #return total answer\n",
    "    return (kwargs['b'] - kwargs['a'])*f_mean\n",
    "#power-law mean function\n",
    "def pl_mean(x,**kwargs):\n",
    "    #define coefficient\n",
    "    C = (1.0 - kwargs['alpha'])/(kwargs['b']**(1.0-kwargs['alpha']) - kwargs['a']**(1.0-kwargs['alpha']))\n",
    "    #define power-law function\n",
    "    f = C*x**(-kwargs['alpha'])\n",
    "    #return the mean integrand\n",
    "    return x*f"
   ]
  },
  {
   "cell_type": "markdown",
   "metadata": {},
   "source": [
    "Define the function that we are trying to find the zero of."
   ]
  },
  {
   "cell_type": "code",
   "execution_count": 44,
   "metadata": {
    "collapsed": true
   },
   "outputs": [],
   "source": [
    "#function to which we will apply bisection or root finder method\n",
    "def f_zero(a,**kwargs):\n",
    "    #define dictionary\n",
    "    const = kwargs['const']\n",
    "    #get target mean value\n",
    "    q_mean = mean_energy(const,kwargs['tn'])/(const['loop_length']*const['area']*const['tau'])\n",
    "    #set up monte-carlo function\n",
    "    mc_mean = monte_carlo_integrator(kwargs['n_mc'],pl_mean,a=a,b=const['delta']*a,alpha=kwargs['alpha'])\n",
    "    return q_mean - mc_mean"
   ]
  },
  {
   "cell_type": "markdown",
   "metadata": {},
   "source": [
    "Now, define the bisection method."
   ]
  },
  {
   "cell_type": "code",
   "execution_count": 45,
   "metadata": {
    "collapsed": true
   },
   "outputs": [],
   "source": [
    "def bisection(a,b,f,options,**kwargs):\n",
    "    \"\"\"Bisection method for interval (a,b) as applied to a monotonically increasing (or decreasing) function f on (a,b)\"\"\"\n",
    "    \n",
    "    #First guess for root value\n",
    "    c = a + (b - a)/2\n",
    "    \n",
    "    #Evaluate function at first guess\n",
    "    f_guess = f(c,**kwargs)\n",
    "    \n",
    "    #Initialize the counter\n",
    "    count = 0\n",
    "    \n",
    "    #Initialize lists of endpoints and roots\n",
    "    a_list = [a]\n",
    "    b_list = [b]\n",
    "    c_list = [c]\n",
    "    \n",
    "    #Begin iteration\n",
    "    while(count<options['max_count'] and np.fabs(f_guess)>options['tol']):\n",
    "        #Output iteration and endpoints\n",
    "        print \"Iteration %d, Endpoints (%e,%e)\"%(count,a,b)\n",
    "        print \"f(%.3e) = %.3e\"%(c,f_guess)\n",
    "        \n",
    "        #Check relative sign\n",
    "        if f_guess*f(a,**kwargs)>0:\n",
    "            #advance left endpoint\n",
    "            a=c\n",
    "        elif f_guess*f(a,**kwargs)<0:\n",
    "            #advance right endpoint\n",
    "            b=c\n",
    "        else:\n",
    "            #case where f(c)==0\n",
    "            print \"f(c) == 0 exactly. Breaking out of loop.\"\n",
    "            break\n",
    "            \n",
    "        #update root value guess\n",
    "        c = a + (b-a)/2\n",
    "        \n",
    "        #evaluate function at current guess\n",
    "        f_guess = f(c,**kwargs)\n",
    "        \n",
    "        #save a,b,c values\n",
    "        a_list.append(a)\n",
    "        b_list.append(b)\n",
    "        c_list.append(c)\n",
    "        \n",
    "        #update the counter\n",
    "        count = count + 1\n",
    "        \n",
    "    #check to see whether we succeded\n",
    "    if count < options['max_count'] or np.fabs(f_guess) < options['tol']:\n",
    "        #print final zero approximation\n",
    "        print \"Value of the function at approximate zero is f(c=%f)=%f\"%(c,f_guess)\n",
    "    \n",
    "        #return lists of a,b,c\n",
    "        return a_list,b_list,c_list\n",
    "    else:\n",
    "        #tell the user that the bisection failed\n",
    "        print \"Unable to perform bisection with max number of tries = %d and error tolerance %.4f\"%(options['max_count'],options['tol'])"
   ]
  },
  {
   "cell_type": "markdown",
   "metadata": {},
   "source": [
    "To make an estimation of our bounds for the bisection method, we need to find the value of $a$ that minimizes the $|\\langle Q\\rangle - \\langle Q\\rangle_{\\mathrm{MC}}|$. For each waiting time $T_N$, we will calculate our target mean event energy, $\\langle Q\\rangle$, and then apply the bisection method to find the needed $Q_{\\mathrm{min}}$. Then a distribution is constructed and an actual value of $H_n$ is found which can be compared to our target value needed to keep our loop at an equilibrium temperature of $T_{\\mathrm{peak}}$."
   ]
  },
  {
   "cell_type": "code",
   "execution_count": 49,
   "metadata": {
    "collapsed": false,
    "scrolled": true
   },
   "outputs": [
    {
     "name": "stdout",
     "output_type": "stream",
     "text": [
      "Iteration 0, Endpoints (1.493333e-02,5.475556e-02)\n",
      "f(3.484e-02) = -2.546e-02\n",
      "Iteration 1, Endpoints (1.493333e-02,3.484444e-02)\n",
      "f(2.489e-02) = 4.566e-02\n",
      "Value of the function at approximate zero is f(c=0.029867)=0.009864\n",
      "Iteration 0, Endpoints (2.560000e-02,9.386667e-02)\n",
      "f(5.973e-02) = -4.487e-02\n",
      "Iteration 1, Endpoints (2.560000e-02,5.973333e-02)\n",
      "f(4.267e-02) = 7.866e-02\n",
      "Iteration 2, Endpoints (4.266667e-02,5.973333e-02)\n",
      "f(5.120e-02) = 1.734e-02\n",
      "Iteration 3, Endpoints (5.120000e-02,5.973333e-02)\n",
      "f(5.547e-02) = -1.282e-02\n",
      "Value of the function at approximate zero is f(c=0.053333)=0.001813\n",
      "Iteration 0, Endpoints (3.626667e-02,1.329778e-01)\n",
      "f(8.462e-02) = -6.196e-02\n",
      "Iteration 1, Endpoints (3.626667e-02,8.462222e-02)\n",
      "f(6.044e-02) = 1.108e-01\n",
      "Iteration 2, Endpoints (6.044444e-02,8.462222e-02)\n",
      "f(7.253e-02) = 2.429e-02\n",
      "Iteration 3, Endpoints (7.253333e-02,8.462222e-02)\n",
      "f(7.858e-02) = -1.881e-02\n",
      "Value of the function at approximate zero is f(c=0.075556)=0.003417\n",
      "Iteration 0, Endpoints (4.693333e-02,1.720889e-01)\n",
      "f(1.095e-01) = -7.993e-02\n",
      "Iteration 1, Endpoints (4.693333e-02,1.095111e-01)\n",
      "f(7.822e-02) = 1.439e-01\n",
      "Iteration 2, Endpoints (7.822222e-02,1.095111e-01)\n",
      "f(9.387e-02) = 3.190e-02\n",
      "Iteration 3, Endpoints (9.386667e-02,1.095111e-01)\n",
      "f(1.017e-01) = -2.426e-02\n",
      "Value of the function at approximate zero is f(c=0.097778)=0.002555\n",
      "Iteration 0, Endpoints (5.760000e-02,2.112000e-01)\n",
      "f(1.344e-01) = -9.884e-02\n",
      "Iteration 1, Endpoints (5.760000e-02,1.344000e-01)\n",
      "f(9.600e-02) = 1.765e-01\n",
      "Iteration 2, Endpoints (9.600000e-02,1.344000e-01)\n",
      "f(1.152e-01) = 3.959e-02\n",
      "Iteration 3, Endpoints (1.152000e-01,1.344000e-01)\n",
      "f(1.248e-01) = -3.098e-02\n",
      "Value of the function at approximate zero is f(c=0.120000)=0.004019\n",
      "Iteration 0, Endpoints (6.826667e-02,2.503111e-01)\n",
      "f(1.593e-01) = -1.175e-01\n",
      "Iteration 1, Endpoints (6.826667e-02,1.592889e-01)\n",
      "f(1.138e-01) = 2.076e-01\n",
      "Iteration 2, Endpoints (1.137778e-01,1.592889e-01)\n",
      "f(1.365e-01) = 4.464e-02\n",
      "Iteration 3, Endpoints (1.365333e-01,1.592889e-01)\n",
      "f(1.479e-01) = -3.597e-02\n",
      "Value of the function at approximate zero is f(c=0.142222)=0.005392\n",
      "Iteration 0, Endpoints (7.893333e-02,2.894222e-01)\n",
      "f(1.842e-01) = -1.365e-01\n",
      "Iteration 1, Endpoints (7.893333e-02,1.841778e-01)\n",
      "f(1.316e-01) = 2.416e-01\n",
      "Iteration 2, Endpoints (1.315556e-01,1.841778e-01)\n",
      "f(1.579e-01) = 5.294e-02\n",
      "Iteration 3, Endpoints (1.578667e-01,1.841778e-01)\n",
      "f(1.710e-01) = -4.115e-02\n",
      "Value of the function at approximate zero is f(c=0.164444)=0.006816\n",
      "Iteration 0, Endpoints (8.960000e-02,3.285333e-01)\n",
      "f(2.091e-01) = -1.536e-01\n",
      "Iteration 1, Endpoints (8.960000e-02,2.090667e-01)\n",
      "f(1.493e-01) = 2.735e-01\n",
      "Iteration 2, Endpoints (1.493333e-01,2.090667e-01)\n",
      "f(1.792e-01) = 6.084e-02\n",
      "Iteration 3, Endpoints (1.792000e-01,2.090667e-01)\n",
      "f(1.941e-01) = -4.686e-02\n",
      "Value of the function at approximate zero is f(c=0.186667)=0.007122\n",
      "Iteration 0, Endpoints (1.002667e-01,3.676444e-01)\n",
      "f(2.340e-01) = -1.734e-01\n",
      "Iteration 1, Endpoints (1.002667e-01,2.339556e-01)\n",
      "f(1.671e-01) = 3.063e-01\n",
      "Iteration 2, Endpoints (1.671111e-01,2.339556e-01)\n",
      "f(2.005e-01) = 6.493e-02\n",
      "Iteration 3, Endpoints (2.005333e-01,2.339556e-01)\n",
      "f(2.172e-01) = -5.021e-02\n",
      "Value of the function at approximate zero is f(c=0.208889)=0.006280\n",
      "Iteration 0, Endpoints (1.109333e-01,4.067556e-01)\n",
      "f(2.588e-01) = -1.917e-01\n",
      "Iteration 1, Endpoints (1.109333e-01,2.588444e-01)\n",
      "f(1.849e-01) = 3.387e-01\n",
      "Iteration 2, Endpoints (1.848889e-01,2.588444e-01)\n",
      "f(2.219e-01) = 7.509e-02\n",
      "Iteration 3, Endpoints (2.218667e-01,2.588444e-01)\n",
      "f(2.404e-01) = -5.954e-02\n",
      "Value of the function at approximate zero is f(c=0.231111)=0.006522\n",
      "Iteration 0, Endpoints (1.216000e-01,4.458667e-01)\n",
      "f(2.837e-01) = -2.094e-01\n",
      "Iteration 1, Endpoints (1.216000e-01,2.837333e-01)\n",
      "f(2.027e-01) = 3.724e-01\n",
      "Iteration 2, Endpoints (2.026667e-01,2.837333e-01)\n",
      "f(2.432e-01) = 8.580e-02\n",
      "Iteration 3, Endpoints (2.432000e-01,2.837333e-01)\n",
      "f(2.635e-01) = -6.600e-02\n",
      "Value of the function at approximate zero is f(c=0.253333)=0.009807\n",
      "Iteration 0, Endpoints (1.322667e-01,4.849778e-01)\n",
      "f(3.086e-01) = -2.283e-01\n",
      "Iteration 1, Endpoints (1.322667e-01,3.086222e-01)\n",
      "f(2.204e-01) = 4.056e-01\n",
      "Iteration 2, Endpoints (2.204444e-01,3.086222e-01)\n",
      "f(2.645e-01) = 8.780e-02\n",
      "Iteration 3, Endpoints (2.645333e-01,3.086222e-01)\n",
      "f(2.866e-01) = -6.940e-02\n",
      "Value of the function at approximate zero is f(c=0.275556)=0.009395\n",
      "Iteration 0, Endpoints (1.429333e-01,5.240889e-01)\n",
      "f(3.335e-01) = -2.416e-01\n",
      "Iteration 1, Endpoints (1.429333e-01,3.335111e-01)\n",
      "f(2.382e-01) = 4.362e-01\n",
      "Iteration 2, Endpoints (2.382222e-01,3.335111e-01)\n",
      "f(2.859e-01) = 9.613e-02\n",
      "Iteration 3, Endpoints (2.858667e-01,3.335111e-01)\n",
      "f(3.097e-01) = -7.307e-02\n",
      "Iteration 4, Endpoints (2.858667e-01,3.096889e-01)\n",
      "f(2.978e-01) = 1.428e-02\n",
      "Iteration 5, Endpoints (2.977778e-01,3.096889e-01)\n",
      "f(3.037e-01) = -3.127e-02\n",
      "Value of the function at approximate zero is f(c=0.300756)=-0.006499\n",
      "Iteration 0, Endpoints (1.536000e-01,5.632000e-01)\n",
      "f(3.584e-01) = -2.675e-01\n",
      "Iteration 1, Endpoints (1.536000e-01,3.584000e-01)\n",
      "f(2.560e-01) = 4.696e-01\n",
      "Iteration 2, Endpoints (2.560000e-01,3.584000e-01)\n",
      "f(3.072e-01) = 1.030e-01\n",
      "Iteration 3, Endpoints (3.072000e-01,3.584000e-01)\n",
      "f(3.328e-01) = -7.884e-02\n",
      "Value of the function at approximate zero is f(c=0.320000)=0.009114\n",
      "Iteration 0, Endpoints (1.642667e-01,6.023111e-01)\n",
      "f(3.833e-01) = -2.808e-01\n",
      "Iteration 1, Endpoints (1.642667e-01,3.832889e-01)\n",
      "f(2.738e-01) = 4.991e-01\n",
      "Iteration 2, Endpoints (2.737778e-01,3.832889e-01)\n",
      "f(3.285e-01) = 1.097e-01\n",
      "Iteration 3, Endpoints (3.285333e-01,3.832889e-01)\n",
      "f(3.559e-01) = -8.843e-02\n",
      "Iteration 4, Endpoints (3.285333e-01,3.559111e-01)\n",
      "f(3.422e-01) = 1.164e-02\n",
      "Iteration 5, Endpoints (3.422222e-01,3.559111e-01)\n",
      "f(3.491e-01) = -2.811e-02\n",
      "Iteration 6, Endpoints (3.422222e-01,3.490667e-01)\n",
      "f(3.456e-01) = -1.383e-02\n",
      "Value of the function at approximate zero is f(c=0.343933)=-0.000576\n",
      "Iteration 0, Endpoints (1.749333e-01,6.414222e-01)\n",
      "f(4.082e-01) = -3.018e-01\n",
      "Iteration 1, Endpoints (1.749333e-01,4.081778e-01)\n",
      "f(2.916e-01) = 5.350e-01\n",
      "Iteration 2, Endpoints (2.915556e-01,4.081778e-01)\n",
      "f(3.499e-01) = 1.223e-01\n",
      "Iteration 3, Endpoints (3.498667e-01,4.081778e-01)\n",
      "f(3.790e-01) = -8.851e-02\n",
      "Iteration 4, Endpoints (3.498667e-01,3.790222e-01)\n",
      "f(3.644e-01) = 1.323e-02\n",
      "Iteration 5, Endpoints (3.644444e-01,3.790222e-01)\n",
      "f(3.717e-01) = -3.939e-02\n",
      "Iteration 6, Endpoints (3.644444e-01,3.717333e-01)\n",
      "f(3.681e-01) = -1.171e-02\n",
      "Value of the function at approximate zero is f(c=0.366267)=0.001933\n",
      "Iteration 0, Endpoints (1.856000e-01,6.805333e-01)\n",
      "f(4.331e-01) = -3.176e-01\n",
      "Iteration 1, Endpoints (1.856000e-01,4.330667e-01)\n",
      "f(3.093e-01) = 5.685e-01\n",
      "Iteration 2, Endpoints (3.093333e-01,4.330667e-01)\n",
      "f(3.712e-01) = 1.267e-01\n",
      "Iteration 3, Endpoints (3.712000e-01,4.330667e-01)\n",
      "f(4.021e-01) = -9.744e-02\n",
      "Iteration 4, Endpoints (3.712000e-01,4.021333e-01)\n",
      "f(3.867e-01) = 1.027e-02\n",
      "Iteration 5, Endpoints (3.866667e-01,4.021333e-01)\n",
      "f(3.944e-01) = -3.777e-02\n",
      "Iteration 6, Endpoints (3.866667e-01,3.944000e-01)\n",
      "f(3.905e-01) = -1.989e-02\n",
      "Value of the function at approximate zero is f(c=0.388600)=0.001273\n",
      "Iteration 0, Endpoints (1.962667e-01,7.196444e-01)\n",
      "f(4.580e-01) = -3.314e-01\n",
      "Iteration 1, Endpoints (1.962667e-01,4.579556e-01)\n",
      "f(3.271e-01) = 6.007e-01\n",
      "Iteration 2, Endpoints (3.271111e-01,4.579556e-01)\n",
      "f(3.925e-01) = 1.328e-01\n",
      "Iteration 3, Endpoints (3.925333e-01,4.579556e-01)\n",
      "f(4.252e-01) = -1.006e-01\n",
      "Iteration 4, Endpoints (3.925333e-01,4.252444e-01)\n",
      "f(4.089e-01) = 1.835e-02\n",
      "Iteration 5, Endpoints (4.088889e-01,4.252444e-01)\n",
      "f(4.171e-01) = -4.468e-02\n",
      "Iteration 6, Endpoints (4.088889e-01,4.170667e-01)\n",
      "f(4.130e-01) = -1.085e-02\n",
      "Value of the function at approximate zero is f(c=0.410933)=0.007436\n",
      "Iteration 0, Endpoints (2.069333e-01,7.587556e-01)\n",
      "f(4.828e-01) = -3.574e-01\n",
      "Iteration 1, Endpoints (2.069333e-01,4.828444e-01)\n",
      "f(3.449e-01) = 6.334e-01\n",
      "Iteration 2, Endpoints (3.448889e-01,4.828444e-01)\n",
      "f(4.139e-01) = 1.392e-01\n",
      "Iteration 3, Endpoints (4.138667e-01,4.828444e-01)\n",
      "f(4.484e-01) = -1.081e-01\n",
      "Iteration 4, Endpoints (4.138667e-01,4.483556e-01)\n",
      "f(4.311e-01) = 1.924e-02\n",
      "Iteration 5, Endpoints (4.311111e-01,4.483556e-01)\n",
      "f(4.397e-01) = -4.671e-02\n",
      "Iteration 6, Endpoints (4.311111e-01,4.397333e-01)\n",
      "f(4.354e-01) = -1.441e-02\n",
      "Value of the function at approximate zero is f(c=0.433267)=0.003214\n",
      "Iteration 0, Endpoints (2.176000e-01,7.978667e-01)\n",
      "f(5.077e-01) = -3.704e-01\n",
      "Iteration 1, Endpoints (2.176000e-01,5.077333e-01)\n",
      "f(3.627e-01) = 6.678e-01\n",
      "Iteration 2, Endpoints (3.626667e-01,5.077333e-01)\n",
      "f(4.352e-01) = 1.472e-01\n",
      "Iteration 3, Endpoints (4.352000e-01,5.077333e-01)\n",
      "f(4.715e-01) = -1.139e-01\n",
      "Iteration 4, Endpoints (4.352000e-01,4.714667e-01)\n",
      "f(4.533e-01) = 1.284e-02\n",
      "Iteration 5, Endpoints (4.533333e-01,4.714667e-01)\n",
      "f(4.624e-01) = -4.811e-02\n",
      "Iteration 6, Endpoints (4.533333e-01,4.624000e-01)\n",
      "f(4.579e-01) = -1.854e-02\n",
      "Value of the function at approximate zero is f(c=0.455600)=0.004387\n"
     ]
    }
   ],
   "source": [
    "#loop over wait times, calculate qmin, construct distribution\n",
    "wait_time_distributions_improved = []\n",
    "for tw in t_wait:\n",
    "    #calculate number of events\n",
    "    n = int(np.ceil(const['total_time']/(const['tau'] + tw)))\n",
    "    #Use estimate to find sensible bounds\n",
    "    a_guess = min_energy(mean_energy(const,tw),const['delta'])/(const['loop_length']*const['area']*const['tau'])\n",
    "    b_guess = 1.1*a_guess\n",
    "    a_guess = 0.3*a_guess\n",
    "    #apply bisection method\n",
    "    opt = {'max_count':100,'tol':1e-2}\n",
    "    dummy,dummy,a0 = bisection(a_guess,b_guess,f_zero,opt,const=const,alpha=alpha,tn=tw,n_mc=1.0e+6)\n",
    "    #get best value from bisection\n",
    "    a0 = a0[-1]\n",
    "    a1 = a0*const['delta']\n",
    "    #construct distribution\n",
    "    wait_time_distributions_improved.append(pl_dist(a0,a1,alpha,np.random.rand(n)))"
   ]
  },
  {
   "cell_type": "code",
   "execution_count": 50,
   "metadata": {
    "collapsed": false
   },
   "outputs": [
    {
     "data": {
      "image/png": "[encoded data removed]",
      "text/plain": [
       "<matplotlib.figure.Figure at 0x104f17b90>"
      ]
     },
     "metadata": {},
     "output_type": "display_data"
    }
   ],
   "source": [
    "hn_target = time_averaged_heating_rate(const['loop_length'],const['tpeak'])\n",
    "fig = plt.figure(figsize=(10,10))\n",
    "ax = fig.gca()\n",
    "error_axis = ax.twinx()\n",
    "for i in range(len(t_wait)):\n",
    "    hn_tw = const['tau']/2.0*np.sum(wait_time_distributions_improved[i])/const['total_time']\n",
    "    ax.plot(t_wait[i],hn_tw,'bo')\n",
    "    error_axis.plot(t_wait[i],np.fabs(hn_tw - hn_target)/np.fabs(hn_tw + hn_target),'ro')\n",
    "ax.axhline(y=hn_target,color='k',linestyle='--')\n",
    "ax.set_xlabel(r'$T_N$',fontsize=22)\n",
    "ax.set_ylabel(r'$H_n$',fontsize=22)\n",
    "error_axis.set_ylabel(r'$\\epsilon$',fontsize=22)\n",
    "ax.set_ylim([0.0001,1.0])\n",
    "error_axis.set_ylim([0,1])\n",
    "ax.set_yscale('log')\n",
    "plt.show()"
   ]
  },
  {
   "cell_type": "markdown",
   "metadata": {},
   "source": [
    "So even using this supposedly improved (but much slower!) method results in underestimation and even incurs more error than our quick and dirty estimation. \n",
    "\n",
    "We seemed to have picked up an extra factor of two in our derivation of the resulting lower bound on the distribution. Our new expression for the bounds on our distribution is given by $$Q_{\\mathrm{min}}=\\frac{2H_nLA(T_N+\\tau)}{\\delta-1}.$$Now, we can construct our distribution of event energies. "
   ]
  },
  {
   "cell_type": "code",
   "execution_count": 86,
   "metadata": {
    "collapsed": false
   },
   "outputs": [],
   "source": [
    "wait_time_distributions = []\n",
    "alpha = -1.5\n",
    "const['loop_length'] = 60.0e+8\n",
    "for tw in t_wait:\n",
    "    #calculate number of events\n",
    "    n = int(np.ceil(const['total_time']/(const['tau'] + tw)))\n",
    "    #calculate bounds\n",
    "    a0 = 3.0*time_averaged_heating_rate(const['loop_length'],const['tpeak'])*const['loop_length']*const['area']*(const['tau'] + tw)/(const['delta']-1.0)\n",
    "    a1 = a0*const['delta']\n",
    "    #calculate the distribution\n",
    "    wait_time_distributions.append(pl_dist(a0,a1,alpha,np.random.rand(n)))"
   ]
  },
  {
   "cell_type": "code",
   "execution_count": 87,
   "metadata": {
    "collapsed": false
   },
   "outputs": [
    {
     "data": {
      "image/png": "[encoded data removed]",
      "text/plain": [
       "<matplotlib.figure.Figure at 0x1076e5cd0>"
      ]
     },
     "metadata": {},
     "output_type": "display_data"
    }
   ],
   "source": [
    "hn_target = time_averaged_heating_rate(const['loop_length'],const['tpeak'])\n",
    "fig = plt.figure(figsize=(10,10))\n",
    "ax = fig.gca()\n",
    "error_axis = ax.twinx()\n",
    "for i in range(len(t_wait)):\n",
    "    hn_tw = np.sum(wait_time_distributions[i])/const['total_time']/const['loop_length']/const['area']\n",
    "    ax.plot(t_wait[i],hn_tw,'bo')\n",
    "    error_axis.plot(t_wait[i],np.fabs(hn_tw - hn_target)/np.fabs(hn_tw + hn_target),'ro')\n",
    "ax.axhline(y=hn_target,color='k',linestyle='--')\n",
    "ax.set_xlabel(r'$T_N$',fontsize=22)\n",
    "ax.set_ylabel(r'$H_n$',fontsize=22)\n",
    "error_axis.set_ylabel(r'$\\epsilon$',fontsize=22)\n",
    "ax.set_ylim([0.0001,1.0])\n",
    "error_axis.set_ylim([0,1])\n",
    "ax.set_yscale('log')\n",
    "plt.show()"
   ]
  },
  {
   "cell_type": "markdown",
   "metadata": {},
   "source": [
    "If $\\alpha>2$, we can make a (hopefully) more accurate estimate of $Q_{\\mathrm{min}}$."
   ]
  },
  {
   "cell_type": "code",
   "execution_count": 90,
   "metadata": {
    "collapsed": true
   },
   "outputs": [],
   "source": [
    "wait_time_distributions = []\n",
    "alpha = -2.5\n",
    "const['loop_length'] = 20.0e+8\n",
    "for tw in t_wait:\n",
    "    #calculate number of events\n",
    "    n = int(np.ceil(const['total_time']/(const['tau'] + tw)))\n",
    "    #calculate bounds\n",
    "    coeff = (alpha + 2.0)/(alpha + 1.0)*(const['delta']**(alpha + 1.0) - 1.0)/(const['delta']**(alpha + 2.0) - 1.0)\n",
    "    a0 = coeff*time_averaged_heating_rate(const['loop_length'],const['tpeak'])*const['loop_length']*const['area']*(const['tau'] + tw)\n",
    "    a1 = a0*const['delta']\n",
    "    #calculate the distribution\n",
    "    wait_time_distributions.append(pl_dist(a0,a1,alpha,np.random.rand(n)))"
   ]
  },
  {
   "cell_type": "code",
   "execution_count": 92,
   "metadata": {
    "collapsed": false
   },
   "outputs": [
    {
     "data": {
      "image/png": "[encoded data removed]",
      "text/plain": [
       "<matplotlib.figure.Figure at 0x104f64bd0>"
      ]
     },
     "metadata": {},
     "output_type": "display_data"
    }
   ],
   "source": [
    "hn_target = time_averaged_heating_rate(const['loop_length'],const['tpeak'])\n",
    "fig = plt.figure(figsize=(10,10))\n",
    "ax = fig.gca()\n",
    "error_axis = ax.twinx()\n",
    "for i in range(len(t_wait)):\n",
    "    hn_tw = np.sum(wait_time_distributions[i])/const['total_time']/const['loop_length']/const['area']\n",
    "    ax.plot(t_wait[i],hn_tw,'bo')\n",
    "    error_axis.plot(t_wait[i],np.fabs(hn_tw - hn_target)/np.fabs(hn_tw + hn_target),'ro')\n",
    "ax.axhline(y=hn_target,color='k',linestyle='--')\n",
    "ax.set_xlabel(r'$T_N$',fontsize=22)\n",
    "ax.set_ylabel(r'$H_n$',fontsize=22)\n",
    "error_axis.set_ylabel(r'$\\epsilon$',fontsize=22)\n",
    "ax.set_ylim([0.0001,1.0])\n",
    "error_axis.set_ylim([0,1])\n",
    "ax.set_yscale('log')\n",
    "plt.show()"
   ]
  },
  {
   "cell_type": "markdown",
   "metadata": {},
   "source": [
    "Now, compare coefficients on estimates of $Q_{\\mathrm{min}}$ which we write as $$\\xi_{\\alpha\\le2}=\\frac{2}{\\delta - 1},\\quad\\xi_{\\alpha>2}=\\frac{\\alpha+2}{\\alpha+1}\\frac{\\delta^{\\alpha + 1}-1}{\\delta^{\\alpha + 2}-1}.$$"
   ]
  },
  {
   "cell_type": "code",
   "execution_count": 98,
   "metadata": {
    "collapsed": true
   },
   "outputs": [],
   "source": [
    "def xi_rough(delta):\n",
    "    return 2.0/(delta - 1)\n",
    "def xi_exact(delta,alpha):\n",
    "    return (alpha + 2.0)/(alpha + 1.0)*(delta**(alpha + 1.0) - 1.0)/(delta**(alpha + 2.0) - 1.0)\n",
    "def xi_exact_lhopital(delta,alpha):\n",
    "    numer = delta**(alpha+1.0)*(1.0 + np.log(delta)*(alpha + 2.0)) - 1.0\n",
    "    denom = delta**(alpha+2.0)*(1.0 + np.log(delta)*(alpha + 1.0)) - 1.0\n",
    "    return numer/denom"
   ]
  },
  {
   "cell_type": "code",
   "execution_count": 99,
   "metadata": {
    "collapsed": true
   },
   "outputs": [],
   "source": [
    "#set delta to one decade\n",
    "delta=10.0\n",
    "#compare difference for alpha=2.5\n",
    "alpha = -2.5"
   ]
  },
  {
   "cell_type": "code",
   "execution_count": 100,
   "metadata": {
    "collapsed": false
   },
   "outputs": [
    {
     "name": "stdout",
     "output_type": "stream",
     "text": [
      "Rough estimate for xi for alpha=-2.5 is 0.222\n",
      "Exact estimate for xi for alpha=-2.5 is 0.472\n"
     ]
    }
   ],
   "source": [
    "print \"Rough estimate for xi for alpha=%.1f is %.3f\"%(alpha,xi_rough(delta))\n",
    "print \"Exact estimate for xi for alpha=%.1f is %.3f\"%(alpha,xi_exact(delta,alpha))"
   ]
  },
  {
   "cell_type": "code",
   "execution_count": 108,
   "metadata": {
    "collapsed": false
   },
   "outputs": [
    {
     "name": "stdout",
     "output_type": "stream",
     "text": [
      "Rough estimate for xi for alpha=-2.0 is 0.222\n",
      "Exact estimate for xi for alpha=-2.0 is 0.391\n"
     ]
    }
   ],
   "source": [
    "alpha = -2.0\n",
    "print \"Rough estimate for xi for alpha=%.1f is %.3f\"%(alpha,xi_rough(delta))\n",
    "print \"Exact estimate for xi for alpha=%.1f is %.3f\"%(alpha,xi_exact_lhopital(delta,alpha))"
   ]
  },
  {
   "cell_type": "markdown",
   "metadata": {},
   "source": [
    "Now, let's combine these two expressions and compute the resulting $H_n$ for some power-law distributions."
   ]
  },
  {
   "cell_type": "code",
   "execution_count": 145,
   "metadata": {
    "collapsed": true
   },
   "outputs": [],
   "source": [
    "def qmin_coefficient(delta,alpha):\n",
    "    if alpha < -2.0:\n",
    "        return (alpha + 2.0)/(alpha + 1.0)*(delta**(alpha + 1.0) - 1.0)/(delta**(alpha + 2.0) - 1.0)\n",
    "    elif alpha == -2.0:\n",
    "        numer = delta**(alpha+1.0)*(1.0 + np.log(delta)*(alpha + 2.0)) - 1.0\n",
    "        denom = delta**(alpha+2.0)*(1.0 + np.log(delta)*(alpha + 1.0)) - 1.0\n",
    "        return numer/denom\n",
    "    else:\n",
    "        return 3.0/((delta - 1.0))"
   ]
  },
  {
   "cell_type": "code",
   "execution_count": 163,
   "metadata": {
    "collapsed": false
   },
   "outputs": [],
   "source": [
    "wait_time_distributions = []\n",
    "alphas = [-1.5,-2.0,-2.5]\n",
    "const['loop_length'] = 60.0e+8\n",
    "hn_target = time_averaged_heating_rate(const['loop_length'],const['tpeak'])\n",
    "for a in alphas:\n",
    "    wait_time_distributions_temp = []\n",
    "    for tw in t_wait:\n",
    "        #calculate number of events\n",
    "        n = int(np.ceil(const['total_time']/(const['tau'] + tw)))\n",
    "        #calculate bounds\n",
    "        coeff = qmin_coefficient(const['delta'],a)\n",
    "        a0 = coeff*time_averaged_heating_rate(const['loop_length'],const['tpeak'])*const['loop_length']*const['area']*(const['tau'] + tw)\n",
    "        a1 = a0*const['delta']\n",
    "        #calculate the distribution\n",
    "        wait_time_distributions_temp.append(pl_dist(a0,a1,a,np.random.rand(n)))\n",
    "    wait_time_distributions.append(wait_time_distributions_temp)"
   ]
  },
  {
   "cell_type": "code",
   "execution_count": 164,
   "metadata": {
    "collapsed": false
   },
   "outputs": [
    {
     "data": {
      "image/png": "[encoded data removed]",
      "text/plain": [
       "<matplotlib.figure.Figure at 0x101721190>"
      ]
     },
     "metadata": {},
     "output_type": "display_data"
    }
   ],
   "source": [
    "fig,ax = plt.subplots(1,len(alphas),figsize=(14,10))\n",
    "plt.subplots_adjust(wspace=0.6)\n",
    "for i in range(len(alphas)):\n",
    "    error_axis = ax[i].twinx()\n",
    "    for j in range(len(t_wait)):\n",
    "        hn_tw = np.sum(wait_time_distributions[i][j])/const['total_time']/const['loop_length']/const['area']\n",
    "        ax[i].plot(t_wait[j],hn_tw,'bo')\n",
    "        error_axis.plot(t_wait[j],np.fabs(hn_tw - hn_target)/np.fabs(hn_tw + hn_target),'ro')\n",
    "    ax[i].axhline(y=hn_target,color='k',linestyle='--')\n",
    "    ax[i].set_xlabel(r'$T_N$',fontsize=22)\n",
    "    ax[i].set_ylabel(r'$H_n$',fontsize=22)\n",
    "    error_axis.set_ylabel(r'$\\epsilon$',fontsize=22)\n",
    "    ax[i].set_ylim([0.0001,1.0])\n",
    "    error_axis.set_ylim([0,1])\n",
    "    ax[i].set_yscale('log')"
   ]
  },
  {
   "cell_type": "code",
   "execution_count": null,
   "metadata": {
    "collapsed": true
   },
   "outputs": [],
   "source": []
  }
 ],
 "metadata": {
  "kernelspec": {
   "display_name": "Python 2",
   "language": "python",
   "name": "python2"
  },
  "language_info": {
   "codemirror_mode": {
    "name": "ipython",
    "version": 2
   },
   "file_extension": ".py",
   "mimetype": "text/x-python",
   "name": "python",
   "nbconvert_exporter": "python",
   "pygments_lexer": "ipython2",
   "version": "2.7.9"
  }
 },
 "nbformat": 4,
 "nbformat_minor": 0
}
