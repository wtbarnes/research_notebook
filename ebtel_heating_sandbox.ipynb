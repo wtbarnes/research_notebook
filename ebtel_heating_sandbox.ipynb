{
 "cells": [
  {
   "cell_type": "code",
   "execution_count": 1,
   "metadata": {
    "collapsed": true
   },
   "outputs": [],
   "source": [
    "%matplotlib inline\n",
    "import matplotlib.pyplot as plt\n",
    "import numpy as np"
   ]
  },
  {
   "cell_type": "markdown",
   "metadata": {},
   "source": [
    "#EBTEL Heating Sandbox"
   ]
  },
  {
   "cell_type": "markdown",
   "metadata": {},
   "source": [
    "Here, I'm testing whether specifying the range of my power-law distribution allows me to properly constrain the time-averaged heating rate $H_n$."
   ]
  },
  {
   "cell_type": "code",
   "execution_count": 79,
   "metadata": {
    "collapsed": true
   },
   "outputs": [],
   "source": [
    "#specify constants\n",
    "tau = 100.0\n",
    "loop_length = 20.0e+8\n",
    "area = 1.0e+14\n",
    "tpeak = 4.0e+6\n",
    "total_time = 8.0e+4\n",
    "delta = 10.0\n",
    "const = {'tau':tau,'loop_length':loop_length,'area':area,'tpeak':tpeak,'total_time':total_time,'delta':delta}\n",
    "#additional parameters\n",
    "alpha = -1.5\n",
    "t_wait = np.arange(250,5250,250)"
   ]
  },
  {
   "cell_type": "code",
   "execution_count": 80,
   "metadata": {
    "collapsed": true
   },
   "outputs": [],
   "source": [
    "#some functions\n",
    "def pl_dist(a0,a1,alpha,x):\n",
    "    return ((a1**(alpha+1) - a0**(alpha+1))*x + a0**(alpha+1))**(1/(alpha+1))\n",
    "def time_averaged_heating_rate(L,tpeak):\n",
    "    kappa = 1.0e-6\n",
    "    return kappa*tpeak**(3.5)/L**2\n",
    "def mean_energy(const,tn):\n",
    "    hn = time_averaged_heating_rate(const['loop_length'],const['tpeak'])\n",
    "    return 2.0*hn*const['loop_length']*const['area']*(const['tau'] + tn)\n",
    "def min_energy(qmean,delta):\n",
    "    return qmean*2.0/(delta-1.0) "
   ]
  },
  {
   "cell_type": "markdown",
   "metadata": {},
   "source": [
    "Now, for each value of $T_n$, construct a distribution whose bounds are specified such that $H_n$ is constant across $T_n$ and specified such that enough energy is being dumped in to maintain a peak temperature $T_{\\mathrm{peak}}$."
   ]
  },
  {
   "cell_type": "code",
   "execution_count": 81,
   "metadata": {
    "collapsed": false
   },
   "outputs": [],
   "source": [
    "wait_time_distributions = []\n",
    "for tw in t_wait:\n",
    "    #calculate number of events\n",
    "    n = int(np.ceil(const['total_time']/(const['tau'] + tw)))\n",
    "    #calculate bounds\n",
    "    a0 = min_energy(mean_energy(const,tw),const['delta'])/(const['loop_length']*const['area']*const['tau'])\n",
    "    a1 = a0*const['delta']\n",
    "    #calculate the distribution\n",
    "    wait_time_distributions.append(pl_dist(a0,a1,alpha,np.random.rand(n)))"
   ]
  },
  {
   "cell_type": "markdown",
   "metadata": {},
   "source": [
    "Let's check what the time-averaged heating rate should be for our specified conditions in order to keep our plasma at an equilibrium temperature of $T_{\\mathrm{peak}}$ and then plot the resulting values for our distributions constructed according to our constraint on $Q_{\\mathrm{min}}$."
   ]
  },
  {
   "cell_type": "code",
   "execution_count": 90,
   "metadata": {
    "collapsed": false
   },
   "outputs": [
    {
     "name": "stdout",
     "output_type": "stream",
     "text": [
      "The time-averaged heating rate for L=20.0 Mm and T_peak=4.0 MK is 0.03200\n"
     ]
    }
   ],
   "source": [
    "hn_target = time_averaged_heating_rate(const['loop_length'],const['tpeak'])\n",
    "print \"The time-averaged heating rate for L=%.1f Mm and T_peak=%.1f MK is %.5f\"%(const['loop_length']/1.0e+8,const['tpeak']/1.0e+6,hn_target)"
   ]
  },
  {
   "cell_type": "code",
   "execution_count": 91,
   "metadata": {
    "collapsed": false
   },
   "outputs": [
    {
     "data": {
      "image/png": "[encoded data removed]",
      "text/plain": [
       "<matplotlib.figure.Figure at 0x11216bb50>"
      ]
     },
     "metadata": {},
     "output_type": "display_data"
    }
   ],
   "source": [
    "fig = plt.figure(figsize=(10,10))\n",
    "ax = fig.gca()\n",
    "error_axis = ax.twinx()\n",
    "for i in range(len(t_wait)):\n",
    "    hn_tw = const['tau']/2.0*np.sum(wait_time_distributions[i])/const['total_time']\n",
    "    ax.plot(t_wait[i],hn_tw,'bo')\n",
    "    error_axis.plot(t_wait[i],np.fabs(hn_tw - hn_target)/np.fabs(hn_tw + hn_target),'ro')\n",
    "ax.axhline(y=time_averaged_heating_rate(const['loop_length'],const['tpeak']),color='k',linestyle='--')\n",
    "ax.set_xlabel(r'$T_N$',fontsize=22)\n",
    "ax.set_ylabel(r'$H_n$',fontsize=22)\n",
    "error_axis.set_ylabel(r'$\\epsilon$',fontsize=22)\n",
    "ax.set_ylim([0.0001,1.0])\n",
    "error_axis.set_ylim([0,1])\n",
    "ax.set_yscale('log')\n",
    "plt.show()"
   ]
  },
  {
   "cell_type": "markdown",
   "metadata": {},
   "source": [
    "Let's compare this to the case where we dont' attempt to constrain the heating at all."
   ]
  },
  {
   "cell_type": "code",
   "execution_count": 84,
   "metadata": {
    "collapsed": true
   },
   "outputs": [],
   "source": [
    "wait_time_distributions_no_constraint= []\n",
    "for tw in t_wait:\n",
    "    #calculate number of events\n",
    "    n = int(np.ceil(const['total_time']/(const['tau'] + tw)))\n",
    "    #calculate bounds\n",
    "    a0 = 1.0e+23/(const['loop_length']*const['area']*const['tau'])\n",
    "    a1 = a0*const['delta']\n",
    "    #calculate the distribution\n",
    "    wait_time_distributions_no_constraint.append(pl_dist(a0,a1,alpha,np.random.rand(n)))"
   ]
  },
  {
   "cell_type": "code",
   "execution_count": 89,
   "metadata": {
    "collapsed": false
   },
   "outputs": [
    {
     "data": {
      "image/png": "[encoded data removed]",
      "text/plain": [
       "<matplotlib.figure.Figure at 0x111256ad0>"
      ]
     },
     "metadata": {},
     "output_type": "display_data"
    }
   ],
   "source": [
    "fig = plt.figure(figsize=(10,10))\n",
    "ax = fig.gca()\n",
    "error_axis = ax.twinx()\n",
    "for i in range(len(t_wait)):\n",
    "    hn_tw = const['tau']/2.0*np.sum(wait_time_distributions_no_constraint[i])/const['total_time']\n",
    "    ax.plot(t_wait[i],hn_tw,'bo')\n",
    "    error_axis.plot(t_wait[i],np.fabs(hn_tw - hn_target)/np.fabs(hn_tw + hn_target),'ro')\n",
    "ax.axhline(y=hn_target,color='k',linestyle='--')\n",
    "ax.set_xlabel(r'$T_N$',fontsize=22)\n",
    "ax.set_ylabel(r'$H_n$',fontsize=22)\n",
    "error_axis.set_ylabel(r'$\\epsilon$',fontsize=22)\n",
    "ax.set_ylim([0.0001,1.0])\n",
    "error_axis.set_ylim([0,1])\n",
    "ax.set_yscale('log')\n",
    "plt.show()"
   ]
  },
  {
   "cell_type": "markdown",
   "metadata": {},
   "source": [
    "Obviously, the case where we attempt to constrain the range of our distribution yields much better results in terms of consistency across our range of $T_N$ values as well as matching our target $H_n$ value as compared to our current method which makes no attempt to maintain constant time-averaged heating rate. However, even in the case of varying $Q_{\\mathrm{min}}$, we can see that we are still off target by a factor of 2-3 in some cases. This is most likely due to our poor estimate of $Q_{\\mathrm{min}}$."
   ]
  },
  {
   "cell_type": "markdown",
   "metadata": {},
   "source": [
    "##Improved Estimates of $Q_{\\mathrm{min}}$"
   ]
  },
  {
   "cell_type": "markdown",
   "metadata": {},
   "source": [
    "Recall that we can calculate the mean of our power-law distribution even for $\\alpha\\le2$ using a Monte-Carlo approach provided we specify the bounds $a,b$. Thus, we want to find $a$ (with $b=\\delta a$) such that $$\\langle Q\\rangle - \\frac{a(\\delta - 1)}{\\mathcal{N}}\\sum_{i=1}^{\\mathcal{N}}x_ip(x_i)=0$$where $\\langle Q\\rangle$ is the mean energy per nanoflare as specified by $H_n$ and $T_N$, $\\mathcal{N}$ is the number of points uniformly distributed on $x_i\\in[a,\\delta a]$, and $p(x)$ is our power-law relation. \n",
    "\n",
    "By coming up with a value $a$ which satisfies this relation, we will have an improved calculation of $Q_{\\mathrm{min}}$ and thus better constrain $H_i$ such that the $H_n=\\tau/2\\sum_{i=1}^NH_i/T_{\\mathrm{total}}$."
   ]
  },
  {
   "cell_type": "code",
   "execution_count": 92,
   "metadata": {
    "collapsed": true
   },
   "outputs": [],
   "source": [
    "#monte-carlo integrator function\n",
    "def monte_carlo_integrator(N,f,**kwargs):\n",
    "    #generate points in the given range\n",
    "    np.random.seed()\n",
    "    points = (kwargs['b'] - kwargs['a'])*np.random.rand(N) + kwargs['a']\n",
    "    \n",
    "    #calculate the average\n",
    "    f_sum = 0.0\n",
    "    for p in points:\n",
    "        f_sum = f_sum + f(p,**kwargs)\n",
    "    f_mean = f_sum/N\n",
    "    \n",
    "    #return total answer\n",
    "    return (kwargs['b'] - kwargs['a'])*f_mean\n",
    "#power-law mean function\n",
    "def pl_mean(x,**kwargs):\n",
    "    #define coefficient\n",
    "    C = (1.0 - kwargs['alpha'])/(kwargs['b']**(1.0-kwargs['alpha']) - kwargs['a']**(1.0-kwargs['alpha']))\n",
    "    #define power-law function\n",
    "    f = C*x**(-kwargs['alpha'])\n",
    "    #return the mean integrand\n",
    "    return x*f"
   ]
  },
  {
   "cell_type": "markdown",
   "metadata": {},
   "source": [
    "Define the function that we are trying to find the zero of."
   ]
  },
  {
   "cell_type": "code",
   "execution_count": 94,
   "metadata": {
    "collapsed": true
   },
   "outputs": [],
   "source": [
    "#function to which we will apply bisection or root finder method\n",
    "def f_zero(a,**kwargs):\n",
    "    #define dictionary\n",
    "    const = kwargs['const']\n",
    "    #get target mean value\n",
    "    q_mean = mean_energy(const,kwargs['tn'])\n",
    "    #set up monte-carlo function\n",
    "    mc_mean = monte_carlo_integrator(kwargs['n_mc'],pl_mean,a=a,b=const['delta']*a,alpha=kwargs['alpha'])\n",
    "    return q_mean - mc_mean"
   ]
  },
  {
   "cell_type": "markdown",
   "metadata": {},
   "source": [
    "Now, define the bisection method."
   ]
  },
  {
   "cell_type": "code",
   "execution_count": 95,
   "metadata": {
    "collapsed": true
   },
   "outputs": [],
   "source": [
    "def bisection(a,b,f,options,**kwargs):\n",
    "    \"\"\"Bisection method for interval (a,b) as applied to a monotonically increasing (or decreasing) function f on (a,b)\"\"\"\n",
    "    \n",
    "    #First guess for root value\n",
    "    c = a + (b - a)/2\n",
    "    \n",
    "    #Evaluate function at first guess\n",
    "    f_guess = f(c,**kwargs)\n",
    "    \n",
    "    #Initialize the counter\n",
    "    count = 0\n",
    "    \n",
    "    #Initialize lists of endpoints and roots\n",
    "    a_list = [a]\n",
    "    b_list = [b]\n",
    "    c_list = [c]\n",
    "    \n",
    "    #Begin iteration\n",
    "    while(count<options['max_count'] and np.fabs(f_guess)>options['tol']):\n",
    "        #Output iteration and endpoints\n",
    "        print \"Iteration %d, Endpoints (%f,%f)\"%(count,a,b)\n",
    "        \n",
    "        #Check relative sign\n",
    "        if f_guess*f(a,**kwargs)>0:\n",
    "            #advance left endpoint\n",
    "            a=c\n",
    "        elif f_guess*f(a,**kwargs)<0:\n",
    "            #advance right endpoint\n",
    "            b=c\n",
    "        else:\n",
    "            #case where f(c)==0\n",
    "            print \"f(c) == 0 exactly. Breaking out of loop.\"\n",
    "            break\n",
    "            \n",
    "        #update root value guess\n",
    "        c = a + (b-a)/2\n",
    "        \n",
    "        #evaluate function at current guess\n",
    "        f_guess = f(c,**kwargs)\n",
    "        \n",
    "        #save a,b,c values\n",
    "        a_list.append(a)\n",
    "        b_list.append(b)\n",
    "        c_list.append(c)\n",
    "        \n",
    "        #update the counter\n",
    "        count = count + 1\n",
    "        \n",
    "    #check to see whether we succeded\n",
    "    if count < options['max_count'] or np.fabs(f_guess) < options['tol']:\n",
    "        #print final zero approximation\n",
    "        print \"Value of the function at approximate zero is f(c=%f)=%f\"%(c,f_guess)\n",
    "    \n",
    "        #return lists of a,b,c\n",
    "        return a_list,b_list,c_list\n",
    "    else:\n",
    "        #tell the user that the bisection failed\n",
    "        print \"Unable to perform bisection with max number of tries = %d and error tolerance %.4f\"%(options['max_count'],options['tol'])"
   ]
  },
  {
   "cell_type": "markdown",
   "metadata": {},
   "source": [
    "To make an estimation of our bounds for the bisection method, "
   ]
  }
 ],
 "metadata": {
  "kernelspec": {
   "display_name": "Python 2",
   "language": "python",
   "name": "python2"
  },
  "language_info": {
   "codemirror_mode": {
    "name": "ipython",
    "version": 2
   },
   "file_extension": ".py",
   "mimetype": "text/x-python",
   "name": "python",
   "nbconvert_exporter": "python",
   "pygments_lexer": "ipython2",
   "version": "2.7.9"
  }
 },
 "nbformat": 4,
 "nbformat_minor": 0
}
