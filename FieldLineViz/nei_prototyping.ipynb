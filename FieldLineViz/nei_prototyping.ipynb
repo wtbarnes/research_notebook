{
 "cells": [
  {
   "cell_type": "markdown",
   "metadata": {},
   "source": [
    "# NEI Prototyping\n",
    "Tests and prototyping for a non-equilibrium ionization calculation in synthesizAR. "
   ]
  },
  {
   "cell_type": "code",
   "execution_count": 33,
   "metadata": {
    "collapsed": true
   },
   "outputs": [],
   "source": [
    "import os\n",
    "import sys\n",
    "import subprocess\n",
    "\n",
    "import numpy as np\n",
    "import astropy.units as u\n",
    "from scipy.interpolate import splev,splrep,interp1d\n",
    "from scipy import linalg\n",
    "import matplotlib.pyplot as plt\n",
    "import seaborn as sns\n",
    "import numba\n",
    "import h5py\n",
    "import ChiantiPy.core as ch\n",
    "import ChiantiPy.tools as ch_tools\n",
    "\n",
    "import synthesizAR\n",
    "from synthesizAR.util import InputHandler,OutputHandler\n",
    "\n",
    "%matplotlib inline"
   ]
  },
  {
   "cell_type": "markdown",
   "metadata": {},
   "source": [
    "We'll calculate the non-equilibrium ion populations using the equation,\n",
    "\n",
    "$$\n",
    "\\frac{\\partial Y_i}{\\partial t} + \\frac{\\partial Y_iv}{\\partial s} = n(I_{i-1}Y_{i-1} + R_{i}Y_{i+1} - I_iY_i - R_{i-1}Y_{i}),\n",
    "$$\n",
    "\n",
    "though in our \"0D\" cases we can drop the spatial gradient terms such that,\n",
    "\n",
    "$$\n",
    "\\frac{\\partial Y_i}{\\partial t} = n(I_{i-1}Y_{i-1} + R_{i}Y_{i+1} - I_iY_i - R_{i-1}Y_{i}),\n",
    "$$\n",
    "\n",
    "where:\n",
    "* $Y$ is the element\n",
    "* $i$ is the ionization state\n",
    "* $I$ is the ionization rate\n",
    "* $R$ is the recombination rate"
   ]
  },
  {
   "cell_type": "markdown",
   "metadata": {},
   "source": [
    "The density, ionization rate, and recombination rates are known ahead of time (from the simulation and CHIANTI, respectively)."
   ]
  },
  {
   "cell_type": "markdown",
   "metadata": {},
   "source": [
    "## Test $T$ and $n$ profiles"
   ]
  },
  {
   "cell_type": "code",
   "execution_count": 2,
   "metadata": {
    "collapsed": true
   },
   "outputs": [],
   "source": [
    "delta_t = 1e-2\n",
    "total_time = 30.0\n",
    "time = np.arange(0,total_time+delta_t,delta_t)\n",
    "tau_increase_T,tau_decrease_T,tau_flat_T = 5,5,0\n",
    "tau_increase_n,tau_decrease_n,tau_flat_n = 15,15,0\n",
    "peak_temperature,peak_density = 2e7,1e9\n",
    "base_temperature,base_density = 1.5e4,1e8\n",
    "temperature,density = base_temperature*np.ones(len(time)),base_density*np.ones(len(time))\n",
    "for i,t in enumerate(time):\n",
    "    #temperature\n",
    "    if t <= tau_increase_T:\n",
    "        temperature[i] += (peak_temperature-base_temperature)*t/tau_increase_T\n",
    "    elif tau_increase_T < t <= tau_increase_T+tau_flat_T:\n",
    "        temperature[i] += (peak_temperature - base_temperature)\n",
    "    elif tau_increase_T + tau_flat_T < t <= tau_increase_T + tau_flat_T + tau_decrease_T:\n",
    "        temperature[i] += (peak_temperature - base_temperature)*(tau_increase_T + tau_flat_T + tau_decrease_T - t)/tau_decrease_T\n",
    "    #density\n",
    "    if t <= tau_increase_n:\n",
    "        density[i] += (peak_density-base_density)*t/tau_increase_n\n",
    "    elif tau_increase_n < t <= tau_increase_n+tau_flat_n:\n",
    "        density[i] += (peak_density - base_density)\n",
    "    elif tau_increase_n + tau_flat_n < t <= tau_increase_n + tau_flat_n + tau_decrease_n:\n",
    "        density[i] += (peak_density - base_density)*(tau_increase_n + tau_flat_n + tau_decrease_n - t)/tau_decrease_n"
   ]
  },
  {
   "cell_type": "code",
   "execution_count": 3,
   "metadata": {},
   "outputs": [
    {
     "data": {
      "image/png": "[encoded data removed]",
      "text/plain": [
       "<matplotlib.figure.Figure at 0x7ff4156bdc50>"
      ]
     },
     "metadata": {},
     "output_type": "display_data"
    }
   ],
   "source": [
    "fig,axes = plt.subplots(1,2)\n",
    "axes[0].plot(time,temperature)\n",
    "axes[1].plot(time,density)\n",
    "axes[0].set_ylim([1e4,1e8])\n",
    "axes[1].set_ylim([1e8,1e12])\n",
    "axes[1].set_yscale('log')\n",
    "axes[0].set_yscale('log')"
   ]
  },
  {
   "cell_type": "markdown",
   "metadata": {},
   "source": [
    "### Getting the data\n",
    "We need to get three pieces of data for all of the ions:\n",
    "* ionization rates as a function of temperature\n",
    "* recombination rates as a function of temperature\n",
    "* ionization equilibrium at the initial temperature\n",
    "\n",
    "We will iterate through all of the ions of the given element and calculate the needed pieces. The challenge is to calculate the quantities at the correct temperatures. We will calculate the quantities over a rough temperature range and then interpolate appropriately. We'll carry out an example with iron but this should extend to any element.\n",
    "\n",
    "First, allocate space for the ionization and recombination rates and the ionization fraction. We need a padding of $\\pm1$ in our numerical method. Note that there are $Z+1$ ionization states for each element with atomic number $Z$."
   ]
  },
  {
   "cell_type": "markdown",
   "metadata": {},
   "source": [
    "When iterating over multiple loops, it will probably be best to create the ions once for a sufficient temperature range and then reuse them. The thing that seems to take the most time is the ion creation. "
   ]
  },
  {
   "cell_type": "code",
   "execution_count": 4,
   "metadata": {
    "collapsed": true
   },
   "outputs": [],
   "source": [
    "def get_rates(element,logT0=4.,logT1=8.,dTemperature = 0.01):\n",
    "    #choose appropriate temperature range\n",
    "    temperature = 10.**(np.arange(logT0,logT1+dTemperature,dTemperature))\n",
    "    #preallocate data\n",
    "    Z = ch_tools.util.el2z(element)\n",
    "    ionization_rates = np.zeros([len(temperature),Z+3])\n",
    "    recombination_rates = np.zeros([len(temperature),Z+3])\n",
    "    equilibrium_populations = np.zeros([len(temperature),Z+3])\n",
    "    for i in range(1,Z+2):\n",
    "        print('Calculating ion {}'.format(ch_tools.util.zion2name(Z,i)))\n",
    "        ion = ch.ion(ch_tools.util.zion2name(Z,i),temperature=temperature)\n",
    "        #ionization rate\n",
    "        ion.ionizRate()\n",
    "        ionization_rates[:,i] = ion.IonizRate['rate']\n",
    "        #recombination rate\n",
    "        ion.recombRate()\n",
    "        recombination_rates[:,i] = ion.RecombRate['rate']\n",
    "        #equilibrium populations\n",
    "        ion.ioneqOne()\n",
    "        equilibrium_populations[:,i] = ion.IoneqOne\n",
    "        \n",
    "    return temperature,ionization_rates,recombination_rates,equilibrium_populations"
   ]
  },
  {
   "cell_type": "code",
   "execution_count": null,
   "metadata": {
    "collapsed": true
   },
   "outputs": [],
   "source": [
    "def interpolate_rates(element,time,temperature,density):\n",
    "    Z = ch_tools.util.el2z(element)\n",
    "    ionization_rates = np.zeros([len(temperature),Z+3])\n",
    "    recombination_rates = np.zeros([len(temperature),Z+3])\n",
    "    nei_ionization_fractions = np.zeros([len(temperature),Z+3])\n",
    "    ieq_ionization_fractions = np.zeros([len(temperature),Z+3])\n",
    "    rough_temperature = np.logspace(np.log10(temperature.min()),np.log10(temperature.max()),100)\n",
    "    for i in range(1,Z+2):\n",
    "        print('Calculating ion {}'.format(ch_tools.util.zion2name(Z,i)))\n",
    "        ion = ch.ion(ch_tools.util.zion2name(Z,i),temperature=rough_temperature,eDensity=density.mean())\n",
    "        #ionization rate\n",
    "        ion.ionizRate()\n",
    "        iRate = splev(temperature,\n",
    "                     splrep(ion.Temperature,ion.IonizRate['rate']))\n",
    "        ionization_rates[:,i] = np.where(iRate<0,0,iRate)\n",
    "        #recombination rate\n",
    "        ion.recombRate()\n",
    "        rRate = splev(temperature,\n",
    "                     splrep(ion.Temperature,ion.RecombRate['rate']))\n",
    "        recombination_rates[:,i] = np.where(rRate<0,0,rRate)\n",
    "        #equilibrium ionization fractions\n",
    "        ion.ioneqOne()\n",
    "        ieq = splev(temperature,\n",
    "                   splrep(ion.Temperature,ion.IoneqOne))\n",
    "        ieq_ionization_fractions[:,i] = np.where(ieq<0,0,ieq)\n",
    "        nei_ionization_fractions[0,i] = ieq_ionization_fractions[0,i]\n",
    "        \n",
    "    return ionization_rates,recombination_rates,nei_ionization_fractions,ieq_ionization_fractions"
   ]
  },
  {
   "cell_type": "code",
   "execution_count": null,
   "metadata": {
    "collapsed": true
   },
   "outputs": [],
   "source": [
    "element = 'fe'\n",
    "ionization_rates,recombination_rates,nei_ionization_fractions,ieq_ionization_fractions = interpolate_rates(element,\n",
    "                                                                                                           time,\n",
    "                                                                                                           temperature,\n",
    "                                                                                                           density)"
   ]
  },
  {
   "cell_type": "markdown",
   "metadata": {},
   "source": [
    "### Solving the Differential Equations"
   ]
  },
  {
   "cell_type": "markdown",
   "metadata": {},
   "source": [
    "Now that we have the data, it is a matter of using it in our numerical method."
   ]
  },
  {
   "cell_type": "code",
   "execution_count": null,
   "metadata": {
    "collapsed": true
   },
   "outputs": [],
   "source": [
    "@numba.jit(nopython=True)\n",
    "def make_ir_matrix(iRate,rRate):\n",
    "    ir_matrix = np.zeros((iRate.shape[0]-2,iRate.shape[0]-2))\n",
    "    for i_diag in np.arange(iRate.shape[0]-2):\n",
    "        ir_matrix[i_diag,i_diag] = -(iRate[i_diag+1] + rRate[i_diag])\n",
    "        if i_diag > 0:\n",
    "            ir_matrix[i_diag,i_diag-1] = iRate[i_diag]\n",
    "            ir_matrix[i_diag-1,i_diag] = rRate[i_diag]\n",
    "\n",
    "    return ir_matrix"
   ]
  },
  {
   "cell_type": "code",
   "execution_count": null,
   "metadata": {
    "collapsed": true
   },
   "outputs": [],
   "source": [
    "@numba.jit(nopython=True)\n",
    "def integrate_ionization_fraction_mat(time,density,ieq_pops,ionRate,recRate,cutoff=1e-10):\n",
    "    dt = np.diff(time)\n",
    "    ion_pops = np.zeros(ieq_pops.shape)\n",
    "    ion_pops[0,:] = ieq_pops[0,:]\n",
    "    #ion_pops = np.where(ion_pops<cutoff,0,ion_pops)\n",
    "    for i in range(1,len(time)):\n",
    "        #make implicit method matrix\n",
    "        if i%int(len(time)/10)==0:\n",
    "            print(time[i])\n",
    "        ir_mat = make_ir_matrix(ionRate[i,:],recRate[i,:])\n",
    "        ir_mat_old = make_ir_matrix(ionRate[i-1,:],recRate[i-1,:])\n",
    "        plus_inv = 1.0 - ir_mat*dt[i-1]/2.*density[i]\n",
    "        old_inv = 1.0 + ir_mat_old*dt[i-1]/2.*density[i-1]\n",
    "        #invert and update\n",
    "        ion_pops[i,1:-1] = np.dot(np.dot(np.linalg.inv(plus_inv),old_inv),ion_pops[i-1,1:-1])\n",
    "        #normalize\n",
    "        ion_pops[i,:] = ion_pops[i,:]/np.sum(ion_pops[i,:])\n",
    "        #ion_pops = np.where(ion_pops<cutoff,0,ion_pops)\n",
    "        \n",
    "    return ion_pops"
   ]
  },
  {
   "cell_type": "code",
   "execution_count": null,
   "metadata": {
    "collapsed": true
   },
   "outputs": [],
   "source": [
    "@numba.jit(nopython=True)\n",
    "def integrate_ionization_fraction(time,density,ionization_fraction,ionRate,recRate):\n",
    "    dt = np.diff(time)\n",
    "    #normalize\n",
    "    ionization_fraction[0,:] = ionization_fraction[0,:]/np.sum(ionization_fraction[0,:])\n",
    "    for i in range(1,len(time)):\n",
    "        #dYdt_term1 = ionRate[i,:-2]*ionization_fraction[i-1,:-2]\n",
    "        #dYdt_term2 = recRate[i,1:-1]*ionization_fraction[i-1,2:]\n",
    "        #dYdt_term3 = ionRate[i,1:-1]*ionization_fraction[i-1,1:-1]\n",
    "        #dYdt_term4 = recRate[i,:-2]*ionization_fraction[i-1,1:-1]\n",
    "        #dYdt = density[i]*(dYdt_term1 + dYdt_term2 - dYdt_term3 - dYdt_term4)\n",
    "        mat_ir = make_ir_matrix(ionRate[i-1,:],recRate[i-1,:])\n",
    "        dYdt = density[i-1]*np.dot(mat_ir,ionization_fraction[i-1,1:-1])\n",
    "        ionization_fraction[i,1:-1] = ionization_fraction[i-1,1:-1] + dt[i-1]*dYdt\n",
    "        #normalize\n",
    "        ionization_fraction[i,:] = ionization_fraction[i,:]/np.sum(ionization_fraction[i,:])\n",
    "    \n",
    "    return ionization_fraction"
   ]
  },
  {
   "cell_type": "markdown",
   "metadata": {},
   "source": [
    "Try an explicit method with timestep control"
   ]
  },
  {
   "cell_type": "code",
   "execution_count": 5,
   "metadata": {
    "code_folding": [],
    "collapsed": true
   },
   "outputs": [],
   "source": [
    "@numba.jit(nopython=True)\n",
    "def numba_lagrange_interpolator(x_data,y_data,x):\n",
    "    #checks\n",
    "    if len(x_data) != len(y_data):\n",
    "        raise ValueError('x_data and y_data must be of equal length')\n",
    "    if len(x_data) < 3:\n",
    "        raise ValueError('Data must be at least length 3')\n",
    "    if x>np.max(x_data) or x<np.min(x_data):\n",
    "        raise ValueError('x is outside of the interpolation range.')\n",
    "    \n",
    "    # get the points\n",
    "    if len(np.where(x==x_data)[0])>0:\n",
    "        return y_data[np.where(x==x_data)[0][0]]\n",
    "    else:\n",
    "        i_min = np.where(x_data<x)[0][-1]\n",
    "        i_max = np.where(x_data>x)[0][0]\n",
    "        if i_min == 0:\n",
    "            i_mid,i_max = 1,2\n",
    "        else:\n",
    "            i_min,i_mid = i_max-2,i_max-1\n",
    "    \n",
    "    x0,x1,x2 = x_data[i_min],x_data[i_mid],x_data[i_max]\n",
    "    y0,y1,y2 = y_data[i_min],y_data[i_mid],y_data[i_max]\n",
    "    \n",
    "    # calculate Lagrange interpolation points\n",
    "    term1 = (x - x1)*(x - x2)/(x0 - x1)/(x0 - x2)*y0\n",
    "    term2 = (x - x0)*(x - x2)/(x1 - x0)/(x1 - x2)*y1\n",
    "    term3 = (x - x0)*(x - x1)/(x2 - x0)/(x2 - x1)*y2\n",
    "    \n",
    "    return term1 + term2 + term3"
   ]
  },
  {
   "cell_type": "code",
   "execution_count": 6,
   "metadata": {
    "collapsed": true
   },
   "outputs": [],
   "source": [
    "@numba.jit(nopython=True)\n",
    "def interpolator_wrapper(x_data,y_array_data,x,normalize=False,cutoff=0.):\n",
    "    y = np.zeros(y_array_data.shape[1])\n",
    "    for i in range(y_array_data.shape[1]):\n",
    "        y[i] = numba_lagrange_interpolator(x_data,y_array_data[:,i],x)\n",
    "    y = np.where(y<cutoff,np.zeros(len(y)),y)\n",
    "    if normalize:\n",
    "        y /= np.sum(y)\n",
    "    return y"
   ]
  },
  {
   "cell_type": "code",
   "execution_count": 7,
   "metadata": {
    "collapsed": true
   },
   "outputs": [],
   "source": [
    "@numba.jit(nopython=True)\n",
    "def solve_nei_explicit_control(t,T,n,I,R,EQ,T_data,cutoff=1e-10,eps_r=0.6,eps_d=0.1,\n",
    "                               safety=0.1,safety_increase=2.,safety_decrease=10.):\n",
    "        \n",
    "    #initialize all parameters\n",
    "    cur_time = t[0]\n",
    "    cur_temperature = T[0]\n",
    "    cur_density = n[0]\n",
    "    cur_pops = interpolator_wrapper(T_data,EQ,T[0],cutoff=cutoff,normalize=True)\n",
    "    cur_I = interpolator_wrapper(T_data,I,cur_temperature)\n",
    "    cur_R = interpolator_wrapper(T_data,R,cur_temperature)\n",
    "    \n",
    "    #create save parameters\n",
    "    time = np.zeros(t.shape)\n",
    "    temperature = np.zeros(t.shape)\n",
    "    density = np.zeros(t.shape)\n",
    "    nei_pops = np.zeros((t.shape[0],EQ.shape[1]))\n",
    "    time[0] = cur_time\n",
    "    temperature[0] = cur_temperature\n",
    "    density[0] = cur_density\n",
    "    nei_pops[0,:] = cur_pops\n",
    "    \n",
    "    dt_old = t[1] - t[0]\n",
    "    step = 1\n",
    "    save_this_step = False\n",
    "    #evolve in time\n",
    "    while cur_time < t[-1]:\n",
    "        dydt = cur_density*(cur_I[:-2]*cur_pops[:-2] + cur_R[1:-1]*cur_pops[2:]\n",
    "                            - cur_I[1:-1]*cur_pops[1:-1] - cur_R[:-2]*cur_pops[1:-1])\n",
    "        #dydt = np.where(dydt==0.0,1e-300*np.ones(len(dydt)),dydt)\n",
    "        #calculate timesteps\n",
    "        dt_1 = safety*eps_d/np.fabs(dydt)\n",
    "        dt_2 = 0.5*(10.**eps_r - 1 + np.fabs(10.**(-eps_r) - 1.))*cur_pops[1:-1]/np.fabs(dydt)\n",
    "        #dt_1 = np.where(cur_pops[1:-1]<cutoff,np.inf,dt_1)\n",
    "        dt_2 = np.where(cur_pops[1:-1]<cutoff,np.inf*np.ones(len(dt_2)),dt_2)\n",
    "        dt = np.min(np.stack((dt_1,dt_2)))\n",
    "        dt = max(dt,dt_old/safety_decrease) #dont let timestep decrease too quickly\n",
    "        dt = min(dt,safety_increase*dt_old) #dont let timestep increase too quickly\n",
    "        dt_old = dt\n",
    "        if cur_time + dt > t[step]:\n",
    "            dt = np.fabs(t[step] - cur_time)\n",
    "            save_this_step = True\n",
    "        #update\n",
    "        cur_time += dt\n",
    "        cur_pops[1:-1] = cur_pops[1:-1] + dydt*dt\n",
    "        cur_pops /= np.sum(cur_pops)\n",
    "        cur_pops = np.where(cur_pops<cutoff,np.zeros(len(cur_pops)),cur_pops)\n",
    "        cur_temperature = numba_lagrange_interpolator(t,T,cur_time)\n",
    "        cur_density = numba_lagrange_interpolator(t,n,cur_time)\n",
    "        cur_I = interpolator_wrapper(T_data,I,cur_temperature)\n",
    "        cur_R = interpolator_wrapper(T_data,R,cur_temperature)\n",
    "        #save\n",
    "        if save_this_step:\n",
    "            time[step] = cur_time\n",
    "            temperature[step] = cur_temperature\n",
    "            density[step] = cur_density\n",
    "            nei_pops[step,:] = cur_pops\n",
    "            step += 1\n",
    "            save_this_step = False\n",
    "        \n",
    "    return nei_pops"
   ]
  },
  {
   "cell_type": "markdown",
   "metadata": {},
   "source": [
    "Try solving with the matrix/implicit method"
   ]
  },
  {
   "cell_type": "code",
   "execution_count": null,
   "metadata": {
    "collapsed": true
   },
   "outputs": [],
   "source": [
    "nei_fractions = integrate_ionization_fraction_mat(time,\n",
    "                                                  density,\n",
    "                                                  ieq_ionization_fractions,\n",
    "                                                  ionization_rates,\n",
    "                                                  recombination_rates)"
   ]
  },
  {
   "cell_type": "code",
   "execution_count": null,
   "metadata": {
    "collapsed": true
   },
   "outputs": [],
   "source": [
    "#%%timeit\n",
    "nei_fractions_explicit = integrate_ionization_fraction(time,\n",
    "                                              density,\n",
    "                                              np.array(nei_ionization_fractions,copy=True),\n",
    "                                              ionization_rates,\n",
    "                                              recombination_rates)"
   ]
  },
  {
   "cell_type": "markdown",
   "metadata": {},
   "source": [
    "Use our explicit method with stepsize control to integrate the NEI equations."
   ]
  },
  {
   "cell_type": "code",
   "execution_count": 8,
   "metadata": {},
   "outputs": [
    {
     "name": "stdout",
     "output_type": "stream",
     "text": [
      "Calculating ion fe_1\n",
      " Elvlc file missing for fe_1\n",
      "Calculating ion fe_2\n",
      "Calculating ion fe_3\n",
      "Calculating ion fe_4\n",
      "Calculating ion fe_5\n",
      "Calculating ion fe_6\n",
      "Calculating ion fe_7\n",
      "Calculating ion fe_8\n",
      "Calculating ion fe_9\n",
      "Calculating ion fe_10\n",
      "Calculating ion fe_11\n",
      "Calculating ion fe_12\n",
      "Calculating ion fe_13\n",
      "Calculating ion fe_14\n",
      "Calculating ion fe_15\n",
      "Calculating ion fe_16\n",
      "Calculating ion fe_17\n",
      "Calculating ion fe_18\n",
      "Calculating ion fe_19\n",
      "Calculating ion fe_20\n",
      "Calculating ion fe_21\n",
      "Calculating ion fe_22\n",
      "Calculating ion fe_23\n",
      "Calculating ion fe_24\n",
      "Calculating ion fe_25\n",
      "Calculating ion fe_26\n",
      "Calculating ion fe_27\n"
     ]
    }
   ],
   "source": [
    "temperature_data,irates,rrates,eq_pops = get_rates('fe',logT0=4,logT1=8,dTemperature=0.01)"
   ]
  },
  {
   "cell_type": "code",
   "execution_count": 9,
   "metadata": {
    "collapsed": true
   },
   "outputs": [],
   "source": [
    "nei_pops_control = solve_nei_explicit_control(time,temperature,density,irates,rrates,eq_pops,temperature_data,\n",
    "                                                cutoff=1e-300)"
   ]
  },
  {
   "cell_type": "code",
   "execution_count": 10,
   "metadata": {},
   "outputs": [
    {
     "data": {
      "image/png": "[encoded data removed]",
      "text/plain": [
       "<matplotlib.figure.Figure at 0x7ff414e8f668>"
      ]
     },
     "metadata": {},
     "output_type": "display_data"
    }
   ],
   "source": [
    "fig = plt.figure(figsize=(10,4))\n",
    "ax = fig.gca()\n",
    "z1 = 1\n",
    "z2 = 27\n",
    "colors = sns.color_palette('husl',n_colors=z2-z1+1)\n",
    "for i,c in zip(range(z1,z2+1),colors):\n",
    "    #ax.plot(time,nei_fractions[:,i],color=c,label=r'Fe {}'.format(i),linestyle='-')\n",
    "    #ax.plot(time,nei_fractions_explicit[:,i],color=c,linestyle=':')\n",
    "    ax.plot(time,nei_pops_control[:,i],color=c,label=r'Fe {}'.format(i),linestyle='-')\n",
    "    ax.plot(time,splev(temperature,splrep(temperature_data,eq_pops[:,i])),color=c,linestyle='--')\n",
    "#ax.set_yscale('log')\n",
    "ax.set_ylim([1e-3,1])\n",
    "ax.set_xlim([1e-2,30])\n",
    "ax.set_xscale('log')\n",
    "#ax.legend(ncol=6)"
   ]
  },
  {
   "cell_type": "code",
   "execution_count": 18,
   "metadata": {},
   "outputs": [
    {
     "data": {
      "text/plain": [
       "array([[  0.00000000e+00,   0.00000000e+00,   0.00000000e+00, ...,\n",
       "          0.00000000e+00,   0.00000000e+00,   0.00000000e+00],\n",
       "       [  0.00000000e+00,   0.00000000e+00,   0.00000000e+00, ...,\n",
       "          0.00000000e+00,   0.00000000e+00,   0.00000000e+00],\n",
       "       [  3.62016894e-66,   3.62016894e-66,   3.62016894e-66, ...,\n",
       "          3.62016894e-66,   3.62016894e-66,   3.62016894e-66],\n",
       "       ..., \n",
       "       [  7.10109793e-05,   7.10109793e-05,   7.10109793e-05, ...,\n",
       "          7.10109793e-05,   7.10109793e-05,   7.10109793e-05],\n",
       "       [  7.09920574e-05,   7.09920574e-05,   7.09920574e-05, ...,\n",
       "          7.09920574e-05,   7.09920574e-05,   7.09920574e-05],\n",
       "       [  7.09732559e-05,   7.09732559e-05,   7.09732559e-05, ...,\n",
       "          7.09732559e-05,   7.09732559e-05,   7.09732559e-05]])"
      ]
     },
     "execution_count": 18,
     "metadata": {},
     "output_type": "execute_result"
    }
   ],
   "source": [
    "np.repeat(nei_pops_control[:,10,np.newaxis],10,axis=1)"
   ]
  },
  {
   "cell_type": "markdown",
   "metadata": {
    "collapsed": true
   },
   "source": [
    "\n",
    "## Comparisons with IonPopSolver Code\n",
    "Now we'll make a direct comparison with the C++ `IonPopSolver` code."
   ]
  },
  {
   "cell_type": "markdown",
   "metadata": {},
   "source": [
    "Run the `IonPopSolver` code for the full range of population fractions for the sample data."
   ]
  },
  {
   "cell_type": "code",
   "execution_count": null,
   "metadata": {
    "collapsed": true
   },
   "outputs": [],
   "source": [
    "executable = ['/home/wtb2/Documents/IonPopSolver/bin/IonPopSolver.run']\n",
    "ips_args = [\"-Z\",\"26\",\"-f\",\"1\",\"-t\",\"27\",\n",
    "            \"-r\",'/home/wtb2/Documents/IonPopSolver/test/radiation.local.cfg.xml',\n",
    "            \"-I\",\"/home/wtb2/Documents/IonPopSolver/test/Tt_nt_1.txt\",\n",
    "            \"-O\",\"/home/wtb2/Documents/research_notebook/FieldLineViz/nei_prototyping_ips_test.txt\"\n",
    "           ]"
   ]
  },
  {
   "cell_type": "code",
   "execution_count": null,
   "metadata": {
    "collapsed": true
   },
   "outputs": [],
   "source": [
    "subprocess.call(executable+ips_args)"
   ]
  },
  {
   "cell_type": "markdown",
   "metadata": {},
   "source": [
    "Import the results"
   ]
  },
  {
   "cell_type": "code",
   "execution_count": null,
   "metadata": {
    "collapsed": true
   },
   "outputs": [],
   "source": [
    "ips_results = np.loadtxt('nei_prototyping_ips_test.txt')\n",
    "time_ips,temperature_ips,Teff_ips,density_ips,nei_fractions_ips = ips_results[:,0],ips_results[:,1],ips_results[:,2],ips_results[:,3],ips_results[:,4:]"
   ]
  },
  {
   "cell_type": "code",
   "execution_count": null,
   "metadata": {
    "collapsed": true
   },
   "outputs": [],
   "source": [
    "fig,axes = plt.subplots(1,2)\n",
    "axes[0].plot(time_ips,temperature_ips)\n",
    "axes[0].plot(time_ips,Teff_ips,'--r')\n",
    "axes[1].plot(time_ips,density_ips)"
   ]
  },
  {
   "cell_type": "markdown",
   "metadata": {},
   "source": [
    "Compare this with our new controlled solver."
   ]
  },
  {
   "cell_type": "code",
   "execution_count": null,
   "metadata": {
    "collapsed": true
   },
   "outputs": [],
   "source": [
    "nei_pops_c_ips = solve_nei_explicit_control(time_ips,temperature_ips,density_ips,\n",
    "                                                                            irates,rrates,eq_pops,temperature_data,\n",
    "                                                                    cutoff=1e-100)"
   ]
  },
  {
   "cell_type": "code",
   "execution_count": null,
   "metadata": {
    "collapsed": true
   },
   "outputs": [],
   "source": [
    "fig = plt.figure(figsize=(10,4))\n",
    "ax = fig.gca()\n",
    "z1 = 1\n",
    "z2 = 27\n",
    "colors = sns.color_palette('husl',n_colors=z2-z1+1)\n",
    "for i,c in zip(range(z1,z2+1),colors):\n",
    "    ax.plot(time_ips,nei_pops_c_ips[:,i],color=c,label=r'Fe {}'.format(i),linestyle='-')\n",
    "    ax.plot(time_ips,nei_fractions_ips[:,i-1],color=c,linestyle='--')\n",
    "    #ax.plot(t_c_ips,interp1d(temperature_data,eq_pops,axis=0)(T_c_ips)[:,i],color=c,linestyle=':')\n",
    "ax.set_yscale('log')\n",
    "ax.set_ylim([1e-3,0.8])\n",
    "ax.set_xlim([2,30])\n",
    "ax.set_xscale('log')\n",
    "#ax.legend(ncol=6)"
   ]
  },
  {
   "cell_type": "markdown",
   "metadata": {},
   "source": [
    "Plot ionization and recombination rates."
   ]
  },
  {
   "cell_type": "code",
   "execution_count": null,
   "metadata": {
    "collapsed": true
   },
   "outputs": [],
   "source": [
    "temperature_data,iRate_data,rRate_data,eq_pops = get_rates('fe')"
   ]
  },
  {
   "cell_type": "code",
   "execution_count": null,
   "metadata": {
    "collapsed": true
   },
   "outputs": [],
   "source": [
    "iRate_interp = np.array([splev(temperature,splrep(temperature_data,iRate_data[:,i])) for i in range(iRate_data.shape[1])])\n",
    "iRate_interp = np.where(iRate_interp<0,0,iRate_interp).T\n",
    "rRate_interp = np.array([splev(temperature,splrep(temperature_data,rRate_data[:,i])) for i in range(rRate_data.shape[1])])\n",
    "rRate_interp = np.where(rRate_interp<0,0,rRate_interp).T"
   ]
  },
  {
   "cell_type": "code",
   "execution_count": null,
   "metadata": {
    "collapsed": true
   },
   "outputs": [],
   "source": [
    "fig,axes = plt.subplots(1,2,figsize=(10,4))\n",
    "z1 = 1\n",
    "z2 = 27\n",
    "colors = sns.color_palette('husl',n_colors=z2-z1+1)\n",
    "for i,c in zip(range(z1,z2+1),colors):\n",
    "    axes[0].plot(temperature_data,iRate_data[:,i],color=c,alpha=0.5)\n",
    "    axes[0].plot(temperature,iRate_interp[:,i],color=c,marker='o',markersize=5,markevery=30,alpha=0.5)\n",
    "    axes[1].plot(temperature_data,rRate_data[:,i],color=c,alpha=0.5,label=r'Fe {}'.format(i))\n",
    "    axes[1].plot(temperature,rRate_interp[:,i],color=c,marker='o',markersize=5,markevery=30,alpha=0.5)\n",
    "axes[0].set_yscale('log')\n",
    "axes[0].set_xscale('log')\n",
    "axes[1].set_yscale('log')\n",
    "axes[1].set_xscale('log')\n",
    "axes[0].set_ylim([1e-20,1e-6])\n",
    "axes[1].set_ylim([1e-15,1e-8])\n",
    "axes[0].set_xlim([1e5,3e7])\n",
    "axes[1].set_xlim([1e5,3e7])\n",
    "axes[1].legend(ncol=7,loc='best')"
   ]
  },
  {
   "cell_type": "markdown",
   "metadata": {
    "collapsed": true
   },
   "source": [
    "## Tests with Loop Solutions\n",
    "Now we'll load an actual loop $T$ and $n$ and compute the population fractions."
   ]
  },
  {
   "cell_type": "code",
   "execution_count": null,
   "metadata": {
    "collapsed": true
   },
   "outputs": [],
   "source": [
    "ih = InputHandler('/data/datadrive2/ar_viz/nessf_example/hydro_config/loop0.xml')\n",
    "input_dict = ih.lookup_vars()"
   ]
  },
  {
   "cell_type": "code",
   "execution_count": null,
   "metadata": {
    "collapsed": true
   },
   "outputs": [],
   "source": [
    "input_dict['output_filename'] = '/home/wtb2/Documents/research_notebook/FieldLineViz/nei_prototyping_ebtel_test'"
   ]
  },
  {
   "cell_type": "code",
   "execution_count": null,
   "metadata": {
    "collapsed": true
   },
   "outputs": [],
   "source": [
    "oh = OutputHandler(input_dict['output_filename']+'.xml',input_dict)"
   ]
  },
  {
   "cell_type": "code",
   "execution_count": null,
   "metadata": {
    "collapsed": true
   },
   "outputs": [],
   "source": [
    "oh.print_to_xml()"
   ]
  },
  {
   "cell_type": "code",
   "execution_count": null,
   "metadata": {
    "collapsed": true
   },
   "outputs": [],
   "source": [
    "executable = ['/home/wtb2/Documents/ebtelPlusPlus/bin/ebtel++.run']\n",
    "ebtel_args = [\"-c\",\"/home/wtb2/Documents/research_notebook/FieldLineViz/nei_prototyping_ebtel_test.xml\"\n",
    "           ]"
   ]
  },
  {
   "cell_type": "code",
   "execution_count": null,
   "metadata": {
    "collapsed": true
   },
   "outputs": [],
   "source": [
    "subprocess.call(executable+ebtel_args)"
   ]
  },
  {
   "cell_type": "markdown",
   "metadata": {},
   "source": [
    "Import results"
   ]
  },
  {
   "cell_type": "code",
   "execution_count": null,
   "metadata": {
    "collapsed": true
   },
   "outputs": [],
   "source": [
    "data = np.loadtxt(input_dict['output_filename'])\n",
    "loop_time = data[:,0]\n",
    "loop_temperature = data[:,1]\n",
    "loop_density = data[:,3]"
   ]
  },
  {
   "cell_type": "code",
   "execution_count": null,
   "metadata": {
    "collapsed": true
   },
   "outputs": [],
   "source": [
    "fig,axes = plt.subplots(1,2)\n",
    "axes[0].plot(loop_time,loop_temperature)\n",
    "#axes[0].set_xlim([0,200])\n",
    "axes[1].plot(loop_time,loop_density)\n",
    "#axes[1].set_xlim([0,200])"
   ]
  },
  {
   "cell_type": "code",
   "execution_count": null,
   "metadata": {
    "collapsed": true
   },
   "outputs": [],
   "source": [
    "plt.plot(loop_time[1:],np.diff(loop_time))\n",
    "plt.yscale('log')"
   ]
  },
  {
   "cell_type": "code",
   "execution_count": null,
   "metadata": {
    "collapsed": true
   },
   "outputs": [],
   "source": [
    "%%timeit\n",
    "nei_pops_loop = solve_nei_explicit_control(loop_time,loop_temperature,loop_density,\n",
    "                                            irates,rrates,eq_pops,temperature_data,\n",
    "                                           )"
   ]
  },
  {
   "cell_type": "code",
   "execution_count": null,
   "metadata": {
    "collapsed": true
   },
   "outputs": [],
   "source": [
    "fig = plt.figure(figsize=(10,4))\n",
    "ax = fig.gca()\n",
    "z1 = 1\n",
    "z2 = 27\n",
    "colors = sns.color_palette('husl',n_colors=z2-z1+1)\n",
    "for i,c in zip(range(z1,z2+1),colors):\n",
    "    ax.plot(loop_time,nei_pops_loop[:,i],color=c,label=r'Fe {}'.format(i))\n",
    "    ax.plot(loop_time,interp1d(temperature_data,eq_pops,axis=0)(loop_temperature)[:,i],color=c,linestyle='--')\n",
    "    #ax.plot(time_loop_ips,nei_pops_ips[:,i-1],color=c,linestyle='--')\n",
    "#ax.set_yscale('log')\n",
    "ax.set_ylim([1e-6,1])\n",
    "ax.set_xlim([1300,4000])\n",
    "#ax.set_xscale('log')\n",
    "#ax.legend(ncol=6)"
   ]
  },
  {
   "cell_type": "markdown",
   "metadata": {},
   "source": [
    "Now compare with the `IonPopSolver` code."
   ]
  },
  {
   "cell_type": "code",
   "execution_count": null,
   "metadata": {
    "collapsed": true
   },
   "outputs": [],
   "source": [
    "np.savetxt('loop_test.ips.input',np.transpose([field.loops[0].time.value,\n",
    "                                               field.loops[0].temperature[:,0].value,\n",
    "                                               field.loops[0].density[:,0].value]),\n",
    "          header=str(len(field.loops[0].time.value)),comments='',fmt='%f\\t%e\\t%e')"
   ]
  },
  {
   "cell_type": "code",
   "execution_count": null,
   "metadata": {
    "collapsed": true
   },
   "outputs": [],
   "source": [
    "executable = ['/home/wtb2/Documents/IonPopSolver/bin/IonPopSolver.run']\n",
    "ips_args = [\"-Z\",\"26\",\"-f\",\"1\",\"-t\",\"27\",\n",
    "            \"-r\",'/home/wtb2/Documents/research_notebook/FieldLineViz/rad_config.xml',\n",
    "            \"-I\",\"/home/wtb2/Documents/research_notebook/FieldLineViz/loop_test.ips.input\",\n",
    "            \"-O\",\"/home/wtb2/Documents/research_notebook/FieldLineViz/loop_test.ips.output\"\n",
    "           ]"
   ]
  },
  {
   "cell_type": "code",
   "execution_count": null,
   "metadata": {
    "collapsed": true
   },
   "outputs": [],
   "source": [
    "subprocess.call(executable+ips_args)"
   ]
  },
  {
   "cell_type": "code",
   "execution_count": null,
   "metadata": {
    "collapsed": true
   },
   "outputs": [],
   "source": [
    "ips__loop_results = np.loadtxt('/home/wtb2/Documents/research_notebook/FieldLineViz/loop_test.ips.output')\n",
    "time_loop_ips,temperature_loop_ips,Teff_loop_ips,density_loop_ips,nei_pops_ips = ips_loop_results[:,0],ips_loop_results[:,1],ips_loop_results[:,2],ips_loop_results[:,3],ips_loop_results[:,4:]"
   ]
  },
  {
   "cell_type": "markdown",
   "metadata": {},
   "source": [
    "## Read in Atomic Data from `apolloDB`"
   ]
  },
  {
   "cell_type": "markdown",
   "metadata": {},
   "source": [
    "Read in the equilibrium populations from `apolloDB`."
   ]
  },
  {
   "cell_type": "code",
   "execution_count": null,
   "metadata": {
    "collapsed": true
   },
   "outputs": [],
   "source": [
    "eq_pops_adb = []\n",
    "temperature_data_adb = []\n",
    "with open('/home/wtb2/Documents/apolloDB/balances/ips_01dex/fe.bal','r') as f:\n",
    "    all_lines = f.readlines()\n",
    "    for line in all_lines:\n",
    "        tmp = line.strip('\\n').split('\\t')\n",
    "        temperature_data_adb.append(tmp[0])\n",
    "        eq_pops_adb.append(['0.']+tmp[1:-1]+['0.'])\n",
    "eq_pops_adb = np.array(eq_pops_adb,dtype=np.longdouble)\n",
    "temperature_data_adb = 10.**np.array(temperature_data_adb,dtype=np.longdouble)"
   ]
  },
  {
   "cell_type": "markdown",
   "metadata": {},
   "source": [
    "Read in recombination and ionizations rates."
   ]
  },
  {
   "cell_type": "code",
   "execution_count": null,
   "metadata": {
    "collapsed": true
   },
   "outputs": [],
   "source": [
    "Z = eq_pops_adb.shape[1]-3\n",
    "ionization_rates_adb = np.zeros((len(temperature_data_adb),Z+3),dtype=np.longdouble)\n",
    "recombination_rates_adb = np.zeros((len(temperature_data_adb),Z+3),dtype=np.longdouble)\n",
    "with open('/home/wtb2/Documents/apolloDB/rates/ips_01dex/fe.rts','r') as f:\n",
    "    #ionization rates\n",
    "    for i in range(1,Z+1):\n",
    "        f.readline()\n",
    "        f.readline()\n",
    "        rates_tmp = []\n",
    "        for j in range(int(len(temperature_data_adb)/10)+len(temperature_data_adb)%10):\n",
    "            thisline = f.readline().strip('\\n')\n",
    "            rates_tmp += thisline.split('\\t')[:-1]\n",
    "        ionization_rates_adb[:,i] = np.array(rates_tmp,dtype=np.longdouble)\n",
    "        f.readline()\n",
    "    #recombination rates\n",
    "    for i in range(2,Z+2):\n",
    "        f.readline()\n",
    "        f.readline()\n",
    "        rates_tmp = []\n",
    "        for j in range(int(len(temperature_data_adb)/10)+len(temperature_data_adb)%10):\n",
    "            thisline = f.readline().strip('\\n')\n",
    "            rates_tmp += thisline.split('\\t')[:-1]\n",
    "        recombination_rates_adb[:,i] = np.array(rates_tmp,dtype=np.longdouble)\n",
    "        f.readline()"
   ]
  },
  {
   "cell_type": "code",
   "execution_count": null,
   "metadata": {
    "collapsed": true
   },
   "outputs": [],
   "source": [
    "fig,axes = plt.subplots(1,2,figsize=(12,6))\n",
    "z1 = 1\n",
    "z2 = 27\n",
    "colors = sns.color_palette('husl',n_colors=z2-z1+1)\n",
    "for i,c in zip(range(z1,z2+1),colors):\n",
    "    axes[0].plot(temperature_data,iRate_data[:,i],color=c,alpha=0.5)\n",
    "    axes[0].plot(temperature_data_adb,ionization_rates_adb[:,i],color=c,marker='o',\n",
    "                 markersize=5,markevery=20,alpha=0.5,linestyle='None')\n",
    "    axes[1].plot(temperature_data,rRate_data[:,i],color=c,alpha=0.5,label=r'Fe {}'.format(i))\n",
    "    axes[1].plot(temperature_data_adb,recombination_rates_adb[:,i],color=c,marker='o',\n",
    "                    markersize=5,markevery=20,alpha=0.5,linestyle='None')\n",
    "axes[0].set_yscale('log')\n",
    "axes[0].set_xscale('log')\n",
    "axes[1].set_yscale('log')\n",
    "axes[1].set_xscale('log')\n",
    "axes[0].set_ylim([1e-20,1e-6])\n",
    "axes[1].set_ylim([1e-13,1e-8])\n",
    "axes[0].set_xlim([1e4,1e8])\n",
    "axes[1].set_xlim([1e4,1e8])\n",
    "#axes[1].legend(ncol=7,loc='best')"
   ]
  },
  {
   "cell_type": "code",
   "execution_count": null,
   "metadata": {
    "collapsed": true
   },
   "outputs": [],
   "source": [
    "len(temperature_data_adb[150:200:17])"
   ]
  },
  {
   "cell_type": "code",
   "execution_count": null,
   "metadata": {
    "collapsed": true
   },
   "outputs": [],
   "source": [
    "fig,axes = plt.subplots(1,2,figsize=(12,6))\n",
    "z1 = 1\n",
    "z2 = 27\n",
    "colors = sns.color_palette('husl',n_colors=z2-z1+1)\n",
    "for i,c in zip(range(z1,z2+1),colors):\n",
    "    #axes[0].plot(temperature_data,iRate_data[:,i],color=c,alpha=0.5)\n",
    "    points_x = temperature_data_adb[150:200:17]\n",
    "    points_y = ionization_rates_adb[150:200:17,i]\n",
    "    x_interp = np.linspace(points_x[0],points_x[-1],10)\n",
    "    y_interp = numba_lagrange_interpolator(points_x.astype(np.float),\n",
    "                                           points_y.astype(np.float),\n",
    "                                           x_interp.astype(np.float))\n",
    "    axes[0].plot(points_x,points_y,color=c,marker='o',\n",
    "                 markersize=5,\n",
    "                 #markevery=20,\n",
    "                 alpha=0.5,\n",
    "                 linestyle='None')\n",
    "    axes[0].plot(temperature_data_adb[150:200],ionization_rates_adb[150:200],color=c,\n",
    "                 alpha=0.5,\n",
    "                 linestyle='-')\n",
    "    axes[0].plot(x_interp,y_interp,'--k')\n",
    "    #axes[1].plot(temperature_data,rRate_data[:,i],color=c,alpha=0.5,label=r'Fe {}'.format(i))\n",
    "    points_x = temperature_data_adb[150:200:10]\n",
    "    points_y = recombination_rates_adb[150:200:10,i]\n",
    "    axes[1].plot(points_x,points_y,color=c,marker='o',\n",
    "                    markersize=5,\n",
    "                    #markevery=20,\n",
    "                    alpha=0.5,\n",
    "                    linestyle='None')\n",
    "#axes[0].set_yscale('log')\n",
    "#axes[0].set_xscale('log')\n",
    "#axes[1].set_yscale('log')\n",
    "#axes[1].set_xscale('log')\n",
    "#axes[0].set_ylim([1e-20,1e-6])\n",
    "#axes[1].set_ylim([1e-13,1e-8])\n",
    "#axes[0].set_xlim([1e4,1e8])\n",
    "#axes[1].set_xlim([1e4,1e8])\n",
    "#axes[1].legend(ncol=7,loc='best')"
   ]
  },
  {
   "cell_type": "markdown",
   "metadata": {},
   "source": [
    "Let's try computing the NEI populations with this alternate set of rates."
   ]
  },
  {
   "cell_type": "code",
   "execution_count": null,
   "metadata": {
    "collapsed": true
   },
   "outputs": [],
   "source": [
    "t_adb,T_adb,n_adb,nei_pops_adb = solve_nei_explicit_control(time_ips,temperature_ips,density_ips,\n",
    "                                                            ionization_rates_adb,\n",
    "                                                            recombination_rates_adb,\n",
    "                                                            eq_pops_adb,temperature_data_adb,cutoff=1e-10,\n",
    "                                                            safety_increase=1.5,safety_decrease=np.inf\n",
    "                                                           )"
   ]
  },
  {
   "cell_type": "code",
   "execution_count": null,
   "metadata": {
    "collapsed": true
   },
   "outputs": [],
   "source": [
    "fig = plt.figure(figsize=(12,6))\n",
    "ax = fig.gca()\n",
    "#ax2 = ax.twinx()\n",
    "z1 = 10\n",
    "z2 = 15\n",
    "colors = sns.color_palette('husl',n_colors=z2-z1+1)\n",
    "for i,c in zip(range(z1,z2+1),colors):\n",
    "    #ax.plot(t_c_ips,nei_pops_c_ips[:,i],color=c,linestyle=':')\n",
    "    ax.plot(t_adb,nei_pops_adb[:,i],color=c,label=r'Fe {}'.format(i),linestyle='-')\n",
    "    ax.plot(time_ips,nei_fractions_ips[:,i-1],color=c,linestyle='--')\n",
    "    ax.plot(t_adb,interp1d(temperature_data_adb,eq_pops_adb,axis=0)(T_adb)[:,i],color=c,linestyle='-.')\n",
    "#ax2.plot(t_adb,T_adb,color='k',lw=3,alpha=0.4)\n",
    "#ax2.plot(time_ips,temperature_ips,color='b',lw=3,alpha=0.4)\n",
    "ax.set_yscale('log')\n",
    "ax.set_ylim([1e-3,1])\n",
    "ax.set_xlim([1e0,30])\n",
    "ax.set_xscale('log')\n",
    "ax.legend(ncol=2,loc='best')"
   ]
  },
  {
   "cell_type": "markdown",
   "metadata": {
    "collapsed": true
   },
   "source": [
    "## Interpolation Tests\n",
    "Test the new interpolator."
   ]
  },
  {
   "cell_type": "code",
   "execution_count": null,
   "metadata": {
    "collapsed": true
   },
   "outputs": [],
   "source": [
    "temperature_data,iRate_data,rRate_data,eq_pops = get_rates('fe')"
   ]
  },
  {
   "cell_type": "code",
   "execution_count": null,
   "metadata": {
    "collapsed": true
   },
   "outputs": [],
   "source": [
    "temp_hi_res = np.linspace(1e5,2e6,100)\n",
    "irate_hi_res = np.array([numba_lagrange_interpolator(temperature_data,iRate_data[:,5],thr) for thr in temp_hi_res])"
   ]
  },
  {
   "cell_type": "code",
   "execution_count": null,
   "metadata": {
    "collapsed": true
   },
   "outputs": [],
   "source": [
    "plt.plot(temperature_data,iRate_data[:,5])\n",
    "plt.plot(temp_hi_res,irate_hi_res,'ko',markevery=20,markersize=5)\n",
    "plt.ylim([1e-15,1e-6])\n",
    "plt.xscale('log')\n",
    "plt.yscale('log')"
   ]
  },
  {
   "cell_type": "code",
   "execution_count": null,
   "metadata": {
    "collapsed": true
   },
   "outputs": [],
   "source": []
  }
 ],
 "metadata": {
  "anaconda-cloud": {},
  "kernelspec": {
   "display_name": "Python [conda env:synthesizar]",
   "language": "python",
   "name": "conda-env-synthesizar-py"
  },
  "language_info": {
   "codemirror_mode": {
    "name": "ipython",
    "version": 3
   },
   "file_extension": ".py",
   "mimetype": "text/x-python",
   "name": "python",
   "nbconvert_exporter": "python",
   "pygments_lexer": "ipython3",
   "version": "3.5.4"
  }
 },
 "nbformat": 4,
 "nbformat_minor": 1
}
