{
 "cells": [
  {
   "cell_type": "markdown",
   "metadata": {},
   "source": [
    "# Testing a Model for Calculating Emissivity\n",
    "In this notebook, we'll test out an emissivity model for calculating the power per unit volume for each loop in our AR using the expression,\n",
    "$$\n",
    "P(\\lambda_{ij}) = 0.83\\mathrm{Ab}(X)\\left(\\frac{N_j(X^{+m})}{N(X^{+m})}A_{ji}\\Delta E_{ji}\\right)\\frac{N(X^{+m})}{N(X)}n_e\n",
    "$$\n",
    "\n",
    "The term in the parentheses is calculated by ChiantiPy and has units of erg s$^{-1}$. The fractional ionization $\\frac{N(X^{+m})}{N(X)}$ can also be calculated by ChiantiPy assuming ionization equilbrium though there may be times when we will take non-equilibrium ionization into account and do this calculation ourselves.\n",
    "\n",
    "The idea is that we'll have a base emission model class that does the basic CHIANTI calculations for emissivity and then also the fractional ionization calculation. To include a non-equilibrium ionization calculation, we can just subclass this base emission model and then include the NEI calculation for each loop."
   ]
  },
  {
   "cell_type": "code",
   "execution_count": 2,
   "metadata": {
    "collapsed": false
   },
   "outputs": [
    {
     "name": "stderr",
     "output_type": "stream",
     "text": [
      "/opt/anaconda3/envs/synthesizar/lib/python3.5/site-packages/IPython/html.py:14: ShimWarning: The `IPython.html` package has been deprecated. You should import from `notebook` instead. `IPython.html.widgets` has moved to `ipywidgets`.\n",
      "  \"`IPython.html.widgets` has moved to `ipywidgets`.\", ShimWarning)\n"
     ]
    },
    {
     "name": "stdout",
     "output_type": "stream",
     "text": [
      " using cli\n",
      " using CLI for selections\n",
      " reading chiantirc file\n"
     ]
    },
    {
     "name": "stderr",
     "output_type": "stream",
     "text": [
      "WARNING: AstropyDeprecationWarning: astropy.utils.compat.odict.OrderedDict is now deprecated - import OrderedDict from the collections module instead [astropy.utils.compat.odict]\n",
      "/opt/anaconda3/envs/synthesizar/lib/python3.5/site-packages/matplotlib/__init__.py:1357: UserWarning:  This call to matplotlib.use() has no effect\n",
      "because the backend has already been chosen;\n",
      "matplotlib.use() must be called *before* pylab, matplotlib.pyplot,\n",
      "or matplotlib.backends is imported for the first time.\n",
      "\n",
      "  warnings.warn(_use_error_msg)\n"
     ]
    }
   ],
   "source": [
    "import os\n",
    "import subprocess\n",
    "import pickle\n",
    "import logging\n",
    "import copy\n",
    "\n",
    "import numpy as np\n",
    "import scipy\n",
    "import seaborn as sns\n",
    "import ChiantiPy.core as ch\n",
    "import ChiantiPy.tools as ch_tools\n",
    "import h5py\n",
    "import astropy.units as u\n",
    "import astropy.constants as const\n",
    "import sunpy.map\n",
    "import sunpy.cm\n",
    "from sunpy.net import vso\n",
    "import matplotlib\n",
    "import matplotlib.pyplot as plt\n",
    "import matplotlib.colors\n",
    "from matplotlib.patches import Rectangle\n",
    "from IPython.display import HTML\n",
    "\n",
    "import synthesizAR\n",
    "import synthesizAR.util\n",
    "from synthesizAR.model_ext import EbtelInterface,PowerLawScaledWaitingTimes,UniformHeating\n",
    "from synthesizAR.atomic import ChIon\n",
    "from synthesizAR.instruments import InstrumentSDOAIA,InstrumentHinodeEIS\n",
    "\n",
    "sns.set_context(context='notebook',font_scale=1.5)\n",
    "logging.basicConfig(level=logging.INFO)\n",
    "%matplotlib inline"
   ]
  },
  {
   "cell_type": "code",
   "execution_count": null,
   "metadata": {
    "collapsed": true
   },
   "outputs": [],
   "source": [
    "ar_root = os.path.join('/','data','datadrive2','ar_viz','emiss_model_testing')"
   ]
  },
  {
   "cell_type": "markdown",
   "metadata": {
    "collapsed": true
   },
   "source": [
    "## Field Setup"
   ]
  },
  {
   "cell_type": "code",
   "execution_count": null,
   "metadata": {
    "collapsed": false
   },
   "outputs": [],
   "source": [
    "client = vso.VSOClient()\n",
    "result_hmi = client.query(\n",
    "     vso.attrs.Time((2013, 1, 1, 7, 34, 0), (2013, 1, 1, 9, 0, 0)),\n",
    "     vso.attrs.Instrument('HMI'),\n",
    "     vso.attrs.Physobs('LOS_magnetic_field'),   # Physical observables\n",
    "     vso.attrs.Sample(5000 * u.s)\n",
    ")\n",
    "data_hmi = client.get(result_hmi,methods=('URL-FILE_Rice','URL-FILE')).wait()"
   ]
  },
  {
   "cell_type": "code",
   "execution_count": null,
   "metadata": {
    "collapsed": false
   },
   "outputs": [],
   "source": [
    "crop = (u.Quantity([-140,90]*u.arcsec),u.Quantity([420,560]*u.arcsec))\n",
    "resample = u.Quantity([100,100]*u.pixel)\n",
    "field = synthesizAR.Skeleton(data_hmi[0],crop=crop,resample=resample)\n",
    "zshape=50\n",
    "zrange=u.Quantity([0.,150.]*u.arcsec)\n",
    "field.extrapolate_field(zshape,zrange)"
   ]
  },
  {
   "cell_type": "code",
   "execution_count": null,
   "metadata": {
    "collapsed": false,
    "scrolled": true
   },
   "outputs": [],
   "source": [
    "field.extract_streamlines(200)"
   ]
  },
  {
   "cell_type": "code",
   "execution_count": null,
   "metadata": {
    "collapsed": false
   },
   "outputs": [],
   "source": [
    "field.peek(alpha=0.6)"
   ]
  },
  {
   "cell_type": "markdown",
   "metadata": {},
   "source": [
    "## Loop Simulations"
   ]
  },
  {
   "cell_type": "code",
   "execution_count": null,
   "metadata": {
    "collapsed": true
   },
   "outputs": [],
   "source": [
    "field.make_loops()"
   ]
  },
  {
   "cell_type": "code",
   "execution_count": null,
   "metadata": {
    "collapsed": true
   },
   "outputs": [],
   "source": [
    "heating_options = {\n",
    "    'duration':200.0,\n",
    "    'duration_rise':100.0,\n",
    "    'duration_decay':100.0,\n",
    "    'average_waiting_time':5000.0,\n",
    "    'stress_level':0.05,\n",
    "    'alpha':-2.5,\n",
    "    'delta_power_law_bounds':100,\n",
    "    'waiting_time_scaling':1.0,\n",
    "}\n",
    "heating_model = UniformHeating(heating_options)"
   ]
  },
  {
   "cell_type": "code",
   "execution_count": null,
   "metadata": {
    "collapsed": false
   },
   "outputs": [],
   "source": [
    "ih = synthesizAR.util.InputHandler(os.path.join(os.environ['RESEARCH_DIR'],'ebtelPlusPlus/config/ebtel.example.cfg.xml'))\n",
    "base_config = ih.lookup_vars()\n",
    "base_config['c1_cond0'] = 6.0\n",
    "base_config['use_adaptive_solver'] = True\n",
    "base_config['tau'] = 1.0\n",
    "base_config['adaptive_solver_error'] = 1e-12\n",
    "base_config['adaptive_solver_safety'] = 0.01\n",
    "base_config['total_time'] = 5000.0\n",
    "ebtel_plug = EbtelInterface(base_config,heating_model)\n",
    "field.configure_loop_simulations(ebtel_plug,\n",
    "                                 parent_config_dir=os.path.join(ar_root,'hydro_config'),\n",
    "                                 parent_results_dir=os.path.join(ar_root,'hydro_results'))"
   ]
  },
  {
   "cell_type": "code",
   "execution_count": null,
   "metadata": {
    "collapsed": true
   },
   "outputs": [],
   "source": [
    "for loop in field.loops:\n",
    "    subprocess.call([os.path.join(os.environ['RESEARCH_DIR'],'ebtelPlusPlus/bin/ebtel++.run'),\n",
    "                     '-c',loop.hydro_configuration['config_filename']])"
   ]
  },
  {
   "cell_type": "code",
   "execution_count": null,
   "metadata": {
    "collapsed": true
   },
   "outputs": [],
   "source": [
    "field.load_loop_simulations(ebtel_plug,savefile=os.path.join(ar_root,'loop_parameters.h5'))"
   ]
  },
  {
   "cell_type": "code",
   "execution_count": null,
   "metadata": {
    "collapsed": false
   },
   "outputs": [],
   "source": [
    "fig,ax = plt.subplots(2,1,figsize=(10,8),sharex=True)\n",
    "for loop in field.loops:\n",
    "    ax[0].plot(loop.time,loop.temperature[:,0],color=sns.color_palette('deep')[0],alpha=0.3)\n",
    "    ax[1].plot(loop.time,loop.density[:,0],color=sns.color_palette('deep')[2],alpha=0.3)\n",
    "ax[0].set_ylabel(r'$T$ ({0})'.format(loop.temperature.unit.to_string()))\n",
    "ax[1].set_ylabel(r'$n$ ({0:latex})'.format(loop.density.unit))\n",
    "ax[1].set_xlabel(r'$t$ ({})'.format(loop.time.unit))"
   ]
  },
  {
   "cell_type": "code",
   "execution_count": null,
   "metadata": {
    "collapsed": true
   },
   "outputs": [],
   "source": [
    "field.save_field(savedir=os.path.join(ar_root,'checkpoint'))"
   ]
  },
  {
   "cell_type": "markdown",
   "metadata": {},
   "source": [
    "Reload the field here if needed."
   ]
  },
  {
   "cell_type": "code",
   "execution_count": null,
   "metadata": {
    "collapsed": false
   },
   "outputs": [],
   "source": [
    "field = synthesizAR.Skeleton.restore_field(os.path.join(ar_root,'checkpoint'))"
   ]
  },
  {
   "cell_type": "markdown",
   "metadata": {},
   "source": [
    "## Emissivity Model"
   ]
  },
  {
   "cell_type": "markdown",
   "metadata": {
    "collapsed": true
   },
   "source": [
    "First, construct a list of ions with the associated transitions. We'll start out with only four. Note that we can list multiple transitions per ion. These four lines are important when doing emission measure diagnostics on _Hinode_/EIS spectra.\n",
    "\n",
    "| Ion | Wavelength ($\\mathrm{\\mathring{A}}$) |\n",
    "|:---:|:------------------------------------:|\n",
    "| Fe IX | 188.497 |\n",
    "| Fe XII | 192.394 |\n",
    "| Fe XII | 195.119 |\n",
    "| Fe XVI | 262.976 |"
   ]
  },
  {
   "cell_type": "code",
   "execution_count": null,
   "metadata": {
    "collapsed": false
   },
   "outputs": [],
   "source": [
    "ions = [#{'name':'fe_9','wavelengths':[188.493]*u.angstrom},\n",
    "        {'name':'fe_10','wavelengths':[184.537]*u.angstrom},\n",
    "        {'name':'fe_12','wavelengths':[192.394,195.119]*u.angstrom},\n",
    "        #{'name':'fe_13','wavelengths':[202.044]*u.angstrom}\n",
    "        {'name':'fe_16','wavelengths':[262.976]*u.angstrom}\n",
    "       ]"
   ]
  },
  {
   "cell_type": "code",
   "execution_count": null,
   "metadata": {
    "collapsed": false
   },
   "outputs": [],
   "source": [
    "class EmissivityModel(object):\n",
    "    \n",
    "    def __init__(self,ions,temperature=np.logspace(5,8,50)*u.K,\n",
    "                 density=np.logspace(8,11,50)/(u.cm**3),energy_unit='erg',chianti_db_filename=None):\n",
    "        self.density_mesh,self.temperature_mesh = np.meshgrid(density,temperature)\n",
    "        self.wavelengths = np.array(sorted([w.value for ion in ions for w in ion['wavelengths']]))*ions[0]['wavelengths'].unit\n",
    "        self.logger = logging.getLogger(name=type(self).__name__)\n",
    "        \n",
    "        if chianti_db_filename is None:\n",
    "            chianti_db_filename = 'tmp_chianti_db.h5'\n",
    "        self.logger.info('Creating CHIANTI HDF5 database in {}'.format(chianti_db_filename))\n",
    "        self._build_chianti_db_h5(ions,chianti_db_filename)\n",
    "        \n",
    "        self.ions = []\n",
    "        for ion in ions:\n",
    "            self.logger.info('Creating ion {}'.format(ion['name']))\n",
    "            tmp_ion = ChIon(ion['name'],np.ravel(self.temperature_mesh),np.ravel(self.density_mesh),chianti_db_filename)\n",
    "            tmp_ion.meta['rcparams']['flux'] = energy_unit\n",
    "            self.ions.append({'ion':tmp_ion,'transitions':ion['wavelengths']})\n",
    "            \n",
    "    def _build_chianti_db_h5(self,ions,filename):\n",
    "        \"\"\"\n",
    "        Construct temporary HDF5 CHIANTI database\n",
    "        \"\"\"\n",
    "        #create custom datatype for ragged scups arrays\n",
    "        self._ragged_scups_dt = h5py.special_dtype(vlen=np.dtype('float64'))\n",
    "        with h5py.File(filename,'a') as hf:\n",
    "            for ion in ions:\n",
    "                el = ion['name'].split('_')[0]\n",
    "                ion_label = ion['name'].split('_')[-1]\n",
    "                if os.path.join('/',el,ion_label) in hf:\n",
    "                    continue\n",
    "                self.logger.info('Building entry for {}'.format(ion['name']))\n",
    "                #elvlc\n",
    "                self.logger.info('Building elvlc entry for {}'.format(ion['name']))\n",
    "                _tmp = ch_tools.io.elvlcRead(ion['name'])\n",
    "                if _tmp['status']>0:\n",
    "                    grp = hf.create_group(os.path.join('/',el,ion_label,'elvlc'))\n",
    "                    self._check_keys(_tmp,grp)\n",
    "                #wgfa\n",
    "                self.logger.info('Building wgfa entry for {}'.format(ion['name']))\n",
    "                try:\n",
    "                    _tmp = ch_tools.io.wgfaRead(ion['name'])\n",
    "                    grp = hf.create_group(os.path.join('/',el,ion_label,'wgfa'))\n",
    "                    self._check_keys(_tmp,grp)\n",
    "                except IOError:\n",
    "                    pass\n",
    "                #scups\n",
    "                self.logger.info('Building scups entry for {}'.format(ion['name']))\n",
    "                _tmp = ch_tools.io.scupsRead(ion['name'])\n",
    "                if 'status' not in _tmp:\n",
    "                    grp = hf.create_group(os.path.join('/',el,ion_label,'scups'))\n",
    "                    self._check_keys(_tmp,grp)\n",
    "                #psplups\n",
    "                self.logger.info('Building psplups entry for {}'.format(ion['name']))\n",
    "                _tmp = ch_tools.io.splupsRead(ion['name'],filetype='psplups')\n",
    "                if 'file not found' not in _tmp:\n",
    "                    grp = hf.create_group(os.path.join('/',el,ion_label,'psplups'))\n",
    "                    self._check_keys(_tmp,grp)\n",
    "            \n",
    "    def _check_keys(self,chianti_dict,h5_group):\n",
    "        \"\"\"\n",
    "        Checker for CHIANTI data dictionaries before reading into HDF5 file\n",
    "        \"\"\"\n",
    "        for key in chianti_dict:\n",
    "            self.logger.debug('Reading in key {}'.format(key))\n",
    "            if key=='ref':\n",
    "                h5_group.attrs[key] = '\\n'.join(chianti_dict[key])\n",
    "            elif type(chianti_dict[key]) is list or type(chianti_dict[key]) is type(np.array([])):\n",
    "                data = np.array(chianti_dict[key])\n",
    "                if '<U' in data.dtype.str:\n",
    "                    data = data.astype('|S1')\n",
    "                if data.dtype is np.dtype('O'):\n",
    "                    ds = h5_group.create_dataset(key,(data.size,),dtype=self._ragged_scups_dt)\n",
    "                    ds[:] = data\n",
    "                else:\n",
    "                    h5_group.create_dataset(key,data=data)\n",
    "            else:\n",
    "                h5_group.attrs[key] = chianti_dict[key]\n",
    "            \n",
    "    def _calculate_emissivity(self):\n",
    "        \"\"\"\n",
    "        Calculate the level population times the A coefficent as a function of \n",
    "        density and temperature. Shape it into something more convenient.\n",
    "        \"\"\"\n",
    "        for ion in self.ions:\n",
    "            self.logger.info('Calculating emissivity for ion {}'.format(ion['ion'].meta['name']))\n",
    "            wvl,emiss = ion['ion'].calculate_emissivity()\n",
    "            transition_indices = [np.argwhere(wvl==t)[0][0] for t in ion['transitions']]\n",
    "            ion['emissivity'] = [np.reshape(emiss[ti,:],self.temperature_mesh.shape) for ti in transition_indices]\n",
    "    \n",
    "    \n",
    "    def _calculate_fractional_ionization(self):\n",
    "        \"\"\"\n",
    "        Calculate fractional ionization as a function of temperature for each ion.\n",
    "        Shape it into something more convenient\n",
    "        \"\"\"\n",
    "        for ion in self.ions:\n",
    "            ioneq = ion['ion'].calculate_ionization_equilibrium()\n",
    "            ion['ionization_fraction'] = np.reshape(ioneq,self.temperature_mesh.shape)\n",
    "            \n",
    "            \n",
    "    def calculate_emissivity(self,temperature,density):\n",
    "        \"\"\"\n",
    "        Calculate emissivity for a given temperature and density\n",
    "        \"\"\"\n",
    "        # interpolate indices\n",
    "        nots_itemperature = scipy.interpolate.splrep(self.temperature_mesh[:,0].value,np.arange(self.temperature_mesh.shape[0]))\n",
    "        nots_idensity = scipy.interpolate.splrep(self.density_mesh[0,:].value,np.arange(self.density_mesh.shape[1]))\n",
    "        itemperature = scipy.interpolate.splev(np.ravel(temperature.value),nots_itemperature)\n",
    "        idensity = scipy.interpolate.splev(np.ravel(density.value),nots_idensity)\n",
    "        \n",
    "        emiss = {}\n",
    "        # calculate emissivity\n",
    "        for ion in self.ions:\n",
    "            self.logger.debug('Calculating emissivity for ion {}'.format(ion['ion'].meta['name']))\n",
    "            if 'ionization_fraction' not in ion.keys():\n",
    "                self._calculate_fractional_ionization()\n",
    "            if 'emissivity' not in ion.keys():\n",
    "                self._calculate_emissivity()\n",
    "            for t,em in zip(ion['transitions'],ion['emissivity']):\n",
    "                ion_key = '{} {} {}'.format(ion['ion'].meta['spectroscopic_name'],t.value,t.unit.to_string())\n",
    "                self.logger.debug('Calculating emissivity for {}'.format(ion_key))\n",
    "                _tmp_emiss = em*ion['ionization_fraction']\n",
    "                _tmp = np.reshape(scipy.ndimage.map_coordinates(_tmp_emiss.value,\n",
    "                                                                np.vstack([itemperature,idensity])),\n",
    "                                  temperature.shape)\n",
    "                _tmp = np.where(_tmp>0.0,_tmp,0.0)\n",
    "                emiss[ion_key] = _tmp*em.unit*density*ion['ion'].abundance*0.83/(4*np.pi*u.steradian)\n",
    "        \n",
    "        return emiss\n",
    "            "
   ]
  },
  {
   "cell_type": "code",
   "execution_count": null,
   "metadata": {
    "collapsed": false
   },
   "outputs": [],
   "source": [
    "em_model = EmissivityModel(ions,temperature=np.logspace(5,8,100)*u.K,density=np.logspace(8,11,50)/(u.cm**3),\n",
    "                           chianti_db_filename=os.path.join(ar_root,'chianti_db.h5'))"
   ]
  },
  {
   "cell_type": "code",
   "execution_count": null,
   "metadata": {
    "collapsed": false
   },
   "outputs": [],
   "source": [
    "em_model._calculate_fractional_ionization()"
   ]
  },
  {
   "cell_type": "code",
   "execution_count": null,
   "metadata": {
    "collapsed": false
   },
   "outputs": [],
   "source": [
    "em_model.logger.setLevel(logging.INFO)\n",
    "em_model._calculate_emissivity()"
   ]
  },
  {
   "cell_type": "markdown",
   "metadata": {
    "collapsed": true
   },
   "source": [
    "Now pass the emissivity model to the field object and let it calculate the emissivity at all desired wavelengths for all loops."
   ]
  },
  {
   "cell_type": "code",
   "execution_count": null,
   "metadata": {
    "collapsed": false,
    "scrolled": true
   },
   "outputs": [],
   "source": [
    "field.calculate_emissivity(em_model,savefile=os.path.join(ar_root,'loop_emissivity.h5'))"
   ]
  },
  {
   "cell_type": "code",
   "execution_count": null,
   "metadata": {
    "collapsed": false
   },
   "outputs": [],
   "source": [
    "fig,axes = plt.subplots(4,1,figsize=(8,8),sharex=True,sharey=True)\n",
    "for loop in field.loops:\n",
    "    axes[0].plot(loop.time,loop.get_emissivity(184.537*u.angstrom)[:,0],alpha=0.2,c='b')\n",
    "    axes[0].set_title(r'Fe X 184.537 Angstrom')\n",
    "    axes[1].plot(loop.time,loop.get_emissivity(192.394*u.angstrom)[:,0],alpha=0.2,c='b')\n",
    "    axes[1].set_title(r'Fe XII 192.394 Angstrom')\n",
    "    axes[2].plot(loop.time,loop.get_emissivity(195.119*u.angstrom)[:,0],alpha=0.2,c='b')\n",
    "    axes[2].set_title(r'Fe XII 195.119 Angstrom')\n",
    "    axes[3].plot(loop.time,loop.get_emissivity(262.976*u.angstrom)[:,0],alpha=0.2,c='b')\n",
    "    axes[3].set_title(r'Fe XVI 262.976 Angstrom')\n",
    "axes[0].set_yscale('log')\n",
    "axes[0].set_ylim([10,1e+5])\n",
    "axes[1].set_ylabel(r'$\\epsilon$ ({})'.format(loop.get_emissivity(262.976*u.angstrom).unit))\n",
    "axes[-1].set_xlabel(r'$t$ ({})'.format(loop.time.unit))"
   ]
  },
  {
   "cell_type": "markdown",
   "metadata": {},
   "source": [
    "## Binning Counts for Detector.\n",
    "Now we want to use our *Hinode*/EIS detector to detect our synthesized emission and bin it appropriately."
   ]
  },
  {
   "cell_type": "code",
   "execution_count": null,
   "metadata": {
    "collapsed": false
   },
   "outputs": [],
   "source": [
    "eis = InstrumentHinodeEIS('/home/wtb2/Documents/Forward_Model/instruments/Hinode_EIS/',[0,5000]*u.s)"
   ]
  },
  {
   "cell_type": "markdown",
   "metadata": {},
   "source": [
    "We've read in all of the possible channels, but what if we don't want to calculate the counts for every channel? Let's remove the channels we don't want. I guess we could also do this with a flag somewhere? But this means checking for a flag each time we loop through the instruments for each channel and that seems clumsy too."
   ]
  },
  {
   "cell_type": "markdown",
   "metadata": {},
   "source": [
    "We only want to keep the channels that are relevant to the emission we've calculated."
   ]
  },
  {
   "cell_type": "code",
   "execution_count": null,
   "metadata": {
    "collapsed": true
   },
   "outputs": [],
   "source": [
    "eis.channels = [eis.channels[3],eis.channels[10],eis.channels[16],eis.channels[31]]"
   ]
  },
  {
   "cell_type": "markdown",
   "metadata": {},
   "source": [
    "Now declare the observer object."
   ]
  },
  {
   "cell_type": "code",
   "execution_count": null,
   "metadata": {
    "collapsed": true
   },
   "outputs": [],
   "source": [
    "observer = synthesizAR.Observer(field,[eis],ds=0.3*u.arcsec)"
   ]
  },
  {
   "cell_type": "markdown",
   "metadata": {},
   "source": [
    "Build the detector files."
   ]
  },
  {
   "cell_type": "code",
   "execution_count": null,
   "metadata": {
    "collapsed": false
   },
   "outputs": [],
   "source": [
    "observer.build_detector_files(ar_root)"
   ]
  },
  {
   "cell_type": "markdown",
   "metadata": {},
   "source": [
    "Now, calculate the detector counts for each channel."
   ]
  },
  {
   "cell_type": "code",
   "execution_count": null,
   "metadata": {
    "collapsed": false,
    "scrolled": true
   },
   "outputs": [],
   "source": [
    "observer.calculate_detector_counts()"
   ]
  },
  {
   "cell_type": "markdown",
   "metadata": {},
   "source": [
    "Finally, bin the counts and save them as FITS files."
   ]
  },
  {
   "cell_type": "code",
   "execution_count": null,
   "metadata": {
    "collapsed": false
   },
   "outputs": [],
   "source": [
    "observer.bin_detector_counts(os.path.join(ar_root,'maps'),apply_psf=False)"
   ]
  },
  {
   "cell_type": "markdown",
   "metadata": {},
   "source": [
    "## Visualization"
   ]
  },
  {
   "cell_type": "code",
   "execution_count": null,
   "metadata": {
    "collapsed": true
   },
   "outputs": [],
   "source": [
    "fits_file_template = os.path.join(ar_root,'maps','Hinode_EIS','FeXVI 262.976','map_t{time:06d}.fits')"
   ]
  },
  {
   "cell_type": "code",
   "execution_count": null,
   "metadata": {
    "collapsed": false
   },
   "outputs": [],
   "source": [
    "fig = plt.figure(figsize=(8,8))\n",
    "tmp_map = sunpy.map.Map(fits_file_template.format(time=150))#.submap([-80,30]*u.arcsec,[430,540]*u.arcsec)\n",
    "#ax = fig.add_subplot(1,1,1,projection=tmp_map)\n",
    "ax = fig.gca(projection=tmp_map)\n",
    "tmp_map.plot(axes=ax,cmap=sunpy.cm.get_cmap('hinodexrt'),\n",
    "             vmin=0.01,vmax=100)\n",
    "ax.add_patch(Rectangle(((-70,490)*u.arcsec).to(u.deg).value,\n",
    "                       (100*u.arcsec).to(u.deg).value,\n",
    "                       (1.5*u.arcsec).to(u.deg).value,\n",
    "                      transform=ax.get_transform('world'),lw=1,edgecolor='white',fill=False))\n",
    "#tmp_map.draw_rectangle((-100, 490)*u.arcsec, 150*u.arcsec, 1*u.arcsec,lw=1)"
   ]
  },
  {
   "cell_type": "markdown",
   "metadata": {},
   "source": [
    "For a particular channel, let's loop over each timestep and take a slice out of the map. Then, we can plot this slice as a function of time."
   ]
  },
  {
   "cell_type": "code",
   "execution_count": null,
   "metadata": {
    "collapsed": true
   },
   "outputs": [],
   "source": [
    "x1,y1 = tmp_map.data_to_pixel(-100*u.arcsec,490*u.arcsec)\n",
    "x2,y2 = tmp_map.data_to_pixel(50*u.arcsec,490*u.arcsec)"
   ]
  },
  {
   "cell_type": "code",
   "execution_count": null,
   "metadata": {
    "collapsed": false
   },
   "outputs": [],
   "source": [
    "for i in range(len(eis.observing_time)):\n",
    "    tmp_map = sunpy.map.Map(fits_file_template.format(time=i))\n",
    "    tmp_slice = tmp_map.data[int(np.ceil(y1.value)):int(np.ceil(y2.value))+1,\n",
    "                             int(np.ceil(x1.value)):int(np.ceil(x2.value))+1]\n",
    "    if i == 0:\n",
    "        stacked_slice = tmp_slice\n",
    "    else:\n",
    "        stacked_slice = np.vstack([stacked_slice,tmp_slice])"
   ]
  },
  {
   "cell_type": "code",
   "execution_count": null,
   "metadata": {
    "collapsed": false
   },
   "outputs": [],
   "source": [
    "xmesh,tmesh = np.meshgrid(np.arange(x1.value,x2.value+1,1),\n",
    "                          eis.observing_time.value)\n",
    "fig = plt.figure(figsize=(8,10))\n",
    "ax = fig.gca()\n",
    "pcm = ax.pcolormesh(xmesh,tmesh,stacked_slice,cmap=sunpy.cm.get_cmap('hinodexrt'),\n",
    "                    #norm = matplotlib.colors.LogNorm(vmin=1,vmax=500)\n",
    "                    )\n",
    "cbar = fig.colorbar(pcm,ax=ax,)\n",
    "ax.set_xlim([x1.value,x2.value])\n",
    "ax.set_ylim([eis.observing_time[0].value,eis.observing_time[-1].value])\n",
    "ax.invert_yaxis()\n",
    "ax.set_ylabel(r'$t$ ({0:latex})'.format(eis.observing_time.unit))\n",
    "ax.set_xlabel(r'$x$ ({0:latex})'.format(tmp_map.xrange.unit))\n",
    "cbar.set_label(r'$I$ ({0:latex})'.format(u.Unit(tmp_map.meta['bunit'])))"
   ]
  },
  {
   "cell_type": "markdown",
   "metadata": {},
   "source": [
    "Now, let's try to make a movie using these four channels."
   ]
  },
  {
   "cell_type": "code",
   "execution_count": null,
   "metadata": {
    "collapsed": true
   },
   "outputs": [],
   "source": [
    "intensity_ranges = {'FeX 184.537':[1,100],\n",
    "                    'FeXII 192.394':[10,500],\n",
    "                    'FeXII 195.119':[100,1000],\n",
    "                    'FeXVI 262.976':[10,100]}"
   ]
  },
  {
   "cell_type": "code",
   "execution_count": null,
   "metadata": {
    "collapsed": false
   },
   "outputs": [],
   "source": [
    "fits_file_template = os.path.join(ar_root,'maps','Hinode_EIS','{channel}','map_t{time:06d}.fits')\n",
    "save_file_template = os.path.join(ar_root,'maps','Hinode_EIS','figs','all_channels_t{time:06d}.pdf')\n",
    "fig = plt.figure(figsize=(10,6))\n",
    "for j,time in enumerate(eis.observing_time):\n",
    "    fig.suptitle(r'$t=${0} ({1})'.format(time,eis.observing_time.unit),fontsize=16)\n",
    "    for i,channel in enumerate(eis.channels):\n",
    "        _tmp_map = sunpy.map.Map(fits_file_template.format(channel=channel['name'],time=j))\n",
    "        ax = fig.add_subplot(2,2,i+1,projection=_tmp_map)\n",
    "        _tmp_map.plot(axes=ax,vmin=intensity_ranges[channel['name']][0],\n",
    "                      vmax=intensity_ranges[channel['name']][1],\n",
    "                      annotate=False,cmap=sunpy.cm.get_cmap('hinodexrt'))\n",
    "        ax.set_title(r'{0} $\\mathrm{{\\mathring{{A}}}}$'.format(channel['name']))\n",
    "        if i>1:\n",
    "            ax.set_xlabel(r'$x$ ({})'.format(_tmp_map.xrange.unit))\n",
    "        if i==0 or i==2:\n",
    "            ax.set_ylabel(r'$y$ ({})'.format(_tmp_map.yrange.unit))\n",
    "    plt.savefig(save_file_template.format(time=j))\n",
    "    fig.clf()"
   ]
  },
  {
   "cell_type": "code",
   "execution_count": null,
   "metadata": {
    "collapsed": true
   },
   "outputs": [],
   "source": [
    "%%bash\n",
    "convert -delay 3 -loop 0 /data/datadrive2/ar_viz/emiss_model_testing/maps/Hinode_EIS/figs/*.pdf eis_all_channels.gif"
   ]
  },
  {
   "cell_type": "code",
   "execution_count": null,
   "metadata": {
    "collapsed": true
   },
   "outputs": [],
   "source": [
    "%%HTML\n",
    "<img src=\"eis_all_channels.gif\" />"
   ]
  },
  {
   "cell_type": "code",
   "execution_count": null,
   "metadata": {
    "collapsed": true
   },
   "outputs": [],
   "source": []
  }
 ],
 "metadata": {
  "anaconda-cloud": {},
  "kernelspec": {
   "display_name": "Python [conda env:synthesizar]",
   "language": "python",
   "name": "conda-env-synthesizar-py"
  },
  "language_info": {
   "codemirror_mode": {
    "name": "ipython",
    "version": 3
   },
   "file_extension": ".py",
   "mimetype": "text/x-python",
   "name": "python",
   "nbconvert_exporter": "python",
   "pygments_lexer": "ipython3",
   "version": "3.5.2"
  }
 },
 "nbformat": 4,
 "nbformat_minor": 1
}
