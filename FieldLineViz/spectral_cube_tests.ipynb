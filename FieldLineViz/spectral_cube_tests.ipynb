{
 "cells": [
  {
   "cell_type": "markdown",
   "metadata": {},
   "source": [
    "# `spectral_cube` Tests\n",
    "Test out functionality of `spectral_cube` package for storing *Hinode*/EIS data. Current container takes way too long to build and the files are way too large. Try loading in some of our simulated EIS data to see if we can reduce the compute time and storage requirements."
   ]
  },
  {
   "cell_type": "code",
   "execution_count": 1,
   "metadata": {
    "collapsed": false
   },
   "outputs": [
    {
     "name": "stderr",
     "output_type": "stream",
     "text": [
      "WARNING: AstropyDeprecationWarning: astropy.utils.compat.odict.OrderedDict is now deprecated - import OrderedDict from the collections module instead [astropy.utils.compat.odict]\n",
      "/home/wtb2/anaconda3/envs/synthesizar/lib/python3.5/site-packages/IPython/html.py:14: ShimWarning: The `IPython.html` package has been deprecated. You should import from `notebook` instead. `IPython.html.widgets` has moved to `ipywidgets`.\n",
      "  \"`IPython.html.widgets` has moved to `ipywidgets`.\", ShimWarning)\n",
      "/home/wtb2/anaconda3/envs/synthesizar/lib/python3.5/site-packages/matplotlib/__init__.py:1401: UserWarning:  This call to matplotlib.use() has no effect\n",
      "because the backend has already been chosen;\n",
      "matplotlib.use() must be called *before* pylab, matplotlib.pyplot,\n",
      "or matplotlib.backends is imported for the first time.\n",
      "\n",
      "  warnings.warn(_use_error_msg)\n"
     ]
    }
   ],
   "source": [
    "import os\n",
    "\n",
    "import numpy as np\n",
    "import scipy.sparse\n",
    "import h5py\n",
    "import astropy.units as u\n",
    "import astropy.wcs\n",
    "import sunpy.map \n",
    "import spectral_cube\n",
    "import matplotlib.pyplot as plt\n",
    "import matplotlib.colors\n",
    "import seaborn as sns\n",
    "import h5py\n",
    "\n",
    "import synthesizAR\n",
    "from synthesizAR.instruments import InstrumentHinodeEIS\n",
    "from synthesizAR.util import EISCube\n",
    "\n",
    "%matplotlib inline"
   ]
  },
  {
   "cell_type": "markdown",
   "metadata": {},
   "source": [
    "# EIS Observation\n",
    "Calculate EISCube spectral observation for $t=0$ s. Need to first calculate the LOS velocity and temperature and then supply that to `detect()` method on the EIS instrument. We'll do this for our low frequency run in our systematic study using AR 1109."
   ]
  },
  {
   "cell_type": "markdown",
   "metadata": {},
   "source": [
    "Load the field."
   ]
  },
  {
   "cell_type": "code",
   "execution_count": 2,
   "metadata": {
    "collapsed": true
   },
   "outputs": [],
   "source": [
    "ar_root = '/data/datadrive1/ar_forward_modeling/systematic_ar_study/noaa1109_low_frequency/'"
   ]
  },
  {
   "cell_type": "code",
   "execution_count": 3,
   "metadata": {
    "collapsed": false
   },
   "outputs": [
    {
     "name": "stderr",
     "output_type": "stream",
     "text": [
      "No HMI fits file supplied. A new HMI map object will not be created.\n",
      "yt : [INFO     ] 2017-04-19 20:14:39,705 Parameters: current_time              = 0.0\n",
      "yt : [INFO     ] 2017-04-19 20:14:39,705 Parameters: domain_dimensions         = [96 96 96]\n",
      "yt : [INFO     ] 2017-04-19 20:14:39,706 Parameters: domain_left_edge          = [  8.88147851e+09   1.66017386e+09   7.23009049e+08]\n",
      "yt : [INFO     ] 2017-04-19 20:14:39,707 Parameters: domain_right_edge         = [  4.35656994e+10   3.67056887e+10   3.54274434e+10]\n",
      "yt : [INFO     ] 2017-04-19 20:14:39,708 Parameters: cosmological_simulation   = 0.0\n"
     ]
    }
   ],
   "source": [
    "field = synthesizAR.Skeleton.restore(os.path.join(ar_root,'field_checkpoint'))"
   ]
  },
  {
   "cell_type": "markdown",
   "metadata": {},
   "source": [
    "Create the *Hinode*/EIS instrument."
   ]
  },
  {
   "cell_type": "code",
   "execution_count": 4,
   "metadata": {
    "collapsed": true
   },
   "outputs": [],
   "source": [
    "eis = InstrumentHinodeEIS([5000,5100]*u.s)"
   ]
  },
  {
   "cell_type": "markdown",
   "metadata": {},
   "source": [
    "Create the observer object."
   ]
  },
  {
   "cell_type": "code",
   "execution_count": 5,
   "metadata": {
    "collapsed": false
   },
   "outputs": [
    {
     "name": "stderr",
     "output_type": "stream",
     "text": [
      "/home/wtb2/anaconda3/envs/synthesizar/lib/python3.5/site-packages/scipy/interpolate/fitpack.py:300: RuntimeWarning: The maximal number of iterations (20) allowed for finding smoothing\n",
      "spline with fp=s has been reached. Probable cause: s too small.\n",
      "(abs(fp-s)/s>0.001)\n",
      "  warnings.warn(RuntimeWarning(_iermess[ier][0]))\n",
      "/home/wtb2/anaconda3/envs/synthesizar/lib/python3.5/site-packages/scipy/interpolate/fitpack.py:300: RuntimeWarning: A theoretically impossible result when finding a smoothing spline\n",
      "with fp = s. Probable cause: s too small. (abs(fp-s)/s>0.001)\n",
      "  warnings.warn(RuntimeWarning(_iermess[ier][0]))\n"
     ]
    }
   ],
   "source": [
    "observer = synthesizAR.Observer(field,[eis],ds=field._convert_angle_to_length(0.4*u.arcsec))"
   ]
  },
  {
   "cell_type": "code",
   "execution_count": 6,
   "metadata": {
    "collapsed": true
   },
   "outputs": [],
   "source": [
    "observer.build_detector_files(ar_root)"
   ]
  },
  {
   "cell_type": "markdown",
   "metadata": {},
   "source": [
    "Calculate the the LOS velocity and temperature."
   ]
  },
  {
   "cell_type": "code",
   "execution_count": 7,
   "metadata": {
    "collapsed": false
   },
   "outputs": [],
   "source": [
    "los_velocity_map = observer.make_los_velocity_map(eis.observing_time[0],eis)"
   ]
  },
  {
   "cell_type": "code",
   "execution_count": 8,
   "metadata": {
    "collapsed": false
   },
   "outputs": [
    {
     "name": "stderr",
     "output_type": "stream",
     "text": [
      "/home/wtb2/anaconda3/envs/synthesizar/lib/python3.5/site-packages/matplotlib/figure.py:402: UserWarning: matplotlib is currently using a non-GUI backend, so cannot show the figure\n",
      "  \"matplotlib is currently using a non-GUI backend, \"\n"
     ]
    },
    {
     "data": {
      "image/png": "[encoded data removed]",
      "text/plain": [
       "<matplotlib.figure.Figure at 0x7fec581418d0>"
      ]
     },
     "metadata": {},
     "output_type": "display_data"
    }
   ],
   "source": [
    "los_velocity_map.peek()"
   ]
  },
  {
   "cell_type": "code",
   "execution_count": 9,
   "metadata": {
    "collapsed": true
   },
   "outputs": [],
   "source": [
    "temperature_map = observer.make_temperature_map(eis.observing_time[0],eis)"
   ]
  },
  {
   "cell_type": "code",
   "execution_count": 10,
   "metadata": {
    "collapsed": false
   },
   "outputs": [
    {
     "name": "stderr",
     "output_type": "stream",
     "text": [
      "/home/wtb2/anaconda3/envs/synthesizar/lib/python3.5/site-packages/matplotlib/figure.py:402: UserWarning: matplotlib is currently using a non-GUI backend, so cannot show the figure\n",
      "  \"matplotlib is currently using a non-GUI backend, \"\n"
     ]
    },
    {
     "data": {
      "image/png": "[encoded data removed]",
      "text/plain": [
       "<matplotlib.figure.Figure at 0x7fec60e5a630>"
      ]
     },
     "metadata": {},
     "output_type": "display_data"
    }
   ],
   "source": [
    "temperature_map.peek()"
   ]
  },
  {
   "cell_type": "markdown",
   "metadata": {},
   "source": [
    "Create EISCube object."
   ]
  },
  {
   "cell_type": "code",
   "execution_count": 11,
   "metadata": {
    "collapsed": false
   },
   "outputs": [],
   "source": [
    "header = eis.make_fits_header(field,eis.channels[0])\n",
    "header['tunit'] = (u.s).to_string()\n",
    "header['t_obs'] = eis.observing_time[0].value"
   ]
  },
  {
   "cell_type": "code",
   "execution_count": 12,
   "metadata": {
    "collapsed": true
   },
   "outputs": [],
   "source": [
    "with h5py.File(eis.counts_file,'r') as hf:\n",
    "    eiscube = eis.detect(hf,eis.channels[0], 0, header, \n",
    "                         temperature_map.data*u.Unit(temperature_map.meta['bunit']),\n",
    "                         los_velocity_map.data*u.Unit(los_velocity_map.meta['bunit']))"
   ]
  },
  {
   "cell_type": "code",
   "execution_count": null,
   "metadata": {
    "collapsed": false
   },
   "outputs": [],
   "source": [
    "eiscube.integrated_intensity.peek(norm=matplotlib.colors.SymLogNorm(1,10,1e3))"
   ]
  },
  {
   "cell_type": "code",
   "execution_count": 15,
   "metadata": {
    "collapsed": false
   },
   "outputs": [],
   "source": [
    "eiscube.save('/home/wtb2/Desktop/test_eiscube_small.h5',use_fits=False,\n",
    "             #hdf5_save_params={'compression':None,'dtype':np.float64}\n",
    "            )"
   ]
  },
  {
   "cell_type": "code",
   "execution_count": 16,
   "metadata": {
    "collapsed": false
   },
   "outputs": [
    {
     "name": "stderr",
     "output_type": "stream",
     "text": [
      "WARNING: UnitsWarning: 'cm cm ct g(1/2) / (Angstrom cm erg(1/2) pix s2)' contains multiple slashes, which is discouraged by the FITS standard [astropy.units.format.generic]\n"
     ]
    }
   ],
   "source": [
    "cube_restore_big = EISCube('/home/wtb2/Desktop/test_eiscube.h5')"
   ]
  },
  {
   "cell_type": "code",
   "execution_count": 20,
   "metadata": {
    "collapsed": false
   },
   "outputs": [
    {
     "name": "stderr",
     "output_type": "stream",
     "text": [
      "WARNING: UnitsWarning: 'cm cm ct g(1/2) / (Angstrom cm erg(1/2) pix s2)' contains multiple slashes, which is discouraged by the FITS standard [astropy.units.format.generic]\n"
     ]
    }
   ],
   "source": [
    "cube_restore_small = EISCube('/home/wtb2/Desktop/test_eiscube_small.h5')"
   ]
  },
  {
   "cell_type": "code",
   "execution_count": 18,
   "metadata": {
    "collapsed": false
   },
   "outputs": [
    {
     "name": "stderr",
     "output_type": "stream",
     "text": [
      "WARNING: UnitsWarning: 'cm ct g(1/2) / (Angstrom erg(1/2) pix s2)' contains multiple slashes, which is discouraged by the FITS standard [astropy.units.format.generic]\n"
     ]
    }
   ],
   "source": [
    "cube_restore_fits = EISCube('/home/wtb2/Desktop/test_eiscube.fits')"
   ]
  },
  {
   "cell_type": "code",
   "execution_count": 48,
   "metadata": {
    "collapsed": false
   },
   "outputs": [
    {
     "data": {
      "text/latex": [
       "$59768.756 \\; \\mathrm{\\frac{cm\\,cm\\,ct\\,g^{1/2}}{erg^{1/2}\\,\\mathring{A}\\,cm\\,pix\\,s^{2}}}$"
      ],
      "text/plain": [
       "<Quantity 59768.75629112809 cm cm ct g(1/2) / (Angstrom cm erg(1/2) pix s2)>"
      ]
     },
     "execution_count": 48,
     "metadata": {},
     "output_type": "execute_result"
    }
   ],
   "source": [
    "eiscube.data.max()"
   ]
  },
  {
   "cell_type": "code",
   "execution_count": 90,
   "metadata": {
    "collapsed": false
   },
   "outputs": [
    {
     "data": {
      "text/latex": [
       "$\\mathrm{\\frac{cm\\,cm\\,ct\\,g^{1/2}}{erg^{1/2}\\,\\mathring{A}\\,cm\\,pix\\,s^{2}}}$"
      ],
      "text/plain": [
       "Unit(\"cm cm ct g(1/2) / (Angstrom cm erg(1/2) pix s2)\")"
      ]
     },
     "execution_count": 90,
     "metadata": {},
     "output_type": "execute_result"
    }
   ],
   "source": [
    "eiscube.data.unit."
   ]
  },
  {
   "cell_type": "code",
   "execution_count": 93,
   "metadata": {
    "collapsed": false
   },
   "outputs": [
    {
     "data": {
      "text/latex": [
       "$\\mathrm{\\frac{ct}{\\mathring{A}\\,pix\\,s}}$"
      ],
      "text/plain": [
       "Unit(\"ct / (Angstrom pix s)\")"
      ]
     },
     "execution_count": 93,
     "metadata": {},
     "output_type": "execute_result"
    }
   ],
   "source": [
    "eiscube.data.unit.compose(units=[u.cm,u.ct,u.g,u.erg,u.angstrom,u.pixel,u.s])[0]"
   ]
  },
  {
   "cell_type": "code",
   "execution_count": 84,
   "metadata": {
    "collapsed": false
   },
   "outputs": [
    {
     "data": {
      "text/plain": [
       "[Unit(\"cm\")]"
      ]
     },
     "execution_count": 84,
     "metadata": {},
     "output_type": "execute_result"
    }
   ],
   "source": [
    "u.cm.bases"
   ]
  },
  {
   "cell_type": "code",
   "execution_count": 67,
   "metadata": {
    "collapsed": true
   },
   "outputs": [],
   "source": [
    "count_equiv = [(u.ct,u.cgs, lambda x: x.value, lambda x: x.value)]"
   ]
  },
  {
   "cell_type": "code",
   "execution_count": 77,
   "metadata": {
    "collapsed": false
   },
   "outputs": [
    {
     "data": {
      "text/latex": [
       "$100 \\; \\mathrm{cm}$"
      ],
      "text/plain": [
       "<Quantity 100.0 cm>"
      ]
     },
     "execution_count": 77,
     "metadata": {},
     "output_type": "execute_result"
    }
   ],
   "source": [
    "(1.*u.m).cgs"
   ]
  },
  {
   "cell_type": "code",
   "execution_count": 78,
   "metadata": {
    "collapsed": false
   },
   "outputs": [
    {
     "ename": "TypeError",
     "evalue": "<module 'astropy.units.cgs' from '/home/wtb2/anaconda3/envs/synthesizar/lib/python3.5/site-packages/astropy/units/cgs.py'> can not be converted to a Unit",
     "output_type": "error",
     "traceback": [
      "\u001b[0;31m---------------------------------------------------------------------------\u001b[0m",
      "\u001b[0;31mTypeError\u001b[0m                                 Traceback (most recent call last)",
      "\u001b[0;32m<ipython-input-78-f2ec572a9954>\u001b[0m in \u001b[0;36m<module>\u001b[0;34m()\u001b[0m\n\u001b[0;32m----> 1\u001b[0;31m \u001b[0mu\u001b[0m\u001b[0;34m.\u001b[0m\u001b[0mct\u001b[0m\u001b[0;34m.\u001b[0m\u001b[0mcompose\u001b[0m\u001b[0;34m(\u001b[0m\u001b[0mequivalencies\u001b[0m\u001b[0;34m=\u001b[0m\u001b[0mcount_equiv\u001b[0m\u001b[0;34m)\u001b[0m\u001b[0;34m\u001b[0m\u001b[0m\n\u001b[0m",
      "\u001b[0;32m/home/wtb2/anaconda3/envs/synthesizar/lib/python3.5/site-packages/astropy/units/core.py\u001b[0m in \u001b[0;36mcompose\u001b[0;34m(self, equivalencies, units, max_depth, include_prefix_units)\u001b[0m\n\u001b[1;32m   1196\u001b[0m         \"\"\"\n\u001b[1;32m   1197\u001b[0m         \u001b[0;31m# Pre-normalize the equivalencies list\u001b[0m\u001b[0;34m\u001b[0m\u001b[0;34m\u001b[0m\u001b[0m\n\u001b[0;32m-> 1198\u001b[0;31m         \u001b[0mequivalencies\u001b[0m \u001b[0;34m=\u001b[0m \u001b[0mself\u001b[0m\u001b[0;34m.\u001b[0m\u001b[0m_normalize_equivalencies\u001b[0m\u001b[0;34m(\u001b[0m\u001b[0mequivalencies\u001b[0m\u001b[0;34m)\u001b[0m\u001b[0;34m\u001b[0m\u001b[0m\n\u001b[0m\u001b[1;32m   1199\u001b[0m \u001b[0;34m\u001b[0m\u001b[0m\n\u001b[1;32m   1200\u001b[0m         \u001b[0;31m# The namespace of units to compose into should be filtered to\u001b[0m\u001b[0;34m\u001b[0m\u001b[0;34m\u001b[0m\u001b[0m\n",
      "\u001b[0;32m/home/wtb2/anaconda3/envs/synthesizar/lib/python3.5/site-packages/astropy/units/core.py\u001b[0m in \u001b[0;36m_normalize_equivalencies\u001b[0;34m(equivalencies)\u001b[0m\n\u001b[1;32m    642\u001b[0m         \u001b[0mValueError\u001b[0m \u001b[0;32mif\u001b[0m \u001b[0man\u001b[0m \u001b[0mequivalency\u001b[0m \u001b[0mcannot\u001b[0m \u001b[0mbe\u001b[0m \u001b[0minterpreted\u001b[0m\u001b[0;34m\u001b[0m\u001b[0m\n\u001b[1;32m    643\u001b[0m         \"\"\"\n\u001b[0;32m--> 644\u001b[0;31m         \u001b[0mnormalized\u001b[0m \u001b[0;34m=\u001b[0m \u001b[0m_normalize_equivalencies\u001b[0m\u001b[0;34m(\u001b[0m\u001b[0mequivalencies\u001b[0m\u001b[0;34m)\u001b[0m\u001b[0;34m\u001b[0m\u001b[0m\n\u001b[0m\u001b[1;32m    645\u001b[0m         \u001b[0;32mif\u001b[0m \u001b[0mequivalencies\u001b[0m \u001b[0;32mis\u001b[0m \u001b[0;32mnot\u001b[0m \u001b[0;32mNone\u001b[0m\u001b[0;34m:\u001b[0m\u001b[0;34m\u001b[0m\u001b[0m\n\u001b[1;32m    646\u001b[0m             \u001b[0mnormalized\u001b[0m \u001b[0;34m+=\u001b[0m \u001b[0mget_current_unit_registry\u001b[0m\u001b[0;34m(\u001b[0m\u001b[0;34m)\u001b[0m\u001b[0;34m.\u001b[0m\u001b[0mequivalencies\u001b[0m\u001b[0;34m\u001b[0m\u001b[0m\n",
      "\u001b[0;32m/home/wtb2/anaconda3/envs/synthesizar/lib/python3.5/site-packages/astropy/units/core.py\u001b[0m in \u001b[0;36m_normalize_equivalencies\u001b[0;34m(equivalencies)\u001b[0m\n\u001b[1;32m     99\u001b[0m                 \"Invalid equivalence entry {0}: {1!r}\".format(i, equiv))\n\u001b[1;32m    100\u001b[0m         if not (funit is Unit(funit) and\n\u001b[0;32m--> 101\u001b[0;31m                 \u001b[0;34m(\u001b[0m\u001b[0mtunit\u001b[0m \u001b[0;32mis\u001b[0m \u001b[0;32mNone\u001b[0m \u001b[0;32mor\u001b[0m \u001b[0mtunit\u001b[0m \u001b[0;32mis\u001b[0m \u001b[0mUnit\u001b[0m\u001b[0;34m(\u001b[0m\u001b[0mtunit\u001b[0m\u001b[0;34m)\u001b[0m\u001b[0;34m)\u001b[0m \u001b[0;32mand\u001b[0m\u001b[0;34m\u001b[0m\u001b[0m\n\u001b[0m\u001b[1;32m    102\u001b[0m                 \u001b[0msix\u001b[0m\u001b[0;34m.\u001b[0m\u001b[0mcallable\u001b[0m\u001b[0;34m(\u001b[0m\u001b[0ma\u001b[0m\u001b[0;34m)\u001b[0m \u001b[0;32mand\u001b[0m\u001b[0;34m\u001b[0m\u001b[0m\n\u001b[1;32m    103\u001b[0m                 six.callable(b)):\n",
      "\u001b[0;32m/home/wtb2/anaconda3/envs/synthesizar/lib/python3.5/site-packages/astropy/units/core.py\u001b[0m in \u001b[0;36m__call__\u001b[0;34m(self, s, represents, format, namespace, doc, parse_strict)\u001b[0m\n\u001b[1;32m   1849\u001b[0m \u001b[0;34m\u001b[0m\u001b[0m\n\u001b[1;32m   1850\u001b[0m         \u001b[0;32melse\u001b[0m\u001b[0;34m:\u001b[0m\u001b[0;34m\u001b[0m\u001b[0m\n\u001b[0;32m-> 1851\u001b[0;31m             \u001b[0;32mraise\u001b[0m \u001b[0mTypeError\u001b[0m\u001b[0;34m(\u001b[0m\u001b[0;34m\"{0} can not be converted to a Unit\"\u001b[0m\u001b[0;34m.\u001b[0m\u001b[0mformat\u001b[0m\u001b[0;34m(\u001b[0m\u001b[0ms\u001b[0m\u001b[0;34m)\u001b[0m\u001b[0;34m)\u001b[0m\u001b[0;34m\u001b[0m\u001b[0m\n\u001b[0m\u001b[1;32m   1852\u001b[0m \u001b[0;34m\u001b[0m\u001b[0m\n\u001b[1;32m   1853\u001b[0m \u001b[0;34m\u001b[0m\u001b[0m\n",
      "\u001b[0;31mTypeError\u001b[0m: <module 'astropy.units.cgs' from '/home/wtb2/anaconda3/envs/synthesizar/lib/python3.5/site-packages/astropy/units/cgs.py'> can not be converted to a Unit"
     ]
    }
   ],
   "source": [
    "u.ct.compose(equivalencies=count_equiv)"
   ]
  },
  {
   "cell_type": "markdown",
   "metadata": {},
   "source": [
    "## Saving `EISCube` objects"
   ]
  },
  {
   "cell_type": "code",
   "execution_count": null,
   "metadata": {
    "collapsed": false
   },
   "outputs": [],
   "source": [
    "os.path.splitext('/hello/foo/bar.fits')[-1]"
   ]
  },
  {
   "cell_type": "code",
   "execution_count": null,
   "metadata": {
    "collapsed": true
   },
   "outputs": [],
   "source": [
    "eiscube.save('/home/wtb2/Desktop/test_eiscube.fits.gz')"
   ]
  },
  {
   "cell_type": "code",
   "execution_count": null,
   "metadata": {
    "collapsed": true
   },
   "outputs": [],
   "source": [
    "test_data = eiscube.data.value#np.where(eiscube.data.value<1e-10,0.,eiscube.data.value)"
   ]
  },
  {
   "cell_type": "code",
   "execution_count": null,
   "metadata": {
    "collapsed": false
   },
   "outputs": [],
   "source": [
    "sparse_data = [scipy.sparse.csr_matrix(test_data[:,:,i]) for i in range(eiscube.wavelength.shape[0])]"
   ]
  },
  {
   "cell_type": "code",
   "execution_count": null,
   "metadata": {
    "collapsed": true
   },
   "outputs": [],
   "source": [
    "sd_data = np.array([sd.data for sd in sparse_data])\n",
    "sd_indices = np.array([sd.indices for sd in sparse_data])\n",
    "sd_indptr = np.array([sd.indptr for sd in sparse_data])"
   ]
  },
  {
   "cell_type": "code",
   "execution_count": null,
   "metadata": {
    "collapsed": true
   },
   "outputs": [],
   "source": [
    "ragged_type = h5py.special_dtype(vlen=np.dtype('float64'))"
   ]
  },
  {
   "cell_type": "code",
   "execution_count": null,
   "metadata": {
    "collapsed": false
   },
   "outputs": [],
   "source": [
    "with h5py.File('/home/wtb2/Desktop/test_eiscube.h5','w') as hf:\n",
    "    grp = hf.create_group('meta')\n",
    "    for key in eiscube.meta:\n",
    "        grp.attrs[key] = eiscube.meta[key]\n",
    "    dset_wvl = hf.create_dataset('wavelength',data=eiscube.wavelength.value)\n",
    "    dset_wvl.attrs['units'] = eiscube.wavelength.unit.to_string()\n",
    "    dset_intens = hf.create_dataset('intensity',data=eiscube.data.value,\n",
    "                                  compression='gzip',dtype=np.float32,\n",
    "                                 )\n",
    "    dset_intens.attrs['units'] = eiscube.data.unit.to_string()"
   ]
  },
  {
   "cell_type": "code",
   "execution_count": null,
   "metadata": {
    "collapsed": false
   },
   "outputs": [],
   "source": [
    "with h5py.File('/home/wtb2/Desktop/test_eiscube.h5','r') as hf:\n",
    "    test_data_from_file = np.array(hf['intensity'])"
   ]
  },
  {
   "cell_type": "code",
   "execution_count": null,
   "metadata": {
    "collapsed": false
   },
   "outputs": [],
   "source": [
    "np.all(test_data_from_file == eiscube.data.value)"
   ]
  },
  {
   "cell_type": "code",
   "execution_count": null,
   "metadata": {
    "collapsed": false
   },
   "outputs": [],
   "source": [
    "test_sparse.toarray() == test_data[:,:,20]"
   ]
  },
  {
   "cell_type": "code",
   "execution_count": null,
   "metadata": {
    "collapsed": true
   },
   "outputs": [],
   "source": [
    "reconstructed_cube = EISCube('')"
   ]
  },
  {
   "cell_type": "markdown",
   "metadata": {},
   "source": [
    "## Spectral Cube\n",
    "Now, can we translate the EIS data into a spectral cube?"
   ]
  },
  {
   "cell_type": "code",
   "execution_count": null,
   "metadata": {
    "collapsed": false
   },
   "outputs": [],
   "source": [
    "test_specube = spectral_cube.SpectralCube(eiscube.data,astropy.wcs.WCS(eiscube.meta))"
   ]
  },
  {
   "cell_type": "code",
   "execution_count": null,
   "metadata": {
    "collapsed": false
   },
   "outputs": [],
   "source": [
    "scipy.sparse.lil_matrix(sparse_data[20])"
   ]
  },
  {
   "cell_type": "code",
   "execution_count": null,
   "metadata": {
    "collapsed": false
   },
   "outputs": [],
   "source": [
    "test_mm = sunpy.map.MapMeta()"
   ]
  },
  {
   "cell_type": "code",
   "execution_count": null,
   "metadata": {
    "collapsed": true
   },
   "outputs": [],
   "source": [
    "test_mm['naxis_1'] = 2999"
   ]
  },
  {
   "cell_type": "code",
   "execution_count": null,
   "metadata": {
    "collapsed": false
   },
   "outputs": [],
   "source": [
    "test_mm"
   ]
  },
  {
   "cell_type": "code",
   "execution_count": null,
   "metadata": {
    "collapsed": false
   },
   "outputs": [],
   "source": [
    "eiscube[0].meta"
   ]
  },
  {
   "cell_type": "code",
   "execution_count": null,
   "metadata": {
    "collapsed": false
   },
   "outputs": [],
   "source": [
    "eiscube[0].data.shape"
   ]
  },
  {
   "cell_type": "code",
   "execution_count": null,
   "metadata": {
    "collapsed": true
   },
   "outputs": [],
   "source": []
  }
 ],
 "metadata": {
  "kernelspec": {
   "display_name": "Python [conda env:synthesizar]",
   "language": "python",
   "name": "conda-env-synthesizar-py"
  },
  "language_info": {
   "codemirror_mode": {
    "name": "ipython",
    "version": 3
   },
   "file_extension": ".py",
   "mimetype": "text/x-python",
   "name": "python",
   "nbconvert_exporter": "python",
   "pygments_lexer": "ipython3",
   "version": "3.5.3"
  }
 },
 "nbformat": 4,
 "nbformat_minor": 2
}
