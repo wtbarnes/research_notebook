{
 "cells": [
  {
   "cell_type": "markdown",
   "metadata": {},
   "source": [
    "# Refector Testing\n",
    "A few pretty big changes here:\n",
    "\n",
    "1. EIS now only has two channels. This means each cube at each timestep will be $N_x\\times N_y\\times N_{\\lambda}$ where $N_{\\lambda}\\sim2000$. This means restructuring the `EISCube` object to handle bigger data.\n",
    "  * Instrument response data changes\n",
    "  * Reading instrument data changes\n",
    "  * `EISCube` structure changes--don't subclass `MapCube`, implement a few of our own methods\n",
    "2. Flattening emission data per transition when possible (e.g. with SDO AIA). This means **not** saving the emission per loop, but instead flattening over all transitions with the instrument response function. So emission is calculated at the flatten step."
   ]
  },
  {
   "cell_type": "code",
   "execution_count": 1,
   "metadata": {
    "collapsed": false
   },
   "outputs": [
    {
     "name": "stderr",
     "output_type": "stream",
     "text": [
      "WARNING: AstropyDeprecationWarning: astropy.utils.compat.odict.OrderedDict is now deprecated - import OrderedDict from the collections module instead [astropy.utils.compat.odict]\n",
      "WARNING:astropy:AstropyDeprecationWarning: astropy.utils.compat.odict.OrderedDict is now deprecated - import OrderedDict from the collections module instead\n"
     ]
    },
    {
     "name": "stdout",
     "output_type": "stream",
     "text": [
      " using cli\n",
      " using CLI for selections\n",
      " reading chiantirc file\n"
     ]
    },
    {
     "name": "stderr",
     "output_type": "stream",
     "text": [
      "/opt/anaconda3/envs/synthesizar/lib/python3.5/site-packages/matplotlib/__init__.py:1357: UserWarning:  This call to matplotlib.use() has no effect\n",
      "because the backend has already been chosen;\n",
      "matplotlib.use() must be called *before* pylab, matplotlib.pyplot,\n",
      "or matplotlib.backends is imported for the first time.\n",
      "\n",
      "  warnings.warn(_use_error_msg)\n"
     ]
    }
   ],
   "source": [
    "import os\n",
    "import subprocess\n",
    "import sys\n",
    "import logging\n",
    "import pkg_resources\n",
    "import json\n",
    "import urllib\n",
    "import logging\n",
    "logging.basicConfig(level=logging.INFO)\n",
    "\n",
    "import numpy as np\n",
    "import h5py\n",
    "import astropy.units as u\n",
    "import matplotlib.pyplot as plt\n",
    "from sunpy.map import Map\n",
    "import ChiantiPy.core as ch\n",
    "import ChiantiPy.tools.util as ch_tools_util\n",
    "\n",
    "import synthesizAR\n",
    "from synthesizAR.atomic import EmissionModel\n",
    "from synthesizAR.model_ext import EbtelInterface,calculate_free_energy\n",
    "from synthesizAR.instruments import InstrumentHinodeEIS,InstrumentSDOAIA\n",
    "\n",
    "%matplotlib inline"
   ]
  },
  {
   "cell_type": "markdown",
   "metadata": {},
   "source": [
    "## Field and Loop Simulations\n",
    "Extrapolate the field and create the loop objects."
   ]
  },
  {
   "cell_type": "code",
   "execution_count": 2,
   "metadata": {
    "collapsed": true
   },
   "outputs": [],
   "source": [
    "ar_root = '/data/datadrive2/ar_viz/emission_refactor_testing/'"
   ]
  },
  {
   "cell_type": "code",
   "execution_count": null,
   "metadata": {
    "collapsed": false
   },
   "outputs": [],
   "source": [
    "crop = (u.Quantity([-400,-140]*u.arcsec),u.Quantity([320,540]*u.arcsec))\n",
    "resample = u.Quantity([100,100]*u.pixel)\n",
    "field = synthesizAR.Skeleton('/home/wtb2/sunpy/data/hmi_m_45s_2010_06_19_03_06_00_tai_magnetogram.0.fits',\n",
    "                             crop=crop,resample=resample)"
   ]
  },
  {
   "cell_type": "code",
   "execution_count": null,
   "metadata": {
    "collapsed": false
   },
   "outputs": [],
   "source": [
    "zshape=50\n",
    "zrange=u.Quantity([0.,150.]*u.arcsec)\n",
    "field.extrapolate_field(zshape,zrange)"
   ]
  },
  {
   "cell_type": "code",
   "execution_count": null,
   "metadata": {
    "collapsed": false
   },
   "outputs": [],
   "source": [
    "field.extract_streamlines(50,loop_length_range=[1e+9,1e+11]*u.cm)"
   ]
  },
  {
   "cell_type": "code",
   "execution_count": null,
   "metadata": {
    "collapsed": true
   },
   "outputs": [],
   "source": [
    "field.make_loops()"
   ]
  },
  {
   "cell_type": "markdown",
   "metadata": {},
   "source": [
    "Do the hydrodynamic simulations."
   ]
  },
  {
   "cell_type": "code",
   "execution_count": null,
   "metadata": {
    "collapsed": true
   },
   "outputs": [],
   "source": [
    "class NanoflareStormModel(object):\n",
    "    def __init__(self,heating_options):\n",
    "        self.heating_options = heating_options\n",
    "        np.random.seed()\n",
    "        \n",
    "    @property\n",
    "    def number_events(self):\n",
    "        return 1\n",
    "    \n",
    "    def calculate_event_properties(self,loop):\n",
    "        available_energy = calculate_free_energy(loop.field_aligned_coordinate,loop.field_strength,\n",
    "                                                 stress_level=self.heating_options['stress_level'])\n",
    "        rate = 2.0*available_energy/(self.number_events*(2.0*self.heating_options['duration'] \n",
    "                                                         - self.heating_options['duration_rise'] \n",
    "                                                         - self.heating_options['duration_decay']))\n",
    "        #distribute start times randomly between 0 and total_time - duration\n",
    "        tsr = np.random.rand(self.number_events)*(self.base_config['total_time'] - self.heating_options['duration'])\n",
    "        ter = tsr + self.heating_options['duration_rise']\n",
    "        tsd = ter + (self.heating_options['duration'] \n",
    "                     - self.heating_options['duration_rise'] \n",
    "                     - self.heating_options['duration_decay'])\n",
    "        ted = tsr + self.heating_options['duration']\n",
    "        return {'magnitude':np.array([rate]),'rise_start':tsr,'rise_end':ter,'decay_start':tsd,'decay_end':ted}"
   ]
  },
  {
   "cell_type": "code",
   "execution_count": null,
   "metadata": {
    "collapsed": true
   },
   "outputs": [],
   "source": [
    "heating_options = {\n",
    "    'duration':200.0,\n",
    "    'duration_rise':100.0,\n",
    "    'duration_decay':100.0,\n",
    "    'stress_level':0.15,\n",
    "}\n",
    "heating_model = NanoflareStormModel(heating_options)\n",
    "ih = synthesizAR.util.InputHandler(os.path.join(os.environ['RESEARCH_DIR'],\n",
    "                                                'ebtelPlusPlus/config/ebtel.example.cfg.xml'))\n",
    "base_config = ih.lookup_vars()\n",
    "base_config['c1_cond0'] = 6.0\n",
    "base_config['use_adaptive_solver'] = True\n",
    "base_config['tau'] = 1.0\n",
    "base_config['adaptive_solver_error'] = 1e-12\n",
    "base_config['adaptive_solver_safety'] = 0.01\n",
    "base_config['total_time'] = 5000.0\n",
    "ebtel_plug = EbtelInterface(base_config,heating_model,\n",
    "                            os.path.join(ar_root,'hydro_config'),\n",
    "                            os.path.join(ar_root,'hydro_results'))"
   ]
  },
  {
   "cell_type": "code",
   "execution_count": null,
   "metadata": {
    "collapsed": true
   },
   "outputs": [],
   "source": [
    "field.configure_loop_simulations(ebtel_plug)"
   ]
  },
  {
   "cell_type": "code",
   "execution_count": null,
   "metadata": {
    "collapsed": false
   },
   "outputs": [],
   "source": [
    "for loop in field.loops:\n",
    "    subprocess.call([os.path.join(os.environ['RESEARCH_DIR'],'ebtelPlusPlus/bin/ebtel++.run'),\n",
    "                     '-c',loop.hydro_configuration['config_filename']])"
   ]
  },
  {
   "cell_type": "code",
   "execution_count": null,
   "metadata": {
    "collapsed": true
   },
   "outputs": [],
   "source": [
    "field.load_loop_simulations(ebtel_plug,savefile=os.path.join(ar_root,'loop_parameters.h5'))"
   ]
  },
  {
   "cell_type": "markdown",
   "metadata": {},
   "source": [
    "And save the field."
   ]
  },
  {
   "cell_type": "code",
   "execution_count": null,
   "metadata": {
    "collapsed": true
   },
   "outputs": [],
   "source": [
    "field.save(savedir=os.path.join(ar_root,'checkpoint'))"
   ]
  },
  {
   "cell_type": "markdown",
   "metadata": {},
   "source": [
    "Reload the field here if needed."
   ]
  },
  {
   "cell_type": "code",
   "execution_count": 3,
   "metadata": {
    "collapsed": false
   },
   "outputs": [
    {
     "name": "stderr",
     "output_type": "stream",
     "text": [
      "WARNING:Skeleton:No HMI fits file supplied. A new HMI map object will not be created.\n",
      "yt : [INFO     ] 2017-02-26 02:15:43,530 Parameters: current_time              = 0.0\n",
      "yt : [INFO     ] 2017-02-26 02:15:43,531 Parameters: domain_dimensions         = [96 96 46]\n",
      "yt : [INFO     ] 2017-02-26 02:15:43,532 Parameters: domain_left_edge          = [ -2.89511786e+10   2.37893407e+10   4.40182588e+08]\n",
      "yt : [INFO     ] 2017-02-26 02:15:43,533 Parameters: domain_right_edge         = [ -1.06601257e+10   3.93100982e+10   1.05643821e+10]\n",
      "yt : [INFO     ] 2017-02-26 02:15:43,533 Parameters: cosmological_simulation   = 0.0\n"
     ]
    }
   ],
   "source": [
    "field  = synthesizAR.Skeleton.restore(os.path.join(ar_root,'checkpoint'))"
   ]
  },
  {
   "cell_type": "markdown",
   "metadata": {},
   "source": [
    "## Emission\n",
    "First, grab the transitions that we actually want to resolve."
   ]
  },
  {
   "cell_type": "code",
   "execution_count": null,
   "metadata": {
    "collapsed": false
   },
   "outputs": [],
   "source": [
    "new_linelist = [list(filter(None,line.decode('utf-8').strip('\\n').split(' '))) \\\n",
    "                for line in urllib.request.urlopen('http://iopscience.iop.org/0004-637X/759/2/141/suppdata/apj446760t2_mrt.txt').readlines()[19:]]\n",
    "resolved_transitions = []\n",
    "for line in new_linelist:\n",
    "    if int(line[0]) == 1 and line[1] == 'EIS':\n",
    "        el = line[2]\n",
    "        ion = line[3]\n",
    "        wvl = float(line[4])\n",
    "        el_ion = ch_tools_util.spectroscopic2name(el,ion)\n",
    "        try:\n",
    "            index = next(index for (index, d) in enumerate(resolved_transitions) if d[\"name\"] == el_ion)\n",
    "            resolved_transitions[index]['wavelengths'] = (list(resolved_transitions[index]['wavelengths'].value) + [wvl])*u.angstrom\n",
    "        except StopIteration:\n",
    "            resolved_transitions.append({'name':el_ion,'wavelengths':[wvl]*u.angstrom})\n",
    "resolved_transitions.pop(1)"
   ]
  },
  {
   "cell_type": "markdown",
   "metadata": {},
   "source": [
    "And check them versus Chianti to make sure the wavelengths are right."
   ]
  },
  {
   "cell_type": "code",
   "execution_count": null,
   "metadata": {
    "collapsed": false
   },
   "outputs": [],
   "source": [
    "for ion in resolved_transitions:\n",
    "    print('ion {}'.format(ion['name']))\n",
    "    ch_ion = ch.ion(ion['name'])\n",
    "    tmp = []\n",
    "    for i,w in enumerate(ion['wavelengths'].value):\n",
    "        new_wvl = min(ch_ion.Wgfa['wvl'],key=lambda x:abs(x-w))\n",
    "        if abs(new_wvl - w)>0.1:\n",
    "            raise ValueError('Closest wavelength {} is not within tolerance of {}'.format(new_wvl,w))\n",
    "        tmp.append(new_wvl)\n",
    "    tmp = tmp*ion['wavelengths'].unit\n",
    "    ion['wavelengths'] = tmp"
   ]
  },
  {
   "cell_type": "markdown",
   "metadata": {},
   "source": [
    "Now create the ion masterlist. "
   ]
  },
  {
   "cell_type": "code",
   "execution_count": null,
   "metadata": {
    "collapsed": false
   },
   "outputs": [],
   "source": [
    "ion_masterlist = []\n",
    "wvl_range = [80.0,350.0]\n",
    "for ion in resolved_transitions:\n",
    "    print('Building list for {}'.format(ion['name']))\n",
    "    tmp = {'name':ion['name']}\n",
    "    ci = ch.ion(ion['name'])\n",
    "    wvls = [w for w in ci.Wgfa['wvl'] if wvl_range[0] <= w <= wvl_range[1]]\n",
    "    wvls = wvls*u.angstrom\n",
    "    tmp['wavelengths'] = wvls\n",
    "    tmp['resolve_wavelength'] = [True if w in ion['wavelengths'] else False for w in wvls]\n",
    "    ion_masterlist.append(tmp)"
   ]
  },
  {
   "cell_type": "markdown",
   "metadata": {},
   "source": [
    "Now create the emission model for our list of ions."
   ]
  },
  {
   "cell_type": "code",
   "execution_count": null,
   "metadata": {
    "collapsed": false
   },
   "outputs": [],
   "source": [
    "emiss_model = EmissionModel(ion_masterlist,density=np.logspace(8,11,20)/(u.cm**3),\n",
    "                            energy_unit='photon',chianti_db_filename=os.path.join(ar_root,'chianti_db.h5'))"
   ]
  },
  {
   "cell_type": "markdown",
   "metadata": {},
   "source": [
    "Or restore it from a save."
   ]
  },
  {
   "cell_type": "code",
   "execution_count": 4,
   "metadata": {
    "collapsed": false
   },
   "outputs": [
    {
     "name": "stderr",
     "output_type": "stream",
     "text": [
      "INFO:EmissionModel:Using CHIANTI HDF5 database in /data/datadrive2/ar_viz/emission_refactor_testing/chianti_db.h5\n",
      "INFO:EmissionModel:Creating ion si_7\n",
      "INFO:EmissionModel:Creating ion fe_10\n",
      "INFO:EmissionModel:Creating ion fe_11\n",
      "INFO:EmissionModel:Creating ion fe_12\n",
      "INFO:EmissionModel:Creating ion fe_13\n",
      "INFO:EmissionModel:Creating ion fe_15\n",
      "INFO:EmissionModel:Creating ion s_13\n",
      "INFO:EmissionModel:Creating ion fe_16\n",
      "WARNING:ChIon:Fe XVI psplups file not found\n",
      "INFO:EmissionModel:Creating ion ca_17\n",
      "INFO:EmissionModel:Restoring emission model from /data/datadrive2/ar_viz/emission_refactor_testing/checkpoint_emiss_model\n"
     ]
    }
   ],
   "source": [
    "emiss_model = EmissionModel.restore(os.path.join(ar_root,'checkpoint_emiss_model'))"
   ]
  },
  {
   "cell_type": "markdown",
   "metadata": {},
   "source": [
    "Now calculate the emissivity for each of the selected transitions"
   ]
  },
  {
   "cell_type": "code",
   "execution_count": null,
   "metadata": {
    "collapsed": false
   },
   "outputs": [],
   "source": [
    "emiss_model.calculate_emissivity()"
   ]
  },
  {
   "cell_type": "markdown",
   "metadata": {},
   "source": [
    "Save the emission model."
   ]
  },
  {
   "cell_type": "code",
   "execution_count": null,
   "metadata": {
    "collapsed": false
   },
   "outputs": [],
   "source": [
    "emiss_model.save(savedir=os.path.join(ar_root,'checkpoint_emiss_model'))"
   ]
  },
  {
   "cell_type": "markdown",
   "metadata": {},
   "source": [
    "Now calculate the fractional ionization, incorporating NEI."
   ]
  },
  {
   "cell_type": "code",
   "execution_count": null,
   "metadata": {
    "collapsed": false
   },
   "outputs": [],
   "source": [
    "field.calculate_fractional_ionization(emiss_model,ebtel_plug,\n",
    "                                      savefile=os.path.join(ar_root,'nei_populations.h5'))"
   ]
  },
  {
   "cell_type": "markdown",
   "metadata": {},
   "source": [
    "And now calculate the emission for each loop. However, now we need to declare our instruments (or at least the imaging ones) first."
   ]
  },
  {
   "cell_type": "code",
   "execution_count": 5,
   "metadata": {
    "collapsed": true
   },
   "outputs": [],
   "source": [
    "eis = InstrumentHinodeEIS([0,4990]*u.s)\n",
    "aia = InstrumentSDOAIA([0,4990]*u.s,use_temperature_response_functions=False)"
   ]
  },
  {
   "cell_type": "code",
   "execution_count": null,
   "metadata": {
    "collapsed": false
   },
   "outputs": [],
   "source": [
    "field.calculate_emission(emiss_model,savefile=os.path.join(ar_root,'loop_emiss.h5'),imagers=[aia])"
   ]
  },
  {
   "cell_type": "code",
   "execution_count": null,
   "metadata": {
    "collapsed": false
   },
   "outputs": [],
   "source": [
    "field.loops[0].get_emission(emiss_model.resolved_wavelengths[0].value)"
   ]
  },
  {
   "cell_type": "code",
   "execution_count": null,
   "metadata": {
    "collapsed": false
   },
   "outputs": [],
   "source": [
    "plt.plot(field.loops[0].time,field.loops[0].get_emission('{}_{}'.format(aia.name,aia.channels[4]['name']))[:,0])\n",
    "#plt.xlim([3800,4100])\n",
    "plt.yscale('log')"
   ]
  },
  {
   "cell_type": "markdown",
   "metadata": {},
   "source": [
    "## Observe\n",
    "Now configure the observer object and build data products."
   ]
  },
  {
   "cell_type": "markdown",
   "metadata": {},
   "source": [
    "First, remove the channels that we don't need from the eis detector."
   ]
  },
  {
   "cell_type": "code",
   "execution_count": 6,
   "metadata": {
    "collapsed": false
   },
   "outputs": [
    {
     "name": "stderr",
     "output_type": "stream",
     "text": [
      "/opt/anaconda3/envs/synthesizar/lib/python3.5/site-packages/scipy/interpolate/fitpack.py:300: RuntimeWarning: The maximal number of iterations (20) allowed for finding smoothing\n",
      "spline with fp=s has been reached. Probable cause: s too small.\n",
      "(abs(fp-s)/s>0.001)\n",
      "  warnings.warn(RuntimeWarning(_iermess[ier][0]))\n",
      "/opt/anaconda3/envs/synthesizar/lib/python3.5/site-packages/scipy/interpolate/fitpack.py:300: RuntimeWarning: A theoretically impossible result when finding a smoothing spline\n",
      "with fp = s. Probable cause: s too small. (abs(fp-s)/s>0.001)\n",
      "  warnings.warn(RuntimeWarning(_iermess[ier][0]))\n"
     ]
    }
   ],
   "source": [
    "observer = synthesizAR.Observer(field,[aia,eis],ds=field._convert_angle_to_length(0.5*u.arcsec))"
   ]
  },
  {
   "cell_type": "code",
   "execution_count": 7,
   "metadata": {
    "collapsed": false
   },
   "outputs": [
    {
     "name": "stderr",
     "output_type": "stream",
     "text": [
      "INFO:InstrumentSDOAIA:Creating instrument file /data/datadrive2/ar_viz/emission_refactor_testing/SDO_AIA_counts.h5\n",
      "INFO:InstrumentHinodeEIS:Creating instrument file /data/datadrive2/ar_viz/emission_refactor_testing/Hinode_EIS_counts.h5\n"
     ]
    }
   ],
   "source": [
    "observer.build_detector_files(ar_root)"
   ]
  },
  {
   "cell_type": "code",
   "execution_count": null,
   "metadata": {
    "collapsed": false
   },
   "outputs": [],
   "source": [
    "observer.flatten_detector_counts()"
   ]
  },
  {
   "cell_type": "code",
   "execution_count": 9,
   "metadata": {
    "collapsed": false
   },
   "outputs": [],
   "source": [
    "observer.instruments = [eis]"
   ]
  },
  {
   "cell_type": "code",
   "execution_count": 10,
   "metadata": {
    "collapsed": false
   },
   "outputs": [
    {
     "name": "stderr",
     "output_type": "stream",
     "text": [
      "INFO:Observer:Building data products for Hinode_EIS\n"
     ]
    },
    {
     "ename": "KeyboardInterrupt",
     "evalue": "",
     "output_type": "error",
     "traceback": [
      "\u001b[0;31m---------------------------------------------------------------------------\u001b[0m",
      "\u001b[0;31mKeyboardInterrupt\u001b[0m                         Traceback (most recent call last)",
      "\u001b[0;32m<ipython-input-10-9f7ada0c6180>\u001b[0m in \u001b[0;36m<module>\u001b[0;34m()\u001b[0m\n\u001b[0;32m----> 1\u001b[0;31m \u001b[0mobserver\u001b[0m\u001b[0;34m.\u001b[0m\u001b[0mbin_detector_counts\u001b[0m\u001b[0;34m(\u001b[0m\u001b[0mar_root\u001b[0m\u001b[0;34m)\u001b[0m\u001b[0;34m\u001b[0m\u001b[0m\n\u001b[0m",
      "\u001b[0;32m/opt/anaconda3/envs/synthesizar/lib/python3.5/site-packages/synthesizAR-0.1.dev317-py3.5.egg/synthesizAR/observe.py\u001b[0m in \u001b[0;36mbin_detector_counts\u001b[0;34m(self, savedir)\u001b[0m\n\u001b[1;32m    156\u001b[0m                             \u001b[0mtmp_map\u001b[0m \u001b[0;34m=\u001b[0m \u001b[0mtmp_map\u001b[0m\u001b[0;34m.\u001b[0m\u001b[0mcrop\u001b[0m\u001b[0;34m(\u001b[0m\u001b[0minstr\u001b[0m\u001b[0;34m.\u001b[0m\u001b[0mobserving_area\u001b[0m\u001b[0;34m)\u001b[0m\u001b[0;34m\u001b[0m\u001b[0m\n\u001b[1;32m    157\u001b[0m                         tmp_map.save(fn_template.format(instr=instr.name,channel=channel['name'],\n\u001b[0;32m--> 158\u001b[0;31m                                                         time=i))\n\u001b[0m\u001b[1;32m    159\u001b[0m \u001b[0;34m\u001b[0m\u001b[0m\n\u001b[1;32m    160\u001b[0m     \u001b[0;34m@\u001b[0m\u001b[0mu\u001b[0m\u001b[0;34m.\u001b[0m\u001b[0mquantity_input\u001b[0m\u001b[0;34m(\u001b[0m\u001b[0mtime\u001b[0m\u001b[0;34m=\u001b[0m\u001b[0mu\u001b[0m\u001b[0;34m.\u001b[0m\u001b[0ms\u001b[0m\u001b[0;34m)\u001b[0m\u001b[0;34m\u001b[0m\u001b[0m\n",
      "\u001b[0;32m/opt/anaconda3/envs/synthesizar/lib/python3.5/site-packages/synthesizAR-0.1.dev317-py3.5.egg/synthesizAR/util/cube.py\u001b[0m in \u001b[0;36msave\u001b[0;34m(self, filename)\u001b[0m\n\u001b[1;32m     88\u001b[0m         \u001b[0;31m#write to file\u001b[0m\u001b[0;34m\u001b[0m\u001b[0;34m\u001b[0m\u001b[0m\n\u001b[1;32m     89\u001b[0m         \u001b[0mhdulist\u001b[0m \u001b[0;34m=\u001b[0m \u001b[0mastropy\u001b[0m\u001b[0;34m.\u001b[0m\u001b[0mio\u001b[0m\u001b[0;34m.\u001b[0m\u001b[0mfits\u001b[0m\u001b[0;34m.\u001b[0m\u001b[0mHDUList\u001b[0m\u001b[0;34m(\u001b[0m\u001b[0;34m[\u001b[0m\u001b[0mimage_hdu\u001b[0m\u001b[0;34m,\u001b[0m\u001b[0mtable_hdu\u001b[0m\u001b[0;34m]\u001b[0m\u001b[0;34m)\u001b[0m\u001b[0;34m\u001b[0m\u001b[0m\n\u001b[0;32m---> 90\u001b[0;31m         \u001b[0mhdulist\u001b[0m\u001b[0;34m.\u001b[0m\u001b[0mwriteto\u001b[0m\u001b[0;34m(\u001b[0m\u001b[0mfilename\u001b[0m\u001b[0;34m,\u001b[0m\u001b[0moutput_verify\u001b[0m\u001b[0;34m=\u001b[0m\u001b[0;34m'silentfix'\u001b[0m\u001b[0;34m)\u001b[0m\u001b[0;34m\u001b[0m\u001b[0m\n\u001b[0m\u001b[1;32m     91\u001b[0m \u001b[0;34m\u001b[0m\u001b[0m\n\u001b[1;32m     92\u001b[0m     \u001b[0;32mdef\u001b[0m \u001b[0m_restore_from_fits\u001b[0m\u001b[0;34m(\u001b[0m\u001b[0mself\u001b[0m\u001b[0;34m,\u001b[0m\u001b[0mfilename\u001b[0m\u001b[0;34m)\u001b[0m\u001b[0;34m:\u001b[0m\u001b[0;34m\u001b[0m\u001b[0m\n",
      "\u001b[0;32m/opt/anaconda3/envs/synthesizar/lib/python3.5/site-packages/astropy/io/fits/hdu/hdulist.py\u001b[0m in \u001b[0;36mwriteto\u001b[0;34m(self, fileobj, output_verify, clobber, checksum)\u001b[0m\n\u001b[1;32m    690\u001b[0m             \u001b[0mhdu\u001b[0m\u001b[0;34m.\u001b[0m\u001b[0m_prewriteto\u001b[0m\u001b[0;34m(\u001b[0m\u001b[0mchecksum\u001b[0m\u001b[0;34m=\u001b[0m\u001b[0mchecksum\u001b[0m\u001b[0;34m)\u001b[0m\u001b[0;34m\u001b[0m\u001b[0m\n\u001b[1;32m    691\u001b[0m             \u001b[0;32mtry\u001b[0m\u001b[0;34m:\u001b[0m\u001b[0;34m\u001b[0m\u001b[0m\n\u001b[0;32m--> 692\u001b[0;31m                 \u001b[0mhdu\u001b[0m\u001b[0;34m.\u001b[0m\u001b[0m_writeto\u001b[0m\u001b[0;34m(\u001b[0m\u001b[0mhdulist\u001b[0m\u001b[0;34m.\u001b[0m\u001b[0m_file\u001b[0m\u001b[0;34m)\u001b[0m\u001b[0;34m\u001b[0m\u001b[0m\n\u001b[0m\u001b[1;32m    693\u001b[0m             \u001b[0;32mfinally\u001b[0m\u001b[0;34m:\u001b[0m\u001b[0;34m\u001b[0m\u001b[0m\n\u001b[1;32m    694\u001b[0m                 \u001b[0mhdu\u001b[0m\u001b[0;34m.\u001b[0m\u001b[0m_postwriteto\u001b[0m\u001b[0;34m(\u001b[0m\u001b[0;34m)\u001b[0m\u001b[0;34m\u001b[0m\u001b[0m\n",
      "\u001b[0;32m/opt/anaconda3/envs/synthesizar/lib/python3.5/site-packages/astropy/io/fits/hdu/base.py\u001b[0m in \u001b[0;36m_writeto\u001b[0;34m(self, fileobj, inplace, copy)\u001b[0m\n\u001b[1;32m    745\u001b[0m         \u001b[0;32mif\u001b[0m \u001b[0;32mnot\u001b[0m \u001b[0minplace\u001b[0m \u001b[0;32mor\u001b[0m \u001b[0mself\u001b[0m\u001b[0;34m.\u001b[0m\u001b[0m_new\u001b[0m\u001b[0;34m:\u001b[0m\u001b[0;34m\u001b[0m\u001b[0m\n\u001b[1;32m    746\u001b[0m             \u001b[0mheader_offset\u001b[0m\u001b[0;34m,\u001b[0m \u001b[0m_\u001b[0m \u001b[0;34m=\u001b[0m \u001b[0mself\u001b[0m\u001b[0;34m.\u001b[0m\u001b[0m_writeheader\u001b[0m\u001b[0;34m(\u001b[0m\u001b[0mfileobj\u001b[0m\u001b[0;34m)\u001b[0m\u001b[0;34m\u001b[0m\u001b[0m\n\u001b[0;32m--> 747\u001b[0;31m             \u001b[0mdata_offset\u001b[0m\u001b[0;34m,\u001b[0m \u001b[0mdata_size\u001b[0m \u001b[0;34m=\u001b[0m \u001b[0mself\u001b[0m\u001b[0;34m.\u001b[0m\u001b[0m_writedata\u001b[0m\u001b[0;34m(\u001b[0m\u001b[0mfileobj\u001b[0m\u001b[0;34m)\u001b[0m\u001b[0;34m\u001b[0m\u001b[0m\n\u001b[0m\u001b[1;32m    748\u001b[0m \u001b[0;34m\u001b[0m\u001b[0m\n\u001b[1;32m    749\u001b[0m             \u001b[0;31m# Set the various data location attributes on newly-written HDUs\u001b[0m\u001b[0;34m\u001b[0m\u001b[0;34m\u001b[0m\u001b[0m\n",
      "\u001b[0;32m/opt/anaconda3/envs/synthesizar/lib/python3.5/site-packages/astropy/io/fits/hdu/base.py\u001b[0m in \u001b[0;36m_writedata\u001b[0;34m(self, fileobj)\u001b[0m\n\u001b[1;32m    682\u001b[0m         \u001b[0;32mif\u001b[0m \u001b[0mself\u001b[0m\u001b[0;34m.\u001b[0m\u001b[0m_data_loaded\u001b[0m \u001b[0;32mor\u001b[0m \u001b[0mself\u001b[0m\u001b[0;34m.\u001b[0m\u001b[0m_data_needs_rescale\u001b[0m\u001b[0;34m:\u001b[0m\u001b[0;34m\u001b[0m\u001b[0m\n\u001b[1;32m    683\u001b[0m             \u001b[0;32mif\u001b[0m \u001b[0mself\u001b[0m\u001b[0;34m.\u001b[0m\u001b[0mdata\u001b[0m \u001b[0;32mis\u001b[0m \u001b[0;32mnot\u001b[0m \u001b[0;32mNone\u001b[0m\u001b[0;34m:\u001b[0m\u001b[0;34m\u001b[0m\u001b[0m\n\u001b[0;32m--> 684\u001b[0;31m                 \u001b[0msize\u001b[0m \u001b[0;34m+=\u001b[0m \u001b[0mself\u001b[0m\u001b[0;34m.\u001b[0m\u001b[0m_writedata_internal\u001b[0m\u001b[0;34m(\u001b[0m\u001b[0mfileobj\u001b[0m\u001b[0;34m)\u001b[0m\u001b[0;34m\u001b[0m\u001b[0m\n\u001b[0m\u001b[1;32m    685\u001b[0m             \u001b[0;31m# pad the FITS data block\u001b[0m\u001b[0;34m\u001b[0m\u001b[0;34m\u001b[0m\u001b[0m\n\u001b[1;32m    686\u001b[0m             \u001b[0;32mif\u001b[0m \u001b[0msize\u001b[0m \u001b[0;34m>\u001b[0m \u001b[0;36m0\u001b[0m\u001b[0;34m:\u001b[0m\u001b[0;34m\u001b[0m\u001b[0m\n",
      "\u001b[0;32m/opt/anaconda3/envs/synthesizar/lib/python3.5/site-packages/astropy/io/fits/hdu/image.py\u001b[0m in \u001b[0;36m_writedata_internal\u001b[0;34m(self, fileobj)\u001b[0m\n\u001b[1;32m    630\u001b[0m                     \u001b[0moutput\u001b[0m\u001b[0;34m.\u001b[0m\u001b[0mbyteswap\u001b[0m\u001b[0;34m(\u001b[0m\u001b[0;32mTrue\u001b[0m\u001b[0;34m)\u001b[0m\u001b[0;34m\u001b[0m\u001b[0m\n\u001b[1;32m    631\u001b[0m                     \u001b[0;32mtry\u001b[0m\u001b[0;34m:\u001b[0m\u001b[0;34m\u001b[0m\u001b[0m\n\u001b[0;32m--> 632\u001b[0;31m                         \u001b[0mfileobj\u001b[0m\u001b[0;34m.\u001b[0m\u001b[0mwritearray\u001b[0m\u001b[0;34m(\u001b[0m\u001b[0moutput\u001b[0m\u001b[0;34m)\u001b[0m\u001b[0;34m\u001b[0m\u001b[0m\n\u001b[0m\u001b[1;32m    633\u001b[0m                     \u001b[0;32mfinally\u001b[0m\u001b[0;34m:\u001b[0m\u001b[0;34m\u001b[0m\u001b[0m\n\u001b[1;32m    634\u001b[0m                         \u001b[0moutput\u001b[0m\u001b[0;34m.\u001b[0m\u001b[0mbyteswap\u001b[0m\u001b[0;34m(\u001b[0m\u001b[0;32mTrue\u001b[0m\u001b[0;34m)\u001b[0m\u001b[0;34m\u001b[0m\u001b[0m\n",
      "\u001b[0;32m/opt/anaconda3/envs/synthesizar/lib/python3.5/site-packages/astropy/io/fits/file.py\u001b[0m in \u001b[0;36mwritearray\u001b[0;34m(self, array)\u001b[0m\n\u001b[1;32m    309\u001b[0m \u001b[0;34m\u001b[0m\u001b[0m\n\u001b[1;32m    310\u001b[0m         \u001b[0;32mif\u001b[0m \u001b[0mhasattr\u001b[0m\u001b[0;34m(\u001b[0m\u001b[0mself\u001b[0m\u001b[0;34m.\u001b[0m\u001b[0m_file\u001b[0m\u001b[0;34m,\u001b[0m \u001b[0;34m'write'\u001b[0m\u001b[0;34m)\u001b[0m\u001b[0;34m:\u001b[0m\u001b[0;34m\u001b[0m\u001b[0m\n\u001b[0;32m--> 311\u001b[0;31m             \u001b[0m_array_to_file\u001b[0m\u001b[0;34m(\u001b[0m\u001b[0marray\u001b[0m\u001b[0;34m,\u001b[0m \u001b[0mself\u001b[0m\u001b[0;34m.\u001b[0m\u001b[0m_file\u001b[0m\u001b[0;34m)\u001b[0m\u001b[0;34m\u001b[0m\u001b[0m\n\u001b[0m\u001b[1;32m    312\u001b[0m \u001b[0;34m\u001b[0m\u001b[0m\n\u001b[1;32m    313\u001b[0m     \u001b[0;32mdef\u001b[0m \u001b[0mflush\u001b[0m\u001b[0;34m(\u001b[0m\u001b[0mself\u001b[0m\u001b[0;34m)\u001b[0m\u001b[0;34m:\u001b[0m\u001b[0;34m\u001b[0m\u001b[0m\n",
      "\u001b[0;32m/opt/anaconda3/envs/synthesizar/lib/python3.5/site-packages/astropy/io/fits/util.py\u001b[0m in \u001b[0;36m_array_to_file\u001b[0;34m(arr, outfile)\u001b[0m\n\u001b[1;32m    808\u001b[0m     \u001b[0;32melse\u001b[0m\u001b[0;34m:\u001b[0m\u001b[0;34m\u001b[0m\u001b[0m\n\u001b[1;32m    809\u001b[0m         \u001b[0;31m# Just pass the whole array to the write routine\u001b[0m\u001b[0;34m\u001b[0m\u001b[0;34m\u001b[0m\u001b[0m\n\u001b[0;32m--> 810\u001b[0;31m         \u001b[0;32mreturn\u001b[0m \u001b[0mwrite\u001b[0m\u001b[0;34m(\u001b[0m\u001b[0marr\u001b[0m\u001b[0;34m,\u001b[0m \u001b[0moutfile\u001b[0m\u001b[0;34m)\u001b[0m\u001b[0;34m\u001b[0m\u001b[0m\n\u001b[0m\u001b[1;32m    811\u001b[0m \u001b[0;34m\u001b[0m\u001b[0m\n\u001b[1;32m    812\u001b[0m     \u001b[0;31m# Write one chunk at a time for systems whose fwrite chokes on large\u001b[0m\u001b[0;34m\u001b[0m\u001b[0;34m\u001b[0m\u001b[0m\n",
      "\u001b[0;32m/opt/anaconda3/envs/synthesizar/lib/python3.5/site-packages/astropy/io/fits/util.py\u001b[0m in \u001b[0;36m<lambda>\u001b[0;34m(a, f)\u001b[0m\n\u001b[1;32m    786\u001b[0m \u001b[0;34m\u001b[0m\u001b[0m\n\u001b[1;32m    787\u001b[0m     \u001b[0;32mif\u001b[0m \u001b[0misfile\u001b[0m\u001b[0;34m(\u001b[0m\u001b[0moutfile\u001b[0m\u001b[0;34m)\u001b[0m\u001b[0;34m:\u001b[0m\u001b[0;34m\u001b[0m\u001b[0m\n\u001b[0;32m--> 788\u001b[0;31m         \u001b[0mwrite\u001b[0m \u001b[0;34m=\u001b[0m \u001b[0;32mlambda\u001b[0m \u001b[0ma\u001b[0m\u001b[0;34m,\u001b[0m \u001b[0mf\u001b[0m\u001b[0;34m:\u001b[0m \u001b[0ma\u001b[0m\u001b[0;34m.\u001b[0m\u001b[0mtofile\u001b[0m\u001b[0;34m(\u001b[0m\u001b[0mf\u001b[0m\u001b[0;34m)\u001b[0m\u001b[0;34m\u001b[0m\u001b[0m\n\u001b[0m\u001b[1;32m    789\u001b[0m     \u001b[0;32melse\u001b[0m\u001b[0;34m:\u001b[0m\u001b[0;34m\u001b[0m\u001b[0m\n\u001b[1;32m    790\u001b[0m         \u001b[0mwrite\u001b[0m \u001b[0;34m=\u001b[0m \u001b[0m_array_to_file_like\u001b[0m\u001b[0;34m\u001b[0m\u001b[0m\n",
      "\u001b[0;31mKeyboardInterrupt\u001b[0m: "
     ]
    }
   ],
   "source": [
    "observer.bin_detector_counts(ar_root)"
   ]
  },
  {
   "cell_type": "code",
   "execution_count": 19,
   "metadata": {
    "collapsed": false
   },
   "outputs": [
    {
     "name": "stderr",
     "output_type": "stream",
     "text": [
      "WARNING: UnitsWarning: 'cm ct g(1/2) / (Angstrom erg(1/2) pix s2)' contains multiple slashes, which is discouraged by the FITS standard [astropy.units.format.generic]\n",
      "WARNING:astropy:UnitsWarning: 'cm ct g(1/2) / (Angstrom erg(1/2) pix s2)' contains multiple slashes, which is discouraged by the FITS standard\n"
     ]
    }
   ],
   "source": [
    "test_cube = synthesizAR.util.EISCube(os.path.join(ar_root,'Hinode_EIS','170-210','map_t000023.fits'))"
   ]
  },
  {
   "cell_type": "code",
   "execution_count": 20,
   "metadata": {
    "collapsed": false
   },
   "outputs": [
    {
     "data": {
      "image/png": "[encoded data removed]",
      "text/plain": [
       "<matplotlib.figure.Figure at 0x7f6512c92cf8>"
      ]
     },
     "metadata": {},
     "output_type": "display_data"
    }
   ],
   "source": [
    "plt.plot(test_cube.wavelength,test_cube.data[53,125,:])\n",
    "plt.yscale('log')"
   ]
  },
  {
   "cell_type": "code",
   "execution_count": 21,
   "metadata": {
    "collapsed": false
   },
   "outputs": [
    {
     "name": "stderr",
     "output_type": "stream",
     "text": [
      "WARNING: UnitsWarning: 'cm ct g(1/2) / (Angstrom erg(1/2) pix s2)' contains multiple slashes, which is discouraged by the FITS standard [astropy.units.format.generic]\n",
      "WARNING:astropy:UnitsWarning: 'cm ct g(1/2) / (Angstrom erg(1/2) pix s2)' contains multiple slashes, which is discouraged by the FITS standard\n",
      "/opt/anaconda3/envs/synthesizar/lib/python3.5/site-packages/matplotlib/figure.py:397: UserWarning: matplotlib is currently using a non-GUI backend, so cannot show the figure\n",
      "  \"matplotlib is currently using a non-GUI backend, \"\n"
     ]
    },
    {
     "data": {
      "image/png": "[encoded data removed]",
      "text/plain": [
       "<matplotlib.figure.Figure at 0x7f6512271d30>"
      ]
     },
     "metadata": {},
     "output_type": "display_data"
    }
   ],
   "source": [
    "test_cube.integrated_intensity.peek()"
   ]
  },
  {
   "cell_type": "code",
   "execution_count": 39,
   "metadata": {
    "collapsed": false
   },
   "outputs": [
    {
     "name": "stderr",
     "output_type": "stream",
     "text": [
      "/opt/anaconda3/envs/synthesizar/lib/python3.5/site-packages/matplotlib/figure.py:397: UserWarning: matplotlib is currently using a non-GUI backend, so cannot show the figure\n",
      "  \"matplotlib is currently using a non-GUI backend, \"\n"
     ]
    },
    {
     "data": {
      "image/png": "[encoded data removed]",
      "text/plain": [
       "<matplotlib.figure.Figure at 0x7f64fa856c88>"
      ]
     },
     "metadata": {},
     "output_type": "display_data"
    }
   ],
   "source": [
    "Map('/data/datadrive2/ar_viz/emission_refactor_testing/SDO_AIA/171/map_t000490.fits').peek(vmin=0.01,vmax=50)"
   ]
  },
  {
   "cell_type": "code",
   "execution_count": 43,
   "metadata": {
    "collapsed": false
   },
   "outputs": [
    {
     "data": {
      "text/latex": [
       "$[184.537,~188.216,~192.394,~192.8532,~195.119,~202.044,~203.826] \\; \\mathrm{\\mathring{A}}$"
      ],
      "text/plain": [
       "<Quantity [ 184.537 , 188.216 , 192.394 , 192.8532, 195.119 , 202.044 ,\n",
       "            203.826 ] Angstrom>"
      ]
     },
     "execution_count": 43,
     "metadata": {},
     "output_type": "execute_result"
    }
   ],
   "source": [
    "eis.channels[0]['model_wavelengths']"
   ]
  },
  {
   "cell_type": "code",
   "execution_count": 44,
   "metadata": {
    "collapsed": false
   },
   "outputs": [
    {
     "data": {
      "text/latex": [
       "$[170,~170.022,~170.045,~\\dots, 209.939,~209.962,~209.984] \\; \\mathrm{\\mathring{A}}$"
      ],
      "text/plain": [
       "<Quantity [ 170.   , 170.022, 170.045,...,  209.939, 209.962, 209.984] Angstrom>"
      ]
     },
     "execution_count": 44,
     "metadata": {},
     "output_type": "execute_result"
    }
   ],
   "source": [
    "eis.channels[0]['response']['x']"
   ]
  },
  {
   "cell_type": "code",
   "execution_count": 92,
   "metadata": {
    "collapsed": false
   },
   "outputs": [],
   "source": [
    "trimmed_indices = []\n",
    "tol = 0.5*u.angstrom\n",
    "for x in eis.channels[0]['model_wavelengths']:\n",
    "    indices = np.where(np.logical_and(eis.channels[0]['response']['x']>=x-tol,\n",
    "                                      eis.channels[0]['response']['x']<=x+tol))\n",
    "    trimmed_indices += indices[0].tolist()"
   ]
  },
  {
   "cell_type": "code",
   "execution_count": 93,
   "metadata": {
    "collapsed": false
   },
   "outputs": [],
   "source": [
    "trimmed_indices = list(sorted(set(trimmed_indices+[0,len(eis.channels[0]['response']['x'])-1])))"
   ]
  },
  {
   "cell_type": "code",
   "execution_count": 94,
   "metadata": {
    "collapsed": false
   },
   "outputs": [
    {
     "data": {
      "image/png": "[encoded data removed]",
      "text/plain": [
       "<matplotlib.figure.Figure at 0x7f6512cce550>"
      ]
     },
     "metadata": {},
     "output_type": "display_data"
    }
   ],
   "source": [
    "plt.plot(eis.channels[0]['response']['x'],eis.channels[0]['response']['y'],'b')\n",
    "plt.plot(eis.channels[0]['response']['x'][trimmed_indices],eis.channels[0]['response']['y'][trimmed_indices],'.r')\n",
    "for mw in eis.channels[0]['model_wavelengths']:\n",
    "    plt.axvline(x=mw.value,linestyle='--',color='k')"
   ]
  },
  {
   "cell_type": "code",
   "execution_count": 91,
   "metadata": {
    "collapsed": false
   },
   "outputs": [
    {
     "name": "stdout",
     "output_type": "stream",
     "text": [
      "[<Quantity 275.3612 Angstrom>]\n",
      "[<Quantity 184.537 Angstrom>]\n",
      "[<Quantity 188.216 Angstrom>]\n",
      "[<Quantity 192.394 Angstrom>, <Quantity 195.119 Angstrom>]\n",
      "[<Quantity 202.044 Angstrom>, <Quantity 203.826 Angstrom>]\n",
      "[<Quantity 284.163 Angstrom>]\n",
      "[<Quantity 256.6852 Angstrom>]\n",
      "[<Quantity 262.976 Angstrom>]\n",
      "[<Quantity 192.8532 Angstrom>]\n"
     ]
    }
   ],
   "source": [
    "for ion in emiss_model.ions:\n",
    "    print([w for w in ion['transitions']*ion['resolve_wavelength'] if w>0.])"
   ]
  }
 ],
 "metadata": {
  "kernelspec": {
   "display_name": "Python [conda env:synthesizar]",
   "language": "python",
   "name": "conda-env-synthesizar-py"
  },
  "language_info": {
   "codemirror_mode": {
    "name": "ipython",
    "version": 3
   },
   "file_extension": ".py",
   "mimetype": "text/x-python",
   "name": "python",
   "nbconvert_exporter": "python",
   "pygments_lexer": "ipython3",
   "version": "3.5.2"
  }
 },
 "nbformat": 4,
 "nbformat_minor": 2
}
