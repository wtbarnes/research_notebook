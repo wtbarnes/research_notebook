{
 "cells": [
  {
   "cell_type": "markdown",
   "metadata": {},
   "source": [
    "# AR Visualization Pipeline Example: v2\n",
    "An improved AR viz pipeline example. At this point, we've streamlined the process of creating the field skeleton and configuring the EBTEL simulations (or any hydro code we'd like to use) and then loading all of these results back into the field object. The next step is to figure out how to use all this information to calculate the emission in a sensible way. We'll explore that a bit here."
   ]
  },
  {
   "cell_type": "code",
   "execution_count": 1,
   "metadata": {
    "collapsed": false
   },
   "outputs": [
    {
     "name": "stderr",
     "output_type": "stream",
     "text": [
      "WARNING: AstropyDeprecationWarning: astropy.utils.compat.odict.OrderedDict is now deprecated - import OrderedDict from the collections module instead [astropy.utils.compat.odict]\n",
      "/opt/anaconda3/envs/synthesizar/lib/python3.5/site-packages/matplotlib/__init__.py:1350: UserWarning:  This call to matplotlib.use() has no effect\n",
      "because the backend has already been chosen;\n",
      "matplotlib.use() must be called *before* pylab, matplotlib.pyplot,\n",
      "or matplotlib.backends is imported for the first time.\n",
      "\n",
      "  warnings.warn(_use_error_msg)\n"
     ]
    }
   ],
   "source": [
    "import os\n",
    "import subprocess\n",
    "import itertools\n",
    "import pickle\n",
    "import types\n",
    "import copy\n",
    "import glob\n",
    "\n",
    "import numpy as np\n",
    "from scipy import interpolate\n",
    "import matplotlib.pyplot as plt\n",
    "from mpl_toolkits.axes_grid1 import AxesGrid\n",
    "import seaborn as sns\n",
    "import astropy.units as u\n",
    "from astropy.io import fits\n",
    "from sunpy.net import vso\n",
    "import sunpy.cm\n",
    "import yt\n",
    "import h5py\n",
    "from IPython.display import HTML\n",
    "from IPython.display import Image\n",
    "\n",
    "import synthesizAR\n",
    "from synthesizAR.model_ext import UniformHeating,PowerLawScaledWaitingTimes,PowerLawUnscaledWaitingTimes\n",
    "from synthesizAR.model_ext import EbtelInterface \n",
    "\n",
    "sns.set_context(context='notebook',font_scale=1.5)\n",
    "%matplotlib inline"
   ]
  },
  {
   "cell_type": "markdown",
   "metadata": {},
   "source": [
    "# Field Skeleton"
   ]
  },
  {
   "cell_type": "code",
   "execution_count": null,
   "metadata": {
    "collapsed": false
   },
   "outputs": [],
   "source": [
    "client = vso.VSOClient()\n",
    "result_hmi = client.query(\n",
    "     vso.attrs.Time((2013, 1, 1, 7, 34, 0), (2013, 1, 1, 9, 0, 0)),\n",
    "     vso.attrs.Instrument('HMI'),\n",
    "     vso.attrs.Physobs('LOS_magnetic_field'),   # Physical observables\n",
    "     vso.attrs.Sample(5000 * u.s)\n",
    ")\n",
    "data_hmi = client.get(result_hmi,methods=('URL-FILE_Rice','URL-FILE')).wait()"
   ]
  },
  {
   "cell_type": "code",
   "execution_count": null,
   "metadata": {
    "collapsed": false
   },
   "outputs": [],
   "source": [
    "crop = (u.Quantity([-140,90]*u.arcsec),u.Quantity([420,560]*u.arcsec))\n",
    "resample = u.Quantity([100,100]*u.pixel)\n",
    "field = synthesizAR.Skeleton(data_hmi[0],crop=crop,resample=resample)\n",
    "zshape=50\n",
    "zrange=u.Quantity([0.,150.]*u.arcsec)\n",
    "field.extrapolate_field(zshape,zrange)"
   ]
  },
  {
   "cell_type": "code",
   "execution_count": null,
   "metadata": {
    "collapsed": false,
    "scrolled": true
   },
   "outputs": [],
   "source": [
    "field.extract_streamlines(500)"
   ]
  },
  {
   "cell_type": "code",
   "execution_count": null,
   "metadata": {
    "collapsed": false
   },
   "outputs": [],
   "source": [
    "field.peek(alpha=0.35)"
   ]
  },
  {
   "cell_type": "markdown",
   "metadata": {},
   "source": [
    "# Loops/Hydro Simulations"
   ]
  },
  {
   "cell_type": "code",
   "execution_count": null,
   "metadata": {
    "collapsed": true
   },
   "outputs": [],
   "source": [
    "field.make_loops()"
   ]
  },
  {
   "cell_type": "code",
   "execution_count": null,
   "metadata": {
    "collapsed": true
   },
   "outputs": [],
   "source": [
    "heating_options = {\n",
    "    'duration':200.0,\n",
    "    'duration_rise':100.0,\n",
    "    'duration_decay':100.0,\n",
    "    'average_waiting_time':1250.0,\n",
    "    'stress_level':0.3,\n",
    "    'alpha':-2.5,\n",
    "    'delta_power_law_bounds':10,\n",
    "    'waiting_time_scaling':1.0,\n",
    "}\n",
    "uni_model = UniformHeating(heating_options)\n",
    "pl_model = PowerLawUnscaledWaitingTimes(heating_options)\n",
    "pl_scaled_model = PowerLawScaledWaitingTimes(heating_options)"
   ]
  },
  {
   "cell_type": "code",
   "execution_count": null,
   "metadata": {
    "collapsed": false,
    "scrolled": true
   },
   "outputs": [],
   "source": [
    "ih = synthesizAR.util.InputHandler(os.path.join(os.environ['RESEARCH_DIR'],'ebtelPlusPlus/config/ebtel.example.cfg.xml'))\n",
    "base_config = ih.lookup_vars()\n",
    "base_config['use_adaptive_solver'] = True\n",
    "base_config['tau'] = 1.0\n",
    "base_config['adaptive_solver_error'] = 1e-12\n",
    "base_config['adaptive_solver_safety'] = 0.01\n",
    "base_config['total_time'] = 5000.0\n",
    "ebtel_plug = EbtelInterface(base_config,pl_scaled_model)\n",
    "field.configure_loop_simulations(ebtel_plug,\n",
    "                                 parent_config_dir='/data/datadrive2/ar_viz/test/config/',\n",
    "                                 parent_results_dir='/data/datadrive2/ar_viz/test/results')"
   ]
  },
  {
   "cell_type": "code",
   "execution_count": null,
   "metadata": {
    "code_folding": [],
    "collapsed": true
   },
   "outputs": [],
   "source": [
    "for loop in field.loops:\n",
    "    subprocess.call([os.path.join(os.environ['RESEARCH_DIR'],'ebtelPlusPlus/bin/ebtel++.run'),\n",
    "                     '-c',loop.hydro_configuration['config_filename']])"
   ]
  },
  {
   "cell_type": "markdown",
   "metadata": {},
   "source": [
    "Now load the simulation results, either loading into memory or writing to an HDF5 file to conserve some memory."
   ]
  },
  {
   "cell_type": "code",
   "execution_count": null,
   "metadata": {
    "collapsed": false,
    "scrolled": true
   },
   "outputs": [],
   "source": [
    "field.load_loop_simulations(ebtel_plug,savefile='/data/datadrive2/ar_viz/test/loop_parameters.h5')"
   ]
  },
  {
   "cell_type": "markdown",
   "metadata": {},
   "source": [
    "Take a look at the loop simulations"
   ]
  },
  {
   "cell_type": "code",
   "execution_count": null,
   "metadata": {
    "collapsed": false
   },
   "outputs": [],
   "source": [
    "fig,ax = plt.subplots(2,1,figsize=(10,8),sharex=True)\n",
    "for l in field.loops:\n",
    "    ax[0].plot(l.time,l.temperature[:,0],color=sns.color_palette('deep')[0],alpha=0.08)\n",
    "    ax[1].plot(l.time,l.density[:,0],color=sns.color_palette('deep')[2],alpha=0.08)\n",
    "ax[0].set_ylabel(r'$T$ ({0})'.format(l.temperature.unit.to_string()))\n",
    "ax[1].set_ylabel(r'$n$ ({})'.format(l.density.unit))\n",
    "ax[1].set_xlabel(r'$t$ ({})'.format(l.time.unit))"
   ]
  },
  {
   "cell_type": "markdown",
   "metadata": {},
   "source": [
    "## Calculate Emissivity"
   ]
  },
  {
   "cell_type": "markdown",
   "metadata": {},
   "source": [
    "First, we construct an emissivity model that takes temperature and density and calculates emissivity. This can be passed to the field object and then is calculated for each loop. These are passed to the loop objects and saved in an HDF5 file (if savefile is set) to avoid storing all of this in memory."
   ]
  },
  {
   "cell_type": "markdown",
   "metadata": {},
   "source": [
    "Make a sample emissivity model object. This will be how we configure the emissivity calculation in the package."
   ]
  },
  {
   "cell_type": "code",
   "execution_count": null,
   "metadata": {
    "collapsed": true
   },
   "outputs": [],
   "source": [
    "class SimpleAIAEmissModel(object):\n",
    "    def __init__(self,tresponse_filename,channels=['94','131','171','193','211','335']):\n",
    "        self.channels = channels\n",
    "        self.temperature_response = {}\n",
    "        _tmp = np.loadtxt(tresponse_filename)\n",
    "        self.temperature = 10**_tmp[:,0]\n",
    "        for c in channels:\n",
    "            self.temperature_response[c] = _tmp[:,channels.index(c)+1]\n",
    "        self._configure_interpolators()\n",
    "            \n",
    "    def _configure_interpolators(self):\n",
    "        self.interpolators = {}\n",
    "        for c in self.channels:\n",
    "            self.interpolators[c] = interpolate.interp1d(self.temperature,self.temperature_response[c],kind='linear')\n",
    "            \n",
    "    def calculate_emissivity(self,temperature,density):\n",
    "        emissivity = {}\n",
    "        for c in self.channels:\n",
    "            emissivity[c] = np.reshape(np.ravel(density**2)*self.interpolators[c](np.ravel(temperature)),\n",
    "                                       np.shape(density)\n",
    "                                      )*(u.cm)**5/u.s/u.pixel*u.count\n",
    "        return emissivity\n"
   ]
  },
  {
   "cell_type": "markdown",
   "metadata": {},
   "source": [
    "Now, instantiate the model and then pass it to the field."
   ]
  },
  {
   "cell_type": "code",
   "execution_count": null,
   "metadata": {
    "collapsed": false
   },
   "outputs": [],
   "source": [
    "aia_emissivity = SimpleAIAEmissModel('aia_tresponse_raw.dat')"
   ]
  },
  {
   "cell_type": "code",
   "execution_count": null,
   "metadata": {
    "collapsed": false,
    "scrolled": true
   },
   "outputs": [],
   "source": [
    "field.calculate_emissivity(aia_emissivity,savefile='/data/datadrive2/ar_viz/test/loop_parameters.h5')"
   ]
  },
  {
   "cell_type": "markdown",
   "metadata": {},
   "source": [
    "Save the field here."
   ]
  },
  {
   "cell_type": "code",
   "execution_count": null,
   "metadata": {
    "collapsed": true
   },
   "outputs": [],
   "source": [
    "field.save_field(savedir='/data/datadrive2/ar_viz/test/')"
   ]
  },
  {
   "cell_type": "markdown",
   "metadata": {},
   "source": [
    "Reload field here."
   ]
  },
  {
   "cell_type": "code",
   "execution_count": null,
   "metadata": {
    "collapsed": false
   },
   "outputs": [],
   "source": [
    "field = synthesizAR.Skeleton.restore_field('/data/datadrive2/ar_viz/test/synthesizAR-field-save_20161026-171009/')"
   ]
  },
  {
   "cell_type": "markdown",
   "metadata": {},
   "source": [
    "## Constructing the Observation/Instrument Data Product"
   ]
  },
  {
   "cell_type": "markdown",
   "metadata": {},
   "source": [
    "We want to avoid loading a bunch of stuff into memory. Otherwise, we'll quickly run into scalability issues. The loops will be loaded into a 3D histogram and then flattened to a 2D image. This image is then saved as a SunPy map with the appropriate header information."
   ]
  },
  {
   "cell_type": "markdown",
   "metadata": {},
   "source": [
    "First, setup the SunPy header information."
   ]
  },
  {
   "cell_type": "code",
   "execution_count": null,
   "metadata": {
    "collapsed": true
   },
   "outputs": [],
   "source": [
    "synth_header = sunpy.map.header.MapMeta()\n",
    "replacements = ['crpix1','crpix2','crval1','crval2','cdelt1','cdelt2','cunit1','cunit2','crlt_obs','ctype1',\n",
    "                'ctype2','date-obs','dsun_obs','rsun_obs']\n",
    "for r in replacements:\n",
    "    synth_header[r] = field.clipped_hmi_map.meta[r]\n",
    "synth_header['naxis1'] = int(field.clipped_hmi_map.dimensions.x.value)\n",
    "synth_header['naxis2'] = int(field.clipped_hmi_map.dimensions.y.value)\n",
    "synth_header['datavals'] = int(field.clipped_hmi_map.dimensions.x.value*field.clipped_hmi_map.dimensions.y.value)\n",
    "synth_header['telescop'] = 'SDO/AIA'\n",
    "synth_header['detector'] = 'AIA'\n",
    "synth_header['waveunit'] = 'angstrom'\n",
    "synth_header['instrume'] = 'AIA_4'"
   ]
  },
  {
   "cell_type": "markdown",
   "metadata": {},
   "source": [
    "Interpolating at every time step is way too slow. Instead what we have to do is print to file an interpolated emissivity matrix (in $s$ and $t$) for each $\\lambda$ for each loop. Each loop will have its own HDF5 file. These can than be easily sliced at the appropriate time index during the binning phase. This way, the interpolation is done in the most efficient way possible and nothing is stored in memory."
   ]
  },
  {
   "cell_type": "markdown",
   "metadata": {},
   "source": [
    "Now combine all of the loop emissivity information at each timestep at the appropriate resolution."
   ]
  },
  {
   "cell_type": "code",
   "execution_count": null,
   "metadata": {
    "collapsed": false
   },
   "outputs": [],
   "source": [
    "file_template = os.path.join('/data/datadrive2/ar_viz/test/sunpy_fits',\n",
    "                             '{wave}_channel','sunpy_map_t{time:04d}.fits')\n",
    "#choose the first 10 seconds of the AR evolution\n",
    "max_time=4.99e+3#9.99e+3\n",
    "cadence=1.0\n",
    "global_time = np.arange(0.0,max_time,cadence)\n",
    "observing_time = global_time[::50]\n",
    "ds = field._convert_angle_to_length(0.3*u.arcsec)\n",
    "total_interpolated_s_points = sum([int(np.ceil(loop.full_length/ds)) for loop in field.loops])\n",
    "#create a new HDF5 file for storing each of these datasets.\n",
    "with h5py.File('/data/datadrive2/ar_viz/test/detector_counts.h5','w') as hf:\n",
    "    for c in aia_emissivity.channels:\n",
    "        hf.create_dataset(c,(len(observing_time),total_interpolated_s_points))"
   ]
  },
  {
   "cell_type": "code",
   "execution_count": null,
   "metadata": {
    "collapsed": false,
    "scrolled": true
   },
   "outputs": [],
   "source": [
    "#iterate over loops\n",
    "start_index=0\n",
    "total_coordinates = []\n",
    "for loop in field.loops:\n",
    "    ##\n",
    "    N_interp = int(np.ceil(loop.full_length/ds))\n",
    "    interpolated_s = np.linspace(loop.field_aligned_coordinate[0].value,\n",
    "                                 loop.field_aligned_coordinate[-1].value,N_interp)\n",
    "    nots,_ = interpolate.splprep(loop.coordinates.value.T)\n",
    "    _tmp = interpolate.splev(np.linspace(0,1,N_interp),nots)\n",
    "    _tmp_coords = [(x,y,z) for x,y,z in zip(_tmp[0],_tmp[1],_tmp[2])]\n",
    "    total_coordinates += _tmp_coords\n",
    "    ##\n",
    "    with h5py.File('/data/datadrive2/ar_viz/test/detector_counts.h5','a') as hf:\n",
    "        for c in aia_emissivity.channels:\n",
    "            f_s = interpolate.interp1d(loop.field_aligned_coordinate.value,loop.get_emissivity(c).value,axis=1)\n",
    "            #in real life, will need to combine several different wavelengths into a channel.\n",
    "            #this step may be a bit more computationally intensive in the end.\n",
    "            emiss = interpolate.interp1d(loop.time.value,\n",
    "                                         f_s(interpolated_s),axis=0)(observing_time)\n",
    "            dset = hf[c]\n",
    "            dset[:,start_index:(start_index+N_interp)] = emiss\n",
    "    start_index += N_interp\n",
    "            "
   ]
  },
  {
   "cell_type": "markdown",
   "metadata": {},
   "source": [
    "Set up the bin edges for the histograms."
   ]
  },
  {
   "cell_type": "code",
   "execution_count": null,
   "metadata": {
    "collapsed": false
   },
   "outputs": [],
   "source": [
    "min_z = min(field.extrapolated_3d_field.domain_left_edge[2].value,np.array(total_coordinates)[:,2].min())\n",
    "max_z = max(field.extrapolated_3d_field.domain_right_edge[2].value,np.array(total_coordinates)[:,2].max())\n",
    "z_edges = np.append(np.arange(min_z,max_z,field._convert_angle_to_length(0.6*u.arcsec).value),\n",
    "                    max_z)\n",
    "bins = [int(field.clipped_hmi_map.dimensions.x.value),\n",
    "        int(field.clipped_hmi_map.dimensions.y.value),\n",
    "        len(z_edges)-1]\n",
    "bin_ranges=[field._convert_angle_to_length(field.clipped_hmi_map.xrange).value,\n",
    "            field._convert_angle_to_length(field.clipped_hmi_map.yrange).value,\n",
    "            [z_edges[0],z_edges[-1]]]"
   ]
  },
  {
   "cell_type": "markdown",
   "metadata": {},
   "source": [
    "Bin all of the combined loop data at every timestep for every channel and project down to the $x-y$ plane, printing as a FITS file."
   ]
  },
  {
   "cell_type": "code",
   "execution_count": null,
   "metadata": {
    "collapsed": false
   },
   "outputs": [],
   "source": [
    "with h5py.File('/data/datadrive2/ar_viz/test/detector_counts.h5','r') as hf:\n",
    "    for c in aia_emissivity.channels:\n",
    "        dset = hf[c]\n",
    "        for i,time in enumerate(observing_time):\n",
    "            tmp = np.array(dset[i,:])\n",
    "            hist,_ = np.histogramdd(np.array(total_coordinates),\n",
    "                                    bins=bins,\n",
    "                                    range=bin_ranges,\n",
    "                                    weights=tmp)\n",
    "            synth_header['wavelnth'] = int(c)\n",
    "            synth_header['t_obs'] = time\n",
    "            synth_map = sunpy.map.Map(np.dot(hist,np.diff(z_edges)).T,synth_header)\n",
    "            synth_map = synth_map.resample(\n",
    "            u.Quantity([((field.clipped_hmi_map.xrange[1]-field.clipped_hmi_map.xrange[0])/(0.6*u.arcsec)).value,\n",
    "                ((field.clipped_hmi_map.yrange[1]-field.clipped_hmi_map.yrange[0])/(0.6*u.arcsec)).value])*u.pixel)\n",
    "            \n",
    "            synth_map.save(file_template.format(wave=c,time=i))"
   ]
  },
  {
   "cell_type": "markdown",
   "metadata": {},
   "source": [
    "### Passing the Data to SunPy\n",
    "Now, let's make some movies using SunPy maps."
   ]
  },
  {
   "cell_type": "code",
   "execution_count": null,
   "metadata": {
    "collapsed": false,
    "scrolled": true
   },
   "outputs": [],
   "source": [
    "height = 6\n",
    "width = 2.55*height\n",
    "fig,axes = plt.subplots(2,3,figsize=(width,height),sharex=True,sharey=True)\n",
    "for j in range(len(observing_time)):\n",
    "    fig.suptitle(r'$t=${0} ({1})'.format(observing_time[j],u.s),fontsize=16)\n",
    "    for c,ax in zip(aia_emissivity.channels,axes.flatten()):\n",
    "        _tmp_map = sunpy.map.Map(file_template.format(wave=c,time=j))\n",
    "        _tmp_map.plot(axes=ax,vmin=1.0,vmax=6e+3,annotate=False)\n",
    "        #plt.colorbar(ax=ax)\n",
    "        ax.set_title(r'{0} $\\mathrm{{\\mathring{{A}}}}$'.format(c))\n",
    "    for i in range(2):  axes[i,0].set_ylabel(r'$y$ ({})'.format(_tmp_map.yrange.unit))\n",
    "    for i in range(3):  axes[1,i].set_xlabel(r'$x$ ({})'.format(_tmp_map.xrange.unit))\n",
    "    plt.savefig('/data/datadrive2/ar_viz/test/sunpy_fits/all_channels/all_channels_{time:04d}.pdf'.format(time=j))\n",
    "fig.clf()"
   ]
  },
  {
   "cell_type": "markdown",
   "metadata": {},
   "source": [
    "Make a gif from these PDFs."
   ]
  },
  {
   "cell_type": "code",
   "execution_count": null,
   "metadata": {
    "collapsed": true
   },
   "outputs": [],
   "source": [
    "%%bash\n",
    "convert -delay 10 -loop 0 /data/datadrive2/ar_viz/test/sunpy_fits/all_channels/*.pdf aia_all_channels.gif"
   ]
  },
  {
   "cell_type": "code",
   "execution_count": null,
   "metadata": {
    "collapsed": false
   },
   "outputs": [],
   "source": [
    "HTML('<img src=\"aia_all_channels.gif\"/>')"
   ]
  },
  {
   "cell_type": "markdown",
   "metadata": {},
   "source": [
    "## Extra `yt` Stuff\n",
    "Some of this will get incorporated into the observe function."
   ]
  },
  {
   "cell_type": "markdown",
   "metadata": {},
   "source": [
    "Now to see if this all worked, try to create a yt dataset and visualize the density of all loops. Make a function to build and save a multipanel figure"
   ]
  },
  {
   "cell_type": "code",
   "execution_count": null,
   "metadata": {
    "code_folding": [
     0
    ],
    "collapsed": true
   },
   "outputs": [],
   "source": [
    "def build_plots(ds, proj='z', channels=['sdoaia94','sdoaia131','sdoaia171','sdoaia193','sdoaia211','sdoaia335'], \n",
    "                fn=None, zlim_min=1e-3, zlim_max=100):\n",
    "    #set up matplotlib canvas\n",
    "    fig = plt.figure()\n",
    "    grid = AxesGrid(fig, (0.075,0.075,0.85,0.85),\n",
    "                    nrows_ncols = (2, 3),\n",
    "                    axes_pad = 1.2,\n",
    "                    label_mode = \"1\",\n",
    "                    share_all = True,\n",
    "                    cbar_location=\"right\",\n",
    "                    cbar_mode=\"each\",\n",
    "                    cbar_size=\"3%\",\n",
    "                    cbar_pad=\"0%\")\n",
    "    #set up yt plotting stuff\n",
    "    pproj = yt.ProjectionPlot(ds,proj,channels)\n",
    "    pproj.set_zlim(channels,zlim_min,zlim_max)\n",
    "    pproj.set_figure_size(20)\n",
    "    #pproj.annotate_timestamp()\n",
    "    #configure colorbar and labels\n",
    "    for c in channels:\n",
    "        _tmp = sunpy.cm.get_cmap(c)\n",
    "        _tmp.set_bad(_tmp(0))\n",
    "        pproj.set_cmap(c,_tmp)\n",
    "        pproj.set_colorbar_label(c,'AIA {0} $\\mathring{{\\mathrm{{A}}}}$'.format(c[6:]))\n",
    "    #make the plot\n",
    "    for i,c in enumerate(channels):\n",
    "        plot = pproj.plots[c]\n",
    "        plot.figure = fig\n",
    "        plot.axes = grid[i].axes\n",
    "        plot.cax = grid.cbar_axes[i]\n",
    "    #draw and save\n",
    "    pproj._setup_plots()\n",
    "    if fn is not None:\n",
    "        plt.savefig(fn)"
   ]
  },
  {
   "cell_type": "markdown",
   "metadata": {},
   "source": [
    "Create a function for creating a `yt` dataset."
   ]
  },
  {
   "cell_type": "code",
   "execution_count": null,
   "metadata": {
    "code_folding": [
     0
    ],
    "collapsed": true
   },
   "outputs": [],
   "source": [
    "def build_dataset(ar,time_index):\n",
    "    #get current time\n",
    "    cur_time = ar.loops[0].time[time_index]\n",
    "    #flatten density,temperature arrays\n",
    "    density_flat = np.array([n for l in ar.loops for n in l.density.value[time_index,:]])\n",
    "    temperature_flat = np.array([T for l in ar.loops for T in l.temperature.value[time_index,:]])\n",
    "    #calculate emission\n",
    "    aia94_emiss = (density_flat**2)*f_aia94(temperature_flat)\n",
    "    aia131_emiss = (density_flat**2)*f_aia171(temperature_flat)\n",
    "    aia171_emiss = (density_flat**2)*f_aia131(temperature_flat)\n",
    "    aia193_emiss = (density_flat**2)*f_aia193(temperature_flat)\n",
    "    aia211_emiss = (density_flat**2)*f_aia211(temperature_flat)\n",
    "    aia335_emiss = (density_flat**2)*f_aia335(temperature_flat)\n",
    "    #load dataset\n",
    "    data = dict(\n",
    "        sdoaia94=(np.histogramdd(coords_flat,bins=bins,weights=aia94_emiss)[0],\"1/cm/s\"),\n",
    "        sdoaia131=(np.histogramdd(coords_flat,bins=bins,weights=aia131_emiss)[0],\"1/cm/s\"),\n",
    "        sdoaia171=(np.histogramdd(coords_flat,bins=bins,weights=aia171_emiss)[0],\"1/cm/s\"),\n",
    "        sdoaia193=(np.histogramdd(coords_flat,bins=bins,weights=aia193_emiss)[0],\"1/cm/s\"),\n",
    "        sdoaia211=(np.histogramdd(coords_flat,bins=bins,weights=aia211_emiss)[0],\"1/cm/s\"),\n",
    "        sdoaia335=(np.histogramdd(coords_flat,bins=bins,weights=aia335_emiss)[0],\"1/cm/s\"),\n",
    "    )\n",
    "    bbox = np.array([\n",
    "            np.array([bin_x_edges[0],bin_x_edges[-1]]),\n",
    "            np.array([bin_y_edges[0],bin_y_edges[-1]]),\n",
    "            np.array([bin_z_edges[0],bin_z_edges[-1]]),\n",
    "        ])\n",
    "    ds = yt.load_uniform_grid(data,data['sdoaia94'][0].shape,bbox=bbox,\n",
    "                              length_unit='cm',geometry=('cartesian',('x','y','z')))\n",
    "    ds.current_time = cur_time*yt.units.second\n",
    "    return ds"
   ]
  },
  {
   "cell_type": "code",
   "execution_count": null,
   "metadata": {
    "collapsed": false
   },
   "outputs": [],
   "source": [
    "ds0 = build_dataset(field,0)"
   ]
  },
  {
   "cell_type": "code",
   "execution_count": null,
   "metadata": {
    "collapsed": false,
    "scrolled": false
   },
   "outputs": [],
   "source": [
    "build_plots(build_dataset(field,200),zlim_max=1000,zlim_min=1e-3)"
   ]
  },
  {
   "cell_type": "markdown",
   "metadata": {},
   "source": [
    "Now, let's try saving  all of this data as 3d structures."
   ]
  },
  {
   "cell_type": "code",
   "execution_count": null,
   "metadata": {
    "collapsed": false,
    "scrolled": true
   },
   "outputs": [],
   "source": [
    "for i in range(len(field.loops[0].time.value[::10])):\n",
    "    print('Processing frame at time {}'.format(t))\n",
    "    ds = build_dataset(field,i)\n",
    "    build_plots(ds,fn='/data/datadrive2/ar_viz/test/frames/frame_{}.pdf'.format(i))\n",
    "    ds.close()\n",
    "    #cg = ds.covering_grid(level=0,left_edge=ds.domain_left_edge,dims=ds.domain_dimensions)\n",
    "    #cg.save_as_dataset(filename='/data/datadrive2/ar_viz/test/structures_3d/ar{}.h5'.format(i),\n",
    "    #                   fields=[fie[1] for fie in ds.field_list]\n",
    "    #                  )"
   ]
  },
  {
   "cell_type": "markdown",
   "metadata": {
    "collapsed": true
   },
   "source": [
    "## Query AIA Image"
   ]
  },
  {
   "cell_type": "code",
   "execution_count": null,
   "metadata": {
    "collapsed": true
   },
   "outputs": [],
   "source": [
    "client = vso.VSOClient()"
   ]
  },
  {
   "cell_type": "code",
   "execution_count": null,
   "metadata": {
    "collapsed": true
   },
   "outputs": [],
   "source": [
    "result_aia = client.query(\n",
    "    vso.attrs.Time((2013, 1, 1, 7, 34, 0), (2013, 1, 1, 9, 0, 0)), # Time range.\n",
    "    vso.attrs.Instrument('AIA'),\n",
    "    vso.attrs.Physobs('intensity'), \n",
    "    vso.attrs.Sample(5000 * u.s)    \n",
    ")\n",
    "data_aia = client.get(result_aia, methods=('URL-FILE_Rice', 'URL-FILE')).wait()"
   ]
  },
  {
   "cell_type": "code",
   "execution_count": null,
   "metadata": {
    "collapsed": false
   },
   "outputs": [],
   "source": [
    "aia_map = sunpy.map.Map(data_aia[1])"
   ]
  },
  {
   "cell_type": "code",
   "execution_count": null,
   "metadata": {
    "collapsed": false
   },
   "outputs": [],
   "source": [
    "aia_map.meta['cdelt1']"
   ]
  },
  {
   "cell_type": "code",
   "execution_count": null,
   "metadata": {
    "collapsed": false
   },
   "outputs": [],
   "source": [
    "aia_map.xrange"
   ]
  },
  {
   "cell_type": "code",
   "execution_count": null,
   "metadata": {
    "collapsed": false
   },
   "outputs": [],
   "source": [
    "aia_map.meta.has_key('btype')"
   ]
  },
  {
   "cell_type": "code",
   "execution_count": null,
   "metadata": {
    "collapsed": true
   },
   "outputs": [],
   "source": []
  }
 ],
 "metadata": {
  "anaconda-cloud": {},
  "kernelspec": {
   "display_name": "Python [conda env:synthesizar]",
   "language": "python",
   "name": "conda-env-synthesizar-py"
  },
  "language_info": {
   "codemirror_mode": {
    "name": "ipython",
    "version": 3
   },
   "file_extension": ".py",
   "mimetype": "text/x-python",
   "name": "python",
   "nbconvert_exporter": "python",
   "pygments_lexer": "ipython3",
   "version": "3.5.2"
  }
 },
 "nbformat": 4,
 "nbformat_minor": 1
}
