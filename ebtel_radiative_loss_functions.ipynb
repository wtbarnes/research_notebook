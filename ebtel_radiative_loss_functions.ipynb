{
 "cells": [
  {
   "cell_type": "markdown",
   "metadata": {},
   "source": [
    "#Radiative Loss Functions in EBTEL"
   ]
  },
  {
   "cell_type": "markdown",
   "metadata": {},
   "source": [
    "Cargill (2014) experiments with multiple radiative loss functions when computing EM curves for 0D hydrodynamic simulations. Here, we want to show three different radiative loss functions in order to determine how each might affect the temperature at the peak EM.\n",
    "\n",
    "Cargill (2014) shows EM curves with $\\log(T(\\mathrm{EM}_{peak}))\\sim6.6$ for all power-law indices $\\alpha$, regardless of $T_n$, the waiting time between successive events. However, our two-fluid EBTEL simulations show EM curves where $\\log(T(\\mathrm{EM}_{peak}))$ varies with $T_n$ and is significantly lower than those curves calculated by Cargill (2014). \n",
    "\n",
    "Our two-fluid EBTEL code uses the Raymond-Klimchuk loss function while Cargill (2014) uses a modified version of the Raymond-Klimchuk loss function.\n",
    "\n",
    "The radiative loss functions that we will consider are listed below:\n",
    "\n",
    "1. Raymond-Klimchuk (RK):\n",
    "\n",
    "$$\n",
    "\\Lambda(T)=\\begin{cases}\n",
    "1.09\\times10^{-31} & \\quad \\text{for } T\\le10^{4.97} \\\\\n",
    "8.87\\times10^{-17}T^{-1} & \\quad \\text{for } 10^{4.97} < T \\le 10^{5.67} \\\\\n",
    "1.90\\times10^{-22} & \\quad \\text{for } 10^{5.67} < T \\le 10^{6.18} \\\\\n",
    "3.53\\times10^{-13}T^{-3/2} & \\quad \\text{for } 10^{6.18} < T \\le 10^{6.55} \\\\\n",
    "3.46\\times10^{-25}T^{1/3} & \\quad \\text{for } 10^{6.55} < T \\le 10^{6.90} \\\\\n",
    "5.49\\times10^{-16}T^{-1} & \\quad \\text{for } 10^{6.90} < T \\le 10^{7.63} \\\\\n",
    "1.96\\times10^{-27}T^{1/2} & \\quad \\text{for } 10^{7.63} < T\n",
    "\\end{cases}\n",
    "$$\n",
    "\n",
    "2. Modified Raymond-Klimchuk (see Reale and Landi, 2012) (RL12):\n",
    "\n",
    "$$\n",
    "\\Lambda(T)=\\begin{cases}\n",
    "1.09\\times10^{-31} & \\quad \\text{for } T\\le10^{4.97} \\\\\n",
    "8.87\\times10^{-17}T^{-1} & \\quad \\text{for } 10^{4.97} < T \\le 10^{5.67} \\\\\n",
    "4\\times10^{-22} & \\quad \\text{for } 10^{5.67} < T \\le 10^{6.18} \\\\\n",
    "1.77\\times10^{-7}T^{-2.37} & \\quad \\text{for } 10^{6.18} < T \\le 10^{6.55} \\\\\n",
    "3.46\\times10^{-25}T^{1/3} & \\quad \\text{for } 10^{6.55} < T \\le 10^{6.90} \\\\\n",
    "5.49\\times10^{-16}T^{-1} & \\quad \\text{for } 10^{6.90} < T \\le 10^{7.63} \\\\\n",
    "1.96\\times10^{-27}T^{1/2} & \\quad \\text{for } 10^{7.63} < T\n",
    "\\end{cases}\n",
    "$$\n",
    "\n",
    "3. Rosner-Tucker-Vaiana (RTV):\n",
    "\n",
    "$$\n",
    "\\Lambda(T)=\\begin{cases}\n",
    "10^{-21.85} & \\quad \\text{for } 10^{4.3} < T \\le 10^{4.6} \\\\\n",
    "10^{-31}T^{2} & \\quad \\text{for } 10^{4.6} < T \\le 10^{4.9} \\\\\n",
    "10^{-21.2} & \\quad \\text{for } 10^{4.9} < T \\le 10^{5.4} \\\\\n",
    "10^{-10.4}T^{-2} & \\quad \\text{for } 10^{5.4} < T \\le 10^{5.75} \\\\\n",
    "10^{-21.94} & \\quad \\text{for } 10^{5.75} < T \\le 10^{6.3} \\\\\n",
    "10^{-17.73}T^{-2/3} & \\quad \\text{for } 10^{6.3} < T \\le 10^{7}\n",
    "\\end{cases}\n",
    "$$"
   ]
  },
  {
   "cell_type": "markdown",
   "metadata": {},
   "source": [
    "Now, let's create three separate functions for each of the radiative loss functions and compare each of them as a function of a temperature."
   ]
  },
  {
   "cell_type": "code",
   "execution_count": 67,
   "metadata": {
    "collapsed": false
   },
   "outputs": [
    {
     "data": {
      "text/plain": [
       "rk_rad_loss (generic function with 1 method)"
      ]
     },
     "execution_count": 67,
     "metadata": {},
     "output_type": "execute_result"
    }
   ],
   "source": [
    "function rk_rad_loss(T)\n",
    "    if T <= 10^4.97\n",
    "        rad = 1.09*10^-31\n",
    "    elseif T <= 10^5.67 && T > 10^4.97\n",
    "        rad=8.87*10^-17*T^-1\n",
    "    elseif T <= 10^6.18 && T > 10^5.67\n",
    "        rad=1.90*10^-22*T^-1\n",
    "    elseif T <= 10^6.55 && T > 10^6.18\n",
    "        rad=3.53*10^-13*T^-3/2\n",
    "    elseif T <= 10^6.90 && T > 10^6.55\n",
    "        rad=3.46*10^-25*T^1/3\n",
    "    elseif T <= 10^7.63 && T > 10^6.90\n",
    "        rad=5.49*10^-16*T^-1\n",
    "    else\n",
    "        rad=1.96*10^-27*T^1/2\n",
    "    end\n",
    "    return rad\n",
    "end"
   ]
  },
  {
   "cell_type": "code",
   "execution_count": 83,
   "metadata": {
    "collapsed": false
   },
   "outputs": [
    {
     "data": {
      "text/plain": [
       "rl_12_rad_loss (generic function with 1 method)"
      ]
     },
     "execution_count": 83,
     "metadata": {},
     "output_type": "execute_result"
    }
   ],
   "source": [
    "function rl_12_rad_loss(T)\n",
    "    if T <= 10^4.97\n",
    "        rad = 1.09*10^-31\n",
    "    elseif T <= 10^5.67 && T > 10^4.97\n",
    "        rad=8.87*10^-17*T^-1\n",
    "    elseif T <= 10^6.18 && T > 10^5.67\n",
    "        rad=4*10^-22*T^-1\n",
    "    elseif T <= 10^6.55 && T > 10^6.18\n",
    "        rad=1.77*10^-7*T^-2.37\n",
    "    elseif T <= 10^6.90 && T > 10^6.55\n",
    "        rad=3.46*10^-25*T^1/3\n",
    "    elseif T <= 10^7.63 && T > 10^6.90\n",
    "        rad=5.49*10^-16*T^-1\n",
    "    else\n",
    "        rad=1.96*10^-27*T^1/2\n",
    "    end\n",
    "    return rad\n",
    "end"
   ]
  },
  {
   "cell_type": "code",
   "execution_count": 84,
   "metadata": {
    "collapsed": false
   },
   "outputs": [
    {
     "data": {
      "text/plain": [
       "rtv_rad_loss (generic function with 1 method)"
      ]
     },
     "execution_count": 84,
     "metadata": {},
     "output_type": "execute_result"
    }
   ],
   "source": [
    "function rtv_rad_loss(T)\n",
    "    if T <= 10^4.6 && T>10^4.3\n",
    "        rad = 3.0*10^-21.85\n",
    "    elseif T <= 10^4.9 && T > 10^4.6\n",
    "        rad=10^-31*T^2\n",
    "    elseif T <= 10^5.4 && T > 10^4.9\n",
    "        rad=10^-21.2\n",
    "    elseif T <= 10^5.75 && T > 10^5.4\n",
    "        rad=10^-10.4*T^-2\n",
    "    elseif T <= 10^6.3 && T > 10^5.75\n",
    "        rad=10^-21.94\n",
    "    elseif T <= 10^7 && T > 10^6.3\n",
    "        rad=10^-17.73*T^-2/3\n",
    "    else\n",
    "        rad=0.0\n",
    "    end\n",
    "    return rad\n",
    "end"
   ]
  },
  {
   "cell_type": "markdown",
   "metadata": {},
   "source": [
    "Now, make an array of temperatures and build arrays for each of radiative losses using each of the functions."
   ]
  },
  {
   "cell_type": "code",
   "execution_count": 85,
   "metadata": {
    "collapsed": false
   },
   "outputs": [
    {
     "data": {
      "text/plain": [
       "10000-element Array{Float64,1}:\n",
       "  10000.0    \n",
       "  20000.0    \n",
       "  30000.0    \n",
       "  40000.0    \n",
       "  50000.0    \n",
       "  60000.0    \n",
       "  70000.0    \n",
       "  80000.0    \n",
       "  90000.0    \n",
       " 100000.0    \n",
       " 110000.0    \n",
       " 120000.0    \n",
       " 130000.0    \n",
       "      ⋮      \n",
       "      9.989e7\n",
       "      9.99e7 \n",
       "      9.991e7\n",
       "      9.992e7\n",
       "      9.993e7\n",
       "      9.994e7\n",
       "      9.995e7\n",
       "      9.996e7\n",
       "      9.997e7\n",
       "      9.998e7\n",
       "      9.999e7\n",
       "      1.0e8  "
      ]
     },
     "execution_count": 85,
     "metadata": {},
     "output_type": "execute_result"
    }
   ],
   "source": [
    "temp = [10.0^4:10^4:10.0^8]"
   ]
  },
  {
   "cell_type": "code",
   "execution_count": 81,
   "metadata": {
    "collapsed": false,
    "scrolled": true
   },
   "outputs": [
    {
     "ename": "LoadError",
     "evalue": "DomainError\nwhile loading In[81], in expression starting on line 4",
     "output_type": "error",
     "traceback": [
      "DomainError\nwhile loading In[81], in expression starting on line 4",
      ""
     ]
    }
   ],
   "source": [
    "rad_rk = []\n",
    "rad_rl12 = []\n",
    "rad_rtv = []\n",
    "for t in temp\n",
    "    push!(rad_rk,rk_rad_loss(t))\n",
    "    push!(rad_rl12,rl_12_rad_loss(t))\n",
    "    push!(rad_rtv,rtv_rad_loss(t))\n",
    "end"
   ]
  },
  {
   "cell_type": "code",
   "execution_count": 87,
   "metadata": {
    "collapsed": false
   },
   "outputs": [
    {
     "ename": "LoadError",
     "evalue": "DomainError\nwhile loading In[87], in expression starting on line 1",
     "output_type": "error",
     "traceback": [
      "DomainError\nwhile loading In[87], in expression starting on line 1",
      ""
     ]
    }
   ],
   "source": [
    "rl_12_rad_loss(10^(6))"
   ]
  },
  {
   "cell_type": "code",
   "execution_count": null,
   "metadata": {
    "collapsed": true
   },
   "outputs": [],
   "source": []
  }
 ],
 "metadata": {
  "kernelspec": {
   "display_name": "Julia 0.3.8",
   "language": "julia",
   "name": "julia-0.3"
  },
  "language_info": {
   "name": "julia",
   "version": "0.3.8"
  }
 },
 "nbformat": 4,
 "nbformat_minor": 0
}
