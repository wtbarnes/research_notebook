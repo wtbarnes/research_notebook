{
 "cells": [
  {
   "cell_type": "markdown",
   "metadata": {},
   "source": [
    "# Potential Field Extrapolator Prototype\n",
    "Prototype for a basic potential field extrapolator"
   ]
  },
  {
   "cell_type": "code",
   "execution_count": 1,
   "metadata": {},
   "outputs": [
    {
     "name": "stderr",
     "output_type": "stream",
     "text": [
      "/Users/willbarnes/anaconda/envs/synthesizar/lib/python3.5/site-packages/matplotlib/__init__.py:1405: UserWarning: \n",
      "This call to matplotlib.use() has no effect because the backend has already\n",
      "been chosen; matplotlib.use() must be called *before* pylab, matplotlib.pyplot,\n",
      "or matplotlib.backends is imported for the first time.\n",
      "\n",
      "  warnings.warn(_use_error_msg)\n"
     ]
    }
   ],
   "source": [
    "import os\n",
    "\n",
    "import numpy as np\n",
    "import numba\n",
    "import matplotlib.pyplot as plt\n",
    "import sunpy.map\n",
    "import astropy.units as u\n",
    "import solarbextrapolation.example_data_generator\n",
    "import solarbextrapolation.extrapolators\n",
    "\n",
    "%matplotlib inline"
   ]
  },
  {
   "cell_type": "markdown",
   "metadata": {},
   "source": [
    "## Synthetic Magnetogram\n",
    "First, create the fake magnetogram"
   ]
  },
  {
   "cell_type": "code",
   "execution_count": 2,
   "metadata": {},
   "outputs": [],
   "source": [
    "arr_grid_shape = [ 300, 300]\n",
    "xrange = u.Quantity([ -150.0, 150.0 ] * u.arcsec)\n",
    "yrange = u.Quantity([ -150.0, 150.0 ] * u.arcsec)"
   ]
  },
  {
   "cell_type": "code",
   "execution_count": 3,
   "metadata": {},
   "outputs": [],
   "source": [
    "num_spots = 1\n",
    "fraction = 1./num_spots\n",
    "strength = 5e3\n",
    "spread = 5\n",
    "spots = []\n",
    "for i in range(num_spots):\n",
    "    rand_y_pos = 35 #+ 30*np.random.rand()\n",
    "    rand_x_pos = 35 #+ 30*np.random.rand()\n",
    "    spots.append(( u.Quantity([ rand_x_pos, rand_y_pos ] * u.percent), \n",
    "                   spread * u.percent,  fraction*strength * u.Gauss ))\n",
    "    rand_y_neg = 65 #- 30*np.random.rand()\n",
    "    rand_x_neg = 65 #- 30*np.random.rand()\n",
    "    spots.append(( u.Quantity([ rand_x_neg, rand_y_neg ] * u.percent),\n",
    "                   spread * u.percent,  -fraction*strength * u.Gauss ))"
   ]
  },
  {
   "cell_type": "code",
   "execution_count": 4,
   "metadata": {},
   "outputs": [],
   "source": [
    "delta_x = xrange[1] - xrange[0]\n",
    "delta_y = yrange[1] - yrange[0]\n",
    "dx = delta_x/arr_grid_shape[0]\n",
    "dy = delta_y/arr_grid_shape[1]\n",
    "synthetic_hmi_data = np.zeros(arr_grid_shape)\n",
    "xphysical,yphysical = np.meshgrid(np.arange(arr_grid_shape[0])*dx,np.arange(arr_grid_shape[1])*dy)\n",
    "for spot in spots:\n",
    "    if spot[0].unit is u.percent:\n",
    "        pos = u.Quantity([spot[0][0].value/100.*delta_x + xrange[0],\n",
    "                          spot[0][1].value/100.*delta_y + yrange[0]])\n",
    "    else:\n",
    "        pos = spot[0]\n",
    "    if spot[1].unit is u.percent:\n",
    "        sigma = spot[1].value/100.*delta_x\n",
    "    else:\n",
    "        sigma = spot[1]\n",
    "    An_max   = spot[2].value\n",
    "    An_x     = pos[0]\n",
    "    An_y     = pos[1]\n",
    "    An_Dx    = xphysical - An_x + xrange[0]\n",
    "    An_Dy    = yphysical - An_y + yrange[0]\n",
    "    An_DxSqu = An_Dx.value**2.0\n",
    "    An_DySqu = An_Dy.value**2.0\n",
    "    An_Sigma = sigma.value\n",
    "\n",
    "    # So this contibution is calculated and added.\n",
    "    synthetic_hmi_data += An_max * np.exp( - ( (An_DxSqu + An_DySqu) / (2 * An_Sigma**2.0)) )"
   ]
  },
  {
   "cell_type": "code",
   "execution_count": 5,
   "metadata": {},
   "outputs": [],
   "source": [
    "synthetic_hmi_map = solarbextrapolation.example_data_generator.dummyDataToMap(synthetic_hmi_data,xrange,yrange)\n",
    "tmp = sunpy.map.Map('/Users/willbarnes/sunpy/data/hmi_m_45s_2017_08_20_18_16_30_tai_magnetogram.fits')\n",
    "for key in ['ctype1','ctype2','rsun_ref','rsun_obs','dsun_ref','dsun_obs','wcsname','crlt_obs','t_obs','date-obs']:\n",
    "    synthetic_hmi_map.meta[key] = tmp.meta[key]"
   ]
  },
  {
   "cell_type": "code",
   "execution_count": 6,
   "metadata": {},
   "outputs": [
    {
     "name": "stderr",
     "output_type": "stream",
     "text": [
      "/Users/willbarnes/anaconda/envs/synthesizar/lib/python3.5/site-packages/matplotlib/figure.py:403: UserWarning: matplotlib is currently using a non-GUI backend, so cannot show the figure\n",
      "  \"matplotlib is currently using a non-GUI backend, \"\n"
     ]
    },
    {
     "data": {
      "image/png": "[encoded data removed]",
      "text/plain": [
       "<matplotlib.figure.Figure at 0x11ac76400>"
      ]
     },
     "metadata": {},
     "output_type": "display_data"
    }
   ],
   "source": [
    "synthetic_hmi_map.peek()"
   ]
  },
  {
   "cell_type": "markdown",
   "metadata": {},
   "source": [
    "## Extrapolate Field--Existing Library"
   ]
  },
  {
   "cell_type": "code",
   "execution_count": 7,
   "metadata": {},
   "outputs": [],
   "source": [
    "def angle_to_length(m, arc, **kwargs):\n",
    "    length = (m.dsun - m.rsun_meters) * arc.to(u.radian)\n",
    "    return length.to(u.m, equivalencies=u.dimensionless_angles())"
   ]
  },
  {
   "cell_type": "code",
   "execution_count": 8,
   "metadata": {},
   "outputs": [],
   "source": [
    "zrange = u.Quantity([0,100],u.arcsec)\n",
    "zshape = 100"
   ]
  },
  {
   "cell_type": "code",
   "execution_count": 17,
   "metadata": {},
   "outputs": [
    {
     "data": {
      "text/latex": [
       "$[0,~73021545] \\; \\mathrm{m}$"
      ],
      "text/plain": [
       "<Quantity [        0.        , 73021545.21541907] m>"
      ]
     },
     "execution_count": 17,
     "metadata": {},
     "output_type": "execute_result"
    }
   ],
   "source": [
    "angle_to_length(resampled_map,zrange)"
   ]
  },
  {
   "cell_type": "code",
   "execution_count": 9,
   "metadata": {},
   "outputs": [],
   "source": [
    "resampled_map = synthetic_hmi_map.resample(u.Quantity([100,100],u.pixel))"
   ]
  },
  {
   "cell_type": "code",
   "execution_count": 21,
   "metadata": {},
   "outputs": [
    {
     "name": "stderr",
     "output_type": "stream",
     "text": [
      "/Users/willbarnes/anaconda/envs/synthesizar/lib/python3.5/site-packages/solarbextrapolation-0.1.dev150-py3.5.egg/solarbextrapolation/extrapolators/base.py:82: SunpyDeprecationWarning: This property is only valid for non-rotated WCS\n",
      "  self.xrange = self.map_boundary_data.xrange.to(map_magnetogram.meta['cunit1'])\n",
      "/Users/willbarnes/anaconda/envs/synthesizar/lib/python3.5/site-packages/solarbextrapolation-0.1.dev150-py3.5.egg/solarbextrapolation/extrapolators/base.py:83: SunpyDeprecationWarning: This property is only valid for non-rotated WCS\n",
      "  self.yrange = self.map_boundary_data.yrange.to(map_magnetogram.meta['cunit2'])\n",
      "/Users/willbarnes/anaconda/envs/synthesizar/lib/python3.5/site-packages/solarbextrapolation-0.1.dev150-py3.5.egg/solarbextrapolation/extrapolators/base.py:84: SunpyDeprecationWarning: This property is only valid for non-rotated WCS\n",
      "  self.xobsrange = self.map_boundary_data.xrange.to(map_magnetogram.meta['cunit1'])\n",
      "/Users/willbarnes/anaconda/envs/synthesizar/lib/python3.5/site-packages/solarbextrapolation-0.1.dev150-py3.5.egg/solarbextrapolation/extrapolators/base.py:85: SunpyDeprecationWarning: This property is only valid for non-rotated WCS\n",
      "  self.yobsrange = self.map_boundary_data.yrange.to(map_magnetogram.meta['cunit2'])\n"
     ]
    }
   ],
   "source": [
    "extrapolator = solarbextrapolation.extrapolators.PotentialExtrapolator(resampled_map,\n",
    "                                                                       zshape=zshape,\n",
    "                                                                       zrange=zrange)"
   ]
  },
  {
   "cell_type": "code",
   "execution_count": 22,
   "metadata": {},
   "outputs": [
    {
     "name": "stdout",
     "output_type": "stream",
     "text": [
      "True\n"
     ]
    }
   ],
   "source": [
    "map3d = extrapolator.extrapolate(enable_numba=True)"
   ]
  },
  {
   "cell_type": "code",
   "execution_count": 23,
   "metadata": {},
   "outputs": [
    {
     "data": {
      "text/plain": [
       "<matplotlib.colorbar.Colorbar at 0x11b522f28>"
      ]
     },
     "execution_count": 23,
     "metadata": {},
     "output_type": "execute_result"
    },
    {
     "data": {
      "image/png": "[encoded data removed]",
      "text/plain": [
       "<matplotlib.figure.Figure at 0x11b402470>"
      ]
     },
     "metadata": {},
     "output_type": "display_data"
    }
   ],
   "source": [
    "plt.imshow(np.flipud(map3d.data[:,:,:,1].sum(axis=2)))\n",
    "plt.colorbar()"
   ]
  },
  {
   "cell_type": "code",
   "execution_count": null,
   "metadata": {},
   "outputs": [],
   "source": [
    "for k in map3d.meta.keys():\n",
    "    if k != 'boundary_1_meta':\n",
    "        print('{} : {}'.format(k,map3d.meta[k]))"
   ]
  },
  {
   "cell_type": "markdown",
   "metadata": {},
   "source": [
    "### Inspection"
   ]
  },
  {
   "cell_type": "code",
   "execution_count": null,
   "metadata": {},
   "outputs": [],
   "source": [
    "extrapolator.Dx.to(resampled_map.meta['cunit1'])"
   ]
  },
  {
   "cell_type": "code",
   "execution_count": null,
   "metadata": {},
   "outputs": [],
   "source": [
    "extrapolator.xrange.to(resampled_map.meta['cunit1'])"
   ]
  },
  {
   "cell_type": "code",
   "execution_count": null,
   "metadata": {},
   "outputs": [],
   "source": [
    "extrapolator.yrange"
   ]
  },
  {
   "cell_type": "code",
   "execution_count": null,
   "metadata": {},
   "outputs": [],
   "source": [
    "extrapolator.zrange"
   ]
  },
  {
   "cell_type": "code",
   "execution_count": null,
   "metadata": {},
   "outputs": [],
   "source": [
    "extrapolator.map_boundary_data.meta"
   ]
  },
  {
   "cell_type": "code",
   "execution_count": null,
   "metadata": {},
   "outputs": [],
   "source": [
    "map3d.meta"
   ]
  },
  {
   "cell_type": "markdown",
   "metadata": {},
   "source": [
    "## Extrapolate Field--Custom Implementation"
   ]
  },
  {
   "cell_type": "code",
   "execution_count": null,
   "metadata": {},
   "outputs": [],
   "source": [
    "@numba.jit(nopython=True)\n",
    "def greens_function(x,y,z,x_point,y_point,z_point):\n",
    "    d_x = x - x_point\n",
    "    d_y = y - y_point\n",
    "    d_z = z - z_point\n",
    "    dist = np.sqrt(d_x**2 + d_y**2 + d_z**2)\n",
    "    return 1./(2.*np.pi*dist)\n",
    "\n",
    "\n",
    "@numba.jit(nopython=True)\n",
    "def phi_potential(boundary, shape, x_grid, y_grid, dx, dy, dz):\n",
    "    z_under = dz/np.sqrt(2.*np.pi)\n",
    "    extrapolated_volume = np.empty((shape[1],shape[0],shape[2]))\n",
    "    \n",
    "    for i in range(shape[0]):\n",
    "        for j in range(shape[1]):\n",
    "            for k in range(shape[2]):\n",
    "                x = i*dx\n",
    "                y = j*dy\n",
    "                z = k*dz\n",
    "                green = greens_function(x,y,z,x_grid,y_grid,z_under)\n",
    "                extrapolated_volume[j,i,k] = np.sum(boundary*green*dx*dy)\n",
    "                \n",
    "    return extrapolated_volume\n",
    "\n",
    "\n",
    "def vector_field(phi):\n",
    "    b_field = np.zeros(phi.shape+(3,))\n",
    "    b_field[2:-2,2:-2,2:-2,0] = -(phi[:-4,2:-2,2:-2] \n",
    "                                  - 8.*phi[1:-3,2:-2,2:-2] \n",
    "                                  + 8.*phi[3:-1,2:-2,2:-2]\n",
    "                                  - phi[4:,2:-2,2:-2])/12.\n",
    "    b_field[2:-2,2:-2,2:-2,1] = -(phi[2:-2,2:-2,:-4] \n",
    "                                  - 8.*phi[2:-2,1:-3,2:-2] \n",
    "                                  + 8.*phi[2:-2,3:-1,2:-2]\n",
    "                                  - phi[2:-2,2:-2,4:])/12.\n",
    "    b_field[2:-2,2:-2,2:-2,2] = -(phi[2:-2,2:-2,:-4] \n",
    "                                  - 8.*phi[2:-2,2:-2,1:-3] \n",
    "                                  + 8.*phi[2:-2,2:-2,3:-1]\n",
    "                                  - phi[2:-2,2:-2,4:])/12.\n",
    "    \n",
    "    \n",
    "    return b_field\n",
    "\n",
    "def extrapolate(magnetogram, zshape, zrange):\n",
    "    shape = (magnetogram.data.shape[1],magnetogram.data.shape[0],zshape)\n",
    "    dx = angle_to_length(magnetogram,magnetogram.xrange[1]) - angle_to_length(magnetogram,magnetogram.xrange[0])\n",
    "    dx /= magnetogram.data.shape[1]\n",
    "    dy = angle_to_length(magnetogram,magnetogram.yrange[1]) - angle_to_length(magnetogram,magnetogram.yrange[0])\n",
    "    dy /= magnetogram.data.shape[0] \n",
    "    dz = np.diff(zrange)[0]/zshape\n",
    "    \n",
    "    y_index,x_index = np.indices(shape[:2])\n",
    "    x_grid = dx*x_index\n",
    "    y_grid = dy*y_index\n",
    "    phi = phi_potential(magnetogram.data, shape, x_grid, y_grid, dx.value, dy.value, dz.value)\n",
    "    \n",
    "    b_field = vector_field(phi)\n",
    "    \n",
    "    return b_field"
   ]
  },
  {
   "cell_type": "code",
   "execution_count": null,
   "metadata": {},
   "outputs": [],
   "source": [
    "b_field = extrapolate(resampled_map, zshape, zrange)"
   ]
  },
  {
   "cell_type": "code",
   "execution_count": null,
   "metadata": {},
   "outputs": [],
   "source": [
    "plt.imshow(b_field[:,:,:,2].sum(axis=2))\n",
    "plt.colorbar()"
   ]
  },
  {
   "cell_type": "code",
   "execution_count": null,
   "metadata": {},
   "outputs": [],
   "source": []
  }
 ],
 "metadata": {
  "kernelspec": {
   "display_name": "Python [conda env:synthesizar]",
   "language": "python",
   "name": "conda-env-synthesizar-py"
  },
  "language_info": {
   "codemirror_mode": {
    "name": "ipython",
    "version": 3
   },
   "file_extension": ".py",
   "mimetype": "text/x-python",
   "name": "python",
   "nbconvert_exporter": "python",
   "pygments_lexer": "ipython3",
   "version": "3.5.4"
  }
 },
 "nbformat": 4,
 "nbformat_minor": 2
}
