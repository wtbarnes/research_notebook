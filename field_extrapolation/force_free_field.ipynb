{
 "cells": [
  {
   "cell_type": "code",
   "execution_count": null,
   "metadata": {},
   "outputs": [],
   "source": [
    "import numpy as np\n",
    "import astropy.units as u\n",
    "from astropy.coordinates import SkyCoord\n",
    "import matplotlib.pyplot as plt\n",
    "import seaborn as sns\n",
    "from mpl_toolkits.axes_grid1 import AxesGrid\n",
    "import yt\n",
    "import sunpy.map\n",
    "import synthesizAR\n",
    "\n",
    "%matplotlib inline"
   ]
  },
  {
   "cell_type": "markdown",
   "metadata": {},
   "source": [
    "## Potential Field"
   ]
  },
  {
   "cell_type": "code",
   "execution_count": null,
   "metadata": {},
   "outputs": [],
   "source": [
    "ar_field = synthesizAR.Skeleton.restore('/storage-home/w/wtb2/data/base_noaa1158/')"
   ]
  },
  {
   "cell_type": "code",
   "execution_count": null,
   "metadata": {
    "scrolled": false
   },
   "outputs": [],
   "source": [
    "center=(ar_field.extrapolated_3d_field.domain_center\n",
    "        +np.array([0,0,0])*ar_field.extrapolated_3d_field.domain_width)\n",
    "p = yt.SlicePlot(ar_field.extrapolated_3d_field,'z','Bz',\n",
    "                 origin='center-domain',\n",
    "                 axes_unit='cm',\n",
    "                 center=center,\n",
    "                 #width=((1*ar_field.extrapolated_3d_field.domain_width.value[1],'cm'),\n",
    "                 #       (ar_field.extrapolated_3d_field.domain_width.value[2],'cm'))\n",
    "                )\n",
    "p.annotate_streamlines('Bx','By',density=2,plot_args={'color':'w'})\n",
    "#p.set_zlim('Bz',-3e-2,3e-2)\n",
    "#p.set_log('Bz',True,linthresh=1e-3)\n",
    "p.show()"
   ]
  },
  {
   "cell_type": "code",
   "execution_count": null,
   "metadata": {},
   "outputs": [],
   "source": [
    "ar_field.extract_streamlines(500)"
   ]
  },
  {
   "cell_type": "code",
   "execution_count": null,
   "metadata": {},
   "outputs": [],
   "source": [
    "ar_field.peek(alpha=0.25)"
   ]
  },
  {
   "cell_type": "code",
   "execution_count": null,
   "metadata": {},
   "outputs": [],
   "source": [
    "ar_field.make_loops()"
   ]
  },
  {
   "cell_type": "markdown",
   "metadata": {},
   "source": [
    "## Force Free Field (from friction code)"
   ]
  },
  {
   "cell_type": "code",
   "execution_count": null,
   "metadata": {},
   "outputs": [],
   "source": [
    "bx = np.loadtxt('/home/w/wtb2/bsol_force_free_tmp/bsol/bsolution.bx',comments='//').reshape((95,95,95))\n",
    "by = np.loadtxt('/home/w/wtb2/bsol_force_free_tmp/bsol/bsolution.by',comments='//').reshape((95,95,95))\n",
    "bz = np.loadtxt('/home/w/wtb2/bsol_force_free_tmp/bsol/bsolution.bz',comments='//').reshape((95,95,95))"
   ]
  },
  {
   "cell_type": "code",
   "execution_count": null,
   "metadata": {},
   "outputs": [],
   "source": [
    "#######\n",
    "## bx\n",
    "test_bx = np.zeros((100,99,100))\n",
    "with open('/Users/willbarnes/Downloads/hmi_noaa1158.potential_field.bx','r') as f:\n",
    "    lines = f.readlines()\n",
    "z_counter = 0\n",
    "x_counter = 0\n",
    "for i,l in enumerate(lines):\n",
    "    if i == 0:\n",
    "        continue\n",
    "    if '/' in l:\n",
    "        x_counter = 0\n",
    "        z_counter += 1\n",
    "        continue\n",
    "    test_bx[x_counter,:,z_counter] = np.array(l.split(),dtype=np.float64)\n",
    "    x_counter += 1\n",
    "\n",
    "########\n",
    "## by\n",
    "test_by = np.zeros((100,99,100))\n",
    "with open('/Users/willbarnes/Downloads/hmi_noaa1158.potential_field.by','r') as f:\n",
    "    lines = f.readlines()\n",
    "z_counter = 0\n",
    "x_counter = 0\n",
    "for i,l in enumerate(lines):\n",
    "    if i == 0:\n",
    "        continue\n",
    "    if '/' in l:\n",
    "        x_counter = 0\n",
    "        z_counter += 1\n",
    "        continue\n",
    "    test_by[x_counter,:,z_counter] = np.array(l.split(),dtype=np.float64)\n",
    "    x_counter += 1\n",
    "\n",
    "########\n",
    "## bx\n",
    "test_bz = np.zeros((100,99,100))\n",
    "with open('/Users/willbarnes/Downloads/hmi_noaa1158.potential_field.bz','r') as f:\n",
    "    lines = f.readlines()\n",
    "z_counter = 0\n",
    "x_counter = 0\n",
    "for i,l in enumerate(lines):\n",
    "    if i == 0:\n",
    "        continue\n",
    "    if '/' in l:\n",
    "        x_counter = 0\n",
    "        z_counter += 1\n",
    "        continue\n",
    "    test_bz[x_counter,:,z_counter] = np.array(l.split(),dtype=np.float64)\n",
    "    x_counter += 1\n"
   ]
  },
  {
   "cell_type": "code",
   "execution_count": null,
   "metadata": {},
   "outputs": [],
   "source": [
    "ff_field = synthesizAR.Skeleton()\n",
    "ff_field._zrange = ar_field._zrange\n",
    "ff_field.hmi_map = ar_field.hmi_map\n",
    "fake_3d_field = np.zeros(ar_field._map_3d.shape)\n",
    "fake_3d_field[2:-3,2:-2,2:-3,1] = np.transpose(bx,axes=[1,2,0])\n",
    "fake_3d_field[2:-3,2:-2,2:-3,0] = np.transpose(by,axes=[1,2,0])\n",
    "fake_3d_field[2:-3,2:-2,2:-3,2] = np.transpose(bz,axes=[1,2,0])\n",
    "ff_field._map_3d = fake_3d_field\n",
    "ff_field.extrapolated_3d_field = ff_field._transform_to_yt(ff_field._map_3d,ff_field._zrange)"
   ]
  },
  {
   "cell_type": "code",
   "execution_count": null,
   "metadata": {},
   "outputs": [],
   "source": [
    "center=(ff_field.extrapolated_3d_field.domain_center\n",
    "        +np.array([0,-0.1,0])*ff_field.extrapolated_3d_field.domain_width)\n",
    "p = yt.SlicePlot(ff_field.extrapolated_3d_field,'y','Bz',\n",
    "                 origin='lower-right-domain',\n",
    "                 axes_unit='cm',\n",
    "                 center=center,\n",
    "                 width=((1*ff_field.extrapolated_3d_field.domain_width.value[1],'cm'),\n",
    "                        (1*ff_field.extrapolated_3d_field.domain_width.value[2],'cm'))\n",
    "                )\n",
    "p.annotate_streamlines('Bz','Bx',density=2,plot_args={'color':'w'})\n",
    "p.set_zlim('Bz',-3e-2,3e-2)\n",
    "p.set_log('Bz',True,linthresh=1e-3)\n",
    "p.show()"
   ]
  },
  {
   "cell_type": "code",
   "execution_count": null,
   "metadata": {},
   "outputs": [],
   "source": [
    "ff_field.extract_streamlines(1000,\n",
    "                             mask_threshold=0.05,\n",
    "                             close_threshold=0.005,\n",
    "                             safety=10,\n",
    "                             loop_length_range=[1e9,5e10]*u.cm\n",
    "                            )"
   ]
  },
  {
   "cell_type": "code",
   "execution_count": null,
   "metadata": {},
   "outputs": [],
   "source": [
    "ff_field.peek(alpha=0.25)"
   ]
  },
  {
   "cell_type": "code",
   "execution_count": null,
   "metadata": {},
   "outputs": [],
   "source": [
    "ff_field.make_loops()"
   ]
  },
  {
   "cell_type": "markdown",
   "metadata": {},
   "source": [
    "## Comparison"
   ]
  },
  {
   "cell_type": "code",
   "execution_count": null,
   "metadata": {},
   "outputs": [],
   "source": [
    "plt.hist([loop.full_length.to(u.Mm).value for loop in ar_field.loops],histtype='step',lw=2,bins='scott');\n",
    "plt.hist([loop.full_length.to(u.Mm).value for loop in ff_field.loops],histtype='step',lw=2,bins='scott');"
   ]
  },
  {
   "cell_type": "code",
   "execution_count": null,
   "metadata": {},
   "outputs": [],
   "source": [
    "plt.hist([loop.field_strength.to(u.Gauss).value.mean() for loop in ar_field.loops],histtype='step',lw=2,bins='scott');\n",
    "plt.hist([loop.field_strength.to(u.Gauss).value.mean() for loop in ff_field.loops],histtype='step',lw=2,bins='scott');"
   ]
  },
  {
   "cell_type": "code",
   "execution_count": null,
   "metadata": {
    "scrolled": false
   },
   "outputs": [],
   "source": [
    "## Setup figure\n",
    "fig = plt.figure()\n",
    "grid = AxesGrid(fig, (0.075,0.075,0.85,0.85),\n",
    "                nrows_ncols = (3, 2),\n",
    "                axes_pad = 1.2,\n",
    "                label_mode = \"1\",\n",
    "                share_all = True,\n",
    "                cbar_location=\"right\",\n",
    "                cbar_mode=\"each\",\n",
    "                cbar_size=\"3%\",\n",
    "                cbar_pad=\"0%\")\n",
    "fig.set_figwidth(30)\n",
    "# Create plots\n",
    "mag_fields = ['Bx','By','Bz']\n",
    "p1 = yt.SlicePlot(ff_field.extrapolated_3d_field,'x',mag_fields,\n",
    "                  origin='lower-right-domain',\n",
    "                  #center=(ff_field.extrapolated_3d_field.domain_center\n",
    "                  #        +np.array([0,0,0])*ff_field.extrapolated_3d_field.domain_width),\n",
    "                  #width=((1*ff_field.extrapolated_3d_field.domain_width.value[1],'cm'),\n",
    "                  #      (0.75*ff_field.extrapolated_3d_field.domain_width.value[2],'cm'))\n",
    "                 )\n",
    "p1.annotate_streamlines('By','Bz',plot_args={'color':'w'},density=1)\n",
    "p1.figure_size = 20\n",
    "[p1.set_zlim(mf,-3e-2,3e-2) for mf in mag_fields]\n",
    "[p1.set_log(mf,True,linthresh=1e-3) for mf in mag_fields]\n",
    "p2 = yt.SlicePlot(ar_field.extrapolated_3d_field,'x',mag_fields,\n",
    "                  origin='lower-right-domain',\n",
    "                  #center=(ar_field.extrapolated_3d_field.domain_center\n",
    "                  #        +np.array([0,0,0])*ar_field.extrapolated_3d_field.domain_width),\n",
    "                  #width=((1*ar_field.extrapolated_3d_field.domain_width.value[1],'cm'),\n",
    "                  #      (0.75*ar_field.extrapolated_3d_field.domain_width.value[2],'cm'))\n",
    "                 )\n",
    "p2.annotate_streamlines('By','Bz',plot_args={'color':'w'},density=1)\n",
    "p2.figure_size = 20\n",
    "[p2.set_zlim(mf,-3e-2,3e-2) for mf in mag_fields]\n",
    "[p2.set_log(mf,True,linthresh=1e-3) for mf in mag_fields]\n",
    "## Add plots\n",
    "for i,b_field in enumerate(mag_fields):\n",
    "    plot = p1.plots[b_field]\n",
    "    plot.figure = fig\n",
    "    plot.axes = grid[2*i].axes\n",
    "    plot.cax = grid.cbar_axes[2*i]\n",
    "p1._setup_plots()\n",
    "for i,b_field in enumerate(mag_fields):\n",
    "    plot = p2.plots[b_field]\n",
    "    plot.figure = fig\n",
    "    plot.axes = grid[2*i+1].axes\n",
    "    plot.cax = grid.cbar_axes[2*i+1]\n",
    "p2._setup_plots()"
   ]
  },
  {
   "cell_type": "code",
   "execution_count": null,
   "metadata": {},
   "outputs": [],
   "source": [
    "fig = plt.figure(figsize=(15,15))\n",
    "m = sunpy.map.Map('/storage-home/w/wtb2/sunpy/data/hmi_m_45s_2011_02_12_15_33_45_tai_magnetogram.fits').rotate()\n",
    "bottom_corner = SkyCoord(ar_field.hmi_map.bottom_left_coord.Tx,\n",
    "                         ar_field.hmi_map.bottom_left_coord.Ty,\n",
    "                         frame=m.coordinate_frame)\n",
    "top_corner = SkyCoord(ar_field.hmi_map.top_right_coord.Tx,\n",
    "                      ar_field.hmi_map.top_right_coord.Ty,\n",
    "                      frame=m.coordinate_frame)\n",
    "m = m.submap(bottom_corner,top_corner)\n",
    "ax = fig.add_subplot(111,projection=m)\n",
    "m.plot(axes=ax)\n",
    "for stream, _ in ar_field.streamlines:#[::2]:\n",
    "    ax.plot(ar_field._convert_angle_to_length(stream[:, 0]*u.cm,working_units=u.arcsec).to(u.deg),\n",
    "            ar_field._convert_angle_to_length(stream[:, 1]*u.cm,working_units=u.arcsec).to(u.deg),\n",
    "            alpha=0.25,\n",
    "            color=sns.color_palette('deep')[4],\n",
    "            transform=ax.get_transform('world'))\n",
    "for stream, _ in ff_field.streamlines:#[::2]:\n",
    "    ax.plot(ff_field._convert_angle_to_length(stream[:, 0]*u.cm,working_units=u.arcsec).to(u.deg),\n",
    "            ff_field._convert_angle_to_length(stream[:, 1]*u.cm,working_units=u.arcsec).to(u.deg),\n",
    "            alpha=0.25,\n",
    "            color=sns.color_palette('deep')[2],\n",
    "            transform=ax.get_transform('world'))"
   ]
  },
  {
   "cell_type": "code",
   "execution_count": null,
   "metadata": {},
   "outputs": [],
   "source": []
  }
 ],
 "metadata": {
  "kernelspec": {
   "display_name": "Python [conda env:synthesizar]",
   "language": "python",
   "name": "conda-env-synthesizar-py"
  },
  "language_info": {
   "codemirror_mode": {
    "name": "ipython",
    "version": 3
   },
   "file_extension": ".py",
   "mimetype": "text/x-python",
   "name": "python",
   "nbconvert_exporter": "python",
   "pygments_lexer": "ipython3",
   "version": "3.6.3"
  }
 },
 "nbformat": 4,
 "nbformat_minor": 2
}
