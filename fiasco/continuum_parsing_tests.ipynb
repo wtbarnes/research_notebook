{
 "cells": [
  {
   "cell_type": "code",
   "execution_count": 114,
   "metadata": {},
   "outputs": [],
   "source": [
    "import py\n",
    "import os\n",
    "import numpy as np\n",
    "import plasmapy\n",
    "import astropy.units as u\n",
    "from astropy.table import Table,QTable\n",
    "import fiasco"
   ]
  },
  {
   "cell_type": "code",
   "execution_count": 137,
   "metadata": {},
   "outputs": [
    {
     "data": {
      "text/plain": [
       "'beryllium'"
      ]
     },
     "execution_count": 137,
     "metadata": {},
     "output_type": "execute_result"
    }
   ],
   "source": [
    "plasmapy.atomic.element_name(4)"
   ]
  },
  {
   "cell_type": "code",
   "execution_count": 141,
   "metadata": {},
   "outputs": [
    {
     "data": {
      "text/plain": [
       "'file:  be_2.easplom\\nexcitation autoionization cross section parameter file\\nderived from fits to experimental and theoretical data\\nDere, K. P., 2007, A&A, 466, 771\\nADS ref:  http://adsabs.harvard.edu/abs/2007A%26A...466..771D\\ncreated for CHIANTI database for astrophysical spectroscopy\\ncreated by Ken Dere  (GMU)  Fri Jan 26 12:40:26 2007'"
      ]
     },
     "execution_count": 141,
     "metadata": {},
     "output_type": "execute_result"
    }
   ],
   "source": [
    "fiasco.io.sources.EasplomParser('be_2.easplom').parse().meta['footer']"
   ]
  },
  {
   "cell_type": "code",
   "execution_count": 135,
   "metadata": {},
   "outputs": [
    {
     "data": {
      "text/plain": [
       "array([  6.02900000e-11,   5.01500000e-10,   3.79600000e-09,\n",
       "         7.84400000e-09,   1.14000000e-08,   1.43300000e-08,\n",
       "         1.68500000e-08,   1.90600000e-08,   1.88300000e-08])"
      ]
     },
     "execution_count": 135,
     "metadata": {},
     "output_type": "execute_result"
    }
   ],
   "source": [
    "fiasco.io.sources.PsplupsParser('c_2.psplups').parse()['bt_rate'][0].value"
   ]
  },
  {
   "cell_type": "code",
   "execution_count": 132,
   "metadata": {},
   "outputs": [],
   "source": [
    "a = 1.09e-11"
   ]
  },
  {
   "cell_type": "code",
   "execution_count": 78,
   "metadata": {},
   "outputs": [],
   "source": [
    "foo = fiasco.io.sources.ScupsParser('h_1.scups').parse()"
   ]
  },
  {
   "cell_type": "code",
   "execution_count": 79,
   "metadata": {},
   "outputs": [],
   "source": [
    "bar = fiasco.io.sources.ScupsParser('he_1.scups').parse()"
   ]
  },
  {
   "cell_type": "code",
   "execution_count": 98,
   "metadata": {},
   "outputs": [
    {
     "data": {
      "text/html": [
       "&lt;QTable length=45&gt;\n",
       "<table id=\"table4482693048\" class=\"table-striped table-bordered table-condensed\">\n",
       "<thead><tr><th>lower_level</th><th>upper_level</th><th>delta_energy</th><th>gf</th><th>high_t_limit</th><th>n_t</th><th>bt_type</th><th>bt_c</th><th>bt_t [5]</th><th>bt_upsilon [5]</th></tr></thead>\n",
       "<thead><tr><th></th><th></th><th>Ry</th><th></th><th>1 / Ry</th><th></th><th></th><th></th><th></th><th></th></tr></thead>\n",
       "<thead><tr><th>int64</th><th>int64</th><th>float64</th><th>float64</th><th>float64</th><th>int64</th><th>int64</th><th>float64</th><th>float64</th><th>float64</th></tr></thead>\n",
       "<tr><td>1</td><td>2</td><td>0.75</td><td>0.0</td><td>-1.0</td><td>5</td><td>2</td><td>0.4</td><td>0.0 .. 1.0</td><td>0.2117 .. 0.5751</td></tr>\n",
       "<tr><td>1</td><td>3</td><td>0.75</td><td>0.2772</td><td>1.478</td><td>5</td><td>1</td><td>1.7</td><td>0.0 .. 1.0</td><td>0.1132 .. 1.478</td></tr>\n",
       "<tr><td>1</td><td>4</td><td>0.75</td><td>0.5552</td><td>2.961</td><td>5</td><td>1</td><td>1.7</td><td>0.0 .. 1.0</td><td>0.2265 .. 2.961</td></tr>\n",
       "<tr><td>1</td><td>5</td><td>0.889</td><td>0.0</td><td>-1.0</td><td>5</td><td>2</td><td>0.4</td><td>0.0 .. 1.0</td><td>0.05993 .. 0.1226</td></tr>\n",
       "<tr><td>1</td><td>6</td><td>0.889</td><td>0.05268</td><td>0.237</td><td>5</td><td>1</td><td>1.6</td><td>0.0 .. 1.0</td><td>0.03146 .. 0.237</td></tr>\n",
       "<tr><td>1</td><td>7</td><td>0.889</td><td>0.1055</td><td>0.4747</td><td>5</td><td>1</td><td>1.6</td><td>0.0 .. 1.0</td><td>0.06297 .. 0.4747</td></tr>\n",
       "<tr><td>1</td><td>8</td><td>0.889</td><td>0.0</td><td>-1.0</td><td>5</td><td>2</td><td>0.3</td><td>0.0 .. 1.0</td><td>0.02302 .. 0.06018</td></tr>\n",
       "<tr><td>1</td><td>9</td><td>0.889</td><td>0.0</td><td>-1.0</td><td>5</td><td>2</td><td>0.3</td><td>0.0 .. 1.0</td><td>0.03453 .. 0.09027</td></tr>\n",
       "<tr><td>1</td><td>10</td><td>0.938</td><td>0.0</td><td>-1.0</td><td>5</td><td>2</td><td>0.4</td><td>0.0 .. 1.0</td><td>0.01823 .. 0.04702</td></tr>\n",
       "<tr><td>...</td><td>...</td><td>...</td><td>...</td><td>...</td><td>...</td><td>...</td><td>...</td><td>...</td><td>...</td></tr>\n",
       "<tr><td>2</td><td>16</td><td>0.188</td><td>0.0</td><td>-1.0</td><td>5</td><td>2</td><td>1.4</td><td>0.0 .. 1.0</td><td>0.202 .. 1.477</td></tr>\n",
       "<tr><td>2</td><td>17</td><td>0.21</td><td>0.0</td><td>-1.0</td><td>5</td><td>2</td><td>1.6</td><td>0.0 .. 1.0</td><td>0.1905 .. 0.629</td></tr>\n",
       "<tr><td>2</td><td>18</td><td>0.21</td><td>0.02793</td><td>0.532</td><td>5</td><td>1</td><td>2.0</td><td>0.0 .. 1.0</td><td>0.1042 .. 0.5319</td></tr>\n",
       "<tr><td>2</td><td>19</td><td>0.21</td><td>0.05593</td><td>1.065</td><td>5</td><td>1</td><td>2.0</td><td>0.0 .. 1.0</td><td>0.2086 .. 1.065</td></tr>\n",
       "<tr><td>2</td><td>20</td><td>0.21</td><td>0.0</td><td>-1.0</td><td>5</td><td>2</td><td>1.3</td><td>0.0 .. 1.0</td><td>0.1451 .. 0.4421</td></tr>\n",
       "<tr><td>2</td><td>21</td><td>0.21</td><td>0.0</td><td>-1.0</td><td>5</td><td>2</td><td>1.3</td><td>0.0 .. 1.0</td><td>0.2176 .. 0.6632</td></tr>\n",
       "<tr><td>2</td><td>22</td><td>0.21</td><td>0.0</td><td>-1.0</td><td>5</td><td>2</td><td>1.0</td><td>0.0 .. 1.0</td><td>0.1303 .. 0.5064</td></tr>\n",
       "<tr><td>2</td><td>23</td><td>0.21</td><td>0.0</td><td>-1.0</td><td>5</td><td>2</td><td>1.0</td><td>0.0 .. 1.0</td><td>0.1739 .. 0.6741</td></tr>\n",
       "<tr><td>2</td><td>24</td><td>0.21</td><td>0.0</td><td>-1.0</td><td>5</td><td>2</td><td>1.2</td><td>0.0 .. 1.0</td><td>0.08809 .. 0.07419</td></tr>\n",
       "<tr><td>2</td><td>25</td><td>0.21</td><td>0.0</td><td>-1.0</td><td>5</td><td>2</td><td>1.2</td><td>0.0 .. 1.0</td><td>0.1107 .. 0.09306</td></tr>\n",
       "</table>"
      ],
      "text/plain": [
       "<QTable length=45>\n",
       "lower_level upper_level delta_energy ...   bt_c   bt_t [5]    bt_upsilon [5]  \n",
       "                             Ry      ...                                      \n",
       "   int64       int64      float64    ... float64  float64        float64      \n",
       "----------- ----------- ------------ ... ------- ---------- ------------------\n",
       "          1           2         0.75 ...     0.4 0.0 .. 1.0   0.2117 .. 0.5751\n",
       "          1           3         0.75 ...     1.7 0.0 .. 1.0    0.1132 .. 1.478\n",
       "          1           4         0.75 ...     1.7 0.0 .. 1.0    0.2265 .. 2.961\n",
       "          1           5        0.889 ...     0.4 0.0 .. 1.0  0.05993 .. 0.1226\n",
       "          1           6        0.889 ...     1.6 0.0 .. 1.0   0.03146 .. 0.237\n",
       "          1           7        0.889 ...     1.6 0.0 .. 1.0  0.06297 .. 0.4747\n",
       "          1           8        0.889 ...     0.3 0.0 .. 1.0 0.02302 .. 0.06018\n",
       "          1           9        0.889 ...     0.3 0.0 .. 1.0 0.03453 .. 0.09027\n",
       "          1          10        0.938 ...     0.4 0.0 .. 1.0 0.01823 .. 0.04702\n",
       "        ...         ...          ... ...     ...        ...                ...\n",
       "          2          16        0.188 ...     1.4 0.0 .. 1.0     0.202 .. 1.477\n",
       "          2          17         0.21 ...     1.6 0.0 .. 1.0    0.1905 .. 0.629\n",
       "          2          18         0.21 ...     2.0 0.0 .. 1.0   0.1042 .. 0.5319\n",
       "          2          19         0.21 ...     2.0 0.0 .. 1.0    0.2086 .. 1.065\n",
       "          2          20         0.21 ...     1.3 0.0 .. 1.0   0.1451 .. 0.4421\n",
       "          2          21         0.21 ...     1.3 0.0 .. 1.0   0.2176 .. 0.6632\n",
       "          2          22         0.21 ...     1.0 0.0 .. 1.0   0.1303 .. 0.5064\n",
       "          2          23         0.21 ...     1.0 0.0 .. 1.0   0.1739 .. 0.6741\n",
       "          2          24         0.21 ...     1.2 0.0 .. 1.0 0.08809 .. 0.07419\n",
       "          2          25         0.21 ...     1.2 0.0 .. 1.0  0.1107 .. 0.09306"
      ]
     },
     "execution_count": 98,
     "metadata": {},
     "output_type": "execute_result"
    }
   ],
   "source": [
    "foo"
   ]
  },
  {
   "cell_type": "code",
   "execution_count": 108,
   "metadata": {},
   "outputs": [],
   "source": [
    "tmp = bar['bt_t'][0] == foo['bt_t'][0]"
   ]
  },
  {
   "cell_type": "code",
   "execution_count": 113,
   "metadata": {},
   "outputs": [
    {
     "data": {
      "text/plain": [
       "True"
      ]
     },
     "execution_count": 113,
     "metadata": {},
     "output_type": "execute_result"
    }
   ],
   "source": [
    "np.all(tmp)"
   ]
  },
  {
   "cell_type": "code",
   "execution_count": 111,
   "metadata": {},
   "outputs": [
    {
     "ename": "TypeError",
     "evalue": "isinstance() arg 2 must be a type or tuple of types",
     "output_type": "error",
     "traceback": [
      "\u001b[0;31m---------------------------------------------------------------------------\u001b[0m",
      "\u001b[0;31mTypeError\u001b[0m                                 Traceback (most recent call last)",
      "\u001b[0;32m<ipython-input-111-310299581206>\u001b[0m in \u001b[0;36m<module>\u001b[0;34m()\u001b[0m\n\u001b[0;32m----> 1\u001b[0;31m \u001b[0misinstance\u001b[0m\u001b[0;34m(\u001b[0m\u001b[0mtmp\u001b[0m\u001b[0;34m,\u001b[0m\u001b[0mnp\u001b[0m\u001b[0;34m.\u001b[0m\u001b[0marray\u001b[0m\u001b[0;34m)\u001b[0m\u001b[0;34m\u001b[0m\u001b[0m\n\u001b[0m",
      "\u001b[0;31mTypeError\u001b[0m: isinstance() arg 2 must be a type or tuple of types"
     ]
    }
   ],
   "source": [
    "isinstance(tmp,np.array)"
   ]
  },
  {
   "cell_type": "code",
   "execution_count": 107,
   "metadata": {},
   "outputs": [
    {
     "data": {
      "text/plain": [
       "numpy.bool_"
      ]
     },
     "execution_count": 107,
     "metadata": {},
     "output_type": "execute_result"
    }
   ],
   "source": [
    "type(tmp)"
   ]
  },
  {
   "cell_type": "code",
   "execution_count": 73,
   "metadata": {},
   "outputs": [
    {
     "data": {
      "text/latex": [
       "$[[0.2117,~0.3088,~0.3327,~0.3891,~0.5751],~\n",
       " [0.1132,~0.2708,~0.5017,~0.8519,~1.478],~\n",
       " [0.2265,~0.5424,~1.005,~1.706,~2.961],~\n",
       " \\dots, \n",
       " [0.1739,~0.2599,~0.3779,~0.5407,~0.6741],~\n",
       " [0.08809,~0.114,~0.111,~0.1047,~0.07419],~\n",
       " [0.1107,~0.1427,~0.139,~0.1311,~0.09306]] \\; \\mathrm{}$"
      ],
      "text/plain": [
       "<Quantity [[  2.11700000e-01,  3.08800000e-01,  3.32700000e-01,\n",
       "              3.89100000e-01,  5.75100000e-01],\n",
       "           [  1.13200000e-01,  2.70800000e-01,  5.01700000e-01,\n",
       "              8.51900000e-01,  1.47800000e+00],\n",
       "           [  2.26500000e-01,  5.42400000e-01,  1.00500000e+00,\n",
       "              1.70600000e+00,  2.96100000e+00],\n",
       "           [  5.99300000e-02,  7.30500000e-02,  8.10200000e-02,\n",
       "              9.17500000e-02,  1.22600000e-01],\n",
       "           [  3.14600000e-02,  5.90800000e-02,  9.82600000e-02,\n",
       "              1.45600000e-01,  2.37000000e-01],\n",
       "           [  6.29700000e-02,  1.18400000e-01,  1.96800000e-01,\n",
       "              2.91600000e-01,  4.74700000e-01],\n",
       "           [  2.30200000e-02,  2.69000000e-02,  3.27700000e-02,\n",
       "              4.46200000e-02,  6.01800000e-02],\n",
       "           [  3.45300000e-02,  4.03500000e-02,  4.91500000e-02,\n",
       "              6.69300000e-02,  9.02700000e-02],\n",
       "           [  1.82300000e-02,  2.86700000e-02,  3.40900000e-02,\n",
       "              3.77400000e-02,  4.70200000e-02],\n",
       "           [  1.06200000e-02,  2.40500000e-02,  3.74700000e-02,\n",
       "              5.26100000e-02,  8.23400000e-02],\n",
       "           [  2.12600000e-02,  4.81800000e-02,  7.50500000e-02,\n",
       "              1.05400000e-01,  1.64900000e-01],\n",
       "           [  1.12400000e-02,  1.32200000e-02,  1.73900000e-02,\n",
       "              2.34400000e-02,  2.93700000e-02],\n",
       "           [  1.68600000e-02,  1.98400000e-02,  2.60800000e-02,\n",
       "              3.51700000e-02,  4.40500000e-02],\n",
       "           [  5.73700000e-03,  4.62600000e-03,  4.52100000e-03,\n",
       "              4.44400000e-03,  3.47200000e-03],\n",
       "           [  7.63600000e-03,  6.15700000e-03,  6.01800000e-03,\n",
       "              5.91500000e-03,  4.62200000e-03],\n",
       "           [  1.05800000e-02,  1.80800000e-02,  1.92600000e-02,\n",
       "              1.95100000e-02,  2.24200000e-02],\n",
       "           [  8.07800000e-03,  1.22800000e-02,  1.68000000e-02,\n",
       "              2.39400000e-02,  3.86800000e-02],\n",
       "           [  1.61700000e-02,  2.46100000e-02,  3.36700000e-02,\n",
       "              4.79400000e-02,  7.74900000e-02],\n",
       "           [  7.16800000e-03,  8.78200000e-03,  9.64500000e-03,\n",
       "              1.20400000e-02,  1.48300000e-02],\n",
       "           [  1.07500000e-02,  1.31700000e-02,  1.44700000e-02,\n",
       "              1.80700000e-02,  2.22400000e-02],\n",
       "           [  3.96600000e-03,  3.95900000e-03,  4.27400000e-03,\n",
       "              4.35700000e-03,  3.40100000e-03],\n",
       "           [  5.27600000e-03,  5.27000000e-03,  5.68800000e-03,\n",
       "              5.79900000e-03,  4.52800000e-03],\n",
       "           [  2.44700000e-03,  1.66100000e-03,  1.14600000e-03,\n",
       "              7.27900000e-04,  2.46200000e-04],\n",
       "           [  3.06400000e-03,  2.08100000e-03,  1.43600000e-03,\n",
       "              9.11600000e-04,  3.08300000e-04],\n",
       "           [  1.42200000e+00,  1.51700000e+00,  2.62800000e+00,\n",
       "              4.77600000e+00,  8.70600000e+00],\n",
       "           [  6.48600000e-01,  9.51900000e-01,  1.73400000e+00,\n",
       "              3.94900000e+00,  8.33300000e+00],\n",
       "           [  1.29900000e+00,  1.90600000e+00,  3.47300000e+00,\n",
       "              7.90900000e+00,  1.67000000e+01],\n",
       "           [  4.23900000e-01,  1.42000000e+00,  3.10700000e+00,\n",
       "              6.05300000e+00,  1.12000000e+01],\n",
       "           [  6.35900000e-01,  2.13100000e+00,  4.66100000e+00,\n",
       "              9.08000000e+00,  1.68000000e+01],\n",
       "           [  4.17900000e-01,  3.97900000e-01,  5.84300000e-01,\n",
       "              9.59900000e-01,  1.69000000e+00],\n",
       "           [  2.08900000e-01,  3.16400000e-01,  5.06000000e-01,\n",
       "              8.43200000e-01,  1.45700000e+00],\n",
       "           [  4.18700000e-01,  6.33600000e-01,  1.01400000e+00,\n",
       "              1.68900000e+00,  2.91700000e+00],\n",
       "           [  2.18500000e-01,  3.29600000e-01,  5.15700000e-01,\n",
       "              8.36800000e-01,  1.38900000e+00],\n",
       "           [  3.27700000e-01,  4.94400000e-01,  7.73500000e-01,\n",
       "              1.25500000e+00,  2.08300000e+00],\n",
       "           [  1.52000000e-01,  3.45200000e-01,  6.00600000e-01,\n",
       "              8.89800000e-01,  1.11000000e+00],\n",
       "           [  2.02000000e-01,  4.59500000e-01,  7.99400000e-01,\n",
       "              1.18400000e+00,  1.47700000e+00],\n",
       "           [  1.90500000e-01,  2.18500000e-01,  2.56200000e-01,\n",
       "              3.80400000e-01,  6.29000000e-01],\n",
       "           [  1.04200000e-01,  1.63600000e-01,  1.97600000e-01,\n",
       "              2.91600000e-01,  5.31900000e-01],\n",
       "           [  2.08600000e-01,  3.27600000e-01,  3.95900000e-01,\n",
       "              5.84000000e-01,  1.06500000e+00],\n",
       "           [  1.45100000e-01,  2.00600000e-01,  2.30300000e-01,\n",
       "              2.95300000e-01,  4.42100000e-01],\n",
       "           [  2.17600000e-01,  3.00900000e-01,  3.45500000e-01,\n",
       "              4.42900000e-01,  6.63200000e-01],\n",
       "           [  1.30300000e-01,  1.95300000e-01,  2.83900000e-01,\n",
       "              4.06300000e-01,  5.06400000e-01],\n",
       "           [  1.73900000e-01,  2.59900000e-01,  3.77900000e-01,\n",
       "              5.40700000e-01,  6.74100000e-01],\n",
       "           [  8.80900000e-02,  1.14000000e-01,  1.11000000e-01,\n",
       "              1.04700000e-01,  7.41900000e-02],\n",
       "           [  1.10700000e-01,  1.42700000e-01,  1.39000000e-01,\n",
       "              1.31100000e-01,  9.30600000e-02]]>"
      ]
     },
     "execution_count": 73,
     "metadata": {},
     "output_type": "execute_result"
    }
   ],
   "source": [
    "foo['bt_upsilon']"
   ]
  },
  {
   "cell_type": "code",
   "execution_count": 75,
   "metadata": {},
   "outputs": [
    {
     "data": {
      "text/plain": [
       "\"produced as part of the Arcetri/Cambridge/NRL atomic data base collaboration\\nA values:  Parpia, F. A., and Johnson, W. R., 1972, Phys. Rev. A, 26, 1142.\\nproduced as part of the Arcetri/Cambridge/NRL atomic data base\\ncollaboration 'CHIANTI'\\nKen Dere   Wed Jul 26 08:24:54 2000\\nenergy levels:    NIST Atomic Spectra Database Version 2.0\\nhttp://physics.nist.gov/cgi-bin/AtData/main_asd\\noscillator strengths:  Wiese, W. L., Smith, M. W., and Glennon, B. M., 1966,\\nAtomic Transition Probabilities, NSRDS-NBS-4.\\nnote:  hydrogenic f values\\ncollision strengths:  Anderson, H., Ballance, C.P., Badnell, N.R., Summers, H.P., 2000, J. Phys. B, 33,1255, revised 2002\\nnote:  fine structure collision assumes LS coupling or distribution according to statistical weights\\ncompiled by Ken Dere (NRL)  Thu Feb  7 15:11:55 2002\""
      ]
     },
     "execution_count": 75,
     "metadata": {},
     "output_type": "execute_result"
    }
   ],
   "source": [
    "foo.meta['footer']"
   ]
  },
  {
   "cell_type": "code",
   "execution_count": 57,
   "metadata": {},
   "outputs": [
    {
     "data": {
      "text/html": [
       "&lt;QTable length=21&gt;\n",
       "<table id=\"table4481548696\" class=\"table-striped table-bordered table-condensed\">\n",
       "<thead><tr><th>level</th><th>config</th><th>n</th><th>L</th><th>L_label</th><th>multiplicity</th><th>E_obs</th><th>E_th</th></tr></thead>\n",
       "<thead><tr><th></th><th></th><th></th><th></th><th></th><th></th><th>1 / cm</th><th>1 / cm</th></tr></thead>\n",
       "<thead><tr><th>int64</th><th>str2</th><th>int64</th><th>int64</th><th>str1</th><th>int64</th><th>float64</th><th>float64</th></tr></thead>\n",
       "<tr><td>1</td><td>1s</td><td>1</td><td>0</td><td>s</td><td>2</td><td>0.0</td><td>0.0</td></tr>\n",
       "<tr><td>2</td><td>2s</td><td>2</td><td>0</td><td>s</td><td>2</td><td>82258.956</td><td>82303.0</td></tr>\n",
       "<tr><td>3</td><td>2p</td><td>2</td><td>1</td><td>p</td><td>6</td><td>82259.165</td><td>82303.0</td></tr>\n",
       "<tr><td>4</td><td>3s</td><td>3</td><td>0</td><td>s</td><td>2</td><td>97492.224</td><td>97544.0</td></tr>\n",
       "<tr><td>5</td><td>3p</td><td>3</td><td>1</td><td>p</td><td>6</td><td>97492.285</td><td>97544.0</td></tr>\n",
       "<tr><td>6</td><td>3d</td><td>3</td><td>2</td><td>d</td><td>10</td><td>97492.343</td><td>97544.0</td></tr>\n",
       "<tr><td>7</td><td>4s</td><td>4</td><td>0</td><td>s</td><td>2</td><td>102823.855</td><td>102879.0</td></tr>\n",
       "<tr><td>8</td><td>4p</td><td>4</td><td>1</td><td>p</td><td>6</td><td>102823.881</td><td>102879.0</td></tr>\n",
       "<tr><td>9</td><td>4d</td><td>4</td><td>2</td><td>d</td><td>10</td><td>102823.905</td><td>102879.0</td></tr>\n",
       "<tr><td>10</td><td>4f</td><td>4</td><td>3</td><td>f</td><td>14</td><td>102823.916</td><td>102879.0</td></tr>\n",
       "<tr><td>11</td><td>5s</td><td>5</td><td>0</td><td>s</td><td>2</td><td>105291.633</td><td>105348.0</td></tr>\n",
       "<tr><td>12</td><td>5p</td><td>5</td><td>1</td><td>p</td><td>6</td><td>105291.646</td><td>105348.0</td></tr>\n",
       "<tr><td>13</td><td>5d</td><td>5</td><td>2</td><td>d</td><td>10</td><td>105291.659</td><td>105348.0</td></tr>\n",
       "<tr><td>14</td><td>5f</td><td>5</td><td>3</td><td>f</td><td>14</td><td>105291.664</td><td>105348.0</td></tr>\n",
       "<tr><td>15</td><td>5g</td><td>5</td><td>4</td><td>g</td><td>18</td><td>105291.667</td><td>105348.0</td></tr>\n",
       "<tr><td>16</td><td>6s</td><td>6</td><td>0</td><td>s</td><td>2</td><td>106632.152</td><td>0.0</td></tr>\n",
       "<tr><td>17</td><td>6p</td><td>6</td><td>1</td><td>p</td><td>6</td><td>106632.16</td><td>0.0</td></tr>\n",
       "<tr><td>18</td><td>6d</td><td>6</td><td>2</td><td>d</td><td>10</td><td>106632.167</td><td>0.0</td></tr>\n",
       "<tr><td>19</td><td>6f</td><td>6</td><td>3</td><td>f</td><td>14</td><td>106632.17</td><td>0.0</td></tr>\n",
       "<tr><td>20</td><td>6g</td><td>6</td><td>4</td><td>g</td><td>18</td><td>106632.172</td><td>0.0</td></tr>\n",
       "<tr><td>21</td><td>6h</td><td>6</td><td>5</td><td>h</td><td>22</td><td>106632.173</td><td>0.0</td></tr>\n",
       "</table>"
      ],
      "text/plain": [
       "<QTable length=21>\n",
       "level config   n     L   L_label multiplicity   E_obs      E_th  \n",
       "                                                1 / cm    1 / cm \n",
       "int64  str2  int64 int64   str1     int64      float64   float64 \n",
       "----- ------ ----- ----- ------- ------------ ---------- --------\n",
       "    1     1s     1     0       s            2        0.0      0.0\n",
       "    2     2s     2     0       s            2  82258.956  82303.0\n",
       "    3     2p     2     1       p            6  82259.165  82303.0\n",
       "    4     3s     3     0       s            2  97492.224  97544.0\n",
       "    5     3p     3     1       p            6  97492.285  97544.0\n",
       "    6     3d     3     2       d           10  97492.343  97544.0\n",
       "    7     4s     4     0       s            2 102823.855 102879.0\n",
       "    8     4p     4     1       p            6 102823.881 102879.0\n",
       "    9     4d     4     2       d           10 102823.905 102879.0\n",
       "   10     4f     4     3       f           14 102823.916 102879.0\n",
       "   11     5s     5     0       s            2 105291.633 105348.0\n",
       "   12     5p     5     1       p            6 105291.646 105348.0\n",
       "   13     5d     5     2       d           10 105291.659 105348.0\n",
       "   14     5f     5     3       f           14 105291.664 105348.0\n",
       "   15     5g     5     4       g           18 105291.667 105348.0\n",
       "   16     6s     6     0       s            2 106632.152      0.0\n",
       "   17     6p     6     1       p            6  106632.16      0.0\n",
       "   18     6d     6     2       d           10 106632.167      0.0\n",
       "   19     6f     6     3       f           14  106632.17      0.0\n",
       "   20     6g     6     4       g           18 106632.172      0.0\n",
       "   21     6h     6     5       h           22 106632.173      0.0"
      ]
     },
     "execution_count": 57,
     "metadata": {},
     "output_type": "execute_result"
    }
   ],
   "source": [
    "fiasco.io.sources.FblvlParser('h_1.fblvl').parse()"
   ]
  },
  {
   "cell_type": "code",
   "execution_count": 138,
   "metadata": {},
   "outputs": [
    {
     "name": "stdout",
     "output_type": "stream",
     "text": [
      "  4  2  1  3  1 7.551e-01 8.649e+00 1.700e+00 9.785e-02 1.007e-01 1.147e-01 1.415e-01 1.749e-01\n",
      "  4  2  1  4  1 1.816e-01 9.506e+00 1.700e+00 3.196e-02 3.015e-02 3.237e-02 3.593e-02 3.830e-02\n",
      "-1\n",
      "%file:  be_2.easplom\n",
      "%excitation autoionization cross section parameter file\n",
      " derived from fits to experimental and theoretical data\n",
      "Dere, K. P., 2007, A&A, 466, 771\n",
      "ADS ref:  http://adsabs.harvard.edu/abs/2007A%26A...466..771D\n",
      " created for CHIANTI database for astrophysical spectroscopy\n",
      "  created by Ken Dere  (GMU)  Fri Jan 26 12:40:26 2007\n",
      "-1\n"
     ]
    }
   ],
   "source": [
    "%%bash \n",
    "head -n 20 /Users/willbarnes/ssw/packages/chianti/dbase/be/be_2/be_2.easplom"
   ]
  },
  {
   "cell_type": "code",
   "execution_count": 124,
   "metadata": {},
   "outputs": [
    {
     "name": "stdout",
     "output_type": "stream",
     "text": [
      "  1  2  2 0.000e+00 5.830e-04 2.900e+02 6.029e-11 5.015e-10 3.796e-09 7.844e-09 1.140e-08 1.433e-08 1.685e-08 1.906e-08 1.883e-08\n",
      "  3  4  2 0.000e+00 2.000e-04 8.600e+02-3.676e-11 1.199e-10 6.423e-10 1.559e-09 2.760e-09 4.050e-09 5.300e-09 6.186e-09 5.480e-09\n",
      "  3  5  2 0.000e+00 4.580e-04 3.000e+02 6.248e-11 2.626e-10 2.270e-09 5.254e-09 8.077e-09 1.060e-08 1.276e-08 1.494e-08 1.647e-08\n",
      "  4  5  2 0.000e+00 2.580e-04 5.750e+02-1.715e-10 4.714e-10 2.561e-09 5.022e-09 7.346e-09 9.370e-09 1.120e-08 1.294e-08 1.356e-08\n",
      " -1\n",
      "%filename: c_2.psplups\n",
      "%rates: Foster VJ, Keenan FP, Reid RHG, ADNDT 67, 99, 1997\n",
      "%energies: From .elvlc file, experimental energies\n",
      "%comment: The rate coefficients are in units cm^3/s.\n",
      "%comment: Fits are valid for temperatures 2e3 to 4e5 K.\n",
      "%produced as part of the Arcetri/Cambridge/NRL 'CHIANTI' atomic data base collaboration\n",
      "%\n",
      "% Peter Young   15-May-2001\n",
      " -1\n"
     ]
    }
   ],
   "source": [
    "%%bash \n",
    "head -n 20 /Users/willbarnes/ssw/packages/chianti/dbase/c/c_2/c_2.psplups"
   ]
  },
  {
   "cell_type": "code",
   "execution_count": 70,
   "metadata": {},
   "outputs": [
    {
     "name": "stdout",
     "output_type": "stream",
     "text": [
      "      1      2   7.500e-01   0.000e+00          -1    5    2   4.000e-01\n",
      "   0.000e+00   2.500e-01   5.000e-01   7.500e-01   1.000e+00\n",
      "   2.117e-01   3.088e-01   3.327e-01   3.891e-01   5.751e-01\n",
      "      1      3   7.500e-01   2.772e-01   1.478e+00    5    1   1.700e+00\n",
      "   0.000e+00   2.500e-01   5.000e-01   7.500e-01   1.000e+00\n",
      "   1.132e-01   2.708e-01   5.017e-01   8.519e-01   1.478e+00\n",
      "      1      4   7.500e-01   5.552e-01   2.961e+00    5    1   1.700e+00\n",
      "   0.000e+00   2.500e-01   5.000e-01   7.500e-01   1.000e+00\n",
      "   2.265e-01   5.424e-01   1.005e+00   1.706e+00   2.961e+00\n",
      "      1      5   8.890e-01   0.000e+00          -1    5    2   4.000e-01\n"
     ]
    }
   ],
   "source": [
    "%%bash \n",
    "head -n 10 /Users/willbarnes/ssw/packages/chianti/dbase/h/h_1/h_1.scups"
   ]
  },
  {
   "cell_type": "code",
   "execution_count": 50,
   "metadata": {},
   "outputs": [
    {
     "name": "stdout",
     "output_type": "stream",
     "text": [
      "   21                  6h    6    5  h   22          106632.173               0.000\n",
      " -1\n",
      "%filename: h_1.fblvl\n",
      "%observed energy levels: Fuhr et al, 1999, NIST Atomic Spectra Database Version 2.0\n",
      "%additional energy levels: NIST Atomic Spectra Database Version 2.0\n",
      "%comment: free-bound data file developed from .elvlc file\n",
      "%produced as part of the Arcetri/Cambridge/NRL 'CHIANTI' atomic data base collaboration\n",
      "%\n",
      "% Ken Dere - Jul 17 2002\n",
      " -1\n"
     ]
    }
   ],
   "source": [
    "%%bash \n",
    "tail -n 10 /Users/willbarnes/ssw/packages/chianti/dbase/h/h_1/h_1.fblvl"
   ]
  },
  {
   "cell_type": "code",
   "execution_count": 38,
   "metadata": {},
   "outputs": [
    {
     "name": "stdout",
     "output_type": "stream",
     "text": [
      "     22     5f                                2  F    2.5     105291.662     105348.000\n",
      "     23     5f                                2  F    3.5     105291.666     105348.000\n",
      "     24     5g                                2  G    3.5     105291.666     105348.000\n",
      "     25     5g                                2  G    4.5     105291.668     105348.000\n",
      " -1\n",
      "%filename: h_1.elvlc\n",
      "%observed energy levels: Fuhr et al, 1999, NIST Atomic Spectra Database Version 2.0\n",
      "%produced as part of the Arcetri/Cambridge/NRL 'CHIANTI' atomic data base collaboration\n",
      "%\n",
      "%  Ken Dere  May 3 2001\n"
     ]
    }
   ],
   "source": [
    "%%bash \n",
    "tail -n 10 /Users/willbarnes/ssw/packages/chianti/dbase/h/h_1/h_1.elvlc"
   ]
  },
  {
   "cell_type": "code",
   "execution_count": 63,
   "metadata": {},
   "outputs": [
    {
     "name": "stdout",
     "output_type": "stream",
     "text": [
      "   0.000e+00   2.500e-01   5.000e-01   7.500e-01   1.000e+00\n",
      "   8.809e-02   1.140e-01   1.110e-01   1.047e-01   7.419e-02\n",
      "      2     25   2.100e-01   0.000e+00          -1    5    2   1.200e+00\n",
      "   0.000e+00   2.500e-01   5.000e-01   7.500e-01   1.000e+00\n",
      "   1.107e-01   1.427e-01   1.390e-01   1.311e-01   9.306e-02\n",
      "-1\n",
      "% produced as part of the Arcetri/Cambridge/NRL atomic data base collaboration\n",
      "% A values:  Parpia, F. A., and Johnson, W. R., 1972, Phys. Rev. A, 26, 1142.\n",
      "%produced as part of the Arcetri/Cambridge/NRL atomic data base\n",
      " collaboration 'CHIANTI' \n",
      "  Ken Dere   Wed Jul 26 08:24:54 2000\n",
      "%energy levels:    NIST Atomic Spectra Database Version 2.0\n",
      "  http://physics.nist.gov/cgi-bin/AtData/main_asd\n",
      "%oscillator strengths:  Wiese, W. L., Smith, M. W., and Glennon, B. M., 1966,\n",
      " Atomic Transition Probabilities, NSRDS-NBS-4.\n",
      "%note:  hydrogenic f values\n",
      "%collision strengths:  Anderson, H., Ballance, C.P., Badnell, N.R., Summers, H.P., 2000, J. Phys. B, 33,1255, revised 2002\n",
      "%note:  fine structure collision assumes LS coupling or distribution according to statistical weights\n",
      "  compiled by Ken Dere (NRL)  Thu Feb  7 15:11:55 2002\n",
      "-1\n"
     ]
    }
   ],
   "source": [
    "%%bash \n",
    "tail -n 20 /Users/willbarnes/ssw/packages/chianti/dbase/h/h_1/h_1.scups"
   ]
  },
  {
   "cell_type": "code",
   "execution_count": 12,
   "metadata": {},
   "outputs": [],
   "source": [
    "def foo():\n",
    "    a = (\"\"\"hello\n",
    "world\n",
    "\"\"\")\n",
    "    return a\n",
    "    "
   ]
  },
  {
   "cell_type": "code",
   "execution_count": 13,
   "metadata": {},
   "outputs": [
    {
     "name": "stdout",
     "output_type": "stream",
     "text": [
      "hello\n",
      "world\n",
      "\n"
     ]
    }
   ],
   "source": [
    "print(foo())"
   ]
  },
  {
   "cell_type": "code",
   "execution_count": 26,
   "metadata": {},
   "outputs": [],
   "source": [
    "qt = QTable([[1,2,3,4,5], ['1s','2s','2p','2p','3s'], 5*[''], 5*[2], ['S', 'S', 'P', 'P', 'S'],\n",
    "             [0.5, 0.5, 0.5, 1.5, 0.5], [0, 82258.956, 82258.921, 82259.287, 97492.224],\n",
    "             [0.000, 82303.000, 82303.000, 82303.000, 97544.000]],\n",
    "            names=fiasco.io.sources.ion_sources.ElvlcParser.headings,\n",
    "            meta={'element':'h','ion':'h_1',\n",
    "                  'footer': \"filename: h_1.elvlc\\nobserved energy levels: Fuhr et al, 1999, NIST Atomic Spectra Database Version 2.0\\nproduced as part of the Arcetri/Cambridge/NRL 'CHIANTI' atomic data base collaboration\\nKen Dere  May 3 2001\"})\n",
    "for h,unit in zip(fiasco.io.sources.ElvlcParser.headings,fiasco.io.sources.ElvlcParser.units):\n",
    "    qt[h].unit = unit"
   ]
  },
  {
   "cell_type": "code",
   "execution_count": 39,
   "metadata": {},
   "outputs": [
    {
     "data": {
      "text/html": [
       "&lt;QTable length=5&gt;\n",
       "<table id=\"table4481882040\" class=\"table-striped table-bordered table-condensed\">\n",
       "<thead><tr><th>level</th><th>config</th><th>label</th><th>multiplicity</th><th>L_label</th><th>J</th><th>E_obs</th><th>E_th</th></tr></thead>\n",
       "<thead><tr><th></th><th></th><th></th><th></th><th></th><th></th><th>1 / cm</th><th>1 / cm</th></tr></thead>\n",
       "<thead><tr><th>int64</th><th>str2</th><th>str1</th><th>float64</th><th>str1</th><th>float64</th><th>float64</th><th>float64</th></tr></thead>\n",
       "<tr><td>1</td><td>1s</td><td></td><td>2.0</td><td>S</td><td>0.5</td><td>0.0</td><td>0.0</td></tr>\n",
       "<tr><td>2</td><td>2s</td><td></td><td>2.0</td><td>S</td><td>0.5</td><td>82258.956</td><td>82303.0</td></tr>\n",
       "<tr><td>3</td><td>2p</td><td></td><td>2.0</td><td>P</td><td>0.5</td><td>82258.921</td><td>82303.0</td></tr>\n",
       "<tr><td>4</td><td>2p</td><td></td><td>2.0</td><td>P</td><td>1.5</td><td>82259.287</td><td>82303.0</td></tr>\n",
       "<tr><td>5</td><td>3s</td><td></td><td>2.0</td><td>S</td><td>0.5</td><td>97492.224</td><td>97544.0</td></tr>\n",
       "</table>"
      ],
      "text/plain": [
       "<QTable length=5>\n",
       "level config label multiplicity L_label    J      E_obs     E_th \n",
       "                                                  1 / cm   1 / cm\n",
       "int64  str2   str1   float64      str1  float64  float64  float64\n",
       "----- ------ ----- ------------ ------- ------- --------- -------\n",
       "    1     1s                2.0       S     0.5       0.0     0.0\n",
       "    2     2s                2.0       S     0.5 82258.956 82303.0\n",
       "    3     2p                2.0       P     0.5 82258.921 82303.0\n",
       "    4     2p                2.0       P     1.5 82259.287 82303.0\n",
       "    5     3s                2.0       S     0.5 97492.224 97544.0"
      ]
     },
     "execution_count": 39,
     "metadata": {},
     "output_type": "execute_result"
    }
   ],
   "source": [
    "qt"
   ]
  },
  {
   "cell_type": "code",
   "execution_count": 47,
   "metadata": {},
   "outputs": [],
   "source": [
    "for c in qt.colnames:\n",
    "    assert all(fiasco.io.Parser('h_1.elvlc').parse()[c][:5] == qt[c])"
   ]
  },
  {
   "cell_type": "code",
   "execution_count": 30,
   "metadata": {},
   "outputs": [],
   "source": [
    "tmp = py.path.local.get_temproot()"
   ]
  },
  {
   "cell_type": "code",
   "execution_count": 31,
   "metadata": {},
   "outputs": [],
   "source": [
    "foo = tmp.mkdir('foo').join('bar.txt')"
   ]
  },
  {
   "cell_type": "code",
   "execution_count": 32,
   "metadata": {},
   "outputs": [
    {
     "data": {
      "text/plain": [
       "'/var/folders/wz/hhl6rk5s76bfmczhttkt8vbr0000gn/T/foo'"
      ]
     },
     "execution_count": 32,
     "metadata": {},
     "output_type": "execute_result"
    }
   ],
   "source": [
    "foo.dirname"
   ]
  },
  {
   "cell_type": "code",
   "execution_count": 33,
   "metadata": {},
   "outputs": [
    {
     "data": {
      "text/plain": [
       "'bar.txt'"
      ]
     },
     "execution_count": 33,
     "metadata": {},
     "output_type": "execute_result"
    }
   ],
   "source": [
    "foo.basename"
   ]
  },
  {
   "cell_type": "code",
   "execution_count": 37,
   "metadata": {},
   "outputs": [
    {
     "ename": "AssertionError",
     "evalue": "",
     "output_type": "error",
     "traceback": [
      "\u001b[0;31m---------------------------------------------------------------------------\u001b[0m",
      "\u001b[0;31mAssertionError\u001b[0m                            Traceback (most recent call last)",
      "\u001b[0;32m<ipython-input-37-08d5d9f45deb>\u001b[0m in \u001b[0;36m<module>\u001b[0;34m()\u001b[0m\n\u001b[1;32m      1\u001b[0m \u001b[0mfoo\u001b[0m \u001b[0;34m=\u001b[0m \u001b[0;34m{\u001b[0m\u001b[0;34m'a'\u001b[0m\u001b[0;34m:\u001b[0m\u001b[0;36m1\u001b[0m\u001b[0;34m,\u001b[0m\u001b[0;34m'b'\u001b[0m\u001b[0;34m:\u001b[0m\u001b[0;36m2\u001b[0m\u001b[0;34m,\u001b[0m \u001b[0;34m'c'\u001b[0m\u001b[0;34m:\u001b[0m\u001b[0;36m3\u001b[0m\u001b[0;34m}\u001b[0m\u001b[0;34m\u001b[0m\u001b[0m\n\u001b[0;32m----> 2\u001b[0;31m \u001b[0;32massert\u001b[0m \u001b[0mall\u001b[0m\u001b[0;34m(\u001b[0m\u001b[0;34m(\u001b[0m\u001b[0mx\u001b[0m \u001b[0;32min\u001b[0m \u001b[0mfoo\u001b[0m \u001b[0;32mfor\u001b[0m \u001b[0mx\u001b[0m \u001b[0;32min\u001b[0m \u001b[0;34m(\u001b[0m\u001b[0;34m'a'\u001b[0m\u001b[0;34m,\u001b[0m\u001b[0;34m'b'\u001b[0m\u001b[0;34m,\u001b[0m\u001b[0;34m'c'\u001b[0m\u001b[0;34m,\u001b[0m\u001b[0;34m'd'\u001b[0m\u001b[0;34m)\u001b[0m\u001b[0;34m)\u001b[0m\u001b[0;34m)\u001b[0m\u001b[0;34m\u001b[0m\u001b[0m\n\u001b[0m",
      "\u001b[0;31mAssertionError\u001b[0m: "
     ]
    }
   ],
   "source": [
    "foo = {'a':1,'b':2, 'c':3}\n",
    "assert all((x in foo for x in ('a','b','c','d')))"
   ]
  },
  {
   "cell_type": "code",
   "execution_count": null,
   "metadata": {},
   "outputs": [],
   "source": []
  }
 ],
 "metadata": {
  "kernelspec": {
   "display_name": "Python [conda env:fiasco]",
   "language": "python",
   "name": "conda-env-fiasco-py"
  },
  "language_info": {
   "codemirror_mode": {
    "name": "ipython",
    "version": 3
   },
   "file_extension": ".py",
   "mimetype": "text/x-python",
   "name": "python",
   "nbconvert_exporter": "python",
   "pygments_lexer": "ipython3",
   "version": "3.6.2"
  }
 },
 "nbformat": 4,
 "nbformat_minor": 2
}
