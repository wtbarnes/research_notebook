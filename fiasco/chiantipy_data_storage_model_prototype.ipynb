{
 "cells": [
  {
   "cell_type": "markdown",
   "metadata": {},
   "source": [
    "# Prototyping a Data Storage Model for ChiantiPy"
   ]
  },
  {
   "cell_type": "code",
   "execution_count": 1,
   "metadata": {
    "collapsed": false
   },
   "outputs": [],
   "source": [
    "import os\n",
    "\n",
    "import numpy as np\n",
    "import pandas\n",
    "import matplotlib.pyplot as plt\n",
    "import h5py\n",
    "import astropy.units as u\n",
    "#import ChiantiPy.tools.util as ch_util\n",
    "#import ChiantiPy.tools.io as ch_io\n",
    "#import ChiantiPy.core as ch\n",
    "import fiasco.io\n",
    "import fiasco\n",
    "\n",
    "%matplotlib inline"
   ]
  },
  {
   "cell_type": "markdown",
   "metadata": {},
   "source": [
    "## Data Access Model"
   ]
  },
  {
   "cell_type": "markdown",
   "metadata": {},
   "source": [
    "CHIANTI has several file formats that it stores for each ion. The most notable are,\n",
    "\n",
    "* `.elvlc`: energy levels (in cm$^{-1}$) with additional level configuration\n",
    "* `.wgfa`: wavelengths, oscillator strengths, and Einstein A coefficients for the transitions\n",
    "* `.scups`: temperatures and effective collision strenghts for each transition. Replaces the old `.splups` files. There are also still `.psplups` files\n",
    "* Additional files:\n",
    "  * `.fblvl`: information for calculating free-bound continuum\n",
    "  * `.cilvl`, `.reclvl`: ionization and recombination rates\n",
    "\n",
    "Essentially, we want to have a property for each of these files. Each of these properties returns an object with a `__getitem__` method that takes in the keys associated with each of these files. These objects return the relevant data streamed out of the HDF5 file.\n",
    "\n",
    "Ideally, this file would be built once the first time you download ChiantiPy and then only rebuilt when your installed CHIANTI database gets updated. The filename is then stored at the package level. We'll use our CHIANTI database HDF5 file that we've been using in `synthesizAR`."
   ]
  },
  {
   "cell_type": "code",
   "execution_count": 2,
   "metadata": {
    "collapsed": true
   },
   "outputs": [],
   "source": [
    "test = fiasco.IonBase('fe_9')"
   ]
  },
  {
   "cell_type": "code",
   "execution_count": 8,
   "metadata": {
    "collapsed": false
   },
   "outputs": [
    {
     "data": {
      "text/plain": [
       "fe/fe_9/wgfa\n",
       "        \n",
       "Fields\n",
       "------\n",
       "lower level index  -- desc.\n",
       "lower level label  -- desc.\n",
       "oscillator strength  -- desc.\n",
       "radiative decay rate (1 / s) -- desc.\n",
       "transition wavelength (Angstrom) -- desc.\n",
       "upper level index  -- desc.\n",
       "upper level label  -- desc.\n",
       "\n",
       "Footer\n",
       "------\n",
       "\n",
       "Theoretical energies, gf and A-values:\n",
       "\n",
       "Del Zanna, G., Storey, P. J., Badnell, N. R., Mason, H. E., 2014, A&A, 565, A77\n",
       "DOI: 10.1051/0004-6361/201323297\n",
       "\n",
       "Note: the the theoretical energies are the 'best energies', i.e. \n",
       "are the empirically-adjusted theoretical energies.\n",
       "\n",
       "n=6 levels (above level no.865):\n",
       "O'Dwyer, B., Del Zanna, G., Badnell, N.R., Mason, H. E.,Storey, P.J.,\n",
       "2012, A&A, 537, A22\n",
       "\n",
       "\n",
       "Produced for the CHIANTI database v.8 by G. Del Zanna 26 June 2014\n",
       "\n",
       "\n",
       " -1\n",
       "\n",
       "        "
      ]
     },
     "execution_count": 8,
     "metadata": {},
     "output_type": "execute_result"
    }
   ],
   "source": [
    "test.wgfa"
   ]
  },
  {
   "cell_type": "markdown",
   "metadata": {},
   "source": [
    "## Ion Base Sandbox"
   ]
  },
  {
   "cell_type": "code",
   "execution_count": null,
   "metadata": {
    "collapsed": true
   },
   "outputs": [],
   "source": [
    "chianti_hdf5_filename = '/Users/willbarnes/.fiasco/chianti_dbase.h5'"
   ]
  },
  {
   "cell_type": "code",
   "execution_count": null,
   "metadata": {
    "collapsed": false
   },
   "outputs": [],
   "source": [
    "class DataIndexer(object):\n",
    "    \n",
    "    def __init__(self,top_level_path):\n",
    "        self.top_level_path = top_level_path\n",
    "    \n",
    "    def __getitem__(self,key):\n",
    "        with h5py.File(chianti_hdf5_filename,'r') as hf:\n",
    "            grp = hf[self.top_level_path]\n",
    "            if key not in grp:\n",
    "                raise IndexError('{} not a valid dataset for {}'.format(key,self.top_level_path))\n",
    "            ds = grp[key]\n",
    "            if ds.attrs['unit'] == 'SKIP':\n",
    "                data = np.array(ds,dtype=ds.dtype)\n",
    "            else:\n",
    "                data = u.Quantity(ds,ds.attrs['unit'],dtype=ds.dtype)\n",
    "            if '|S' in data.dtype.str:\n",
    "                data = data.astype(str)\n",
    "        return data\n",
    "    \n",
    "    def __repr__(self):\n",
    "        with h5py.File(chianti_hdf5_filename,'r') as hf:\n",
    "            grp = hf[self.top_level_path]\n",
    "            var_names = [(key,'')\n",
    "                         if grp[key].attrs['unit']=='SKIP' or grp[key].attrs['unit']==''\n",
    "                         else (key,'({})'.format(grp[key].attrs['unit'])) \n",
    "                         for key in grp]\n",
    "            footer = grp.attrs['footer']\n",
    "            \n",
    "        name_strs = '\\n'.join(['{} {} -- desc.'.format(v[0],v[1]) for v in var_names])\n",
    "        return '''{top_level_path}\n",
    "        \n",
    "Fields\n",
    "------\n",
    "{vars_and_units}\n",
    "\n",
    "Footer\n",
    "------\n",
    "{footer}\n",
    "        '''.format(top_level_path=self.top_level_path,vars_and_units=name_strs,footer=footer)\n",
    "    "
   ]
  },
  {
   "cell_type": "code",
   "execution_count": null,
   "metadata": {
    "collapsed": true
   },
   "outputs": [],
   "source": [
    "def all_subclasses(cls):\n",
    "    return cls.__subclasses__() + [g for s in cls.__subclasses__() for g in all_subclasses(s)]"
   ]
  },
  {
   "cell_type": "code",
   "execution_count": null,
   "metadata": {
    "collapsed": false
   },
   "outputs": [],
   "source": [
    "all_ext = [cls.filetype for cls in all_subclasses(fiasco.io.GenericParser) \n",
    "           if hasattr(cls,'filetype') and cls.filetype not in ['abund','ip']]"
   ]
  },
  {
   "cell_type": "code",
   "execution_count": null,
   "metadata": {
    "collapsed": false
   },
   "outputs": [],
   "source": [
    "class IonBase(object):\n",
    "    \n",
    "    def __init__(self,ion_name):\n",
    "        self.ion_name = ion_name\n",
    "        self.element = ion_name.split('_')[0]\n",
    "        #self.Z = ch_util.el2z(self.element)\n",
    "        self.stage = ion_name.split('_')[-1]\n",
    "        \n",
    "    @property\n",
    "    def abundance(self):\n",
    "        return DataIndexer('/'.join([self.element,'abundance']))\n",
    "    \n",
    "    @property\n",
    "    def ionization_potential(self):\n",
    "        return DataIndexer('/'.join([self.element,'ionization_potential']))\n",
    "        \n",
    "def add_property(cls,filetype):\n",
    "    def property_template(self):\n",
    "        return DataIndexer('/'.join([self.element,self.ion_name,filetype]))\n",
    "    property_template.__doc__ = 'Data in {} type file'.format(filetype)\n",
    "    property_template.__name__ = filetype\n",
    "    setattr(cls,property_template.__name__,property(property_template))\n",
    "    \n",
    "for filetype in all_ext:\n",
    "    add_property(IonBase,filetype)\n",
    "    "
   ]
  },
  {
   "cell_type": "markdown",
   "metadata": {},
   "source": [
    "This is specifically for an ion. We could also implement an even more generic class for the other non-ion-specific datasets, e.g. abundance, ionization potential, miscellaneous continuum data. \n",
    "\n",
    "Alternatively, when the CHIANTI HDF5 database is created, these could just be broken up by ion appropriately. This would work except for the continuum data which is maybe a special case anyway. \n",
    "\n",
    "Basically, we just want to avoid having to index things over and over again. Better to just refer to it by the ion name.\n",
    "\n",
    "Since this kind of data is used in quite a few places, we could provide it as a generic object. This also makes the CHIANTI data easily accessible without the baggage of the ion object if users want to extend it in anyway."
   ]
  },
  {
   "cell_type": "markdown",
   "metadata": {
    "collapsed": true
   },
   "source": [
    "## Dynamic Method Creation"
   ]
  },
  {
   "cell_type": "code",
   "execution_count": null,
   "metadata": {
    "collapsed": true
   },
   "outputs": [],
   "source": [
    "class FooBar(object):\n",
    "    def __init__(self,a):\n",
    "        self.a = a"
   ]
  },
  {
   "cell_type": "code",
   "execution_count": null,
   "metadata": {
    "collapsed": true
   },
   "outputs": [],
   "source": [
    "def add_method(cls,i):\n",
    "    def method_template(self):\n",
    "        return 'Method {} with a = {}'.format(i,self.a)\n",
    "    method_template.__doc__ = 'docstring for method {}'.format(i)\n",
    "    method_template.__name__ = 'method{}'.format(i)\n",
    "    setattr(cls,method_template.__name__,property(method_template))"
   ]
  },
  {
   "cell_type": "code",
   "execution_count": null,
   "metadata": {
    "collapsed": true
   },
   "outputs": [],
   "source": [
    "for i in range(10):\n",
    "    add_method(FooBar,i)"
   ]
  },
  {
   "cell_type": "code",
   "execution_count": null,
   "metadata": {
    "collapsed": true
   },
   "outputs": [],
   "source": [
    "f = FooBar('HelloWorld')"
   ]
  },
  {
   "cell_type": "code",
   "execution_count": null,
   "metadata": {
    "collapsed": false
   },
   "outputs": [],
   "source": [
    "print(f.method0)"
   ]
  },
  {
   "cell_type": "code",
   "execution_count": null,
   "metadata": {
    "collapsed": false
   },
   "outputs": [],
   "source": [
    "f.method9"
   ]
  },
  {
   "cell_type": "code",
   "execution_count": null,
   "metadata": {
    "collapsed": true
   },
   "outputs": [],
   "source": [
    "class Foo(object):\n",
    "    a = 1\n",
    "    b = 2"
   ]
  },
  {
   "cell_type": "code",
   "execution_count": null,
   "metadata": {
    "collapsed": false
   },
   "outputs": [],
   "source": [
    "Foo.b"
   ]
  },
  {
   "cell_type": "code",
   "execution_count": null,
   "metadata": {
    "collapsed": false
   },
   "outputs": [],
   "source": [
    "hasattr(Foo,'c')"
   ]
  },
  {
   "cell_type": "code",
   "execution_count": null,
   "metadata": {
    "collapsed": true
   },
   "outputs": [],
   "source": []
  }
 ],
 "metadata": {
  "anaconda-cloud": {},
  "kernelspec": {
   "display_name": "Python [conda env:fiasco]",
   "language": "python",
   "name": "conda-env-fiasco-py"
  },
  "language_info": {
   "codemirror_mode": {
    "name": "ipython",
    "version": 3
   },
   "file_extension": ".py",
   "mimetype": "text/x-python",
   "name": "python",
   "nbconvert_exporter": "python",
   "pygments_lexer": "ipython3",
   "version": "3.6.2"
  }
 },
 "nbformat": 4,
 "nbformat_minor": 2
}
