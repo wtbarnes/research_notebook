{
 "cells": [
  {
   "cell_type": "markdown",
   "metadata": {},
   "source": [
    "# *fiasco*: Testing the Package--Write Tests\n",
    "Test the packages ability to build up a single-file HDF5 database from the dataframes that were parsed from the files."
   ]
  },
  {
   "cell_type": "code",
   "execution_count": 1,
   "metadata": {
    "collapsed": false
   },
   "outputs": [],
   "source": [
    "import os\n",
    "import warnings\n",
    "import h5py\n",
    "import numpy as np\n",
    "#import pandas\n",
    "import astropy.units as u\n",
    "import astropy.constants as const\n",
    "from astropy.table import Column,Table\n",
    "from astropy.utils.console import ProgressBar\n",
    "import fiasco.io\n",
    "import fiasco\n",
    "import matplotlib.pyplot as plt\n",
    "import seaborn as sns\n",
    "import fortranformat\n",
    "import periodictable\n",
    "\n",
    "%matplotlib inline"
   ]
  },
  {
   "cell_type": "code",
   "execution_count": 2,
   "metadata": {
    "collapsed": true
   },
   "outputs": [],
   "source": [
    "skip_dirs = ['abundance','ip','ancillary_data','continuum','dem','ioneq','masterlist']\n",
    "all_files = []\n",
    "for topdir,subdir,files in os.walk(fiasco.defaults['chianti_dbase_root']):\n",
    "    if np.any([sd in topdir for sd in skip_dirs]):\n",
    "        continue\n",
    "    if topdir == fiasco.defaults['chianti_dbase_root']:\n",
    "        continue\n",
    "    files = [file for file in files if file[0] != '.']\n",
    "    all_files += files"
   ]
  },
  {
   "cell_type": "code",
   "execution_count": 3,
   "metadata": {
    "collapsed": true
   },
   "outputs": [],
   "source": [
    "abund_files = [file for file in os.listdir(os.path.join(fiasco.defaults['chianti_dbase_root'],'abundance')) \n",
    "               if file[0]!='.' and os.path.isfile(os.path.join(fiasco.defaults['chianti_dbase_root'],'abundance',file))]\n",
    "abund_files += [os.path.join('version_3',file) for file in os.listdir(os.path.join(fiasco.defaults['chianti_dbase_root'],'abundance','version_3'))\n",
    "                if file[0]!='.']"
   ]
  },
  {
   "cell_type": "code",
   "execution_count": 4,
   "metadata": {
    "collapsed": true
   },
   "outputs": [],
   "source": [
    "ioneq_files = [file for file in os.listdir(os.path.join(fiasco.defaults['chianti_dbase_root'],'ioneq')) \n",
    "               if file[0]!='.' and os.path.isfile(os.path.join(fiasco.defaults['chianti_dbase_root'],'ioneq',file))]\n",
    "ioneq_files += [os.path.join('deprecated',file) for file in os.listdir(os.path.join(fiasco.defaults['chianti_dbase_root'],'ioneq','deprecated'))\n",
    "                if file[0]!='.']"
   ]
  },
  {
   "cell_type": "code",
   "execution_count": null,
   "metadata": {
    "collapsed": true
   },
   "outputs": [],
   "source": [
    "ip_files = ['chianti.ip']"
   ]
  },
  {
   "cell_type": "code",
   "execution_count": null,
   "metadata": {
    "collapsed": true
   },
   "outputs": [],
   "source": [
    "all_files += abund_files + ioneq_files + ip_files"
   ]
  },
  {
   "cell_type": "markdown",
   "metadata": {},
   "source": [
    "How to handle these few corner cases where the filename+extension pattern is not followed? Do these files even matter that much? "
   ]
  },
  {
   "cell_type": "code",
   "execution_count": null,
   "metadata": {
    "collapsed": false
   },
   "outputs": [],
   "source": [
    "all_files = [af for af in all_files if '_all.' not in af and len(af.split('.'))==2]"
   ]
  },
  {
   "cell_type": "code",
   "execution_count": null,
   "metadata": {
    "collapsed": false,
    "scrolled": true
   },
   "outputs": [],
   "source": [
    "with ProgressBar(len(all_files),ipython_widget=True,) as progress:\n",
    "    with h5py.File(fiasco.defaults['chianti_hdf5_dbase_root'],'a') as hf:\n",
    "        for file in all_files:\n",
    "            parser = fiasco.io.Parser(file)\n",
    "            try:\n",
    "                df = parser.parse()\n",
    "            except NotImplementedError:\n",
    "                print('Parser for {} not implemented'.format(file))\n",
    "                continue\n",
    "            parser.to_hdf5(hf,df)\n",
    "            progress.update()"
   ]
  },
  {
   "cell_type": "markdown",
   "metadata": {},
   "source": [
    "Create group from filetype name.\n",
    "\n",
    "Create dataset for each column in the group."
   ]
  },
  {
   "cell_type": "markdown",
   "metadata": {},
   "source": [
    "## Ion Filetypes\n",
    "These should all work as is with the default HDF5 writer. Just go through and print them to the HDF5 database or do it all at once."
   ]
  },
  {
   "cell_type": "code",
   "execution_count": null,
   "metadata": {
    "collapsed": true
   },
   "outputs": [],
   "source": [
    "elvlc_files = [file for file in all_files if os.path.splitext(file)[1] == '.elvlc']"
   ]
  },
  {
   "cell_type": "code",
   "execution_count": null,
   "metadata": {
    "collapsed": false
   },
   "outputs": [],
   "source": [
    "with ProgressBar(len(elvlc_files),ipython_widget=True,) as progress:\n",
    "    with h5py.File('/Users/willbarnes/.fiasco/chianti_dbase.h5','a') as hf:\n",
    "        for file in elvlc_files:\n",
    "            parser = fiasco.io.Parser(file)\n",
    "            df = parser.parse()\n",
    "            parser.to_hdf5(hf,df)\n",
    "            progress.update()"
   ]
  },
  {
   "cell_type": "code",
   "execution_count": null,
   "metadata": {
    "collapsed": true
   },
   "outputs": [],
   "source": [
    "wgfa_files = [file for file in all_files if os.path.splitext(file)[1] == '.wgfa']"
   ]
  },
  {
   "cell_type": "code",
   "execution_count": null,
   "metadata": {
    "collapsed": false
   },
   "outputs": [],
   "source": [
    "with ProgressBar(len(wgfa_files),ipython_widget=True,) as progress:\n",
    "    with h5py.File('/Users/willbarnes/.fiasco/chianti_dbase.h5','a') as hf:\n",
    "        for file in wgfa_files:\n",
    "            parser = fiasco.io.Parser(file)\n",
    "            df = parser.parse()\n",
    "            parser.to_hdf5(hf,df)\n",
    "            progress.update()"
   ]
  },
  {
   "cell_type": "code",
   "execution_count": null,
   "metadata": {
    "collapsed": true
   },
   "outputs": [],
   "source": [
    "psplups_files = [file for file in all_files if os.path.splitext(file)[1] == '.psplups']"
   ]
  },
  {
   "cell_type": "code",
   "execution_count": null,
   "metadata": {
    "collapsed": false
   },
   "outputs": [],
   "source": [
    "with ProgressBar(len(psplups_files),ipython_widget=True,) as progress:\n",
    "    with h5py.File('/Users/willbarnes/.fiasco/chianti_dbase.h5','a') as hf:\n",
    "        for file in psplups_files:\n",
    "            parser = fiasco.io.Parser(file)\n",
    "            df = parser.parse()\n",
    "            parser.to_hdf5(hf,df)\n",
    "            progress.update()"
   ]
  },
  {
   "cell_type": "code",
   "execution_count": null,
   "metadata": {
    "collapsed": true
   },
   "outputs": [],
   "source": [
    "scups_files = [file for file in all_files if os.path.splitext(file)[1] == '.scups']"
   ]
  },
  {
   "cell_type": "code",
   "execution_count": null,
   "metadata": {
    "collapsed": false
   },
   "outputs": [],
   "source": [
    "with ProgressBar(len(scups_files),ipython_widget=True,) as progress:\n",
    "    #with h5py.File('/Users/willbarnes/.fiasco/chianti_dbase.h5','a') as hf:\n",
    "    for file in scups_files:\n",
    "        parser = fiasco.io.Parser(file)\n",
    "        df = parser.parse()\n",
    "        if df is None:\n",
    "            print(file)\n",
    "        #parser.to_hdf5(hf,df)\n",
    "        progress.update()"
   ]
  },
  {
   "cell_type": "markdown",
   "metadata": {},
   "source": [
    "### Sandbox"
   ]
  },
  {
   "cell_type": "code",
   "execution_count": null,
   "metadata": {
    "collapsed": true
   },
   "outputs": [],
   "source": [
    "parser = fiasco.io.Parser(scups_files[0])\n",
    "df = parser.parse()"
   ]
  },
  {
   "cell_type": "code",
   "execution_count": null,
   "metadata": {
    "collapsed": false
   },
   "outputs": [],
   "source": [
    "df"
   ]
  },
  {
   "cell_type": "code",
   "execution_count": null,
   "metadata": {
    "collapsed": false
   },
   "outputs": [],
   "source": [
    "df['Burgess-Tully scaled effective collision strengths'][0].dtype"
   ]
  },
  {
   "cell_type": "code",
   "execution_count": null,
   "metadata": {
    "collapsed": false,
    "scrolled": true
   },
   "outputs": [],
   "source": [
    "for cn in df.colnames:\n",
    "    col = df[cn]\n",
    "    print(cn)\n",
    "    if type(col) == u.Quantity:\n",
    "        col = df[cn].value\n",
    "    else:\n",
    "        col = df[cn].data\n",
    "    for i,row in enumerate(col):\n",
    "        if row.dtype == np.dtype('O'):\n",
    "            col[i] = col[i].astype(np.dtype('float64'))\n",
    "            print(col[i].dtype)\n",
    "    if col.dtype == np.dtype('O'):\n",
    "        print([r.dtype for r in col])"
   ]
  },
  {
   "cell_type": "code",
   "execution_count": null,
   "metadata": {
    "collapsed": true
   },
   "outputs": [],
   "source": [
    "tab = Table([[1,2,3],\n",
    "             [4,5,6],\n",
    "             np.array([np.random.rand(10),np.random.rand(3),np.random.rand(10)]),\n",
    "             np.array([np.random.rand(7),np.random.rand(7),np.random.rand(7)])])"
   ]
  },
  {
   "cell_type": "code",
   "execution_count": null,
   "metadata": {
    "collapsed": true
   },
   "outputs": [],
   "source": [
    "tab = df"
   ]
  },
  {
   "cell_type": "code",
   "execution_count": null,
   "metadata": {
    "collapsed": false
   },
   "outputs": [],
   "source": [
    "tab"
   ]
  },
  {
   "cell_type": "code",
   "execution_count": null,
   "metadata": {
    "collapsed": false
   },
   "outputs": [],
   "source": [
    "for cn in tab.colnames:\n",
    "    all_equal = np.all(np.array([r.size for r in tab[cn]]) == tab[cn][0].size)\n",
    "    if tab[cn].dtype == np.dtype('O') and all_equal:\n",
    "        tab[cn] = tab[cn].astype(np.dtype('float64'))"
   ]
  },
  {
   "cell_type": "code",
   "execution_count": null,
   "metadata": {
    "collapsed": false
   },
   "outputs": [],
   "source": [
    "tab['Burgess-Tully scaled temperatures'].data[0].dtype"
   ]
  },
  {
   "cell_type": "code",
   "execution_count": null,
   "metadata": {
    "collapsed": false
   },
   "outputs": [],
   "source": [
    "tab['col2'][1]"
   ]
  },
  {
   "cell_type": "markdown",
   "metadata": {},
   "source": [
    "## Non-ion Filetypes"
   ]
  },
  {
   "cell_type": "markdown",
   "metadata": {},
   "source": [
    "TODO: implement HDF5 writers for the non-ion filetypes:\n",
    "\n",
    "- ~~abundance~~\n",
    "- ioneq\n",
    "- ~~ionization potential~~"
   ]
  },
  {
   "cell_type": "markdown",
   "metadata": {},
   "source": [
    "### Abundance"
   ]
  },
  {
   "cell_type": "code",
   "execution_count": null,
   "metadata": {
    "collapsed": false
   },
   "outputs": [],
   "source": [
    "abund_files = [file for file in os.listdir(os.path.join(fiasco.defaults['chianti_dbase_root'],'abundance')) \n",
    "               if file[0]!='.' and os.path.isfile(os.path.join(fiasco.defaults['chianti_dbase_root'],'abundance',file))]\n",
    "abund_files += [os.path.join('version_3',file) for file in os.listdir(os.path.join(fiasco.defaults['chianti_dbase_root'],'abundance','version_3'))\n",
    "                if file[0]!='.']"
   ]
  },
  {
   "cell_type": "code",
   "execution_count": null,
   "metadata": {
    "collapsed": false
   },
   "outputs": [],
   "source": [
    "with ProgressBar(len(abund_files),ipython_widget=True,) as progress:\n",
    "    with h5py.File(fiasco.defaults['chianti_hdf5_dbase_root'],'a') as hf:\n",
    "        for file in abund_files:\n",
    "            parser = fiasco.io.Parser(file)\n",
    "            df = parser.parse()\n",
    "            parser.to_hdf5(hf,df)\n",
    "            progress.update()"
   ]
  },
  {
   "cell_type": "markdown",
   "metadata": {},
   "source": [
    "### Ionization Equilibrium"
   ]
  },
  {
   "cell_type": "code",
   "execution_count": null,
   "metadata": {
    "collapsed": true
   },
   "outputs": [],
   "source": [
    "ioneq_files = [file for file in os.listdir(os.path.join(fiasco.defaults['chianti_dbase_root'],'ioneq')) \n",
    "               if file[0]!='.' and os.path.isfile(os.path.join(fiasco.defaults['chianti_dbase_root'],'ioneq',file))]\n",
    "ioneq_files += [os.path.join('deprecated',file) for file in os.listdir(os.path.join(fiasco.defaults['chianti_dbase_root'],'ioneq','deprecated'))\n",
    "                if file[0]!='.']"
   ]
  },
  {
   "cell_type": "code",
   "execution_count": null,
   "metadata": {
    "collapsed": false
   },
   "outputs": [],
   "source": [
    "with ProgressBar(len(ioneq_files),ipython_widget=True,) as progress:\n",
    "    with h5py.File(fiasco.defaults['chianti_hdf5_dbase_root'],'a') as hf:\n",
    "        for file in ioneq_files:\n",
    "            parser = fiasco.io.Parser(file)\n",
    "            df = parser.parse()\n",
    "            parser.to_hdf5(hf,df)\n",
    "            progress.update()"
   ]
  },
  {
   "cell_type": "markdown",
   "metadata": {},
   "source": [
    "### Ionization Potential"
   ]
  },
  {
   "cell_type": "code",
   "execution_count": null,
   "metadata": {
    "collapsed": false
   },
   "outputs": [],
   "source": [
    "with h5py.File(fiasco.defaults['chianti_hdf5_dbase_root'],'a') as hf:\n",
    "    parser = fiasco.io.Parser('chianti.ip')\n",
    "    df = parser.parse()\n",
    "    parser.to_hdf5(hf,df)\n"
   ]
  },
  {
   "cell_type": "markdown",
   "metadata": {},
   "source": [
    "## Access Tests Sandbox"
   ]
  },
  {
   "cell_type": "code",
   "execution_count": 5,
   "metadata": {
    "collapsed": true
   },
   "outputs": [],
   "source": [
    "test = fiasco.IonBase('h_1')"
   ]
  },
  {
   "cell_type": "code",
   "execution_count": 6,
   "metadata": {
    "collapsed": false
   },
   "outputs": [
    {
     "data": {
      "text/plain": [
       "h/h_1/elvlc\n",
       "        \n",
       "Fields\n",
       "------\n",
       "configuration  -- [description]\n",
       "level index  -- [description]\n",
       "level label  -- [description]\n",
       "multiplicity  -- [description]\n",
       "observed energy (1 / cm) -- [description]\n",
       "orbital angular momentum  -- [description]\n",
       "theoretical energy (1 / cm) -- [description]\n",
       "total angular momentum  -- [description]\n",
       "\n",
       "Footer\n",
       "------\n",
       "%filename: h_1.elvlc\n",
       "%observed energy levels: Fuhr et al, 1999, NIST Atomic Spectra Database Version 2.0\n",
       "%produced as part of the Arcetri/Cambridge/NRL 'CHIANTI' atomic data base collaboration\n",
       "%\n",
       "%  Ken Dere  May 3 2001\n",
       "\n",
       "        "
      ]
     },
     "execution_count": 6,
     "metadata": {},
     "output_type": "execute_result"
    }
   ],
   "source": [
    "test.elvlc"
   ]
  },
  {
   "cell_type": "code",
   "execution_count": 7,
   "metadata": {
    "collapsed": false
   },
   "outputs": [
    {
     "data": {
      "text/plain": [
       "h/h_1/wgfa\n",
       "        \n",
       "Fields\n",
       "------\n",
       "lower level index  -- [description]\n",
       "lower level label  -- [description]\n",
       "oscillator strength  -- [description]\n",
       "radiative decay rate (1 / s) -- [description]\n",
       "transition wavelength (Angstrom) -- [description]\n",
       "upper level index  -- [description]\n",
       "upper level label  -- [description]\n",
       "\n",
       "Footer\n",
       "------\n",
       "%filename: h_1.wgfa\n",
       "% observed energy levels: Fuhr et al, 1999, NIST Atomic Spectra Database Version 2.0,\n",
       "%oscillator strengths: Wiese,W.L., Smith,M.W., Glennon,B.M., 1966, Atomic Transition Probabilities, NSRDS-NBS-4\n",
       "% A values (1s-2s): Parpia,F.A., Johnson,W.R., 1982, Phys.Rev.A, 26, 1142.\n",
       "%comment: Wavelengths have been calculated the original energy levels from NIST, that include more\n",
       "          decimal figures than allowed by CHIANTI format.\n",
       "%produced as part of the Arcetri/Cambridge/NRL 'CHIANTI' atomic data base collaboration\n",
       "%\n",
       "%  Ken Dere  May 2001\n",
       " -1\n",
       "\n",
       "        "
      ]
     },
     "execution_count": 7,
     "metadata": {},
     "output_type": "execute_result"
    }
   ],
   "source": [
    "test.wgfa"
   ]
  },
  {
   "cell_type": "code",
   "execution_count": 8,
   "metadata": {
    "collapsed": false
   },
   "outputs": [
    {
     "data": {
      "text/latex": [
       "$[[0,~1.355,~2.386,~3.015,~2.598,~1.85]] \\; \\mathrm{}$"
      ],
      "text/plain": [
       "<Quantity [[ 0.   , 1.355, 2.386, 3.015, 2.598, 1.85 ]]>"
      ]
     },
     "execution_count": 8,
     "metadata": {},
     "output_type": "execute_result"
    }
   ],
   "source": [
    "test.diparams['scaled cross-section']"
   ]
  },
  {
   "cell_type": "code",
   "execution_count": 9,
   "metadata": {
    "collapsed": false
   },
   "outputs": [
    {
     "data": {
      "text/latex": [
       "$109678.77 \\; \\mathrm{\\frac{1}{cm}}$"
      ],
      "text/plain": [
       "<Quantity 109678.7737 1 / cm>"
      ]
     },
     "execution_count": 9,
     "metadata": {},
     "output_type": "execute_result"
    }
   ],
   "source": [
    "test.ip['chianti']"
   ]
  },
  {
   "cell_type": "code",
   "execution_count": 13,
   "metadata": {
    "collapsed": false
   },
   "outputs": [
    {
     "data": {
      "text/plain": [
       "h/h_1/ioneq/arnaud_raymond\n",
       "        \n",
       "Fields\n",
       "------\n",
       "ionization fraction  -- [description]\n",
       "temperature (K) -- [description]\n",
       "\n",
       "Footer\n",
       "------\n",
       "%filename: arnaud_raymond.ioneq\n",
       "%ionization equilibrium: Arnaud, M., Rothenflug, R., 1985, AASS, 60, 425\n",
       "%Fe ionization equilibrium: Arnaud, M., Raymond, J.C., 1992, ApJ, 398, 39\n",
       "% produced as part of the Arcetri/Cambridge/NRL 'CHIANTI' atomic data base collaboration\n",
       "%\n",
       "% Enrico Landi Jan 2003\n",
       " -1\n",
       "\n",
       "        "
      ]
     },
     "execution_count": 13,
     "metadata": {},
     "output_type": "execute_result"
    }
   ],
   "source": [
    "test.ioneq['arnaud_raymond']"
   ]
  },
  {
   "cell_type": "code",
   "execution_count": 14,
   "metadata": {
    "collapsed": true
   },
   "outputs": [],
   "source": [
    "iron_ions = ['fe_{}'.format(int(i)) for i in np.linspace(1,26,26)]"
   ]
  },
  {
   "cell_type": "code",
   "execution_count": 15,
   "metadata": {
    "collapsed": false
   },
   "outputs": [
    {
     "data": {
      "image/png": "[encoded data removed]",
      "text/plain": [
       "<matplotlib.figure.Figure at 0x11cd0f898>"
      ]
     },
     "metadata": {},
     "output_type": "display_data"
    }
   ],
   "source": [
    "plt.figure(figsize=(10,6))\n",
    "colors = sns.color_palette('Set2',n_colors=len(iron_ions))\n",
    "for c,fe_ion in zip(colors,iron_ions):\n",
    "    ioneq = fiasco.IonBase(fe_ion).ioneq\n",
    "    plt.plot(ioneq['chianti']['temperature'],ioneq['chianti']['ionization fraction'],color=c)\n",
    "    plt.plot(ioneq['arnaud_raymond']['temperature'],ioneq['arnaud_raymond']['ionization fraction'],ls='--',color=c)\n",
    "plt.xscale('log')\n",
    "plt.ylabel(r'Ionization fraction for Fe ions')\n",
    "plt.xlabel(r'$T$ [K]')\n",
    "#plt.xlim([2e5,2e6])\n",
    "sns.despine(trim=True)"
   ]
  },
  {
   "cell_type": "code",
   "execution_count": null,
   "metadata": {
    "collapsed": true
   },
   "outputs": [],
   "source": []
  }
 ],
 "metadata": {
  "anaconda-cloud": {},
  "kernelspec": {
   "display_name": "Python [conda env:fiasco]",
   "language": "python",
   "name": "conda-env-fiasco-py"
  },
  "language_info": {
   "codemirror_mode": {
    "name": "ipython",
    "version": 3
   },
   "file_extension": ".py",
   "mimetype": "text/x-python",
   "name": "python",
   "nbconvert_exporter": "python",
   "pygments_lexer": "ipython3",
   "version": "3.6.2"
  },
  "widgets": {
   "state": {
    "602704da7ea24f34aed471019eeefef3": {
     "views": [
      {
       "cell_index": 9
      }
     ]
    }
   },
   "version": "1.2.0"
  }
 },
 "nbformat": 4,
 "nbformat_minor": 2
}
