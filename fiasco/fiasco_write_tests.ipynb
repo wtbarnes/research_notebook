{
 "cells": [
  {
   "cell_type": "markdown",
   "metadata": {},
   "source": [
    "# *fiasco*: Testing the Package--Write Tests\n",
    "Test the packages ability to build up a single-file HDF5 database from the dataframes that were parsed from the files."
   ]
  },
  {
   "cell_type": "code",
   "execution_count": 1,
   "metadata": {
    "collapsed": true
   },
   "outputs": [],
   "source": [
    "import os\n",
    "import h5py\n",
    "import numpy as np\n",
    "#import pandas\n",
    "import astropy.units as u\n",
    "from astropy.utils.console import ProgressBar\n",
    "import fiasco.io\n",
    "#import matplotlib.pyplot as plt\n",
    "import fortranformat\n",
    "\n",
    "%matplotlib inline"
   ]
  },
  {
   "cell_type": "code",
   "execution_count": 2,
   "metadata": {
    "collapsed": true
   },
   "outputs": [],
   "source": [
    "skip_dirs = ['abundance','ip','ancillary_data','continuum','dem','ioneq','masterlist']\n",
    "all_files = []\n",
    "for topdir,subdir,files in os.walk(fiasco.defaults['chianti_dbase_root']):\n",
    "    if np.any([sd in topdir for sd in skip_dirs]):\n",
    "        continue\n",
    "    if topdir == fiasco.defaults['chianti_dbase_root']:\n",
    "        continue\n",
    "    files = [file for file in files if file[0] != '.']\n",
    "    all_files += files"
   ]
  },
  {
   "cell_type": "markdown",
   "metadata": {},
   "source": [
    "Create group from filetype name.\n",
    "\n",
    "Create dataset for each column in the group."
   ]
  },
  {
   "cell_type": "code",
   "execution_count": 5,
   "metadata": {
    "collapsed": true
   },
   "outputs": [],
   "source": [
    "elvlc_files = [file for file in all_files if os.path.splitext(file)[1] == '.elvlc']"
   ]
  },
  {
   "cell_type": "code",
   "execution_count": null,
   "metadata": {
    "collapsed": false
   },
   "outputs": [
    {
     "name": "stderr",
     "output_type": "stream",
     "text": [
      "The installed widget Javascript is the wrong version. It must satisfy the semver range ~2.1.4.\n"
     ]
    },
    {
     "data": {
      "application/vnd.jupyter.widget-view+json": {
       "model_id": "91a29ee4c1444cf09993064e3a4d9551"
      }
     },
     "metadata": {},
     "output_type": "display_data"
    }
   ],
   "source": [
    "with ProgressBar(len(elvlc_files),ipython_widget=True,) as progress:\n",
    "    with h5py.File('/Users/willbarnes/.fiasco/chianti_dbase.h5','a') as hf:\n",
    "        for file in elvlc_files:\n",
    "            #print('parsing {}'.format(file))\n",
    "            parser = fiasco.io.Parser(file)\n",
    "            try:\n",
    "                df = parser.parse()\n",
    "            except NotImplementedError:\n",
    "                print('Could not parse file {}'.format(file))\n",
    "                continue\n",
    "            parser.to_hdf5(hf,df)\n",
    "            progress.update()"
   ]
  },
  {
   "cell_type": "code",
   "execution_count": null,
   "metadata": {
    "collapsed": false
   },
   "outputs": [],
   "source": [
    "with h5py.File('/Users/willbarnes/.fiasco/chianti_dbase.h5','r') as hf:\n",
    "    grp = hf['/h/h_1']\n",
    "    print(grp.name)"
   ]
  },
  {
   "cell_type": "code",
   "execution_count": 8,
   "metadata": {
    "collapsed": true
   },
   "outputs": [],
   "source": [
    "df = fiasco.io.Parser('h_1.elvlc').parse()"
   ]
  },
  {
   "cell_type": "code",
   "execution_count": 13,
   "metadata": {
    "collapsed": false
   },
   "outputs": [
    {
     "data": {
      "text/html": [
       "&lt;QTable length=25&gt;\n",
       "<table id=\"table4474190704\" class=\"table-striped table-bordered table-condensed\">\n",
       "<thead><tr><th>level index</th><th>configuration</th><th>level label</th><th>multiplicity</th><th>orbital angular momentum</th><th>total angular momentum</th><th>observed energy</th><th>theoretical energy</th></tr></thead>\n",
       "<thead><tr><th></th><th></th><th></th><th></th><th></th><th></th><th>1 / cm</th><th>1 / cm</th></tr></thead>\n",
       "<thead><tr><th>int64</th><th>str2</th><th>str1</th><th>int64</th><th>str1</th><th>float64</th><th>float64</th><th>float64</th></tr></thead>\n",
       "<tr><td>1</td><td>1s</td><td></td><td>2</td><td>S</td><td>0.5</td><td>0.0</td><td>0.0</td></tr>\n",
       "<tr><td>2</td><td>2s</td><td></td><td>2</td><td>S</td><td>0.5</td><td>82258.956</td><td>82303.0</td></tr>\n",
       "<tr><td>3</td><td>2p</td><td></td><td>2</td><td>P</td><td>0.5</td><td>82258.921</td><td>82303.0</td></tr>\n",
       "<tr><td>4</td><td>2p</td><td></td><td>2</td><td>P</td><td>1.5</td><td>82259.287</td><td>82303.0</td></tr>\n",
       "<tr><td>5</td><td>3s</td><td></td><td>2</td><td>S</td><td>0.5</td><td>97492.224</td><td>97544.0</td></tr>\n",
       "<tr><td>6</td><td>3p</td><td></td><td>2</td><td>P</td><td>0.5</td><td>97492.213</td><td>97544.0</td></tr>\n",
       "<tr><td>7</td><td>3p</td><td></td><td>2</td><td>P</td><td>1.5</td><td>97492.321</td><td>97544.0</td></tr>\n",
       "<tr><td>8</td><td>3d</td><td></td><td>2</td><td>D</td><td>1.5</td><td>97492.321</td><td>97544.0</td></tr>\n",
       "<tr><td>9</td><td>3d</td><td></td><td>2</td><td>D</td><td>2.5</td><td>97492.357</td><td>97544.0</td></tr>\n",
       "<tr><td>...</td><td>...</td><td>...</td><td>...</td><td>...</td><td>...</td><td>...</td><td>...</td></tr>\n",
       "<tr><td>16</td><td>4f</td><td></td><td>2</td><td>F</td><td>3.5</td><td>102823.919</td><td>102879.0</td></tr>\n",
       "<tr><td>17</td><td>5s</td><td></td><td>2</td><td>S</td><td>0.5</td><td>105291.633</td><td>105348.0</td></tr>\n",
       "<tr><td>18</td><td>5p</td><td></td><td>2</td><td>P</td><td>0.5</td><td>105291.631</td><td>105348.0</td></tr>\n",
       "<tr><td>19</td><td>5p</td><td></td><td>2</td><td>P</td><td>1.5</td><td>105291.654</td><td>105348.0</td></tr>\n",
       "<tr><td>20</td><td>5d</td><td></td><td>2</td><td>D</td><td>1.5</td><td>105291.654</td><td>105348.0</td></tr>\n",
       "<tr><td>21</td><td>5d</td><td></td><td>2</td><td>D</td><td>2.5</td><td>105291.662</td><td>105348.0</td></tr>\n",
       "<tr><td>22</td><td>5f</td><td></td><td>2</td><td>F</td><td>2.5</td><td>105291.662</td><td>105348.0</td></tr>\n",
       "<tr><td>23</td><td>5f</td><td></td><td>2</td><td>F</td><td>3.5</td><td>105291.666</td><td>105348.0</td></tr>\n",
       "<tr><td>24</td><td>5g</td><td></td><td>2</td><td>G</td><td>3.5</td><td>105291.666</td><td>105348.0</td></tr>\n",
       "<tr><td>25</td><td>5g</td><td></td><td>2</td><td>G</td><td>4.5</td><td>105291.668</td><td>105348.0</td></tr>\n",
       "</table>"
      ],
      "text/plain": [
       "<QTable length=25>\n",
       "level index configuration level label ... observed energy theoretical energy\n",
       "                                      ...      1 / cm           1 / cm      \n",
       "   int64         str2         str1    ...     float64          float64      \n",
       "----------- ------------- ----------- ... --------------- ------------------\n",
       "          1            1s             ...             0.0                0.0\n",
       "          2            2s             ...       82258.956            82303.0\n",
       "          3            2p             ...       82258.921            82303.0\n",
       "          4            2p             ...       82259.287            82303.0\n",
       "          5            3s             ...       97492.224            97544.0\n",
       "          6            3p             ...       97492.213            97544.0\n",
       "          7            3p             ...       97492.321            97544.0\n",
       "          8            3d             ...       97492.321            97544.0\n",
       "          9            3d             ...       97492.357            97544.0\n",
       "        ...           ...         ... ...             ...                ...\n",
       "         16            4f             ...      102823.919           102879.0\n",
       "         17            5s             ...      105291.633           105348.0\n",
       "         18            5p             ...      105291.631           105348.0\n",
       "         19            5p             ...      105291.654           105348.0\n",
       "         20            5d             ...      105291.654           105348.0\n",
       "         21            5d             ...      105291.662           105348.0\n",
       "         22            5f             ...      105291.662           105348.0\n",
       "         23            5f             ...      105291.666           105348.0\n",
       "         24            5g             ...      105291.666           105348.0\n",
       "         25            5g             ...      105291.668           105348.0"
      ]
     },
     "execution_count": 13,
     "metadata": {},
     "output_type": "execute_result"
    }
   ],
   "source": [
    "df"
   ]
  },
  {
   "cell_type": "code",
   "execution_count": 14,
   "metadata": {
    "collapsed": false
   },
   "outputs": [
    {
     "data": {
      "text/plain": [
       "True"
      ]
     },
     "execution_count": 14,
     "metadata": {},
     "output_type": "execute_result"
    }
   ],
   "source": [
    "df['configuration'].unit is None"
   ]
  },
  {
   "cell_type": "code",
   "execution_count": 16,
   "metadata": {
    "collapsed": false
   },
   "outputs": [
    {
     "name": "stdout",
     "output_type": "stream",
     "text": [
      "%filename: h_1.elvlc\n",
      "%observed energy levels: Fuhr et al, 1999, NIST Atomic Spectra Database Version 2.0\n",
      "%produced as part of the Arcetri/Cambridge/NRL 'CHIANTI' atomic data base collaboration\n",
      "%\n",
      "%  Ken Dere  May 3 2001\n",
      "\n"
     ]
    }
   ],
   "source": [
    "print(df.meta['footer'])"
   ]
  },
  {
   "cell_type": "code",
   "execution_count": null,
   "metadata": {
    "collapsed": true
   },
   "outputs": [],
   "source": []
  }
 ],
 "metadata": {
  "anaconda-cloud": {},
  "kernelspec": {
   "display_name": "Python [conda env:fiasco]",
   "language": "python",
   "name": "conda-env-fiasco-py"
  },
  "language_info": {
   "codemirror_mode": {
    "name": "ipython",
    "version": 3
   },
   "file_extension": ".py",
   "mimetype": "text/x-python",
   "name": "python",
   "nbconvert_exporter": "python",
   "pygments_lexer": "ipython3",
   "version": "3.6.2"
  }
 },
 "nbformat": 4,
 "nbformat_minor": 2
}
