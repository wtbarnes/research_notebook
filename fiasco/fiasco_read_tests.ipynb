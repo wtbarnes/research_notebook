{
 "cells": [
  {
   "cell_type": "markdown",
   "metadata": {},
   "source": [
    "# *fiasco*: Testing the Package--Read Tests\n",
    "Test parsing capabilities of the fiasco package for all CHIANTI filetypes"
   ]
  },
  {
   "cell_type": "code",
   "execution_count": 47,
   "metadata": {
    "collapsed": false
   },
   "outputs": [],
   "source": [
    "import os\n",
    "import h5py\n",
    "import numpy as np\n",
    "#import pandas\n",
    "import astropy.units as u\n",
    "from astropy.utils.console import ProgressBar\n",
    "import fiasco.io\n",
    "import matplotlib.pyplot as plt\n",
    "import fortranformat\n",
    "import ChiantiPy.tools.io as ch_io\n",
    "\n",
    "%matplotlib inline"
   ]
  },
  {
   "cell_type": "markdown",
   "metadata": {},
   "source": [
    "Collect all of the needed data files"
   ]
  },
  {
   "cell_type": "code",
   "execution_count": 12,
   "metadata": {
    "collapsed": true
   },
   "outputs": [],
   "source": [
    "skip_dirs = ['abundance','ip','ancillary_data','continuum','dem','ioneq','masterlist']\n",
    "all_files = []\n",
    "for topdir,subdir,files in os.walk(fiasco.defaults['chianti_dbase_root']):\n",
    "    if np.any([sd in topdir for sd in skip_dirs]):\n",
    "        continue\n",
    "    if topdir == fiasco.defaults['chianti_dbase_root']:\n",
    "        continue\n",
    "    files = [file for file in files if file[0] != '.']\n",
    "    all_files += files"
   ]
  },
  {
   "cell_type": "markdown",
   "metadata": {},
   "source": [
    "## Elvlc Read Tests"
   ]
  },
  {
   "cell_type": "code",
   "execution_count": 3,
   "metadata": {
    "collapsed": true
   },
   "outputs": [],
   "source": [
    "elvlc_files = [file for file in all_files if os.path.splitext(file)[1] == '.elvlc']"
   ]
  },
  {
   "cell_type": "code",
   "execution_count": null,
   "metadata": {
    "collapsed": false,
    "scrolled": true
   },
   "outputs": [],
   "source": [
    "failed_files = []\n",
    "for ef in elvlc_files:\n",
    "    parser = fiasco.io.Parser(ef)\n",
    "    try:\n",
    "        df = parser.parse()\n",
    "    except:\n",
    "        print('Parse failed for file {}'.format(ef))\n",
    "        failed_files.append(ef)\n",
    "print('failure percentage: {}'.format(len(failed_files)/len(elvlc_files)*100))"
   ]
  },
  {
   "cell_type": "code",
   "execution_count": 4,
   "metadata": {
    "collapsed": false,
    "scrolled": true
   },
   "outputs": [
    {
     "name": "stdout",
     "output_type": "stream",
     "text": [
      "level index configuration level label ... observed energy theoretical energy\n",
      "                                      ...      1 / cm           1 / cm      \n",
      "----------- ------------- ----------- ... --------------- ------------------\n",
      "          1           2s2             ...             0.0                0.0\n",
      "          2         2s.2p             ...        155148.0         156208.875\n",
      "          3         2s.2p             ...        156798.0         157871.391\n",
      "          4         2s.2p             ...        160429.0         161524.547\n",
      "          5         2s.2p             ...        300490.0         314297.531\n",
      "          6           2p2             ...        404574.0         407449.156\n",
      "          7           2p2             ...        406517.0         409368.438\n",
      "          8           2p2             ...        409690.0         412555.219\n",
      "          9           2p2             ...        449732.0         460884.656\n",
      "         10           2p2             ...        553783.0         569392.938\n",
      "---Metadata---\n",
      "footer:%filename: al_10.elvlc\n",
      "%energy levels:  Martin, W. C., Sugar, J., Musgrove, A., and Dalton, G. R., 1995, \n",
      "  NIST Database for Atomic Spectroscopy, Version 1.0, NIST Standard Reference Database 61.\n",
      "%Theoretical energy levels: Zhang, Sampson, ADNDT, 1992 , 52, 143\n",
      "%produced as part of the Arcetri/Cambridge/NRL 'CHIANTI' atomic data base collaboration\n",
      "%\n",
      "% E. Landi and K.P.Dere 1995\n",
      "\n",
      "chianti_version:8.0.2\n",
      "element:al\n",
      "ion:al_10\n"
     ]
    }
   ],
   "source": [
    "parser = fiasco.io.Parser(elvlc_files[0])\n",
    "df = parser.parse()\n",
    "print(df)\n",
    "print('---Metadata---')\n",
    "for key in df.meta:\n",
    "    print('{}:{}'.format(key,df.meta[key]))"
   ]
  },
  {
   "cell_type": "markdown",
   "metadata": {},
   "source": [
    "## Fblvl Read Tests"
   ]
  },
  {
   "cell_type": "code",
   "execution_count": 5,
   "metadata": {
    "collapsed": true
   },
   "outputs": [],
   "source": [
    "fblvl_files = [file for file in all_files if os.path.splitext(file)[1] == '.fblvl']"
   ]
  },
  {
   "cell_type": "code",
   "execution_count": null,
   "metadata": {
    "collapsed": false
   },
   "outputs": [],
   "source": [
    "failed_files = []\n",
    "for ef in fblvl_files:\n",
    "    parser = fiasco.io.Parser(ef)\n",
    "    try:\n",
    "        df = parser.parse()\n",
    "    except:\n",
    "        print('Parse failed for file {}'.format(ef))\n",
    "        failed_files.append(ef)\n",
    "print('failure percentage: {}'.format(len(failed_files)/len(fblvl_files)*100))"
   ]
  },
  {
   "cell_type": "code",
   "execution_count": 6,
   "metadata": {
    "collapsed": false,
    "scrolled": true
   },
   "outputs": [
    {
     "name": "stdout",
     "output_type": "stream",
     "text": [
      "level index configuration ... observed energy theoretical energy\n",
      "                          ...      1 / cm           1 / cm      \n",
      "----------- ------------- ... --------------- ------------------\n",
      "          1         3s23p ...          74.707                0.0\n",
      "          2         3s23d ...       32436.259                0.0\n",
      "          3         3s24s ...       25347.756                0.0\n",
      "          4         3s24p ...       32960.363                0.0\n",
      "          5         3s24d ...       42236.166                0.0\n",
      "          6         3s24f ...       41319.395                0.0\n",
      "          7         3s25s ...       37689.406                0.0\n",
      "          8         3s25p ...       40275.914                0.0\n",
      "          9         3s25d ...       44167.868                0.0\n",
      "         10         3s25f ...       43831.104                0.0\n",
      "         11         3s25g ...        43875.75                0.0\n",
      "---Metadata---\n",
      "footer:%filename: al_1.fblvl\n",
      "%energy levels: NIST Atomic Spectra Database Version 2.0\n",
      "%comment: free-bound data file developed from .elvlc file\n",
      "%produced as part of the Arcetri/Cambridge/NRL 'CHIANTI' atomic data base collaboration\n",
      "%\n",
      "% Ken Dere - Jul 22 2002\n",
      " -1\n",
      "\n",
      "chianti_version:8.0.2\n",
      "element:al\n",
      "ion:al_1\n"
     ]
    }
   ],
   "source": [
    "parser = fiasco.io.Parser(fblvl_files[0])\n",
    "df = parser.parse()\n",
    "print(df)\n",
    "print('---Metadata---')\n",
    "for key in df.meta:\n",
    "    print('{}:{}'.format(key,df.meta[key]))"
   ]
  },
  {
   "cell_type": "markdown",
   "metadata": {},
   "source": [
    "## Scups Read Tests"
   ]
  },
  {
   "cell_type": "code",
   "execution_count": 7,
   "metadata": {
    "collapsed": true
   },
   "outputs": [],
   "source": [
    "scups_files = [file for file in all_files if os.path.splitext(file)[1] == '.scups']"
   ]
  },
  {
   "cell_type": "code",
   "execution_count": null,
   "metadata": {
    "collapsed": false
   },
   "outputs": [],
   "source": [
    "failed_files = []\n",
    "with ProgressBar(len(scups_files),ipython_widget=True) as progress:\n",
    "    for ef in scups_files:\n",
    "        parser = fiasco.io.Parser(ef)\n",
    "        try:\n",
    "            df = parser.parse()\n",
    "        except:\n",
    "            print('Parse failed for file {}'.format(ef))\n",
    "            failed_files.append(ef)\n",
    "        progress.update()\n",
    "print('failure percentage: {}'.format(len(failed_files)/len(scups_files)*100))"
   ]
  },
  {
   "cell_type": "code",
   "execution_count": 8,
   "metadata": {
    "collapsed": false,
    "scrolled": true
   },
   "outputs": [
    {
     "name": "stdout",
     "output_type": "stream",
     "text": [
      "lower level index ...\n",
      "                  ...\n",
      "----------------- ...\n",
      "                1 ...\n",
      "                1 ...\n",
      "                1 ...\n",
      "                1 ...\n",
      "                1 ...\n",
      "                1 ...\n",
      "                1 ...\n",
      "                1 ...\n",
      "                1 ...\n",
      "                2 ...\n",
      "              ... ...\n",
      "                6 ...\n",
      "                6 ...\n",
      "                6 ...\n",
      "                6 ...\n",
      "                7 ...\n",
      "                7 ...\n",
      "                7 ...\n",
      "                8 ...\n",
      "                8 ...\n",
      "                9 ...\n",
      "Length = 43 rows\n",
      "---Metadata---\n",
      "footer:%filename: al_10.splups\n",
      "%Effective collision strengths: Keenan et al., 1986, Physica Scripta 34, 216\n",
      "%Allowed transitions oscillator strengths: Zhang, Sampson, ADNDT, 1992 , 52, 143\n",
      "%comment: Have derived the upsilon data from Table V of Keenan et al.\n",
      "   The Delta-E's have been taken from the observed values in the .elvlc\n",
      "   file. The gf values are from the .wgfa file.\n",
      "   The upsilons have been created for logT=6.1+-0.8 in 0.1 dex intervals.\n",
      "%produced as part of the Arcetri/Cambridge/NRL 'CHIANTI' atomic data base collaboration\n",
      "%\n",
      "% E. Landi Feb 2001\n",
      "-1\n",
      "\n",
      "chianti_version:8.0.2\n",
      "element:al\n",
      "ion:al_10\n"
     ]
    }
   ],
   "source": [
    "parser = fiasco.io.Parser(scups_files[0])\n",
    "df = parser.parse()\n",
    "print(df)\n",
    "print('---Metadata---')\n",
    "for key in df.meta:\n",
    "    print('{}:{}'.format(key,df.meta[key]))"
   ]
  },
  {
   "cell_type": "markdown",
   "metadata": {},
   "source": [
    "## Psplups Read Tests"
   ]
  },
  {
   "cell_type": "code",
   "execution_count": 9,
   "metadata": {
    "collapsed": true
   },
   "outputs": [],
   "source": [
    "psplups_files = [file for file in all_files if os.path.splitext(file)[1] == '.psplups']"
   ]
  },
  {
   "cell_type": "code",
   "execution_count": null,
   "metadata": {
    "collapsed": false,
    "scrolled": true
   },
   "outputs": [],
   "source": [
    "failed_files = []\n",
    "with ProgressBar(len(psplups_files),ipython_widget=True) as progress:\n",
    "    for ef in psplups_files:\n",
    "        parser = fiasco.io.Parser(ef)\n",
    "        try:\n",
    "            df = parser.parse()\n",
    "        except:\n",
    "            print('Parse failed for file {}'.format(ef))\n",
    "            failed_files.append(ef)\n",
    "        progress.update()\n",
    "print('failure percentage: {}'.format(len(failed_files)/len(psplups_files)*100))"
   ]
  },
  {
   "cell_type": "code",
   "execution_count": 10,
   "metadata": {
    "collapsed": false,
    "scrolled": true
   },
   "outputs": [
    {
     "name": "stdout",
     "output_type": "stream",
     "text": [
      "lower level index ... Burgess-Tully scaled effective collision strengths [9]\n",
      "                  ...                                                       \n",
      "----------------- ... ------------------------------------------------------\n",
      "                2 ...                                  4.57e-14 .. 1.667e-12\n",
      "                2 ...                                 5.603e-12 .. 2.986e-10\n",
      "                3 ...                                 1.582e-11 .. 2.293e-10\n",
      "---Metadata---\n",
      "footer:%filename: al_10.psplups\n",
      "%rates: Ryans R.S.I., Foster-Woods V.J, Copeland F., Keenan F.P., Matthews A., Reid R.H.G., 1998, ADNDT 70, 179-229\n",
      "%energies: Martin W.C., Sugar J., Musgrove A., Dalton G.R., 1995, NIST Database for Atomic Spectroscopy, \n",
      "   Version 1.0, NIST Standard Reference Database 61.\n",
      "%comment: Fits valid for temperatures 2e5 to 5e7 K.\n",
      "%produced as part of the Arcetri/Cambridge/NRL 'CHIANTI' atomic data base collaboration\n",
      "%\n",
      "% Peter Young, 19-Oct-00\n",
      " -1\n",
      "\n",
      "chianti_version:8.0.2\n",
      "element:al\n",
      "ion:al_10\n"
     ]
    }
   ],
   "source": [
    "parser = fiasco.io.Parser(psplups_files[0])\n",
    "df = parser.parse()\n",
    "print(df)\n",
    "print('---Metadata---')\n",
    "for key in df.meta:\n",
    "    print('{}:{}'.format(key,df.meta[key]))"
   ]
  },
  {
   "cell_type": "markdown",
   "metadata": {},
   "source": [
    "## Easplom Read Tests"
   ]
  },
  {
   "cell_type": "code",
   "execution_count": 11,
   "metadata": {
    "collapsed": true
   },
   "outputs": [],
   "source": [
    "easplom_files = [file for file in all_files if os.path.splitext(file)[1] == '.easplom']"
   ]
  },
  {
   "cell_type": "code",
   "execution_count": null,
   "metadata": {
    "collapsed": false
   },
   "outputs": [],
   "source": [
    "failed_files = []\n",
    "with ProgressBar(len(easplom_files),ipython_widget=True) as progress:\n",
    "    for ef in easplom_files:\n",
    "        parser = fiasco.io.Parser(ef)\n",
    "        try:\n",
    "            df = parser.parse()\n",
    "        except:\n",
    "            print('Parse failed for file {}'.format(ef))\n",
    "            failed_files.append(ef)\n",
    "        progress.update()\n",
    "print('failure percentage: {}'.format(len(failed_files)/len(easplom_files)*100))"
   ]
  },
  {
   "cell_type": "code",
   "execution_count": 12,
   "metadata": {
    "collapsed": false,
    "scrolled": true
   },
   "outputs": [
    {
     "name": "stdout",
     "output_type": "stream",
     "text": [
      "lower level index upper level index ... Burgess-Tully scaled cross-section [5]\n",
      "                                    ...                                       \n",
      "----------------- ----------------- ... --------------------------------------\n",
      "                1                 3 ...                     0.01324 .. 0.01838\n",
      "                1                 4 ...                   0.004166 .. 0.003772\n",
      "---Metadata---\n",
      "footer:%file:  al_10.easplom\n",
      "%excitation autoionization cross section parameter file\n",
      " derived from fits to experimental and theoretical data\n",
      "Dere, K. P., 2007, A&A, 466, 771\n",
      "ADS ref:  http://adsabs.harvard.edu/abs/2007A%26A...466..771D\n",
      " created for CHIANTI database for astrophysical spectroscopy\n",
      "  created by Ken Dere  (GMU)  Fri Jan 26 12:40:27 2007\n",
      "-1\n",
      "\n",
      "chianti_version:8.0.2\n",
      "element:al\n",
      "ion:al_10\n"
     ]
    }
   ],
   "source": [
    "parser = fiasco.io.Parser(easplom_files[0])\n",
    "df = parser.parse()\n",
    "print(df)\n",
    "print('---Metadata---')\n",
    "for key in df.meta:\n",
    "    print('{}:{}'.format(key,df.meta[key]))"
   ]
  },
  {
   "cell_type": "markdown",
   "metadata": {},
   "source": [
    "## Easplups Read Tests"
   ]
  },
  {
   "cell_type": "code",
   "execution_count": 13,
   "metadata": {
    "collapsed": true
   },
   "outputs": [],
   "source": [
    "easplups_files = [file for file in all_files if os.path.splitext(file)[1] == '.easplups']"
   ]
  },
  {
   "cell_type": "code",
   "execution_count": null,
   "metadata": {
    "collapsed": false
   },
   "outputs": [],
   "source": [
    "failed_files = []\n",
    "with ProgressBar(len(easplups_files),ipython_widget=True) as progress:\n",
    "    for ef in easplups_files:\n",
    "        parser = fiasco.io.Parser(ef)\n",
    "        try:\n",
    "            df = parser.parse()\n",
    "        except:\n",
    "            print('Parse failed for file {}'.format(ef))\n",
    "            failed_files.append(ef)\n",
    "        progress.update()\n",
    "print('failure percentage: {}'.format(len(failed_files)/len(easplups_files)*100))"
   ]
  },
  {
   "cell_type": "code",
   "execution_count": 14,
   "metadata": {
    "collapsed": false,
    "scrolled": true
   },
   "outputs": [
    {
     "name": "stdout",
     "output_type": "stream",
     "text": [
      "lower level index ... excitation-autoionization rate coefficients [5]\n",
      "                  ...                                                \n",
      "----------------- ... -----------------------------------------------\n",
      "                1 ...                              0.01324 .. 0.01838\n",
      "                1 ...                            0.004166 .. 0.003772\n",
      "---Metadata---\n",
      "footer:%file:  al_10.easplups\n",
      "%excitation autoionization rate coefficient parameter file\n",
      " derived from fits to experimental and theoretical data\n",
      "Dere, K. P., 2007, A&A, 466, 771\n",
      "ADS ref:  http://adsabs.harvard.edu/abs/2007A%26A...466..771D\n",
      " created for CHIANTI database for astrophysical spectroscopy\n",
      "  created by Ken Dere  (GMU)  Fri Jan 26 12:40:27 2007\n",
      "-1\n",
      "\n",
      "chianti_version:8.0.2\n",
      "element:al\n",
      "ion:al_10\n"
     ]
    }
   ],
   "source": [
    "parser = fiasco.io.Parser(easplups_files[0])\n",
    "df = parser.parse()\n",
    "print(df)\n",
    "print('---Metadata---')\n",
    "for key in df.meta:\n",
    "    print('{}:{}'.format(key,df.meta[key]))"
   ]
  },
  {
   "cell_type": "markdown",
   "metadata": {},
   "source": [
    "## Wgfa Read Tests"
   ]
  },
  {
   "cell_type": "code",
   "execution_count": 15,
   "metadata": {
    "collapsed": true
   },
   "outputs": [],
   "source": [
    "wgfa_files = [file for file in all_files if os.path.splitext(file)[1] == '.wgfa']"
   ]
  },
  {
   "cell_type": "code",
   "execution_count": null,
   "metadata": {
    "collapsed": false
   },
   "outputs": [],
   "source": [
    "failed_files = []\n",
    "with ProgressBar(len(wgfa_files),ipython_widget=True) as progress:\n",
    "    for ef in wgfa_files:\n",
    "        parser = fiasco.io.Parser(ef)\n",
    "        try:\n",
    "            df = parser.parse()\n",
    "        except:\n",
    "            print('Parse failed for file {}'.format(ef))\n",
    "            failed_files.append(ef)\n",
    "        progress.update()\n",
    "print('failure percentage: {}'.format(len(failed_files)/len(wgfa_files)*100))"
   ]
  },
  {
   "cell_type": "code",
   "execution_count": 16,
   "metadata": {
    "collapsed": false,
    "scrolled": true
   },
   "outputs": [
    {
     "name": "stdout",
     "output_type": "stream",
     "text": [
      "lower level index upper level index ... lower level label upper level label\n",
      "                                    ...                                    \n",
      "----------------- ----------------- ... ----------------- -----------------\n",
      "                1                 3 ...           2s2 1S0         2s.2p 3P1\n",
      "                1                 4 ...           2s2 1S0         2s.2p 3P2\n",
      "                1                 5 ...           2s2 1S0         2s.2p 1P1\n",
      "                2                 7 ...         2s.2p 3P0           2p2 3P1\n",
      "                3                 4 ...         2s.2p 3P1         2s.2p 3P2\n",
      "                3                 6 ...         2s.2p 3P1           2p2 3P0\n",
      "                3                 7 ...         2s.2p 3P1           2p2 3P1\n",
      "                3                 8 ...         2s.2p 3P1           2p2 3P2\n",
      "                3                 9 ...         2s.2p 3P1           2p2 1D2\n",
      "                3                10 ...         2s.2p 3P1           2p2 1S0\n",
      "                4                 7 ...         2s.2p 3P2           2p2 3P1\n",
      "                4                 8 ...         2s.2p 3P2           2p2 3P2\n",
      "                4                 9 ...         2s.2p 3P2           2p2 1D2\n",
      "                5                 6 ...         2s.2p 1P1           2p2 3P0\n",
      "                5                 7 ...         2s.2p 1P1           2p2 3P1\n",
      "                5                 8 ...         2s.2p 1P1           2p2 3P2\n",
      "                5                 9 ...         2s.2p 1P1           2p2 1D2\n",
      "                5                10 ...         2s.2p 1P1           2p2 1S0\n",
      "---Metadata---\n",
      "footer:%filename: al_10.wgfa\n",
      "%energy levels: Martin, W.C., Sugar, J., Musgrove, A., Dalton, G.R., 1995, \n",
      "    NIST Database for Atomic Spectroscopy, Version 1.0, NIST Standard Reference Database 61.\n",
      "%Allowed transitions oscillator strengths: Zhang, Sampson, ADNDT, 1992 , 52, 143\n",
      "%comment: transitions 1-4, 3-4, 3-10 have been interpolated from\n",
      "    the data of Be-like ions in Muhlethaler, Nussbaumer, A&A, 1976, 48, 109\n",
      "%produced as part of the Arcetri/Cambridge/NRL 'CHIANTI' atomic data base collaboration\n",
      "%\n",
      "% E. Landi 1995\n",
      " -1\n",
      "\n",
      "chianti_version:8.0.2\n",
      "element:al\n",
      "ion:al_10\n"
     ]
    }
   ],
   "source": [
    "parser = fiasco.io.Parser(wgfa_files[0])\n",
    "df = parser.parse()\n",
    "print(df)\n",
    "print('---Metadata---')\n",
    "for key in df.meta:\n",
    "    print('{}:{}'.format(key,df.meta[key]))"
   ]
  },
  {
   "cell_type": "markdown",
   "metadata": {},
   "source": [
    "## Cilvl Read Tests"
   ]
  },
  {
   "cell_type": "code",
   "execution_count": 17,
   "metadata": {
    "collapsed": true
   },
   "outputs": [],
   "source": [
    "cilvl_files = [file for file in all_files if os.path.splitext(file)[1] == '.cilvl']"
   ]
  },
  {
   "cell_type": "code",
   "execution_count": null,
   "metadata": {
    "collapsed": false
   },
   "outputs": [],
   "source": [
    "failed_files = []\n",
    "with ProgressBar(len(cilvl_files),ipython_widget=True) as progress:\n",
    "    for ef in cilvl_files:\n",
    "        parser = fiasco.io.Parser(ef)\n",
    "        try:\n",
    "            df = parser.parse()\n",
    "        except:\n",
    "            print('Parse failed for file {}'.format(ef))\n",
    "            failed_files.append(ef)\n",
    "        progress.update()\n",
    "print('failure percentage: {}'.format(len(failed_files)/len(cilvl_files)*100))"
   ]
  },
  {
   "cell_type": "code",
   "execution_count": 18,
   "metadata": {
    "collapsed": false,
    "scrolled": true
   },
   "outputs": [
    {
     "name": "stdout",
     "output_type": "stream",
     "text": [
      "lower level index upper level index ... ionization rate coefficient [9]\n",
      "                                    ...             cm3 / s            \n",
      "----------------- ----------------- ... -------------------------------\n",
      "                1                 2 ...            1.05e-16 .. 4.18e-11\n",
      "                1                 3 ...             6.13e-17 .. 2.5e-11\n",
      "                1                 4 ...            1.88e-17 .. 8.55e-12\n",
      "                1                 5 ...            5.27e-17 .. 2.44e-11\n",
      "                1                 6 ...            1.11e-18 .. 5.95e-13\n",
      "                1                 7 ...            6.57e-25 .. 1.53e-19\n",
      "                1                 8 ...            7.06e-25 .. 1.69e-19\n",
      "                1                 9 ...               6.95e-19 .. 4e-13\n",
      "                1                10 ...            4.94e-25 .. 1.22e-19\n",
      "                1                11 ...            6.17e-19 .. 3.83e-13\n",
      "              ...               ... ...                             ...\n",
      "                1                28 ...            1.13e-17 .. 1.75e-11\n",
      "                1                29 ...             3.5e-18 .. 5.81e-12\n",
      "                1                30 ...             8.43e-21 .. 1.9e-14\n",
      "                1                31 ...            1.14e-20 .. 2.62e-14\n",
      "                1                32 ...            2.34e-20 .. 5.52e-14\n",
      "                1                33 ...            4.67e-21 .. 1.12e-14\n",
      "                1                34 ...            7.75e-28 .. 1.39e-21\n",
      "                1                35 ...            1.34e-27 .. 2.45e-21\n",
      "                1                36 ...            1.99e-27 .. 3.74e-21\n",
      "                1                37 ...             1.3e-27 .. 2.53e-21\n",
      "Length = 36 rows\n",
      "---Metadata---\n",
      "footer:%filename: fe_17.ci\n",
      "%Collisional ionization population rate: Gu, M.F., 2003, ApJ, 582, 1241\n",
      "%produced as part of the Arcetri/Cambridge/NRL CHIANTI atomic data base collaboration\n",
      "%\n",
      "% Enrico Landi - Feb 2004\n",
      " -1\n",
      "\n",
      "chianti_version:8.0.2\n",
      "element:fe\n",
      "ion:fe_17\n"
     ]
    }
   ],
   "source": [
    "parser = fiasco.io.Parser(cilvl_files[0])\n",
    "df = parser.parse()\n",
    "print(df)\n",
    "print('---Metadata---')\n",
    "for key in df.meta:\n",
    "    print('{}:{}'.format(key,df.meta[key]))"
   ]
  },
  {
   "cell_type": "markdown",
   "metadata": {},
   "source": [
    "## Reclvl Read Tests"
   ]
  },
  {
   "cell_type": "code",
   "execution_count": 19,
   "metadata": {
    "collapsed": true
   },
   "outputs": [],
   "source": [
    "reclvl_files = [file for file in all_files if os.path.splitext(file)[1] == '.reclvl']"
   ]
  },
  {
   "cell_type": "code",
   "execution_count": null,
   "metadata": {
    "collapsed": false
   },
   "outputs": [],
   "source": [
    "failed_files = []\n",
    "with ProgressBar(len(reclvl_files),ipython_widget=True) as progress:\n",
    "    for ef in reclvl_files:\n",
    "        parser = fiasco.io.Parser(ef)\n",
    "        try:\n",
    "            df = parser.parse()\n",
    "        except:\n",
    "            print('Parse failed for file {}'.format(ef))\n",
    "            failed_files.append(ef)\n",
    "        progress.update()\n",
    "print('failure percentage: {}'.format(len(failed_files)/len(reclvl_files)*100))"
   ]
  },
  {
   "cell_type": "code",
   "execution_count": 20,
   "metadata": {
    "collapsed": false,
    "scrolled": true
   },
   "outputs": [
    {
     "name": "stdout",
     "output_type": "stream",
     "text": [
      "lower level index upper level index ... recombination rate coefficient [19]\n",
      "                                    ...               cm3 / s              \n",
      "----------------- ----------------- ... -----------------------------------\n",
      "                1                 1 ...                8.81e-12 .. 7.18e-16\n",
      "                1                 2 ...                8.42e-12 .. 7.77e-17\n",
      "                1                 3 ...                1.68e-11 .. 1.55e-16\n",
      "                1                 4 ...                2.75e-12 .. 2.09e-16\n",
      "                1                 5 ...                 3.1e-12 .. 2.79e-17\n",
      "                1                 6 ...                6.17e-12 .. 5.58e-17\n",
      "                1                 7 ...                4.09e-12 .. 8.82e-18\n",
      "                1                 8 ...                6.12e-12 .. 1.32e-17\n",
      "                1                 9 ...                1.24e-12 .. 8.75e-17\n",
      "                1                10 ...                1.46e-12 .. 1.26e-17\n",
      "              ...               ... ...                                 ...\n",
      "                1                56 ...                8.34e-13 .. 3.48e-19\n",
      "                1                59 ...                1.04e-12 .. 4.35e-19\n",
      "                1                57 ...                7.25e-13 .. 5.91e-19\n",
      "                1                60 ...                7.27e-13 .. 1.74e-19\n",
      "                1                58 ...                8.73e-13 .. 2.09e-19\n",
      "                1                62 ...                9.67e-13 .. 7.88e-19\n",
      "                1                61 ...                4.32e-13 .. 6.47e-20\n",
      "                1                63 ...                5.04e-13 .. 7.54e-20\n",
      "                1                54 ...                1.32e-13 .. 1.32e-20\n",
      "                1                55 ...                1.51e-13 .. 1.51e-20\n",
      "Length = 63 rows\n",
      "---Metadata---\n",
      "footer:filename:  al_11.reclvl\n",
      "\n",
      "%Radiative recombination rates for recombination onto Al XII to form Al XI\n",
      "Badnell, N. R., 2006, ApJS, 167, 334\n",
      "Radiative Recombination Data for Modeling Dynamic Finite-Density Plasmas\n",
      "adsLink:  http://adsabs.harvard.edu/abs/2006ApJS..167..334B\n",
      "\n",
      "produced as a part of the 'CHIANTI' atomic database for astrophysical spectroscopy\n",
      " K. Dere (GMU) - 2014 September 12\n",
      "-1 \n",
      "\n",
      "chianti_version:8.0.2\n",
      "element:al\n",
      "ion:al_11\n"
     ]
    }
   ],
   "source": [
    "parser = fiasco.io.Parser(reclvl_files[0])\n",
    "df = parser.parse()\n",
    "print(df)\n",
    "print('---Metadata---')\n",
    "for key in df.meta:\n",
    "    print('{}:{}'.format(key,df.meta[key]))"
   ]
  },
  {
   "cell_type": "markdown",
   "metadata": {},
   "source": [
    "## Rrparams Read Tests"
   ]
  },
  {
   "cell_type": "code",
   "execution_count": 21,
   "metadata": {
    "collapsed": true
   },
   "outputs": [],
   "source": [
    "rrparams_files = [file for file in all_files if os.path.splitext(file)[1] == '.rrparams']"
   ]
  },
  {
   "cell_type": "code",
   "execution_count": null,
   "metadata": {
    "collapsed": false
   },
   "outputs": [],
   "source": [
    "failed_files = []\n",
    "with ProgressBar(len(rrparams_files),ipython_widget=True) as progress:\n",
    "    for ef in rrparams_files:\n",
    "        parser = fiasco.io.Parser(ef)\n",
    "        try:\n",
    "            df = parser.parse()\n",
    "        except:\n",
    "            print('Parse failed for file {}'.format(ef))\n",
    "            failed_files.append(ef)\n",
    "        progress.update()\n",
    "print('failure percentage: {}'.format(len(failed_files)/len(rrparams_files)*100))"
   ]
  },
  {
   "cell_type": "code",
   "execution_count": 22,
   "metadata": {
    "collapsed": false
   },
   "outputs": [
    {
     "name": "stdout",
     "output_type": "stream",
     "text": [
      "fit type A fit parameter B fit parameter T0 fit parameter T1 fit parameter\n",
      "             cm3 / s                            K                K        \n",
      "-------- --------------- --------------- ---------------- ----------------\n",
      "       1       1.578e-09          0.7394            61.57       14270000.0\n",
      "---Metadata---\n",
      "footer:%file:  al_10.rrparams\n",
      " Radiative recombination coefficients\n",
      "Badnell, N. R., 2006, ApJS, 167, 334\n",
      "http://adsabs.harvard.edu/abs/2006ApJS..167..334B\n",
      "Radiative Recombination Data for Modeling Dynamic Finite-Density Plasmas\n",
      " produced for the CHIANTI atomic database for astrophysical spectroscopy\n",
      " created by Ken Dere (GMU):  Wed Feb 15 11:06:20 2012\n",
      "-1\n",
      "\n",
      "chianti_version:8.0.2\n",
      "element:al\n",
      "ion:al_10\n"
     ]
    }
   ],
   "source": [
    "parser = fiasco.io.Parser(rrparams_files[0])\n",
    "df = parser.parse()\n",
    "print(df)\n",
    "print('---Metadata---')\n",
    "for key in df.meta:\n",
    "    print('{}:{}'.format(key,df.meta[key]))"
   ]
  },
  {
   "cell_type": "markdown",
   "metadata": {},
   "source": [
    "## Trparams Read Tests"
   ]
  },
  {
   "cell_type": "code",
   "execution_count": 23,
   "metadata": {
    "collapsed": true
   },
   "outputs": [],
   "source": [
    "trparams_files = [file for file in all_files if os.path.splitext(file)[1] == '.trparams']"
   ]
  },
  {
   "cell_type": "code",
   "execution_count": null,
   "metadata": {
    "collapsed": false
   },
   "outputs": [],
   "source": [
    "failed_files = []\n",
    "with ProgressBar(len(trparams_files),ipython_widget=True) as progress:\n",
    "    for ef in trparams_files:\n",
    "        parser = fiasco.io.Parser(ef)\n",
    "        try:\n",
    "            df = parser.parse()\n",
    "        except:\n",
    "            print('Parse failed for file {}'.format(ef))\n",
    "            failed_files.append(ef)\n",
    "        progress.update()\n",
    "print('failure percentage: {}'.format(len(failed_files)/len(trparams_files)*100))"
   ]
  },
  {
   "cell_type": "code",
   "execution_count": 24,
   "metadata": {
    "collapsed": false,
    "scrolled": true
   },
   "outputs": [
    {
     "name": "stdout",
     "output_type": "stream",
     "text": [
      "temperature  total recombination rate\n",
      "     K               cm3 / s         \n",
      "------------ ------------------------\n",
      "        10.0                 3.48e-11\n",
      "       12.59                 3.14e-11\n",
      "       15.85                 2.84e-11\n",
      "       19.95                 2.58e-11\n",
      "       25.12                 2.33e-11\n",
      "       31.62                 2.09e-11\n",
      "       39.81                 1.87e-11\n",
      "       50.12                 1.67e-11\n",
      "        63.1                 1.48e-11\n",
      "       79.43                 1.31e-11\n",
      "         ...                      ...\n",
      "   1585000.0                 2.03e-13\n",
      "   1995000.0                 1.45e-13\n",
      "   2512000.0                 1.04e-13\n",
      "   3162000.0                 7.38e-14\n",
      "   3981000.0                 5.26e-14\n",
      "   5012000.0                 3.74e-14\n",
      "   6310000.0                 2.66e-14\n",
      "   7943000.0                  1.9e-14\n",
      "  10000000.0                 1.35e-14\n",
      "1000000000.0                 1.35e-17\n",
      "Length = 62 rows\n",
      "---Metadata---\n",
      "footer:%file:  fe_2.trparams\n",
      "%total recombination rate coefficients\n",
      "   %recombination rates: \"Electron-ion recombination of neutral iron\", S. N. Nahar, M. A. Bautista, and A. K. Pradhan, Astrophys. J. 479, 497 (1997)\n",
      " produced for the CHIANTI atomic database for astrophysical spectroscopy\n",
      " created by Ken Dere (GMU):  Fri Feb  9 11:13:15 2007\n",
      "-1\n",
      "\n",
      "chianti_version:8.0.2\n",
      "element:fe\n",
      "ion:fe_2\n"
     ]
    }
   ],
   "source": [
    "parser = fiasco.io.Parser(trparams_files[0])\n",
    "df = parser.parse()\n",
    "print(df)\n",
    "print('---Metadata---')\n",
    "for key in df.meta:\n",
    "    print('{}:{}'.format(key,df.meta[key]))"
   ]
  },
  {
   "cell_type": "markdown",
   "metadata": {},
   "source": [
    "## Diparams Read Test"
   ]
  },
  {
   "cell_type": "markdown",
   "metadata": {},
   "source": [
    "The `.diparams` files have a variable format depending on what ion you're looking at. Need to parse the first row to find out exactly what the structure is."
   ]
  },
  {
   "cell_type": "code",
   "execution_count": 105,
   "metadata": {
    "collapsed": true
   },
   "outputs": [],
   "source": [
    "diparams_files = [file for file in all_files if os.path.splitext(file)[1] == '.diparams']"
   ]
  },
  {
   "cell_type": "code",
   "execution_count": 106,
   "metadata": {
    "collapsed": false
   },
   "outputs": [
    {
     "name": "stderr",
     "output_type": "stream",
     "text": [
      "The installed widget Javascript is the wrong version. It must satisfy the semver range ~2.1.4.\n"
     ]
    },
    {
     "data": {
      "application/vnd.jupyter.widget-view+json": {
       "model_id": "21a6cab3fecd442eb565f931c45e8ee3"
      }
     },
     "metadata": {},
     "output_type": "display_data"
    },
    {
     "name": "stdout",
     "output_type": "stream",
     "text": [
      "\n",
      "failure percentage: 0.0\n"
     ]
    }
   ],
   "source": [
    "failed_files = []\n",
    "with ProgressBar(len(diparams_files),ipython_widget=True) as progress:\n",
    "    for ef in diparams_files:\n",
    "        parser = fiasco.io.Parser(ef)\n",
    "        try:\n",
    "            df = parser.parse()\n",
    "        except:\n",
    "            print('Parse failed for file {}'.format(ef))\n",
    "            failed_files.append(ef)\n",
    "        progress.update()\n",
    "print('failure percentage: {}'.format(len(failed_files)/len(diparams_files)*100))"
   ]
  },
  {
   "cell_type": "code",
   "execution_count": 104,
   "metadata": {
    "collapsed": true
   },
   "outputs": [],
   "source": [
    "class TestDiparamsParser(fiasco.io.GenericParser):\n",
    "    filetype='diparams'\n",
    "    dtypes = [float,float,float,float]\n",
    "    units = [1/u.cm,u.dimensionless_unscaled,u.dimensionless_unscaled,u.dimensionless_unscaled]\n",
    "    headings = ['ionization potential','Burgess-Tully scaling factor','scaled energy','scaled cross-section']\n",
    "    \n",
    "    def preprocessor(self,table,line,index):\n",
    "        tmp = line.strip().split()\n",
    "        if index == 0:\n",
    "            self._num_fits = int(tmp[2])\n",
    "            self._num_lines = int(tmp[3])\n",
    "            self._has_excitation_autoionization = bool(int(tmp[4]))\n",
    "        elif index==self._num_lines*2 + 1 and self._has_excitation_autoionization:\n",
    "            # read eaev\n",
    "            self._excitation_autoionization = float(tmp[0])\n",
    "        elif index%2 != 0:\n",
    "            bt_factor = tmp[0]\n",
    "            u_spline = np.array(tmp[1:],dtype=float)\n",
    "            table.append([bt_factor,u_spline])\n",
    "        else:\n",
    "            ionization_potential = tmp[0]\n",
    "            cs_spline = np.array(tmp[1:],dtype=float)\n",
    "            table[-1] = [ionization_potential]+table[-1]+[cs_spline]\n",
    "            \n",
    "    def postprocessor(self,df):\n",
    "        if hasattr(self,'_excitation_autoionization'):\n",
    "            df['excitation autoionization'] = len(df['ionization potential'])*[self._excitation_autoionization]\n",
    "        return df"
   ]
  },
  {
   "cell_type": "markdown",
   "metadata": {},
   "source": [
    "## Drparams Read Test"
   ]
  },
  {
   "cell_type": "code",
   "execution_count": 147,
   "metadata": {
    "collapsed": true
   },
   "outputs": [],
   "source": [
    "drparams_files = [file for file in all_files if os.path.splitext(file)[1] == '.drparams']"
   ]
  },
  {
   "cell_type": "code",
   "execution_count": 148,
   "metadata": {
    "collapsed": false
   },
   "outputs": [
    {
     "name": "stderr",
     "output_type": "stream",
     "text": [
      "The installed widget Javascript is the wrong version. It must satisfy the semver range ~2.1.4.\n"
     ]
    },
    {
     "data": {
      "application/vnd.jupyter.widget-view+json": {
       "model_id": "c03b4905699d420f988c07f2ab6a8142"
      }
     },
     "metadata": {},
     "output_type": "display_data"
    },
    {
     "name": "stdout",
     "output_type": "stream",
     "text": [
      "\n",
      "failure percentage: 0.0\n"
     ]
    }
   ],
   "source": [
    "failed_files = []\n",
    "with ProgressBar(len(drparams_files),ipython_widget=True) as progress:\n",
    "    for ef in drparams_files:\n",
    "        parser = fiasco.io.Parser(ef)\n",
    "        try:\n",
    "            df = parser.parse()\n",
    "        except:\n",
    "            print('Parse failed for file {}'.format(ef))\n",
    "            failed_files.append(ef)\n",
    "        progress.update()\n",
    "print('failure percentage: {}'.format(len(failed_files)/len(drparams_files)*100))"
   ]
  },
  {
   "cell_type": "code",
   "execution_count": 111,
   "metadata": {
    "collapsed": false
   },
   "outputs": [
    {
     "name": "stdout",
     "output_type": "stream",
     "text": [
      "al_10.drparams\n",
      "1\n",
      "al_11.drparams\n",
      "1\n",
      "al_12.drparams\n",
      "1\n",
      "al_13.drparams\n",
      "1\n",
      "al_2.drparams\n",
      "1\n",
      "al_3.drparams\n",
      "1\n",
      "al_4.drparams\n",
      "1\n",
      "al_5.drparams\n",
      "1\n",
      "al_6.drparams\n",
      "1\n",
      "al_7.drparams\n",
      "1\n",
      "al_8.drparams\n",
      "1\n",
      "al_9.drparams\n",
      "1\n",
      "ar_10.drparams\n",
      "1\n",
      "ar_11.drparams\n",
      "1\n",
      "ar_12.drparams\n",
      "1\n",
      "ar_13.drparams\n",
      "1\n",
      "ar_14.drparams\n",
      "1\n",
      "ar_15.drparams\n",
      "1\n",
      "ar_16.drparams\n",
      "1\n",
      "ar_17.drparams\n",
      "1\n",
      "ar_18.drparams\n",
      "1\n",
      "ar_2.drparams\n",
      "2\n",
      "ar_3.drparams\n",
      "2\n",
      "ar_4.drparams\n",
      "2\n",
      "ar_5.drparams\n",
      "2\n",
      "ar_6.drparams\n",
      "1\n",
      "ar_7.drparams\n",
      "1\n",
      "ar_8.drparams\n",
      "1\n",
      "ar_9.drparams\n",
      "1\n",
      "b_2.drparams\n",
      "1\n",
      "b_3.drparams\n",
      "1\n",
      "b_4.drparams\n",
      "1\n",
      "b_5.drparams\n",
      "1\n",
      "be_2.drparams\n",
      "1\n",
      "be_3.drparams\n",
      "1\n",
      "be_4.drparams\n",
      "1\n",
      "c_2.drparams\n",
      "1\n",
      "c_3.drparams\n",
      "1\n",
      "c_4.drparams\n",
      "1\n",
      "c_5.drparams\n",
      "1\n",
      "c_6.drparams\n",
      "1\n",
      "ca_10.drparams\n",
      "1\n",
      "ca_11.drparams\n",
      "1\n",
      "ca_12.drparams\n",
      "1\n",
      "ca_13.drparams\n",
      "1\n",
      "ca_14.drparams\n",
      "1\n",
      "ca_15.drparams\n",
      "1\n",
      "ca_16.drparams\n",
      "1\n",
      "ca_17.drparams\n",
      "1\n",
      "ca_18.drparams\n",
      "1\n",
      "ca_19.drparams\n",
      "1\n",
      "ca_2.drparams\n",
      "2\n",
      "ca_20.drparams\n",
      "1\n",
      "ca_3.drparams\n",
      "1\n",
      "ca_4.drparams\n",
      "2\n",
      "ca_5.drparams\n",
      "2\n",
      "ca_6.drparams\n",
      "2\n",
      "ca_7.drparams\n",
      "2\n",
      "ca_8.drparams\n",
      "1\n",
      "ca_9.drparams\n",
      "1\n",
      "cl_10.drparams\n",
      "1\n",
      "cl_11.drparams\n",
      "1\n",
      "cl_12.drparams\n",
      "1\n",
      "cl_13.drparams\n",
      "1\n",
      "cl_14.drparams\n",
      "1\n",
      "cl_15.drparams\n",
      "1\n",
      "cl_16.drparams\n",
      "1\n",
      "cl_17.drparams\n",
      "1\n",
      "cl_2.drparams\n",
      "2\n",
      "cl_3.drparams\n",
      "2\n",
      "cl_4.drparams\n",
      "2\n",
      "cl_5.drparams\n",
      "1\n",
      "cl_6.drparams\n",
      "1\n",
      "cl_7.drparams\n",
      "1\n",
      "cl_8.drparams\n",
      "1\n",
      "cl_9.drparams\n",
      "1\n",
      "co_10.drparams\n",
      "1\n",
      "co_11.drparams\n",
      "2\n",
      "co_12.drparams\n",
      "2\n",
      "co_13.drparams\n",
      "2\n",
      "co_14.drparams\n",
      "2\n",
      "co_15.drparams\n",
      "1\n",
      "co_16.drparams\n",
      "1\n",
      "co_17.drparams\n",
      "1\n",
      "co_18.drparams\n",
      "1\n",
      "co_19.drparams\n",
      "1\n",
      "co_2.drparams\n",
      "1\n",
      "co_20.drparams\n",
      "1\n",
      "co_21.drparams\n",
      "1\n",
      "co_22.drparams\n",
      "1\n",
      "co_23.drparams\n",
      "1\n",
      "co_24.drparams\n",
      "1\n",
      "co_25.drparams\n",
      "1\n",
      "co_26.drparams\n",
      "1\n",
      "co_27.drparams\n",
      "1\n",
      "co_3.drparams\n",
      "1\n",
      "co_4.drparams\n",
      "1\n",
      "co_5.drparams\n",
      "1\n",
      "co_6.drparams\n",
      "1\n",
      "co_7.drparams\n",
      "1\n",
      "co_8.drparams\n",
      "1\n",
      "co_9.drparams\n",
      "2\n",
      "cr_10.drparams\n",
      "2\n",
      "cr_11.drparams\n",
      "2\n",
      "cr_12.drparams\n",
      "1\n",
      "cr_13.drparams\n",
      "1\n",
      "cr_14.drparams\n",
      "1\n",
      "cr_15.drparams\n",
      "1\n",
      "cr_16.drparams\n",
      "1\n",
      "cr_17.drparams\n",
      "1\n",
      "cr_18.drparams\n",
      "1\n",
      "cr_19.drparams\n",
      "1\n",
      "cr_2.drparams\n",
      "1\n",
      "cr_20.drparams\n",
      "1\n",
      "cr_21.drparams\n",
      "1\n",
      "cr_22.drparams\n",
      "1\n",
      "cr_23.drparams\n",
      "1\n",
      "cr_24.drparams\n",
      "1\n",
      "cr_3.drparams\n",
      "1\n",
      "cr_4.drparams\n",
      "1\n",
      "cr_5.drparams\n",
      "1\n",
      "cr_6.drparams\n",
      "2\n",
      "cr_7.drparams\n",
      "1\n",
      "cr_8.drparams\n",
      "2\n",
      "cr_9.drparams\n",
      "2\n",
      "cu_10.drparams\n",
      "1\n",
      "cu_11.drparams\n",
      "1\n",
      "cu_12.drparams\n",
      "1\n",
      "cu_13.drparams\n",
      "1\n",
      "cu_14.drparams\n",
      "1\n",
      "cu_15.drparams\n",
      "1\n",
      "cu_16.drparams\n",
      "1\n",
      "cu_17.drparams\n",
      "1\n",
      "cu_18.drparams\n",
      "1\n",
      "cu_19.drparams\n",
      "1\n",
      "cu_2.drparams\n",
      "1\n",
      "cu_20.drparams\n",
      "1\n",
      "cu_21.drparams\n",
      "1\n",
      "cu_22.drparams\n",
      "1\n",
      "cu_23.drparams\n",
      "1\n",
      "cu_24.drparams\n",
      "1\n",
      "cu_25.drparams\n",
      "1\n",
      "cu_26.drparams\n",
      "1\n",
      "cu_27.drparams\n",
      "1\n",
      "cu_28.drparams\n",
      "1\n",
      "cu_29.drparams\n",
      "1\n",
      "cu_3.drparams\n",
      "1\n",
      "cu_4.drparams\n",
      "1\n",
      "cu_5.drparams\n",
      "1\n",
      "cu_6.drparams\n",
      "1\n",
      "cu_7.drparams\n",
      "1\n",
      "cu_8.drparams\n",
      "1\n",
      "cu_9.drparams\n",
      "1\n",
      "f_2.drparams\n",
      "1\n",
      "f_3.drparams\n",
      "1\n",
      "f_4.drparams\n",
      "1\n",
      "f_5.drparams\n",
      "1\n",
      "f_6.drparams\n",
      "1\n",
      "f_7.drparams\n",
      "1\n",
      "f_8.drparams\n",
      "1\n",
      "f_9.drparams\n",
      "1\n",
      "fe_10.drparams\n",
      "1\n",
      "fe_11.drparams\n",
      "1\n",
      "fe_12.drparams\n",
      "1\n",
      "fe_13.drparams\n",
      "1\n",
      "fe_14.drparams\n",
      "1\n",
      "fe_15.drparams\n",
      "1\n",
      "fe_16.drparams\n",
      "1\n",
      "fe_17.drparams\n",
      "1\n",
      "fe_18.drparams\n",
      "1\n",
      "fe_19.drparams\n",
      "1\n",
      "fe_2.drparams\n",
      "1\n",
      "fe_20.drparams\n",
      "1\n",
      "fe_21.drparams\n",
      "1\n",
      "fe_22.drparams\n",
      "1\n",
      "fe_23.drparams\n",
      "1\n",
      "fe_24.drparams\n",
      "1\n",
      "fe_25.drparams\n",
      "1\n",
      "fe_26.drparams\n",
      "1\n",
      "fe_3.drparams\n",
      "1\n",
      "fe_4.drparams\n",
      "1\n",
      "fe_5.drparams\n",
      "1\n",
      "fe_6.drparams\n",
      "1\n",
      "fe_7.drparams\n",
      "1\n",
      "fe_8.drparams\n",
      "1\n",
      "fe_9.drparams\n",
      "1\n",
      "he_2.drparams\n",
      "1\n",
      "k_10.drparams\n",
      "1\n",
      "k_11.drparams\n",
      "1\n",
      "k_12.drparams\n",
      "1\n",
      "k_13.drparams\n",
      "1\n",
      "k_14.drparams\n",
      "1\n",
      "k_15.drparams\n",
      "1\n",
      "k_16.drparams\n",
      "1\n",
      "k_17.drparams\n",
      "1\n",
      "k_18.drparams\n",
      "1\n",
      "k_19.drparams\n",
      "1\n",
      "k_2.drparams\n",
      "2\n",
      "k_3.drparams\n",
      "2\n",
      "k_4.drparams\n",
      "2\n",
      "k_5.drparams\n",
      "2\n",
      "k_6.drparams\n",
      "2\n",
      "k_7.drparams\n",
      "1\n",
      "k_8.drparams\n",
      "1\n",
      "k_9.drparams\n",
      "1\n",
      "li_2.drparams\n",
      "1\n",
      "li_3.drparams\n",
      "1\n",
      "mg_10.drparams\n",
      "1\n",
      "mg_11.drparams\n",
      "1\n",
      "mg_12.drparams\n",
      "1\n",
      "mg_2.drparams\n",
      "1\n",
      "mg_3.drparams\n",
      "1\n",
      "mg_4.drparams\n",
      "1\n",
      "mg_5.drparams\n",
      "1\n",
      "mg_6.drparams\n",
      "1\n",
      "mg_7.drparams\n",
      "1\n",
      "mg_8.drparams\n",
      "1\n",
      "mg_9.drparams\n",
      "1\n",
      "mn_10.drparams\n",
      "2\n",
      "mn_11.drparams\n",
      "2\n",
      "mn_12.drparams\n",
      "2\n",
      "mn_13.drparams\n",
      "1\n",
      "mn_14.drparams\n",
      "1\n",
      "mn_15.drparams\n",
      "1\n",
      "mn_16.drparams\n",
      "1\n",
      "mn_17.drparams\n",
      "1\n",
      "mn_18.drparams\n",
      "1\n",
      "mn_19.drparams\n",
      "1\n",
      "mn_2.drparams\n",
      "1\n",
      "mn_20.drparams\n",
      "1\n",
      "mn_21.drparams\n",
      "1\n",
      "mn_22.drparams\n",
      "1\n",
      "mn_23.drparams\n",
      "1\n",
      "mn_24.drparams\n",
      "1\n",
      "mn_25.drparams\n",
      "1\n",
      "mn_3.drparams\n",
      "1\n",
      "mn_4.drparams\n",
      "1\n",
      "mn_5.drparams\n",
      "1\n",
      "mn_6.drparams\n",
      "1\n",
      "mn_7.drparams\n",
      "2\n",
      "mn_8.drparams\n",
      "1\n",
      "mn_9.drparams\n",
      "2\n",
      "n_2.drparams\n",
      "1\n",
      "n_3.drparams\n",
      "1\n",
      "n_4.drparams\n",
      "1\n",
      "n_5.drparams\n",
      "1\n",
      "n_6.drparams\n",
      "1\n",
      "n_7.drparams\n",
      "1\n",
      "na_10.drparams\n",
      "1\n",
      "na_11.drparams\n",
      "1\n",
      "na_2.drparams\n",
      "1\n",
      "na_3.drparams\n",
      "1\n",
      "na_4.drparams\n",
      "1\n",
      "na_5.drparams\n",
      "1\n",
      "na_6.drparams\n",
      "1\n",
      "na_7.drparams\n",
      "1\n",
      "na_8.drparams\n",
      "1\n",
      "na_9.drparams\n",
      "1\n",
      "ne_10.drparams\n",
      "1\n",
      "ne_2.drparams\n",
      "1\n",
      "ne_3.drparams\n",
      "1\n",
      "ne_4.drparams\n",
      "1\n",
      "ne_5.drparams\n",
      "1\n",
      "ne_6.drparams\n",
      "1\n",
      "ne_7.drparams\n",
      "1\n",
      "ne_8.drparams\n",
      "1\n",
      "ne_9.drparams\n",
      "1\n",
      "ni_10.drparams\n",
      "2\n",
      "ni_11.drparams\n",
      "1\n",
      "ni_12.drparams\n",
      "2\n",
      "ni_13.drparams\n",
      "2\n",
      "ni_14.drparams\n",
      "2\n",
      "ni_15.drparams\n",
      "2\n",
      "ni_16.drparams\n",
      "1\n",
      "ni_17.drparams\n",
      "1\n",
      "ni_18.drparams\n",
      "1\n",
      "ni_19.drparams\n",
      "1\n",
      "ni_2.drparams\n",
      "1\n",
      "ni_20.drparams\n",
      "1\n",
      "ni_21.drparams\n",
      "1\n",
      "ni_22.drparams\n",
      "1\n",
      "ni_23.drparams\n",
      "1\n",
      "ni_24.drparams\n",
      "1\n",
      "ni_25.drparams\n",
      "1\n",
      "ni_26.drparams\n",
      "1\n",
      "ni_27.drparams\n",
      "1\n",
      "ni_28.drparams\n",
      "1\n",
      "ni_3.drparams\n",
      "1\n",
      "ni_4.drparams\n",
      "1\n",
      "ni_5.drparams\n",
      "1\n",
      "ni_6.drparams\n",
      "1\n",
      "ni_7.drparams\n",
      "1\n",
      "ni_8.drparams\n",
      "1\n",
      "ni_9.drparams\n",
      "1\n",
      "o_2.drparams\n",
      "1\n",
      "o_3.drparams\n",
      "1\n",
      "o_4.drparams\n",
      "1\n",
      "o_5.drparams\n",
      "1\n",
      "o_6.drparams\n",
      "1\n",
      "o_7.drparams\n",
      "1\n",
      "o_8.drparams\n",
      "1\n",
      "p_10.drparams\n",
      "1\n",
      "p_11.drparams\n",
      "1\n",
      "p_12.drparams\n",
      "1\n",
      "p_13.drparams\n",
      "1\n",
      "p_14.drparams\n",
      "1\n",
      "p_15.drparams\n",
      "1\n",
      "p_2.drparams\n",
      "2\n",
      "p_3.drparams\n",
      "1\n",
      "p_4.drparams\n",
      "1\n",
      "p_5.drparams\n",
      "1\n",
      "p_6.drparams\n",
      "1\n",
      "p_7.drparams\n",
      "1\n",
      "p_8.drparams\n",
      "1\n",
      "p_9.drparams\n",
      "1\n",
      "s_10.drparams\n",
      "1\n",
      "s_11.drparams\n",
      "1\n",
      "s_12.drparams\n",
      "1\n",
      "s_13.drparams\n",
      "1\n",
      "s_14.drparams\n",
      "1\n",
      "s_15.drparams\n",
      "1\n",
      "s_16.drparams\n",
      "1\n",
      "s_2.drparams\n",
      "1\n",
      "s_3.drparams\n",
      "1\n",
      "s_4.drparams\n",
      "1\n",
      "s_5.drparams\n",
      "1\n",
      "s_6.drparams\n",
      "1\n",
      "s_7.drparams\n",
      "1\n",
      "s_8.drparams\n",
      "1\n",
      "s_9.drparams\n",
      "1\n",
      "sc_10.drparams\n",
      "1\n",
      "sc_11.drparams\n",
      "1\n",
      "sc_12.drparams\n",
      "1\n",
      "sc_13.drparams\n",
      "1\n",
      "sc_14.drparams\n",
      "1\n",
      "sc_15.drparams\n",
      "1\n",
      "sc_16.drparams\n",
      "1\n",
      "sc_17.drparams\n",
      "1\n",
      "sc_18.drparams\n",
      "1\n",
      "sc_19.drparams\n",
      "1\n",
      "sc_2.drparams\n",
      "1\n",
      "sc_20.drparams\n",
      "1\n",
      "sc_21.drparams\n",
      "1\n",
      "sc_3.drparams\n",
      "1\n",
      "sc_4.drparams\n",
      "1\n",
      "sc_5.drparams\n",
      "1\n",
      "sc_6.drparams\n",
      "1\n",
      "sc_7.drparams\n",
      "1\n",
      "sc_8.drparams\n",
      "1\n",
      "sc_9.drparams\n",
      "1\n",
      "si_10.drparams\n",
      "1\n",
      "si_11.drparams\n",
      "1\n",
      "si_12.drparams\n",
      "1\n",
      "si_13.drparams\n",
      "1\n",
      "si_14.drparams\n",
      "1\n",
      "si_2.drparams\n",
      "1\n",
      "si_3.drparams\n",
      "1\n",
      "si_4.drparams\n",
      "1\n",
      "si_5.drparams\n",
      "1\n",
      "si_6.drparams\n",
      "1\n",
      "si_7.drparams\n",
      "1\n",
      "si_8.drparams\n",
      "1\n",
      "si_9.drparams\n",
      "1\n",
      "ti_10.drparams\n",
      "1\n",
      "ti_11.drparams\n",
      "1\n",
      "ti_12.drparams\n",
      "1\n",
      "ti_13.drparams\n",
      "1\n",
      "ti_14.drparams\n",
      "1\n",
      "ti_15.drparams\n",
      "1\n",
      "ti_16.drparams\n",
      "1\n",
      "ti_17.drparams\n",
      "1\n",
      "ti_18.drparams\n",
      "1\n",
      "ti_19.drparams\n",
      "1\n",
      "ti_2.drparams\n",
      "1\n",
      "ti_20.drparams\n",
      "1\n",
      "ti_21.drparams\n",
      "1\n",
      "ti_22.drparams\n",
      "1\n",
      "ti_3.drparams\n",
      "1\n",
      "ti_4.drparams\n",
      "2\n",
      "ti_5.drparams\n",
      "1\n",
      "ti_6.drparams\n",
      "2\n",
      "ti_7.drparams\n",
      "2\n",
      "ti_8.drparams\n",
      "2\n",
      "ti_9.drparams\n",
      "2\n",
      "v_10.drparams\n",
      "1\n",
      "v_11.drparams\n",
      "1\n",
      "v_12.drparams\n",
      "1\n",
      "v_13.drparams\n",
      "1\n",
      "v_14.drparams\n",
      "1\n",
      "v_15.drparams\n",
      "1\n",
      "v_16.drparams\n",
      "1\n",
      "v_17.drparams\n",
      "1\n",
      "v_18.drparams\n",
      "1\n",
      "v_19.drparams\n",
      "1\n",
      "v_2.drparams\n",
      "1\n",
      "v_20.drparams\n",
      "1\n",
      "v_21.drparams\n",
      "1\n",
      "v_22.drparams\n",
      "1\n",
      "v_23.drparams\n",
      "1\n",
      "v_3.drparams\n",
      "1\n",
      "v_4.drparams\n",
      "1\n",
      "v_5.drparams\n",
      "1\n",
      "v_6.drparams\n",
      "1\n",
      "v_7.drparams\n",
      "1\n",
      "v_8.drparams\n",
      "1\n",
      "v_9.drparams\n",
      "1\n",
      "zn_10.drparams\n",
      "1\n",
      "zn_11.drparams\n",
      "1\n",
      "zn_12.drparams\n",
      "1\n",
      "zn_13.drparams\n",
      "1\n",
      "zn_14.drparams\n",
      "1\n",
      "zn_15.drparams\n",
      "1\n",
      "zn_16.drparams\n",
      "1\n",
      "zn_17.drparams\n",
      "1\n",
      "zn_18.drparams\n",
      "1\n",
      "zn_19.drparams\n",
      "1\n",
      "zn_2.drparams\n",
      "1\n",
      "zn_20.drparams\n",
      "1\n",
      "zn_21.drparams\n",
      "1\n",
      "zn_22.drparams\n",
      "1\n",
      "zn_23.drparams\n",
      "1\n",
      "zn_24.drparams\n",
      "1\n",
      "zn_25.drparams\n",
      "1\n",
      "zn_26.drparams\n",
      "1\n",
      "zn_27.drparams\n",
      "1\n",
      "zn_28.drparams\n",
      "1\n",
      "zn_29.drparams\n",
      "1\n",
      "zn_3.drparams\n",
      "1\n",
      "zn_30.drparams\n",
      "1\n",
      "zn_4.drparams\n",
      "1\n",
      "zn_5.drparams\n",
      "1\n",
      "zn_6.drparams\n",
      "1\n",
      "zn_7.drparams\n",
      "1\n",
      "zn_8.drparams\n",
      "1\n",
      "zn_9.drparams\n",
      "1\n"
     ]
    }
   ],
   "source": [
    "for drf in drparams_files:\n",
    "    with open(os.path.join(fiasco.defaults['chianti_dbase_root'],drf.split('_')[0],drf.split('.')[0],drf),'r') as f:\n",
    "        lines = f.readlines()\n",
    "    print(drf)\n",
    "    print(lines[0].strip())"
   ]
  },
  {
   "cell_type": "code",
   "execution_count": 112,
   "metadata": {
    "collapsed": false
   },
   "outputs": [
    {
     "name": "stdout",
     "output_type": "stream",
     "text": [
      "    2\n",
      "   18    2  1.0000e-03  5.0000e-03  3.2000e+05  3.1000e+05\n",
      "-1\n",
      "%file:  ar_2.drparams\n",
      "%parameters for dielectronic recombination rate coefficients\n",
      "%reference:  Shull,J. M., VanSteenberg, M., 1982, ApJSS, 48, 95\n",
      " produced for the CHIANTI atomic database for astrophysical spectroscopy\n",
      " created by Ken Dere (GMU):  Wed Sep 24 12:54:25 2008\n",
      "-1\n"
     ]
    }
   ],
   "source": [
    "%%bash\n",
    "head -n 30 $XUVTOP/ar/ar_2/ar_2.drparams"
   ]
  },
  {
   "cell_type": "code",
   "execution_count": 10,
   "metadata": {
    "collapsed": false
   },
   "outputs": [
    {
     "name": "stdout",
     "output_type": "stream",
     "text": [
      "    1\n",
      "   13   12  1.3360e+07  1.6890e+07  2.0910e+07  0.0000e+00  0.0000e+00  0.0000e+00  0.0000e+00  0.0000e+00  0.0000e+00\n",
      "   13   12  4.0930e-02  1.6180e-01  1.3320e-02  0.0000e+00  0.0000e+00  0.0000e+00  0.0000e+00  0.0000e+00  0.0000e+00\n",
      "-1\n",
      "%file:  al_12.drparams\n",
      "%parameters for dielectronic recombination rate coefficients\n",
      "Bautista, M.A., Badnell, N.R., 2007, A&A, 466, 755\n",
      "Dielectronic recombination data for dynamic finite-density plasmas. XII. The helium isoelectronic sequence\n",
      "http://cdsads.u-strasbg.fr/cgi-bin/bib_query?2007A%26A...466..755B\n",
      " produced for the CHIANTI atomic database for astrophysical spectroscopy\n",
      " created by Ken Dere (GMU):  Wed Feb 15 11:09:28 2012\n",
      "-1\n"
     ]
    }
   ],
   "source": [
    "%%bash\n",
    "head -n 30 $XUVTOP/al/al_12/al_12.drparams"
   ]
  },
  {
   "cell_type": "code",
   "execution_count": 125,
   "metadata": {
    "collapsed": true
   },
   "outputs": [],
   "source": [
    "class TestDrparamsParser(fiasco.io.GenericParser):\n",
    "    filetype = 'drparams'\n",
    "    \n",
    "    def preprocessor(self,table,line,index):\n",
    "        line = line.strip().split()\n",
    "        if index == 0:\n",
    "            self._drparams_filetype = int(line[0])\n",
    "            if self._drparams_filetype == 1:\n",
    "                # Badnell type\n",
    "                self.dtypes = [float,float]\n",
    "                self.units = [u.K,(u.cm**3)/u.s*(u.K**(3/2))]\n",
    "                self.headings = ['E fit parameter','c fit parameter']\n",
    "            elif self._drparams_filetype == 2:\n",
    "                # Shull type\n",
    "                self.dtypes = [float,float,float,float]\n",
    "                self.units = [(u.cm**3)/u.s*(u.K**(3/2)),u.dimensionless_unscaled,u.K,u.K]\n",
    "                self.headings = ['A fit coefficient','B fit coefficient',\n",
    "                                 'T0 fit coefficient','T1 fit coefficient']\n",
    "            else:\n",
    "                raise ValueError('Unrecognized drparams filetype {}'.format(self._drparams_filetype))\n",
    "        else:\n",
    "            if self._drparams_filetype == 1:\n",
    "                tmp = np.array(line[2:],dtype=float)\n",
    "                if index%2 == 0:\n",
    "                    table[-1].append(tmp)\n",
    "                else:\n",
    "                    table.append([tmp])\n",
    "            else:\n",
    "                table.append(line[2:])"
   ]
  },
  {
   "cell_type": "code",
   "execution_count": 149,
   "metadata": {
    "collapsed": false
   },
   "outputs": [
    {
     "data": {
      "text/plain": [
       "OrderedDict([('footer',\n",
       "              '%file:  ar_2.drparams\\n%parameters for dielectronic recombination rate coefficients\\n%reference:  Shull,J. M., VanSteenberg, M., 1982, ApJSS, 48, 95\\n produced for the CHIANTI atomic database for astrophysical spectroscopy\\n created by Ken Dere (GMU):  Wed Sep 24 12:54:25 2008\\n-1\\n'),\n",
       "             ('chianti_version', '8.0.2'),\n",
       "             ('element', 'ar'),\n",
       "             ('ion', 'ar_2')])"
      ]
     },
     "execution_count": 149,
     "metadata": {},
     "output_type": "execute_result"
    }
   ],
   "source": [
    "fiasco.io.Parser('ar_2.drparams').parse().meta"
   ]
  },
  {
   "cell_type": "code",
   "execution_count": 130,
   "metadata": {
    "collapsed": false
   },
   "outputs": [],
   "source": [
    "foo = fiasco.io.Parser('ar_14.drparams').parse()"
   ]
  },
  {
   "cell_type": "code",
   "execution_count": 131,
   "metadata": {
    "collapsed": true
   },
   "outputs": [],
   "source": [
    "efit = foo['E fit parameter']\n",
    "cfit = foo['c fit parameter']"
   ]
  },
  {
   "cell_type": "code",
   "execution_count": 132,
   "metadata": {
    "collapsed": true
   },
   "outputs": [],
   "source": [
    "temperature = np.logspace(4,8,100)*u.K"
   ]
  },
  {
   "cell_type": "code",
   "execution_count": 143,
   "metadata": {
    "collapsed": false,
    "scrolled": true
   },
   "outputs": [
    {
     "data": {
      "text/latex": [
       "$[[0.00029898638,~0.00028698139,~0.0002764631,~\\dots, 0.00018851047,~0.00018850954,~0.0001885087],~\n",
       " [0.046495356,~0.036586143,~0.029408373,~\\dots, 0.0031320177,~0.0031319272,~0.0031318449],~\n",
       " [40.144098,~18.067145,~8.7289118,~\\dots, 0.0050244359,~0.0050239528,~0.0050235126],~\n",
       " \\dots, \n",
       " [5.4279691 \\times 10^{226},~3.4451579 \\times 10^{206},~1.3616477 \\times 10^{188},~\\dots, 0.25636625,~0.25493418,~0.2536363],~\n",
       " [0,~0,~0,~\\dots, 0,~0,~0],~\n",
       " [0,~0,~0,~\\dots, 0,~0,~0]] \\; \\mathrm{\\frac{cm^{3}\\,K^{3/2}}{s}}$"
      ],
      "text/plain": [
       "<Quantity [[  2.98986376e-004,  2.86981395e-004,  2.76463104e-004,\n",
       "              2.67215257e-004,  2.59058577e-004,  2.51843497e-004,\n",
       "              2.45444494e-004,  2.39755633e-004,  2.34687039e-004,\n",
       "              2.30162082e-004,  2.26115116e-004,  2.22489661e-004,\n",
       "              2.19236917e-004,  2.16314562e-004,  2.13685751e-004,\n",
       "              2.11318302e-004,  2.09184017e-004,  2.07258109e-004,\n",
       "              2.05518736e-004,  2.03946598e-004,  2.02524597e-004,\n",
       "              2.01237558e-004,  2.00071978e-004,  1.99015825e-004,\n",
       "              1.98058352e-004,  1.97189950e-004,  1.96402010e-004,\n",
       "              1.95686810e-004,  1.95037414e-004,  1.94447586e-004,\n",
       "              1.93911709e-004,  1.93424724e-004,  1.92982067e-004,\n",
       "              1.92579616e-004,  1.92213648e-004,  1.91880798e-004,\n",
       "              1.91578019e-004,  1.91302554e-004,  1.91051905e-004,\n",
       "              1.90823810e-004,  1.90616215e-004,  1.90427258e-004,\n",
       "              1.90255251e-004,  1.90098660e-004,  1.89956093e-004,\n",
       "              1.89826284e-004,  1.89708083e-004,  1.89600448e-004,\n",
       "              1.89502428e-004,  1.89413160e-004,  1.89331858e-004,\n",
       "              1.89257810e-004,  1.89190365e-004,  1.89128933e-004,\n",
       "              1.89072975e-004,  1.89022003e-004,  1.88975571e-004,\n",
       "              1.88933275e-004,  1.88894743e-004,  1.88859642e-004,\n",
       "              1.88827665e-004,  1.88798533e-004,  1.88771993e-004,\n",
       "              1.88747814e-004,  1.88725786e-004,  1.88705716e-004,\n",
       "              1.88687432e-004,  1.88670774e-004,  1.88655596e-004,\n",
       "              1.88641768e-004,  1.88629170e-004,  1.88617691e-004,\n",
       "              1.88607233e-004,  1.88597704e-004,  1.88589022e-004,\n",
       "              1.88581112e-004,  1.88573905e-004,  1.88567338e-004,\n",
       "              1.88561355e-004,  1.88555904e-004,  1.88550937e-004,\n",
       "              1.88546411e-004,  1.88542288e-004,  1.88538530e-004,\n",
       "              1.88535107e-004,  1.88531988e-004,  1.88529146e-004,\n",
       "              1.88526557e-004,  1.88524197e-004,  1.88522048e-004,\n",
       "              1.88520089e-004,  1.88518304e-004,  1.88516678e-004,\n",
       "              1.88515196e-004,  1.88513846e-004,  1.88512616e-004,\n",
       "              1.88511495e-004,  1.88510474e-004,  1.88509544e-004,\n",
       "              1.88508696e-004],\n",
       "           [  4.64953563e-002,  3.65861429e-002,  2.94083733e-002,\n",
       "              2.41018958e-002,  2.01052141e-002,  1.70436052e-002,\n",
       "              1.46618259e-002,  1.27826896e-002,  1.12810127e-002,\n",
       "              1.00668942e-002,  9.07478091e-003,  8.25619121e-003,\n",
       "              7.57479135e-003,  7.00301288e-003,  6.51969470e-003,\n",
       "              6.10841692e-003,  5.75630838e-003,  5.45318294e-003,\n",
       "              5.19090670e-003,  4.96292948e-003,  4.76393433e-003,\n",
       "              4.58957291e-003,  4.43626383e-003,  4.30103765e-003,\n",
       "              4.18141681e-003,  4.07532186e-003,  3.98099772e-003,\n",
       "              3.89695524e-003,  3.82192462e-003,  3.75481804e-003,\n",
       "              3.69469948e-003,  3.64076018e-003,  3.59229864e-003,\n",
       "              3.54870415e-003,  3.50944328e-003,  3.47404855e-003,\n",
       "              3.44210910e-003,  3.41326281e-003,  3.38718968e-003,\n",
       "              3.36360626e-003,  3.34226093e-003,  3.32292982e-003,\n",
       "              3.30541340e-003,  3.28953350e-003,  3.27513076e-003,\n",
       "              3.26206243e-003,  3.25020047e-003,  3.23942985e-003,\n",
       "              3.22964714e-003,  3.22075922e-003,  3.21268218e-003,\n",
       "              3.20534033e-003,  3.19866531e-003,  3.19259538e-003,\n",
       "              3.18707472e-003,  3.18205281e-003,  3.17748393e-003,\n",
       "              3.17332664e-003,  3.16954342e-003,  3.16610021e-003,\n",
       "              3.16296614e-003,  3.16011320e-003,  3.15751594e-003,\n",
       "              3.15515128e-003,  3.15299823e-003,  3.15103772e-003,\n",
       "              3.14925245e-003,  3.14762666e-003,  3.14614602e-003,\n",
       "              3.14479753e-003,  3.14356934e-003,  3.14245067e-003,\n",
       "              3.14143174e-003,  3.14050360e-003,  3.13965816e-003,\n",
       "              3.13888803e-003,  3.13818647e-003,  3.13754738e-003,\n",
       "              3.13696518e-003,  3.13643479e-003,  3.13595159e-003,\n",
       "              3.13551139e-003,  3.13511035e-003,  3.13474498e-003,\n",
       "              3.13441210e-003,  3.13410883e-003,  3.13383253e-003,\n",
       "              3.13358079e-003,  3.13335143e-003,  3.13314247e-003,\n",
       "              3.13295208e-003,  3.13277861e-003,  3.13262056e-003,\n",
       "              3.13247656e-003,  3.13234536e-003,  3.13222582e-003,\n",
       "              3.13211690e-003,  3.13201766e-003,  3.13192724e-003,\n",
       "              3.13184486e-003],\n",
       "           [  4.01440980e+001,  1.80671455e+001,  8.72891184e+000,\n",
       "              4.49880298e+000,  2.45927337e+000,  1.41846223e+000,\n",
       "              8.59131956e-001,  5.44060231e-001,  3.58806700e-001,\n",
       "              2.45547024e-001,  1.73797129e-001,  1.26848194e-001,\n",
       "              9.52083876e-002,  7.33054154e-002,  5.77674787e-002,\n",
       "              4.64966019e-002,  3.81533793e-002,  3.18621353e-002,\n",
       "              2.70376524e-002,  2.32807895e-002,  2.03141332e-002,\n",
       "              1.79414691e-002,  1.60217375e-002,  1.44519826e-002,\n",
       "              1.31559912e-002,  1.20765983e-002,  1.11703954e-002,\n",
       "              1.04040379e-002,  9.75163438e-003,  9.19287595e-003,\n",
       "              8.71168038e-003,  8.29519824e-003,  7.93307631e-003,\n",
       "              7.61690637e-003,  7.33980861e-003,  7.09611411e-003,\n",
       "              6.88112057e-003,  6.69090304e-003,  6.52216600e-003,\n",
       "              6.37212698e-003,  6.23842432e-003,  6.11904360e-003,\n",
       "              6.01225857e-003,  5.91658344e-003,  5.83073408e-003,\n",
       "              5.75359640e-003,  5.68420030e-003,  5.62169820e-003,\n",
       "              5.56534720e-003,  5.51449422e-003,  5.46856357e-003,\n",
       "              5.42704645e-003,  5.38949209e-003,  5.35550027e-003,\n",
       "              5.32471490e-003,  5.29681852e-003,  5.27152764e-003,\n",
       "              5.24858870e-003,  5.22777451e-003,  5.20888127e-003,\n",
       "              5.19172592e-003,  5.17614380e-003,  5.16198667e-003,\n",
       "              5.14912094e-003,  5.13742609e-003,  5.12679331e-003,\n",
       "              5.11712427e-003,  5.10833008e-003,  5.10033031e-003,\n",
       "              5.09305212e-003,  5.08642955e-003,  5.08040281e-003,\n",
       "              5.07491768e-003,  5.06992500e-003,  5.06538012e-003,\n",
       "              5.06124255e-003,  5.05747550e-003,  5.05404553e-003,\n",
       "              5.05092231e-003,  5.04807822e-003,  5.04548819e-003,\n",
       "              5.04312940e-003,  5.04098112e-003,  5.03902449e-003,\n",
       "              5.03724234e-003,  5.03561906e-003,  5.03414045e-003,\n",
       "              5.03279356e-003,  5.03156665e-003,  5.03044899e-003,\n",
       "              5.02943084e-003,  5.02850331e-003,  5.02765834e-003,\n",
       "              5.02688855e-003,  5.02618725e-003,  5.02554834e-003,\n",
       "              5.02496626e-003,  5.02443595e-003,  5.02395279e-003,\n",
       "              5.02351260e-003],\n",
       "           [  1.85027400e+011,  1.23716783e+010,  1.05193242e+009,\n",
       "              1.11337656e+008,  1.43861086e+007,  2.22943155e+006,\n",
       "              4.07737672e+005,  8.67187150e+004,  2.11625144e+004,\n",
       "              5.85380914e+003,  1.81506619e+003,  6.24488159e+002,\n",
       "              2.36221982e+002,  9.74145524e+001,  4.34613032e+001,\n",
       "              2.08315209e+001,  1.06588956e+001,  5.78836426e+000,\n",
       "              3.31860268e+000,  1.99902302e+000,  1.25961185e+000,\n",
       "              8.26941427e-001,  5.63571252e-001,  3.97389710e-001,\n",
       "              2.89043944e-001,  2.16268429e-001,  1.66040208e-001,\n",
       "              1.30505898e-001,  1.04794354e-001,  8.58047114e-002,\n",
       "              7.15151135e-002,  6.05776941e-002,  5.20752645e-002,\n",
       "              4.53717126e-002,  4.00180057e-002,  3.56919259e-002,\n",
       "              3.21586969e-002,  2.92448030e-002,  2.68202902e-002,\n",
       "              2.47866145e-002,  2.30681781e-002,  2.16063521e-002,\n",
       "              2.03552017e-002,  1.92783913e-002,  1.83469189e-002,\n",
       "              1.75374390e-002,  1.68310087e-002,  1.62121419e-002,\n",
       "              1.56680882e-002,  1.51882794e-002,  1.47639005e-002,\n",
       "              1.43875552e-002,  1.40530026e-002,  1.37549488e-002,\n",
       "              1.34888809e-002,  1.32509334e-002,  1.30377811e-002,\n",
       "              1.28465515e-002,  1.26747534e-002,  1.25202185e-002,\n",
       "              1.23810532e-002,  1.22555982e-002,  1.21423955e-002,\n",
       "              1.20401601e-002,  1.19477566e-002,  1.18641796e-002,\n",
       "              1.17885365e-002,  1.17200333e-002,  1.16579625e-002,\n",
       "              1.16016920e-002,  1.15506571e-002,  1.15043514e-002,\n",
       "              1.14623210e-002,  1.14241582e-002,  1.13894964e-002,\n",
       "              1.13580054e-002,  1.13293877e-002,  1.13033752e-002,\n",
       "              1.12797255e-002,  1.12582199e-002,  1.12386606e-002,\n",
       "              1.12208683e-002,  1.12046813e-002,  1.11899526e-002,\n",
       "              1.11765492e-002,  1.11643505e-002,  1.11532471e-002,\n",
       "              1.11431397e-002,  1.11339381e-002,  1.11255607e-002,\n",
       "              1.11179330e-002,  1.11109874e-002,  1.11046626e-002,\n",
       "              1.10989029e-002,  1.10936574e-002,  1.10888801e-002,\n",
       "              1.10845290e-002,  1.10805659e-002,  1.10769561e-002,\n",
       "              1.10736680e-002],\n",
       "           [  2.65194862e+029,  4.91594862e+026,  1.59348934e+024,\n",
       "              8.59468224e+021,  7.37231627e+019,  9.65098049e+017,\n",
       "              1.85704461e+016,  5.07569663e+014,  1.91007583e+013,\n",
       "              9.61942994e+011,  6.31756958e+010,  5.28456926e+009,\n",
       "              5.51054911e+008,  7.02428095e+007,  1.07518215e+007,\n",
       "              1.94435347e+006,  4.09306290e+005,  9.89555513e+004,\n",
       "              2.71399901e+004,  8.35008079e+003,  2.85265430e+003,\n",
       "              1.07212393e+003,  4.39538615e+002,  1.95052320e+002,\n",
       "              9.30360075e+001,  4.73927804e+001,  2.56328675e+001,\n",
       "              1.46417906e+001,  8.79015784e+000,  5.52185844e+000,\n",
       "              3.61502343e+000,  2.45742754e+000,  1.72878962e+000,\n",
       "              1.25479404e+000,  9.37057414e-001,  7.18166382e-001,\n",
       "              5.63570560e-001,  4.51880939e-001,  3.69505915e-001,\n",
       "              3.07597907e-001,  2.60267644e-001,  2.23513263e-001,\n",
       "              1.94562912e-001,  1.71462306e-001,  1.52810664e-001,\n",
       "              1.37588413e-001,  1.25042755e-001,  1.14610398e-001,\n",
       "              1.05864567e-001,  9.84781199e-002,  9.21975389e-002,\n",
       "              8.68243354e-002,  8.22016040e-002,  7.82041849e-002,\n",
       "              7.47313880e-002,  7.17015577e-002,  6.90479731e-002,\n",
       "              6.67157271e-002,  6.46593308e-002,  6.28408584e-002,\n",
       "              6.12285008e-002,  5.97954281e-002,  5.85188904e-002,\n",
       "              5.73794999e-002,  5.63606568e-002,  5.54480846e-002,\n",
       "              5.46294544e-002,  5.38940770e-002,  5.32326510e-002,\n",
       "              5.26370546e-002,  5.21001735e-002,  5.16157567e-002,\n",
       "              5.11782969e-002,  5.07829288e-002,  5.04253441e-002,\n",
       "              5.01017190e-002,  4.98086526e-002,  4.95431143e-002,\n",
       "              4.93023985e-002,  4.90840857e-002,  4.88860089e-002,\n",
       "              4.87062249e-002,  4.85429881e-002,  4.83947292e-002,\n",
       "              4.82600354e-002,  4.81376340e-002,  4.80263767e-002,\n",
       "              4.79252270e-002,  4.78332488e-002,  4.77495953e-002,\n",
       "              4.76735008e-002,  4.76042718e-002,  4.75412806e-002,\n",
       "              4.74839578e-002,  4.74317877e-002,  4.73843021e-002,\n",
       "              4.73410764e-002,  4.73017250e-002,  4.72658981e-002,\n",
       "              4.72332775e-002],\n",
       "           [  2.05596826e+152,  5.21059194e+138,  2.13108307e+126,\n",
       "              1.09863882e+115,  5.70008980e+104,  2.42436011e+095,\n",
       "              7.01183448e+086,  1.16312549e+079,  9.47531081e+071,\n",
       "              3.29101999e+065,  4.28440674e+059,  1.85907590e+054,\n",
       "              2.41602587e+049,  8.53065118e+044,  7.48818914e+040,\n",
       "              1.50712428e+037,  6.46076605e+033,  5.51582923e+030,\n",
       "              8.82165518e+027,  2.49967573e+025,  1.19273766e+023,\n",
       "              9.15013547e+020,  1.08196028e+019,  1.89759570e+017,\n",
       "              4.76644885e+015,  1.66083525e+014,  7.79778359e+012,\n",
       "              4.80422384e+011,  3.79139703e+010,  3.74927364e+009,\n",
       "              4.55368835e+008,  6.66987071e+007,  1.15873368e+007,\n",
       "              2.35167899e+006,  5.49922662e+005,  1.46314809e+005,\n",
       "              4.37882465e+004,  1.45871814e+004,  5.35790348e+003,\n",
       "              2.15109951e+003,  9.36559494e+002,  4.39027376e+002,\n",
       "              2.20129970e+002,  1.17354908e+002,  6.61594235e+001,\n",
       "              3.92459282e+001,  2.43862785e+001,  1.58071868e+001,\n",
       "              1.06485602e+001,  7.42965152e+000,  5.35221131e+000,\n",
       "              3.96964444e+000,  3.02342646e+000,  2.35913291e+000,\n",
       "              1.88181686e+000,  1.53152434e+000,  1.26945482e+000,\n",
       "              1.06992029e+000,  9.15552317e-001,  7.94376470e-001,\n",
       "              6.97986457e-001,  6.20380934e-001,  5.57207994e-001,\n",
       "              5.05265565e-001,  4.62165409e-001,  4.26103550e-001,\n",
       "              3.95701092e-001,  3.69892287e-001,  3.47844805e-001,\n",
       "              3.28902224e-001,  3.12542087e-001,  2.98344947e-001,\n",
       "              2.85971316e-001,  2.75144307e-001,  2.65636453e-001,\n",
       "              2.57259613e-001,  2.49857170e-001,  2.43297955e-001,\n",
       "              2.37471486e-001,  2.32284199e-001,  2.27656459e-001,\n",
       "              2.23520158e-001,  2.19816785e-001,  2.16495859e-001,\n",
       "              2.13513660e-001,  2.10832172e-001,  2.08418234e-001,\n",
       "              2.06242815e-001,  2.04280432e-001,  2.02508643e-001,\n",
       "              2.00907639e-001,  1.99459886e-001,  1.98149834e-001,\n",
       "              1.96963656e-001,  1.95889038e-001,  1.94914993e-001,\n",
       "              1.94031696e-001,  1.93230355e-001,  1.92503085e-001,\n",
       "              1.91842807e-001],\n",
       "           [  5.42796910e+226,  3.44515789e+206,  1.36164769e+188,\n",
       "              2.32169411e+171,  1.22233776e+156,  1.46516790e+142,\n",
       "              3.02910149e+129,  8.38692598e+117,  2.46971585e+107,\n",
       "              6.26949062e+097,  1.13304648e+089,  1.22451988e+081,\n",
       "              6.75128565e+073,  1.64300661e+067,  1.54681797e+061,\n",
       "              4.99562829e+055,  4.96058531e+050,  1.37067200e+046,\n",
       "              9.62293527e+041,  1.58007707e+038,  5.62684581e+034,\n",
       "              4.05694656e+031,  5.56244870e+028,  1.36983372e+026,\n",
       "              5.75188714e+023,  3.92741079e+021,  4.17635569e+019,\n",
       "              6.64954530e+017,  1.52938306e+016,  4.91790908e+014,\n",
       "              2.14612616e+013,  1.23697175e+012,  9.18670788e+010,\n",
       "              8.59557704e+009,  9.92643866e+008,  1.38865758e+008,\n",
       "              2.31356389e+007,  4.51971516e+006,  1.02080169e+006,\n",
       "              2.63133190e+005,  7.65092962e+004,  2.48262165e+004,\n",
       "              8.90288655e+003,  3.49717565e+003,  1.49264110e+003,\n",
       "              6.87134866e+002,  3.38890220e+002,  1.77970330e+002,\n",
       "              9.89657605e+001,  5.79780524e+001,  3.56182176e+001,\n",
       "              2.28495653e+001,  1.52479343e+001,  1.05475076e+001,\n",
       "              7.53890161e+000,  5.55165519e+000,  4.20089748e+000,\n",
       "              3.25850305e+000,  2.58520540e+000,  2.09364079e+000,\n",
       "              1.72761175e+000,  1.45012062e+000,  1.23628178e+000,\n",
       "              1.06902054e+000,  9.36403543e-001,  8.29946758e-001,\n",
       "              7.43521665e-001,  6.72635195e-001,  6.13947472e-001,\n",
       "              5.64943602e-001,  5.23706928e-001,  4.88760138e-001,\n",
       "              4.58952451e-001,  4.33378498e-001,  4.11319315e-001,\n",
       "              3.92198934e-001,  3.75552122e-001,  3.61000153e-001,\n",
       "              3.48232460e-001,  3.36992600e-001,  3.27067439e-001,\n",
       "              3.18278743e-001,  3.10476600e-001,  3.03534227e-001,\n",
       "              2.97343846e-001,  2.91813391e-001,  2.86863859e-001,\n",
       "              2.82427161e-001,  2.78444381e-001,  2.74864343e-001,\n",
       "              2.71642438e-001,  2.68739653e-001,  2.66121760e-001,\n",
       "              2.63758644e-001,  2.61623736e-001,  2.59693537e-001,\n",
       "              2.57947213e-001,  2.56366255e-001,  2.54934183e-001,\n",
       "              2.53636298e-001],\n",
       "           [  0.00000000e+000,  0.00000000e+000,  0.00000000e+000,\n",
       "              0.00000000e+000,  0.00000000e+000,  0.00000000e+000,\n",
       "              0.00000000e+000,  0.00000000e+000,  0.00000000e+000,\n",
       "              0.00000000e+000,  0.00000000e+000,  0.00000000e+000,\n",
       "              0.00000000e+000,  0.00000000e+000,  0.00000000e+000,\n",
       "              0.00000000e+000,  0.00000000e+000,  0.00000000e+000,\n",
       "              0.00000000e+000,  0.00000000e+000,  0.00000000e+000,\n",
       "              0.00000000e+000,  0.00000000e+000,  0.00000000e+000,\n",
       "              0.00000000e+000,  0.00000000e+000,  0.00000000e+000,\n",
       "              0.00000000e+000,  0.00000000e+000,  0.00000000e+000,\n",
       "              0.00000000e+000,  0.00000000e+000,  0.00000000e+000,\n",
       "              0.00000000e+000,  0.00000000e+000,  0.00000000e+000,\n",
       "              0.00000000e+000,  0.00000000e+000,  0.00000000e+000,\n",
       "              0.00000000e+000,  0.00000000e+000,  0.00000000e+000,\n",
       "              0.00000000e+000,  0.00000000e+000,  0.00000000e+000,\n",
       "              0.00000000e+000,  0.00000000e+000,  0.00000000e+000,\n",
       "              0.00000000e+000,  0.00000000e+000,  0.00000000e+000,\n",
       "              0.00000000e+000,  0.00000000e+000,  0.00000000e+000,\n",
       "              0.00000000e+000,  0.00000000e+000,  0.00000000e+000,\n",
       "              0.00000000e+000,  0.00000000e+000,  0.00000000e+000,\n",
       "              0.00000000e+000,  0.00000000e+000,  0.00000000e+000,\n",
       "              0.00000000e+000,  0.00000000e+000,  0.00000000e+000,\n",
       "              0.00000000e+000,  0.00000000e+000,  0.00000000e+000,\n",
       "              0.00000000e+000,  0.00000000e+000,  0.00000000e+000,\n",
       "              0.00000000e+000,  0.00000000e+000,  0.00000000e+000,\n",
       "              0.00000000e+000,  0.00000000e+000,  0.00000000e+000,\n",
       "              0.00000000e+000,  0.00000000e+000,  0.00000000e+000,\n",
       "              0.00000000e+000,  0.00000000e+000,  0.00000000e+000,\n",
       "              0.00000000e+000,  0.00000000e+000,  0.00000000e+000,\n",
       "              0.00000000e+000,  0.00000000e+000,  0.00000000e+000,\n",
       "              0.00000000e+000,  0.00000000e+000,  0.00000000e+000,\n",
       "              0.00000000e+000,  0.00000000e+000,  0.00000000e+000,\n",
       "              0.00000000e+000,  0.00000000e+000,  0.00000000e+000,\n",
       "              0.00000000e+000],\n",
       "           [  0.00000000e+000,  0.00000000e+000,  0.00000000e+000,\n",
       "              0.00000000e+000,  0.00000000e+000,  0.00000000e+000,\n",
       "              0.00000000e+000,  0.00000000e+000,  0.00000000e+000,\n",
       "              0.00000000e+000,  0.00000000e+000,  0.00000000e+000,\n",
       "              0.00000000e+000,  0.00000000e+000,  0.00000000e+000,\n",
       "              0.00000000e+000,  0.00000000e+000,  0.00000000e+000,\n",
       "              0.00000000e+000,  0.00000000e+000,  0.00000000e+000,\n",
       "              0.00000000e+000,  0.00000000e+000,  0.00000000e+000,\n",
       "              0.00000000e+000,  0.00000000e+000,  0.00000000e+000,\n",
       "              0.00000000e+000,  0.00000000e+000,  0.00000000e+000,\n",
       "              0.00000000e+000,  0.00000000e+000,  0.00000000e+000,\n",
       "              0.00000000e+000,  0.00000000e+000,  0.00000000e+000,\n",
       "              0.00000000e+000,  0.00000000e+000,  0.00000000e+000,\n",
       "              0.00000000e+000,  0.00000000e+000,  0.00000000e+000,\n",
       "              0.00000000e+000,  0.00000000e+000,  0.00000000e+000,\n",
       "              0.00000000e+000,  0.00000000e+000,  0.00000000e+000,\n",
       "              0.00000000e+000,  0.00000000e+000,  0.00000000e+000,\n",
       "              0.00000000e+000,  0.00000000e+000,  0.00000000e+000,\n",
       "              0.00000000e+000,  0.00000000e+000,  0.00000000e+000,\n",
       "              0.00000000e+000,  0.00000000e+000,  0.00000000e+000,\n",
       "              0.00000000e+000,  0.00000000e+000,  0.00000000e+000,\n",
       "              0.00000000e+000,  0.00000000e+000,  0.00000000e+000,\n",
       "              0.00000000e+000,  0.00000000e+000,  0.00000000e+000,\n",
       "              0.00000000e+000,  0.00000000e+000,  0.00000000e+000,\n",
       "              0.00000000e+000,  0.00000000e+000,  0.00000000e+000,\n",
       "              0.00000000e+000,  0.00000000e+000,  0.00000000e+000,\n",
       "              0.00000000e+000,  0.00000000e+000,  0.00000000e+000,\n",
       "              0.00000000e+000,  0.00000000e+000,  0.00000000e+000,\n",
       "              0.00000000e+000,  0.00000000e+000,  0.00000000e+000,\n",
       "              0.00000000e+000,  0.00000000e+000,  0.00000000e+000,\n",
       "              0.00000000e+000,  0.00000000e+000,  0.00000000e+000,\n",
       "              0.00000000e+000,  0.00000000e+000,  0.00000000e+000,\n",
       "              0.00000000e+000,  0.00000000e+000,  0.00000000e+000,\n",
       "              0.00000000e+000]] cm3 K(3/2) / s>"
      ]
     },
     "execution_count": 143,
     "metadata": {},
     "output_type": "execute_result"
    }
   ],
   "source": [
    "(cfit.T*np.exp(np.outer(efit,1/temperature)))"
   ]
  },
  {
   "cell_type": "code",
   "execution_count": 144,
   "metadata": {
    "collapsed": true
   },
   "outputs": [],
   "source": [
    "alpha = temperature**(-1.5)*(cfit.T*np.exp(-np.outer(efit,1/temperature))).sum(axis=0)"
   ]
  },
  {
   "cell_type": "code",
   "execution_count": 150,
   "metadata": {
    "collapsed": false
   },
   "outputs": [
    {
     "data": {
      "text/latex": [
       "$\\mathrm{\\frac{cm^{3}}{s}}$"
      ],
      "text/plain": [
       "Unit(\"cm3 / s\")"
      ]
     },
     "execution_count": 150,
     "metadata": {},
     "output_type": "execute_result"
    }
   ],
   "source": [
    "alpha.unit"
   ]
  },
  {
   "cell_type": "code",
   "execution_count": 146,
   "metadata": {
    "collapsed": false
   },
   "outputs": [
    {
     "data": {
      "image/png": "[encoded data removed]",
      "text/plain": [
       "<matplotlib.figure.Figure at 0x1164d5a20>"
      ]
     },
     "metadata": {},
     "output_type": "display_data"
    }
   ],
   "source": [
    "plt.plot(temperature,alpha)\n",
    "plt.xscale('log')\n",
    "plt.yscale('log')"
   ]
  },
  {
   "cell_type": "markdown",
   "metadata": {
    "collapsed": true
   },
   "source": [
    "## Abundance Read Tests"
   ]
  },
  {
   "cell_type": "code",
   "execution_count": 25,
   "metadata": {
    "collapsed": false
   },
   "outputs": [],
   "source": [
    "abund_files = [file for file in os.listdir(os.path.join(fiasco.defaults['chianti_dbase_root'],'abundance')) \n",
    "               if file[0]!='.' and os.path.isfile(os.path.join(fiasco.defaults['chianti_dbase_root'],'abundance',file))]"
   ]
  },
  {
   "cell_type": "code",
   "execution_count": 26,
   "metadata": {
    "collapsed": false
   },
   "outputs": [],
   "source": [
    "abund_files += [os.path.join('version_3',file) for file in os.listdir(os.path.join(fiasco.defaults['chianti_dbase_root'],'abundance','version_3'))\n",
    "                if file[0]!='.']"
   ]
  },
  {
   "cell_type": "code",
   "execution_count": null,
   "metadata": {
    "collapsed": false
   },
   "outputs": [],
   "source": [
    "failed_files = []\n",
    "with ProgressBar(len(abund_files),ipython_widget=True) as progress:\n",
    "    for ef in abund_files:\n",
    "        parser = fiasco.io.Parser(ef)\n",
    "        try:\n",
    "            df = parser.parse()\n",
    "        except:\n",
    "            print('Parse failed for file {}'.format(ef))\n",
    "            failed_files.append(ef)\n",
    "        progress.update()\n",
    "print('failure percentage: {}'.format(len(failed_files)/len(abund_files)*100))"
   ]
  },
  {
   "cell_type": "code",
   "execution_count": 27,
   "metadata": {
    "collapsed": false
   },
   "outputs": [
    {
     "name": "stdout",
     "output_type": "stream",
     "text": [
      "atomic number abundance relative to H element\n",
      "                                             \n",
      "------------- ----------------------- -------\n",
      "            1                     1.0       H\n",
      "            2     0.08511380382023759      He\n",
      "            6   0.0003311311214825908       C\n",
      "            7   9.120108393559096e-05       N\n",
      "            8   0.0006606934480075965       O\n",
      "            9   3.981071705534969e-08       F\n",
      "           10   8.317637711026709e-05      Ne\n",
      "           11   1.778279410038923e-06      Na\n",
      "           12  2.6302679918953814e-05      Mg\n",
      "           13  2.4547089156850284e-06      Al\n",
      "          ...                     ...     ...\n",
      "           21  1.6595869074375631e-09      Sc\n",
      "           22  1.3489628825916533e-07      Ti\n",
      "           23   2.511886431509582e-08       V\n",
      "           24   7.079457843841374e-07      Cr\n",
      "           25  2.5118864315095823e-07      Mn\n",
      "           26  3.9810717055349695e-05      Fe\n",
      "           27  1.2589254117941662e-07      Co\n",
      "           28  1.9952623149688787e-06      Ni\n",
      "           29   3.162277660168379e-08      Cu\n",
      "           30  1.5848931924611143e-08      Zn\n",
      "Length = 27 rows\n",
      "---Metadata---\n",
      "footer:%filename: cosmic_allen_1973.abund\n",
      "%elemental abundances: Allen, C.W., 1973, Astrophysical Quantities\n",
      "%produced for the CHIANTI atomic database by Enrico Landi, Jun 2002\n",
      "%comment:\n",
      "   Changed filename, Peter Young 28-Jun-2012 (previous name: cosmic.abund)\n",
      " -1\n",
      "\n",
      "chianti_version:8.0.2\n",
      "abundance_filename:cosmic_1973_allen.abund\n"
     ]
    }
   ],
   "source": [
    "parser = fiasco.io.Parser(abund_files[0])\n",
    "df = parser.parse()\n",
    "print(df)\n",
    "print('---Metadata---')\n",
    "for key in df.meta:\n",
    "    print('{}:{}'.format(key,df.meta[key]))"
   ]
  },
  {
   "cell_type": "markdown",
   "metadata": {},
   "source": [
    "## Ioneq Read Tests"
   ]
  },
  {
   "cell_type": "code",
   "execution_count": 28,
   "metadata": {
    "collapsed": false
   },
   "outputs": [],
   "source": [
    "ioneq_files = [os.path.join('deprecated',file) \n",
    "               for file in os.listdir(os.path.join(fiasco.defaults['chianti_dbase_root'],'ioneq','deprecated'))]\n",
    "ioneq_files += ['chianti.ioneq']"
   ]
  },
  {
   "cell_type": "code",
   "execution_count": null,
   "metadata": {
    "collapsed": false
   },
   "outputs": [],
   "source": [
    "failed_files = []\n",
    "with ProgressBar(len(ioneq_files),ipython_widget=True) as progress:\n",
    "    for ef in ioneq_files:\n",
    "        parser = fiasco.io.Parser(ef)\n",
    "        try:\n",
    "            df = parser.parse()\n",
    "        except:\n",
    "            print('Parse failed for file {}'.format(ef))\n",
    "            failed_files.append(ef)\n",
    "        progress.update()\n",
    "print('failure percentage: {}'.format(len(failed_files)/len(ioneq_files)*100))"
   ]
  },
  {
   "cell_type": "code",
   "execution_count": 29,
   "metadata": {
    "collapsed": false
   },
   "outputs": [
    {
     "name": "stdout",
     "output_type": "stream",
     "text": [
      "atomic number ion    temperature [101]    ionization fraction [101]\n",
      "                             K                                     \n",
      "------------- --- ----------------------- -------------------------\n",
      "            1   1 10000.0 .. 1000000000.0       0.9983 .. 1.664e-10\n",
      "            1   2 10000.0 .. 1000000000.0           0.001693 .. 1.0\n",
      "            2   1 10000.0 .. 1000000000.0          1.0 .. 5.607e-17\n",
      "            2   2 10000.0 .. 1000000000.0    1.904e-09 .. 1.093e-08\n",
      "            2   3 10000.0 .. 1000000000.0          1.592e-34 .. 1.0\n",
      "            3   1 10000.0 .. 1000000000.0     0.004061 .. 1.014e-23\n",
      "            3   2 10000.0 .. 1000000000.0        0.9959 .. 1.52e-14\n",
      "            3   3 10000.0 .. 1000000000.0           0.0 .. 1.46e-07\n",
      "            3   4 10000.0 .. 1000000000.0                0.0 .. 1.0\n",
      "            4   1 10000.0 .. 1000000000.0             0.9577 .. 0.0\n",
      "          ... ...                     ...                       ...\n",
      "           30  22 10000.0 .. 1000000000.0          0.0 .. 2.485e-21\n",
      "           30  23 10000.0 .. 1000000000.0          0.0 .. 1.907e-18\n",
      "           30  24 10000.0 .. 1000000000.0          0.0 .. 1.234e-15\n",
      "           30  25 10000.0 .. 1000000000.0          0.0 .. 7.294e-13\n",
      "           30  26 10000.0 .. 1000000000.0          0.0 .. 3.368e-10\n",
      "           30  27 10000.0 .. 1000000000.0           0.0 .. 1.26e-07\n",
      "           30  28 10000.0 .. 1000000000.0          0.0 .. 3.029e-05\n",
      "           30  29 10000.0 .. 1000000000.0           0.0 .. 0.004694\n",
      "           30  30 10000.0 .. 1000000000.0             0.0 .. 0.1105\n",
      "           30  31 10000.0 .. 1000000000.0             0.0 .. 0.8847\n",
      "Length = 495 rows\n",
      "---Metadata---\n",
      "footer:%filename:  chianti.ioneq\n",
      "%ionization equilibrium:  CHIANTI\n",
      " produced as part of the CHIANTI atomic data base collaboration\n",
      "  K.P. Dere (GMU)  Mon May 19 10:10:12 2014\n",
      " -1\n",
      "\n",
      "chianti_version:8.0.2\n",
      "ioneq_filename:chianti.ioneq\n"
     ]
    }
   ],
   "source": [
    "parser = fiasco.io.Parser(ioneq_files[-1])\n",
    "df = parser.parse()\n",
    "print(df)\n",
    "print('---Metadata---')\n",
    "for key in df.meta:\n",
    "    print('{}:{}'.format(key,df.meta[key]))"
   ]
  },
  {
   "cell_type": "markdown",
   "metadata": {},
   "source": [
    "## Ip Read Tests"
   ]
  },
  {
   "cell_type": "code",
   "execution_count": 30,
   "metadata": {
    "collapsed": false
   },
   "outputs": [
    {
     "name": "stdout",
     "output_type": "stream",
     "text": [
      "atomic number ion ionization potential\n",
      "                         1 / cm       \n",
      "------------- --- --------------------\n",
      "            1   1          109678.7737\n",
      "            2   1         198310.77227\n",
      "            2   2          438908.8863\n",
      "            3   1             43487.15\n",
      "            3   2             610079.0\n",
      "            3   3           987661.027\n",
      "            4   1             75192.64\n",
      "            4   2            146882.86\n",
      "            4   3            1241242.0\n",
      "            4   4          1756018.824\n",
      "          ... ...                  ...\n",
      "           30  21           14890000.0\n",
      "           30  22           15860000.0\n",
      "           30  23           16810000.0\n",
      "           30  24           18020000.0\n",
      "           30  25           19040000.0\n",
      "           30  26           20110000.0\n",
      "           30  27           21490000.0\n",
      "           30  28           22450000.0\n",
      "           30  29           95696100.0\n",
      "           30  30           99921800.0\n",
      "Length = 465 rows\n",
      "---Metadata---\n",
      "footer:%filename: chianti.ip\n",
      "%ionization potentials: Martin, W.C., Sugar, J., Musgrove, A., Dalton, G.R.,\n",
      "    1995, NIST Database for Atomic Spectroscopy, Version 1.0, NIST Standard Reference Database 61\n",
      "    and Version 2.0 http://physics.nist.gov/cgi-bin/AtData/main_asd\n",
      "%ionization postentials: additional data for Cu and Zn from Biemeont, E., Fremat, Y., Quinet, P., 1999, ADNDT, 71, 117\n",
      "%ionization potentials: Erickson, G.W., 1977, J. Phys. Chem. Ref. Data, 6, 831\n",
      "%ionization potentials: C.E. Moore, 1970, NSRDS-NBS \n",
      "%ionization potentials: Boiko V.A., Pal'chikov V.G., Skobelev I.Yu., Faenov A.Ya., Boiko V.A., Pal'chikov V.G., \n",
      "    Skobelev I.Yu., Faenov A.Ya. from - http://spectr-w3.snz.ru/index.phtml\n",
      "% produced as part of the Arcetri/Cambridge/NRL 'CHIANTI' atomic data base collaboration\n",
      "%\n",
      "%   K.P.Dere 2006\n",
      " -1\n",
      "\n",
      "chianti_version:8.0.2\n",
      "ip_filename:chianti.ip\n"
     ]
    }
   ],
   "source": [
    "parser = fiasco.io.Parser('chianti.ip')\n",
    "df = parser.parse()\n",
    "print(df)\n",
    "print('---Metadata---')\n",
    "for key in df.meta:\n",
    "    print('{}:{}'.format(key,df.meta[key]))"
   ]
  },
  {
   "cell_type": "markdown",
   "metadata": {},
   "source": [
    "## Auto-registry\n",
    "Note that if we want to parse a new kind of file, it is just a matter of subclassing the generic parser and naming it using the convention \n",
    "\n",
    "```\n",
    "{File extension}Parser\n",
    "``` \n",
    "\n",
    "with the file extension capitalized. You can also bypass all of this machinery by passing in a custom parser using the `custom_parser` kwarg to `Parser`"
   ]
  },
  {
   "cell_type": "code",
   "execution_count": 39,
   "metadata": {
    "collapsed": true
   },
   "outputs": [],
   "source": [
    "class JpegParser(fiasco.io.GenericParser):\n",
    "    def __init__(self,*args,**kwargs):\n",
    "        print('A custom registered parser')\n",
    "    def parse(self):\n",
    "        print('Nothing to parse here')"
   ]
  },
  {
   "cell_type": "code",
   "execution_count": 40,
   "metadata": {
    "collapsed": false
   },
   "outputs": [
    {
     "name": "stdout",
     "output_type": "stream",
     "text": [
      "A custom registered parser\n",
      "Nothing to parse here\n"
     ]
    }
   ],
   "source": [
    "fiasco.io.Parser('hello.jpeg').parse()"
   ]
  },
  {
   "cell_type": "code",
   "execution_count": null,
   "metadata": {
    "collapsed": true
   },
   "outputs": [],
   "source": []
  }
 ],
 "metadata": {
  "anaconda-cloud": {},
  "kernelspec": {
   "display_name": "Python [conda env:fiasco]",
   "language": "python",
   "name": "conda-env-fiasco-py"
  },
  "language_info": {
   "codemirror_mode": {
    "name": "ipython",
    "version": 3
   },
   "file_extension": ".py",
   "mimetype": "text/x-python",
   "name": "python",
   "nbconvert_exporter": "python",
   "pygments_lexer": "ipython3",
   "version": "3.6.2"
  }
 },
 "nbformat": 4,
 "nbformat_minor": 2
}
