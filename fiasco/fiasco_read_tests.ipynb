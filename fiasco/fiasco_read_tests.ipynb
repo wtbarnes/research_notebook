{
 "cells": [
  {
   "cell_type": "markdown",
   "metadata": {},
   "source": [
    "# *fiasco*: Testing the Package--Read Tests\n",
    "Test parsing capabilities of the fiasco package for all CHIANTI filetypes"
   ]
  },
  {
   "cell_type": "code",
   "execution_count": 1,
   "metadata": {
    "collapsed": false
   },
   "outputs": [],
   "source": [
    "import os\n",
    "import h5py\n",
    "import numpy as np\n",
    "#import pandas\n",
    "import astropy.units as u\n",
    "from astropy.utils.console import ProgressBar\n",
    "import fiasco.io\n",
    "#import matplotlib.pyplot as plt\n",
    "import fortranformat\n",
    "\n",
    "%matplotlib inline"
   ]
  },
  {
   "cell_type": "markdown",
   "metadata": {},
   "source": [
    "Collect all of the needed data files"
   ]
  },
  {
   "cell_type": "code",
   "execution_count": 2,
   "metadata": {
    "collapsed": true
   },
   "outputs": [],
   "source": [
    "skip_dirs = ['abundance','ip','ancillary_data','continuum','dem','ioneq','masterlist']\n",
    "all_files = []\n",
    "for topdir,subdir,files in os.walk(fiasco.defaults['chianti_dbase_root']):\n",
    "    if np.any([sd in topdir for sd in skip_dirs]):\n",
    "        continue\n",
    "    if topdir == fiasco.defaults['chianti_dbase_root']:\n",
    "        continue\n",
    "    files = [file for file in files if file[0] != '.']\n",
    "    all_files += files"
   ]
  },
  {
   "cell_type": "markdown",
   "metadata": {},
   "source": [
    "## Elvlc Read Tests"
   ]
  },
  {
   "cell_type": "code",
   "execution_count": 3,
   "metadata": {
    "collapsed": true
   },
   "outputs": [],
   "source": [
    "elvlc_files = [file for file in all_files if os.path.splitext(file)[1] == '.elvlc']"
   ]
  },
  {
   "cell_type": "code",
   "execution_count": null,
   "metadata": {
    "collapsed": false,
    "scrolled": true
   },
   "outputs": [],
   "source": [
    "failed_files = []\n",
    "for ef in elvlc_files:\n",
    "    parser = fiasco.io.Parser(ef)\n",
    "    try:\n",
    "        df = parser.parse()\n",
    "    except:\n",
    "        print('Parse failed for file {}'.format(ef))\n",
    "        failed_files.append(ef)\n",
    "print('failure percentage: {}'.format(len(failed_files)/len(elvlc_files)*100))"
   ]
  },
  {
   "cell_type": "code",
   "execution_count": 4,
   "metadata": {
    "collapsed": false
   },
   "outputs": [
    {
     "name": "stdout",
     "output_type": "stream",
     "text": [
      "level index configuration level label ... observed energy theoretical energy\n",
      "                                      ...      1 / cm           1 / cm      \n",
      "----------- ------------- ----------- ... --------------- ------------------\n",
      "          1           2s2             ...             0.0                0.0\n",
      "          2         2s.2p             ...        155148.0         156208.875\n",
      "          3         2s.2p             ...        156798.0         157871.391\n",
      "          4         2s.2p             ...        160429.0         161524.547\n",
      "          5         2s.2p             ...        300490.0         314297.531\n",
      "          6           2p2             ...        404574.0         407449.156\n",
      "          7           2p2             ...        406517.0         409368.438\n",
      "          8           2p2             ...        409690.0         412555.219\n",
      "          9           2p2             ...        449732.0         460884.656\n",
      "         10           2p2             ...        553783.0         569392.938\n",
      "---Metadata---\n",
      "footer:%filename: al_10.elvlc\n",
      "%energy levels:  Martin, W. C., Sugar, J., Musgrove, A., and Dalton, G. R., 1995, \n",
      "  NIST Database for Atomic Spectroscopy, Version 1.0, NIST Standard Reference Database 61.\n",
      "%Theoretical energy levels: Zhang, Sampson, ADNDT, 1992 , 52, 143\n",
      "%produced as part of the Arcetri/Cambridge/NRL 'CHIANTI' atomic data base collaboration\n",
      "%\n",
      "% E. Landi and K.P.Dere 1995\n",
      "\n",
      "chianti_version:8.0.2\n",
      "element:al\n",
      "ion:al_10\n"
     ]
    }
   ],
   "source": [
    "parser = fiasco.io.Parser(elvlc_files[0])\n",
    "df = parser.parse()\n",
    "print(df)\n",
    "print('---Metadata---')\n",
    "for key in df.meta:\n",
    "    print('{}:{}'.format(key,df.meta[key]))"
   ]
  },
  {
   "cell_type": "markdown",
   "metadata": {},
   "source": [
    "## Fblvl Read Tests"
   ]
  },
  {
   "cell_type": "code",
   "execution_count": 5,
   "metadata": {
    "collapsed": true
   },
   "outputs": [],
   "source": [
    "fblvl_files = [file for file in all_files if os.path.splitext(file)[1] == '.fblvl']"
   ]
  },
  {
   "cell_type": "code",
   "execution_count": null,
   "metadata": {
    "collapsed": false
   },
   "outputs": [],
   "source": [
    "failed_files = []\n",
    "for ef in fblvl_files:\n",
    "    parser = fiasco.io.Parser(ef)\n",
    "    try:\n",
    "        df = parser.parse()\n",
    "    except:\n",
    "        print('Parse failed for file {}'.format(ef))\n",
    "        failed_files.append(ef)\n",
    "print('failure percentage: {}'.format(len(failed_files)/len(fblvl_files)*100))"
   ]
  },
  {
   "cell_type": "code",
   "execution_count": 6,
   "metadata": {
    "collapsed": false
   },
   "outputs": [
    {
     "name": "stdout",
     "output_type": "stream",
     "text": [
      "level index configuration ... observed energy theoretical energy\n",
      "                          ...      1 / cm           1 / cm      \n",
      "----------- ------------- ... --------------- ------------------\n",
      "          1         3s23p ...          74.707                0.0\n",
      "          2         3s23d ...       32436.259                0.0\n",
      "          3         3s24s ...       25347.756                0.0\n",
      "          4         3s24p ...       32960.363                0.0\n",
      "          5         3s24d ...       42236.166                0.0\n",
      "          6         3s24f ...       41319.395                0.0\n",
      "          7         3s25s ...       37689.406                0.0\n",
      "          8         3s25p ...       40275.914                0.0\n",
      "          9         3s25d ...       44167.868                0.0\n",
      "         10         3s25f ...       43831.104                0.0\n",
      "         11         3s25g ...        43875.75                0.0\n",
      "---Metadata---\n",
      "footer:%filename: al_1.fblvl\n",
      "%energy levels: NIST Atomic Spectra Database Version 2.0\n",
      "%comment: free-bound data file developed from .elvlc file\n",
      "%produced as part of the Arcetri/Cambridge/NRL 'CHIANTI' atomic data base collaboration\n",
      "%\n",
      "% Ken Dere - Jul 22 2002\n",
      " -1\n",
      "\n",
      "chianti_version:8.0.2\n",
      "element:al\n",
      "ion:al_1\n"
     ]
    }
   ],
   "source": [
    "parser = fiasco.io.Parser(fblvl_files[0])\n",
    "df = parser.parse()\n",
    "print(df)\n",
    "print('---Metadata---')\n",
    "for key in df.meta:\n",
    "    print('{}:{}'.format(key,df.meta[key]))"
   ]
  },
  {
   "cell_type": "markdown",
   "metadata": {},
   "source": [
    "## Scups Read Tests"
   ]
  },
  {
   "cell_type": "code",
   "execution_count": 7,
   "metadata": {
    "collapsed": true
   },
   "outputs": [],
   "source": [
    "scups_files = [file for file in all_files if os.path.splitext(file)[1] == '.scups']"
   ]
  },
  {
   "cell_type": "code",
   "execution_count": null,
   "metadata": {
    "collapsed": false
   },
   "outputs": [],
   "source": [
    "failed_files = []\n",
    "with ProgressBar(len(scups_files),ipython_widget=True) as progress:\n",
    "    for ef in scups_files:\n",
    "        parser = fiasco.io.Parser(ef)\n",
    "        try:\n",
    "            df = parser.parse()\n",
    "        except:\n",
    "            print('Parse failed for file {}'.format(ef))\n",
    "            failed_files.append(ef)\n",
    "        progress.update()\n",
    "print('failure percentage: {}'.format(len(failed_files)/len(scups_files)*100))"
   ]
  },
  {
   "cell_type": "code",
   "execution_count": 8,
   "metadata": {
    "collapsed": false
   },
   "outputs": [
    {
     "name": "stdout",
     "output_type": "stream",
     "text": [
      "lower level index ...\n",
      "                  ...\n",
      "----------------- ...\n",
      "                1 ...\n",
      "                1 ...\n",
      "                1 ...\n",
      "                1 ...\n",
      "                1 ...\n",
      "                1 ...\n",
      "                1 ...\n",
      "                1 ...\n",
      "                1 ...\n",
      "                2 ...\n",
      "              ... ...\n",
      "                6 ...\n",
      "                6 ...\n",
      "                6 ...\n",
      "                6 ...\n",
      "                7 ...\n",
      "                7 ...\n",
      "                7 ...\n",
      "                8 ...\n",
      "                8 ...\n",
      "                9 ...\n",
      "Length = 43 rows\n",
      "---Metadata---\n",
      "footer:%filename: al_10.splups\n",
      "%Effective collision strengths: Keenan et al., 1986, Physica Scripta 34, 216\n",
      "%Allowed transitions oscillator strengths: Zhang, Sampson, ADNDT, 1992 , 52, 143\n",
      "%comment: Have derived the upsilon data from Table V of Keenan et al.\n",
      "   The Delta-E's have been taken from the observed values in the .elvlc\n",
      "   file. The gf values are from the .wgfa file.\n",
      "   The upsilons have been created for logT=6.1+-0.8 in 0.1 dex intervals.\n",
      "%produced as part of the Arcetri/Cambridge/NRL 'CHIANTI' atomic data base collaboration\n",
      "%\n",
      "% E. Landi Feb 2001\n",
      "-1\n",
      "\n",
      "chianti_version:8.0.2\n",
      "element:al\n",
      "ion:al_10\n"
     ]
    }
   ],
   "source": [
    "parser = fiasco.io.Parser(scups_files[0])\n",
    "df = parser.parse()\n",
    "print(df)\n",
    "print('---Metadata---')\n",
    "for key in df.meta:\n",
    "    print('{}:{}'.format(key,df.meta[key]))"
   ]
  },
  {
   "cell_type": "markdown",
   "metadata": {},
   "source": [
    "## Psplups Read Tests"
   ]
  },
  {
   "cell_type": "code",
   "execution_count": 9,
   "metadata": {
    "collapsed": true
   },
   "outputs": [],
   "source": [
    "psplups_files = [file for file in all_files if os.path.splitext(file)[1] == '.psplups']"
   ]
  },
  {
   "cell_type": "code",
   "execution_count": null,
   "metadata": {
    "collapsed": false,
    "scrolled": true
   },
   "outputs": [],
   "source": [
    "failed_files = []\n",
    "with ProgressBar(len(psplups_files),ipython_widget=True) as progress:\n",
    "    for ef in psplups_files:\n",
    "        parser = fiasco.io.Parser(ef)\n",
    "        try:\n",
    "            df = parser.parse()\n",
    "        except:\n",
    "            print('Parse failed for file {}'.format(ef))\n",
    "            failed_files.append(ef)\n",
    "        progress.update()\n",
    "print('failure percentage: {}'.format(len(failed_files)/len(psplups_files)*100))"
   ]
  },
  {
   "cell_type": "code",
   "execution_count": 10,
   "metadata": {
    "collapsed": false
   },
   "outputs": [
    {
     "name": "stdout",
     "output_type": "stream",
     "text": [
      "lower level index ... Burgess-Tully scaled effective collision strengths [9]\n",
      "                  ...                                                       \n",
      "----------------- ... ------------------------------------------------------\n",
      "                2 ...                                  4.57e-14 .. 1.667e-12\n",
      "                2 ...                                 5.603e-12 .. 2.986e-10\n",
      "                3 ...                                 1.582e-11 .. 2.293e-10\n",
      "---Metadata---\n",
      "footer:%filename: al_10.psplups\n",
      "%rates: Ryans R.S.I., Foster-Woods V.J, Copeland F., Keenan F.P., Matthews A., Reid R.H.G., 1998, ADNDT 70, 179-229\n",
      "%energies: Martin W.C., Sugar J., Musgrove A., Dalton G.R., 1995, NIST Database for Atomic Spectroscopy, \n",
      "   Version 1.0, NIST Standard Reference Database 61.\n",
      "%comment: Fits valid for temperatures 2e5 to 5e7 K.\n",
      "%produced as part of the Arcetri/Cambridge/NRL 'CHIANTI' atomic data base collaboration\n",
      "%\n",
      "% Peter Young, 19-Oct-00\n",
      " -1\n",
      "\n",
      "chianti_version:8.0.2\n",
      "element:al\n",
      "ion:al_10\n"
     ]
    }
   ],
   "source": [
    "parser = fiasco.io.Parser(psplups_files[0])\n",
    "df = parser.parse()\n",
    "print(df)\n",
    "print('---Metadata---')\n",
    "for key in df.meta:\n",
    "    print('{}:{}'.format(key,df.meta[key]))"
   ]
  },
  {
   "cell_type": "markdown",
   "metadata": {},
   "source": [
    "## Easplom Read Tests"
   ]
  },
  {
   "cell_type": "code",
   "execution_count": 11,
   "metadata": {
    "collapsed": true
   },
   "outputs": [],
   "source": [
    "easplom_files = [file for file in all_files if os.path.splitext(file)[1] == '.easplom']"
   ]
  },
  {
   "cell_type": "code",
   "execution_count": null,
   "metadata": {
    "collapsed": false
   },
   "outputs": [],
   "source": [
    "failed_files = []\n",
    "with ProgressBar(len(easplom_files),ipython_widget=True) as progress:\n",
    "    for ef in easplom_files:\n",
    "        parser = fiasco.io.Parser(ef)\n",
    "        try:\n",
    "            df = parser.parse()\n",
    "        except:\n",
    "            print('Parse failed for file {}'.format(ef))\n",
    "            failed_files.append(ef)\n",
    "        progress.update()\n",
    "print('failure percentage: {}'.format(len(failed_files)/len(easplom_files)*100))"
   ]
  },
  {
   "cell_type": "code",
   "execution_count": 12,
   "metadata": {
    "collapsed": false
   },
   "outputs": [
    {
     "name": "stdout",
     "output_type": "stream",
     "text": [
      "lower level index upper level index ... Burgess-Tully scaled cross-section [5]\n",
      "                                    ...                                       \n",
      "----------------- ----------------- ... --------------------------------------\n",
      "                1                 3 ...                     0.01324 .. 0.01838\n",
      "                1                 4 ...                   0.004166 .. 0.003772\n",
      "---Metadata---\n",
      "footer:%file:  al_10.easplom\n",
      "%excitation autoionization cross section parameter file\n",
      " derived from fits to experimental and theoretical data\n",
      "Dere, K. P., 2007, A&A, 466, 771\n",
      "ADS ref:  http://adsabs.harvard.edu/abs/2007A%26A...466..771D\n",
      " created for CHIANTI database for astrophysical spectroscopy\n",
      "  created by Ken Dere  (GMU)  Fri Jan 26 12:40:27 2007\n",
      "-1\n",
      "\n",
      "chianti_version:8.0.2\n",
      "element:al\n",
      "ion:al_10\n"
     ]
    }
   ],
   "source": [
    "parser = fiasco.io.Parser(easplom_files[0])\n",
    "df = parser.parse()\n",
    "print(df)\n",
    "print('---Metadata---')\n",
    "for key in df.meta:\n",
    "    print('{}:{}'.format(key,df.meta[key]))"
   ]
  },
  {
   "cell_type": "markdown",
   "metadata": {},
   "source": [
    "## Easplups Read Tests"
   ]
  },
  {
   "cell_type": "code",
   "execution_count": 13,
   "metadata": {
    "collapsed": true
   },
   "outputs": [],
   "source": [
    "easplups_files = [file for file in all_files if os.path.splitext(file)[1] == '.easplups']"
   ]
  },
  {
   "cell_type": "code",
   "execution_count": null,
   "metadata": {
    "collapsed": false
   },
   "outputs": [],
   "source": [
    "failed_files = []\n",
    "with ProgressBar(len(easplups_files),ipython_widget=True) as progress:\n",
    "    for ef in easplups_files:\n",
    "        parser = fiasco.io.Parser(ef)\n",
    "        try:\n",
    "            df = parser.parse()\n",
    "        except:\n",
    "            print('Parse failed for file {}'.format(ef))\n",
    "            failed_files.append(ef)\n",
    "        progress.update()\n",
    "print('failure percentage: {}'.format(len(failed_files)/len(easplups_files)*100))"
   ]
  },
  {
   "cell_type": "code",
   "execution_count": 14,
   "metadata": {
    "collapsed": false
   },
   "outputs": [
    {
     "name": "stdout",
     "output_type": "stream",
     "text": [
      "lower level index ... excitation-autoionization rate coefficients [5]\n",
      "                  ...                                                \n",
      "----------------- ... -----------------------------------------------\n",
      "                1 ...                              0.01324 .. 0.01838\n",
      "                1 ...                            0.004166 .. 0.003772\n",
      "---Metadata---\n",
      "footer:%file:  al_10.easplups\n",
      "%excitation autoionization rate coefficient parameter file\n",
      " derived from fits to experimental and theoretical data\n",
      "Dere, K. P., 2007, A&A, 466, 771\n",
      "ADS ref:  http://adsabs.harvard.edu/abs/2007A%26A...466..771D\n",
      " created for CHIANTI database for astrophysical spectroscopy\n",
      "  created by Ken Dere  (GMU)  Fri Jan 26 12:40:27 2007\n",
      "-1\n",
      "\n",
      "chianti_version:8.0.2\n",
      "element:al\n",
      "ion:al_10\n"
     ]
    }
   ],
   "source": [
    "parser = fiasco.io.Parser(easplups_files[0])\n",
    "df = parser.parse()\n",
    "print(df)\n",
    "print('---Metadata---')\n",
    "for key in df.meta:\n",
    "    print('{}:{}'.format(key,df.meta[key]))"
   ]
  },
  {
   "cell_type": "markdown",
   "metadata": {},
   "source": [
    "## Wgfa Read Tests"
   ]
  },
  {
   "cell_type": "code",
   "execution_count": 15,
   "metadata": {
    "collapsed": true
   },
   "outputs": [],
   "source": [
    "wgfa_files = [file for file in all_files if os.path.splitext(file)[1] == '.wgfa']"
   ]
  },
  {
   "cell_type": "code",
   "execution_count": null,
   "metadata": {
    "collapsed": false
   },
   "outputs": [],
   "source": [
    "failed_files = []\n",
    "with ProgressBar(len(wgfa_files),ipython_widget=True) as progress:\n",
    "    for ef in wgfa_files:\n",
    "        parser = fiasco.io.Parser(ef)\n",
    "        try:\n",
    "            df = parser.parse()\n",
    "        except:\n",
    "            print('Parse failed for file {}'.format(ef))\n",
    "            failed_files.append(ef)\n",
    "        progress.update()\n",
    "print('failure percentage: {}'.format(len(failed_files)/len(wgfa_files)*100))"
   ]
  },
  {
   "cell_type": "code",
   "execution_count": 16,
   "metadata": {
    "collapsed": false
   },
   "outputs": [
    {
     "name": "stdout",
     "output_type": "stream",
     "text": [
      "lower level index upper level index ... lower level label upper level label\n",
      "                                    ...                                    \n",
      "----------------- ----------------- ... ----------------- -----------------\n",
      "                1                 3 ...           2s2 1S0         2s.2p 3P1\n",
      "                1                 4 ...           2s2 1S0         2s.2p 3P2\n",
      "                1                 5 ...           2s2 1S0         2s.2p 1P1\n",
      "                2                 7 ...         2s.2p 3P0           2p2 3P1\n",
      "                3                 4 ...         2s.2p 3P1         2s.2p 3P2\n",
      "                3                 6 ...         2s.2p 3P1           2p2 3P0\n",
      "                3                 7 ...         2s.2p 3P1           2p2 3P1\n",
      "                3                 8 ...         2s.2p 3P1           2p2 3P2\n",
      "                3                 9 ...         2s.2p 3P1           2p2 1D2\n",
      "                3                10 ...         2s.2p 3P1           2p2 1S0\n",
      "                4                 7 ...         2s.2p 3P2           2p2 3P1\n",
      "                4                 8 ...         2s.2p 3P2           2p2 3P2\n",
      "                4                 9 ...         2s.2p 3P2           2p2 1D2\n",
      "                5                 6 ...         2s.2p 1P1           2p2 3P0\n",
      "                5                 7 ...         2s.2p 1P1           2p2 3P1\n",
      "                5                 8 ...         2s.2p 1P1           2p2 3P2\n",
      "                5                 9 ...         2s.2p 1P1           2p2 1D2\n",
      "                5                10 ...         2s.2p 1P1           2p2 1S0\n",
      "---Metadata---\n",
      "footer:%filename: al_10.wgfa\n",
      "%energy levels: Martin, W.C., Sugar, J., Musgrove, A., Dalton, G.R., 1995, \n",
      "    NIST Database for Atomic Spectroscopy, Version 1.0, NIST Standard Reference Database 61.\n",
      "%Allowed transitions oscillator strengths: Zhang, Sampson, ADNDT, 1992 , 52, 143\n",
      "%comment: transitions 1-4, 3-4, 3-10 have been interpolated from\n",
      "    the data of Be-like ions in Muhlethaler, Nussbaumer, A&A, 1976, 48, 109\n",
      "%produced as part of the Arcetri/Cambridge/NRL 'CHIANTI' atomic data base collaboration\n",
      "%\n",
      "% E. Landi 1995\n",
      " -1\n",
      "\n",
      "chianti_version:8.0.2\n",
      "element:al\n",
      "ion:al_10\n"
     ]
    }
   ],
   "source": [
    "parser = fiasco.io.Parser(wgfa_files[0])\n",
    "df = parser.parse()\n",
    "print(df)\n",
    "print('---Metadata---')\n",
    "for key in df.meta:\n",
    "    print('{}:{}'.format(key,df.meta[key]))"
   ]
  },
  {
   "cell_type": "markdown",
   "metadata": {},
   "source": [
    "## Cilvl Read Tests"
   ]
  },
  {
   "cell_type": "code",
   "execution_count": 17,
   "metadata": {
    "collapsed": true
   },
   "outputs": [],
   "source": [
    "cilvl_files = [file for file in all_files if os.path.splitext(file)[1] == '.cilvl']"
   ]
  },
  {
   "cell_type": "code",
   "execution_count": null,
   "metadata": {
    "collapsed": false
   },
   "outputs": [],
   "source": [
    "failed_files = []\n",
    "with ProgressBar(len(cilvl_files),ipython_widget=True) as progress:\n",
    "    for ef in cilvl_files:\n",
    "        parser = fiasco.io.Parser(ef)\n",
    "        try:\n",
    "            df = parser.parse()\n",
    "        except:\n",
    "            print('Parse failed for file {}'.format(ef))\n",
    "            failed_files.append(ef)\n",
    "        progress.update()\n",
    "print('failure percentage: {}'.format(len(failed_files)/len(cilvl_files)*100))"
   ]
  },
  {
   "cell_type": "code",
   "execution_count": 18,
   "metadata": {
    "collapsed": false
   },
   "outputs": [
    {
     "name": "stdout",
     "output_type": "stream",
     "text": [
      "lower level index upper level index ... ionization rate coefficient [9]\n",
      "                                    ...             cm3 / s            \n",
      "----------------- ----------------- ... -------------------------------\n",
      "                1                 2 ...            1.05e-16 .. 4.18e-11\n",
      "                1                 3 ...             6.13e-17 .. 2.5e-11\n",
      "                1                 4 ...            1.88e-17 .. 8.55e-12\n",
      "                1                 5 ...            5.27e-17 .. 2.44e-11\n",
      "                1                 6 ...            1.11e-18 .. 5.95e-13\n",
      "                1                 7 ...            6.57e-25 .. 1.53e-19\n",
      "                1                 8 ...            7.06e-25 .. 1.69e-19\n",
      "                1                 9 ...               6.95e-19 .. 4e-13\n",
      "                1                10 ...            4.94e-25 .. 1.22e-19\n",
      "                1                11 ...            6.17e-19 .. 3.83e-13\n",
      "              ...               ... ...                             ...\n",
      "                1                28 ...            1.13e-17 .. 1.75e-11\n",
      "                1                29 ...             3.5e-18 .. 5.81e-12\n",
      "                1                30 ...             8.43e-21 .. 1.9e-14\n",
      "                1                31 ...            1.14e-20 .. 2.62e-14\n",
      "                1                32 ...            2.34e-20 .. 5.52e-14\n",
      "                1                33 ...            4.67e-21 .. 1.12e-14\n",
      "                1                34 ...            7.75e-28 .. 1.39e-21\n",
      "                1                35 ...            1.34e-27 .. 2.45e-21\n",
      "                1                36 ...            1.99e-27 .. 3.74e-21\n",
      "                1                37 ...             1.3e-27 .. 2.53e-21\n",
      "Length = 36 rows\n",
      "---Metadata---\n",
      "footer:%filename: fe_17.ci\n",
      "%Collisional ionization population rate: Gu, M.F., 2003, ApJ, 582, 1241\n",
      "%produced as part of the Arcetri/Cambridge/NRL CHIANTI atomic data base collaboration\n",
      "%\n",
      "% Enrico Landi - Feb 2004\n",
      " -1\n",
      "\n",
      "chianti_version:8.0.2\n",
      "element:fe\n",
      "ion:fe_17\n"
     ]
    }
   ],
   "source": [
    "parser = fiasco.io.Parser(cilvl_files[0])\n",
    "df = parser.parse()\n",
    "print(df)\n",
    "print('---Metadata---')\n",
    "for key in df.meta:\n",
    "    print('{}:{}'.format(key,df.meta[key]))"
   ]
  },
  {
   "cell_type": "markdown",
   "metadata": {},
   "source": [
    "## Reclvl Read Tests"
   ]
  },
  {
   "cell_type": "code",
   "execution_count": 19,
   "metadata": {
    "collapsed": true
   },
   "outputs": [],
   "source": [
    "reclvl_files = [file for file in all_files if os.path.splitext(file)[1] == '.reclvl']"
   ]
  },
  {
   "cell_type": "code",
   "execution_count": null,
   "metadata": {
    "collapsed": false
   },
   "outputs": [],
   "source": [
    "failed_files = []\n",
    "with ProgressBar(len(reclvl_files),ipython_widget=True) as progress:\n",
    "    for ef in reclvl_files:\n",
    "        parser = fiasco.io.Parser(ef)\n",
    "        try:\n",
    "            df = parser.parse()\n",
    "        except:\n",
    "            print('Parse failed for file {}'.format(ef))\n",
    "            failed_files.append(ef)\n",
    "        progress.update()\n",
    "print('failure percentage: {}'.format(len(failed_files)/len(reclvl_files)*100))"
   ]
  },
  {
   "cell_type": "code",
   "execution_count": 20,
   "metadata": {
    "collapsed": false
   },
   "outputs": [
    {
     "name": "stdout",
     "output_type": "stream",
     "text": [
      "lower level index upper level index ... recombination rate coefficient [19]\n",
      "                                    ...               cm3 / s              \n",
      "----------------- ----------------- ... -----------------------------------\n",
      "                1                 1 ...                8.81e-12 .. 7.18e-16\n",
      "                1                 2 ...                8.42e-12 .. 7.77e-17\n",
      "                1                 3 ...                1.68e-11 .. 1.55e-16\n",
      "                1                 4 ...                2.75e-12 .. 2.09e-16\n",
      "                1                 5 ...                 3.1e-12 .. 2.79e-17\n",
      "                1                 6 ...                6.17e-12 .. 5.58e-17\n",
      "                1                 7 ...                4.09e-12 .. 8.82e-18\n",
      "                1                 8 ...                6.12e-12 .. 1.32e-17\n",
      "                1                 9 ...                1.24e-12 .. 8.75e-17\n",
      "                1                10 ...                1.46e-12 .. 1.26e-17\n",
      "              ...               ... ...                                 ...\n",
      "                1                56 ...                8.34e-13 .. 3.48e-19\n",
      "                1                59 ...                1.04e-12 .. 4.35e-19\n",
      "                1                57 ...                7.25e-13 .. 5.91e-19\n",
      "                1                60 ...                7.27e-13 .. 1.74e-19\n",
      "                1                58 ...                8.73e-13 .. 2.09e-19\n",
      "                1                62 ...                9.67e-13 .. 7.88e-19\n",
      "                1                61 ...                4.32e-13 .. 6.47e-20\n",
      "                1                63 ...                5.04e-13 .. 7.54e-20\n",
      "                1                54 ...                1.32e-13 .. 1.32e-20\n",
      "                1                55 ...                1.51e-13 .. 1.51e-20\n",
      "Length = 63 rows\n",
      "---Metadata---\n",
      "footer:filename:  al_11.reclvl\n",
      "\n",
      "%Radiative recombination rates for recombination onto Al XII to form Al XI\n",
      "Badnell, N. R., 2006, ApJS, 167, 334\n",
      "Radiative Recombination Data for Modeling Dynamic Finite-Density Plasmas\n",
      "adsLink:  http://adsabs.harvard.edu/abs/2006ApJS..167..334B\n",
      "\n",
      "produced as a part of the 'CHIANTI' atomic database for astrophysical spectroscopy\n",
      " K. Dere (GMU) - 2014 September 12\n",
      "-1 \n",
      "\n",
      "chianti_version:8.0.2\n",
      "element:al\n",
      "ion:al_11\n"
     ]
    }
   ],
   "source": [
    "parser = fiasco.io.Parser(reclvl_files[0])\n",
    "df = parser.parse()\n",
    "print(df)\n",
    "print('---Metadata---')\n",
    "for key in df.meta:\n",
    "    print('{}:{}'.format(key,df.meta[key]))"
   ]
  },
  {
   "cell_type": "markdown",
   "metadata": {},
   "source": [
    "## Rrparams Read Tests"
   ]
  },
  {
   "cell_type": "code",
   "execution_count": 21,
   "metadata": {
    "collapsed": true
   },
   "outputs": [],
   "source": [
    "rrparams_files = [file for file in all_files if os.path.splitext(file)[1] == '.rrparams']"
   ]
  },
  {
   "cell_type": "code",
   "execution_count": null,
   "metadata": {
    "collapsed": false
   },
   "outputs": [],
   "source": [
    "failed_files = []\n",
    "with ProgressBar(len(rrparams_files),ipython_widget=True) as progress:\n",
    "    for ef in rrparams_files:\n",
    "        parser = fiasco.io.Parser(ef)\n",
    "        try:\n",
    "            df = parser.parse()\n",
    "        except:\n",
    "            print('Parse failed for file {}'.format(ef))\n",
    "            failed_files.append(ef)\n",
    "        progress.update()\n",
    "print('failure percentage: {}'.format(len(failed_files)/len(rrparams_files)*100))"
   ]
  },
  {
   "cell_type": "code",
   "execution_count": 22,
   "metadata": {
    "collapsed": false
   },
   "outputs": [
    {
     "name": "stdout",
     "output_type": "stream",
     "text": [
      "fit type A fit parameter B fit parameter T0 fit parameter T1 fit parameter\n",
      "             cm3 / s                            K                K        \n",
      "-------- --------------- --------------- ---------------- ----------------\n",
      "       1       1.578e-09          0.7394            61.57       14270000.0\n",
      "---Metadata---\n",
      "footer:%file:  al_10.rrparams\n",
      " Radiative recombination coefficients\n",
      "Badnell, N. R., 2006, ApJS, 167, 334\n",
      "http://adsabs.harvard.edu/abs/2006ApJS..167..334B\n",
      "Radiative Recombination Data for Modeling Dynamic Finite-Density Plasmas\n",
      " produced for the CHIANTI atomic database for astrophysical spectroscopy\n",
      " created by Ken Dere (GMU):  Wed Feb 15 11:06:20 2012\n",
      "-1\n",
      "\n",
      "chianti_version:8.0.2\n",
      "element:al\n",
      "ion:al_10\n"
     ]
    }
   ],
   "source": [
    "parser = fiasco.io.Parser(rrparams_files[0])\n",
    "df = parser.parse()\n",
    "print(df)\n",
    "print('---Metadata---')\n",
    "for key in df.meta:\n",
    "    print('{}:{}'.format(key,df.meta[key]))"
   ]
  },
  {
   "cell_type": "markdown",
   "metadata": {},
   "source": [
    "## Trparams Read Tests"
   ]
  },
  {
   "cell_type": "code",
   "execution_count": 23,
   "metadata": {
    "collapsed": true
   },
   "outputs": [],
   "source": [
    "trparams_files = [file for file in all_files if os.path.splitext(file)[1] == '.trparams']"
   ]
  },
  {
   "cell_type": "code",
   "execution_count": null,
   "metadata": {
    "collapsed": false
   },
   "outputs": [],
   "source": [
    "failed_files = []\n",
    "with ProgressBar(len(trparams_files),ipython_widget=True) as progress:\n",
    "    for ef in trparams_files:\n",
    "        parser = fiasco.io.Parser(ef)\n",
    "        try:\n",
    "            df = parser.parse()\n",
    "        except:\n",
    "            print('Parse failed for file {}'.format(ef))\n",
    "            failed_files.append(ef)\n",
    "        progress.update()\n",
    "print('failure percentage: {}'.format(len(failed_files)/len(trparams_files)*100))"
   ]
  },
  {
   "cell_type": "code",
   "execution_count": 24,
   "metadata": {
    "collapsed": false
   },
   "outputs": [
    {
     "name": "stdout",
     "output_type": "stream",
     "text": [
      "temperature  total recombination rate\n",
      "     K               cm3 / s         \n",
      "------------ ------------------------\n",
      "        10.0                 3.48e-11\n",
      "       12.59                 3.14e-11\n",
      "       15.85                 2.84e-11\n",
      "       19.95                 2.58e-11\n",
      "       25.12                 2.33e-11\n",
      "       31.62                 2.09e-11\n",
      "       39.81                 1.87e-11\n",
      "       50.12                 1.67e-11\n",
      "        63.1                 1.48e-11\n",
      "       79.43                 1.31e-11\n",
      "         ...                      ...\n",
      "   1585000.0                 2.03e-13\n",
      "   1995000.0                 1.45e-13\n",
      "   2512000.0                 1.04e-13\n",
      "   3162000.0                 7.38e-14\n",
      "   3981000.0                 5.26e-14\n",
      "   5012000.0                 3.74e-14\n",
      "   6310000.0                 2.66e-14\n",
      "   7943000.0                  1.9e-14\n",
      "  10000000.0                 1.35e-14\n",
      "1000000000.0                 1.35e-17\n",
      "Length = 62 rows\n",
      "---Metadata---\n",
      "footer:%file:  fe_2.trparams\n",
      "%total recombination rate coefficients\n",
      "   %recombination rates: \"Electron-ion recombination of neutral iron\", S. N. Nahar, M. A. Bautista, and A. K. Pradhan, Astrophys. J. 479, 497 (1997)\n",
      " produced for the CHIANTI atomic database for astrophysical spectroscopy\n",
      " created by Ken Dere (GMU):  Fri Feb  9 11:13:15 2007\n",
      "-1\n",
      "\n",
      "chianti_version:8.0.2\n",
      "element:fe\n",
      "ion:fe_2\n"
     ]
    }
   ],
   "source": [
    "parser = fiasco.io.Parser(trparams_files[0])\n",
    "df = parser.parse()\n",
    "print(df)\n",
    "print('---Metadata---')\n",
    "for key in df.meta:\n",
    "    print('{}:{}'.format(key,df.meta[key]))"
   ]
  },
  {
   "cell_type": "markdown",
   "metadata": {
    "collapsed": true
   },
   "source": [
    "## Abundance Read Tests"
   ]
  },
  {
   "cell_type": "code",
   "execution_count": 25,
   "metadata": {
    "collapsed": false
   },
   "outputs": [],
   "source": [
    "abund_files = [file for file in os.listdir(os.path.join(fiasco.defaults['chianti_dbase_root'],'abundance')) \n",
    "               if file[0]!='.' and os.path.isfile(os.path.join(fiasco.defaults['chianti_dbase_root'],'abundance',file))]"
   ]
  },
  {
   "cell_type": "code",
   "execution_count": 26,
   "metadata": {
    "collapsed": false
   },
   "outputs": [],
   "source": [
    "abund_files += [os.path.join('version_3',file) for file in os.listdir(os.path.join(fiasco.defaults['chianti_dbase_root'],'abundance','version_3'))\n",
    "                if file[0]!='.']"
   ]
  },
  {
   "cell_type": "code",
   "execution_count": null,
   "metadata": {
    "collapsed": false
   },
   "outputs": [],
   "source": [
    "failed_files = []\n",
    "with ProgressBar(len(abund_files),ipython_widget=True) as progress:\n",
    "    for ef in abund_files:\n",
    "        parser = fiasco.io.Parser(ef)\n",
    "        try:\n",
    "            df = parser.parse()\n",
    "        except:\n",
    "            print('Parse failed for file {}'.format(ef))\n",
    "            failed_files.append(ef)\n",
    "        progress.update()\n",
    "print('failure percentage: {}'.format(len(failed_files)/len(abund_files)*100))"
   ]
  },
  {
   "cell_type": "code",
   "execution_count": 27,
   "metadata": {
    "collapsed": false
   },
   "outputs": [
    {
     "name": "stdout",
     "output_type": "stream",
     "text": [
      "atomic number abundance relative to H element\n",
      "                                             \n",
      "------------- ----------------------- -------\n",
      "            1                     1.0       H\n",
      "            2     0.08511380382023759      He\n",
      "            6   0.0003311311214825908       C\n",
      "            7   9.120108393559096e-05       N\n",
      "            8   0.0006606934480075965       O\n",
      "            9   3.981071705534969e-08       F\n",
      "           10   8.317637711026709e-05      Ne\n",
      "           11   1.778279410038923e-06      Na\n",
      "           12  2.6302679918953814e-05      Mg\n",
      "           13  2.4547089156850284e-06      Al\n",
      "          ...                     ...     ...\n",
      "           21  1.6595869074375631e-09      Sc\n",
      "           22  1.3489628825916533e-07      Ti\n",
      "           23   2.511886431509582e-08       V\n",
      "           24   7.079457843841374e-07      Cr\n",
      "           25  2.5118864315095823e-07      Mn\n",
      "           26  3.9810717055349695e-05      Fe\n",
      "           27  1.2589254117941662e-07      Co\n",
      "           28  1.9952623149688787e-06      Ni\n",
      "           29   3.162277660168379e-08      Cu\n",
      "           30  1.5848931924611143e-08      Zn\n",
      "Length = 27 rows\n",
      "---Metadata---\n",
      "footer:%filename: cosmic_allen_1973.abund\n",
      "%elemental abundances: Allen, C.W., 1973, Astrophysical Quantities\n",
      "%produced for the CHIANTI atomic database by Enrico Landi, Jun 2002\n",
      "%comment:\n",
      "   Changed filename, Peter Young 28-Jun-2012 (previous name: cosmic.abund)\n",
      " -1\n",
      "\n",
      "chianti_version:8.0.2\n",
      "abundance_filename:cosmic_1973_allen.abund\n"
     ]
    }
   ],
   "source": [
    "parser = fiasco.io.Parser(abund_files[0])\n",
    "df = parser.parse()\n",
    "print(df)\n",
    "print('---Metadata---')\n",
    "for key in df.meta:\n",
    "    print('{}:{}'.format(key,df.meta[key]))"
   ]
  },
  {
   "cell_type": "markdown",
   "metadata": {},
   "source": [
    "## Ioneq Read Tests"
   ]
  },
  {
   "cell_type": "code",
   "execution_count": 28,
   "metadata": {
    "collapsed": false
   },
   "outputs": [],
   "source": [
    "ioneq_files = [os.path.join('deprecated',file) \n",
    "               for file in os.listdir(os.path.join(fiasco.defaults['chianti_dbase_root'],'ioneq','deprecated'))]\n",
    "ioneq_files += ['chianti.ioneq']"
   ]
  },
  {
   "cell_type": "code",
   "execution_count": null,
   "metadata": {
    "collapsed": false
   },
   "outputs": [],
   "source": [
    "failed_files = []\n",
    "with ProgressBar(len(ioneq_files),ipython_widget=True) as progress:\n",
    "    for ef in ioneq_files:\n",
    "        parser = fiasco.io.Parser(ef)\n",
    "        try:\n",
    "            df = parser.parse()\n",
    "        except:\n",
    "            print('Parse failed for file {}'.format(ef))\n",
    "            failed_files.append(ef)\n",
    "        progress.update()\n",
    "print('failure percentage: {}'.format(len(failed_files)/len(ioneq_files)*100))"
   ]
  },
  {
   "cell_type": "code",
   "execution_count": 29,
   "metadata": {
    "collapsed": false
   },
   "outputs": [
    {
     "name": "stdout",
     "output_type": "stream",
     "text": [
      "atomic number ion    temperature [101]    ionization fraction [101]\n",
      "                             K                                     \n",
      "------------- --- ----------------------- -------------------------\n",
      "            1   1 10000.0 .. 1000000000.0       0.9983 .. 1.664e-10\n",
      "            1   2 10000.0 .. 1000000000.0           0.001693 .. 1.0\n",
      "            2   1 10000.0 .. 1000000000.0          1.0 .. 5.607e-17\n",
      "            2   2 10000.0 .. 1000000000.0    1.904e-09 .. 1.093e-08\n",
      "            2   3 10000.0 .. 1000000000.0          1.592e-34 .. 1.0\n",
      "            3   1 10000.0 .. 1000000000.0     0.004061 .. 1.014e-23\n",
      "            3   2 10000.0 .. 1000000000.0        0.9959 .. 1.52e-14\n",
      "            3   3 10000.0 .. 1000000000.0           0.0 .. 1.46e-07\n",
      "            3   4 10000.0 .. 1000000000.0                0.0 .. 1.0\n",
      "            4   1 10000.0 .. 1000000000.0             0.9577 .. 0.0\n",
      "          ... ...                     ...                       ...\n",
      "           30  22 10000.0 .. 1000000000.0          0.0 .. 2.485e-21\n",
      "           30  23 10000.0 .. 1000000000.0          0.0 .. 1.907e-18\n",
      "           30  24 10000.0 .. 1000000000.0          0.0 .. 1.234e-15\n",
      "           30  25 10000.0 .. 1000000000.0          0.0 .. 7.294e-13\n",
      "           30  26 10000.0 .. 1000000000.0          0.0 .. 3.368e-10\n",
      "           30  27 10000.0 .. 1000000000.0           0.0 .. 1.26e-07\n",
      "           30  28 10000.0 .. 1000000000.0          0.0 .. 3.029e-05\n",
      "           30  29 10000.0 .. 1000000000.0           0.0 .. 0.004694\n",
      "           30  30 10000.0 .. 1000000000.0             0.0 .. 0.1105\n",
      "           30  31 10000.0 .. 1000000000.0             0.0 .. 0.8847\n",
      "Length = 495 rows\n",
      "---Metadata---\n",
      "footer:%filename:  chianti.ioneq\n",
      "%ionization equilibrium:  CHIANTI\n",
      " produced as part of the CHIANTI atomic data base collaboration\n",
      "  K.P. Dere (GMU)  Mon May 19 10:10:12 2014\n",
      " -1\n",
      "\n",
      "chianti_version:8.0.2\n",
      "ioneq_filename:chianti.ioneq\n"
     ]
    }
   ],
   "source": [
    "parser = fiasco.io.Parser(ioneq_files[-1])\n",
    "df = parser.parse()\n",
    "print(df)\n",
    "print('---Metadata---')\n",
    "for key in df.meta:\n",
    "    print('{}:{}'.format(key,df.meta[key]))"
   ]
  },
  {
   "cell_type": "markdown",
   "metadata": {},
   "source": [
    "## Ip Read Tests"
   ]
  },
  {
   "cell_type": "code",
   "execution_count": 30,
   "metadata": {
    "collapsed": false
   },
   "outputs": [
    {
     "name": "stdout",
     "output_type": "stream",
     "text": [
      "atomic number ion ionization potential\n",
      "                         1 / cm       \n",
      "------------- --- --------------------\n",
      "            1   1          109678.7737\n",
      "            2   1         198310.77227\n",
      "            2   2          438908.8863\n",
      "            3   1             43487.15\n",
      "            3   2             610079.0\n",
      "            3   3           987661.027\n",
      "            4   1             75192.64\n",
      "            4   2            146882.86\n",
      "            4   3            1241242.0\n",
      "            4   4          1756018.824\n",
      "          ... ...                  ...\n",
      "           30  21           14890000.0\n",
      "           30  22           15860000.0\n",
      "           30  23           16810000.0\n",
      "           30  24           18020000.0\n",
      "           30  25           19040000.0\n",
      "           30  26           20110000.0\n",
      "           30  27           21490000.0\n",
      "           30  28           22450000.0\n",
      "           30  29           95696100.0\n",
      "           30  30           99921800.0\n",
      "Length = 465 rows\n",
      "---Metadata---\n",
      "footer:%filename: chianti.ip\n",
      "%ionization potentials: Martin, W.C., Sugar, J., Musgrove, A., Dalton, G.R.,\n",
      "    1995, NIST Database for Atomic Spectroscopy, Version 1.0, NIST Standard Reference Database 61\n",
      "    and Version 2.0 http://physics.nist.gov/cgi-bin/AtData/main_asd\n",
      "%ionization postentials: additional data for Cu and Zn from Biemeont, E., Fremat, Y., Quinet, P., 1999, ADNDT, 71, 117\n",
      "%ionization potentials: Erickson, G.W., 1977, J. Phys. Chem. Ref. Data, 6, 831\n",
      "%ionization potentials: C.E. Moore, 1970, NSRDS-NBS \n",
      "%ionization potentials: Boiko V.A., Pal'chikov V.G., Skobelev I.Yu., Faenov A.Ya., Boiko V.A., Pal'chikov V.G., \n",
      "    Skobelev I.Yu., Faenov A.Ya. from - http://spectr-w3.snz.ru/index.phtml\n",
      "% produced as part of the Arcetri/Cambridge/NRL 'CHIANTI' atomic data base collaboration\n",
      "%\n",
      "%   K.P.Dere 2006\n",
      " -1\n",
      "\n",
      "chianti_version:8.0.2\n",
      "ip_filename:chianti.ip\n"
     ]
    }
   ],
   "source": [
    "parser = fiasco.io.Parser('chianti.ip')\n",
    "df = parser.parse()\n",
    "print(df)\n",
    "print('---Metadata---')\n",
    "for key in df.meta:\n",
    "    print('{}:{}'.format(key,df.meta[key]))"
   ]
  },
  {
   "cell_type": "markdown",
   "metadata": {},
   "source": [
    "## Auto-registry\n",
    "Note that if we want to parse a new kind of file, it is just a matter of subclassing the generic parser and naming it using the convention \n",
    "\n",
    "```\n",
    "{File extension}Parser\n",
    "``` \n",
    "\n",
    "with the file extension capitalized. You can also bypass all of this machinery by passing in a custom parser using the `custom_parser` kwarg to `Parser`"
   ]
  },
  {
   "cell_type": "code",
   "execution_count": 39,
   "metadata": {
    "collapsed": true
   },
   "outputs": [],
   "source": [
    "class JpegParser(fiasco.io.GenericParser):\n",
    "    def __init__(self,*args,**kwargs):\n",
    "        print('A custom registered parser')\n",
    "    def parse(self):\n",
    "        print('Nothing to parse here')"
   ]
  },
  {
   "cell_type": "code",
   "execution_count": 40,
   "metadata": {
    "collapsed": false
   },
   "outputs": [
    {
     "name": "stdout",
     "output_type": "stream",
     "text": [
      "A custom registered parser\n",
      "Nothing to parse here\n"
     ]
    }
   ],
   "source": [
    "fiasco.io.Parser('hello.jpeg').parse()"
   ]
  },
  {
   "cell_type": "code",
   "execution_count": null,
   "metadata": {
    "collapsed": true
   },
   "outputs": [],
   "source": []
  }
 ],
 "metadata": {
  "anaconda-cloud": {},
  "kernelspec": {
   "display_name": "Python [conda env:fiasco]",
   "language": "python",
   "name": "conda-env-fiasco-py"
  },
  "language_info": {
   "codemirror_mode": {
    "name": "ipython",
    "version": 3
   },
   "file_extension": ".py",
   "mimetype": "text/x-python",
   "name": "python",
   "nbconvert_exporter": "python",
   "pygments_lexer": "ipython3",
   "version": "3.6.2"
  }
 },
 "nbformat": 4,
 "nbformat_minor": 2
}
