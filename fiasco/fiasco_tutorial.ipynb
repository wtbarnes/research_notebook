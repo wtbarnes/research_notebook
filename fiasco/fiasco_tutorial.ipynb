{
 "cells": [
  {
   "cell_type": "markdown",
   "metadata": {},
   "source": [
    "# *fiasco* Tutorial\n",
    "This notebook shows how to parse the CHIANTI atomic database, build the database into an HDF5 file, and then access the data by streaming it from the HDF5 file."
   ]
  },
  {
   "cell_type": "code",
   "execution_count": 2,
   "metadata": {
    "collapsed": true
   },
   "outputs": [],
   "source": [
    "import os\n",
    "import numpy as np\n",
    "import matplotlib.pyplot as plt\n",
    "import astropy.units as u\n",
    "from astropy.utils.console import ProgressBar\n",
    "import fiasco\n",
    "import fiasco.io\n",
    "\n",
    "%matplotlib inline"
   ]
  },
  {
   "cell_type": "markdown",
   "metadata": {},
   "source": [
    "## Setup\n",
    "1. [Download and install the `fiasco` package and the associated dependencies](https://github.com/wtbarnes/fiasco). \n",
    "2. [Download](http://www.chiantidatabase.org/chianti.html) the CHIANTI atomic database (if not already installed through SSW)\n",
    "3. Point the fiasco package to the database using\n",
    "  1. the usual XUVTOP environment variable\n",
    "  2. setting the path in the `$HOME/.fiasco/fiascorc` file, e.g.\n",
    "  ```yaml\n",
    "  [database]\n",
    "  dbase_root=/my/path/to/chianti/dbase\n",
    "  ```\n",
    "  \n",
    "However you've configured it, the root of the CHIANTI database should be reachable as,"
   ]
  },
  {
   "cell_type": "code",
   "execution_count": 17,
   "metadata": {
    "collapsed": false
   },
   "outputs": [
    {
     "data": {
      "text/plain": [
       "'/Users/willbarnes/Documents/Rice/Research/ssw/packages/chianti/dbase'"
      ]
     },
     "execution_count": 17,
     "metadata": {},
     "output_type": "execute_result"
    }
   ],
   "source": [
    "fiasco.defaults['chianti_dbase_root']"
   ]
  },
  {
   "cell_type": "markdown",
   "metadata": {},
   "source": [
    "## Parsing the Raw CHIANTI Database\n",
    "This package provides a convenient parser interface for any CHIANTI filetype. The parser uses a factory pattern to create a different subclass based on the file extension. This allows the interface to multiple different files to be the same and provides the needed metadata (title/description and units) to each column in each file.\n",
    "\n",
    "First, implement a parser for a specific CHIANTI file, say `h_1.elvlc` which contains the energy levels for H I."
   ]
  },
  {
   "cell_type": "code",
   "execution_count": 2,
   "metadata": {
    "collapsed": true
   },
   "outputs": [],
   "source": [
    "parser = fiasco.io.Parser('h_1.elvlc')"
   ]
  },
  {
   "cell_type": "code",
   "execution_count": 3,
   "metadata": {
    "collapsed": false
   },
   "outputs": [
    {
     "data": {
      "text/plain": [
       "<fiasco.io.sources.ion_sources.ElvlcParser at 0x119605160>"
      ]
     },
     "execution_count": 3,
     "metadata": {},
     "output_type": "execute_result"
    }
   ],
   "source": [
    "parser"
   ]
  },
  {
   "cell_type": "markdown",
   "metadata": {},
   "source": [
    "Notice that this returns a parser specifically for the `.elvlc` filetype. Now, call `.parse()` on the parser to return the data in this file as an [Astropy quantity table](http://docs.astropy.org/en/stable/table/mixin_columns.html#quantity-and-qtable) with associated metadata."
   ]
  },
  {
   "cell_type": "code",
   "execution_count": 5,
   "metadata": {
    "collapsed": false
   },
   "outputs": [],
   "source": [
    "table = parser.parse()"
   ]
  },
  {
   "cell_type": "code",
   "execution_count": 6,
   "metadata": {
    "collapsed": false
   },
   "outputs": [
    {
     "data": {
      "text/html": [
       "&lt;QTable length=25&gt;\n",
       "<table id=\"table4719928152\" class=\"table-striped table-bordered table-condensed\">\n",
       "<thead><tr><th>level index</th><th>configuration</th><th>level label</th><th>multiplicity</th><th>orbital angular momentum</th><th>total angular momentum</th><th>observed energy</th><th>theoretical energy</th></tr></thead>\n",
       "<thead><tr><th></th><th></th><th></th><th></th><th></th><th></th><th>1 / cm</th><th>1 / cm</th></tr></thead>\n",
       "<thead><tr><th>int64</th><th>str2</th><th>str1</th><th>int64</th><th>str1</th><th>float64</th><th>float64</th><th>float64</th></tr></thead>\n",
       "<tr><td>1</td><td>1s</td><td></td><td>2</td><td>S</td><td>0.5</td><td>0.0</td><td>0.0</td></tr>\n",
       "<tr><td>2</td><td>2s</td><td></td><td>2</td><td>S</td><td>0.5</td><td>82258.956</td><td>82303.0</td></tr>\n",
       "<tr><td>3</td><td>2p</td><td></td><td>2</td><td>P</td><td>0.5</td><td>82258.921</td><td>82303.0</td></tr>\n",
       "<tr><td>4</td><td>2p</td><td></td><td>2</td><td>P</td><td>1.5</td><td>82259.287</td><td>82303.0</td></tr>\n",
       "<tr><td>5</td><td>3s</td><td></td><td>2</td><td>S</td><td>0.5</td><td>97492.224</td><td>97544.0</td></tr>\n",
       "<tr><td>6</td><td>3p</td><td></td><td>2</td><td>P</td><td>0.5</td><td>97492.213</td><td>97544.0</td></tr>\n",
       "<tr><td>7</td><td>3p</td><td></td><td>2</td><td>P</td><td>1.5</td><td>97492.321</td><td>97544.0</td></tr>\n",
       "<tr><td>8</td><td>3d</td><td></td><td>2</td><td>D</td><td>1.5</td><td>97492.321</td><td>97544.0</td></tr>\n",
       "<tr><td>9</td><td>3d</td><td></td><td>2</td><td>D</td><td>2.5</td><td>97492.357</td><td>97544.0</td></tr>\n",
       "<tr><td>...</td><td>...</td><td>...</td><td>...</td><td>...</td><td>...</td><td>...</td><td>...</td></tr>\n",
       "<tr><td>16</td><td>4f</td><td></td><td>2</td><td>F</td><td>3.5</td><td>102823.919</td><td>102879.0</td></tr>\n",
       "<tr><td>17</td><td>5s</td><td></td><td>2</td><td>S</td><td>0.5</td><td>105291.633</td><td>105348.0</td></tr>\n",
       "<tr><td>18</td><td>5p</td><td></td><td>2</td><td>P</td><td>0.5</td><td>105291.631</td><td>105348.0</td></tr>\n",
       "<tr><td>19</td><td>5p</td><td></td><td>2</td><td>P</td><td>1.5</td><td>105291.654</td><td>105348.0</td></tr>\n",
       "<tr><td>20</td><td>5d</td><td></td><td>2</td><td>D</td><td>1.5</td><td>105291.654</td><td>105348.0</td></tr>\n",
       "<tr><td>21</td><td>5d</td><td></td><td>2</td><td>D</td><td>2.5</td><td>105291.662</td><td>105348.0</td></tr>\n",
       "<tr><td>22</td><td>5f</td><td></td><td>2</td><td>F</td><td>2.5</td><td>105291.662</td><td>105348.0</td></tr>\n",
       "<tr><td>23</td><td>5f</td><td></td><td>2</td><td>F</td><td>3.5</td><td>105291.666</td><td>105348.0</td></tr>\n",
       "<tr><td>24</td><td>5g</td><td></td><td>2</td><td>G</td><td>3.5</td><td>105291.666</td><td>105348.0</td></tr>\n",
       "<tr><td>25</td><td>5g</td><td></td><td>2</td><td>G</td><td>4.5</td><td>105291.668</td><td>105348.0</td></tr>\n",
       "</table>"
      ],
      "text/plain": [
       "<QTable length=25>\n",
       "level index configuration level label ... observed energy theoretical energy\n",
       "                                      ...      1 / cm           1 / cm      \n",
       "   int64         str2         str1    ...     float64          float64      \n",
       "----------- ------------- ----------- ... --------------- ------------------\n",
       "          1            1s             ...             0.0                0.0\n",
       "          2            2s             ...       82258.956            82303.0\n",
       "          3            2p             ...       82258.921            82303.0\n",
       "          4            2p             ...       82259.287            82303.0\n",
       "          5            3s             ...       97492.224            97544.0\n",
       "          6            3p             ...       97492.213            97544.0\n",
       "          7            3p             ...       97492.321            97544.0\n",
       "          8            3d             ...       97492.321            97544.0\n",
       "          9            3d             ...       97492.357            97544.0\n",
       "        ...           ...         ... ...             ...                ...\n",
       "         16            4f             ...      102823.919           102879.0\n",
       "         17            5s             ...      105291.633           105348.0\n",
       "         18            5p             ...      105291.631           105348.0\n",
       "         19            5p             ...      105291.654           105348.0\n",
       "         20            5d             ...      105291.654           105348.0\n",
       "         21            5d             ...      105291.662           105348.0\n",
       "         22            5f             ...      105291.662           105348.0\n",
       "         23            5f             ...      105291.666           105348.0\n",
       "         24            5g             ...      105291.666           105348.0\n",
       "         25            5g             ...      105291.668           105348.0"
      ]
     },
     "execution_count": 6,
     "metadata": {},
     "output_type": "execute_result"
    }
   ],
   "source": [
    "table"
   ]
  },
  {
   "cell_type": "code",
   "execution_count": 8,
   "metadata": {
    "collapsed": false
   },
   "outputs": [
    {
     "data": {
      "text/latex": [
       "$[0,~82258.956,~82258.921,~82259.287,~97492.224,~97492.213,~97492.321,~97492.321,~97492.357,~102823.85,~102823.85,~102823.9,~102823.9,~102823.91,~102823.91,~102823.92,~105291.63,~105291.63,~105291.65,~105291.65,~105291.66,~105291.66,~105291.67,~105291.67,~105291.67] \\; \\mathrm{\\frac{1}{cm}}$"
      ],
      "text/plain": [
       "<Quantity [      0.   ,  82258.956,  82258.921,  82259.287,  97492.224,\n",
       "             97492.213,  97492.321,  97492.321,  97492.357, 102823.855,\n",
       "            102823.851, 102823.896, 102823.896, 102823.911, 102823.911,\n",
       "            102823.919, 105291.633, 105291.631, 105291.654, 105291.654,\n",
       "            105291.662, 105291.662, 105291.666, 105291.666, 105291.668] 1 / cm>"
      ]
     },
     "execution_count": 8,
     "metadata": {},
     "output_type": "execute_result"
    }
   ],
   "source": [
    "table['observed energy']"
   ]
  },
  {
   "cell_type": "markdown",
   "metadata": {},
   "source": [
    "The `.meta` dictionary holds additional information, including the original file footer."
   ]
  },
  {
   "cell_type": "code",
   "execution_count": 9,
   "metadata": {
    "collapsed": false
   },
   "outputs": [
    {
     "data": {
      "text/plain": [
       "OrderedDict([('footer',\n",
       "              \"%filename: h_1.elvlc\\n%observed energy levels: Fuhr et al, 1999, NIST Atomic Spectra Database Version 2.0\\n%produced as part of the Arcetri/Cambridge/NRL 'CHIANTI' atomic data base collaboration\\n%\\n%  Ken Dere  May 3 2001\\n\"),\n",
       "             ('chianti_version', '8.0.2'),\n",
       "             ('element', 'h'),\n",
       "             ('ion', 'h_1')])"
      ]
     },
     "execution_count": 9,
     "metadata": {},
     "output_type": "execute_result"
    }
   ],
   "source": [
    "table.meta"
   ]
  },
  {
   "cell_type": "code",
   "execution_count": 11,
   "metadata": {
    "collapsed": false
   },
   "outputs": [
    {
     "name": "stdout",
     "output_type": "stream",
     "text": [
      "%filename: h_1.elvlc\n",
      "%observed energy levels: Fuhr et al, 1999, NIST Atomic Spectra Database Version 2.0\n",
      "%produced as part of the Arcetri/Cambridge/NRL 'CHIANTI' atomic data base collaboration\n",
      "%\n",
      "%  Ken Dere  May 3 2001\n",
      "\n"
     ]
    }
   ],
   "source": [
    "print(table.meta['footer'])"
   ]
  },
  {
   "cell_type": "markdown",
   "metadata": {},
   "source": [
    "Notice that this same interface persists for every filetype and for every ion..."
   ]
  },
  {
   "cell_type": "code",
   "execution_count": 12,
   "metadata": {
    "collapsed": false,
    "scrolled": false
   },
   "outputs": [
    {
     "data": {
      "text/html": [
       "&lt;QTable length=76&gt;\n",
       "<table id=\"table4720917696\" class=\"table-striped table-bordered table-condensed\">\n",
       "<thead><tr><th>lower level index</th><th>upper level index</th><th>transition wavelength</th><th>oscillator strength</th><th>radiative decay rate</th><th>lower level label</th><th>upper level label</th></tr></thead>\n",
       "<thead><tr><th></th><th></th><th>Angstrom</th><th></th><th>1 / s</th><th></th><th></th></tr></thead>\n",
       "<thead><tr><th>int64</th><th>int64</th><th>float64</th><th>float64</th><th>float64</th><th>str8</th><th>str8</th></tr></thead>\n",
       "<tr><td>1</td><td>2</td><td>1215.675</td><td>0.0</td><td>2.496e-06</td><td>1s 2S1/2</td><td>2s 2S1/2</td></tr>\n",
       "<tr><td>1</td><td>2</td><td>0.0</td><td>0.0</td><td>8.229</td><td>1s 2S1/2</td><td>2s 2S1/2</td></tr>\n",
       "<tr><td>1</td><td>19</td><td>949.745</td><td>0.0186</td><td>34400000.0</td><td>1s 2S1/2</td><td>5p 2P3/2</td></tr>\n",
       "<tr><td>1</td><td>18</td><td>949.745</td><td>0.0093</td><td>34400000.0</td><td>1s 2S1/2</td><td>5p 2P1/2</td></tr>\n",
       "<tr><td>1</td><td>12</td><td>972.538</td><td>0.0387</td><td>68200000.0</td><td>1s 2S1/2</td><td>4p 2P3/2</td></tr>\n",
       "<tr><td>1</td><td>11</td><td>972.539</td><td>0.0193</td><td>68200000.0</td><td>1s 2S1/2</td><td>4p 2P1/2</td></tr>\n",
       "<tr><td>1</td><td>7</td><td>1025.724</td><td>0.105</td><td>167000000.0</td><td>1s 2S1/2</td><td>3p 2P3/2</td></tr>\n",
       "<tr><td>1</td><td>6</td><td>1025.725</td><td>0.0527</td><td>167000000.0</td><td>1s 2S1/2</td><td>3p 2P1/2</td></tr>\n",
       "<tr><td>1</td><td>4</td><td>1215.67</td><td>0.555</td><td>626000000.0</td><td>1s 2S1/2</td><td>2p 2P3/2</td></tr>\n",
       "<tr><td>...</td><td>...</td><td>...</td><td>...</td><td>...</td><td>...</td><td>...</td></tr>\n",
       "<tr><td>14</td><td>23</td><td>40522.816</td><td>5.09</td><td>2580000.0</td><td>4d 2D5/2</td><td>5f 2F7/2</td></tr>\n",
       "<tr><td>15</td><td>21</td><td>40522.816</td><td>0.00355</td><td>2400.0</td><td>4f 2F5/2</td><td>5d 2D5/2</td></tr>\n",
       "<tr><td>14</td><td>22</td><td>40522.816</td><td>0.255</td><td>172000.0</td><td>4d 2D5/2</td><td>5f 2F5/2</td></tr>\n",
       "<tr><td>16</td><td>25</td><td>40522.816</td><td>10.8</td><td>4380000.0</td><td>4f 2F7/2</td><td>5g 2G9/2</td></tr>\n",
       "<tr><td>16</td><td>24</td><td>40522.945</td><td>0.539</td><td>274000.0</td><td>4f 2F7/2</td><td>5g 2G7/2</td></tr>\n",
       "<tr><td>16</td><td>21</td><td>40522.945</td><td>0.071</td><td>48100.0</td><td>4f 2F7/2</td><td>5d 2D5/2</td></tr>\n",
       "<tr><td>15</td><td>20</td><td>40522.945</td><td>0.0497</td><td>50500.0</td><td>4f 2F5/2</td><td>5d 2D3/2</td></tr>\n",
       "<tr><td>14</td><td>19</td><td>40522.945</td><td>0.167</td><td>170000.0</td><td>4d 2D5/2</td><td>5p 2P3/2</td></tr>\n",
       "<tr><td>12</td><td>17</td><td>40523.074</td><td>0.212</td><td>430000.0</td><td>4p 2P3/2</td><td>5s 2S1/2</td></tr>\n",
       "<tr><td>13</td><td>18</td><td>40523.074</td><td>0.0928</td><td>188000.0</td><td>4d 2D3/2</td><td>5p 2P1/2</td></tr>\n",
       "</table>"
      ],
      "text/plain": [
       "<QTable length=76>\n",
       "lower level index upper level index ... lower level label upper level label\n",
       "                                    ...                                    \n",
       "      int64             int64       ...        str8              str8      \n",
       "----------------- ----------------- ... ----------------- -----------------\n",
       "                1                 2 ...          1s 2S1/2          2s 2S1/2\n",
       "                1                 2 ...          1s 2S1/2          2s 2S1/2\n",
       "                1                19 ...          1s 2S1/2          5p 2P3/2\n",
       "                1                18 ...          1s 2S1/2          5p 2P1/2\n",
       "                1                12 ...          1s 2S1/2          4p 2P3/2\n",
       "                1                11 ...          1s 2S1/2          4p 2P1/2\n",
       "                1                 7 ...          1s 2S1/2          3p 2P3/2\n",
       "                1                 6 ...          1s 2S1/2          3p 2P1/2\n",
       "                1                 4 ...          1s 2S1/2          2p 2P3/2\n",
       "              ...               ... ...               ...               ...\n",
       "               14                23 ...          4d 2D5/2          5f 2F7/2\n",
       "               15                21 ...          4f 2F5/2          5d 2D5/2\n",
       "               14                22 ...          4d 2D5/2          5f 2F5/2\n",
       "               16                25 ...          4f 2F7/2          5g 2G9/2\n",
       "               16                24 ...          4f 2F7/2          5g 2G7/2\n",
       "               16                21 ...          4f 2F7/2          5d 2D5/2\n",
       "               15                20 ...          4f 2F5/2          5d 2D3/2\n",
       "               14                19 ...          4d 2D5/2          5p 2P3/2\n",
       "               12                17 ...          4p 2P3/2          5s 2S1/2\n",
       "               13                18 ...          4d 2D3/2          5p 2P1/2"
      ]
     },
     "execution_count": 12,
     "metadata": {},
     "output_type": "execute_result"
    }
   ],
   "source": [
    "fiasco.io.Parser('h_1.wgfa').parse()"
   ]
  },
  {
   "cell_type": "code",
   "execution_count": 13,
   "metadata": {
    "collapsed": false
   },
   "outputs": [
    {
     "data": {
      "text/html": [
       "&lt;QTable length=31344&gt;\n",
       "<table id=\"table4721100112\" class=\"table-striped table-bordered table-condensed\">\n",
       "<thead><tr><th>lower level index</th><th>upper level index</th><th>delta energy</th><th>oscillator strength</th><th>high-temperature limit</th><th>number of scaled temperatures</th><th>Burgess-Tully scaling type</th><th>Burgess-Tully scaling parameter</th><th>Burgess-Tully scaled temperatures [20]</th><th>Burgess-Tully scaled effective collision strengths [20]</th></tr></thead>\n",
       "<thead><tr><th></th><th></th><th>Ry</th><th></th><th>1 / Ry</th><th></th><th></th><th></th><th></th><th></th></tr></thead>\n",
       "<thead><tr><th>int64</th><th>int64</th><th>float64</th><th>float64</th><th>float64</th><th>int64</th><th>int64</th><th>float64</th><th>float64</th><th>float64</th></tr></thead>\n",
       "<tr><td>1</td><td>2</td><td>0.1154</td><td>-1.0</td><td>1e-06</td><td>20</td><td>2</td><td>37.43</td><td>0.0 .. 1.0</td><td>2.614 .. 1e-06</td></tr>\n",
       "<tr><td>1</td><td>3</td><td>0.1304</td><td>-1.0</td><td>1e-06</td><td>20</td><td>2</td><td>33.13</td><td>0.0 .. 1.0</td><td>0.7307 .. 1e-06</td></tr>\n",
       "<tr><td>1</td><td>4</td><td>0.3439</td><td>-1.0</td><td>1e-06</td><td>20</td><td>2</td><td>12.56</td><td>0.0 .. 1.0</td><td>1.345 .. 1e-06</td></tr>\n",
       "<tr><td>1</td><td>5</td><td>0.7366</td><td>-1.0</td><td>1e-06</td><td>20</td><td>2</td><td>5.864</td><td>0.0 .. 1.0</td><td>0.5576 .. 1e-06</td></tr>\n",
       "<tr><td>1</td><td>6</td><td>2.584</td><td>0.2164</td><td>0.335</td><td>20</td><td>1</td><td>1.495</td><td>0.0 .. 1.0</td><td>1.826 .. 0.335</td></tr>\n",
       "<tr><td>1</td><td>7</td><td>2.671</td><td>0.07814</td><td>0.117</td><td>20</td><td>1</td><td>1.477</td><td>0.0 .. 1.0</td><td>0.7161 .. 0.117</td></tr>\n",
       "<tr><td>1</td><td>8</td><td>2.726</td><td>-1.0</td><td>1e-06</td><td>20</td><td>2</td><td>1.585</td><td>0.0 .. 1.0</td><td>0.1226 .. 1e-06</td></tr>\n",
       "<tr><td>1</td><td>9</td><td>3.297</td><td>0.009563</td><td>0.0116</td><td>20</td><td>1</td><td>1.373</td><td>0.0 .. 1.0</td><td>0.6907 .. 0.0116</td></tr>\n",
       "<tr><td>1</td><td>10</td><td>3.501</td><td>-1.0</td><td>1e-06</td><td>20</td><td>2</td><td>1.234</td><td>0.0 .. 1.0</td><td>0.1124 .. 1e-06</td></tr>\n",
       "<tr><td>...</td><td>...</td><td>...</td><td>...</td><td>...</td><td>...</td><td>...</td><td>...</td><td>...</td><td>...</td></tr>\n",
       "<tr><td>29</td><td>41</td><td>0.5543</td><td>-1.0</td><td>1e-06</td><td>20</td><td>2</td><td>7.793</td><td>0.0 .. 1.0</td><td>0.2043 .. 1e-06</td></tr>\n",
       "<tr><td>30</td><td>37</td><td>0.4405</td><td>-1.0</td><td>1e-06</td><td>20</td><td>2</td><td>9.806</td><td>0.0 .. 1.0</td><td>0.266 .. 1e-06</td></tr>\n",
       "<tr><td>30</td><td>39</td><td>0.4713</td><td>-1.0</td><td>1e-06</td><td>20</td><td>2</td><td>9.165</td><td>0.0 .. 1.0</td><td>0.4741 .. 1e-06</td></tr>\n",
       "<tr><td>30</td><td>41</td><td>0.54</td><td>-1.0</td><td>1e-06</td><td>20</td><td>2</td><td>7.999</td><td>0.0 .. 1.0</td><td>0.4722 .. 1e-06</td></tr>\n",
       "<tr><td>31</td><td>37</td><td>0.4324</td><td>-1.0</td><td>1e-06</td><td>20</td><td>2</td><td>9.99</td><td>0.0 .. 1.0</td><td>0.2101 .. 1e-06</td></tr>\n",
       "<tr><td>31</td><td>39</td><td>0.4632</td><td>-1.0</td><td>1e-06</td><td>20</td><td>2</td><td>9.326</td><td>0.0 .. 1.0</td><td>0.4259 .. 1e-06</td></tr>\n",
       "<tr><td>31</td><td>41</td><td>0.5319</td><td>-1.0</td><td>1e-06</td><td>20</td><td>2</td><td>8.121</td><td>0.0 .. 1.0</td><td>0.2505 .. 1e-06</td></tr>\n",
       "<tr><td>32</td><td>37</td><td>0.4259</td><td>-1.0</td><td>1e-06</td><td>20</td><td>2</td><td>10.14</td><td>0.0 .. 1.0</td><td>0.2173 .. 1e-06</td></tr>\n",
       "<tr><td>32</td><td>39</td><td>0.4567</td><td>-1.0</td><td>1e-06</td><td>20</td><td>2</td><td>9.458</td><td>0.0 .. 1.0</td><td>0.4049 .. 1e-06</td></tr>\n",
       "<tr><td>32</td><td>41</td><td>0.5255</td><td>-1.0</td><td>1e-06</td><td>20</td><td>2</td><td>8.22</td><td>0.0 .. 1.0</td><td>0.5051 .. 1e-06</td></tr>\n",
       "</table>"
      ],
      "text/plain": [
       "<QTable length=31344>\n",
       "lower level index ... Burgess-Tully scaled effective collision strengths [20]\n",
       "                  ...                                                        \n",
       "      int64       ...                         float64                        \n",
       "----------------- ... -------------------------------------------------------\n",
       "                1 ...                                          2.614 .. 1e-06\n",
       "                1 ...                                         0.7307 .. 1e-06\n",
       "                1 ...                                          1.345 .. 1e-06\n",
       "                1 ...                                         0.5576 .. 1e-06\n",
       "                1 ...                                          1.826 .. 0.335\n",
       "                1 ...                                         0.7161 .. 0.117\n",
       "                1 ...                                         0.1226 .. 1e-06\n",
       "                1 ...                                        0.6907 .. 0.0116\n",
       "                1 ...                                         0.1124 .. 1e-06\n",
       "              ... ...                                                     ...\n",
       "               29 ...                                         0.2043 .. 1e-06\n",
       "               30 ...                                          0.266 .. 1e-06\n",
       "               30 ...                                         0.4741 .. 1e-06\n",
       "               30 ...                                         0.4722 .. 1e-06\n",
       "               31 ...                                         0.2101 .. 1e-06\n",
       "               31 ...                                         0.4259 .. 1e-06\n",
       "               31 ...                                         0.2505 .. 1e-06\n",
       "               32 ...                                         0.2173 .. 1e-06\n",
       "               32 ...                                         0.4049 .. 1e-06\n",
       "               32 ...                                         0.5051 .. 1e-06"
      ]
     },
     "execution_count": 13,
     "metadata": {},
     "output_type": "execute_result"
    }
   ],
   "source": [
    "fiasco.io.Parser('fe_11.scups').parse()"
   ]
  },
  {
   "cell_type": "markdown",
   "metadata": {},
   "source": [
    "The same interface can be used to read the abundance, ionization equilibrium, and ionization potential files too."
   ]
  },
  {
   "cell_type": "code",
   "execution_count": 15,
   "metadata": {
    "collapsed": false
   },
   "outputs": [
    {
     "data": {
      "text/html": [
       "&lt;QTable length=15&gt;\n",
       "<table id=\"table4719600136\" class=\"table-striped table-bordered table-condensed\">\n",
       "<thead><tr><th>atomic number</th><th>abundance relative to H</th><th>element</th></tr></thead>\n",
       "<thead><tr><th></th><th></th><th></th></tr></thead>\n",
       "<thead><tr><th>int64</th><th>float64</th><th>str2</th></tr></thead>\n",
       "<tr><td>1</td><td>1.0</td><td>H</td></tr>\n",
       "<tr><td>2</td><td>0.07943282347242822</td><td>He</td></tr>\n",
       "<tr><td>6</td><td>0.0003890451449942805</td><td>C</td></tr>\n",
       "<tr><td>7</td><td>0.0001</td><td>N</td></tr>\n",
       "<tr><td>8</td><td>0.0007762471166286928</td><td>O</td></tr>\n",
       "<tr><td>10</td><td>0.00012022644346174131</td><td>Ne</td></tr>\n",
       "<tr><td>11</td><td>8.51138038202376e-06</td><td>Na</td></tr>\n",
       "<tr><td>12</td><td>0.00014125375446227554</td><td>Mg</td></tr>\n",
       "<tr><td>13</td><td>1.0964781961431852e-05</td><td>Al</td></tr>\n",
       "<tr><td>14</td><td>0.0001258925411794166</td><td>Si</td></tr>\n",
       "<tr><td>16</td><td>1.8620871366628657e-05</td><td>S</td></tr>\n",
       "<tr><td>18</td><td>3.801893963205613e-06</td><td>Ar</td></tr>\n",
       "<tr><td>20</td><td>8.51138038202376e-06</td><td>Ca</td></tr>\n",
       "<tr><td>26</td><td>0.0001258925411794166</td><td>Fe</td></tr>\n",
       "<tr><td>28</td><td>6.9183097091893625e-06</td><td>Ni</td></tr>\n",
       "</table>"
      ],
      "text/plain": [
       "<QTable length=15>\n",
       "atomic number abundance relative to H element\n",
       "                                             \n",
       "    int64             float64           str2 \n",
       "------------- ----------------------- -------\n",
       "            1                     1.0       H\n",
       "            2     0.07943282347242822      He\n",
       "            6   0.0003890451449942805       C\n",
       "            7                  0.0001       N\n",
       "            8   0.0007762471166286928       O\n",
       "           10  0.00012022644346174131      Ne\n",
       "           11    8.51138038202376e-06      Na\n",
       "           12  0.00014125375446227554      Mg\n",
       "           13  1.0964781961431852e-05      Al\n",
       "           14   0.0001258925411794166      Si\n",
       "           16  1.8620871366628657e-05       S\n",
       "           18   3.801893963205613e-06      Ar\n",
       "           20    8.51138038202376e-06      Ca\n",
       "           26   0.0001258925411794166      Fe\n",
       "           28  6.9183097091893625e-06      Ni"
      ]
     },
     "execution_count": 15,
     "metadata": {},
     "output_type": "execute_result"
    }
   ],
   "source": [
    "fiasco.io.Parser('sun_coronal_1992_feldman.abund').parse()"
   ]
  },
  {
   "cell_type": "code",
   "execution_count": 14,
   "metadata": {
    "collapsed": false
   },
   "outputs": [
    {
     "data": {
      "text/html": [
       "&lt;QTable length=495&gt;\n",
       "<table id=\"table4720753520\" class=\"table-striped table-bordered table-condensed\">\n",
       "<thead><tr><th>atomic number</th><th>ion</th><th>temperature [101]</th><th>ionization fraction [101]</th></tr></thead>\n",
       "<thead><tr><th></th><th></th><th>K</th><th></th></tr></thead>\n",
       "<thead><tr><th>int64</th><th>int64</th><th>float64</th><th>float64</th></tr></thead>\n",
       "<tr><td>1</td><td>1</td><td>10000.0 .. 1000000000.0</td><td>0.9983 .. 1.664e-10</td></tr>\n",
       "<tr><td>1</td><td>2</td><td>10000.0 .. 1000000000.0</td><td>0.001693 .. 1.0</td></tr>\n",
       "<tr><td>2</td><td>1</td><td>10000.0 .. 1000000000.0</td><td>1.0 .. 5.607e-17</td></tr>\n",
       "<tr><td>2</td><td>2</td><td>10000.0 .. 1000000000.0</td><td>1.904e-09 .. 1.093e-08</td></tr>\n",
       "<tr><td>2</td><td>3</td><td>10000.0 .. 1000000000.0</td><td>1.592e-34 .. 1.0</td></tr>\n",
       "<tr><td>3</td><td>1</td><td>10000.0 .. 1000000000.0</td><td>0.004061 .. 1.014e-23</td></tr>\n",
       "<tr><td>3</td><td>2</td><td>10000.0 .. 1000000000.0</td><td>0.9959 .. 1.52e-14</td></tr>\n",
       "<tr><td>3</td><td>3</td><td>10000.0 .. 1000000000.0</td><td>0.0 .. 1.46e-07</td></tr>\n",
       "<tr><td>3</td><td>4</td><td>10000.0 .. 1000000000.0</td><td>0.0 .. 1.0</td></tr>\n",
       "<tr><td>...</td><td>...</td><td>...</td><td>...</td></tr>\n",
       "<tr><td>30</td><td>22</td><td>10000.0 .. 1000000000.0</td><td>0.0 .. 2.485e-21</td></tr>\n",
       "<tr><td>30</td><td>23</td><td>10000.0 .. 1000000000.0</td><td>0.0 .. 1.907e-18</td></tr>\n",
       "<tr><td>30</td><td>24</td><td>10000.0 .. 1000000000.0</td><td>0.0 .. 1.234e-15</td></tr>\n",
       "<tr><td>30</td><td>25</td><td>10000.0 .. 1000000000.0</td><td>0.0 .. 7.294e-13</td></tr>\n",
       "<tr><td>30</td><td>26</td><td>10000.0 .. 1000000000.0</td><td>0.0 .. 3.368e-10</td></tr>\n",
       "<tr><td>30</td><td>27</td><td>10000.0 .. 1000000000.0</td><td>0.0 .. 1.26e-07</td></tr>\n",
       "<tr><td>30</td><td>28</td><td>10000.0 .. 1000000000.0</td><td>0.0 .. 3.029e-05</td></tr>\n",
       "<tr><td>30</td><td>29</td><td>10000.0 .. 1000000000.0</td><td>0.0 .. 0.004694</td></tr>\n",
       "<tr><td>30</td><td>30</td><td>10000.0 .. 1000000000.0</td><td>0.0 .. 0.1105</td></tr>\n",
       "<tr><td>30</td><td>31</td><td>10000.0 .. 1000000000.0</td><td>0.0 .. 0.8847</td></tr>\n",
       "</table>"
      ],
      "text/plain": [
       "<QTable length=495>\n",
       "atomic number  ion     temperature [101]    ionization fraction [101]\n",
       "                               K                                     \n",
       "    int64     int64         float64                  float64         \n",
       "------------- ----- ----------------------- -------------------------\n",
       "            1     1 10000.0 .. 1000000000.0       0.9983 .. 1.664e-10\n",
       "            1     2 10000.0 .. 1000000000.0           0.001693 .. 1.0\n",
       "            2     1 10000.0 .. 1000000000.0          1.0 .. 5.607e-17\n",
       "            2     2 10000.0 .. 1000000000.0    1.904e-09 .. 1.093e-08\n",
       "            2     3 10000.0 .. 1000000000.0          1.592e-34 .. 1.0\n",
       "            3     1 10000.0 .. 1000000000.0     0.004061 .. 1.014e-23\n",
       "            3     2 10000.0 .. 1000000000.0        0.9959 .. 1.52e-14\n",
       "            3     3 10000.0 .. 1000000000.0           0.0 .. 1.46e-07\n",
       "            3     4 10000.0 .. 1000000000.0                0.0 .. 1.0\n",
       "          ...   ...                     ...                       ...\n",
       "           30    22 10000.0 .. 1000000000.0          0.0 .. 2.485e-21\n",
       "           30    23 10000.0 .. 1000000000.0          0.0 .. 1.907e-18\n",
       "           30    24 10000.0 .. 1000000000.0          0.0 .. 1.234e-15\n",
       "           30    25 10000.0 .. 1000000000.0          0.0 .. 7.294e-13\n",
       "           30    26 10000.0 .. 1000000000.0          0.0 .. 3.368e-10\n",
       "           30    27 10000.0 .. 1000000000.0           0.0 .. 1.26e-07\n",
       "           30    28 10000.0 .. 1000000000.0          0.0 .. 3.029e-05\n",
       "           30    29 10000.0 .. 1000000000.0           0.0 .. 0.004694\n",
       "           30    30 10000.0 .. 1000000000.0             0.0 .. 0.1105\n",
       "           30    31 10000.0 .. 1000000000.0             0.0 .. 0.8847"
      ]
     },
     "execution_count": 14,
     "metadata": {},
     "output_type": "execute_result"
    }
   ],
   "source": [
    "fiasco.io.Parser('chianti.ioneq').parse()"
   ]
  },
  {
   "cell_type": "code",
   "execution_count": 16,
   "metadata": {
    "collapsed": false
   },
   "outputs": [
    {
     "data": {
      "text/html": [
       "&lt;QTable length=465&gt;\n",
       "<table id=\"table4782052408\" class=\"table-striped table-bordered table-condensed\">\n",
       "<thead><tr><th>atomic number</th><th>ion</th><th>ionization potential</th></tr></thead>\n",
       "<thead><tr><th></th><th></th><th>1 / cm</th></tr></thead>\n",
       "<thead><tr><th>int64</th><th>int64</th><th>float64</th></tr></thead>\n",
       "<tr><td>1</td><td>1</td><td>109678.7737</td></tr>\n",
       "<tr><td>2</td><td>1</td><td>198310.77227</td></tr>\n",
       "<tr><td>2</td><td>2</td><td>438908.8863</td></tr>\n",
       "<tr><td>3</td><td>1</td><td>43487.15</td></tr>\n",
       "<tr><td>3</td><td>2</td><td>610079.0</td></tr>\n",
       "<tr><td>3</td><td>3</td><td>987661.027</td></tr>\n",
       "<tr><td>4</td><td>1</td><td>75192.64</td></tr>\n",
       "<tr><td>4</td><td>2</td><td>146882.86</td></tr>\n",
       "<tr><td>4</td><td>3</td><td>1241242.0</td></tr>\n",
       "<tr><td>...</td><td>...</td><td>...</td></tr>\n",
       "<tr><td>30</td><td>21</td><td>14890000.0</td></tr>\n",
       "<tr><td>30</td><td>22</td><td>15860000.0</td></tr>\n",
       "<tr><td>30</td><td>23</td><td>16810000.0</td></tr>\n",
       "<tr><td>30</td><td>24</td><td>18020000.0</td></tr>\n",
       "<tr><td>30</td><td>25</td><td>19040000.0</td></tr>\n",
       "<tr><td>30</td><td>26</td><td>20110000.0</td></tr>\n",
       "<tr><td>30</td><td>27</td><td>21490000.0</td></tr>\n",
       "<tr><td>30</td><td>28</td><td>22450000.0</td></tr>\n",
       "<tr><td>30</td><td>29</td><td>95696100.0</td></tr>\n",
       "<tr><td>30</td><td>30</td><td>99921800.0</td></tr>\n",
       "</table>"
      ],
      "text/plain": [
       "<QTable length=465>\n",
       "atomic number  ion  ionization potential\n",
       "                           1 / cm       \n",
       "    int64     int64       float64       \n",
       "------------- ----- --------------------\n",
       "            1     1          109678.7737\n",
       "            2     1         198310.77227\n",
       "            2     2          438908.8863\n",
       "            3     1             43487.15\n",
       "            3     2             610079.0\n",
       "            3     3           987661.027\n",
       "            4     1             75192.64\n",
       "            4     2            146882.86\n",
       "            4     3            1241242.0\n",
       "          ...   ...                  ...\n",
       "           30    21           14890000.0\n",
       "           30    22           15860000.0\n",
       "           30    23           16810000.0\n",
       "           30    24           18020000.0\n",
       "           30    25           19040000.0\n",
       "           30    26           20110000.0\n",
       "           30    27           21490000.0\n",
       "           30    28           22450000.0\n",
       "           30    29           95696100.0\n",
       "           30    30           99921800.0"
      ]
     },
     "execution_count": 16,
     "metadata": {},
     "output_type": "execute_result"
    }
   ],
   "source": [
    "fiasco.io.Parser('chianti.ip').parse()"
   ]
  },
  {
   "cell_type": "markdown",
   "metadata": {},
   "source": [
    "fiasco uses a subclass registry in the parser factory to determine the right subclass for the provided extension. This means you can write your own parser for a specific filetype by just subclassing the `fiasco.io.GenericParser` base class and adding a `filetype` attribute."
   ]
  },
  {
   "cell_type": "code",
   "execution_count": 5,
   "metadata": {
    "collapsed": false
   },
   "outputs": [],
   "source": [
    "class JpegParser(fiasco.io.GenericParser):\n",
    "    filetype='jpeg'\n",
    "    def __init__(self,*args,**kwargs):\n",
    "        print('A custom registered parser')\n",
    "    def parse(self):\n",
    "        print('Nothing to parse here')"
   ]
  },
  {
   "cell_type": "code",
   "execution_count": 6,
   "metadata": {
    "collapsed": false
   },
   "outputs": [
    {
     "name": "stdout",
     "output_type": "stream",
     "text": [
      "A custom registered parser\n",
      "Nothing to parse here\n"
     ]
    }
   ],
   "source": [
    "fiasco.io.Parser('hello.jpeg').parse()"
   ]
  },
  {
   "cell_type": "markdown",
   "metadata": {},
   "source": [
    "## Building the HDF5 File\n",
    "To avoid having to repeatedly read from the plain text files, we want to organize the CHIANTI data into a more convenient format, e.g. HDF5. Using something like HDF5 also means we can stream only the parts of the data that we need out of the file and avoid unnecessary overhead. The `Parser` object has a method `to_hdf5()` so building the HDF databse is just a matter of calling this method on each file in the CHIANTI database.\n",
    "\n",
    "Eventually, this will be a function built into the package. For now, we'll just do it externally. If you want to store the HDF5 file somewhere particular, you should set this in the `fiascorc` file, e.g.\n",
    "\n",
    "```yaml\n",
    "[database]\n",
    "chianti_hdf5_dbase_root=/custom/path/to/chianti.hdf5\n",
    "```\n",
    "\n",
    "If no location is set, the default is `$HOME/.fiasco/chianti_dbase.h5`."
   ]
  },
  {
   "cell_type": "code",
   "execution_count": 20,
   "metadata": {
    "collapsed": false
   },
   "outputs": [],
   "source": [
    "# collect all the filenames\n",
    "# this is cumbersome and there is a better way.\n",
    "skip_dirs = ['abundance','ip','ancillary_data','continuum','dem','ioneq','masterlist']\n",
    "all_files = []\n",
    "for topdir,subdir,files in os.walk(fiasco.defaults['chianti_dbase_root']):\n",
    "    if np.any([sd in topdir for sd in skip_dirs]):\n",
    "        continue\n",
    "    if topdir == fiasco.defaults['chianti_dbase_root']:\n",
    "        continue\n",
    "    files = [file for file in files if file[0] != '.']\n",
    "    all_files += files\n",
    "abund_files = [file for file in os.listdir(os.path.join(fiasco.defaults['chianti_dbase_root'],'abundance')) \n",
    "               if file[0]!='.' and os.path.isfile(os.path.join(fiasco.defaults['chianti_dbase_root'],'abundance',file))]\n",
    "abund_files += [os.path.join('version_3',file) for file in os.listdir(os.path.join(fiasco.defaults['chianti_dbase_root'],'abundance','version_3'))\n",
    "                if file[0]!='.']\n",
    "ioneq_files = [file for file in os.listdir(os.path.join(fiasco.defaults['chianti_dbase_root'],'ioneq')) \n",
    "               if file[0]!='.' and os.path.isfile(os.path.join(fiasco.defaults['chianti_dbase_root'],'ioneq',file))]\n",
    "ioneq_files += [os.path.join('deprecated',file) for file in os.listdir(os.path.join(fiasco.defaults['chianti_dbase_root'],'ioneq','deprecated'))\n",
    "                if file[0]!='.']\n",
    "ip_files = ['chianti.ip']\n",
    "all_files += abund_files + ioneq_files + ip_files\n",
    "all_files = [af for af in all_files if '_all.' not in af and len(af.split('.'))==2]"
   ]
  },
  {
   "cell_type": "code",
   "execution_count": null,
   "metadata": {
    "collapsed": true
   },
   "outputs": [],
   "source": [
    "with ProgressBar(len(all_files),ipython_widget=True,) as progress:\n",
    "    with h5py.File(fiasco.defaults['chianti_hdf5_dbase_root'],'a') as hf:\n",
    "        for file in all_files:\n",
    "            parser = fiasco.io.Parser(file)\n",
    "            df = parser.parse()\n",
    "            parser.to_hdf5(hf,df)\n",
    "            progress.update()"
   ]
  },
  {
   "cell_type": "markdown",
   "metadata": {},
   "source": [
    "## Accessing CHIANTI Data from HDF5\n",
    "Now that we've parsed the data and built it into an HDF5 file, we need a way to access it. `fiasco` implements a class `IonBase` for accessing all of the data associated with a particular ion.\n",
    "\n",
    "The idea behind this object is to provide a general base layer for accessing CHIANTI data. More specific objects can then be built on top of this data access layer. Additionally, this provides a nice base layer for users/other applications to build on top if they need to access CHIANTI data but don't want the overhead or clutter of the specific CHIANTI methods, e.g. all the different needed calculations."
   ]
  },
  {
   "cell_type": "code",
   "execution_count": 8,
   "metadata": {
    "collapsed": true
   },
   "outputs": [],
   "source": [
    "h1_ion = fiasco.IonBase('h_1')"
   ]
  },
  {
   "cell_type": "markdown",
   "metadata": {},
   "source": [
    "This class has an attribute for each filetype."
   ]
  },
  {
   "cell_type": "code",
   "execution_count": 9,
   "metadata": {
    "collapsed": false
   },
   "outputs": [
    {
     "data": {
      "text/plain": [
       "h/h_1/elvlc\n",
       "        \n",
       "Fields\n",
       "------\n",
       "configuration  -- [description]\n",
       "level index  -- [description]\n",
       "level label  -- [description]\n",
       "multiplicity  -- [description]\n",
       "observed energy (1 / cm) -- [description]\n",
       "orbital angular momentum  -- [description]\n",
       "theoretical energy (1 / cm) -- [description]\n",
       "total angular momentum  -- [description]\n",
       "\n",
       "Footer\n",
       "------\n",
       "%filename: h_1.elvlc\n",
       "%observed energy levels: Fuhr et al, 1999, NIST Atomic Spectra Database Version 2.0\n",
       "%produced as part of the Arcetri/Cambridge/NRL 'CHIANTI' atomic data base collaboration\n",
       "%\n",
       "%  Ken Dere  May 3 2001\n",
       "\n",
       "        "
      ]
     },
     "execution_count": 9,
     "metadata": {},
     "output_type": "execute_result"
    }
   ],
   "source": [
    "h1_ion.elvlc"
   ]
  },
  {
   "cell_type": "code",
   "execution_count": 10,
   "metadata": {
    "collapsed": false
   },
   "outputs": [
    {
     "data": {
      "text/plain": [
       "h/h_1/wgfa\n",
       "        \n",
       "Fields\n",
       "------\n",
       "lower level index  -- [description]\n",
       "lower level label  -- [description]\n",
       "oscillator strength  -- [description]\n",
       "radiative decay rate (1 / s) -- [description]\n",
       "transition wavelength (Angstrom) -- [description]\n",
       "upper level index  -- [description]\n",
       "upper level label  -- [description]\n",
       "\n",
       "Footer\n",
       "------\n",
       "%filename: h_1.wgfa\n",
       "% observed energy levels: Fuhr et al, 1999, NIST Atomic Spectra Database Version 2.0,\n",
       "%oscillator strengths: Wiese,W.L., Smith,M.W., Glennon,B.M., 1966, Atomic Transition Probabilities, NSRDS-NBS-4\n",
       "% A values (1s-2s): Parpia,F.A., Johnson,W.R., 1982, Phys.Rev.A, 26, 1142.\n",
       "%comment: Wavelengths have been calculated the original energy levels from NIST, that include more\n",
       "          decimal figures than allowed by CHIANTI format.\n",
       "%produced as part of the Arcetri/Cambridge/NRL 'CHIANTI' atomic data base collaboration\n",
       "%\n",
       "%  Ken Dere  May 2001\n",
       " -1\n",
       "\n",
       "        "
      ]
     },
     "execution_count": 10,
     "metadata": {},
     "output_type": "execute_result"
    }
   ],
   "source": [
    "h1_ion.wgfa"
   ]
  },
  {
   "cell_type": "markdown",
   "metadata": {},
   "source": [
    "Notice that the `__repr__` is overridden to display the necessary metadata about each file for a given ion. Additionally, the `__getitem__` has been overriden to return the \"columns\" of that attribute from the HDF5 file. This makes accessing the data much easier and then also provides the original sources for the data as listed in the footer of the original data file."
   ]
  },
  {
   "cell_type": "code",
   "execution_count": 11,
   "metadata": {
    "collapsed": false
   },
   "outputs": [
    {
     "data": {
      "text/latex": [
       "$[0,~82258.956,~82258.921,~82259.287,~97492.224,~97492.213,~97492.321,~97492.321,~97492.357,~102823.85,~102823.85,~102823.9,~102823.9,~102823.91,~102823.91,~102823.92,~105291.63,~105291.63,~105291.65,~105291.65,~105291.66,~105291.66,~105291.67,~105291.67,~105291.67] \\; \\mathrm{\\frac{1}{cm}}$"
      ],
      "text/plain": [
       "<Quantity [      0.   ,  82258.956,  82258.921,  82259.287,  97492.224,\n",
       "             97492.213,  97492.321,  97492.321,  97492.357, 102823.855,\n",
       "            102823.851, 102823.896, 102823.896, 102823.911, 102823.911,\n",
       "            102823.919, 105291.633, 105291.631, 105291.654, 105291.654,\n",
       "            105291.662, 105291.662, 105291.666, 105291.666, 105291.668] 1 / cm>"
      ]
     },
     "execution_count": 11,
     "metadata": {},
     "output_type": "execute_result"
    }
   ],
   "source": [
    "h1_ion.elvlc['observed energy']"
   ]
  },
  {
   "cell_type": "code",
   "execution_count": 12,
   "metadata": {
    "collapsed": false
   },
   "outputs": [
    {
     "data": {
      "text/latex": [
       "$[1215.675,~0,~949.745,~949.745,~972.538,~972.539,~1025.724,~1025.725,~1215.67,~1215.676,~4341.655,~4341.659,~4341.661,~4341.665,~4341.723,~4341.724,~4341.729,~4862.645,~4862.652,~4862.656,~4862.664,~4862.729,~4862.732,~4862.743,~6564.536,~6564.549,~6564.576,~6564.596,~6564.677,~6564.694,~6564.734,~12821.448,~12821.474,~12821.486,~12821.513,~12821.615,~12821.615,~12821.628,~12821.628,~12821.667,~12821.667,~12821.68,~12821.68,~12821.692,~18755.822,~18755.877,~18755.988,~18756.043,~18756.152,~18756.152,~18756.207,~18756.207,~18756.262,~18756.289,~18756.344,~18756.373,~18756.373,~40521.922,~40521.922,~40522.305,~40522.305,~40522.562,~40522.562,~40522.691,~40522.691,~40522.816,~40522.816,~40522.816,~40522.816,~40522.816,~40522.945,~40522.945,~40522.945,~40522.945,~40523.074,~40523.074] \\; \\mathrm{\\mathring{A}}$"
      ],
      "text/plain": [
       "<Quantity [  1215.675,     0.   ,   949.745,   949.745,   972.538,\n",
       "              972.539,  1025.724,  1025.725,  1215.67 ,  1215.676,\n",
       "             4341.655,  4341.659,  4341.661,  4341.665,  4341.723,\n",
       "             4341.724,  4341.729,  4862.645,  4862.652,  4862.656,\n",
       "             4862.664,  4862.729,  4862.732,  4862.743,  6564.536,\n",
       "             6564.549,  6564.576,  6564.596,  6564.677,  6564.694,\n",
       "             6564.734, 12821.448, 12821.474, 12821.486, 12821.513,\n",
       "            12821.615, 12821.615, 12821.628, 12821.628, 12821.667,\n",
       "            12821.667, 12821.68 , 12821.68 , 12821.692, 18755.822,\n",
       "            18755.877, 18755.988, 18756.043, 18756.152, 18756.152,\n",
       "            18756.207, 18756.207, 18756.262, 18756.289, 18756.344,\n",
       "            18756.373, 18756.373, 40521.922, 40521.922, 40522.305,\n",
       "            40522.305, 40522.562, 40522.562, 40522.691, 40522.691,\n",
       "            40522.816, 40522.816, 40522.816, 40522.816, 40522.816,\n",
       "            40522.945, 40522.945, 40522.945, 40522.945, 40523.074,\n",
       "            40523.074] Angstrom>"
      ]
     },
     "execution_count": 12,
     "metadata": {},
     "output_type": "execute_result"
    }
   ],
   "source": [
    "h1_ion.wgfa['transition wavelength']"
   ]
  },
  {
   "cell_type": "markdown",
   "metadata": {},
   "source": [
    "If a particular filetype does not exist for that ion, `None` is returned.\n",
    "\n",
    "**Note: Each `__getitem__` is a read on the HDF5 file. While this may result in some additional overhead, it means that we don't pay in having to store information we don't need. This is especially advantagious for particularly large files. For internal routines, **\n",
    "\n",
    "For the abundance, ionization potential, and ionization equilibrium data, the keys are the different available datasets."
   ]
  },
  {
   "cell_type": "code",
   "execution_count": 16,
   "metadata": {
    "collapsed": false
   },
   "outputs": [
    {
     "data": {
      "text/plain": [
       "h/abundance\n",
       "        \n",
       "Fields\n",
       "------\n",
       "allen  -- [description]\n",
       "allen_minorions  -- [description]\n",
       "cosmic_1973_allen  -- [description]\n",
       "feldman  -- [description]\n",
       "grevesse_anders  -- [description]\n",
       "grevesse_sauval98  -- [description]\n",
       "meyer_coronal  -- [description]\n",
       "photospheric_may97  -- [description]\n",
       "sun_coronal_1992_feldman  -- [description]\n",
       "sun_coronal_1992_feldman_ext  -- [description]\n",
       "sun_coronal_1999_fludra  -- [description]\n",
       "sun_coronal_1999_fludra_ext  -- [description]\n",
       "sun_coronal_2012_schmelz  -- [description]\n",
       "sun_coronal_2012_schmelz_ext  -- [description]\n",
       "sun_photospheric_1998_grevesse  -- [description]\n",
       "sun_photospheric_2007_grevesse  -- [description]\n",
       "sun_photospheric_2009_asplund  -- [description]\n",
       "sun_photospheric_2009_lodders  -- [description]\n",
       "sun_photospheric_2011_caffau  -- [description]\n",
       "unity  -- [description]\n",
       "waljeski  -- [description]\n",
       "\n",
       "Footer\n",
       "------\n",
       "cosmic_1973_allen\n",
       "------------------\n",
       "%filename: cosmic_allen_1973.abund\n",
       "%elemental abundances: Allen, C.W., 1973, Astrophysical Quantities\n",
       "%produced for the CHIANTI atomic database by Enrico Landi, Jun 2002\n",
       "%comment:\n",
       "   Changed filename, Peter Young 28-Jun-2012 (previous name: cosmic.abund)\n",
       " -1\n",
       "\n",
       "        sun_coronal_1992_feldman\n",
       "------------------\n",
       "%filename: sun_coronal_feldman_1992.abund\n",
       "%elemental abundances: Feldman, U., Mandelbaum, P., Seely, J.L., Doschek, G.A., Gursky H., 1992, ApJSS, 81, 387\n",
       "% produced for the CHIANTI atomic database by Enrico Landi, Jun 2002\n",
       "%comment:\n",
       "    Filename changed, Peter Young 27-Jun-2012 (previous name: sun_coronal.abund)\n",
       " -1\n",
       "\n",
       "        sun_coronal_1992_feldman_ext\n",
       "------------------\n",
       "%filename: sun_coronal_feldman_1992_ext.abund\n",
       "%elemental abundances: Feldman, U., Mandelbaum, P., Seely, J.L., Doschek, G.A., Gursky H., 1992, ApJSS, 81, 387\n",
       "%Potassium abundance: Landi, Feldman and Dere 2002, ApJ, 139, 281\n",
       "% Li,Be,B,F,P,Cl,Sc,Ti,V,Cr,Mn,Co,Cu and Zn abundances: Grevesse N., Sauval A.J., 1998, Space Science \n",
       "          Reviews, 85, 161 (photospheric values) with low-FIP elements increased by a factor 3.5\n",
       "% produced for the CHIANTI atomic database by Enrico Landi, Jun 2002\n",
       "%comment:\n",
       "    Filename changed, Peter Young 27-Jun-2012 (previous name: sun_coronal_ext.abund)\n",
       " -1\n",
       "\n",
       "        sun_coronal_1999_fludra\n",
       "------------------\n",
       "%filename: sun_coronal_fludra_1999.abund\n",
       "%elemental abundances: Fludra, A. & Schmelz, J. T., 1999, A&A, 348, 286\n",
       "% produced for the CHIANTI atomic database by Enrico Landi, Jun 2002\n",
       "%comment:\n",
       "    Filename changed, Peter Young 27-Jun-2012 (previous name: sun_hybrid.abund)\n",
       " -1\n",
       "\n",
       "        sun_coronal_1999_fludra_ext\n",
       "------------------\n",
       "%filename: sun_coronal_fludra_1999_ext.abund\n",
       "%elemental abundances: Fludra, A. & Schmelz, J. T., 1999, A&A, 348, 286\n",
       "% Li,Be,B,F,Sc,V,Mn,Co, Cu elemental abundances: Grevesse N., Sauval A.J., 1998, Space Science \n",
       "          Reviews, 85, 161. Their values have been scaled to mimic the \"hybrid\" FIP effect \n",
       "          found by Fludra & Schmelz 1999: Grevesse high-FIP abundances have been decreased \n",
       "          by a factor 1.3, Grevesse low-FIP abundances have been increased by a factor 2.09.\n",
       "% produced for the CHIANTI atomic database by Enrico Landi, Jun 2002\n",
       "%comment:\n",
       "    Filename changed, Peter Young 27-Jun-2012 (previous name: sun_hybrid_ext.abund)\n",
       " -1\n",
       "\n",
       "        sun_coronal_2012_schmelz\n",
       "------------------\n",
       "%filename: sun_coronal_schmelz_2012.abund\n",
       "%Prepared for the CHIANTI atomic database by Peter Young, 26-Jun-2012\n",
       "%element abundances: Schmelz, J.T., Reames, D.V., von Steiger, R., & Basu, S. 2012, ApJ, 755, 33\n",
       "%comment:\n",
       "  These are an updated version of the \"hybrid\" abundances of Fludra & Schmelz (1999). Hybrid in this\n",
       "  case means that the low FIP elements are enhanced over photospheric, while the high FIP elements\n",
       "  are lower than photospheric. This is in contrast to e.g., Feldman et al. (1992) where the low FIP\n",
       "  elements have photospheric abundances. The magnitude of the FIP effect is the same in each case, \n",
       "  however.\n",
       "%comment\n",
       "  27-Jul-2012, updated reference. PRY.\n",
       " -1\n",
       "\n",
       "        sun_coronal_2012_schmelz_ext\n",
       "------------------\n",
       "%filename: sun_coronal_2012_schmelz_ext.abund\n",
       "%created for the CHIANTI atomic database by Peter Young, 11-Dec-2015\n",
       "%abundance: \n",
       "   Schmelz, J.T., Reames, D.V., von Steiger, R., & Basu, S. 2012, ApJ, 755, 33\n",
       "         <bibcode=\"2012ApJ...755...33S\">\n",
       "   Caffau, E., Ludwig, H.-G., Steffen, M., Freytag, B. & Bonifacio, P. 2011, Sol. Phys.\n",
       "         268, 255  <bibcode=\"2011SoPh..268..255C\">\n",
       "   Lodders, K., Palme, H., & Gail, H.P. 2009, Astronomy, Astrophysics, and Cosmology, B:\n",
       "         Solar System, Landolt-Bornstein, New Series VI/4, Spring, Berlin, 560\n",
       "         <bibcode=\"2009LanB...4B...44L\">\n",
       "%comment:\n",
       "   This file reproduces the abundances from the file sun_coronal_2012_schmelz.abund but\n",
       "   adds in values for the elements missing in this file. For these missing elements, the\n",
       "   photospheric abundances are taken from the sun_photospheric_2011_caffau.abund and\n",
       "   then multiplied by a scaling factor. The scaling factor comes from Schmelz et al.\n",
       "   (2012) and is 2.14 below FIP=9 eV, 0.71 above FIP=11 eV, and a linearly varying\n",
       "   factor between these two energies.\n",
       " -1\n",
       "\n",
       "        sun_photospheric_1998_grevesse\n",
       "------------------\n",
       "%filename: sun_photospheric_1998_grevesse.abund\n",
       "%abundance: Grevesse N., Sauval A.J., 1998, Space Science Reviews, 85, 161\n",
       "%comment: These are the latest set of \"standard abundances\" produced by Grevesse \n",
       "    and colleagues. They are the same as those presented in Grevesse, Noels, \n",
       "    Sauval, 1996, in Cosmic Abundances (eds. Holt & Sonneborn), ASP Conf. \n",
       "    Ser. 99, 117-126.\n",
       "% produced for the CHIANTI atomic database by Enrico Landi, Jun 2002\n",
       "%comment:\n",
       "   Changed filename, Peter Young 28-Jun-2012 (previous name: sun_photospheric.abund)\n",
       " -1\n",
       "\n",
       "        sun_photospheric_2007_grevesse\n",
       "------------------\n",
       "%filename: sun_photospheric_2007_grevesse.abund\n",
       "%abundance: Grevesse N., Asplund, M. & Sauval A.J., 2007, Space Science Reviews, 130, 105\n",
       "%comment: These are the latest set of \"standard abundances\" produced by Grevesse \n",
       "    and colleagues.\n",
       "% produced as part of the Arcetri/Cambridge/NRL 'CHIANTI' atomic data base collaboration\n",
       "%\n",
       "%    Peter Young  -  19-Dec-2008\n",
       "%comment:\n",
       "   Changed filename, Peter Young 28-Jun-2012 (previous name: sun_photospheric_grevesse07.abund)\n",
       " -1\n",
       "\n",
       "        sun_photospheric_2009_asplund\n",
       "------------------\n",
       "%filename: sun_photospheric_2009_asplund.abund\n",
       "%created for the CHIANTI atomic database by Peter Young, 27-Jun-2012\n",
       "%abundance: Asplund, M., Grevesse, N., Sauval, A.J., & Scott, P. 2009, ARAA, 47, 481\n",
       " -1\n",
       "\n",
       "        sun_photospheric_2009_lodders\n",
       "------------------\n",
       "%filename: sun_photospheric_lodders_2009.abund\n",
       "%created for the CHIANTI atomic database by Peter Young, 27-Jun-2012\n",
       "%abundance: Lodders, K., Palme, H., & Gail, H.P. 2009, Astronomy, Astrophysics, and Cosmology, B: \n",
       "            Solar System, Landolt-Bornstein, New Series VI/4, Spring, Berlin, 560 \n",
       "            <bibcode=\"2009LanB...4B...44L\">\n",
       "%comment:\n",
       "   This reference is quite obscure, but the article can also be downloaded via astro-ph \n",
       "   (arXiv:0901.1149).\n",
       " -1\n",
       "\n",
       "        sun_photospheric_2011_caffau\n",
       "------------------\n",
       "%filename: sun_photospheric_caffau_2011.abund\n",
       "%created for the CHIANTI atomic database by Peter Young, 27-Jun-2012\n",
       "%abundance: Caffau, E., Ludwig, H.-G., Steffen, M., Freytag, B. & Bonifacio, P. 2011, Sol. Phys. \n",
       "              268, 255  <bibcode=\"2011SoPh..268..255C\">\n",
       "            Lodders, K., Palme, H., & Gail, H.P. 2009, Astronomy, Astrophysics, and Cosmology, B: \n",
       "              Solar System, Landolt-Bornstein, New Series VI/4, Spring, Berlin, 560 \n",
       "              <bibcode=\"2009LanB...4B...44L\">\n",
       "%comment:\n",
       "   Caffau et al. (2011) provided new abundances for 12 elements, 8 of which have Z<31. Caffau et al.\n",
       "   recommend combining these values with the abundances of Lodders et al. (2009), and so all other\n",
       "   abundances are from this paper.\n",
       " -1\n",
       "\n",
       "        unity\n",
       "------------------\n",
       "%filename: unity.abund\n",
       "\n",
       "when read, all of the abundances will be 1.0.  This may be helpful in some cases.\n",
       "\n",
       "% produced for the CHIANTI atomic database by Ken Dere , May 2015\n",
       " -1\n",
       "\n",
       "        allen\n",
       "------------------\n",
       "%file:  allen.abund\n",
       "%elemental abundances:  C. W. Allen, 1973, Astrophysical Quantities\n",
       "%prepared as part of the Arcetri/Cambridge/NRL atomic data collaboration CHIANTI\n",
       "-1\n",
       "\n",
       "\n",
       "        allen_minorions\n",
       "------------------\n",
       "%file:  allen.abund\n",
       "%elemental abundances:  C. W. Allen, 1973, Astrophysical Quantities\n",
       "  only the minor ions are included in this list.  it is mainly for testing purposes.\n",
       "%prepared as part of the Arcetri/Cambridge/NRL atomic data collaboration CHIANTI\n",
       "-1\n",
       "\n",
       "\n",
       "        feldman\n",
       "------------------\n",
       "%file:  feldman.abund\n",
       "%elemental abundances: (H,He,C,N,O,Ne,Na,Mg,Al,Si,S,Ar,Ca,Fe,Ni)   \n",
       "     Feldman, U., Mandelbaum, P., Seely, J.L., Doschek, G.A., Gursky H.,\n",
       "     1992, ApJSS, 81,387\n",
       "%elemental abundances: (F,P,Cl,K,Sc,Ti,V,Cr,Mn,Co,Cu,Zn):\n",
       "      C. W. Allen, 1973, Astrophysical Quantities\n",
       "%prepared as part of the Arcetri/Cambridge/NRL atomic data collaboration CHIANTI\n",
       "-1\n",
       "\n",
       "\n",
       "\n",
       "        grevesse_anders\n",
       "------------------\n",
       "%file:  grevesse&anders.abund\n",
       "%elemental abundances:  Grevesse, N., and Anders, E., in Solar Interior and Atmosphere, ed.\n",
       "A. N. Cox, W. C. Livingston, & M. S. Matthews, (Tucson: Univ. Arizona Press), 1227.\n",
       "-1\n",
       "\n",
       "        grevesse_sauval98\n",
       "------------------\n",
       "%file:   grevesse_sauval98.abund\n",
       "%abundance:  Grevesse N. & Sauval A.J., 1998, Space Science Reviews,\n",
       "             85, 161-174\n",
       "%comment: \n",
       "    These are the latest set of \"standard abundances\" produced by Grevesse \n",
       "    and colleagues. They are the same as those presented in Grevesse, Noels, \n",
       "    Sauval, 1996, in Cosmic Abundances (eds. Holt & Sonneborn), ASP Conf. \n",
       "    Ser. 99, 117-126.\n",
       "-1\n",
       "\n",
       "\n",
       "\n",
       "\n",
       "\n",
       "        meyer_coronal\n",
       "------------------\n",
       "%file:  meyer_coronal.abund\n",
       "%comment:  adopted coronal abundances\n",
       "%coronal abundance:  Meyer, J. P., 1985,APJS, 57, 173.\n",
       "-1\n",
       "\n",
       "        photospheric_may97\n",
       "------------------\n",
       "%file:   photospheric_may97.abund\n",
       "%abundance:  Anders E. & Grevesse N., 1989, Geochim. Cosmochim. Acta 53, 197\n",
       "%abundance:  Grevesse N. & Noels A., 1993. In: Origin and Evolution of the Elements, eds. Prantzos, Vangioni-Flam & Casse, CUP, p.15. \n",
       "%abundance:  Grevesse N., Noels A. & Sauval A.J., 1992. In: Proc. 3rd SOHO Workshop. ESA SP-348, p.305.\n",
       "%abundance:  Young P.R., Mason H.E., Keenan F.P., & Widing K.G., 1997, A&A, 323, 243\n",
       "%comment: These values contain revisions to the original Anders & Grevesse paper suggested by the above 3 papers\n",
       "-1\n",
       "\n",
       "\n",
       "        waljeski\n",
       "------------------\n",
       "%file:  waljeski.abund\n",
       "%abundance:  Waljeski, K., et al., 1994, ApJ, 429, 909.\n",
       "-1\n",
       "\n",
       "        \n",
       "        "
      ]
     },
     "execution_count": 16,
     "metadata": {},
     "output_type": "execute_result"
    }
   ],
   "source": [
    "h1_ion.abundance"
   ]
  },
  {
   "cell_type": "code",
   "execution_count": 14,
   "metadata": {
    "collapsed": false
   },
   "outputs": [
    {
     "data": {
      "text/plain": [
       "h/h_1/ip\n",
       "        \n",
       "Fields\n",
       "------\n",
       "chianti (1 / cm) -- [description]\n",
       "\n",
       "Footer\n",
       "------\n",
       "chianti\n",
       "------------------\n",
       "%filename: chianti.ip\n",
       "%ionization potentials: Martin, W.C., Sugar, J., Musgrove, A., Dalton, G.R.,\n",
       "    1995, NIST Database for Atomic Spectroscopy, Version 1.0, NIST Standard Reference Database 61\n",
       "    and Version 2.0 http://physics.nist.gov/cgi-bin/AtData/main_asd\n",
       "%ionization postentials: additional data for Cu and Zn from Biemeont, E., Fremat, Y., Quinet, P., 1999, ADNDT, 71, 117\n",
       "%ionization potentials: Erickson, G.W., 1977, J. Phys. Chem. Ref. Data, 6, 831\n",
       "%ionization potentials: C.E. Moore, 1970, NSRDS-NBS \n",
       "%ionization potentials: Boiko V.A., Pal'chikov V.G., Skobelev I.Yu., Faenov A.Ya., Boiko V.A., Pal'chikov V.G., \n",
       "    Skobelev I.Yu., Faenov A.Ya. from - http://spectr-w3.snz.ru/index.phtml\n",
       "% produced as part of the Arcetri/Cambridge/NRL 'CHIANTI' atomic data base collaboration\n",
       "%\n",
       "%   K.P.Dere 2006\n",
       " -1\n",
       "\n",
       "        \n",
       "        "
      ]
     },
     "execution_count": 14,
     "metadata": {},
     "output_type": "execute_result"
    }
   ],
   "source": [
    "h1_ion.ip"
   ]
  },
  {
   "cell_type": "code",
   "execution_count": 17,
   "metadata": {
    "collapsed": false
   },
   "outputs": [
    {
     "data": {
      "text/plain": [
       "h/h_1/ioneq\n",
       "        \n",
       "Fields\n",
       "------\n",
       "arnaud_raymond  -- [description]\n",
       "arnaud_raymond_ext  -- [description]\n",
       "arnaud_rothenflug  -- [description]\n",
       "arnaud_rothenflug_ext  -- [description]\n",
       "bryans_etal_06  -- [description]\n",
       "bryans_etal_09  -- [description]\n",
       "chianti  -- [description]\n",
       "chianti_version6  -- [description]\n",
       "mazzotta_etal  -- [description]\n",
       "mazzotta_etal_9  -- [description]\n",
       "mazzotta_etal_ext  -- [description]\n",
       "shull_steenberg  -- [description]\n",
       "shull_steenberg_ext  -- [description]\n",
       "\n",
       "Footer\n",
       "------\n",
       "\n",
       "        "
      ]
     },
     "execution_count": 17,
     "metadata": {},
     "output_type": "execute_result"
    }
   ],
   "source": [
    "h1_ion.ioneq"
   ]
  },
  {
   "cell_type": "code",
   "execution_count": 18,
   "metadata": {
    "collapsed": false
   },
   "outputs": [
    {
     "data": {
      "text/plain": [
       "h/h_1/ioneq/shull_steenberg\n",
       "        \n",
       "Fields\n",
       "------\n",
       "ionization fraction  -- [description]\n",
       "temperature (K) -- [description]\n",
       "\n",
       "Footer\n",
       "------\n",
       "%filename: shull_steenberg.ioneq\n",
       "%ionization equilibrium: Shull & Steenberg 1982, ApJSS, 48, 95\n",
       "%ionization equilibrium H and He: Arnaud, M., Rothenflug, R., 1986, AASS, 60, 425\n",
       "% produced as part of the Arcetri/Cambridge/NRL 'CHIANTI' atomic data base collaboration\n",
       "%\n",
       "% Enrico Landi Jan 2003\n",
       " -1\n",
       "\n",
       "        "
      ]
     },
     "execution_count": 18,
     "metadata": {},
     "output_type": "execute_result"
    }
   ],
   "source": [
    "h1_ion.ioneq['shull_steenberg']"
   ]
  },
  {
   "cell_type": "code",
   "execution_count": null,
   "metadata": {
    "collapsed": true
   },
   "outputs": [],
   "source": []
  }
 ],
 "metadata": {
  "anaconda-cloud": {},
  "kernelspec": {
   "display_name": "Python [conda env:fiasco]",
   "language": "python",
   "name": "conda-env-fiasco-py"
  },
  "language_info": {
   "codemirror_mode": {
    "name": "ipython",
    "version": 3
   },
   "file_extension": ".py",
   "mimetype": "text/x-python",
   "name": "python",
   "nbconvert_exporter": "python",
   "pygments_lexer": "ipython3",
   "version": "3.6.2"
  }
 },
 "nbformat": 4,
 "nbformat_minor": 2
}
