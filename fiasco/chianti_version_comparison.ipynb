{
 "cells": [
  {
   "cell_type": "code",
   "execution_count": 1,
   "metadata": {},
   "outputs": [],
   "source": [
    "import numpy as np\n",
    "import h5py\n",
    "import astropy.units as u\n",
    "import matplotlib.pyplot as plt\n",
    "import fiasco\n",
    "\n",
    "%matplotlib inline"
   ]
  },
  {
   "cell_type": "code",
   "execution_count": 2,
   "metadata": {},
   "outputs": [],
   "source": [
    "temperature = 10.**(np.arange(5,8,0.01))*u.K"
   ]
  },
  {
   "cell_type": "code",
   "execution_count": null,
   "metadata": {},
   "outputs": [],
   "source": [
    "ion_new = fiasco.Ion('fe_9',temperature)\n",
    "ion_old = fiasco.Ion('fe_9',temperature,hdf5_path='/Users/willbarnes/.fiasco/chianti_dbase_v7.h5')"
   ]
  },
  {
   "cell_type": "code",
   "execution_count": null,
   "metadata": {},
   "outputs": [],
   "source": [
    "plt.plot(ion_new.temperature,ion_new.recombination_rate())\n",
    "plt.plot(ion_old.temperature,ion_old.recombination_rate(),'o',markevery=10)\n",
    "plt.xscale('log')"
   ]
  },
  {
   "cell_type": "code",
   "execution_count": null,
   "metadata": {},
   "outputs": [],
   "source": [
    "ion_old._drparams.version"
   ]
  },
  {
   "cell_type": "code",
   "execution_count": null,
   "metadata": {},
   "outputs": [],
   "source": [
    "ion_new._drparams.version"
   ]
  },
  {
   "cell_type": "code",
   "execution_count": null,
   "metadata": {},
   "outputs": [],
   "source": [
    "plt.plot(ion_new.temperature,ion_new.recombination_rate())\n",
    "plt.plot(ion_old.temperature,ion_old.recombination_rate(),'o',markevery=10)\n",
    "plt.xscale('log')"
   ]
  },
  {
   "cell_type": "code",
   "execution_count": null,
   "metadata": {},
   "outputs": [],
   "source": [
    "with h5py.File('/Users/willbarnes/.fiasco/chianti_dbase_v7.h5','r') as hf:\n",
    "    print([k for k in hf['fe/fe_9/drparams'].attrs])\n",
    "    print(hf['fe/fe_9/drparams'].attrs['chianti_version'])"
   ]
  },
  {
   "cell_type": "code",
   "execution_count": 13,
   "metadata": {},
   "outputs": [
    {
     "data": {
      "text/html": [
       "&lt;QTable length=1&gt;\n",
       "<table id=\"table4477050104\" class=\"table-striped table-bordered table-condensed\">\n",
       "<thead><tr><th>fit_type</th><th>A_fit</th><th>B_fit</th><th>T0_fit</th><th>T1_fit</th><th>C_fit</th><th>T2_fit</th></tr></thead>\n",
       "<thead><tr><th></th><th>cm3 / s</th><th></th><th>K</th><th>K</th><th></th><th>K</th></tr></thead>\n",
       "<thead><tr><th>int64</th><th>float64</th><th>float64</th><th>float64</th><th>float64</th><th>float64</th><th>float64</th></tr></thead>\n",
       "<tr><td>2</td><td>1.121e-09</td><td>0.7407</td><td>37.53</td><td>24180000.0</td><td>0.072</td><td>328000.0</td></tr>\n",
       "</table>"
      ],
      "text/plain": [
       "<QTable length=1>\n",
       "fit_type   A_fit    B_fit   T0_fit   T1_fit    C_fit   T2_fit \n",
       "          cm3 / s             K        K                 K    \n",
       " int64    float64  float64 float64  float64   float64 float64 \n",
       "-------- --------- ------- ------- ---------- ------- --------\n",
       "       2 1.121e-09  0.7407   37.53 24180000.0   0.072 328000.0"
      ]
     },
     "execution_count": 13,
     "metadata": {},
     "output_type": "execute_result"
    }
   ],
   "source": [
    "p = fiasco.io.Parser('fe_8.rrparams')\n",
    "p.parse()"
   ]
  },
  {
   "cell_type": "code",
   "execution_count": 14,
   "metadata": {},
   "outputs": [
    {
     "data": {
      "text/html": [
       "&lt;QTable length=1&gt;\n",
       "<table id=\"table4476921280\" class=\"table-striped table-bordered table-condensed\">\n",
       "<thead><tr><th>fit_type</th><th>A_fit</th><th>B_fit</th><th>T0_fit</th><th>T1_fit</th><th>C_fit</th><th>T2_fit</th></tr></thead>\n",
       "<thead><tr><th></th><th>cm3 / s</th><th></th><th>K</th><th>K</th><th></th><th>K</th></tr></thead>\n",
       "<thead><tr><th>int64</th><th>float64</th><th>float64</th><th>float64</th><th>float64</th><th>float64</th><th>float64</th></tr></thead>\n",
       "<tr><td>2</td><td>1.121e-09</td><td>0.7407</td><td>37.53</td><td>24180000.0</td><td>0.072</td><td>328000.0</td></tr>\n",
       "</table>"
      ],
      "text/plain": [
       "<QTable length=1>\n",
       "fit_type   A_fit    B_fit   T0_fit   T1_fit    C_fit   T2_fit \n",
       "          cm3 / s             K        K                 K    \n",
       " int64    float64  float64 float64  float64   float64 float64 \n",
       "-------- --------- ------- ------- ---------- ------- --------\n",
       "       2 1.121e-09  0.7407   37.53 24180000.0   0.072 328000.0"
      ]
     },
     "execution_count": 14,
     "metadata": {},
     "output_type": "execute_result"
    }
   ],
   "source": [
    "p = fiasco.io.Parser('fe_8.rrparams',ascii_dbase_root='/Users/willbarnes/.fiasco/chianti_dbase_v7/')\n",
    "p.parse()"
   ]
  },
  {
   "cell_type": "code",
   "execution_count": null,
   "metadata": {},
   "outputs": [],
   "source": []
  }
 ],
 "metadata": {
  "kernelspec": {
   "display_name": "Python [conda env:fiasco]",
   "language": "python",
   "name": "conda-env-fiasco-py"
  },
  "language_info": {
   "codemirror_mode": {
    "name": "ipython",
    "version": 3
   },
   "file_extension": ".py",
   "mimetype": "text/x-python",
   "name": "python",
   "nbconvert_exporter": "python",
   "pygments_lexer": "ipython3",
   "version": "3.6.2"
  }
 },
 "nbformat": 4,
 "nbformat_minor": 2
}
