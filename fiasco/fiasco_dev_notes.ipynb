{
 "cells": [
  {
   "cell_type": "markdown",
   "metadata": {},
   "source": [
    "# `fiasco` Dev Notes\n",
    "ChiantiPy has decided to move in a development direction that will not severely hinder interaction with SunPy and other established libraries. As such, it has become apparent that a \"fork\" or \"clone\" of ChiantiPy will need to be developed.\n",
    "\n",
    "While this involves a bit more effort, it is ultimately advantage as we will be able to structure the package appropriately from the ground up. "
   ]
  },
  {
   "cell_type": "markdown",
   "metadata": {},
   "source": [
    "## Name??\n",
    "*fiasco*, or flask, is the typical style of bottle used to hold the *Chianti Classico* wine. It is typically larger and rounder at the bottom and is covered by a straw basket. Also, open-source development could often be described as a fiasco.\n",
    "<img src=\"https://upload.wikimedia.org/wikipedia/commons/a/ae/Fiasco_di_chianti_monteriggioni.jpg\" style=\"width:250px;\">"
   ]
  },
  {
   "cell_type": "markdown",
   "metadata": {},
   "source": [
    "## Capabilities\n",
    "What are the desired capabilities of the package?"
   ]
  },
  {
   "cell_type": "markdown",
   "metadata": {},
   "source": [
    "## Structure"
   ]
  },
  {
   "cell_type": "markdown",
   "metadata": {},
   "source": [
    "## Database\n",
    "One of the most difficult parts of the package to navigate will be the interaction with the CHIANTI atomic database itself. Below is a rough sketch of how I envision the database-codebase interaction will proceed.\n",
    "\n",
    "* __Set of functions to parse raw ASCII into pandas dataframes__\n",
    " * One for each type of file in the database\n",
    " * Set of dataframes for each ion in the database\n",
    " * How to handle properties on the element level? e.g. abundance, ionization potential, etc. \n",
    "\n",
    "* __Build single HDF5 out of the dataframes__ \n",
    " * Easily stream data in and out of the file\n",
    " * How to structure the data? Preserve the CHIANTI filetypes?\n",
    " * Nested \n",
    "\n",
    "* __Base class instantiated with a particular ion__ \n",
    " * Properties for each of the distinct filetypes\n",
    " * Base class for all other objects in fiasco\n",
    " * Allow other applications to build capabilities on top of CHIANTI data without baggage of the full `Ion` object\n",
    " * `__repr__` method should show all available fields (with units,descriptions) in addition to footer from file\n",
    "\n",
    "* __Set database location with a property in the `rc` file__\n",
    " * Other properties (e.g. specific datasets) set here as well\n",
    " * Build HDF5 file the first time the package is imported, store in `~/.fiasco/` by default\n",
    " * SHA-1 hashes for each file in the database, store these in the `~/.fiasco/` directory\n",
    " * At each import, check the hashes to see if the HDF5 database needs to be updated"
   ]
  },
  {
   "cell_type": "markdown",
   "metadata": {},
   "source": [
    "## Infrastructure\n",
    "\n",
    "* Package template from SunPy or Astropy and helpers package from Astropy\n",
    "* Hosted documentation with Sphinx and Read the Docs\n",
    "* Testing infrastructure with pytest\n",
    "* Automatic builds, tests, and docs tests on Travis CI"
   ]
  },
  {
   "cell_type": "code",
   "execution_count": null,
   "metadata": {
    "collapsed": true
   },
   "outputs": [],
   "source": []
  }
 ],
 "metadata": {
  "anaconda-cloud": {},
  "kernelspec": {
   "display_name": "Python [conda env:chiantipy]",
   "language": "python",
   "name": "conda-env-chiantipy-py"
  },
  "language_info": {
   "codemirror_mode": {
    "name": "ipython",
    "version": 3
   },
   "file_extension": ".py",
   "mimetype": "text/x-python",
   "name": "python",
   "nbconvert_exporter": "python",
   "pygments_lexer": "ipython3",
   "version": "3.5.2"
  }
 },
 "nbformat": 4,
 "nbformat_minor": 2
}
