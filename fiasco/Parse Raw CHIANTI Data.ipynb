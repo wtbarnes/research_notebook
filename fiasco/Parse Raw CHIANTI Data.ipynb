{
 "cells": [
  {
   "cell_type": "code",
   "execution_count": 1,
   "metadata": {
    "collapsed": false
   },
   "outputs": [
    {
     "name": "stdout",
     "output_type": "stream",
     "text": [
      " found PyQt4 widgets\n",
      " using CLI for selections\n",
      " reading chiantirc file\n"
     ]
    }
   ],
   "source": [
    "import os\n",
    "\n",
    "import numpy as np\n",
    "import pandas\n",
    "import matplotlib.pyplot as plt\n",
    "import h5py\n",
    "import astropy.constants as const\n",
    "import astropy.units as u\n",
    "import astropy.table\n",
    "import ChiantiPy.tools.util as ch_util\n",
    "import ChiantiPy.tools.io as ch_io\n",
    "import ChiantiPy.core as ch\n",
    "\n",
    "%matplotlib inline"
   ]
  },
  {
   "cell_type": "code",
   "execution_count": 17,
   "metadata": {
    "collapsed": true
   },
   "outputs": [],
   "source": [
    "ch_dbase = os.environ['XUVTOP']"
   ]
  },
  {
   "cell_type": "code",
   "execution_count": 128,
   "metadata": {
    "collapsed": false
   },
   "outputs": [
    {
     "ename": "KeyError",
     "evalue": "'FOOBAR'",
     "output_type": "error",
     "traceback": [
      "\u001b[0;31m---------------------------------------------------------------------------\u001b[0m",
      "\u001b[0;31mKeyError\u001b[0m                                  Traceback (most recent call last)",
      "\u001b[0;32m<ipython-input-128-1c6b33609ffe>\u001b[0m in \u001b[0;36m<module>\u001b[0;34m()\u001b[0m\n\u001b[0;32m----> 1\u001b[0;31m \u001b[0mos\u001b[0m\u001b[0;34m.\u001b[0m\u001b[0menviron\u001b[0m\u001b[0;34m[\u001b[0m\u001b[0;34m'FOOBAR'\u001b[0m\u001b[0;34m]\u001b[0m\u001b[0;34m\u001b[0m\u001b[0m\n\u001b[0m",
      "\u001b[0;32m/Users/willbarnes/anaconda/envs/chiantipy/lib/python3.5/os.py\u001b[0m in \u001b[0;36m__getitem__\u001b[0;34m(self, key)\u001b[0m\n\u001b[1;32m    723\u001b[0m         \u001b[0;32mexcept\u001b[0m \u001b[0mKeyError\u001b[0m\u001b[0;34m:\u001b[0m\u001b[0;34m\u001b[0m\u001b[0m\n\u001b[1;32m    724\u001b[0m             \u001b[0;31m# raise KeyError with the original key value\u001b[0m\u001b[0;34m\u001b[0m\u001b[0;34m\u001b[0m\u001b[0m\n\u001b[0;32m--> 725\u001b[0;31m             \u001b[0;32mraise\u001b[0m \u001b[0mKeyError\u001b[0m\u001b[0;34m(\u001b[0m\u001b[0mkey\u001b[0m\u001b[0;34m)\u001b[0m \u001b[0;32mfrom\u001b[0m \u001b[0;32mNone\u001b[0m\u001b[0;34m\u001b[0m\u001b[0m\n\u001b[0m\u001b[1;32m    726\u001b[0m         \u001b[0;32mreturn\u001b[0m \u001b[0mself\u001b[0m\u001b[0;34m.\u001b[0m\u001b[0mdecodevalue\u001b[0m\u001b[0;34m(\u001b[0m\u001b[0mvalue\u001b[0m\u001b[0;34m)\u001b[0m\u001b[0;34m\u001b[0m\u001b[0m\n\u001b[1;32m    727\u001b[0m \u001b[0;34m\u001b[0m\u001b[0m\n",
      "\u001b[0;31mKeyError\u001b[0m: 'FOOBAR'"
     ]
    }
   ],
   "source": [
    "os.environ['FOOBAR']"
   ]
  },
  {
   "cell_type": "markdown",
   "metadata": {},
   "source": [
    "# Parse Raw CHIANTI Data\n",
    "In this notebook, we'll develop some tools for parsing the raw ASCII data in the CHIANTI atomic database and transforming it into pandas dataframes. It is important to include a way to very easily parse the actual raw data in the ChiantiPy package.\n",
    "\n",
    "Then, the next step is to transform these dataframes into one large HDF5 file. ChiantiPy will then use this file like a database to stream the needed atomic data from. This provides a sleeker interface to the data itself and can be much more efficient than the current system."
   ]
  },
  {
   "cell_type": "markdown",
   "metadata": {},
   "source": [
    "## Notes on Database Structure\n",
    "Other directories/files that are **not** ions:\n",
    "* __abundance__\n",
    "* ancillary_data\n",
    "* continuum\n",
    "* dem\n",
    "* __ioneq__\n",
    "* __ip__\n",
    "* masterlist\n",
    "* VERSION (file)\n",
    "\n",
    "The items in bold can be parsed appropriately and attached to the ion data objects.\n",
    "\n",
    "The filetypes for each ion are:\n",
    "* ~~**.elvlc**~~\n",
    "* ~~**.wgfa**~~\n",
    "* ~~.scups~~\n",
    "* ~~.psplups~~\n",
    "* ~~.rrparams~~\n",
    "* ~~.trparams~~\n",
    "* .diparams\n",
    "* .drparams\n",
    "* ~~**.easplom**~~\n",
    "* ~~**.easplups**~~\n",
    "* ~~**.fblvl**~~\n",
    "* ~~.cilvl~~\n",
    "* ~~.reclvl~~\n",
    "\n",
    "The items in bold have a basic row-column structure and can be easily read using just a list of column names and datatypes.\n",
    "\n",
    "Those not bolded will be a bit more complicated.\n",
    "\n",
    "One possible idea would be to force everything into the basic row-column format. This could be done by providing preprocessors for specific filetypes and then a general filereader. This would help the code be less verbose and more maintable.\n",
    "\n",
    "For those entries which are arrays, the preprocesor could take those rows, turn them into comma separated lists, make them an item in the row (i.e. a single entry) and then give them a custom datatype that can later be used to just convert this into a Numpy array.\n",
    "\n",
    "Goal of the preprocessor should be to force every distinct entry into a single space-delimited row where each entry is unique."
   ]
  },
  {
   "cell_type": "markdown",
   "metadata": {},
   "source": [
    "## Read and Parse Raw ASCII Data\n",
    "Each CHIANTI filetype seems to have a completely different layout. We do not want the user to have to worry about this. We've implemented a basic factory pattern that creates a different parser based on the input filetype."
   ]
  },
  {
   "cell_type": "code",
   "execution_count": 119,
   "metadata": {
    "collapsed": true
   },
   "outputs": [],
   "source": [
    "class ParserFactory(type):\n",
    "    def __call__(cls,*args,**kwargs):\n",
    "        filetype = args[0].split('.')[-1]\n",
    "        if filetype == 'elvlc':\n",
    "            return ElvlcParser(*args,**kwargs)\n",
    "        elif filetype == 'wgfa':\n",
    "            return WgfaParser(*args,**kwargs)\n",
    "        elif filetype == 'fblvl':\n",
    "            return FblvlParser(*args,**kwargs)\n",
    "        elif filetype == 'scups':\n",
    "            return ScupsParser(*args,**kwargs)\n",
    "        elif filetype == 'easplom':\n",
    "            return EasplomParser(*args,**kwargs)\n",
    "        elif filetype == 'easplups':\n",
    "            return EasplupsParser(*args,**kwargs)\n",
    "        elif filetype == 'psplups':\n",
    "            return PsplupsParser(*args,**kwargs)\n",
    "        elif filetype == 'cilvl':\n",
    "            return CilvlParser(*args,**kwargs)\n",
    "        elif filetype == 'reclvl':\n",
    "            return ReclvlParser(*args,**kwargs)\n",
    "        elif filetype == 'rrparams':\n",
    "            return RrparamsParser(*args,**kwargs)\n",
    "        elif filetype == 'trparams':\n",
    "            return TrparamsParser(*args,**kwargs)\n",
    "        elif filetype == 'drparams':\n",
    "            return DrparamsParser(*args,**kwargs)\n",
    "        elif filetype == 'diparams':\n",
    "            return DiparamsParser(*args,**kwargs)\n",
    "        else:\n",
    "            return type.__call__(cls,*args,**kwargs)\n",
    "\n",
    "        \n",
    "class GenericParser(object):\n",
    "    dtypes = []\n",
    "    units = []\n",
    "    headings = []\n",
    "    \n",
    "    def __init__(self,ion_filename):\n",
    "        self.ion_filename = ion_filename\n",
    "        self.filetype = self.ion_filename.split('.')[-1]\n",
    "        self.ion_name = self.ion_filename.split('.')[0]\n",
    "        self.element = self.ion_name.split('_')[0]\n",
    "        \n",
    "    def parse(self):\n",
    "        \"\"\"\n",
    "        Generate Astropy QTable from a CHIANTI ion file \n",
    "        \"\"\"\n",
    "        full_path = os.path.join(ch_dbase,self.element,self.ion_name,self.ion_filename)\n",
    "        if not os.path.isfile(full_path):\n",
    "            return None\n",
    "        with open(full_path,'r') as f:\n",
    "            lines = f.readlines()\n",
    "        table = []\n",
    "        for i,line in enumerate(lines):\n",
    "            line = list(filter(None,line.strip().split('  ')))\n",
    "            if line[0] == '-1':\n",
    "                comment = ''.join(lines[i+1:len(lines)])\n",
    "                break\n",
    "            else:\n",
    "                self.preprocessor(table,line,i)\n",
    "\n",
    "        df = astropy.table.QTable(data=list(map(list,zip(*table))), names=self.headings)\n",
    "        for name,unit,dtype in zip(self.headings,self.units,self.dtypes):\n",
    "            df[name].unit = unit\n",
    "            df[name] = df[name].astype(dtype)\n",
    "        \n",
    "        df.meta['footer'] = comment\n",
    "        df.meta['element'] = self.element\n",
    "        df.meta['ion'] = self.ion_name\n",
    "        \n",
    "        df = self.postprocessor(df)\n",
    "        \n",
    "        return df\n",
    "    \n",
    "    def preprocessor(self,table,line,index):\n",
    "        \"\"\"\n",
    "        Default preprocessor method run on each line ingested \n",
    "        \"\"\"\n",
    "        table.append(line)\n",
    "        \n",
    "    def postprocessor(self,df):\n",
    "        \"\"\"\n",
    "        Default postprocessor method run on the whole dataframe\n",
    "        \"\"\"\n",
    "        return df\n",
    "    \n",
    "    def to_hdf5(self,hf):\n",
    "        \"\"\"\n",
    "        Add datasets to a group for an HDF5 file handler\n",
    "        \"\"\"\n",
    "        pass\n",
    "        \n",
    "\n",
    "class Parser(GenericParser,metaclass=ParserFactory):\n",
    "    def __init__(self,ion_filename):\n",
    "        super().__init__(ion_filename)"
   ]
  },
  {
   "cell_type": "markdown",
   "metadata": {},
   "source": [
    "### Preprocessors\n",
    "Preprocessors are essentially middleware that know the details of the specific filetype we're parsing. This makes it so that there is one common interface to parsing all files and the middleware is selected based on the supplied extension. These are instantiated by the factory and should not be instantiated manually."
   ]
  },
  {
   "cell_type": "code",
   "execution_count": 120,
   "metadata": {
    "collapsed": true
   },
   "outputs": [],
   "source": [
    "class ElvlcParser(GenericParser):\n",
    "    dtypes = [int,str,int,str,float,float,float]\n",
    "    units = [None,None,None,None,u.dimensionless_unscaled,1/u.cm,1/u.cm]\n",
    "    headings = ['level index','configuration','multiplicity',\n",
    "                'orbital angular momentum','total angular momentum',\n",
    "                'observed energy','theoretical energy']\n",
    "\n",
    "    \n",
    "class FblvlParser(GenericParser):\n",
    "    dtypes = [int,str,int,int,str,int,float,float]\n",
    "    units = [None,None,None,None,None,None,1/u.cm,1/u.cm]\n",
    "    headings = ['level index','configuration','principal quantum number',\n",
    "                'azimuthal quantum number','orbital angular momentum',\n",
    "                'multiplicity','observed energy','theoretical energy']\n",
    "\n",
    "    \n",
    "class ScupsParser(GenericParser): \n",
    "    dtypes = [int,int,float,float,float,int,int,float,'object','object']\n",
    "    units = [None,None,u.Ry,u.dimensionless_unscaled,1/u.Ry,None,None,\n",
    "             u.dimensionless_unscaled,u.dimensionless_unscaled,\n",
    "             u.dimensionless_unscaled]\n",
    "    headings = ['lower level index','upper level index','delta energy','oscillator strength',\n",
    "                'high-temperature limit','number of scaled temperatures','Burgess-Tully scaling type',\n",
    "                'Burgess-Tully scaling parameter','Burgess-Tully scaled temperatures',\n",
    "                'Burgess-Tully scaled effective collision strengths']\n",
    "    \n",
    "    def preprocessor(self,table,line,index):\n",
    "        if index%3 == 0:\n",
    "            # main data\n",
    "            table.append(line)\n",
    "        else:\n",
    "            # scaled temperature or collision strengths\n",
    "            scaled = np.array(line,dtype=float)\n",
    "            table[-1].append(scaled)\n",
    "            \n",
    "class PsplupsParser(GenericParser):\n",
    "    dtypes = [int,int,int,float,float,float,float]\n",
    "    units = [None,None,None,u.dimensionless_unscaled,u.Ry,u.dimensionless_unscaled,\n",
    "             u.dimensionless_unscaled]\n",
    "    headings = ['lower level index','upper level index','Burgess-Tully scaling type',\n",
    "                'oscillator strength','delta energy','Burgess-Tully scaling parameter',\n",
    "                'Burgess-Tully scaled effective collision strengths']\n",
    "    \n",
    "    def preprocessor(self,table,line,index):\n",
    "        line = list(filter(None,('      '.join(line)).split()))\n",
    "        row = line[:5]\n",
    "        tmp = line[5]\n",
    "        i_split = [i for i,char in enumerate(tmp) if char=='-' and tmp[i-1]!='e'][0]\n",
    "        row += [tmp[:i_split]]\n",
    "        scups = [tmp[i_split+1:]] \n",
    "        tmp_scups = line[6:]\n",
    "        if len(tmp_scups[-1].split('-')) > 2:\n",
    "            tmp = tmp_scups[-1]\n",
    "            i_split = [i for i,char in enumerate(tmp) if char=='-' and tmp[i-1]!='e'][0]\n",
    "            tmp_scups = tmp_scups[:-1] + [tmp[:i_split],tmp[i_split+1:]]\n",
    "        scups = np.array(scups+tmp_scups,dtype=float)\n",
    "        row += [scups]\n",
    "        table.append(row)\n",
    "        \n",
    "            \n",
    "class EasplomParser(GenericParser):\n",
    "    dtypes = [int,int,int,float,float,float,float]\n",
    "    units = [None,None,None,u.dimensionless_unscaled,u.Ry,u.dimensionless_unscaled,\n",
    "             u.dimensionless_unscaled]\n",
    "    headings = ['lower level index','upper level index','Burgess-Tully scaling type',\n",
    "                'oscillator strength','delta energy','Burgess-Tully scaling parameter',\n",
    "                'Burgess-Tully scaled cross-section']\n",
    "    \n",
    "    def preprocessor(self,table,line,index):\n",
    "        line = list(filter(None,('      '.join(line)).split()))\n",
    "        scaled_cs = np.array(line[8:],dtype=float)\n",
    "        row = line[2:8] + [scaled_cs]\n",
    "        table.append(row)\n",
    "        \n",
    "        \n",
    "class EasplupsParser(EasplomParser):\n",
    "    dtypes = [int,int,int,float,float,float,float]\n",
    "    units = [None,None,None,u.dimensionless_unscaled,u.Ry,u.dimensionless_unscaled,\n",
    "             u.dimensionless_unscaled]\n",
    "    headings = ['lower level index','upper level index','Burgess-Tully scaling type',\n",
    "                'oscillator strength','delta energy','upsilon coefficient',\n",
    "                'excitation-autoionization rate coefficients']\n",
    "    \n",
    "    \n",
    "class WgfaParser(GenericParser):\n",
    "    dtypes = [np.int,np.int,np.float,np.float,np.float,\n",
    "              str,np.int,str,np.float,\n",
    "              str,np.int,str,np.float]\n",
    "    units = [None,None,u.angstrom,u.dimensionless_unscaled,1/u.s,None,None,None,None,\n",
    "             None,None,None,None]\n",
    "    headings = ['lower level index','upper level index',\n",
    "                'transition wavelength','oscillator strength','radiative decay rate',\n",
    "                'lower level configuration','lower level multiplicity',\n",
    "                'lower level orbital angular momentum',\n",
    "                'lower level total angular momentum',\n",
    "                'upper level configuration','upper level multiplicity',\n",
    "                'upper level orbital angular momentum',\n",
    "                'upper level total angular momentum']\n",
    "    \n",
    "    def preprocessor(self,table,line,index):\n",
    "        ### lower ###\n",
    "        tmp = line[-2].strip().split()\n",
    "        del tmp[-1] # delete rogue dash\n",
    "        tmp_pretty = tmp[-1]\n",
    "        config = ' '.join(tmp[:-1])\n",
    "        mult = tmp_pretty[0]\n",
    "        orb = tmp_pretty[1]\n",
    "        frac = tmp_pretty[2:]\n",
    "        if len(frac) == 1:\n",
    "            frac = frac[0]\n",
    "        else:\n",
    "            frac = float(frac.split('/')[0])/float(frac.split('/')[-1])\n",
    "        lower = [config,mult,orb,frac] \n",
    "        ### upper ###\n",
    "        tmp = line[-1].strip().split()\n",
    "        tmp_pretty = tmp[-1]\n",
    "        config = ' '.join(tmp[:-1])\n",
    "        mult = tmp_pretty[0]\n",
    "        orb = tmp_pretty[1]\n",
    "        frac = tmp_pretty[2:]\n",
    "        if len(frac) == 1:\n",
    "            frac = frac[0]\n",
    "        else:\n",
    "            frac = float(frac.split('/')[0])/float(frac.split('/')[-1])\n",
    "        upper = [config,mult,orb,frac] \n",
    "        ### recombine and assemble ###\n",
    "        table.append(line[:-2] + lower + upper)\n",
    "        \n",
    "        \n",
    "class CilvlParser(GenericParser):\n",
    "    dtypes = [int,int,float,float]\n",
    "    units = [None,None,u.K,(u.cm**3)/u.s]\n",
    "    headings = ['lower level index','upper level index','temperature',\n",
    "                'ionization rate coefficient']\n",
    "    \n",
    "    def preprocessor(self,table,line,index):\n",
    "        line = (' '.join(line)).split()\n",
    "        if index%2 == 0:\n",
    "            row = line[2:4]\n",
    "            temperature = 10.**np.array(line[4:],dtype=float)\n",
    "            row += [temperature]\n",
    "            table.append(row)\n",
    "        else:\n",
    "            rate_coefficient = np.array(line[4:],dtype=float)\n",
    "            table[-1].append(rate_coefficient)\n",
    "\n",
    "            \n",
    "class ReclvlParser(CilvlParser):\n",
    "    headings = ['lower level index','upper level index','temperature',\n",
    "                'recombination rate coefficient']\n",
    "    \n",
    "    \n",
    "class RrparamsParser(GenericParser):\n",
    "    \n",
    "    def preprocessor(self,table,line,index):\n",
    "        if index == 0:\n",
    "            filetype = int(line[0])\n",
    "            table.append([filetype])\n",
    "            if filetype == 1:\n",
    "                self.dtypes = [int,float,float,float,float]\n",
    "                self.units = [None,(u.cm**3)/u.s,None,u.K,u.K]\n",
    "                self.headings = ['fit type','A fit parameter','B fit parameter',\n",
    "                                 'T0 fit parameter','T1 fit parameter']\n",
    "            elif filetype == 2:\n",
    "                self.dtypes = [int,float,float,float,float,float,float]\n",
    "                self.units = [None,(u.cm**3)/u.s,None,u.K,u.K,None,u.K]\n",
    "                self.headings = ['fit type','A fit parameter','B fit parameter',\n",
    "                                 'T0 fit parameter','T1 fit parameter','C fit parameter',\n",
    "                                 'T2 fit parameter']\n",
    "            elif filetype == 3:\n",
    "                self.dtypes = [int,float,float]\n",
    "                self.units = [None,(u.cm**3)/u.s,None]\n",
    "                self.headings = ['fit type','A rad fit parameter','eta fit parameter']\n",
    "            else:\n",
    "                raise ValueError('Unrecognized .rrparams filetype {}'.format(filetype))\n",
    "        else:\n",
    "            if table[0][0] == 1 or table[0][0] == 2:\n",
    "                table[0] += (' '.join(line[3:])).split()\n",
    "            else:\n",
    "                table[0] += (' '.join(line[2:])).split()\n",
    "                \n",
    "                \n",
    "class TrparamsParser(GenericParser):\n",
    "    dtypes = [float,float]\n",
    "    units = [u.K,(u.cm**3)/u.s]\n",
    "    headings = ['temperature','total recombination rate']\n",
    "    \n",
    "    def preprocessor(self,table,line,index):\n",
    "        if index > 0:\n",
    "            super().preprocessor(table,line,index)\n",
    "            \n",
    "            \n",
    "class DrparamsParser(GenericParser):\n",
    "    \n",
    "    def preprocessor(self,table,line,index):\n",
    "        raise NotImplementedError('Parser for .drparams files not yet implemented.')\n",
    "        \n",
    "        \n",
    "class DiparamsParser(GenericParser):\n",
    "    \n",
    "    def preprocessor(self,table,line,index):\n",
    "        raise NotImplementedError('Parser for .diparams files not yet implemented.')"
   ]
  },
  {
   "cell_type": "markdown",
   "metadata": {},
   "source": [
    "## Trying it out\n",
    "Parse some example files for all of the filetypes using our parser factory approach."
   ]
  },
  {
   "cell_type": "markdown",
   "metadata": {},
   "source": [
    "`.trparams` Files"
   ]
  },
  {
   "cell_type": "code",
   "execution_count": 117,
   "metadata": {
    "collapsed": false,
    "scrolled": true
   },
   "outputs": [
    {
     "data": {
      "text/html": [
       "&lt;QTable length=62&gt;\n",
       "<table id=\"table4589152072\" class=\"table-striped table-bordered table-condensed\">\n",
       "<thead><tr><th>temperature</th><th>total recombination rate</th></tr></thead>\n",
       "<thead><tr><th>K</th><th>cm3 / s</th></tr></thead>\n",
       "<thead><tr><th>float64</th><th>float64</th></tr></thead>\n",
       "<tr><td>10.0</td><td>3.48e-11</td></tr>\n",
       "<tr><td>12.59</td><td>3.14e-11</td></tr>\n",
       "<tr><td>15.85</td><td>2.84e-11</td></tr>\n",
       "<tr><td>19.95</td><td>2.58e-11</td></tr>\n",
       "<tr><td>25.12</td><td>2.33e-11</td></tr>\n",
       "<tr><td>31.62</td><td>2.09e-11</td></tr>\n",
       "<tr><td>39.81</td><td>1.87e-11</td></tr>\n",
       "<tr><td>50.12</td><td>1.67e-11</td></tr>\n",
       "<tr><td>63.1</td><td>1.48e-11</td></tr>\n",
       "<tr><td>...</td><td>...</td></tr>\n",
       "<tr><td>1585000.0</td><td>2.03e-13</td></tr>\n",
       "<tr><td>1995000.0</td><td>1.45e-13</td></tr>\n",
       "<tr><td>2512000.0</td><td>1.04e-13</td></tr>\n",
       "<tr><td>3162000.0</td><td>7.38e-14</td></tr>\n",
       "<tr><td>3981000.0</td><td>5.26e-14</td></tr>\n",
       "<tr><td>5012000.0</td><td>3.74e-14</td></tr>\n",
       "<tr><td>6310000.0</td><td>2.66e-14</td></tr>\n",
       "<tr><td>7943000.0</td><td>1.9e-14</td></tr>\n",
       "<tr><td>10000000.0</td><td>1.35e-14</td></tr>\n",
       "<tr><td>1000000000.0</td><td>1.35e-17</td></tr>\n",
       "</table>"
      ],
      "text/plain": [
       "<QTable length=62>\n",
       "temperature  total recombination rate\n",
       "     K               cm3 / s         \n",
       "  float64            float64         \n",
       "------------ ------------------------\n",
       "        10.0                 3.48e-11\n",
       "       12.59                 3.14e-11\n",
       "       15.85                 2.84e-11\n",
       "       19.95                 2.58e-11\n",
       "       25.12                 2.33e-11\n",
       "       31.62                 2.09e-11\n",
       "       39.81                 1.87e-11\n",
       "       50.12                 1.67e-11\n",
       "        63.1                 1.48e-11\n",
       "         ...                      ...\n",
       "   1585000.0                 2.03e-13\n",
       "   1995000.0                 1.45e-13\n",
       "   2512000.0                 1.04e-13\n",
       "   3162000.0                 7.38e-14\n",
       "   3981000.0                 5.26e-14\n",
       "   5012000.0                 3.74e-14\n",
       "   6310000.0                 2.66e-14\n",
       "   7943000.0                  1.9e-14\n",
       "  10000000.0                 1.35e-14\n",
       "1000000000.0                 1.35e-17"
      ]
     },
     "execution_count": 117,
     "metadata": {},
     "output_type": "execute_result"
    }
   ],
   "source": [
    "Parser('fe_2.trparams').parse()"
   ]
  },
  {
   "cell_type": "markdown",
   "metadata": {},
   "source": [
    "`.rrparams` Files"
   ]
  },
  {
   "cell_type": "code",
   "execution_count": 103,
   "metadata": {
    "collapsed": false
   },
   "outputs": [
    {
     "data": {
      "text/html": [
       "&lt;QTable length=1&gt;\n",
       "<table id=\"table4587191656\" class=\"table-striped table-bordered table-condensed\">\n",
       "<thead><tr><th>fit type</th><th>A fit parameter</th><th>B fit parameter</th><th>T0 fit parameter</th><th>T1 fit parameter</th><th>C fit parameter</th><th>T2 fit parameter</th></tr></thead>\n",
       "<thead><tr><th></th><th>cm3 / s</th><th></th><th>K</th><th>K</th><th></th><th>K</th></tr></thead>\n",
       "<thead><tr><th>int64</th><th>float64</th><th>float64</th><th>float64</th><th>float64</th><th>float64</th><th>float64</th></tr></thead>\n",
       "<tr><td>2</td><td>1.035e-09</td><td>0.6535</td><td>0.04623</td><td>1564000000.0</td><td>0.1261</td><td>153300.0</td></tr>\n",
       "</table>"
      ],
      "text/plain": [
       "<QTable length=1>\n",
       "fit type A fit parameter B fit parameter ... C fit parameter T2 fit parameter\n",
       "             cm3 / s                     ...                        K        \n",
       " int64       float64         float64     ...     float64         float64     \n",
       "-------- --------------- --------------- ... --------------- ----------------\n",
       "       2       1.035e-09          0.6535 ...          0.1261         153300.0"
      ]
     },
     "execution_count": 103,
     "metadata": {},
     "output_type": "execute_result"
    }
   ],
   "source": [
    "Parser('al_2.rrparams').parse()"
   ]
  },
  {
   "cell_type": "code",
   "execution_count": 104,
   "metadata": {
    "collapsed": false
   },
   "outputs": [
    {
     "data": {
      "text/html": [
       "&lt;QTable length=1&gt;\n",
       "<table id=\"table4591747984\" class=\"table-striped table-bordered table-condensed\">\n",
       "<thead><tr><th>fit type</th><th>A fit parameter</th><th>B fit parameter</th><th>T0 fit parameter</th><th>T1 fit parameter</th></tr></thead>\n",
       "<thead><tr><th></th><th>cm3 / s</th><th></th><th>K</th><th>K</th></tr></thead>\n",
       "<thead><tr><th>int64</th><th>float64</th><th>float64</th><th>float64</th><th>float64</th></tr></thead>\n",
       "<tr><td>1</td><td>2.812e-10</td><td>0.5686</td><td>10630.0</td><td>87790000.0</td></tr>\n",
       "</table>"
      ],
      "text/plain": [
       "<QTable length=1>\n",
       "fit type A fit parameter B fit parameter T0 fit parameter T1 fit parameter\n",
       "             cm3 / s                            K                K        \n",
       " int64       float64         float64         float64          float64     \n",
       "-------- --------------- --------------- ---------------- ----------------\n",
       "       1       2.812e-10          0.5686          10630.0       87790000.0"
      ]
     },
     "execution_count": 104,
     "metadata": {},
     "output_type": "execute_result"
    }
   ],
   "source": [
    "Parser('ar_17.rrparams').parse()"
   ]
  },
  {
   "cell_type": "code",
   "execution_count": 105,
   "metadata": {
    "collapsed": false
   },
   "outputs": [
    {
     "data": {
      "text/html": [
       "&lt;QTable length=1&gt;\n",
       "<table id=\"table4591847576\" class=\"table-striped table-bordered table-condensed\">\n",
       "<thead><tr><th>fit type</th><th>A rad fit parameter</th><th>eta fit parameter</th></tr></thead>\n",
       "<thead><tr><th></th><th>cm3 / s</th><th></th></tr></thead>\n",
       "<thead><tr><th>int64</th><th>float64</th><th>float64</th></tr></thead>\n",
       "<tr><td>3</td><td>1e-12</td><td>0.7</td></tr>\n",
       "</table>"
      ],
      "text/plain": [
       "<QTable length=1>\n",
       "fit type A rad fit parameter eta fit parameter\n",
       "               cm3 / s                        \n",
       " int64         float64            float64     \n",
       "-------- ------------------- -----------------\n",
       "       3               1e-12               0.7"
      ]
     },
     "execution_count": 105,
     "metadata": {},
     "output_type": "execute_result"
    }
   ],
   "source": [
    "Parser('co_2.rrparams').parse()"
   ]
  },
  {
   "cell_type": "markdown",
   "metadata": {},
   "source": [
    "`.cilvl` and `.reclvl` Files"
   ]
  },
  {
   "cell_type": "code",
   "execution_count": 47,
   "metadata": {
    "collapsed": false,
    "scrolled": true
   },
   "outputs": [
    {
     "data": {
      "text/html": [
       "&lt;QTable length=36&gt;\n",
       "<table id=\"table4548285608\" class=\"table-striped table-bordered table-condensed\">\n",
       "<thead><tr><th>lower level index</th><th>upper level index</th><th>temperature [9]</th><th>ionization rate coefficient [9]</th></tr></thead>\n",
       "<thead><tr><th></th><th></th><th>K</th><th>cm3 / s</th></tr></thead>\n",
       "<thead><tr><th>int64</th><th>int64</th><th>float64</th><th>float64</th></tr></thead>\n",
       "<tr><td>1</td><td>2</td><td>1122018.4543019629 .. 17782794.100389227</td><td>1.05e-16 .. 4.18e-11</td></tr>\n",
       "<tr><td>1</td><td>3</td><td>1122018.4543019629 .. 17782794.100389227</td><td>6.13e-17 .. 2.5e-11</td></tr>\n",
       "<tr><td>1</td><td>4</td><td>1122018.4543019629 .. 17782794.100389227</td><td>1.88e-17 .. 8.55e-12</td></tr>\n",
       "<tr><td>1</td><td>5</td><td>1122018.4543019629 .. 17782794.100389227</td><td>5.27e-17 .. 2.44e-11</td></tr>\n",
       "<tr><td>1</td><td>6</td><td>1122018.4543019629 .. 17782794.100389227</td><td>1.11e-18 .. 5.95e-13</td></tr>\n",
       "<tr><td>1</td><td>7</td><td>1122018.4543019629 .. 17782794.100389227</td><td>6.57e-25 .. 1.53e-19</td></tr>\n",
       "<tr><td>1</td><td>8</td><td>1122018.4543019629 .. 17782794.100389227</td><td>7.06e-25 .. 1.69e-19</td></tr>\n",
       "<tr><td>1</td><td>9</td><td>1122018.4543019629 .. 17782794.100389227</td><td>6.95e-19 .. 4e-13</td></tr>\n",
       "<tr><td>1</td><td>10</td><td>1122018.4543019629 .. 17782794.100389227</td><td>4.94e-25 .. 1.22e-19</td></tr>\n",
       "<tr><td>...</td><td>...</td><td>...</td><td>...</td></tr>\n",
       "<tr><td>1</td><td>28</td><td>1122018.4543019629 .. 17782794.100389227</td><td>1.13e-17 .. 1.75e-11</td></tr>\n",
       "<tr><td>1</td><td>29</td><td>1122018.4543019629 .. 17782794.100389227</td><td>3.5e-18 .. 5.81e-12</td></tr>\n",
       "<tr><td>1</td><td>30</td><td>1122018.4543019629 .. 17782794.100389227</td><td>8.43e-21 .. 1.9e-14</td></tr>\n",
       "<tr><td>1</td><td>31</td><td>1122018.4543019629 .. 17782794.100389227</td><td>1.14e-20 .. 2.62e-14</td></tr>\n",
       "<tr><td>1</td><td>32</td><td>1122018.4543019629 .. 17782794.100389227</td><td>2.34e-20 .. 5.52e-14</td></tr>\n",
       "<tr><td>1</td><td>33</td><td>1122018.4543019629 .. 17782794.100389227</td><td>4.67e-21 .. 1.12e-14</td></tr>\n",
       "<tr><td>1</td><td>34</td><td>1122018.4543019629 .. 17782794.100389227</td><td>7.75e-28 .. 1.39e-21</td></tr>\n",
       "<tr><td>1</td><td>35</td><td>1122018.4543019629 .. 17782794.100389227</td><td>1.34e-27 .. 2.45e-21</td></tr>\n",
       "<tr><td>1</td><td>36</td><td>1122018.4543019629 .. 17782794.100389227</td><td>1.99e-27 .. 3.74e-21</td></tr>\n",
       "<tr><td>1</td><td>37</td><td>1122018.4543019629 .. 17782794.100389227</td><td>1.3e-27 .. 2.53e-21</td></tr>\n",
       "</table>"
      ],
      "text/plain": [
       "<QTable length=36>\n",
       "lower level index upper level index ... ionization rate coefficient [9]\n",
       "                                    ...             cm3 / s            \n",
       "      int64             int64       ...             float64            \n",
       "----------------- ----------------- ... -------------------------------\n",
       "                1                 2 ...            1.05e-16 .. 4.18e-11\n",
       "                1                 3 ...             6.13e-17 .. 2.5e-11\n",
       "                1                 4 ...            1.88e-17 .. 8.55e-12\n",
       "                1                 5 ...            5.27e-17 .. 2.44e-11\n",
       "                1                 6 ...            1.11e-18 .. 5.95e-13\n",
       "                1                 7 ...            6.57e-25 .. 1.53e-19\n",
       "                1                 8 ...            7.06e-25 .. 1.69e-19\n",
       "                1                 9 ...               6.95e-19 .. 4e-13\n",
       "                1                10 ...            4.94e-25 .. 1.22e-19\n",
       "              ...               ... ...                             ...\n",
       "                1                28 ...            1.13e-17 .. 1.75e-11\n",
       "                1                29 ...             3.5e-18 .. 5.81e-12\n",
       "                1                30 ...             8.43e-21 .. 1.9e-14\n",
       "                1                31 ...            1.14e-20 .. 2.62e-14\n",
       "                1                32 ...            2.34e-20 .. 5.52e-14\n",
       "                1                33 ...            4.67e-21 .. 1.12e-14\n",
       "                1                34 ...            7.75e-28 .. 1.39e-21\n",
       "                1                35 ...            1.34e-27 .. 2.45e-21\n",
       "                1                36 ...            1.99e-27 .. 3.74e-21\n",
       "                1                37 ...             1.3e-27 .. 2.53e-21"
      ]
     },
     "execution_count": 47,
     "metadata": {},
     "output_type": "execute_result"
    }
   ],
   "source": [
    "Parser('fe_17.cilvl').parse()"
   ]
  },
  {
   "cell_type": "code",
   "execution_count": 54,
   "metadata": {
    "collapsed": false,
    "scrolled": true
   },
   "outputs": [
    {
     "data": {
      "text/html": [
       "&lt;QTable length=63&gt;\n",
       "<table id=\"table4610183576\" class=\"table-striped table-bordered table-condensed\">\n",
       "<thead><tr><th>lower level index</th><th>upper level index</th><th>temperature [19]</th><th>recombination rate coefficient [19]</th></tr></thead>\n",
       "<thead><tr><th></th><th></th><th>K</th><th>cm3 / s</th></tr></thead>\n",
       "<thead><tr><th>int64</th><th>int64</th><th>float64</th><th>float64</th></tr></thead>\n",
       "<tr><td>1</td><td>1</td><td>1210.598133550483 .. 1210598133.550483</td><td>8.81e-12 .. 7.18e-16</td></tr>\n",
       "<tr><td>1</td><td>2</td><td>1210.598133550483 .. 1210598133.550483</td><td>8.42e-12 .. 7.77e-17</td></tr>\n",
       "<tr><td>1</td><td>3</td><td>1210.598133550483 .. 1210598133.550483</td><td>1.68e-11 .. 1.55e-16</td></tr>\n",
       "<tr><td>1</td><td>4</td><td>1210.598133550483 .. 1210598133.550483</td><td>2.75e-12 .. 2.09e-16</td></tr>\n",
       "<tr><td>1</td><td>5</td><td>1210.598133550483 .. 1210598133.550483</td><td>3.1e-12 .. 2.79e-17</td></tr>\n",
       "<tr><td>1</td><td>6</td><td>1210.598133550483 .. 1210598133.550483</td><td>6.17e-12 .. 5.58e-17</td></tr>\n",
       "<tr><td>1</td><td>7</td><td>1210.598133550483 .. 1210598133.550483</td><td>4.09e-12 .. 8.82e-18</td></tr>\n",
       "<tr><td>1</td><td>8</td><td>1210.598133550483 .. 1210598133.550483</td><td>6.12e-12 .. 1.32e-17</td></tr>\n",
       "<tr><td>1</td><td>9</td><td>1210.598133550483 .. 1210598133.550483</td><td>1.24e-12 .. 8.75e-17</td></tr>\n",
       "<tr><td>...</td><td>...</td><td>...</td><td>...</td></tr>\n",
       "<tr><td>1</td><td>56</td><td>1210.598133550483 .. 1210598133.550483</td><td>8.34e-13 .. 3.48e-19</td></tr>\n",
       "<tr><td>1</td><td>59</td><td>1210.598133550483 .. 1210598133.550483</td><td>1.04e-12 .. 4.35e-19</td></tr>\n",
       "<tr><td>1</td><td>57</td><td>1210.598133550483 .. 1210598133.550483</td><td>7.25e-13 .. 5.91e-19</td></tr>\n",
       "<tr><td>1</td><td>60</td><td>1210.598133550483 .. 1210598133.550483</td><td>7.27e-13 .. 1.74e-19</td></tr>\n",
       "<tr><td>1</td><td>58</td><td>1210.598133550483 .. 1210598133.550483</td><td>8.73e-13 .. 2.09e-19</td></tr>\n",
       "<tr><td>1</td><td>62</td><td>1210.598133550483 .. 1210598133.550483</td><td>9.67e-13 .. 7.88e-19</td></tr>\n",
       "<tr><td>1</td><td>61</td><td>1210.598133550483 .. 1210598133.550483</td><td>4.32e-13 .. 6.47e-20</td></tr>\n",
       "<tr><td>1</td><td>63</td><td>1210.598133550483 .. 1210598133.550483</td><td>5.04e-13 .. 7.54e-20</td></tr>\n",
       "<tr><td>1</td><td>54</td><td>1210.598133550483 .. 1210598133.550483</td><td>1.32e-13 .. 1.32e-20</td></tr>\n",
       "<tr><td>1</td><td>55</td><td>1210.598133550483 .. 1210598133.550483</td><td>1.51e-13 .. 1.51e-20</td></tr>\n",
       "</table>"
      ],
      "text/plain": [
       "<QTable length=63>\n",
       "lower level index upper level index ... recombination rate coefficient [19]\n",
       "                                    ...               cm3 / s              \n",
       "      int64             int64       ...               float64              \n",
       "----------------- ----------------- ... -----------------------------------\n",
       "                1                 1 ...                8.81e-12 .. 7.18e-16\n",
       "                1                 2 ...                8.42e-12 .. 7.77e-17\n",
       "                1                 3 ...                1.68e-11 .. 1.55e-16\n",
       "                1                 4 ...                2.75e-12 .. 2.09e-16\n",
       "                1                 5 ...                 3.1e-12 .. 2.79e-17\n",
       "                1                 6 ...                6.17e-12 .. 5.58e-17\n",
       "                1                 7 ...                4.09e-12 .. 8.82e-18\n",
       "                1                 8 ...                6.12e-12 .. 1.32e-17\n",
       "                1                 9 ...                1.24e-12 .. 8.75e-17\n",
       "              ...               ... ...                                 ...\n",
       "                1                56 ...                8.34e-13 .. 3.48e-19\n",
       "                1                59 ...                1.04e-12 .. 4.35e-19\n",
       "                1                57 ...                7.25e-13 .. 5.91e-19\n",
       "                1                60 ...                7.27e-13 .. 1.74e-19\n",
       "                1                58 ...                8.73e-13 .. 2.09e-19\n",
       "                1                62 ...                9.67e-13 .. 7.88e-19\n",
       "                1                61 ...                4.32e-13 .. 6.47e-20\n",
       "                1                63 ...                5.04e-13 .. 7.54e-20\n",
       "                1                54 ...                1.32e-13 .. 1.32e-20\n",
       "                1                55 ...                1.51e-13 .. 1.51e-20"
      ]
     },
     "execution_count": 54,
     "metadata": {},
     "output_type": "execute_result"
    }
   ],
   "source": [
    "Parser('al_11.reclvl').parse()"
   ]
  },
  {
   "cell_type": "markdown",
   "metadata": {},
   "source": [
    " `.scups` Files"
   ]
  },
  {
   "cell_type": "code",
   "execution_count": 121,
   "metadata": {
    "collapsed": false
   },
   "outputs": [
    {
     "data": {
      "text/html": [
       "&lt;QTable length=4560&gt;\n",
       "<table id=\"table4610210056\" class=\"table-striped table-bordered table-condensed\">\n",
       "<thead><tr><th>lower level index</th><th>upper level index</th><th>delta energy</th><th>oscillator strength</th><th>high-temperature limit</th><th>number of scaled temperatures</th><th>Burgess-Tully scaling type</th><th>Burgess-Tully scaling parameter</th><th>Burgess-Tully scaled temperatures [15]</th><th>Burgess-Tully scaled effective collision strengths [15]</th></tr></thead>\n",
       "<thead><tr><th></th><th></th><th>Ry</th><th></th><th>1 / Ry</th><th></th><th></th><th></th><th></th><th></th></tr></thead>\n",
       "<thead><tr><th>int64</th><th>int64</th><th>float64</th><th>float64</th><th>float64</th><th>int64</th><th>int64</th><th>float64</th><th>object</th><th>object</th></tr></thead>\n",
       "<tr><td>1</td><td>2</td><td>0.004657</td><td>-1.0</td><td>1e-06</td><td>15</td><td>2</td><td>274.5</td><td>0.0 .. 1.0</td><td>2.08 .. 1e-06</td></tr>\n",
       "<tr><td>1</td><td>3</td><td>0.01083</td><td>-1.0</td><td>1e-06</td><td>15</td><td>2</td><td>118.1</td><td>0.0 .. 1.0</td><td>0.9837 .. 1e-06</td></tr>\n",
       "<tr><td>1</td><td>4</td><td>0.01823</td><td>-1.0</td><td>1e-06</td><td>15</td><td>2</td><td>70.13</td><td>0.0 .. 1.0</td><td>0.969 .. 1e-06</td></tr>\n",
       "<tr><td>1</td><td>5</td><td>0.1708</td><td>-1.0</td><td>1e-06</td><td>15</td><td>2</td><td>7.485</td><td>0.0 .. 1.0</td><td>0.321 .. 1e-06</td></tr>\n",
       "<tr><td>1</td><td>6</td><td>0.1726</td><td>-1.0</td><td>1e-06</td><td>15</td><td>2</td><td>7.407</td><td>0.0 .. 1.0</td><td>0.39 .. 1e-06</td></tr>\n",
       "<tr><td>1</td><td>7</td><td>0.1787</td><td>-1.0</td><td>1e-06</td><td>15</td><td>2</td><td>7.155</td><td>0.0 .. 1.0</td><td>0.3522 .. 1e-06</td></tr>\n",
       "<tr><td>1</td><td>8</td><td>0.1879</td><td>-1.0</td><td>1e-06</td><td>15</td><td>2</td><td>6.804</td><td>0.0 .. 1.0</td><td>0.8292 .. 1e-06</td></tr>\n",
       "<tr><td>1</td><td>9</td><td>0.1942</td><td>-1.0</td><td>1e-06</td><td>15</td><td>2</td><td>6.583</td><td>0.0 .. 1.0</td><td>0.3891 .. 1e-06</td></tr>\n",
       "<tr><td>1</td><td>10</td><td>0.2389</td><td>-1.0</td><td>1e-06</td><td>15</td><td>2</td><td>5.352</td><td>0.0 .. 1.0</td><td>0.2386 .. 1e-06</td></tr>\n",
       "<tr><td>...</td><td>...</td><td>...</td><td>...</td><td>...</td><td>...</td><td>...</td><td>...</td><td>...</td><td>...</td></tr>\n",
       "<tr><td>92</td><td>93</td><td>0.002442</td><td>-1.0</td><td>1e-06</td><td>15</td><td>2</td><td>523.6</td><td>0.0 .. 1.0</td><td>0.4637 .. 1e-06</td></tr>\n",
       "<tr><td>92</td><td>94</td><td>0.01836</td><td>-1.0</td><td>1e-06</td><td>15</td><td>2</td><td>69.64</td><td>0.0 .. 1.0</td><td>0.02535 .. 1e-06</td></tr>\n",
       "<tr><td>92</td><td>95</td><td>0.02796</td><td>-1.0</td><td>1e-06</td><td>15</td><td>2</td><td>45.73</td><td>0.0 .. 1.0</td><td>0.1604 .. 1e-06</td></tr>\n",
       "<tr><td>92</td><td>96</td><td>0.03825</td><td>-1.0</td><td>1e-06</td><td>15</td><td>2</td><td>33.43</td><td>0.0 .. 1.0</td><td>0.03947 .. 1e-06</td></tr>\n",
       "<tr><td>93</td><td>94</td><td>0.01592</td><td>-1.0</td><td>1e-06</td><td>15</td><td>2</td><td>80.31</td><td>0.0 .. 1.0</td><td>0.03407 .. 1e-06</td></tr>\n",
       "<tr><td>93</td><td>95</td><td>0.02552</td><td>-1.0</td><td>1e-06</td><td>15</td><td>2</td><td>50.1</td><td>0.0 .. 1.0</td><td>0.09462 .. 1e-06</td></tr>\n",
       "<tr><td>93</td><td>96</td><td>0.03581</td><td>-1.0</td><td>1e-06</td><td>15</td><td>2</td><td>35.7</td><td>0.0 .. 1.0</td><td>0.02529 .. 1e-06</td></tr>\n",
       "<tr><td>94</td><td>95</td><td>0.009596</td><td>-1.0</td><td>1e-06</td><td>15</td><td>2</td><td>133.2</td><td>0.0 .. 1.0</td><td>0.01124 .. 1e-06</td></tr>\n",
       "<tr><td>94</td><td>96</td><td>0.01989</td><td>-1.0</td><td>1e-06</td><td>15</td><td>2</td><td>64.28</td><td>0.0 .. 1.0</td><td>7.166 .. 1e-06</td></tr>\n",
       "<tr><td>95</td><td>96</td><td>0.0103</td><td>-1.0</td><td>1e-06</td><td>15</td><td>2</td><td>124.1</td><td>0.0 .. 1.0</td><td>0.01742 .. 1e-06</td></tr>\n",
       "</table>"
      ],
      "text/plain": [
       "<QTable length=4560>\n",
       "lower level index ... Burgess-Tully scaled effective collision strengths [15]\n",
       "                  ...                                                        \n",
       "      int64       ...                          object                        \n",
       "----------------- ... -------------------------------------------------------\n",
       "                1 ...                                           2.08 .. 1e-06\n",
       "                1 ...                                         0.9837 .. 1e-06\n",
       "                1 ...                                          0.969 .. 1e-06\n",
       "                1 ...                                          0.321 .. 1e-06\n",
       "                1 ...                                           0.39 .. 1e-06\n",
       "                1 ...                                         0.3522 .. 1e-06\n",
       "                1 ...                                         0.8292 .. 1e-06\n",
       "                1 ...                                         0.3891 .. 1e-06\n",
       "                1 ...                                         0.2386 .. 1e-06\n",
       "              ... ...                                                     ...\n",
       "               92 ...                                         0.4637 .. 1e-06\n",
       "               92 ...                                        0.02535 .. 1e-06\n",
       "               92 ...                                         0.1604 .. 1e-06\n",
       "               92 ...                                        0.03947 .. 1e-06\n",
       "               93 ...                                        0.03407 .. 1e-06\n",
       "               93 ...                                        0.09462 .. 1e-06\n",
       "               93 ...                                        0.02529 .. 1e-06\n",
       "               94 ...                                        0.01124 .. 1e-06\n",
       "               94 ...                                          7.166 .. 1e-06\n",
       "               95 ...                                        0.01742 .. 1e-06"
      ]
     },
     "execution_count": 121,
     "metadata": {},
     "output_type": "execute_result"
    }
   ],
   "source": [
    "Parser('fe_6.scups').parse()"
   ]
  },
  {
   "cell_type": "markdown",
   "metadata": {},
   "source": [
    " `.psplups` Files"
   ]
  },
  {
   "cell_type": "code",
   "execution_count": 122,
   "metadata": {
    "collapsed": false
   },
   "outputs": [
    {
     "data": {
      "text/html": [
       "&lt;QTable length=3&gt;\n",
       "<table id=\"table4549352136\" class=\"table-striped table-bordered table-condensed\">\n",
       "<thead><tr><th>lower level index</th><th>upper level index</th><th>Burgess-Tully scaling type</th><th>oscillator strength</th><th>delta energy</th><th>Burgess-Tully scaling parameter</th><th>Burgess-Tully scaled effective collision strengths [9]</th></tr></thead>\n",
       "<thead><tr><th></th><th></th><th></th><th></th><th>Ry</th><th></th><th></th></tr></thead>\n",
       "<thead><tr><th>int64</th><th>int64</th><th>int64</th><th>float64</th><th>float64</th><th>float64</th><th>float64</th></tr></thead>\n",
       "<tr><td>2</td><td>3</td><td>2</td><td>0.0</td><td>0.1021</td><td>432.0</td><td>3.16e-14 .. 2.418e-13</td></tr>\n",
       "<tr><td>2</td><td>4</td><td>2</td><td>0.0</td><td>0.352</td><td>214.5</td><td>2.704e-12 .. 5.749e-11</td></tr>\n",
       "<tr><td>3</td><td>4</td><td>2</td><td>0.0</td><td>0.2499</td><td>291.5</td><td>6.37e-12 .. 4.349e-11</td></tr>\n",
       "</table>"
      ],
      "text/plain": [
       "<QTable length=3>\n",
       "lower level index ... Burgess-Tully scaled effective collision strengths [9]\n",
       "                  ...                                                       \n",
       "      int64       ...                        float64                        \n",
       "----------------- ... ------------------------------------------------------\n",
       "                2 ...                                  3.16e-14 .. 2.418e-13\n",
       "                2 ...                                 2.704e-12 .. 5.749e-11\n",
       "                3 ...                                  6.37e-12 .. 4.349e-11"
      ]
     },
     "execution_count": 122,
     "metadata": {},
     "output_type": "execute_result"
    }
   ],
   "source": [
    "Parser('ca_17.psplups').parse()"
   ]
  },
  {
   "cell_type": "markdown",
   "metadata": {},
   "source": [
    "`.elvlc` Files"
   ]
  },
  {
   "cell_type": "code",
   "execution_count": 123,
   "metadata": {
    "collapsed": false
   },
   "outputs": [
    {
     "data": {
      "text/html": [
       "&lt;QTable length=25&gt;\n",
       "<table id=\"table4596675920\" class=\"table-striped table-bordered table-condensed\">\n",
       "<thead><tr><th>level index</th><th>configuration</th><th>multiplicity</th><th>orbital angular momentum</th><th>total angular momentum</th><th>observed energy</th><th>theoretical energy</th></tr></thead>\n",
       "<thead><tr><th></th><th></th><th></th><th></th><th></th><th>1 / cm</th><th>1 / cm</th></tr></thead>\n",
       "<thead><tr><th>int64</th><th>str3</th><th>int64</th><th>str1</th><th>float64</th><th>float64</th><th>float64</th></tr></thead>\n",
       "<tr><td>1</td><td>1s</td><td>2</td><td>S</td><td>0.5</td><td>0.0</td><td>0.0</td></tr>\n",
       "<tr><td>2</td><td>2s</td><td>2</td><td>S</td><td>0.5</td><td>82258.956</td><td>82303.0</td></tr>\n",
       "<tr><td>3</td><td>2p</td><td>2</td><td>P</td><td>0.5</td><td>82258.921</td><td>82303.0</td></tr>\n",
       "<tr><td>4</td><td>2p</td><td>2</td><td>P</td><td>1.5</td><td>82259.287</td><td>82303.0</td></tr>\n",
       "<tr><td>5</td><td>3s</td><td>2</td><td>S</td><td>0.5</td><td>97492.224</td><td>97544.0</td></tr>\n",
       "<tr><td>6</td><td>3p</td><td>2</td><td>P</td><td>0.5</td><td>97492.213</td><td>97544.0</td></tr>\n",
       "<tr><td>7</td><td>3p</td><td>2</td><td>P</td><td>1.5</td><td>97492.321</td><td>97544.0</td></tr>\n",
       "<tr><td>8</td><td>3d</td><td>2</td><td>D</td><td>1.5</td><td>97492.321</td><td>97544.0</td></tr>\n",
       "<tr><td>9</td><td>3d</td><td>2</td><td>D</td><td>2.5</td><td>97492.357</td><td>97544.0</td></tr>\n",
       "<tr><td>...</td><td>...</td><td>...</td><td>...</td><td>...</td><td>...</td><td>...</td></tr>\n",
       "<tr><td>16</td><td>4f</td><td>2</td><td>F</td><td>3.5</td><td>102823.919</td><td>102879.0</td></tr>\n",
       "<tr><td>17</td><td>5s</td><td>2</td><td>S</td><td>0.5</td><td>105291.633</td><td>105348.0</td></tr>\n",
       "<tr><td>18</td><td>5p</td><td>2</td><td>P</td><td>0.5</td><td>105291.631</td><td>105348.0</td></tr>\n",
       "<tr><td>19</td><td>5p</td><td>2</td><td>P</td><td>1.5</td><td>105291.654</td><td>105348.0</td></tr>\n",
       "<tr><td>20</td><td>5d</td><td>2</td><td>D</td><td>1.5</td><td>105291.654</td><td>105348.0</td></tr>\n",
       "<tr><td>21</td><td>5d</td><td>2</td><td>D</td><td>2.5</td><td>105291.662</td><td>105348.0</td></tr>\n",
       "<tr><td>22</td><td>5f</td><td>2</td><td>F</td><td>2.5</td><td>105291.662</td><td>105348.0</td></tr>\n",
       "<tr><td>23</td><td>5f</td><td>2</td><td>F</td><td>3.5</td><td>105291.666</td><td>105348.0</td></tr>\n",
       "<tr><td>24</td><td>5g</td><td>2</td><td>G</td><td>3.5</td><td>105291.666</td><td>105348.0</td></tr>\n",
       "<tr><td>25</td><td>5g</td><td>2</td><td>G</td><td>4.5</td><td>105291.668</td><td>105348.0</td></tr>\n",
       "</table>"
      ],
      "text/plain": [
       "<QTable length=25>\n",
       "level index configuration multiplicity ... observed energy theoretical energy\n",
       "                                       ...      1 / cm           1 / cm      \n",
       "   int64         str3        int64     ...     float64          float64      \n",
       "----------- ------------- ------------ ... --------------- ------------------\n",
       "          1            1s            2 ...             0.0                0.0\n",
       "          2            2s            2 ...       82258.956            82303.0\n",
       "          3            2p            2 ...       82258.921            82303.0\n",
       "          4            2p            2 ...       82259.287            82303.0\n",
       "          5            3s            2 ...       97492.224            97544.0\n",
       "          6            3p            2 ...       97492.213            97544.0\n",
       "          7            3p            2 ...       97492.321            97544.0\n",
       "          8            3d            2 ...       97492.321            97544.0\n",
       "          9            3d            2 ...       97492.357            97544.0\n",
       "        ...           ...          ... ...             ...                ...\n",
       "         16            4f            2 ...      102823.919           102879.0\n",
       "         17            5s            2 ...      105291.633           105348.0\n",
       "         18            5p            2 ...      105291.631           105348.0\n",
       "         19            5p            2 ...      105291.654           105348.0\n",
       "         20            5d            2 ...      105291.654           105348.0\n",
       "         21            5d            2 ...      105291.662           105348.0\n",
       "         22            5f            2 ...      105291.662           105348.0\n",
       "         23            5f            2 ...      105291.666           105348.0\n",
       "         24            5g            2 ...      105291.666           105348.0\n",
       "         25            5g            2 ...      105291.668           105348.0"
      ]
     },
     "execution_count": 123,
     "metadata": {},
     "output_type": "execute_result"
    }
   ],
   "source": [
    "Parser('h_1.elvlc').parse()"
   ]
  },
  {
   "cell_type": "markdown",
   "metadata": {},
   "source": [
    " `.easplom` Files"
   ]
  },
  {
   "cell_type": "code",
   "execution_count": 124,
   "metadata": {
    "collapsed": false
   },
   "outputs": [
    {
     "data": {
      "text/html": [
       "&lt;QTable length=9&gt;\n",
       "<table id=\"table4596676536\" class=\"table-striped table-bordered table-condensed\">\n",
       "<thead><tr><th>lower level index</th><th>upper level index</th><th>Burgess-Tully scaling type</th><th>oscillator strength</th><th>delta energy</th><th>Burgess-Tully scaling parameter</th><th>Burgess-Tully scaled cross-section [5]</th></tr></thead>\n",
       "<thead><tr><th></th><th></th><th></th><th></th><th>Ry</th><th></th><th></th></tr></thead>\n",
       "<thead><tr><th>int64</th><th>int64</th><th>int64</th><th>float64</th><th>float64</th><th>float64</th><th>float64</th></tr></thead>\n",
       "<tr><td>1</td><td>2</td><td>2</td><td>0.0</td><td>7.633</td><td>1.2</td><td>0.1138 .. 0.2265</td></tr>\n",
       "<tr><td>1</td><td>3</td><td>4</td><td>0.3533</td><td>7.86</td><td>1.3</td><td>1.225 .. 0.04335</td></tr>\n",
       "<tr><td>1</td><td>4</td><td>4</td><td>0.03593</td><td>9.028</td><td>1.6</td><td>0.1132 .. 0.004365</td></tr>\n",
       "<tr><td>1</td><td>5</td><td>4</td><td>7.989e-06</td><td>10.41</td><td>1.8</td><td>0.01005 .. 3.055e-05</td></tr>\n",
       "<tr><td>1</td><td>6</td><td>4</td><td>0.2973</td><td>9.017</td><td>1.8</td><td>0.2545 .. 0.03355</td></tr>\n",
       "<tr><td>1</td><td>7</td><td>4</td><td>0.1625</td><td>10.49</td><td>1.6</td><td>0.08102 .. 0.01549</td></tr>\n",
       "<tr><td>1</td><td>8</td><td>4</td><td>0.2093</td><td>9.777</td><td>1.6</td><td>0.1767 .. 0.02225</td></tr>\n",
       "<tr><td>1</td><td>9</td><td>1</td><td>0.1796</td><td>11.41</td><td>1.6</td><td>0.01348 .. 0.01571</td></tr>\n",
       "<tr><td>1</td><td>10</td><td>4</td><td>0.2022</td><td>10.2</td><td>1.6</td><td>0.1198 .. 0.01977</td></tr>\n",
       "</table>"
      ],
      "text/plain": [
       "<QTable length=9>\n",
       "lower level index upper level index ... Burgess-Tully scaled cross-section [5]\n",
       "                                    ...                                       \n",
       "      int64             int64       ...                float64                \n",
       "----------------- ----------------- ... --------------------------------------\n",
       "                1                 2 ...                       0.1138 .. 0.2265\n",
       "                1                 3 ...                       1.225 .. 0.04335\n",
       "                1                 4 ...                     0.1132 .. 0.004365\n",
       "                1                 5 ...                   0.01005 .. 3.055e-05\n",
       "                1                 6 ...                      0.2545 .. 0.03355\n",
       "                1                 7 ...                     0.08102 .. 0.01549\n",
       "                1                 8 ...                      0.1767 .. 0.02225\n",
       "                1                 9 ...                     0.01348 .. 0.01571\n",
       "                1                10 ...                      0.1198 .. 0.01977"
      ]
     },
     "execution_count": 124,
     "metadata": {},
     "output_type": "execute_result"
    }
   ],
   "source": [
    "Parser('fe_6.easplom').parse()"
   ]
  },
  {
   "cell_type": "markdown",
   "metadata": {},
   "source": [
    " `.easplups` Files"
   ]
  },
  {
   "cell_type": "code",
   "execution_count": 125,
   "metadata": {
    "collapsed": false
   },
   "outputs": [
    {
     "data": {
      "text/html": [
       "&lt;QTable length=9&gt;\n",
       "<table id=\"table4592306160\" class=\"table-striped table-bordered table-condensed\">\n",
       "<thead><tr><th>lower level index</th><th>upper level index</th><th>Burgess-Tully scaling type</th><th>oscillator strength</th><th>delta energy</th><th>upsilon coefficient</th><th>excitation-autoionization rate coefficients [5]</th></tr></thead>\n",
       "<thead><tr><th></th><th></th><th></th><th></th><th>Ry</th><th></th><th></th></tr></thead>\n",
       "<thead><tr><th>int64</th><th>int64</th><th>int64</th><th>float64</th><th>float64</th><th>float64</th><th>float64</th></tr></thead>\n",
       "<tr><td>1</td><td>2</td><td>2</td><td>0.0</td><td>7.633</td><td>1.8</td><td>0.1138 .. 0.2265</td></tr>\n",
       "<tr><td>1</td><td>3</td><td>4</td><td>0.3533</td><td>7.86</td><td>1.3</td><td>1.225 .. 0.04335</td></tr>\n",
       "<tr><td>1</td><td>4</td><td>4</td><td>0.03593</td><td>9.028</td><td>2.0</td><td>0.1132 .. 0.004365</td></tr>\n",
       "<tr><td>1</td><td>5</td><td>4</td><td>7.989e-06</td><td>10.41</td><td>2.4</td><td>0.01005 .. 3.055e-05</td></tr>\n",
       "<tr><td>1</td><td>6</td><td>4</td><td>0.2973</td><td>9.017</td><td>2.0</td><td>0.2545 .. 0.03355</td></tr>\n",
       "<tr><td>1</td><td>7</td><td>4</td><td>0.1625</td><td>10.49</td><td>1.6</td><td>0.08102 .. 0.01549</td></tr>\n",
       "<tr><td>1</td><td>8</td><td>4</td><td>0.2093</td><td>9.777</td><td>1.7</td><td>0.1767 .. 0.02225</td></tr>\n",
       "<tr><td>1</td><td>9</td><td>1</td><td>0.1796</td><td>11.41</td><td>2.2</td><td>0.01348 .. 0.01571</td></tr>\n",
       "<tr><td>1</td><td>10</td><td>4</td><td>0.2022</td><td>10.2</td><td>1.6</td><td>0.1198 .. 0.01977</td></tr>\n",
       "</table>"
      ],
      "text/plain": [
       "<QTable length=9>\n",
       "lower level index ... excitation-autoionization rate coefficients [5]\n",
       "                  ...                                                \n",
       "      int64       ...                     float64                    \n",
       "----------------- ... -----------------------------------------------\n",
       "                1 ...                                0.1138 .. 0.2265\n",
       "                1 ...                                1.225 .. 0.04335\n",
       "                1 ...                              0.1132 .. 0.004365\n",
       "                1 ...                            0.01005 .. 3.055e-05\n",
       "                1 ...                               0.2545 .. 0.03355\n",
       "                1 ...                              0.08102 .. 0.01549\n",
       "                1 ...                               0.1767 .. 0.02225\n",
       "                1 ...                              0.01348 .. 0.01571\n",
       "                1 ...                               0.1198 .. 0.01977"
      ]
     },
     "execution_count": 125,
     "metadata": {},
     "output_type": "execute_result"
    }
   ],
   "source": [
    "Parser('fe_6.easplups').parse()"
   ]
  },
  {
   "cell_type": "markdown",
   "metadata": {},
   "source": [
    "`.fblvl` Files"
   ]
  },
  {
   "cell_type": "code",
   "execution_count": 126,
   "metadata": {
    "collapsed": false
   },
   "outputs": [
    {
     "data": {
      "text/html": [
       "&lt;QTable length=14&gt;\n",
       "<table id=\"table4596676648\" class=\"table-striped table-bordered table-condensed\">\n",
       "<thead><tr><th>level index</th><th>configuration</th><th>principal quantum number</th><th>azimuthal quantum number</th><th>orbital angular momentum</th><th>multiplicity</th><th>observed energy</th><th>theoretical energy</th></tr></thead>\n",
       "<thead><tr><th></th><th></th><th></th><th></th><th></th><th></th><th>1 / cm</th><th>1 / cm</th></tr></thead>\n",
       "<thead><tr><th>int64</th><th>str6</th><th>int64</th><th>int64</th><th>str1</th><th>int64</th><th>float64</th><th>float64</th></tr></thead>\n",
       "<tr><td>1</td><td>1s22s</td><td>2</td><td>0</td><td>s</td><td>2</td><td>0.0</td><td>0.0</td></tr>\n",
       "<tr><td>2</td><td>1s22p</td><td>2</td><td>1</td><td>p</td><td>6</td><td>274026.667</td><td>274039.521</td></tr>\n",
       "<tr><td>3</td><td>1s23s</td><td>3</td><td>0</td><td>s</td><td>2</td><td>4176024.0</td><td>4177011.75</td></tr>\n",
       "<tr><td>4</td><td>1s23p</td><td>3</td><td>1</td><td>p</td><td>6</td><td>4244333.333</td><td>4253472.333</td></tr>\n",
       "<tr><td>5</td><td>1s23d</td><td>3</td><td>2</td><td>d</td><td>10</td><td>4282560.0</td><td>4284798.4</td></tr>\n",
       "<tr><td>6</td><td>1s24s</td><td>4</td><td>0</td><td>s</td><td>2</td><td>5605760.0</td><td>5606934.0</td></tr>\n",
       "<tr><td>7</td><td>1s24p</td><td>4</td><td>1</td><td>p</td><td>6</td><td>5636873.333</td><td>5638415.833</td></tr>\n",
       "<tr><td>8</td><td>1s24d</td><td>4</td><td>2</td><td>d</td><td>10</td><td>5649608.0</td><td>5651632.8</td></tr>\n",
       "<tr><td>9</td><td>1s24f</td><td>4</td><td>3</td><td>f</td><td>14</td><td>0.0</td><td>5653632.857</td></tr>\n",
       "<tr><td>10</td><td>1s25s</td><td>5</td><td>0</td><td>s</td><td>2</td><td>6259500.0</td><td>6261525.5</td></tr>\n",
       "<tr><td>11</td><td>1s25p</td><td>5</td><td>1</td><td>p</td><td>6</td><td>6275866.667</td><td>6277494.833</td></tr>\n",
       "<tr><td>12</td><td>1s25d</td><td>5</td><td>2</td><td>d</td><td>10</td><td>6282300.0</td><td>6284140.6</td></tr>\n",
       "<tr><td>13</td><td>1s25f</td><td>5</td><td>3</td><td>f</td><td>14</td><td>0.0</td><td>6285214.5</td></tr>\n",
       "<tr><td>14</td><td>1s25g</td><td>5</td><td>4</td><td>g</td><td>18</td><td>0.0</td><td>6285891.722</td></tr>\n",
       "</table>"
      ],
      "text/plain": [
       "<QTable length=14>\n",
       "level index configuration ... observed energy theoretical energy\n",
       "                          ...      1 / cm           1 / cm      \n",
       "   int64         str6     ...     float64          float64      \n",
       "----------- ------------- ... --------------- ------------------\n",
       "          1         1s22s ...             0.0                0.0\n",
       "          2         1s22p ...      274026.667         274039.521\n",
       "          3         1s23s ...       4176024.0         4177011.75\n",
       "          4         1s23p ...     4244333.333        4253472.333\n",
       "          5         1s23d ...       4282560.0          4284798.4\n",
       "          6         1s24s ...       5605760.0          5606934.0\n",
       "          7         1s24p ...     5636873.333        5638415.833\n",
       "          8         1s24d ...       5649608.0          5651632.8\n",
       "          9         1s24f ...             0.0        5653632.857\n",
       "         10         1s25s ...       6259500.0          6261525.5\n",
       "         11         1s25p ...     6275866.667        6277494.833\n",
       "         12         1s25d ...       6282300.0          6284140.6\n",
       "         13         1s25f ...             0.0          6285214.5\n",
       "         14         1s25g ...             0.0        6285891.722"
      ]
     },
     "execution_count": 126,
     "metadata": {},
     "output_type": "execute_result"
    }
   ],
   "source": [
    "Parser('ar_16.fblvl').parse()"
   ]
  },
  {
   "cell_type": "markdown",
   "metadata": {},
   "source": [
    "`.wgfa` Files"
   ]
  },
  {
   "cell_type": "code",
   "execution_count": 127,
   "metadata": {
    "collapsed": false
   },
   "outputs": [
    {
     "data": {
      "text/html": [
       "&lt;QTable length=68&gt;\n",
       "<table id=\"table4592308176\" class=\"table-striped table-bordered table-condensed\">\n",
       "<thead><tr><th>lower level index</th><th>upper level index</th><th>transition wavelength</th><th>oscillator strength</th><th>radiative decay rate</th><th>lower level configuration</th><th>lower level multiplicity</th><th>lower level orbital angular momentum</th><th>lower level total angular momentum</th><th>upper level configuration</th><th>upper level multiplicity</th><th>upper level orbital angular momentum</th><th>upper level total angular momentum</th></tr></thead>\n",
       "<thead><tr><th></th><th></th><th>Angstrom</th><th></th><th>1 / s</th><th></th><th></th><th></th><th></th><th></th><th></th><th></th><th></th></tr></thead>\n",
       "<thead><tr><th>int64</th><th>int64</th><th>float64</th><th>float64</th><th>float64</th><th>str2</th><th>int64</th><th>str1</th><th>float64</th><th>str2</th><th>int64</th><th>str1</th><th>float64</th></tr></thead>\n",
       "<tr><td>1</td><td>2</td><td>0.0</td><td>0.0</td><td>526.6</td><td>1s</td><td>2</td><td>S</td><td>0.5</td><td>2s</td><td>2</td><td>S</td><td>0.5</td></tr>\n",
       "<tr><td>1</td><td>3</td><td>303.786</td><td>0.2772</td><td>10020000000.0</td><td>1s</td><td>2</td><td>S</td><td>0.5</td><td>2p</td><td>2</td><td>P</td><td>0.5</td></tr>\n",
       "<tr><td>1</td><td>4</td><td>303.781</td><td>0.5552</td><td>10030000000.0</td><td>1s</td><td>2</td><td>S</td><td>0.5</td><td>2p</td><td>2</td><td>P</td><td>1.5</td></tr>\n",
       "<tr><td>1</td><td>6</td><td>256.318</td><td>0.05268</td><td>2675000000.0</td><td>1s</td><td>2</td><td>S</td><td>0.5</td><td>3p</td><td>2</td><td>P</td><td>0.5</td></tr>\n",
       "<tr><td>1</td><td>7</td><td>256.317</td><td>0.1055</td><td>2679000000.0</td><td>1s</td><td>2</td><td>S</td><td>0.5</td><td>3p</td><td>2</td><td>P</td><td>1.5</td></tr>\n",
       "<tr><td>1</td><td>11</td><td>243.027</td><td>0.01931</td><td>1090000000.0</td><td>1s</td><td>2</td><td>S</td><td>0.5</td><td>4p</td><td>2</td><td>P</td><td>0.5</td></tr>\n",
       "<tr><td>1</td><td>12</td><td>243.027</td><td>0.03867</td><td>1092000000.0</td><td>1s</td><td>2</td><td>S</td><td>0.5</td><td>4p</td><td>2</td><td>P</td><td>1.5</td></tr>\n",
       "<tr><td>1</td><td>18</td><td>237.331</td><td>0.009284</td><td>549800000.0</td><td>1s</td><td>2</td><td>S</td><td>0.5</td><td>5p</td><td>2</td><td>P</td><td>0.5</td></tr>\n",
       "<tr><td>1</td><td>19</td><td>237.331</td><td>0.0186</td><td>550600000.0</td><td>1s</td><td>2</td><td>S</td><td>0.5</td><td>5p</td><td>2</td><td>P</td><td>1.5</td></tr>\n",
       "<tr><td>...</td><td>...</td><td>...</td><td>...</td><td>...</td><td>...</td><td>...</td><td>...</td><td>...</td><td>...</td><td>...</td><td>...</td><td>...</td></tr>\n",
       "<tr><td>13</td><td>19</td><td>10126.408</td><td>0.01855</td><td>301700.0</td><td>4d</td><td>2</td><td>D</td><td>1.5</td><td>5p</td><td>2</td><td>P</td><td>1.5</td></tr>\n",
       "<tr><td>14</td><td>19</td><td>10126.633</td><td>0.1669</td><td>2715000.0</td><td>4d</td><td>2</td><td>D</td><td>2.5</td><td>5p</td><td>2</td><td>P</td><td>1.5</td></tr>\n",
       "<tr><td>15</td><td>24</td><td>10126.44</td><td>8.076</td><td>65670000.0</td><td>4f</td><td>2</td><td>F</td><td>2.5</td><td>5g</td><td>2</td><td>G</td><td>3.5</td></tr>\n",
       "<tr><td>16</td><td>25</td><td>10126.537</td><td>10.47</td><td>68100000.0</td><td>4f</td><td>2</td><td>F</td><td>3.5</td><td>5g</td><td>2</td><td>G</td><td>4.5</td></tr>\n",
       "<tr><td>8</td><td>15</td><td>4687.026</td><td>4.072</td><td>206100000.0</td><td>3d</td><td>2</td><td>D</td><td>1.5</td><td>4f</td><td>2</td><td>F</td><td>2.5</td></tr>\n",
       "<tr><td>9</td><td>15</td><td>4687.156</td><td>0.2909</td><td>14720000.0</td><td>3d</td><td>2</td><td>D</td><td>2.5</td><td>4f</td><td>2</td><td>F</td><td>2.5</td></tr>\n",
       "<tr><td>9</td><td>16</td><td>4687.129</td><td>5.817</td><td>220800000.0</td><td>3d</td><td>2</td><td>D</td><td>2.5</td><td>4f</td><td>2</td><td>F</td><td>3.5</td></tr>\n",
       "<tr><td>13</td><td>22</td><td>10126.28</td><td>3.561</td><td>38610000.0</td><td>4d</td><td>2</td><td>D</td><td>1.5</td><td>5f</td><td>2</td><td>F</td><td>2.5</td></tr>\n",
       "<tr><td>14</td><td>22</td><td>10126.505</td><td>0.2544</td><td>2758000.0</td><td>4d</td><td>2</td><td>D</td><td>2.5</td><td>5f</td><td>2</td><td>F</td><td>2.5</td></tr>\n",
       "<tr><td>14</td><td>23</td><td>10126.44</td><td>5.088</td><td>41370000.0</td><td>4d</td><td>2</td><td>D</td><td>2.5</td><td>5f</td><td>2</td><td>F</td><td>3.5</td></tr>\n",
       "</table>"
      ],
      "text/plain": [
       "<QTable length=68>\n",
       "lower level index upper level index ... upper level total angular momentum\n",
       "                                    ...                                   \n",
       "      int64             int64       ...              float64              \n",
       "----------------- ----------------- ... ----------------------------------\n",
       "                1                 2 ...                                0.5\n",
       "                1                 3 ...                                0.5\n",
       "                1                 4 ...                                1.5\n",
       "                1                 6 ...                                0.5\n",
       "                1                 7 ...                                1.5\n",
       "                1                11 ...                                0.5\n",
       "                1                12 ...                                1.5\n",
       "                1                18 ...                                0.5\n",
       "                1                19 ...                                1.5\n",
       "              ...               ... ...                                ...\n",
       "               13                19 ...                                1.5\n",
       "               14                19 ...                                1.5\n",
       "               15                24 ...                                3.5\n",
       "               16                25 ...                                4.5\n",
       "                8                15 ...                                2.5\n",
       "                9                15 ...                                2.5\n",
       "                9                16 ...                                3.5\n",
       "               13                22 ...                                2.5\n",
       "               14                22 ...                                2.5\n",
       "               14                23 ...                                3.5"
      ]
     },
     "execution_count": 127,
     "metadata": {},
     "output_type": "execute_result"
    }
   ],
   "source": [
    "Parser('he_2.wgfa').parse()"
   ]
  },
  {
   "cell_type": "markdown",
   "metadata": {
    "collapsed": true
   },
   "source": [
    "## Check Raw Text\n",
    "Call tail on the actual file to make sure we are parsing the right stuff."
   ]
  },
  {
   "cell_type": "code",
   "execution_count": 108,
   "metadata": {
    "collapsed": false
   },
   "outputs": [
    {
     "name": "stdout",
     "output_type": "stream",
     "text": [
      "   62\n",
      "  1.0000e+01  3.4800e-11\n",
      "  1.2590e+01  3.1400e-11\n",
      "  1.5850e+01  2.8400e-11\n",
      "  1.9950e+01  2.5800e-11\n",
      "  2.5120e+01  2.3300e-11\n",
      "  3.1620e+01  2.0900e-11\n",
      "  3.9810e+01  1.8700e-11\n",
      "  5.0120e+01  1.6700e-11\n",
      "  6.3100e+01  1.4800e-11\n",
      "  7.9430e+01  1.3100e-11\n",
      "  1.0000e+02  1.1600e-11\n",
      "  1.2590e+02  1.0200e-11\n",
      "  1.5850e+02  9.0200e-12\n",
      "  1.9950e+02  7.9700e-12\n",
      "  2.5120e+02  7.0400e-12\n",
      "  3.1620e+02  6.2700e-12\n",
      "  3.9810e+02  5.6500e-12\n",
      "  5.0120e+02  5.1500e-12\n",
      "  6.3100e+02  4.7300e-12\n",
      "  7.9430e+02  4.3400e-12\n",
      "  1.0000e+03  3.9500e-12\n",
      "  1.2590e+03  3.5500e-12\n",
      "  1.5850e+03  3.1400e-12\n",
      "  1.9950e+03  2.7500e-12\n",
      "  2.5120e+03  2.3700e-12\n",
      "  3.1620e+03  2.0200e-12\n",
      "  3.9810e+03  1.7200e-12\n",
      "  5.0120e+03  1.4700e-12\n",
      "  6.3100e+03  1.3500e-12\n",
      "  7.9430e+03  1.5200e-12\n",
      "  1.0000e+04  2.3000e-12\n",
      "  1.2590e+04  3.8900e-12\n",
      "  1.5850e+04  6.1900e-12\n",
      "  1.9950e+04  8.7200e-12\n",
      "  2.5120e+04  1.0900e-11\n",
      "  3.1620e+04  1.2100e-11\n",
      "  3.9810e+04  1.2400e-11\n",
      "  5.0120e+04  1.1700e-11\n",
      "  6.3100e+04  1.0500e-11\n",
      "  7.9430e+04  8.9500e-12\n",
      "  1.0000e+05  7.3500e-12\n",
      "  1.2590e+05  5.8600e-12\n",
      "  1.5850e+05  4.5600e-12\n",
      "  1.9950e+05  3.4800e-12\n",
      "  2.5120e+05  2.6200e-12\n",
      "  3.1620e+05  1.9500e-12\n",
      "  3.9810e+05  1.4300e-12\n",
      "  5.0120e+05  1.0500e-12\n",
      "  6.3100e+05  7.6100e-13\n",
      "  7.9430e+05  5.5100e-13\n",
      "  1.0000e+06  3.9500e-13\n",
      "  1.2590e+06  2.8300e-13\n",
      "  1.5850e+06  2.0300e-13\n",
      "  1.9950e+06  1.4500e-13\n",
      "  2.5120e+06  1.0400e-13\n",
      "  3.1620e+06  7.3800e-14\n",
      "  3.9810e+06  5.2600e-14\n",
      "  5.0120e+06  3.7400e-14\n",
      "  6.3100e+06  2.6600e-14\n",
      "  7.9430e+06  1.9000e-14\n",
      "  1.0000e+07  1.3500e-14\n",
      "  1.0000e+09  1.3500e-17\n",
      "-1\n"
     ]
    }
   ],
   "source": [
    "%%bash\n",
    "head -n 64 $XUVTOP/fe/fe_2/fe_2.trparams"
   ]
  },
  {
   "cell_type": "code",
   "execution_count": 100,
   "metadata": {
    "collapsed": false
   },
   "outputs": [
    {
     "name": "stdout",
     "output_type": "stream",
     "text": [
      "    3\n",
      "   27    2  1.0000e-12  7.0000e-01\n",
      "-1\n",
      "%file:  co_2.rrparams\n",
      "% radiative recombination parameters, interpolated from:\n",
      "  Shull, J. M., Van Steenberg, M., 1982, ApJSS, 48, 95\n",
      "  Landini, M., Monsignori Fossi, B. C., 1990, A\\&ASS, 82, 229\n",
      "  Landini, M., Monsignori Fossi, B. C., 1991, A\\&ASS, 91, 183\n",
      "  Mazzitelli, G., Mattioli, M., 2002, ADNDT, 82, 313\n",
      " produced for the CHIANTI atomic database for astrophysical spectroscopy\n"
     ]
    }
   ],
   "source": [
    "%%bash\n",
    "head -n 10 $XUVTOP/co/co_2/co_2.rrparams"
   ]
  },
  {
   "cell_type": "code",
   "execution_count": 93,
   "metadata": {
    "collapsed": false
   },
   "outputs": [
    {
     "name": "stdout",
     "output_type": "stream",
     "text": [
      "    1\n",
      "   18   17    1  2.8120e-10   0.56860  1.0630e+04  8.7790e+07\n",
      "-1\n",
      "%file:  ar_17.rrparams\n",
      " Radiative recombination coefficients\n",
      "Badnell, N. R., 2006, ApJS, 167, 334\n",
      "http://adsabs.harvard.edu/abs/2006ApJS..167..334B\n",
      "Radiative Recombination Data for Modeling Dynamic Finite-Density Plasmas\n",
      " produced for the CHIANTI atomic database for astrophysical spectroscopy\n",
      " created by Ken Dere (GMU):  Wed Feb 15 11:06:15 2012\n"
     ]
    }
   ],
   "source": [
    "%%bash\n",
    "head -n 10 $XUVTOP/ar/ar_17/ar_17.rrparams"
   ]
  },
  {
   "cell_type": "code",
   "execution_count": 74,
   "metadata": {
    "collapsed": false
   },
   "outputs": [
    {
     "name": "stdout",
     "output_type": "stream",
     "text": [
      "    2\n",
      "   13    2    1  1.0350e-09   0.65350 4.6230e-02 1.5640e+09   0.12610  1.5330e+05\n",
      "-1\n",
      "%file:  al_2.rrparams\n",
      " Radiative recombination coefficients\n",
      "Altun, Z., Yumak, I., Badnell, N.R., Loch, S.D., Pindzola, M.D.\n",
      "2007, A&A, 474, 1051\n",
      "http://cdsads.u-strasbg.fr/cgi-bin/bib_query?2007A%26A...474.1051A\n",
      "Dielectronic recombination data for dynamic finite-density plasmas. XIII. The magnesium isoelectronic sequence\n",
      " produced for the CHIANTI atomic database for astrophysical spectroscopy\n"
     ]
    }
   ],
   "source": [
    "%%bash\n",
    "head -n 10 $XUVTOP/al/al_2/al_2.rrparams"
   ]
  },
  {
   "cell_type": "code",
   "execution_count": 64,
   "metadata": {
    "collapsed": false
   },
   "outputs": [
    {
     "name": "stdout",
     "output_type": "stream",
     "text": [
      "    1\n",
      "   20   17  1.9900e+04  8.6240e+04  3.1800e+05  8.4800e+05  5.7350e+06  3.3000e+07  7.2680e+07  0.0000e+00  0.0000e+00\n",
      "   20   17  2.8920e-03  7.6630e-03  2.6890e-02  5.7180e-02  2.6810e-01  1.7090e-01  2.2620e-02  0.0000e+00  0.0000e+00\n",
      "-1\n",
      "%file:  ca_17.drparams\n",
      "%parameters for dielectronic recombination rate coefficients\n",
      "Colgan, J., Pindzola, M.S., Whiteford, A.D., Badnell, N.R., 2003, A&A, 412, 597\n",
      "Dielectronic recombination data for dynamic finite-density plasmas. III. The beryllium isoelectronic sequence\n",
      "http://cdsads.u-strasbg.fr/cgi-bin/bib_query?2003A%26A...412..597C\n",
      " produced for the CHIANTI atomic database for astrophysical spectroscopy\n"
     ]
    }
   ],
   "source": [
    "%%bash\n",
    "head -n 10 $XUVTOP/ca/ca_17/ca_17.drparams"
   ]
  },
  {
   "cell_type": "code",
   "execution_count": 4,
   "metadata": {
    "collapsed": false
   },
   "outputs": [
    {
     "name": "stdout",
     "output_type": "stream",
     "text": [
      " 26 17  1   2      6.05      6.20      6.35      6.50      6.65      6.80      6.95      7.10      7.25\n",
      " 26 17  1   2 1.050e-16 4.830e-15 7.620e-14 5.610e-13 2.400e-12 6.980e-12 1.530e-11 2.730e-11 4.180e-11\n",
      " 26 17  1   3      6.05      6.20      6.35      6.50      6.65      6.80      6.95      7.10      7.25\n",
      " 26 17  1   3 6.130e-17 2.850e-15 4.510e-14 3.330e-13 1.430e-12 4.160e-12 9.120e-12 1.630e-11 2.500e-11\n",
      " 26 17  1   4      6.05      6.20      6.35      6.50      6.65      6.80      6.95      7.10      7.25\n",
      " 26 17  1   4 1.880e-17 9.000e-16 1.460e-14 1.100e-13 4.770e-13 1.400e-12 3.090e-12 5.550e-12 8.550e-12\n",
      " 26 17  1   5      6.05      6.20      6.35      6.50      6.65      6.80      6.95      7.10      7.25\n",
      " 26 17  1   5 5.270e-17 2.540e-15 4.140e-14 3.120e-13 1.360e-12 3.980e-12 8.810e-12 1.580e-11 2.440e-11\n",
      " 26 17  1   6      6.05      6.20      6.35      6.50      6.65      6.80      6.95      7.10      7.25\n",
      " 26 17  1   6 1.110e-18 5.620e-17 9.450e-16 7.280e-15 3.220e-14 9.550e-14 2.130e-13 3.850e-13 5.950e-13\n"
     ]
    }
   ],
   "source": [
    "%%bash\n",
    "head -n 10 $XUVTOP/fe/fe_17/fe_17.cilvl"
   ]
  },
  {
   "cell_type": "code",
   "execution_count": null,
   "metadata": {
    "collapsed": false
   },
   "outputs": [],
   "source": [
    "%%bash\n",
    "head -n 10 $XUVTOP/fe/fe_6/fe_6.scups"
   ]
  },
  {
   "cell_type": "code",
   "execution_count": null,
   "metadata": {
    "collapsed": false
   },
   "outputs": [],
   "source": [
    "%%bash\n",
    "head -n 10 $XUVTOP/ca/ca_17/ca_17.psplups"
   ]
  },
  {
   "cell_type": "code",
   "execution_count": null,
   "metadata": {
    "collapsed": true
   },
   "outputs": [],
   "source": [
    "%%bash\n",
    "head -n 10 $XUVTOP/h/h_1/h_1.elvlc"
   ]
  },
  {
   "cell_type": "code",
   "execution_count": null,
   "metadata": {
    "collapsed": false
   },
   "outputs": [],
   "source": [
    "%%bash\n",
    "head -n 100 $XUVTOP/fe/fe_6/fe_6.easplom"
   ]
  },
  {
   "cell_type": "code",
   "execution_count": null,
   "metadata": {
    "collapsed": true
   },
   "outputs": [],
   "source": [
    "%%bash\n",
    "head -n 10 $XUVTOP/fe/fe_6/fe_6.easplups"
   ]
  },
  {
   "cell_type": "code",
   "execution_count": null,
   "metadata": {
    "collapsed": true
   },
   "outputs": [],
   "source": [
    "%%bash\n",
    "head -n 30 $XUVTOP/h/h_1/h_1.fblvl"
   ]
  },
  {
   "cell_type": "code",
   "execution_count": null,
   "metadata": {
    "collapsed": true
   },
   "outputs": [],
   "source": [
    "%%bash\n",
    "head -n 100 $XUVTOP/fe/fe_3/fe_3.wgfa"
   ]
  }
 ],
 "metadata": {
  "anaconda-cloud": {},
  "kernelspec": {
   "display_name": "Python [conda env:chiantipy]",
   "language": "python",
   "name": "conda-env-chiantipy-py"
  },
  "language_info": {
   "codemirror_mode": {
    "name": "ipython",
    "version": 3
   },
   "file_extension": ".py",
   "mimetype": "text/x-python",
   "name": "python",
   "nbconvert_exporter": "python",
   "pygments_lexer": "ipython3",
   "version": "3.5.2"
  }
 },
 "nbformat": 4,
 "nbformat_minor": 2
}
