{
 "cells": [
  {
   "cell_type": "markdown",
   "metadata": {
    "nbpresent": {
     "id": "861ab3ff-a756-4a2f-8932-158597c73a7a"
    }
   },
   "source": [
    "# Ionization and Recombination Rates"
   ]
  },
  {
   "cell_type": "code",
   "execution_count": 1,
   "metadata": {
    "nbpresent": {
     "id": "7f6b2302-b9ad-4220-bccb-7455ef073201"
    }
   },
   "outputs": [
    {
     "name": "stdout",
     "output_type": "stream",
     "text": [
      " using cli\n",
      " using CLI for selections\n"
     ]
    },
    {
     "name": "stderr",
     "output_type": "stream",
     "text": [
      "/Users/willbarnes/anaconda/envs/fiasco/lib/python3.6/site-packages/ChiantiPy-0.7.dev668-py3.6.egg/ChiantiPy/core/IpyMspectrum.py:9: UserWarning: ipyparallel not found. You won't be able to use the ipymspectrum module\n",
      "  warnings.warn(\"ipyparallel not found. You won't be able to use the ipymspectrum module\")\n"
     ]
    }
   ],
   "source": [
    "import os\n",
    "os.environ['XUVTOP'] = '/Users/willbarnes/ssw/packages/chianti/dbase/'\n",
    "\n",
    "import numpy as np\n",
    "from scipy.interpolate import splev,splrep,interp1d\n",
    "import astropy.units as u\n",
    "import astropy.constants as const\n",
    "import astropy.table\n",
    "import matplotlib.pyplot as plt\n",
    "import matplotlib.colors\n",
    "import mpld3\n",
    "import fiasco\n",
    "import fiasco.io\n",
    "import plasmapy\n",
    "import ChiantiPy.tools as ch_tools\n",
    "import ChiantiPy.core as ch\n",
    "import periodictable\n",
    "import hissw\n",
    "\n",
    "%matplotlib inline\n",
    "#mpld3.enable_notebook()"
   ]
  },
  {
   "cell_type": "markdown",
   "metadata": {},
   "source": [
    "## Theory: Ionization Rates"
   ]
  },
  {
   "cell_type": "markdown",
   "metadata": {},
   "source": [
    "### Direct Ionization"
   ]
  },
  {
   "cell_type": "markdown",
   "metadata": {
    "collapsed": true
   },
   "source": [
    "This gives the Burgess-Tully scaled cross-sections as a function of the scaled energy. See Dere (2007) for a description of this scaling. It is easy enough to descale these.\n",
    "\n",
    "To actually calculate the direct ionization rate, the cross-section is integrated over a Maxwellian electron distribution using 12-point Gauss-Laguerre quadrature. The Maxwellian distribution is given by,\n",
    "\n",
    "$$\n",
    "f_M(E) = 2\\left(\\frac{E}{\\pi}\\right)^{1/2}(k_BT)^{-3/2}\\exp\\left({-\\frac{E}{k_BT}}\\right)\n",
    "$$"
   ]
  },
  {
   "cell_type": "markdown",
   "metadata": {},
   "source": [
    "So the direct ionization rate should be given by,\n",
    "\n",
    "$$\n",
    "\\begin{eqnarray}\n",
    "\\alpha_{\\mathrm{DI}} &=& \\int_0^{\\infty}\\mathrm{d}E\\,\\sqrt{\\frac{2E}{m_e}}f_M(E)\\sigma(E) \\\\\n",
    "&=& \\int_0^{\\infty}\\mathrm{d}E\\,\\sqrt{\\frac{2E}{m_e}}2\\left(\\frac{E}{\\pi}\\right)^{1/2}(k_BT)^{-3/2}\\exp\\left({-\\frac{E}{k_BT}}\\right)\\sigma(E) \\\\\n",
    "&=& \\sqrt{\\frac{8}{\\pi m_e}}(k_BT)^{-3/2}\\int_0^{\\infty}\\mathrm{d}E\\,E\\sigma(E)\\exp\\left({-\\frac{E}{k_BT}}\\right)\n",
    "\\end{eqnarray}\n",
    "$$"
   ]
  },
  {
   "cell_type": "markdown",
   "metadata": {},
   "source": [
    "Now, we want to evaluate the cross-section at $E+I$, where $I$ is the ionization potential,\n",
    "\n",
    "$$\n",
    "\\begin{eqnarray}\n",
    "\\alpha_{\\mathrm{DI}} &=& \\sqrt{\\frac{8}{\\pi m_e}}(k_BT)^{-3/2}\\int_0^{\\infty}\\mathrm{d}(E+I)\\,(E+I)\\sigma(E+I)\\exp\\left({-\\frac{(E+I)}{k_BT}}\\right) \\\\\n",
    "&=& \\sqrt{\\frac{8}{\\pi m_e}}(k_BT)^{-3/2}\\exp\\left({-\\frac{I}{k_BT}}\\right)\\int_0^{\\infty}\\mathrm{d}E\\,(E+I)\\sigma(E+I)\\exp\\left({-\\frac{E}{k_BT}}\\right) \\\\\n",
    "&=& \\sqrt{\\frac{8}{\\pi m_e}}(k_BT)^{-3/2}\\exp\\left({-\\frac{I}{k_BT}}\\right)\\left(\\int_0^{\\infty}\\mathrm{d}E\\,E\\sigma(E+I)\\exp\\left({-\\frac{E}{k_BT}}\\right) + I\\int_0^{\\infty}\\mathrm{d}E\\,\\sigma(E+I)\\exp\\left({-\\frac{E}{k_BT}}\\right)\\right)\n",
    "\\end{eqnarray}\n",
    "$$"
   ]
  },
  {
   "cell_type": "markdown",
   "metadata": {},
   "source": [
    "Next, make a change of variables $x=E/k_BT$ and define for convenience $\\xi=\\sqrt{8/\\pi m_e}$, $\\beta=k_BT$, $x_0=I/k_BT$,"
   ]
  },
  {
   "cell_type": "markdown",
   "metadata": {},
   "source": [
    "$$\n",
    "\\begin{eqnarray}\n",
    "\\alpha_{\\mathrm{DI}} &=& \\xi\\beta^{-3/2}e^{-x_0}\\left(\\int\\mathrm{d}x\\,\\beta^2x\\sigma(\\beta x + I)e^{-x} + I\\int\\mathrm{d}x\\,\\beta\\sigma(\\beta x + I)e^{-x}\\right) \\\\\n",
    "&=& \\xi\\beta^{1/2}e^{-x_0}\\left(\\int\\mathrm{d}x\\,x\\sigma(\\beta x + I)e^{-x} + x_0\\int\\mathrm{d}x\\,\\sigma(\\beta x + I)e^{-x}\\right)\n",
    "\\end{eqnarray}\n",
    "$$"
   ]
  },
  {
   "cell_type": "markdown",
   "metadata": {},
   "source": [
    "Gauss-Laguerre quadrature can be used to evaluate integrals of this form such that,\n",
    "\n",
    "$$\n",
    "\\int_0^{\\infty}\\mathrm{d}x\\,e^{-x}f(x)\\approx\\sum^n_{i=1}w_if(x_i)\n",
    "$$\n",
    "\n",
    "so our above expression becomes,\n",
    "\n",
    "$$\n",
    "\\begin{eqnarray}\n",
    "\\alpha_{DI} &=& \\xi\\beta^{1/2}e^{-x_0}\\left(\\sum_iw_ix_i\\sigma(\\beta x_i + I) + x_0\\sum_iw_i\\sigma(\\beta x_i+I)\\right)\n",
    "&=& \\xi\\beta^{1/2}e^{-x_0}\\sum_iw_i\\sigma(\\beta x_i + I)(x_i + x_0)\n",
    "\\end{eqnarray}\n",
    "$$"
   ]
  },
  {
   "cell_type": "markdown",
   "metadata": {},
   "source": [
    "So for the direct ionization, we'll need two functions: one to calculate the cross-section and one to calculate the actual ionization rate."
   ]
  },
  {
   "cell_type": "markdown",
   "metadata": {},
   "source": [
    "### Excitation Autoionization\n",
    "The excitation autoionization rate is given by the same expression as the collisional excitation rates, for a given excitation $ij$,\n",
    "\n",
    "$$\n",
    "\\alpha_{ea,ij} = \\int\\mathrm{d}E\\,Q_{ea,ij}vf(E) \\approx \\frac{h^2}{(2m_e)^{3/2}(k_BT)^{1/2}}\\frac{\\Upsilon_{ea,ij}}{\\omega_i}\\exp\\left(\\frac{-\\Delta E}{k_BT}\\right)\n",
    "$$\n",
    "\n",
    "where $\\Upsilon_{ea}$ are the effective collision strengths for excitation autoionization. A full derivation of this expression can be found section 4.2.1 of Philips et al. (2008). These are descaled from a Burgess-Tully scaling. The total excitation autoionization rate is then summed over all relevant transitions,\n",
    "\n",
    "$$\n",
    "\\alpha_{ea} = \\sum_{ij}\\alpha_{ea,ij}\n",
    "$$"
   ]
  },
  {
   "cell_type": "markdown",
   "metadata": {},
   "source": [
    "## Theory: Recombination Rates\n",
    "There are two types of recombination that we consider: dielectronic recombination and radiative recombination. We'll address the expressions needed to get both and then "
   ]
  },
  {
   "cell_type": "markdown",
   "metadata": {},
   "source": [
    "### Radiative Recombination"
   ]
  },
  {
   "cell_type": "markdown",
   "metadata": {},
   "source": [
    "### Dielectronic Recombination"
   ]
  },
  {
   "cell_type": "markdown",
   "metadata": {},
   "source": [
    "## A New Ion Object"
   ]
  },
  {
   "cell_type": "code",
   "execution_count": null,
   "metadata": {},
   "outputs": [],
   "source": [
    "class Ion(fiasco.IonBase):\n",
    "    \n",
    "    @u.quantity_input(temperature=u.K)\n",
    "    def __init__(self,ion_name,temperature,*args,**kwargs):\n",
    "        self.temperature = temperature\n",
    "        super().__init__(ion_name,*args,**kwargs)\n",
    "        self.Z = periodictable.__dict__[self.element.capitalize()].number\n",
    "        # Use selected datasets\n",
    "        self._ip = super().ip[kwargs.get('ip_filename','chianti')]*const.h.cgs*const.c.cgs\n",
    "    \n",
    "    @property\n",
    "    def ip(self):\n",
    "        return self._ip\n",
    "    \n",
    "    @ip.setter\n",
    "    def ip(self,value):\n",
    "        self._ip = value\n",
    "        \n",
    "    @staticmethod\n",
    "    def burgess_tully_descale(x,y,energy_ratio,c,scaling_type):\n",
    "        \"\"\"\n",
    "        Convert scaled Burgess-Tully parameters to physical quantities \n",
    "        \"\"\"\n",
    "        nots = splrep(x, y, s=0)\n",
    "        if scaling_type == 1:\n",
    "            x_new = 1.0 - np.log(c)/np.log(energy_ratio + c)\n",
    "            upsilon = splev(x_new, nots, der=0)*np.log(energy_ratio + np.e)\n",
    "        elif scaling_type == 2:\n",
    "            x_new = energy_ratio/(energy_ratio + c)\n",
    "            upsilon = splev(x_new, nots, der=0)\n",
    "        elif scaling_type == 3:\n",
    "            x_new = energy_ratio/(energy_ratio + c)\n",
    "            upsilon = splev(x_new, nots, der=0)/(energy_ratio + 1.0)\n",
    "        elif scaling_type == 4:\n",
    "            x_new = 1.0 - np.log(c)/np.log(energy_ratio + c)\n",
    "            upsilon = splev(x_new, nots, der=0)*np.log(energy_ratio + c)\n",
    "        elif scaling_type == 5:\n",
    "            # dielectronic\n",
    "            x_new = energy_ratio/(energy_ratio + c)\n",
    "            upsilon = splev(x_new,nots,der=0)/energy_ratio\n",
    "        elif scaling_type == 6:\n",
    "            # protons\n",
    "            x_new = energy_ratio/(energy_ratio + c)\n",
    "            upsilon = 10**splev(x_new, nots, der=0)\n",
    "        else:\n",
    "            raise ValueError('Unrecognized BT92 scaling option.')\n",
    "\n",
    "        return upsilon\n",
    "    \n",
    "    def direct_ionization_rate(self):\n",
    "        \"\"\"\n",
    "        Calculate direct ionization rate in cm3/s\n",
    "        \n",
    "        Needs an equation reference or explanation\n",
    "        \"\"\"\n",
    "        xgl,wgl = np.polynomial.laguerre.laggauss(12)\n",
    "        kBT = const.k_B.cgs*self.temperature\n",
    "        energy = np.outer(xgl,kBT)*kBT.unit + self.ip\n",
    "        cross_section = self.direct_ionization_cross_section(energy)\n",
    "        term1 = np.sqrt(8./np.pi/const.m_e.cgs)*np.sqrt(kBT)*np.exp(-self.ip/kBT)\n",
    "        term2 = ((wgl*xgl)[:,np.newaxis]*cross_section).sum(axis=0)\n",
    "        term3 = (wgl[:,np.newaxis]*cross_section).sum(axis=0)*self.ip/kBT\n",
    "        \n",
    "        return term1*(term2 + term3)\n",
    "    \n",
    "    def direct_ionization_cross_section(self,energy):\n",
    "        \"\"\"\n",
    "        Calculate direct ionization cross-section\n",
    "        \"\"\"\n",
    "        is_hydrogenic =  (self.Z - self.stage + 1 == 1) and (self.Z >= 6)\n",
    "        is_he_like = (self.Z - self.stage + 1 == 2) and (self.Z >= 10)\n",
    "        \n",
    "        if is_hydrogenic or is_he_like:\n",
    "            # Fontes cross sections\n",
    "            U = energy/self.ip\n",
    "            A = 1.13\n",
    "            if is_hydrogenic:\n",
    "                B = 1\n",
    "            else:\n",
    "                B = 2\n",
    "            if self.Z < 20:\n",
    "                F = 1\n",
    "            else:\n",
    "                F = (140 + (self.Z/20)**3.2)/141\n",
    "            if self.Z >= 16:\n",
    "                c = -0.28394\n",
    "                d = 1.95270\n",
    "                C = 0.20594\n",
    "                if self.Z > 20:\n",
    "                    C += ((self.Z - 20)/50.5)**1.11\n",
    "                D = 3.70590\n",
    "            else:\n",
    "                c = -0.80414\n",
    "                d = 2.32431\n",
    "                C = 0.14424\n",
    "                D = 3.82652\n",
    "            Qrp = 1./U*(A*np.log(U) + D*(1. - 1./U)**2 + C*U*(1. - 1./U)**4 + (c/U + d/U**2)*(1. - 1./U))\n",
    "            \n",
    "            return B*(np.pi*const.a0.cgs**2)*F*Qrp/(self.ip.to(u.Ry).value**2)\n",
    "                \n",
    "        else:\n",
    "            # Cross-sections from diparams file\n",
    "            cross_section_total = np.zeros(energy.shape)\n",
    "            for ip,bt_c,bt_e,bt_cross_section in zip(self.diparams['ip'],self.diparams['bt_c'],self.diparams['bt_e'],\n",
    "                                                     self.diparams['bt_cross_section']):\n",
    "                U = energy/(ip.to(u.erg))\n",
    "                scaled_energy = 1. - np.log(bt_c)/np.log(U - 1. + bt_c)\n",
    "                f_interp = interp1d(bt_e.value,bt_cross_section.value,\n",
    "                                    kind='cubic',fill_value='extrapolate')\n",
    "                scaled_cross_section = f_interp(scaled_energy.value)*bt_cross_section.unit\n",
    "                # Only nonzero at energies above the ionization potential\n",
    "                scaled_cross_section *= (U.value > 1.)\n",
    "                cross_section = scaled_cross_section*(np.log(U) + 1.)/U/(ip**2)\n",
    "                if not hasattr(cross_section_total,'unit'):\n",
    "                    cross_section_total = cross_section_total*cross_section.unit\n",
    "                cross_section_total += cross_section\n",
    "                \n",
    "            return cross_section_total\n",
    "            \n",
    "    def excitation_autoionization_rate(self):\n",
    "        \"\"\"\n",
    "        Calculate ionization rate due to excitation autoionization\n",
    "        \"\"\"\n",
    "        if self.easplups is None:\n",
    "            return np.zeros(self.temperature.shape)*u.cm**3/u.s\n",
    "        # Collision constant\n",
    "        c = (const.h.cgs**2)/((2.*np.pi*const.m_e.cgs)**(1.5)*np.sqrt(const.k_B.cgs))\n",
    "        kBTE = u.Quantity([(const.k_B.cgs*self.temperature)/(de.to(u.erg)) for de in self.easplups['delta_energy']])\n",
    "        # Descale upsilon\n",
    "        shape = self.easplups['bt_upsilon'].shape\n",
    "        xs = np.tile(np.linspace(0,1,shape[1]),shape[0]).reshape(shape)\n",
    "        args = [xs,self.easplups['bt_upsilon'].value,kBTE.value,self.easplups['bt_c'].value,self.easplups['bt_type']]\n",
    "        upsilon = u.Quantity(list(map(self.burgess_tully_descale,*args)))\n",
    "        # Rate coefficient\n",
    "        rate = c*upsilon*np.exp(-1/kBTE)/np.sqrt(self.temperature[np.newaxis,:])\n",
    "        \n",
    "        return rate.sum(axis=0)\n",
    "    \n",
    "    def ionization_rate(self):\n",
    "        return self.direct_ionization_rate() + self.excitation_autoionization_rate()\n",
    "    \n",
    "    def radiative_recombination_rate(self):\n",
    "        if self.rrparams is None:\n",
    "            return np.zeros(self.temperature.shape)*u.cm**3/u.s\n",
    "        if self.rrparams['fit_type'][0] == 1 or self.rrparams['fit_type'][0] == 2:\n",
    "            A = self.rrparams['A_fit']\n",
    "            B = self.rrparams['B_fit']\n",
    "            if self.rrparams['fit_type'] == 2:\n",
    "                B = B + self.rrparams['C_fit']*np.exp(-self.rrparams['T2_fit']/self.temperature)\n",
    "            T0 = self.rrparams['T0_fit']\n",
    "            T1 = self.rrparams['T1_fit']\n",
    "            \n",
    "            return A/(np.sqrt(self.temperature/T0)*(1 + np.sqrt(self.temperature/T0))**(1. - B)\n",
    "                      *(1. + np.sqrt(self.temperature/T1))**(1. + B))\n",
    "        elif self.rrparams['fit_type'][0] == 3:\n",
    "            return self.rrparams['A_fit']*(self.temperature/(1e4*u.K))**(-self.rrparams['eta_fit'])\n",
    "        else:\n",
    "            raise ValueError('Unrecognized fit type {}'.format(self.rrparams['fit_type']))\n",
    "    \n",
    "    def dielectronic_recombination_rate(self):\n",
    "        if self.drparams is None:\n",
    "            return np.zeros(self.temperature.shape)*u.cm**3/u.s\n",
    "        if self.drparams['fit_type'][0] == 1:\n",
    "            E_over_T = np.outer(self.drparams['E_fit'],1./self.temperature)*(self.drparams['E_fit'].unit/self.temperature.unit)\n",
    "            return self.temperature**(-1.5)*(self.drparams['c_fit'][:,np.newaxis]*np.exp(-E_over_T)).sum(axis=0)\n",
    "        elif self.drparams['fit_type'][0] == 2:\n",
    "            A = self.drparams['A_fit']\n",
    "            B = self.drparams['B_fit']\n",
    "            T0 = self.drparams['T0_fit']\n",
    "            T1 = self.drparams['T1_fit']\n",
    "            return A*self.temperature**(-1.5)*np.exp(-T0/self.temperature)*(1. + B*np.exp(-T1/self.temperature))\n",
    "        else:\n",
    "            raise ValueError('Unrecognized fit type {}'.format(self.drparams['fit_type']))\n",
    "    \n",
    "    def recombination_rate(self):\n",
    "        return self.radiative_recombination_rate() + self.dielectronic_recombination_rate()"
   ]
  },
  {
   "cell_type": "markdown",
   "metadata": {},
   "source": [
    "## Testing"
   ]
  },
  {
   "cell_type": "code",
   "execution_count": 2,
   "metadata": {},
   "outputs": [],
   "source": [
    "temperature = np.logspace(5,8,50)*u.K"
   ]
  },
  {
   "cell_type": "markdown",
   "metadata": {},
   "source": [
    "Create ChiantiPy and Fiasco ion objects"
   ]
  },
  {
   "cell_type": "code",
   "execution_count": null,
   "metadata": {},
   "outputs": [],
   "source": [
    "chp_ion = ch.ion('fe_2',temperature=temperature.value)"
   ]
  },
  {
   "cell_type": "code",
   "execution_count": null,
   "metadata": {},
   "outputs": [],
   "source": [
    "chp_ion.Ip"
   ]
  },
  {
   "cell_type": "code",
   "execution_count": null,
   "metadata": {},
   "outputs": [],
   "source": [
    "fiasco_ion = fiasco.Ion('fe_11',temperature)"
   ]
  },
  {
   "cell_type": "code",
   "execution_count": null,
   "metadata": {},
   "outputs": [],
   "source": [
    "fiasco_ion.scups"
   ]
  },
  {
   "cell_type": "code",
   "execution_count": null,
   "metadata": {},
   "outputs": [],
   "source": [
    "fiasco_ion.element_name"
   ]
  },
  {
   "cell_type": "code",
   "execution_count": null,
   "metadata": {},
   "outputs": [],
   "source": [
    "fiasco_ion.atomic_number"
   ]
  },
  {
   "cell_type": "code",
   "execution_count": null,
   "metadata": {},
   "outputs": [],
   "source": [
    "fiasco_ion.atomic_symbol"
   ]
  },
  {
   "cell_type": "code",
   "execution_count": null,
   "metadata": {},
   "outputs": [],
   "source": [
    "fiasco_ion.ion_name"
   ]
  },
  {
   "cell_type": "code",
   "execution_count": null,
   "metadata": {},
   "outputs": [],
   "source": [
    "fiasco_ion._ion_name"
   ]
  },
  {
   "cell_type": "markdown",
   "metadata": {},
   "source": [
    "### Ionization"
   ]
  },
  {
   "cell_type": "markdown",
   "metadata": {},
   "source": [
    "Test excitation autoionization rate"
   ]
  },
  {
   "cell_type": "code",
   "execution_count": null,
   "metadata": {},
   "outputs": [],
   "source": [
    "chp_ion.eaRate()"
   ]
  },
  {
   "cell_type": "code",
   "execution_count": null,
   "metadata": {},
   "outputs": [],
   "source": [
    "plt.figure(figsize=(10,10))\n",
    "plt.plot(temperature,fiasco_ion.excitation_autoionization_rate())\n",
    "plt.plot(temperature,chp_ion.EaRate['rate'],marker='o',ls='',markevery=5)\n",
    "plt.xscale('log')\n",
    "plt.yscale('log')\n",
    "plt.ylim([1e-20,1e-8])"
   ]
  },
  {
   "cell_type": "markdown",
   "metadata": {},
   "source": [
    "Test direct ionization cross-section"
   ]
  },
  {
   "cell_type": "code",
   "execution_count": null,
   "metadata": {},
   "outputs": [],
   "source": [
    "xgl,wgl = np.polynomial.laguerre.laggauss(12)\n",
    "energy = fiasco_ion.ip + np.outer(const.k_B.cgs*fiasco_ion.temperature,xgl)*(const.k_B.cgs.unit*fiasco_ion.temperature.unit)"
   ]
  },
  {
   "cell_type": "code",
   "execution_count": null,
   "metadata": {},
   "outputs": [],
   "source": [
    "chp_cross_section = np.empty(energy.shape)\n",
    "fiasco_cross_section = np.empty(energy.shape)\n",
    "for i in range(energy.shape[1]):\n",
    "    tmp = fiasco_ion.direct_ionization_cross_section(energy[:,i])\n",
    "    fiasco_cross_section[:,i] = tmp\n",
    "    chp_ion.diCross(energy[:,i].to(u.eV).value)\n",
    "    chp_cross_section[:,i] = chp_ion.DiCross['cross']"
   ]
  },
  {
   "cell_type": "code",
   "execution_count": null,
   "metadata": {},
   "outputs": [],
   "source": [
    "plt.plot(fiasco_ion.temperature,fiasco_cross_section)\n",
    "plt.plot(chp_ion.Temperature,chp_cross_section,marker='o',ls='',markevery=5)\n",
    "plt.xscale('log')\n",
    "plt.yscale('log')"
   ]
  },
  {
   "cell_type": "markdown",
   "metadata": {},
   "source": [
    "Test direct ionization rate"
   ]
  },
  {
   "cell_type": "code",
   "execution_count": null,
   "metadata": {},
   "outputs": [],
   "source": [
    "chp_ion.diRate()"
   ]
  },
  {
   "cell_type": "code",
   "execution_count": null,
   "metadata": {},
   "outputs": [],
   "source": [
    "plt.plot(fiasco_ion.temperature,fiasco_ion.direct_ionization_rate())\n",
    "plt.plot(chp_ion.Temperature,chp_ion.DiRate['rate'],'o',markevery=5)\n",
    "plt.xscale('log')\n",
    "plt.yscale('log')\n",
    "plt.ylim([1e-12,1e-8])"
   ]
  },
  {
   "cell_type": "markdown",
   "metadata": {},
   "source": [
    "### Recombination"
   ]
  },
  {
   "cell_type": "code",
   "execution_count": null,
   "metadata": {},
   "outputs": [],
   "source": [
    "chp_ion.recombRate()"
   ]
  },
  {
   "cell_type": "code",
   "execution_count": null,
   "metadata": {},
   "outputs": [],
   "source": [
    "plt.plot(fiasco_ion.temperature,fiasco_ion.recombination_rate())\n",
    "plt.plot(fiasco_ion.temperature,fiasco_ion.radiative_recombination_rate())\n",
    "plt.plot(fiasco_ion.temperature,fiasco_ion.dielectronic_recombination_rate())\n",
    "plt.plot(chp_ion.Temperature,chp_ion.RecombRate['rate'],'o',markevery=5)\n",
    "plt.plot(chp_ion.Temperature,chp_ion.RrRate['rate'],'o',markevery=5)\n",
    "plt.plot(chp_ion.Temperature,chp_ion.DrRate['rate'],'o',markevery=5)\n",
    "plt.xscale('log')\n",
    "plt.yscale('log')\n",
    "plt.ylim([1e-12,5e-9])"
   ]
  },
  {
   "cell_type": "code",
   "execution_count": null,
   "metadata": {},
   "outputs": [],
   "source": [
    "foo = ch.ion('ca_7',temperature=temperature.value)\n",
    "foo.recombRate()"
   ]
  },
  {
   "cell_type": "code",
   "execution_count": null,
   "metadata": {},
   "outputs": [],
   "source": [
    "plt.plot(temperature,\n",
    "         fiasco.Ion('ca_7',temperature).recombination_rate(),'k')\n",
    "plt.plot(temperature,\n",
    "         fiasco.Ion('ca_7',temperature).dielectronic_recombination_rate())\n",
    "plt.plot(temperature,\n",
    "         fiasco.Ion('ca_7',temperature).radiative_recombination_rate())\n",
    "plt.plot(temperature, foo.RecombRate['rate'],'ko',markevery=5)\n",
    "plt.plot(temperature, foo.DrRate['rate'],'o',markevery=5)\n",
    "plt.plot(temperature, foo.RrRate['rate'],'o',markevery=5)\n",
    "plt.xscale('log')\n",
    "plt.yscale('log')\n",
    "plt.ylim([1e-15,1e-9])"
   ]
  },
  {
   "cell_type": "markdown",
   "metadata": {},
   "source": [
    "### Ionization Equilibrium"
   ]
  },
  {
   "cell_type": "code",
   "execution_count": null,
   "metadata": {},
   "outputs": [],
   "source": [
    "iron = fiasco.Element('Fe',temperature)"
   ]
  },
  {
   "cell_type": "code",
   "execution_count": null,
   "metadata": {},
   "outputs": [],
   "source": [
    "a_matrix = np.zeros(temperature.shape+(iron[0].Z+1,iron[0].Z+1))"
   ]
  },
  {
   "cell_type": "code",
   "execution_count": null,
   "metadata": {},
   "outputs": [],
   "source": [
    "for i in range(1,iron[0].Z):\n",
    "    a_matrix[:,i,i] = -(iron[i+1].ionization_rate() + iron[i].recombination_rate()).value\n",
    "    a_matrix[:,i,i-1] = iron[i].ionization_rate().value\n",
    "    a_matrix[:,i,i+1] = iron[i+1].recombination_rate().value\n",
    "a_matrix[:,0,0] = -iron[1].ionization_rate().value\n",
    "a_matrix[:,0,1] = iron[1].recombination_rate().value\n",
    "a_matrix[:,iron[0].Z,iron[0].Z] = -iron[iron[0].Z-1].recombination_rate().value\n",
    "a_matrix[:,iron[0].Z,iron[0].Z-1] = iron[iron[0].Z-1].ionization_rate().value"
   ]
  },
  {
   "cell_type": "code",
   "execution_count": null,
   "metadata": {},
   "outputs": [],
   "source": [
    "uu,ss,vv = np.linalg.svd(a_matrix)"
   ]
  },
  {
   "cell_type": "code",
   "execution_count": null,
   "metadata": {},
   "outputs": [],
   "source": [
    "yy = vv[:,-1,:]\n",
    "yy = np.where(yy<0,0,yy)\n",
    "yy /= np.sum(yy,axis=1)[:,np.newaxis]"
   ]
  },
  {
   "cell_type": "code",
   "execution_count": null,
   "metadata": {},
   "outputs": [],
   "source": [
    "yy_manual = np.zeros(temperature.shape+(iron[0].Z+1,))\n",
    "yy_manual[:,1] = 0.5\n",
    "for i in range(iron[0].Z+1):\n",
    "    if i<1:\n",
    "        yy_manual[:,i] = iron[i].recombination_rate()/iron[i].ionization_rate()*yy_manual[:,1]\n",
    "    elif i>1:\n",
    "        yy_manual[:,i] = iron[i-1].recombination_rate()/iron[i-1].ionization_rate()*yy_manual[:,i-1]\n",
    "    else:\n",
    "        continue\n",
    "yy_manual /= np.sum(yy_manual,axis=1)[:,np.newaxis]"
   ]
  },
  {
   "cell_type": "code",
   "execution_count": null,
   "metadata": {},
   "outputs": [],
   "source": [
    "plt.figure(figsize=(10,10))\n",
    "plt.plot(temperature,yy_manual)\n",
    "for ion_name in iron.ions:\n",
    "    tmp = fiasco.IonBase(ion_name)\n",
    "    plt.plot(tmp.ioneq['chianti']['temperature'],tmp.ioneq['chianti']['ionization_fraction'],ls='--')\n",
    "plt.xscale('log')"
   ]
  },
  {
   "cell_type": "markdown",
   "metadata": {},
   "source": [
    "## Comparisons to IDL Results"
   ]
  },
  {
   "cell_type": "code",
   "execution_count": null,
   "metadata": {},
   "outputs": [],
   "source": [
    "runner = hissw.ScriptMaker(ssw_packages=['chianti'],ssw_paths=['chianti'])"
   ]
  },
  {
   "cell_type": "code",
   "execution_count": null,
   "metadata": {},
   "outputs": [],
   "source": [
    "script = \"\"\"\n",
    "energy = {{energy}}\n",
    "temperature = {{temperature}}\n",
    "cross = ioniz_cross('fe_11',energy)\n",
    "rate = ioniz_rate('fe_11',temperature)\n",
    "\"\"\""
   ]
  },
  {
   "cell_type": "code",
   "execution_count": null,
   "metadata": {},
   "outputs": [],
   "source": [
    "res = runner.run([(script,{'energy':energy[:,0].to(u.eV).value.tolist(),\n",
    "                           'temperature':temperature.value.tolist()})],\n",
    "                 save_vars=['cross','energy','rate'],verbose=True)"
   ]
  },
  {
   "cell_type": "code",
   "execution_count": null,
   "metadata": {},
   "outputs": [],
   "source": [
    "chp_ion.eaCross(energy=energy[:,0].to(u.eV).value)"
   ]
  },
  {
   "cell_type": "code",
   "execution_count": null,
   "metadata": {},
   "outputs": [],
   "source": [
    "plt.plot(energy[:,0].to(u.eV),fiasco_ion.direct_ionization_cross_section(energy[:,0]))\n",
    "plt.plot(res['energy'],res['cross'],'--')\n",
    "plt.plot((energy[:,0].to(u.eV),chp_cross_section[:,0]\n",
    "         #+chp_ion.EaCross['cross']\n",
    "         ),\n",
    "         'o',markevery=2)\n",
    "#plt.plot(energy[:,0].to(u.eV),chp_ion.EaCross['cross'],'>')\n",
    "plt.plot(energy[:,0].to(u.eV),chp_cross_section[:,0],'s',markevery=5)\n",
    "plt.xscale('log')\n",
    "plt.yscale('log')\n",
    "plt.ylim([1e-20,2e-18])"
   ]
  },
  {
   "cell_type": "code",
   "execution_count": null,
   "metadata": {},
   "outputs": [],
   "source": [
    "chp_ion.ionizRate()"
   ]
  },
  {
   "cell_type": "code",
   "execution_count": null,
   "metadata": {},
   "outputs": [],
   "source": [
    "plt.plot(temperature,fiasco_ion.ionization_rate())\n",
    "plt.plot(chp_ion.Temperature,chp_ion.IonizRate['rate'],'o',markevery=7)\n",
    "#plt.plot(temperature,res['rate'],'^',markevery=5)\n",
    "plt.ylim([1e-12,1e-8])\n",
    "plt.xscale('log')\n",
    "plt.yscale('log')"
   ]
  },
  {
   "cell_type": "markdown",
   "metadata": {},
   "source": [
    "## Sandbox"
   ]
  },
  {
   "cell_type": "code",
   "execution_count": null,
   "metadata": {},
   "outputs": [],
   "source": [
    "plasmapy.atomic.atomic_number('26')"
   ]
  },
  {
   "cell_type": "code",
   "execution_count": null,
   "metadata": {},
   "outputs": [],
   "source": [
    "plasmapy.atomic.atomic_symbol('Iron')"
   ]
  },
  {
   "cell_type": "code",
   "execution_count": null,
   "metadata": {},
   "outputs": [],
   "source": [
    "plasmapy.atomic.element_name(26)"
   ]
  },
  {
   "cell_type": "code",
   "execution_count": null,
   "metadata": {},
   "outputs": [],
   "source": [
    "'26'.capitalize()"
   ]
  },
  {
   "cell_type": "code",
   "execution_count": 9,
   "metadata": {},
   "outputs": [],
   "source": [
    "foo = fiasco.Element('iron',temperature)"
   ]
  },
  {
   "cell_type": "code",
   "execution_count": 14,
   "metadata": {},
   "outputs": [
    {
     "data": {
      "text/plain": [
       "11"
      ]
     },
     "execution_count": 14,
     "metadata": {},
     "output_type": "execute_result"
    }
   ],
   "source": [
    "foo[10].ionization_stage"
   ]
  },
  {
   "cell_type": "code",
   "execution_count": 15,
   "metadata": {},
   "outputs": [
    {
     "name": "stdout",
     "output_type": "stream",
     "text": [
      "iron 26 Fe\n"
     ]
    }
   ],
   "source": [
    "print(foo.element_name,foo.atomic_number,foo.atomic_symbol)"
   ]
  },
  {
   "cell_type": "code",
   "execution_count": 11,
   "metadata": {},
   "outputs": [
    {
     "data": {
      "text/plain": [
       "Element\n",
       "-------\n",
       "Fe (26) -- iron\n",
       "\n",
       "Available Ions\n",
       "--------------\n",
       "Fe 1\n",
       "Fe 2\n",
       "Fe 3\n",
       "Fe 4\n",
       "Fe 5\n",
       "Fe 6\n",
       "Fe 7\n",
       "Fe 8\n",
       "Fe 9\n",
       "Fe 10\n",
       "Fe 11\n",
       "Fe 12\n",
       "Fe 13\n",
       "Fe 14\n",
       "Fe 15\n",
       "Fe 16\n",
       "Fe 17\n",
       "Fe 18\n",
       "Fe 19\n",
       "Fe 20\n",
       "Fe 21\n",
       "Fe 22\n",
       "Fe 23\n",
       "Fe 24\n",
       "Fe 25\n",
       "Fe 26\n",
       "Fe 27"
      ]
     },
     "execution_count": 11,
     "metadata": {},
     "output_type": "execute_result"
    }
   ],
   "source": [
    "foo"
   ]
  },
  {
   "cell_type": "code",
   "execution_count": null,
   "metadata": {},
   "outputs": [],
   "source": []
  }
 ],
 "metadata": {
  "kernelspec": {
   "display_name": "Python [conda env:fiasco]",
   "language": "python",
   "name": "conda-env-fiasco-py"
  },
  "language_info": {
   "codemirror_mode": {
    "name": "ipython",
    "version": 3
   },
   "file_extension": ".py",
   "mimetype": "text/x-python",
   "name": "python",
   "nbconvert_exporter": "python",
   "pygments_lexer": "ipython3",
   "version": "3.6.2"
  }
 },
 "nbformat": 4,
 "nbformat_minor": 2
}
