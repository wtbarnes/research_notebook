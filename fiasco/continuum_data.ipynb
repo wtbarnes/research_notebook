{
 "cells": [
  {
   "cell_type": "markdown",
   "metadata": {},
   "source": [
    "# Continuum Data\n",
    "How does the continuum data fit into our data parsing/storage model that we've implemented thus far?"
   ]
  },
  {
   "cell_type": "code",
   "execution_count": 1,
   "metadata": {
    "collapsed": true
   },
   "outputs": [],
   "source": [
    "import os"
   ]
  },
  {
   "cell_type": "code",
   "execution_count": 2,
   "metadata": {
    "collapsed": true
   },
   "outputs": [],
   "source": [
    "chianti_dbase = '/Users/willbarnes/Documents/work/ssw/chianti/'"
   ]
  },
  {
   "cell_type": "code",
   "execution_count": 22,
   "metadata": {
    "collapsed": true
   },
   "outputs": [],
   "source": [
    "with open(os.path.join(chianti_dbase,'continuum','heseq_2photon.dat'),'r') as f:\n",
    "    lines = f.readlines()"
   ]
  },
  {
   "cell_type": "code",
   "execution_count": 26,
   "metadata": {},
   "outputs": [
    {
     "data": {
      "text/plain": [
       "['2',\n",
       " '5.094e+01',\n",
       " '0.000',\n",
       " '0.153',\n",
       " '0.495',\n",
       " '0.854',\n",
       " '1.176',\n",
       " '1.457',\n",
       " '1.696',\n",
       " '1.902',\n",
       " '2.081',\n",
       " '2.218',\n",
       " '2.356',\n",
       " '2.454',\n",
       " '2.552',\n",
       " '2.631',\n",
       " '2.689',\n",
       " '2.748',\n",
       " '2.788',\n",
       " '2.807',\n",
       " '2.846',\n",
       " '2.846',\n",
       " '2.846',\n",
       " '2.846',\n",
       " '2.846',\n",
       " '2.807',\n",
       " '2.788',\n",
       " '2.748',\n",
       " '2.689',\n",
       " '2.631',\n",
       " '2.552',\n",
       " '2.454',\n",
       " '2.356',\n",
       " '2.218',\n",
       " '2.081',\n",
       " '1.902',\n",
       " '1.696',\n",
       " '1.457',\n",
       " '1.176',\n",
       " '0.854',\n",
       " '0.495',\n",
       " '0.153',\n",
       " '0.000']"
      ]
     },
     "execution_count": 26,
     "metadata": {},
     "output_type": "execute_result"
    }
   ],
   "source": [
    "lines[1].split()"
   ]
  },
  {
   "cell_type": "code",
   "execution_count": 16,
   "metadata": {},
   "outputs": [
    {
     "data": {
      "text/plain": [
       "['6', '41']"
      ]
     },
     "execution_count": 16,
     "metadata": {},
     "output_type": "execute_result"
    }
   ],
   "source": [
    "lines[0].split()"
   ]
  },
  {
   "cell_type": "code",
   "execution_count": 8,
   "metadata": {},
   "outputs": [
    {
     "name": "stdout",
     "output_type": "stream",
     "text": [
      "  10000.00      1584.893      1.076466    \n",
      "  10000.00      1995.262      1.080763    \n",
      "  10000.00      2511.886      1.085136    \n",
      "  10000.00      3162.278      1.089429    \n",
      "  10000.00      3981.072      1.093450    \n",
      "  10000.00      5011.872      1.097171    \n",
      "  10000.00      6309.573      1.100496    \n",
      "  10000.00      7943.282      1.102878    \n",
      "  10000.00      10000.00      1.103985    \n",
      "------------------------------------------\n"
     ]
    }
   ],
   "source": [
    "%%bash \n",
    "tail -n 10 /Users/willbarnes/Documents/work/ssw/chianti/continuum/gffgu.dat"
   ]
  },
  {
   "cell_type": "code",
   "execution_count": null,
   "metadata": {
    "collapsed": true
   },
   "outputs": [],
   "source": []
  }
 ],
 "metadata": {
  "kernelspec": {
   "display_name": "Python [conda env:fiasco]",
   "language": "python",
   "name": "conda-env-fiasco-py"
  },
  "language_info": {
   "codemirror_mode": {
    "name": "ipython",
    "version": 3
   },
   "file_extension": ".py",
   "mimetype": "text/x-python",
   "name": "python",
   "nbconvert_exporter": "python",
   "pygments_lexer": "ipython3",
   "version": "3.6.2"
  }
 },
 "nbformat": 4,
 "nbformat_minor": 2
}
