{
 "cells": [
  {
   "cell_type": "markdown",
   "metadata": {},
   "source": [
    "# Continuum Data\n",
    "How does the continuum data fit into our data parsing/storage model that we've implemented thus far?"
   ]
  },
  {
   "cell_type": "code",
   "execution_count": 1,
   "metadata": {},
   "outputs": [
    {
     "name": "stdout",
     "output_type": "stream",
     "text": [
      " using cli\n",
      " using CLI for selections\n"
     ]
    }
   ],
   "source": [
    "import os\n",
    "import matplotlib.pyplot as plt\n",
    "import numpy as np\n",
    "import h5py\n",
    "import fiasco\n",
    "import plasmapy\n",
    "import astropy.units as u\n",
    "import ChiantiPy.tools.io as ch_io\n",
    "os.environ['XUVTOP'] = '/Users/willbarnes/ssw/packages/chianti/dbase'\n",
    "\n",
    "%matplotlib inline"
   ]
  },
  {
   "cell_type": "markdown",
   "metadata": {},
   "source": [
    "The relevant continuum files that we need to read are:\n",
    "* ~~`gffgu.dat`~~ -- no ion/element specific information (Sutherland)\n",
    "* ~~`gffint.dat`~~ -- no ion/element specific information (Sutherland)\n",
    "* ~~`heseq_2photon.dat`~~ -- element specific information, can be split across multiple element datasets\n",
    "* ~~`hseq_2photon.dat`~~ -- element specific information, can be split across multiple element datasets\n",
    "* ~~`itoh.dat`~~ -- element specific information, can be split across multiple element datasets\n",
    "* ~~`klgfb.dat`~~ -- no ion/element specific information (only principal quantum number and angular momentum)\n",
    "* ~~`verner_short.txt`~~ -- ion and element specific information, can be split across multiple ion datasets\n"
   ]
  },
  {
   "cell_type": "markdown",
   "metadata": {},
   "source": [
    "Need to implement the following three methods for continuum calculations\n",
    "* `free_free_continuum` (i.e. bremsstrahlung)\n",
    "* `free_bound_continuum`\n",
    "* `two_photon_continuum`\n",
    "\n",
    "Then there's also the issue of radiative losses associated with each of these processes. "
   ]
  },
  {
   "cell_type": "markdown",
   "metadata": {},
   "source": [
    "## Parser Prototypes"
   ]
  },
  {
   "cell_type": "code",
   "execution_count": null,
   "metadata": {},
   "outputs": [],
   "source": [
    "class GffguParser(fiasco.io.GenericParser):\n",
    "    filetype = 'gffgu'\n",
    "    dtypes = [float, float, float]\n",
    "    units = [u.dimensionless_unscaled, u.dimensionless_unscaled, u.dimensionless_unscaled]\n",
    "    headings = ['u', 'gamma_squared', 'gaunt_factor']\n",
    "    descriptions = ['scaled frequency','scaled temperature','free-free Gaunt factor']\n",
    "    \n",
    "    def __init__(self, filename, **kwargs):\n",
    "        super().__init__(filename, **kwargs)\n",
    "        self.full_path = os.path.join(self.ascii_dbase_root, 'continuum', filename)\n",
    "        self.body_index = 5\n",
    "    \n",
    "    def preprocessor(self, table, line, index):\n",
    "        if index >= self.body_index and '--' not in line:\n",
    "            super().preprocessor(table, line, index)\n",
    "    \n",
    "    def extract_footer(self, lines):\n",
    "        comment = []\n",
    "        for i, l in enumerate(lines):\n",
    "            if i <= self.body_index - 3:\n",
    "                comment.append(l)\n",
    "            else:\n",
    "                break\n",
    "        \n",
    "        footer = '\\n'.join([l.strip() for l in comment ])\n",
    "        return footer\n",
    "    \n",
    "    def to_hdf5(self, hf, df, **kwargs):\n",
    "        grp_name = '/'.join(['continuum', self.filetype])\n",
    "        if grp_name not in hf:\n",
    "            grp = hf.create_group(grp_name)\n",
    "            grp.attrs['chianti_version'] = df.meta['chianti_version']\n",
    "            grp.attrs['footer'] = df.meta['footer']\n",
    "        else:\n",
    "            grp = hf[grp_name]\n",
    "            \n",
    "        for name in df.colnames:\n",
    "            col = df[name]\n",
    "            if type(col) == u.Quantity:\n",
    "                data = col.value\n",
    "            else:\n",
    "                data = col.data\n",
    "            if '<U' in data.dtype.str:\n",
    "                numchar = data.dtype.str[2:]\n",
    "                data = data.astype('|S{}'.format(numchar))\n",
    "            if name in grp:\n",
    "                ds = grp[name]\n",
    "            else:\n",
    "                if data.dtype == np.dtype('O'):\n",
    "                    ragged_dtype = h5py.special_dtype(vlen=np.dtype('float64'))\n",
    "                    ds = grp.create_dataset(name, data=data, dtype=ragged_dtype)\n",
    "                else:\n",
    "                    ds = grp.create_dataset(name, data=data, dtype=data.dtype)\n",
    "            if col.unit is None:\n",
    "                ds.attrs['unit'] = 'SKIP'\n",
    "            else:\n",
    "                ds.attrs['unit'] = col.unit.to_string()\n",
    "            ds.attrs['description'] = df.meta['descriptions'][name]\n",
    "            "
   ]
  },
  {
   "cell_type": "code",
   "execution_count": null,
   "metadata": {},
   "outputs": [],
   "source": [
    "class GffintParser(GffguParser):\n",
    "    filetype = 'gffint'\n",
    "    dtypes = [float, float, float, float, float]\n",
    "    units = [u.dimensionless_unscaled, u.dimensionless_unscaled, u.dimensionless_unscaled, u.dimensionless_unscaled, u.dimensionless_unscaled]\n",
    "    headings = ['log_gamma_squared', 'gaunt_factor', 's1', 's2', 's3']\n",
    "    descriptions = ['log scaled temperature', 'total free-free Gaunt factor', 'spline coefficient',\n",
    "                    'spline coefficient', 'spline coefficient']\n",
    "    \n",
    "    def __init__(self, filename, **kwargs):\n",
    "        super().__init__(filename, **kwargs)\n",
    "        self.body_index = 4\n",
    "        "
   ]
  },
  {
   "cell_type": "code",
   "execution_count": null,
   "metadata": {},
   "outputs": [],
   "source": [
    "class KlgfbParser(fiasco.io.GenericParser):\n",
    "    filetype = 'klgfb'\n",
    "    dtypes = [int, int, float, float]\n",
    "    units = [None, None, u.dimensionless_unscaled, u.dimensionless_unscaled]\n",
    "    headings = ['n', 'l', 'log_pe', 'log_gaunt_factor']\n",
    "    descriptions = ['principal quantum number', 'orbital angular momentum number', \n",
    "                    'log photon energy divided by ionization potential', 'log free-bound Gaunt factor']\n",
    "    \n",
    "    def __init__(self, filename, **kwargs):\n",
    "        super().__init__(filename, **kwargs)\n",
    "        self.full_path = os.path.join(self.ascii_dbase_root, 'continuum', filename)\n",
    "        \n",
    "    def preprocessor(self, table, line, index):\n",
    "        if index == 0:\n",
    "            pass\n",
    "        elif index == 1:\n",
    "            self._photon_energy = np.array(line.strip().split(), dtype=float)\n",
    "        else:\n",
    "            line = line.strip().split()\n",
    "            gf = np.array(line[2:], dtype=float)\n",
    "            table.append(line[:2] + [self._photon_energy, gf])\n",
    "            \n",
    "    def extract_footer(self, *args):\n",
    "        return \"\"\"Log of free-bound Gaunt factors as a function of log of photon energy divided by ionization potential\n",
    "From Karzas, W. J. and Latter, R., 1961, ApJS, 6, 167\n",
    "\"\"\"\n",
    "    \n",
    "    def to_hdf5(self, hf, df, **kwargs):\n",
    "        grp_name = '/'.join(['continuum', self.filetype])\n",
    "        if grp_name not in hf:\n",
    "            grp = hf.create_group(grp_name)\n",
    "            grp.attrs['chianti_version'] = df.meta['chianti_version']\n",
    "            grp.attrs['footer'] = df.meta['footer']\n",
    "        else:\n",
    "            grp = hf[grp_name]\n",
    "            \n",
    "        for name in df.colnames:\n",
    "            col = df[name]\n",
    "            if type(col) == u.Quantity:\n",
    "                data = col.value\n",
    "            else:\n",
    "                data = col.data\n",
    "            if '<U' in data.dtype.str:\n",
    "                numchar = data.dtype.str[2:]\n",
    "                data = data.astype('|S{}'.format(numchar))\n",
    "            if name in grp:\n",
    "                ds = grp[name]\n",
    "            else:\n",
    "                if data.dtype == np.dtype('O'):\n",
    "                    ragged_dtype = h5py.special_dtype(vlen=np.dtype('float64'))\n",
    "                    ds = grp.create_dataset(name, data=data, dtype=ragged_dtype)\n",
    "                else:\n",
    "                    ds = grp.create_dataset(name, data=data, dtype=data.dtype)\n",
    "            if col.unit is None:\n",
    "                ds.attrs['unit'] = 'SKIP'\n",
    "            else:\n",
    "                ds.attrs['unit'] = col.unit.to_string()\n",
    "            ds.attrs['description'] = df.meta['descriptions'][name]\n",
    "            "
   ]
  },
  {
   "cell_type": "code",
   "execution_count": null,
   "metadata": {},
   "outputs": [],
   "source": [
    "class VernerParser(fiasco.io.GenericParser):\n",
    "    filetype = 'verner_short'\n",
    "    dtypes = [int, int, int, int, float, float, float, float, float, float]\n",
    "    units = [None, None, None, None, u.eV, u.eV, u.megabarn, u.dimensionless_unscaled, u.dimensionless_unscaled,\n",
    "             u.dimensionless_unscaled]\n",
    "    headings = ['Z', 'n_electrons', 'n', 'l', 'E_thresh', 'E_0_fit', 'sigma_0', 'y_a_fit', 'P_fit', 'y_w_fit']\n",
    "    descriptions = ['atomic number', 'number of electrons', 'principal quantum number',\n",
    "                    'orbital angular momentum number', 'threshold energy below which cross-section is 0',\n",
    "                    'E_0 fit parameter', 'nominal value of cross-section', 'y_a fit parameter', 'P fit parameter',\n",
    "                    'y_w fit parameter']\n",
    "    \n",
    "    def __init__(self, filename, **kwargs):\n",
    "        super().__init__(filename, **kwargs)\n",
    "        self.full_path = os.path.join(self.ascii_dbase_root, 'continuum', filename)\n",
    "        \n",
    "    def extract_footer(self, *args):\n",
    "        return \"\"\"Fit parameters for calculating partial photoionization cross-sections for individual ions\n",
    "From Verner, D. A . and Yakovlev, D. G., 1995, A&AS, 109, 125\n",
    "\"\"\"\n",
    "    \n",
    "    def to_hdf5(self, hf, df, **kwargs):\n",
    "        for row in df:\n",
    "            el = plasmapy.atomic.atomic_symbol(int(row['Z'])).lower()\n",
    "            stage = row['Z'] - row['n_electrons'] + 1\n",
    "            grp_name = f'{el}/{el}_{stage}/continuum/{self.filetype}'\n",
    "            if grp_name not in hf:\n",
    "                grp = hf.create_group(grp_name)\n",
    "                grp.attrs['chianti_version'] = df.meta['chianti_version']\n",
    "                grp.attrs['footer'] = df.meta['footer']\n",
    "            else:\n",
    "                grp = hf[grp_name]\n",
    "            for col in row.colnames:\n",
    "                if col == 'Z' or col == 'n_electrons':\n",
    "                    continue\n",
    "                ds = grp.create_dataset(col, data=row[col])\n",
    "                ds.attrs['description'] = df.meta['descriptions'][col]\n",
    "                if not hasattr(row[col], 'unit'):\n",
    "                    ds.attrs['unit'] = 'SKIP'\n",
    "                else:\n",
    "                    ds.attrs['unit'] = row[col].unit.to_string()"
   ]
  },
  {
   "cell_type": "code",
   "execution_count": null,
   "metadata": {},
   "outputs": [],
   "source": [
    "class ItohParser(fiasco.io.GenericParser):\n",
    "    filetype = 'itoh'\n",
    "    dtypes = [int, float]\n",
    "    units = [None, u.dimensionless_unscaled]\n",
    "    headings = ['Z', 'a']\n",
    "    descriptions = ['atomic number', 'fit coefficient']\n",
    "    \n",
    "    def __init__(self, filename, **kwargs):\n",
    "        super().__init__(filename, **kwargs)\n",
    "        self.full_path = os.path.join(self.ascii_dbase_root, 'continuum', filename)\n",
    "        \n",
    "    def preprocessor(self, table, line, index):\n",
    "        a_matrix = np.array(line.strip().split()).reshape((11,11))\n",
    "        table.append([index+1] + [a_matrix])\n",
    "    \n",
    "    def extract_footer(self, *args):\n",
    "        return \"\"\"Analytic fit coefficients as a function of scaled temperature and energy for calculating the relativistic free-free Gaunt factor\n",
    "From Itoh, N., et al., ApJS, 2000, 128, 125\n",
    "\"\"\"\n",
    "    \n",
    "    def to_hdf5(self, hf, df, **kwargs):\n",
    "        for row in df:\n",
    "            el = plasmapy.atomic.atomic_symbol(int(row['Z'])).lower()\n",
    "            grp_name = f'{el}/continuum/{self.filetype}'\n",
    "            if grp_name not in hf:\n",
    "                grp = hf.create_group(grp_name)\n",
    "                grp.attrs['chianti_version'] = df.meta['chianti_version']\n",
    "                grp.attrs['footer'] = df.meta['footer']\n",
    "            else:\n",
    "                grp = hf[grp_name]\n",
    "            for col in row.colnames:\n",
    "                if col == 'Z':\n",
    "                    continue\n",
    "                ds = grp.create_dataset(col, data=row[col])\n",
    "                ds.attrs['description'] = df.meta['descriptions'][col]\n",
    "                if not hasattr(row[col], 'unit'):\n",
    "                    ds.attrs['unit'] = 'SKIP'\n",
    "                else:\n",
    "                    ds.attrs['unit'] = row[col].unit.to_string()"
   ]
  },
  {
   "cell_type": "code",
   "execution_count": null,
   "metadata": {},
   "outputs": [],
   "source": [
    "class HSeqParser(fiasco.io.GenericParser):\n",
    "    filetype = 'hseq_2photon'\n",
    "    dtypes = [int, float, int, float, float, float]\n",
    "    units = [None, u.dimensionless_unscaled, None, 1/u.s, 1/u.s, u.dimensionless_unscaled]\n",
    "    headings = ['Z', 'y', 'Z_0', 'A', 'A_sum', 'psi']\n",
    "    descriptions = ['atomic number', 'fraction of energy carried by one of the two photons', 'nominal atomic number',\n",
    "                    'radiative decay rate', 'summed radiative decay rate', 'spectral distribution function']\n",
    "    \n",
    "    def __init__(self, filename, **kwargs):\n",
    "        super().__init__(filename, **kwargs)\n",
    "        self.full_path = os.path.join(self.ascii_dbase_root, 'continuum', filename)\n",
    "        \n",
    "    def preprocessor(self, table, line, index):\n",
    "        if index == 0:\n",
    "            self._y0 = np.array(line.strip().split(), dtype=float)\n",
    "        elif index == 1:\n",
    "            self._z0 = np.array(line.strip().split(), dtype=float)\n",
    "        else:\n",
    "            line = line.strip().split()\n",
    "            table.append([line[0]] + [self._y0] + [self._z0] + line[1:3] + [np.array(line[3:])])\n",
    "    \n",
    "    def extract_footer(self, *args):\n",
    "        return \"\"\"Information needed for calculating two-photon continuum emission for hydrogen isoelectronic sequence\n",
    "Radiative decay rates from Parpia, F. A., and Johnson, W. R., 1982, Phys. Rev. A, 26, 1142\n",
    "Spectral distribution function from Goldman, S.P. and Drake, G.W.F., 1981, Phys Rev A, 24, 183\n",
    "\"\"\"\n",
    "    \n",
    "    def to_hdf5(self, hf, df, **kwargs):\n",
    "        for row in df:\n",
    "            el = plasmapy.atomic.atomic_symbol(int(row['Z'])).lower()\n",
    "            grp_name = f'{el}/continuum/{self.filetype}'\n",
    "            if grp_name not in hf:\n",
    "                grp = hf.create_group(grp_name)\n",
    "                grp.attrs['chianti_version'] = df.meta['chianti_version']\n",
    "                grp.attrs['footer'] = df.meta['footer']\n",
    "            else:\n",
    "                grp = hf[grp_name]\n",
    "            for col in row.colnames:\n",
    "                if col == 'Z':\n",
    "                    continue\n",
    "                ds = grp.create_dataset(col, data=row[col])\n",
    "                ds.attrs['description'] = df.meta['descriptions'][col]\n",
    "                if not hasattr(row[col], 'unit'):\n",
    "                    ds.attrs['unit'] = 'SKIP'\n",
    "                else:\n",
    "                    ds.attrs['unit'] = row[col].unit.to_string()"
   ]
  },
  {
   "cell_type": "code",
   "execution_count": null,
   "metadata": {},
   "outputs": [],
   "source": [
    "class HeSeqParser(fiasco.io.GenericParser):\n",
    "    filetype = 'heseq_2photon'\n",
    "    dtypes = [int, float, float, float]\n",
    "    units = [None, u.dimensionless_unscaled, 1/u.s, u.dimensionless_unscaled]\n",
    "    headings = ['Z', 'y', 'A', 'psi']\n",
    "    descriptions = ['atomic number', 'fraction of energy carried by one of the two photons', 'radiative decay rate',\n",
    "                    'spectral distribution function']\n",
    "    \n",
    "    def __init__(self, filename, **kwargs):\n",
    "        super().__init__(filename, **kwargs)\n",
    "        self.full_path = os.path.join(self.ascii_dbase_root, 'continuum', filename)\n",
    "        \n",
    "    def preprocessor(self, table, line, index):\n",
    "        if index == 0:\n",
    "            self._y0 = np.array(line.strip().split(), dtype=float)\n",
    "        else:\n",
    "            line = line.strip().split()\n",
    "            table.append([line[0]] + [self._y0] + line[1:2] + [np.array(line[2:])])\n",
    "    \n",
    "    def extract_footer(self, *args):\n",
    "        return \"\"\"Information needed for calculating two-photon continuum emission for helium isoelectronic sequence\n",
    "Radiative decay rates from Drake, G.W.F., 1986, Phys. Rev. A, 34, 2871\n",
    "Spectral distribution function from Drake, G.W.F., Victor, G.A., Dalgarno, A., 1969, Phys. Rev. A, 180, 25.\n",
    "\"\"\"\n",
    "    \n",
    "    def to_hdf5(self, hf, df, **kwargs):\n",
    "        for row in df:\n",
    "            el = plasmapy.atomic.atomic_symbol(int(row['Z'])).lower()\n",
    "            grp_name = f'{el}/continuum/{self.filetype}'\n",
    "            if grp_name not in hf:\n",
    "                grp = hf.create_group(grp_name)\n",
    "                grp.attrs['chianti_version'] = df.meta['chianti_version']\n",
    "                grp.attrs['footer'] = df.meta['footer']\n",
    "            else:\n",
    "                grp = hf[grp_name]\n",
    "            for col in row.colnames:\n",
    "                if col == 'Z':\n",
    "                    continue\n",
    "                ds = grp.create_dataset(col, data=row[col])\n",
    "                ds.attrs['description'] = df.meta['descriptions'][col]\n",
    "                if not hasattr(row[col], 'unit'):\n",
    "                    ds.attrs['unit'] = 'SKIP'\n",
    "                else:\n",
    "                    ds.attrs['unit'] = row[col].unit.to_string()"
   ]
  },
  {
   "cell_type": "markdown",
   "metadata": {},
   "source": [
    "## Testing Prototypes"
   ]
  },
  {
   "cell_type": "code",
   "execution_count": 2,
   "metadata": {},
   "outputs": [
    {
     "data": {
      "text/html": [
       "&lt;QTable length=3321&gt;\n",
       "<table id=\"table4423033632\" class=\"table-striped table-bordered table-condensed\">\n",
       "<thead><tr><th>u</th><th>gamma_squared</th><th>gaunt_factor</th></tr></thead>\n",
       "<thead><tr><th></th><th></th><th></th></tr></thead>\n",
       "<thead><tr><th>float64</th><th>float64</th><th>float64</th></tr></thead>\n",
       "<tr><td>0.0001</td><td>0.0001</td><td>5.524282</td></tr>\n",
       "<tr><td>0.0001</td><td>0.00012589254</td><td>5.397506</td></tr>\n",
       "<tr><td>0.0001</td><td>0.00015848932</td><td>5.270733</td></tr>\n",
       "<tr><td>0.0001</td><td>0.00019952623</td><td>5.143968</td></tr>\n",
       "<tr><td>0.0001</td><td>0.00025118864</td><td>5.017267</td></tr>\n",
       "<tr><td>0.0001</td><td>0.00031622777</td><td>4.890607</td></tr>\n",
       "<tr><td>0.0001</td><td>0.00039810717</td><td>4.763966</td></tr>\n",
       "<tr><td>0.0001</td><td>0.00050118723</td><td>4.637384</td></tr>\n",
       "<tr><td>0.0001</td><td>0.00063095734</td><td>4.510902</td></tr>\n",
       "<tr><td>...</td><td>...</td><td>...</td></tr>\n",
       "<tr><td>10000.0</td><td>1258.925</td><td>1.072194</td></tr>\n",
       "<tr><td>10000.0</td><td>1584.893</td><td>1.076466</td></tr>\n",
       "<tr><td>10000.0</td><td>1995.262</td><td>1.080763</td></tr>\n",
       "<tr><td>10000.0</td><td>2511.886</td><td>1.085136</td></tr>\n",
       "<tr><td>10000.0</td><td>3162.278</td><td>1.089429</td></tr>\n",
       "<tr><td>10000.0</td><td>3981.072</td><td>1.09345</td></tr>\n",
       "<tr><td>10000.0</td><td>5011.872</td><td>1.097171</td></tr>\n",
       "<tr><td>10000.0</td><td>6309.573</td><td>1.100496</td></tr>\n",
       "<tr><td>10000.0</td><td>7943.282</td><td>1.102878</td></tr>\n",
       "<tr><td>10000.0</td><td>10000.0</td><td>1.103985</td></tr>\n",
       "</table>"
      ],
      "text/plain": [
       "<QTable length=3321>\n",
       "   u    gamma_squared gaunt_factor\n",
       "                                  \n",
       "float64    float64      float64   \n",
       "------- ------------- ------------\n",
       " 0.0001        0.0001     5.524282\n",
       " 0.0001 0.00012589254     5.397506\n",
       " 0.0001 0.00015848932     5.270733\n",
       " 0.0001 0.00019952623     5.143968\n",
       " 0.0001 0.00025118864     5.017267\n",
       " 0.0001 0.00031622777     4.890607\n",
       " 0.0001 0.00039810717     4.763966\n",
       " 0.0001 0.00050118723     4.637384\n",
       " 0.0001 0.00063095734     4.510902\n",
       "    ...           ...          ...\n",
       "10000.0      1258.925     1.072194\n",
       "10000.0      1584.893     1.076466\n",
       "10000.0      1995.262     1.080763\n",
       "10000.0      2511.886     1.085136\n",
       "10000.0      3162.278     1.089429\n",
       "10000.0      3981.072      1.09345\n",
       "10000.0      5011.872     1.097171\n",
       "10000.0      6309.573     1.100496\n",
       "10000.0      7943.282     1.102878\n",
       "10000.0       10000.0     1.103985"
      ]
     },
     "execution_count": 2,
     "metadata": {},
     "output_type": "execute_result"
    }
   ],
   "source": [
    "p = fiasco.io.Parser('gffgu.dat')\n",
    "df = p.parse()\n",
    "df"
   ]
  },
  {
   "cell_type": "code",
   "execution_count": 3,
   "metadata": {},
   "outputs": [
    {
     "data": {
      "text/plain": [
       "OrderedDict([('footer',\n",
       "              'Free-Free Emission Gaunt factors for Maxwellian electrons\\nas a function of scaled temperature and scaled frequency.\\nv1.0.0, Sutherland 1997'),\n",
       "             ('chianti_version', '8.0.2'),\n",
       "             ('filename', 'gffgu.dat'),\n",
       "             ('descriptions',\n",
       "              {'gamma_squared': 'scaled temperature',\n",
       "               'gaunt_factor': 'free-free Gaunt factor',\n",
       "               'u': 'scaled frequency'})])"
      ]
     },
     "execution_count": 3,
     "metadata": {},
     "output_type": "execute_result"
    }
   ],
   "source": [
    "df.meta"
   ]
  },
  {
   "cell_type": "code",
   "execution_count": 4,
   "metadata": {},
   "outputs": [
    {
     "data": {
      "text/html": [
       "&lt;QTable length=41&gt;\n",
       "<table id=\"table103293996112\" class=\"table-striped table-bordered table-condensed\">\n",
       "<thead><tr><th>log_gamma_squared</th><th>gaunt_factor</th><th>s1</th><th>s2</th><th>s3</th></tr></thead>\n",
       "<thead><tr><th></th><th></th><th></th><th></th><th></th></tr></thead>\n",
       "<thead><tr><th>float64</th><th>float64</th><th>float64</th><th>float64</th><th>float64</th></tr></thead>\n",
       "<tr><td>-4.0</td><td>1.113883</td><td>0.01348</td><td>0.010471</td><td>-0.001854972</td></tr>\n",
       "<tr><td>-3.8</td><td>1.116983</td><td>0.0174458</td><td>0.009358014</td><td>0.005564917</td></tr>\n",
       "<tr><td>-3.6</td><td>1.120891</td><td>0.0218568</td><td>0.01269696</td><td>0.00497025</td></tr>\n",
       "<tr><td>-3.4</td><td>1.12581</td><td>0.02753201</td><td>0.01567911</td><td>0.00642914</td></tr>\n",
       "<tr><td>-3.2</td><td>1.131995</td><td>0.03457515</td><td>0.0195366</td><td>0.007563143</td></tr>\n",
       "<tr><td>-3.0</td><td>1.139752</td><td>0.04329737</td><td>0.02407448</td><td>0.008818313</td></tr>\n",
       "<tr><td>-2.8</td><td>1.149445</td><td>0.05398536</td><td>0.02936547</td><td>0.009538678</td></tr>\n",
       "<tr><td>-2.6</td><td>1.161493</td><td>0.06687619</td><td>0.03508868</td><td>0.009776803</td></tr>\n",
       "<tr><td>-2.4</td><td>1.17635</td><td>0.08208488</td><td>0.04095476</td><td>0.007729282</td></tr>\n",
       "<tr><td>...</td><td>...</td><td>...</td><td>...</td><td>...</td></tr>\n",
       "<tr><td>2.2</td><td>1.14464</td><td>-0.09264917</td><td>0.02548959</td><td>-0.002968989</td></tr>\n",
       "<tr><td>2.4</td><td>1.127106</td><td>-0.08280961</td><td>0.02370819</td><td>-0.003299687</td></tr>\n",
       "<tr><td>2.6</td><td>1.111466</td><td>-0.07372229</td><td>0.02172838</td><td>-0.003085106</td></tr>\n",
       "<tr><td>2.8</td><td>1.097566</td><td>-0.06540116</td><td>0.01987732</td><td>-0.003232478</td></tr>\n",
       "<tr><td>3.0</td><td>1.085255</td><td>-0.05783813</td><td>0.01793783</td><td>-0.002861365</td></tr>\n",
       "<tr><td>3.2</td><td>1.074382</td><td>-0.05100636</td><td>0.01622101</td><td>-0.002821221</td></tr>\n",
       "<tr><td>3.4</td><td>1.064807</td><td>-0.0448565</td><td>0.01452828</td><td>-0.002228346</td></tr>\n",
       "<tr><td>3.6</td><td>1.056399</td><td>-0.03931259</td><td>0.01319127</td><td>-0.002766919</td></tr>\n",
       "<tr><td>3.8</td><td>1.049042</td><td>-0.03436811</td><td>0.01153112</td><td>0.0009223057</td></tr>\n",
       "<tr><td>4.0</td><td>1.042637</td><td>-0.02964499</td><td>0.0</td><td>0.0</td></tr>\n",
       "</table>"
      ],
      "text/plain": [
       "<QTable length=41>\n",
       "log_gamma_squared gaunt_factor      s1          s2          s3     \n",
       "                                                                   \n",
       "     float64        float64      float64     float64     float64   \n",
       "----------------- ------------ ----------- ----------- ------------\n",
       "             -4.0     1.113883     0.01348    0.010471 -0.001854972\n",
       "             -3.8     1.116983   0.0174458 0.009358014  0.005564917\n",
       "             -3.6     1.120891   0.0218568  0.01269696   0.00497025\n",
       "             -3.4      1.12581  0.02753201  0.01567911   0.00642914\n",
       "             -3.2     1.131995  0.03457515   0.0195366  0.007563143\n",
       "             -3.0     1.139752  0.04329737  0.02407448  0.008818313\n",
       "             -2.8     1.149445  0.05398536  0.02936547  0.009538678\n",
       "             -2.6     1.161493  0.06687619  0.03508868  0.009776803\n",
       "             -2.4      1.17635  0.08208488  0.04095476  0.007729282\n",
       "              ...          ...         ...         ...          ...\n",
       "              2.2      1.14464 -0.09264917  0.02548959 -0.002968989\n",
       "              2.4     1.127106 -0.08280961  0.02370819 -0.003299687\n",
       "              2.6     1.111466 -0.07372229  0.02172838 -0.003085106\n",
       "              2.8     1.097566 -0.06540116  0.01987732 -0.003232478\n",
       "              3.0     1.085255 -0.05783813  0.01793783 -0.002861365\n",
       "              3.2     1.074382 -0.05100636  0.01622101 -0.002821221\n",
       "              3.4     1.064807  -0.0448565  0.01452828 -0.002228346\n",
       "              3.6     1.056399 -0.03931259  0.01319127 -0.002766919\n",
       "              3.8     1.049042 -0.03436811  0.01153112 0.0009223057\n",
       "              4.0     1.042637 -0.02964499         0.0          0.0"
      ]
     },
     "execution_count": 4,
     "metadata": {},
     "output_type": "execute_result"
    }
   ],
   "source": [
    "p = fiasco.io.Parser('gffint.dat')\n",
    "df = p.parse()\n",
    "df"
   ]
  },
  {
   "cell_type": "code",
   "execution_count": null,
   "metadata": {},
   "outputs": [],
   "source": [
    "df.meta"
   ]
  },
  {
   "cell_type": "code",
   "execution_count": 5,
   "metadata": {},
   "outputs": [
    {
     "data": {
      "text/html": [
       "&lt;QTable length=21&gt;\n",
       "<table id=\"table103295863888\" class=\"table-striped table-bordered table-condensed\">\n",
       "<thead><tr><th>n</th><th>l</th><th>log_pe [41]</th><th>log_gaunt_factor [41]</th></tr></thead>\n",
       "<thead><tr><th></th><th></th><th></th><th></th></tr></thead>\n",
       "<thead><tr><th>int64</th><th>int64</th><th>float64</th><th>float64</th></tr></thead>\n",
       "<tr><td>1</td><td>0</td><td>0.0 .. 18.42068</td><td>-0.22652 .. -7.27506</td></tr>\n",
       "<tr><td>2</td><td>0</td><td>0.0 .. 18.42068</td><td>-0.06763 .. -5.19604</td></tr>\n",
       "<tr><td>2</td><td>1</td><td>0.0 .. 18.42068</td><td>-0.15466 .. -23.61664</td></tr>\n",
       "<tr><td>3</td><td>0</td><td>0.0 .. 18.42068</td><td>0.06015 .. -3.97977</td></tr>\n",
       "<tr><td>3</td><td>1</td><td>0.0 .. 18.42068</td><td>0.09348 .. -21.41962</td></tr>\n",
       "<tr><td>3</td><td>2</td><td>0.0 .. 18.42068</td><td>-0.27102 .. -40.24596</td></tr>\n",
       "<tr><td>4</td><td>0</td><td>0.0 .. 18.42068</td><td>0.16467 .. -3.11728</td></tr>\n",
       "<tr><td>4</td><td>1</td><td>0.0 .. 18.42068</td><td>0.21994 .. -19.92853</td></tr>\n",
       "<tr><td>4</td><td>2</td><td>0.0 .. 18.42068</td><td>0.1231 .. -37.87926</td></tr>\n",
       "<tr><td>4</td><td>3</td><td>0.0 .. 18.42068</td><td>-0.50517 .. -56.92862</td></tr>\n",
       "<tr><td>5</td><td>0</td><td>0.0 .. 18.42068</td><td>0.25464 .. -2.44728</td></tr>\n",
       "<tr><td>5</td><td>1</td><td>0.0 .. 18.42068</td><td>0.31189 .. -18.78974</td></tr>\n",
       "<tr><td>5</td><td>2</td><td>0.0 .. 18.42068</td><td>0.30232 .. -36.18182</td></tr>\n",
       "<tr><td>5</td><td>3</td><td>0.0 .. 18.42068</td><td>0.03633 .. -54.4052</td></tr>\n",
       "<tr><td>5</td><td>4</td><td>0.0 .. 18.42068</td><td>-0.81441 .. -73.67426</td></tr>\n",
       "<tr><td>6</td><td>0</td><td>0.0 .. 18.42068</td><td>0.33289 .. -1.90149</td></tr>\n",
       "<tr><td>6</td><td>1</td><td>0.0 .. 18.42068</td><td>0.3873 .. -17.86553</td></tr>\n",
       "<tr><td>6</td><td>2</td><td>0.0 .. 18.42068</td><td>0.41277 .. -34.84985</td></tr>\n",
       "<tr><td>6</td><td>3</td><td>0.0 .. 18.42068</td><td>0.28968 .. -52.53495</td></tr>\n",
       "<tr><td>6</td><td>4</td><td>0.0 .. 18.42068</td><td>-0.13674 .. -71.00174</td></tr>\n",
       "<tr><td>6</td><td>5</td><td>0.0 .. 18.42068</td><td>-1.17344 .. -90.4763</td></tr>\n",
       "</table>"
      ],
      "text/plain": [
       "<QTable length=21>\n",
       "  n     l     log_pe [41]   log_gaunt_factor [41]\n",
       "                                                 \n",
       "int64 int64     float64            float64       \n",
       "----- ----- --------------- ---------------------\n",
       "    1     0 0.0 .. 18.42068  -0.22652 .. -7.27506\n",
       "    2     0 0.0 .. 18.42068  -0.06763 .. -5.19604\n",
       "    2     1 0.0 .. 18.42068 -0.15466 .. -23.61664\n",
       "    3     0 0.0 .. 18.42068   0.06015 .. -3.97977\n",
       "    3     1 0.0 .. 18.42068  0.09348 .. -21.41962\n",
       "    3     2 0.0 .. 18.42068 -0.27102 .. -40.24596\n",
       "    4     0 0.0 .. 18.42068   0.16467 .. -3.11728\n",
       "    4     1 0.0 .. 18.42068  0.21994 .. -19.92853\n",
       "    4     2 0.0 .. 18.42068   0.1231 .. -37.87926\n",
       "    4     3 0.0 .. 18.42068 -0.50517 .. -56.92862\n",
       "    5     0 0.0 .. 18.42068   0.25464 .. -2.44728\n",
       "    5     1 0.0 .. 18.42068  0.31189 .. -18.78974\n",
       "    5     2 0.0 .. 18.42068  0.30232 .. -36.18182\n",
       "    5     3 0.0 .. 18.42068   0.03633 .. -54.4052\n",
       "    5     4 0.0 .. 18.42068 -0.81441 .. -73.67426\n",
       "    6     0 0.0 .. 18.42068   0.33289 .. -1.90149\n",
       "    6     1 0.0 .. 18.42068   0.3873 .. -17.86553\n",
       "    6     2 0.0 .. 18.42068  0.41277 .. -34.84985\n",
       "    6     3 0.0 .. 18.42068  0.28968 .. -52.53495\n",
       "    6     4 0.0 .. 18.42068 -0.13674 .. -71.00174\n",
       "    6     5 0.0 .. 18.42068  -1.17344 .. -90.4763"
      ]
     },
     "execution_count": 5,
     "metadata": {},
     "output_type": "execute_result"
    }
   ],
   "source": [
    "p = fiasco.io.Parser('klgfb.dat')\n",
    "df = p.parse()\n",
    "df"
   ]
  },
  {
   "cell_type": "code",
   "execution_count": null,
   "metadata": {},
   "outputs": [],
   "source": [
    "df.meta"
   ]
  },
  {
   "cell_type": "code",
   "execution_count": 6,
   "metadata": {},
   "outputs": [
    {
     "data": {
      "text/html": [
       "&lt;QTable length=465&gt;\n",
       "<table id=\"table4451094200\" class=\"table-striped table-bordered table-condensed\">\n",
       "<thead><tr><th>Z</th><th>n_electrons</th><th>n</th><th>l</th><th>E_thresh</th><th>E_0_fit</th><th>sigma_0</th><th>y_a_fit</th><th>P_fit</th><th>y_w_fit</th></tr></thead>\n",
       "<thead><tr><th></th><th></th><th></th><th></th><th>eV</th><th>eV</th><th>Mbarn</th><th></th><th></th><th></th></tr></thead>\n",
       "<thead><tr><th>int64</th><th>int64</th><th>int64</th><th>int64</th><th>float64</th><th>float64</th><th>float64</th><th>float64</th><th>float64</th><th>float64</th></tr></thead>\n",
       "<tr><td>1</td><td>1</td><td>1</td><td>0</td><td>13.6</td><td>0.4298</td><td>54750.0</td><td>32.88</td><td>2.963</td><td>0.0</td></tr>\n",
       "<tr><td>2</td><td>1</td><td>1</td><td>0</td><td>54.42</td><td>1.72</td><td>13690.0</td><td>32.88</td><td>2.963</td><td>0.0</td></tr>\n",
       "<tr><td>2</td><td>2</td><td>1</td><td>0</td><td>24.59</td><td>5.996</td><td>4470.0</td><td>2.199</td><td>6.098</td><td>0.0</td></tr>\n",
       "<tr><td>3</td><td>1</td><td>1</td><td>0</td><td>122.5</td><td>3.871</td><td>6083.0</td><td>32.88</td><td>2.963</td><td>0.0</td></tr>\n",
       "<tr><td>3</td><td>2</td><td>1</td><td>0</td><td>75.64</td><td>20.06</td><td>320.1</td><td>7.391</td><td>2.916</td><td>0.0</td></tr>\n",
       "<tr><td>3</td><td>3</td><td>2</td><td>0</td><td>5.392</td><td>3.466</td><td>47.74</td><td>20.35</td><td>4.423</td><td>0.0</td></tr>\n",
       "<tr><td>4</td><td>1</td><td>1</td><td>0</td><td>217.7</td><td>6.879</td><td>3422.0</td><td>32.88</td><td>2.963</td><td>0.0</td></tr>\n",
       "<tr><td>4</td><td>2</td><td>1</td><td>0</td><td>153.9</td><td>17.6</td><td>545.8</td><td>17.19</td><td>3.157</td><td>0.0</td></tr>\n",
       "<tr><td>4</td><td>3</td><td>2</td><td>0</td><td>18.21</td><td>6.685</td><td>49.04</td><td>34.19</td><td>3.738</td><td>0.0</td></tr>\n",
       "<tr><td>...</td><td>...</td><td>...</td><td>...</td><td>...</td><td>...</td><td>...</td><td>...</td><td>...</td><td>...</td></tr>\n",
       "<tr><td>30</td><td>21</td><td>3</td><td>2</td><td>238.0</td><td>57.27</td><td>277.7</td><td>40.0</td><td>7.0</td><td>0.3</td></tr>\n",
       "<tr><td>30</td><td>22</td><td>3</td><td>2</td><td>203.0</td><td>59.06</td><td>318.7</td><td>58.5</td><td>6.43</td><td>0.2472</td></tr>\n",
       "<tr><td>30</td><td>23</td><td>3</td><td>2</td><td>175.0</td><td>57.6</td><td>380.4</td><td>40.0</td><td>7.0</td><td>0.3</td></tr>\n",
       "<tr><td>30</td><td>24</td><td>3</td><td>2</td><td>136.0</td><td>65.3</td><td>345.6</td><td>46.08</td><td>6.555</td><td>0.2476</td></tr>\n",
       "<tr><td>30</td><td>25</td><td>3</td><td>2</td><td>108.0</td><td>58.78</td><td>415.1</td><td>40.0</td><td>7.0</td><td>0.3</td></tr>\n",
       "<tr><td>30</td><td>26</td><td>3</td><td>2</td><td>82.6</td><td>63.78</td><td>417.2</td><td>34.62</td><td>7.005</td><td>0.3108</td></tr>\n",
       "<tr><td>30</td><td>27</td><td>3</td><td>2</td><td>59.4</td><td>53.76</td><td>600.7</td><td>24.29</td><td>7.985</td><td>0.3026</td></tr>\n",
       "<tr><td>30</td><td>28</td><td>3</td><td>2</td><td>39.72</td><td>36.4</td><td>1498.0</td><td>11.88</td><td>10.82</td><td>0.3519</td></tr>\n",
       "<tr><td>30</td><td>29</td><td>3</td><td>2</td><td>26.94</td><td>25.93</td><td>3408.0</td><td>7.832</td><td>13.63</td><td>0.3562</td></tr>\n",
       "<tr><td>30</td><td>30</td><td>3</td><td>2</td><td>17.3</td><td>18.18</td><td>10170.0</td><td>5.288</td><td>17.36</td><td>0.4667</td></tr>\n",
       "</table>"
      ],
      "text/plain": [
       "<QTable length=465>\n",
       "  Z   n_electrons   n     l   E_thresh E_0_fit sigma_0 y_a_fit  P_fit  y_w_fit\n",
       "                                 eV       eV    Mbarn                         \n",
       "int64    int64    int64 int64 float64  float64 float64 float64 float64 float64\n",
       "----- ----------- ----- ----- -------- ------- ------- ------- ------- -------\n",
       "    1           1     1     0     13.6  0.4298 54750.0   32.88   2.963     0.0\n",
       "    2           1     1     0    54.42    1.72 13690.0   32.88   2.963     0.0\n",
       "    2           2     1     0    24.59   5.996  4470.0   2.199   6.098     0.0\n",
       "    3           1     1     0    122.5   3.871  6083.0   32.88   2.963     0.0\n",
       "    3           2     1     0    75.64   20.06   320.1   7.391   2.916     0.0\n",
       "    3           3     2     0    5.392   3.466   47.74   20.35   4.423     0.0\n",
       "    4           1     1     0    217.7   6.879  3422.0   32.88   2.963     0.0\n",
       "    4           2     1     0    153.9    17.6   545.8   17.19   3.157     0.0\n",
       "    4           3     2     0    18.21   6.685   49.04   34.19   3.738     0.0\n",
       "  ...         ...   ...   ...      ...     ...     ...     ...     ...     ...\n",
       "   30          21     3     2    238.0   57.27   277.7    40.0     7.0     0.3\n",
       "   30          22     3     2    203.0   59.06   318.7    58.5    6.43  0.2472\n",
       "   30          23     3     2    175.0    57.6   380.4    40.0     7.0     0.3\n",
       "   30          24     3     2    136.0    65.3   345.6   46.08   6.555  0.2476\n",
       "   30          25     3     2    108.0   58.78   415.1    40.0     7.0     0.3\n",
       "   30          26     3     2     82.6   63.78   417.2   34.62   7.005  0.3108\n",
       "   30          27     3     2     59.4   53.76   600.7   24.29   7.985  0.3026\n",
       "   30          28     3     2    39.72    36.4  1498.0   11.88   10.82  0.3519\n",
       "   30          29     3     2    26.94   25.93  3408.0   7.832   13.63  0.3562\n",
       "   30          30     3     2     17.3   18.18 10170.0   5.288   17.36  0.4667"
      ]
     },
     "execution_count": 6,
     "metadata": {},
     "output_type": "execute_result"
    }
   ],
   "source": [
    "p = fiasco.io.Parser('verner_short.txt')\n",
    "df = p.parse()\n",
    "df"
   ]
  },
  {
   "cell_type": "code",
   "execution_count": null,
   "metadata": {},
   "outputs": [],
   "source": [
    "df.meta"
   ]
  },
  {
   "cell_type": "code",
   "execution_count": 7,
   "metadata": {},
   "outputs": [
    {
     "data": {
      "text/html": [
       "&lt;QTable length=30&gt;\n",
       "<table id=\"table103295556744\" class=\"table-striped table-bordered table-condensed\">\n",
       "<thead><tr><th>Z</th><th>a [11,11]</th></tr></thead>\n",
       "<thead><tr><th></th><th></th></tr></thead>\n",
       "<thead><tr><th>int64</th><th>float64</th></tr></thead>\n",
       "<tr><td>1</td><td>2.42979 .. 10.9661</td></tr>\n",
       "<tr><td>2</td><td>2.43018 .. -3.92613</td></tr>\n",
       "<tr><td>3</td><td>2.40975 .. -24.8316</td></tr>\n",
       "<tr><td>4</td><td>2.37989 .. -24.4755</td></tr>\n",
       "<tr><td>5</td><td>2.34678 .. 16.8265</td></tr>\n",
       "<tr><td>6</td><td>2.31324 .. 29.224</td></tr>\n",
       "<tr><td>7</td><td>2.27996 .. 18.7566</td></tr>\n",
       "<tr><td>8</td><td>2.24788 .. 6.80918</td></tr>\n",
       "<tr><td>9</td><td>2.21706 .. 27.7749</td></tr>\n",
       "<tr><td>...</td><td>...</td></tr>\n",
       "<tr><td>21</td><td>1.9546 .. 4.31886</td></tr>\n",
       "<tr><td>22</td><td>1.93957 .. -10.8707</td></tr>\n",
       "<tr><td>23</td><td>1.92521 .. -6.16511</td></tr>\n",
       "<tr><td>24</td><td>1.91147 .. 11.8086</td></tr>\n",
       "<tr><td>25</td><td>1.89835 .. -1.83838</td></tr>\n",
       "<tr><td>26</td><td>1.88579 .. -6.10982</td></tr>\n",
       "<tr><td>27</td><td>1.87376 .. -8.26507</td></tr>\n",
       "<tr><td>28</td><td>1.8622 .. -6.52173</td></tr>\n",
       "<tr><td>29</td><td>1.8511 .. -9.79014</td></tr>\n",
       "<tr><td>30</td><td>1.84044 .. -9.01182</td></tr>\n",
       "</table>"
      ],
      "text/plain": [
       "<QTable length=30>\n",
       "  Z        a [11,11]     \n",
       "                         \n",
       "int64       float64      \n",
       "----- -------------------\n",
       "    1  2.42979 .. 10.9661\n",
       "    2 2.43018 .. -3.92613\n",
       "    3 2.40975 .. -24.8316\n",
       "    4 2.37989 .. -24.4755\n",
       "    5  2.34678 .. 16.8265\n",
       "    6   2.31324 .. 29.224\n",
       "    7  2.27996 .. 18.7566\n",
       "    8  2.24788 .. 6.80918\n",
       "    9  2.21706 .. 27.7749\n",
       "  ...                 ...\n",
       "   21   1.9546 .. 4.31886\n",
       "   22 1.93957 .. -10.8707\n",
       "   23 1.92521 .. -6.16511\n",
       "   24  1.91147 .. 11.8086\n",
       "   25 1.89835 .. -1.83838\n",
       "   26 1.88579 .. -6.10982\n",
       "   27 1.87376 .. -8.26507\n",
       "   28  1.8622 .. -6.52173\n",
       "   29  1.8511 .. -9.79014\n",
       "   30 1.84044 .. -9.01182"
      ]
     },
     "execution_count": 7,
     "metadata": {},
     "output_type": "execute_result"
    }
   ],
   "source": [
    "p = fiasco.io.Parser('itoh.dat')\n",
    "df = p.parse()\n",
    "df"
   ]
  },
  {
   "cell_type": "code",
   "execution_count": null,
   "metadata": {},
   "outputs": [],
   "source": [
    "df.meta"
   ]
  },
  {
   "cell_type": "code",
   "execution_count": 8,
   "metadata": {},
   "outputs": [
    {
     "data": {
      "text/html": [
       "&lt;QTable length=30&gt;\n",
       "<table id=\"table103295554896\" class=\"table-striped table-bordered table-condensed\">\n",
       "<thead><tr><th>Z</th><th>y [17]</th><th>Z_0 [4]</th><th>A</th><th>A_sum</th><th>psi [17]</th></tr></thead>\n",
       "<thead><tr><th></th><th></th><th></th><th>1 / s</th><th>1 / s</th><th></th></tr></thead>\n",
       "<thead><tr><th>int64</th><th>float64</th><th>int64</th><th>float64</th><th>float64</th><th>float64</th></tr></thead>\n",
       "<tr><td>1</td><td>0.0 .. 1.0</td><td>1 .. 92</td><td>8.229</td><td>1.884</td><td>0.0 .. 0.0</td></tr>\n",
       "<tr><td>2</td><td>0.0 .. 1.0</td><td>1 .. 92</td><td>526.6</td><td>1.884</td><td>0.0 .. 0.0</td></tr>\n",
       "<tr><td>3</td><td>0.0 .. 1.0</td><td>1 .. 92</td><td>5997.0</td><td>1.884</td><td>0.0 .. 0.0</td></tr>\n",
       "<tr><td>4</td><td>0.0 .. 1.0</td><td>1 .. 92</td><td>33690.0</td><td>1.883</td><td>0.0 .. 0.0</td></tr>\n",
       "<tr><td>5</td><td>0.0 .. 1.0</td><td>1 .. 92</td><td>128500.0</td><td>1.882</td><td>0.0 .. 0.0</td></tr>\n",
       "<tr><td>6</td><td>0.0 .. 1.0</td><td>1 .. 92</td><td>383500.0</td><td>1.881</td><td>0.0 .. 0.0</td></tr>\n",
       "<tr><td>7</td><td>0.0 .. 1.0</td><td>1 .. 92</td><td>966600.0</td><td>1.88</td><td>0.0 .. 0.0</td></tr>\n",
       "<tr><td>8</td><td>0.0 .. 1.0</td><td>1 .. 92</td><td>2153000.0</td><td>1.879</td><td>0.0 .. 0.0</td></tr>\n",
       "<tr><td>9</td><td>0.0 .. 1.0</td><td>1 .. 92</td><td>4361000.0</td><td>1.877</td><td>0.0 .. 0.0</td></tr>\n",
       "<tr><td>...</td><td>...</td><td>...</td><td>...</td><td>...</td><td>...</td></tr>\n",
       "<tr><td>21</td><td>0.0 .. 1.0</td><td>1 .. 92</td><td>695400000.0</td><td>1.848</td><td>0.0 .. 0.0</td></tr>\n",
       "<tr><td>22</td><td>0.0 .. 1.0</td><td>1 .. 92</td><td>918000000.0</td><td>1.845</td><td>0.0 .. 0.0</td></tr>\n",
       "<tr><td>23</td><td>0.0 .. 1.0</td><td>1 .. 92</td><td>1197000000.0</td><td>1.841</td><td>0.0 .. 0.0</td></tr>\n",
       "<tr><td>24</td><td>0.0 .. 1.0</td><td>1 .. 92</td><td>1543000000.0</td><td>1.838</td><td>0.0 .. 0.0</td></tr>\n",
       "<tr><td>25</td><td>0.0 .. 1.0</td><td>1 .. 92</td><td>1968000000.0</td><td>1.834</td><td>0.0 .. 0.0</td></tr>\n",
       "<tr><td>26</td><td>0.0 .. 1.0</td><td>1 .. 92</td><td>2486000000.0</td><td>1.83</td><td>0.0 .. 0.0</td></tr>\n",
       "<tr><td>27</td><td>0.0 .. 1.0</td><td>1 .. 92</td><td>3112000000.0</td><td>1.825</td><td>0.0 .. 0.0</td></tr>\n",
       "<tr><td>28</td><td>0.0 .. 1.0</td><td>1 .. 92</td><td>3864000000.0</td><td>1.821</td><td>0.0 .. 0.0</td></tr>\n",
       "<tr><td>29</td><td>0.0 .. 1.0</td><td>1 .. 92</td><td>4760000000.0</td><td>1.816</td><td>0.0 .. 0.0</td></tr>\n",
       "<tr><td>30</td><td>0.0 .. 1.0</td><td>1 .. 92</td><td>5823000000.0</td><td>1.812</td><td>0.0 .. 0.0</td></tr>\n",
       "</table>"
      ],
      "text/plain": [
       "<QTable length=30>\n",
       "  Z     y [17]   Z_0 [4]      A        A_sum   psi [17] \n",
       "                            1 / s      1 / s            \n",
       "int64  float64    int64    float64    float64  float64  \n",
       "----- ---------- ------- ------------ ------- ----------\n",
       "    1 0.0 .. 1.0 1 .. 92        8.229   1.884 0.0 .. 0.0\n",
       "    2 0.0 .. 1.0 1 .. 92        526.6   1.884 0.0 .. 0.0\n",
       "    3 0.0 .. 1.0 1 .. 92       5997.0   1.884 0.0 .. 0.0\n",
       "    4 0.0 .. 1.0 1 .. 92      33690.0   1.883 0.0 .. 0.0\n",
       "    5 0.0 .. 1.0 1 .. 92     128500.0   1.882 0.0 .. 0.0\n",
       "    6 0.0 .. 1.0 1 .. 92     383500.0   1.881 0.0 .. 0.0\n",
       "    7 0.0 .. 1.0 1 .. 92     966600.0    1.88 0.0 .. 0.0\n",
       "    8 0.0 .. 1.0 1 .. 92    2153000.0   1.879 0.0 .. 0.0\n",
       "    9 0.0 .. 1.0 1 .. 92    4361000.0   1.877 0.0 .. 0.0\n",
       "  ...        ...     ...          ...     ...        ...\n",
       "   21 0.0 .. 1.0 1 .. 92  695400000.0   1.848 0.0 .. 0.0\n",
       "   22 0.0 .. 1.0 1 .. 92  918000000.0   1.845 0.0 .. 0.0\n",
       "   23 0.0 .. 1.0 1 .. 92 1197000000.0   1.841 0.0 .. 0.0\n",
       "   24 0.0 .. 1.0 1 .. 92 1543000000.0   1.838 0.0 .. 0.0\n",
       "   25 0.0 .. 1.0 1 .. 92 1968000000.0   1.834 0.0 .. 0.0\n",
       "   26 0.0 .. 1.0 1 .. 92 2486000000.0    1.83 0.0 .. 0.0\n",
       "   27 0.0 .. 1.0 1 .. 92 3112000000.0   1.825 0.0 .. 0.0\n",
       "   28 0.0 .. 1.0 1 .. 92 3864000000.0   1.821 0.0 .. 0.0\n",
       "   29 0.0 .. 1.0 1 .. 92 4760000000.0   1.816 0.0 .. 0.0\n",
       "   30 0.0 .. 1.0 1 .. 92 5823000000.0   1.812 0.0 .. 0.0"
      ]
     },
     "execution_count": 8,
     "metadata": {},
     "output_type": "execute_result"
    }
   ],
   "source": [
    "p  = fiasco.io.Parser('hseq_2photon.dat')\n",
    "df_h = p.parse()\n",
    "df_h"
   ]
  },
  {
   "cell_type": "code",
   "execution_count": 9,
   "metadata": {},
   "outputs": [
    {
     "data": {
      "text/html": [
       "&lt;QTable length=29&gt;\n",
       "<table id=\"table103295557080\" class=\"table-striped table-bordered table-condensed\">\n",
       "<thead><tr><th>Z</th><th>y [41]</th><th>A</th><th>psi [41]</th></tr></thead>\n",
       "<thead><tr><th></th><th></th><th>1 / s</th><th></th></tr></thead>\n",
       "<thead><tr><th>int64</th><th>float64</th><th>float64</th><th>float64</th></tr></thead>\n",
       "<tr><td>2</td><td>0.0 .. 1.0</td><td>50.94</td><td>0.0 .. 0.0</td></tr>\n",
       "<tr><td>3</td><td>0.0 .. 1.0</td><td>1939.0</td><td>0.0 .. 0.0</td></tr>\n",
       "<tr><td>4</td><td>0.0 .. 1.0</td><td>18140.0</td><td>0.0 .. 0.0</td></tr>\n",
       "<tr><td>5</td><td>0.0 .. 1.0</td><td>92020.0</td><td>0.0 .. 0.0</td></tr>\n",
       "<tr><td>6</td><td>0.0 .. 1.0</td><td>329600.0</td><td>0.0 .. 0.0</td></tr>\n",
       "<tr><td>7</td><td>0.0 .. 1.0</td><td>953700.0</td><td>0.0 .. 0.0</td></tr>\n",
       "<tr><td>8</td><td>0.0 .. 1.0</td><td>2306000.0</td><td>0.0 .. 0.0</td></tr>\n",
       "<tr><td>9</td><td>0.0 .. 1.0</td><td>5021000.0</td><td>0.0 .. 0.0</td></tr>\n",
       "<tr><td>10</td><td>0.0 .. 1.0</td><td>9993000.0</td><td>0.0 .. 0.0</td></tr>\n",
       "<tr><td>...</td><td>...</td><td>...</td><td>...</td></tr>\n",
       "<tr><td>21</td><td>0.0 .. 1.0</td><td>1101000000.0</td><td>0.0 .. 0.0</td></tr>\n",
       "<tr><td>22</td><td>0.0 .. 1.0</td><td>1469000000.0</td><td>0.0 .. 0.0</td></tr>\n",
       "<tr><td>23</td><td>0.0 .. 1.0</td><td>1933000000.0</td><td>0.0 .. 0.0</td></tr>\n",
       "<tr><td>24</td><td>0.0 .. 1.0</td><td>2514000000.0</td><td>0.0 .. 0.0</td></tr>\n",
       "<tr><td>25</td><td>0.0 .. 1.0</td><td>3233000000.0</td><td>0.0 .. 0.0</td></tr>\n",
       "<tr><td>26</td><td>0.0 .. 1.0</td><td>4114000000.0</td><td>0.0 .. 0.0</td></tr>\n",
       "<tr><td>27</td><td>0.0 .. 1.0</td><td>5187000000.0</td><td>0.0 .. 0.0</td></tr>\n",
       "<tr><td>28</td><td>0.0 .. 1.0</td><td>6482000000.0</td><td>0.0 .. 0.0</td></tr>\n",
       "<tr><td>29</td><td>0.0 .. 1.0</td><td>8034000000.0</td><td>0.0 .. 0.0</td></tr>\n",
       "<tr><td>30</td><td>0.0 .. 1.0</td><td>9882000000.0</td><td>0.0 .. 0.0</td></tr>\n",
       "</table>"
      ],
      "text/plain": [
       "<QTable length=29>\n",
       "  Z     y [41]        A        psi [41] \n",
       "                    1 / s               \n",
       "int64  float64     float64     float64  \n",
       "----- ---------- ------------ ----------\n",
       "    2 0.0 .. 1.0        50.94 0.0 .. 0.0\n",
       "    3 0.0 .. 1.0       1939.0 0.0 .. 0.0\n",
       "    4 0.0 .. 1.0      18140.0 0.0 .. 0.0\n",
       "    5 0.0 .. 1.0      92020.0 0.0 .. 0.0\n",
       "    6 0.0 .. 1.0     329600.0 0.0 .. 0.0\n",
       "    7 0.0 .. 1.0     953700.0 0.0 .. 0.0\n",
       "    8 0.0 .. 1.0    2306000.0 0.0 .. 0.0\n",
       "    9 0.0 .. 1.0    5021000.0 0.0 .. 0.0\n",
       "   10 0.0 .. 1.0    9993000.0 0.0 .. 0.0\n",
       "  ...        ...          ...        ...\n",
       "   21 0.0 .. 1.0 1101000000.0 0.0 .. 0.0\n",
       "   22 0.0 .. 1.0 1469000000.0 0.0 .. 0.0\n",
       "   23 0.0 .. 1.0 1933000000.0 0.0 .. 0.0\n",
       "   24 0.0 .. 1.0 2514000000.0 0.0 .. 0.0\n",
       "   25 0.0 .. 1.0 3233000000.0 0.0 .. 0.0\n",
       "   26 0.0 .. 1.0 4114000000.0 0.0 .. 0.0\n",
       "   27 0.0 .. 1.0 5187000000.0 0.0 .. 0.0\n",
       "   28 0.0 .. 1.0 6482000000.0 0.0 .. 0.0\n",
       "   29 0.0 .. 1.0 8034000000.0 0.0 .. 0.0\n",
       "   30 0.0 .. 1.0 9882000000.0 0.0 .. 0.0"
      ]
     },
     "execution_count": 9,
     "metadata": {},
     "output_type": "execute_result"
    }
   ],
   "source": [
    "p  = fiasco.io.Parser('heseq_2photon.dat')\n",
    "df_he = p.parse()\n",
    "df_he"
   ]
  },
  {
   "cell_type": "markdown",
   "metadata": {},
   "source": [
    "## Testing HDF5 Writers"
   ]
  },
  {
   "cell_type": "code",
   "execution_count": null,
   "metadata": {},
   "outputs": [],
   "source": [
    "%%bash\n",
    "rm /Users/willbarnes/Desktop/test_continuum.h5"
   ]
  },
  {
   "cell_type": "code",
   "execution_count": null,
   "metadata": {},
   "outputs": [],
   "source": [
    "with h5py.File('/Users/willbarnes/Desktop/test_continuum.h5','a') as hf:\n",
    "    # gffgu\n",
    "    p = fiasco.io.Parser('gffgu.dat', custom_parser=GffguParser)\n",
    "    df = p.parse()\n",
    "    p.to_hdf5(hf, df)\n",
    "    # gffint\n",
    "    p = fiasco.io.Parser('gffint.dat', custom_parser=GffintParser)\n",
    "    df = p.parse()\n",
    "    p.to_hdf5(hf, df)\n",
    "    # klgfb\n",
    "    p = fiasco.io.Parser('klgfb.dat', custom_parser=KlgfbParser)\n",
    "    df = p.parse()\n",
    "    p.to_hdf5(hf, df)\n",
    "    # itoh\n",
    "    p = fiasco.io.Parser('itoh.dat', custom_parser=ItohParser)\n",
    "    df = p.parse()\n",
    "    p.to_hdf5(hf, df)\n",
    "    # 2photon\n",
    "    p = fiasco.io.Parser('hseq_2photon.dat', custom_parser=HSeqParser)\n",
    "    df = p.parse()\n",
    "    p.to_hdf5(hf, df)\n",
    "    p = fiasco.io.Parser('heseq_2photon.dat', custom_parser=HeSeqParser)\n",
    "    df = p.parse()\n",
    "    p.to_hdf5(hf, df)\n",
    "    # verner\n",
    "    p = fiasco.io.Parser('verner_short.txt', custom_parser=VernerParser)\n",
    "    df = p.parse()\n",
    "    p.to_hdf5(hf, df)"
   ]
  },
  {
   "cell_type": "code",
   "execution_count": null,
   "metadata": {},
   "outputs": [],
   "source": [
    "foo = fiasco.base.DataIndexer('/Users/willbarnes/Desktop/test_continuum.h5','/')\n",
    "foo"
   ]
  },
  {
   "cell_type": "code",
   "execution_count": null,
   "metadata": {},
   "outputs": [],
   "source": [
    "foo['continuum']"
   ]
  },
  {
   "cell_type": "code",
   "execution_count": null,
   "metadata": {},
   "outputs": [],
   "source": [
    "sorted(foo['al'].fields, key=lambda x: int(x.split('_')[-1]) if len(x.split('_')) > 1 else 0)"
   ]
  },
  {
   "cell_type": "code",
   "execution_count": null,
   "metadata": {},
   "outputs": [],
   "source": [
    "foo['al']['continuum']"
   ]
  },
  {
   "cell_type": "code",
   "execution_count": null,
   "metadata": {},
   "outputs": [],
   "source": [
    "foo['al']['al_1']['continuum']['verner_short'].as_table()"
   ]
  },
  {
   "cell_type": "code",
   "execution_count": null,
   "metadata": {},
   "outputs": [],
   "source": [
    "a, b = os.path.splitext('al_1.fblvl')"
   ]
  },
  {
   "cell_type": "code",
   "execution_count": null,
   "metadata": {},
   "outputs": [],
   "source": [
    "a"
   ]
  },
  {
   "cell_type": "code",
   "execution_count": null,
   "metadata": {},
   "outputs": [],
   "source": [
    "foo = '/Users/willbarnes/ssw/packages/chianti/dbase/al/al_1/al_1.diparams'"
   ]
  },
  {
   "cell_type": "code",
   "execution_count": null,
   "metadata": {},
   "outputs": [],
   "source": [
    "os.path.basename(foo) == "
   ]
  },
  {
   "cell_type": "markdown",
   "metadata": {},
   "source": [
    "## Raw Files"
   ]
  },
  {
   "cell_type": "code",
   "execution_count": null,
   "metadata": {},
   "outputs": [],
   "source": [
    "%%bash \n",
    "head -n 50 /Users/willbarnes/ssw/packages/chianti/dbase/continuum/gffint.dat"
   ]
  },
  {
   "cell_type": "code",
   "execution_count": null,
   "metadata": {},
   "outputs": [],
   "source": [
    "%%bash \n",
    "head -n 10 /Users/willbarnes/ssw/packages/chianti/dbase/continuum/gffgu.dat"
   ]
  },
  {
   "cell_type": "code",
   "execution_count": null,
   "metadata": {},
   "outputs": [],
   "source": [
    "%%bash \n",
    "tail -n 4 /Users/willbarnes/ssw/packages/chianti/dbase/continuum/klgfb.dat"
   ]
  },
  {
   "cell_type": "code",
   "execution_count": null,
   "metadata": {},
   "outputs": [],
   "source": [
    "%%bash \n",
    "head -n 10 /Users/willbarnes/ssw/packages/chianti/dbase/continuum/verner_short.txt"
   ]
  },
  {
   "cell_type": "code",
   "execution_count": null,
   "metadata": {},
   "outputs": [],
   "source": [
    "%%bash \n",
    "tail -n 1 /Users/willbarnes/ssw/packages/chianti/dbase/continuum/itoh.dat"
   ]
  },
  {
   "cell_type": "code",
   "execution_count": null,
   "metadata": {},
   "outputs": [],
   "source": [
    "%%bash \n",
    "head -n 3 /Users/willbarnes/ssw/packages/chianti/dbase/continuum/heseq_2photon.dat"
   ]
  },
  {
   "cell_type": "code",
   "execution_count": null,
   "metadata": {},
   "outputs": [],
   "source": [
    "%%bash \n",
    "head -n 5 /Users/willbarnes/ssw/packages/chianti/dbase/continuum/hseq_2photon.dat"
   ]
  },
  {
   "cell_type": "markdown",
   "metadata": {},
   "source": [
    "## ChiantiPy View"
   ]
  },
  {
   "cell_type": "code",
   "execution_count": null,
   "metadata": {
    "scrolled": true
   },
   "outputs": [],
   "source": [
    "ch_io.gffRead()"
   ]
  },
  {
   "cell_type": "code",
   "execution_count": null,
   "metadata": {},
   "outputs": [],
   "source": [
    "ch_io.gffintRead()"
   ]
  },
  {
   "cell_type": "code",
   "execution_count": null,
   "metadata": {
    "scrolled": true
   },
   "outputs": [],
   "source": [
    "ch_io.twophotonHeRead()"
   ]
  },
  {
   "cell_type": "code",
   "execution_count": null,
   "metadata": {
    "scrolled": true
   },
   "outputs": [],
   "source": [
    "ch_io.twophotonHRead()"
   ]
  },
  {
   "cell_type": "code",
   "execution_count": null,
   "metadata": {},
   "outputs": [],
   "source": [
    "ch_io.vernerRead()['eth'].shape"
   ]
  },
  {
   "cell_type": "code",
   "execution_count": null,
   "metadata": {},
   "outputs": [],
   "source": [
    "ch_io.vernerRead().keys()"
   ]
  },
  {
   "cell_type": "code",
   "execution_count": null,
   "metadata": {},
   "outputs": [],
   "source": [
    "ch_io.klgfbRead()['klgfb'].shape"
   ]
  },
  {
   "cell_type": "code",
   "execution_count": null,
   "metadata": {
    "scrolled": true
   },
   "outputs": [],
   "source": [
    "ch_io.klgfbRead()['pe'].shape"
   ]
  },
  {
   "cell_type": "code",
   "execution_count": null,
   "metadata": {},
   "outputs": [],
   "source": [
    "ch_io.itohRead().keys()"
   ]
  },
  {
   "cell_type": "code",
   "execution_count": null,
   "metadata": {},
   "outputs": [],
   "source": [
    "ch_io.itohRead()['itohCoef'].shape"
   ]
  },
  {
   "cell_type": "code",
   "execution_count": null,
   "metadata": {},
   "outputs": [],
   "source": [
    "with open('/Users/willbarnes/ssw/packages/chianti/dbase/h/h_1/h_1.elvlc','r') as f:\n",
    "    lines = f.readlines()"
   ]
  },
  {
   "cell_type": "code",
   "execution_count": null,
   "metadata": {},
   "outputs": [],
   "source": [
    "lines[77:]"
   ]
  },
  {
   "cell_type": "code",
   "execution_count": null,
   "metadata": {},
   "outputs": [],
   "source": [
    "foo = lines[26:]"
   ]
  },
  {
   "cell_type": "code",
   "execution_count": null,
   "metadata": {},
   "outputs": [],
   "source": [
    "foo"
   ]
  },
  {
   "cell_type": "code",
   "execution_count": null,
   "metadata": {},
   "outputs": [],
   "source": [
    "foo[-1].strip('%').strip().strip('-1')"
   ]
  },
  {
   "cell_type": "code",
   "execution_count": null,
   "metadata": {},
   "outputs": [],
   "source": [
    "foo[3].strip().strip('%')"
   ]
  },
  {
   "cell_type": "code",
   "execution_count": null,
   "metadata": {},
   "outputs": [],
   "source": [
    "bar = '\\n'.join([l.strip('%').strip() for l in foo if l.strip('%').strip().strip('-1')])"
   ]
  },
  {
   "cell_type": "code",
   "execution_count": null,
   "metadata": {},
   "outputs": [],
   "source": [
    "bar"
   ]
  },
  {
   "cell_type": "code",
   "execution_count": null,
   "metadata": {},
   "outputs": [],
   "source": [
    "print(bar)"
   ]
  },
  {
   "cell_type": "code",
   "execution_count": null,
   "metadata": {},
   "outputs": [],
   "source": [
    "p = fiasco.io.Parser('sun_coronal_1992_feldman.abund')"
   ]
  },
  {
   "cell_type": "code",
   "execution_count": null,
   "metadata": {},
   "outputs": [],
   "source": [
    "p.parse()"
   ]
  },
  {
   "cell_type": "code",
   "execution_count": null,
   "metadata": {},
   "outputs": [],
   "source": [
    "p = fiasco.io.Parser('fe_15.wgfa')"
   ]
  },
  {
   "cell_type": "code",
   "execution_count": null,
   "metadata": {},
   "outputs": [],
   "source": [
    "df = p.parse()"
   ]
  },
  {
   "cell_type": "code",
   "execution_count": null,
   "metadata": {},
   "outputs": [],
   "source": [
    "print(df.meta['footer'])"
   ]
  },
  {
   "cell_type": "code",
   "execution_count": null,
   "metadata": {},
   "outputs": [],
   "source": [
    "u.eV"
   ]
  },
  {
   "cell_type": "code",
   "execution_count": null,
   "metadata": {},
   "outputs": [],
   "source": []
  }
 ],
 "metadata": {
  "kernelspec": {
   "display_name": "Python [conda env:fiasco]",
   "language": "python",
   "name": "conda-env-fiasco-py"
  },
  "language_info": {
   "codemirror_mode": {
    "name": "ipython",
    "version": 3
   },
   "file_extension": ".py",
   "mimetype": "text/x-python",
   "name": "python",
   "nbconvert_exporter": "python",
   "pygments_lexer": "ipython3",
   "version": "3.6.2"
  }
 },
 "nbformat": 4,
 "nbformat_minor": 2
}
