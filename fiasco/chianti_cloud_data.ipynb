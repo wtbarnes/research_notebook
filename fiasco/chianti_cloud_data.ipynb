{
 "cells": [
  {
   "cell_type": "markdown",
   "metadata": {},
   "source": [
    "# Testing CHIANTI data in the Cloud"
   ]
  },
  {
   "cell_type": "code",
   "execution_count": 1,
   "metadata": {},
   "outputs": [
    {
     "name": "stderr",
     "output_type": "stream",
     "text": [
      "/Users/willbarnes/anaconda/envs/chianti_cloud/lib/python3.6/site-packages/h5py/__init__.py:36: FutureWarning: Conversion of the second argument of issubdtype from `float` to `np.floating` is deprecated. In future, it will be treated as `np.float64 == np.dtype(float).type`.\n",
      "  from ._conv import register_converters as _register_converters\n"
     ]
    }
   ],
   "source": [
    "import h5pyd\n",
    "import h5py\n",
    "import numpy as np\n",
    "import astropy.units as u"
   ]
  },
  {
   "cell_type": "code",
   "execution_count": 2,
   "metadata": {},
   "outputs": [],
   "source": [
    "DOMAIN = 'chianti.hdfgroup.org'\n",
    "ENDPOINT = 'http://127.0.0.1:5000'"
   ]
  },
  {
   "cell_type": "code",
   "execution_count": null,
   "metadata": {},
   "outputs": [],
   "source": [
    "class DataIndexer(object):\n",
    "    \"\"\"\n",
    "    Data access layer for each distinct CHIANTI dataset\n",
    "\n",
    "    Acts as an interface layer between `Ion` and the CHIANTI data stored in the\n",
    "    HDF5 database. All data that the user interacts with passes through this layer.\n",
    "\n",
    "    .. warning:: This object is not meant to be instantiated directly by the user. Rather, instances\n",
    "                 are created by higher-level objects in order to provide access to the CHIANTI data.\n",
    "\n",
    "    Parameters\n",
    "    ----------\n",
    "    hdf5_path : `str`\n",
    "    top_level_path : `str`\n",
    "    \"\"\"\n",
    "    \n",
    "    def __init__(self, hdf5_path, top_level_path):\n",
    "        self.top_level_path = top_level_path\n",
    "        self.hdf5_dbase_root = hdf5_path\n",
    "\n",
    "    @classmethod\n",
    "    def create_indexer(cls, hdf5_path, top_level_path):\n",
    "        \"\"\"\n",
    "        Create an instance as long as the dataset exists\n",
    "        \"\"\"\n",
    "        with h5py.File(DOMAIN, 'r', endpoint=ENDPOINT) as hf:\n",
    "            path_is_valid = True if top_level_path in hf else False\n",
    "        return cls(hdf5_path, top_level_path) if path_is_valid else None\n",
    "\n",
    "    @property\n",
    "    def version(self):\n",
    "        with h5py.File(DOMAIN, 'r', endpoint=ENDPOINT) as hf:\n",
    "            if 'chianti_version' in hf[self.top_level_path].attrs:\n",
    "                version = hf[self.top_level_path].attrs['chianti_version']\n",
    "            else:\n",
    "                version = None\n",
    "        return version\n",
    "    \n",
    "    @property\n",
    "    def fields(self):\n",
    "        with h5py.File(DOMAIN, 'r', endpoint=ENDPOINT) as hf:\n",
    "            fields = [k for k in hf[self.top_level_path]]\n",
    "        return fields\n",
    "\n",
    "    def as_table(self):\n",
    "        qt = QTable()\n",
    "        for field in self.fields:\n",
    "            qt[field] = self[field]\n",
    "        return qt\n",
    "    \n",
    "    def __contains__(self, key):\n",
    "        with h5py.File(DOMAIN, 'r', endpoint=ENDPOINT) as hf:\n",
    "            key_in_grp = key in hf[self.top_level_path]\n",
    "        return key_in_grp\n",
    "    \n",
    "    def __getitem__(self, key):\n",
    "        if type(key) is int:\n",
    "            raise NotImplementedError('Iteration not supported.')\n",
    "        with h5py.File(DOMAIN, 'r', endpoint=ENDPOINT) as hf:\n",
    "            if key not in self:\n",
    "                return None\n",
    "            ds = hf[self.top_level_path][key]\n",
    "            if isinstance(ds, h5py.Group):\n",
    "                data = DataIndexer.create_indexer(self.hdf5_dbase_root,\n",
    "                                                  '/'.join([self.top_level_path, key]))\n",
    "            else:\n",
    "                if ds.attrs['unit'] == 'SKIP' or ds.dtype == 'object':\n",
    "                    data = np.array(ds, dtype=ds.dtype)\n",
    "                else:\n",
    "                    data = u.Quantity(np.array(ds), ds.attrs['unit'], dtype=ds.dtype)\n",
    "                if '|S' in data.dtype.str:\n",
    "                    data = data.astype(str)\n",
    "        return data\n",
    "    \n",
    "    def __repr__(self):\n",
    "\n",
    "        def ufilter(x):\n",
    "            return ('' if 'unit' not in x.attrs or x.attrs['unit'] == 'SKIP'\n",
    "                    or x.attrs['unit'] == '' else '({})'.format(x.attrs['unit']))\n",
    "\n",
    "        def dfilter(x):\n",
    "            return '' if 'description' not in x.attrs else '{}'.format(x.attrs['description'])\n",
    "\n",
    "        with h5py.File(DOMAIN, 'r', endpoint=ENDPOINT) as hf:\n",
    "            grp = hf[self.top_level_path]\n",
    "            var_names = [k for k in grp.keys()]\n",
    "            # var_names = [(key, ufilter(grp[key]), dfilter(grp[key])) for key in grp_keys]\n",
    "            footer = '' if 'footer' not in grp.attrs else grp.attrs['footer']\n",
    "            \n",
    "        #name_strs = '\\n'.join(['{} {} -- {}'.format(*v) for v in var_names])\n",
    "        name_strs = '\\n'.join(var_names)\n",
    "        version = '' if self.version is None else f'-- v{self.version}'\n",
    "        return f\"\"\"{self.top_level_path} {version}\n",
    "\n",
    "Fields\n",
    "------\n",
    "{name_strs}\n",
    "\n",
    "Footer\n",
    "------\n",
    "{footer}\"\"\""
   ]
  },
  {
   "cell_type": "code",
   "execution_count": null,
   "metadata": {},
   "outputs": [],
   "source": [
    "di = DataIndexer(None, '/')"
   ]
  },
  {
   "cell_type": "code",
   "execution_count": null,
   "metadata": {},
   "outputs": [],
   "source": [
    "di['fe/fe_11/elvlc']"
   ]
  },
  {
   "cell_type": "code",
   "execution_count": null,
   "metadata": {},
   "outputs": [],
   "source": [
    "di['fe/fe_11/elvlc/multiplicity']"
   ]
  },
  {
   "cell_type": "code",
   "execution_count": null,
   "metadata": {},
   "outputs": [],
   "source": [
    "di.version"
   ]
  },
  {
   "cell_type": "code",
   "execution_count": null,
   "metadata": {},
   "outputs": [],
   "source": [
    "di.fields"
   ]
  },
  {
   "cell_type": "code",
   "execution_count": null,
   "metadata": {},
   "outputs": [],
   "source": [
    "di['al']"
   ]
  },
  {
   "cell_type": "code",
   "execution_count": null,
   "metadata": {},
   "outputs": [],
   "source": [
    "with h5py.File(DOMAIN, 'r', endpoint=ENDPOINT) as hf:\n",
    "    grp = hf['/']\n",
    "    print([a for a in grp.attrs])\n",
    "    #print([k for k in hf['al'].keys()])"
   ]
  },
  {
   "cell_type": "code",
   "execution_count": null,
   "metadata": {},
   "outputs": [],
   "source": [
    "var_names"
   ]
  },
  {
   "cell_type": "code",
   "execution_count": 9,
   "metadata": {},
   "outputs": [
    {
     "name": "stdout",
     "output_type": "stream",
     "text": [
      "['dset1.1.1', 'dset1.1.2']\n"
     ]
    }
   ],
   "source": [
    "with h5py.File('/Users/willbarnes/Documents/projects/h5serv/data/test/tall.h5','r') as hf:\n",
    "    print([k for k in hf['g1/g1.1'].keys()])\n",
    "    foo = np.array(hf['g1/g1.1/dset1.1.1'])"
   ]
  },
  {
   "cell_type": "code",
   "execution_count": 10,
   "metadata": {},
   "outputs": [
    {
     "data": {
      "text/plain": [
       "array([[ 0,  0,  0,  0,  0,  0,  0,  0,  0,  0],\n",
       "       [ 0,  1,  2,  3,  4,  5,  6,  7,  8,  9],\n",
       "       [ 0,  2,  4,  6,  8, 10, 12, 14, 16, 18],\n",
       "       [ 0,  3,  6,  9, 12, 15, 18, 21, 24, 27],\n",
       "       [ 0,  4,  8, 12, 16, 20, 24, 28, 32, 36],\n",
       "       [ 0,  5, 10, 15, 20, 25, 30, 35, 40, 45],\n",
       "       [ 0,  6, 12, 18, 24, 30, 36, 42, 48, 54],\n",
       "       [ 0,  7, 14, 21, 28, 35, 42, 49, 56, 63],\n",
       "       [ 0,  8, 16, 24, 32, 40, 48, 56, 64, 72],\n",
       "       [ 0,  9, 18, 27, 36, 45, 54, 63, 72, 81]], dtype=int32)"
      ]
     },
     "execution_count": 10,
     "metadata": {},
     "output_type": "execute_result"
    }
   ],
   "source": [
    "foo"
   ]
  },
  {
   "cell_type": "code",
   "execution_count": 45,
   "metadata": {},
   "outputs": [],
   "source": [
    "with h5py.File('/Users/willbarnes/Documents/projects/h5serv/data/chianti.h5','r') as hf:\n",
    "    # print([k for k in hf['g1/g1.1'].keys()])\n",
    "    foo = np.array(hf['h/h_1/elvlc/E_obs'])"
   ]
  },
  {
   "cell_type": "code",
   "execution_count": 46,
   "metadata": {},
   "outputs": [
    {
     "data": {
      "text/plain": [
       "array([     0.   ,  82258.956,  82258.921,  82259.287,  97492.224,\n",
       "        97492.213,  97492.321,  97492.321,  97492.357, 102823.855,\n",
       "       102823.851, 102823.896, 102823.896, 102823.911, 102823.911,\n",
       "       102823.919, 105291.633, 105291.631, 105291.654, 105291.654,\n",
       "       105291.662, 105291.662, 105291.666, 105291.666, 105291.668])"
      ]
     },
     "execution_count": 46,
     "metadata": {},
     "output_type": "execute_result"
    }
   ],
   "source": [
    "foo"
   ]
  },
  {
   "cell_type": "code",
   "execution_count": 47,
   "metadata": {},
   "outputs": [
    {
     "name": "stdout",
     "output_type": "stream",
     "text": [
      "['dset1.1.1', 'dset1.1.2']\n"
     ]
    }
   ],
   "source": [
    "with h5pyd.File('tall.test.hdfgroup.org','r',endpoint='http://127.0.0.1:5000') as hf:\n",
    "    print([k for k in hf['g1/g1.1'].keys()])\n",
    "    foo = np.array(hf['g1/g1.1/dset1.1.1'])"
   ]
  },
  {
   "cell_type": "code",
   "execution_count": 48,
   "metadata": {},
   "outputs": [
    {
     "data": {
      "text/plain": [
       "array([[ 0,  0,  0,  0,  0,  0,  0,  0,  0,  0],\n",
       "       [ 0,  1,  2,  3,  4,  5,  6,  7,  8,  9],\n",
       "       [ 0,  2,  4,  6,  8, 10, 12, 14, 16, 18],\n",
       "       [ 0,  3,  6,  9, 12, 15, 18, 21, 24, 27],\n",
       "       [ 0,  4,  8, 12, 16, 20, 24, 28, 32, 36],\n",
       "       [ 0,  5, 10, 15, 20, 25, 30, 35, 40, 45],\n",
       "       [ 0,  6, 12, 18, 24, 30, 36, 42, 48, 54],\n",
       "       [ 0,  7, 14, 21, 28, 35, 42, 49, 56, 63],\n",
       "       [ 0,  8, 16, 24, 32, 40, 48, 56, 64, 72],\n",
       "       [ 0,  9, 18, 27, 36, 45, 54, 63, 72, 81]], dtype=int32)"
      ]
     },
     "execution_count": 48,
     "metadata": {},
     "output_type": "execute_result"
    }
   ],
   "source": [
    "foo"
   ]
  },
  {
   "cell_type": "code",
   "execution_count": 53,
   "metadata": {},
   "outputs": [],
   "source": [
    "with h5pyd.File('chianti.hdfgroup.org','r',endpoint='http://127.0.0.1:5000') as hf:\n",
    "    #print([k for k in hf['g1/g1.1'].keys()])\n",
    "    foo = np.array(hf['fe/fe_15/ioneq/chianti/ionization_fraction'])"
   ]
  },
  {
   "cell_type": "code",
   "execution_count": 54,
   "metadata": {},
   "outputs": [
    {
     "data": {
      "text/plain": [
       "array([2.31584178e+077, 2.31584178e+077, 9.33784071e-322,             nan,\n",
       "       2.59903817e-144, 1.65780439e-076, 9.72157424e-072, 6.20013304e-091,\n",
       "       6.86422360e+169, 2.59027864e-144, 1.20649766e+285, 1.16442050e-028,\n",
       "       2.80867394e+059, 5.21893390e+164, 3.08395988e+039, 8.70336807e+150,\n",
       "       2.18232560e-094, 5.49409691e-143, 6.09114655e+247, 6.93627722e+092,\n",
       "       1.36449813e-143, 9.95718346e-143, 7.45764518e+295, 3.98568237e+252,\n",
       "       4.26241819e+180, 1.94920553e-153, 3.32107505e+098, 3.08395988e+039,\n",
       "       1.76192294e+016, 3.71879460e+006, 5.29435892e+199, 1.16096349e-028,\n",
       "       9.97830543e+044, 8.71617999e+150, 1.04916846e-153, 1.04857810e-142,\n",
       "       6.09114655e+247, 3.92579378e+020, 6.51946094e+102, 1.06244775e-153,\n",
       "       4.24510207e+175, 5.05117709e-038, 6.98340586e-076, 3.75560927e+126,\n",
       "       8.88060621e+252, 4.23661523e+175, 5.05117709e-038, 6.98340586e-076,\n",
       "       3.75560927e+126, 2.18226585e+243, 4.69419004e+257, 1.05146958e-153,\n",
       "       1.16440800e-028, 7.27701731e-143, 1.07145263e+200, 1.28736972e+243,\n",
       "       5.52921105e+252, 8.15763153e-043, 2.73458399e-052, 2.86530687e+161,\n",
       "       2.59020453e+184, 1.02875439e-071, 7.48491992e-091, 4.51846857e-037,\n",
       "       1.47802009e+185, 2.61946838e-003, 3.26671969e+131, 5.86426311e+294,\n",
       "       7.27701731e-143, 5.74637518e-143, 5.73941856e-143, 3.32304084e-027,\n",
       "       3.25352377e-086, 1.39804993e-076, 4.91459762e+252, 6.38302116e-067,\n",
       "       5.33599304e-091, 2.12772913e-052, 2.17699601e-076, 5.81837337e+294,\n",
       "       7.27701731e-143, 1.04737682e-142, 5.73941856e-143, 3.32304084e-027,\n",
       "       3.25352377e-086, 1.39804993e-076, 4.09865727e-080, 1.05033255e-046,\n",
       "       9.72157424e-072, 4.76085743e-090, 6.86422360e+169, 1.06239601e-153,\n",
       "       1.94919756e-153, 2.76455339e+257, 4.13486544e+193, 4.13491417e+193,\n",
       "       6.37401647e-067, 2.16847421e-028, 3.98455248e+252, 4.27535652e-037,\n",
       "       5.41326761e-067])"
      ]
     },
     "execution_count": 54,
     "metadata": {},
     "output_type": "execute_result"
    }
   ],
   "source": [
    "foo"
   ]
  },
  {
   "cell_type": "code",
   "execution_count": null,
   "metadata": {},
   "outputs": [],
   "source": []
  }
 ],
 "metadata": {
  "kernelspec": {
   "display_name": "Python [conda env:chianti_cloud]",
   "language": "python",
   "name": "conda-env-chianti_cloud-py"
  },
  "language_info": {
   "codemirror_mode": {
    "name": "ipython",
    "version": 3
   },
   "file_extension": ".py",
   "mimetype": "text/x-python",
   "name": "python",
   "nbconvert_exporter": "python",
   "pygments_lexer": "ipython3",
   "version": "3.6.4"
  }
 },
 "nbformat": 4,
 "nbformat_minor": 2
}
