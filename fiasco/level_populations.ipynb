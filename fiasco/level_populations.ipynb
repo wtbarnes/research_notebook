{
 "cells": [
  {
   "cell_type": "markdown",
   "metadata": {},
   "source": [
    "# Level Populations\n",
    "Calculate the level populations "
   ]
  },
  {
   "cell_type": "code",
   "execution_count": 1,
   "metadata": {},
   "outputs": [
    {
     "name": "stdout",
     "output_type": "stream",
     "text": [
      " using cli\n",
      " using CLI for selections\n"
     ]
    },
    {
     "name": "stderr",
     "output_type": "stream",
     "text": [
      "/Users/willbarnes/anaconda/envs/fiasco/lib/python3.6/site-packages/ChiantiPy-0.7.dev673-py3.6.egg/ChiantiPy/core/IpyMspectrum.py:9: UserWarning: ipyparallel not found. You won't be able to use the ipymspectrum module\n",
      "  warnings.warn(\"ipyparallel not found. You won't be able to use the ipymspectrum module\")\n"
     ]
    }
   ],
   "source": [
    "import os\n",
    "import warnings\n",
    "\n",
    "import numpy as np\n",
    "import dask\n",
    "import dask.array\n",
    "import distributed\n",
    "import plasmapy.atomic\n",
    "import astropy.units as u\n",
    "import astropy.constants as const\n",
    "import matplotlib.pyplot as plt\n",
    "import matplotlib.colors\n",
    "import seaborn\n",
    "import scipy.interpolate\n",
    "import scipy.linalg\n",
    "import hissw\n",
    "import h5py\n",
    "import fortranformat\n",
    "os.environ['XUVTOP'] = '/Users/willbarnes/ssw/packages/chianti/dbase/'\n",
    "import ChiantiPy.core as ch\n",
    "import ChiantiPy.tools as ch_tools\n",
    "\n",
    "import fiasco\n",
    "\n",
    "%matplotlib inline"
   ]
  },
  {
   "cell_type": "code",
   "execution_count": 2,
   "metadata": {},
   "outputs": [],
   "source": [
    "foo = fiasco.Ion('fe_11', [1e4,1e8]*u.K)\n",
    "bar = fiasco.Ion('fe_12', [1e6,1e9]*u.K)"
   ]
  },
  {
   "cell_type": "code",
   "execution_count": 4,
   "metadata": {},
   "outputs": [
    {
     "ename": "AssertionError",
     "evalue": "Temperatures for all ions in collection must be the same.",
     "output_type": "error",
     "traceback": [
      "\u001b[0;31m---------------------------------------------------------------------------\u001b[0m",
      "\u001b[0;31mAssertionError\u001b[0m                            Traceback (most recent call last)",
      "\u001b[0;32m<ipython-input-4-4894267f738c>\u001b[0m in \u001b[0;36m<module>\u001b[0;34m()\u001b[0m\n\u001b[0;32m----> 1\u001b[0;31m \u001b[0mfiasco\u001b[0m\u001b[0;34m.\u001b[0m\u001b[0mIonCollection\u001b[0m\u001b[0;34m(\u001b[0m\u001b[0mfoo\u001b[0m\u001b[0;34m,\u001b[0m\u001b[0mbar\u001b[0m\u001b[0;34m)\u001b[0m\u001b[0;34m\u001b[0m\u001b[0m\n\u001b[0m",
      "\u001b[0;32m~/anaconda/envs/fiasco/lib/python3.6/site-packages/fiasco-0.1.dev100-py3.6.egg/fiasco/collections.py\u001b[0m in \u001b[0;36m__init__\u001b[0;34m(self, *args, **kwargs)\u001b[0m\n\u001b[1;32m     32\u001b[0m         \u001b[0;31m# TODO: check for duplicates\u001b[0m\u001b[0;34m\u001b[0m\u001b[0;34m\u001b[0m\u001b[0m\n\u001b[1;32m     33\u001b[0m         assert all([all(self[0].temperature == ion.temperature) for ion in self]), (\n\u001b[0;32m---> 34\u001b[0;31m                'Temperatures for all ions in collection must be the same.')\n\u001b[0m\u001b[1;32m     35\u001b[0m \u001b[0;34m\u001b[0m\u001b[0m\n\u001b[1;32m     36\u001b[0m     \u001b[0;32mdef\u001b[0m \u001b[0m__getitem__\u001b[0m\u001b[0;34m(\u001b[0m\u001b[0mself\u001b[0m\u001b[0;34m,\u001b[0m \u001b[0mvalue\u001b[0m\u001b[0;34m)\u001b[0m\u001b[0;34m:\u001b[0m\u001b[0;34m\u001b[0m\u001b[0m\n",
      "\u001b[0;31mAssertionError\u001b[0m: Temperatures for all ions in collection must be the same."
     ]
    }
   ],
   "source": [
    "fiasco.IonCollection(foo,bar)"
   ]
  },
  {
   "cell_type": "code",
   "execution_count": 5,
   "metadata": {},
   "outputs": [
    {
     "ename": "AssertionError",
     "evalue": "Temperatures for all ions in collection must be the same.",
     "output_type": "error",
     "traceback": [
      "\u001b[0;31m---------------------------------------------------------------------------\u001b[0m",
      "\u001b[0;31mAssertionError\u001b[0m                            Traceback (most recent call last)",
      "\u001b[0;32m<ipython-input-5-0308bf3c490f>\u001b[0m in \u001b[0;36m<module>\u001b[0;34m()\u001b[0m\n\u001b[0;32m----> 1\u001b[0;31m \u001b[0mfoo\u001b[0m\u001b[0;34m+\u001b[0m\u001b[0mbar\u001b[0m\u001b[0;34m\u001b[0m\u001b[0m\n\u001b[0m",
      "\u001b[0;32m~/anaconda/envs/fiasco/lib/python3.6/site-packages/fiasco-0.1.dev100-py3.6.egg/fiasco/ion.py\u001b[0m in \u001b[0;36m__add__\u001b[0;34m(self, value)\u001b[0m\n\u001b[1;32m     88\u001b[0m \u001b[0;34m\u001b[0m\u001b[0m\n\u001b[1;32m     89\u001b[0m     \u001b[0;32mdef\u001b[0m \u001b[0m__add__\u001b[0m\u001b[0;34m(\u001b[0m\u001b[0mself\u001b[0m\u001b[0;34m,\u001b[0m \u001b[0mvalue\u001b[0m\u001b[0;34m)\u001b[0m\u001b[0;34m:\u001b[0m\u001b[0;34m\u001b[0m\u001b[0m\n\u001b[0;32m---> 90\u001b[0;31m         \u001b[0;32mreturn\u001b[0m \u001b[0mIonCollection\u001b[0m\u001b[0;34m(\u001b[0m\u001b[0mself\u001b[0m\u001b[0;34m,\u001b[0m \u001b[0mvalue\u001b[0m\u001b[0;34m)\u001b[0m\u001b[0;34m\u001b[0m\u001b[0m\n\u001b[0m\u001b[1;32m     91\u001b[0m \u001b[0;34m\u001b[0m\u001b[0m\n\u001b[1;32m     92\u001b[0m     \u001b[0;32mdef\u001b[0m \u001b[0m__radd__\u001b[0m\u001b[0;34m(\u001b[0m\u001b[0mself\u001b[0m\u001b[0;34m,\u001b[0m \u001b[0mvalue\u001b[0m\u001b[0;34m)\u001b[0m\u001b[0;34m:\u001b[0m\u001b[0;34m\u001b[0m\u001b[0m\n",
      "\u001b[0;32m~/anaconda/envs/fiasco/lib/python3.6/site-packages/fiasco-0.1.dev100-py3.6.egg/fiasco/collections.py\u001b[0m in \u001b[0;36m__init__\u001b[0;34m(self, *args, **kwargs)\u001b[0m\n\u001b[1;32m     32\u001b[0m         \u001b[0;31m# TODO: check for duplicates\u001b[0m\u001b[0;34m\u001b[0m\u001b[0;34m\u001b[0m\u001b[0m\n\u001b[1;32m     33\u001b[0m         assert all([all(self[0].temperature == ion.temperature) for ion in self]), (\n\u001b[0;32m---> 34\u001b[0;31m                'Temperatures for all ions in collection must be the same.')\n\u001b[0m\u001b[1;32m     35\u001b[0m \u001b[0;34m\u001b[0m\u001b[0m\n\u001b[1;32m     36\u001b[0m     \u001b[0;32mdef\u001b[0m \u001b[0m__getitem__\u001b[0m\u001b[0;34m(\u001b[0m\u001b[0mself\u001b[0m\u001b[0;34m,\u001b[0m \u001b[0mvalue\u001b[0m\u001b[0;34m)\u001b[0m\u001b[0;34m:\u001b[0m\u001b[0;34m\u001b[0m\u001b[0m\n",
      "\u001b[0;31mAssertionError\u001b[0m: Temperatures for all ions in collection must be the same."
     ]
    }
   ],
   "source": [
    "foo+bar"
   ]
  },
  {
   "cell_type": "markdown",
   "metadata": {},
   "source": [
    "## Modified Ion Object"
   ]
  },
  {
   "cell_type": "code",
   "execution_count": null,
   "metadata": {},
   "outputs": [],
   "source": [
    "@u.quantity_input\n",
    "def proton_ratio(temperature: u.K):\n",
    "    denominator = None\n",
    "    for el_name in list_elements():\n",
    "        el = fiasco.Element(el_name,temperature=temperature)\n",
    "        for ion in el:\n",
    "            if denominator is None:\n",
    "                denominator = ion._ioneq['chianti']['ionization_fraction']*ion.abundance*ion.charge_state\n",
    "            else:\n",
    "                denominator += ion._ioneq['chianti']['ionization_fraction']*ion.abundance*ion.charge_state\n",
    "            \n",
    "    el_h = fiasco.Element('hydrogen',temperature=temperature)\n",
    "    numerator = el_h[1].abundance*el_h[1]._ioneq['chianti']['ionization_fraction']\n",
    "    f_ratio = scipy.interpolate.interp1d(el_h[1]._ioneq['chianti']['temperature'],numerator/denominator,\n",
    "                                         fill_value='extrapolate')\n",
    "    \n",
    "    return f_ratio(temperature.value)\n",
    "\n",
    "def list_elements():\n",
    "    with h5py.File(fiasco.defaults['hdf5_dbase_root']) as hf:\n",
    "        elements = [k.capitalize() for k in hf.keys()]\n",
    "    return elements"
   ]
  },
  {
   "cell_type": "code",
   "execution_count": null,
   "metadata": {},
   "outputs": [],
   "source": [
    "class TestIon(fiasco.Ion):\n",
    "    \n",
    "    @fiasco.util.needs_dataset('scups')\n",
    "    def effective_collision_strength(self):\n",
    "        \"\"\"\n",
    "        Calculate the effective collision strength or the Maxwellian-averaged collision\n",
    "        strength, typically denoted by upsilon.\n",
    "        \n",
    "        Note\n",
    "        ----\n",
    "        Need a more efficient way of calculating upsilon for all transitions. Current method is slow ions with\n",
    "        many transitions, e.g. Fe IX and Fe XI\n",
    "        \"\"\"\n",
    "        energy_ratio = np.outer(const.k_B.cgs*self.temperature,1.0/self._scups['delta_energy'].to(u.erg))\n",
    "        upsilon = np.array(list(map(self.burgess_tully_descale, self._scups['bt_t'], self._scups['bt_upsilon'],\n",
    "                                    energy_ratio.T, self._scups['bt_c'], self._scups['bt_type'])))\n",
    "        upsilon = u.Quantity(np.where(upsilon>0., upsilon,0.))\n",
    "        return upsilon.T\n",
    "    \n",
    "    @fiasco.util.needs_dataset('elvlc','scups')\n",
    "    def electron_collision_rate(self):\n",
    "        \"\"\"\n",
    "        Calculates the collision rate for de-exciting and exciting collisions for electrons\n",
    "        \"\"\"\n",
    "        c = (const.h.cgs**2)/((2. * np.pi * const.m_e.cgs)**(1.5) * np.sqrt(const.k_B.cgs))\n",
    "        upsilon = self.effective_collision_strength()\n",
    "        omega_upper = 2.*self._elvlc['J'][self._scups['upper_level'] - 1] + 1.\n",
    "        omega_lower = 2.*self._elvlc['J'][self._scups['lower_level'] - 1] + 1.\n",
    "        dex_rate = c*upsilon/(np.sqrt(self.temperature)[:,np.newaxis])/omega_upper\n",
    "        energy_ratio = np.outer(1./const.k_B.cgs/self.temperature,self._scups['delta_energy'].to(u.erg))\n",
    "        ex_rate = (omega_upper/omega_lower)*dex_rate*np.exp(-energy_ratio)\n",
    "        \n",
    "        return dex_rate, ex_rate\n",
    "    \n",
    "    @fiasco.util.needs_dataset('psplups',default=(None,None))\n",
    "    def proton_collision_rate(self):\n",
    "        \"\"\"\n",
    "        Calculates the collision rate for de-exciting and exciting collisions for protons\n",
    "        \"\"\"\n",
    "        # Create scaled temperature--these are not stored in the file\n",
    "        bt_t = np.vectorize(np.linspace,excluded=[0,1],otypes='O')(0,1,[ups.shape[0] \n",
    "                                                                        for ups in self._psplups['bt_rate']])\n",
    "        # Get excitation rates directly from scaled data\n",
    "        energy_ratio = np.outer(const.k_B.cgs*self.temperature,1.0/self._psplups['delta_energy'].to(u.erg))\n",
    "        ex_rate = np.array(list(map(self.burgess_tully_descale, bt_t, self._psplups['bt_rate'], energy_ratio.T,\n",
    "                                    self._psplups['bt_c'], self._psplups['bt_type'])))\n",
    "        ex_rate = u.Quantity(np.where(ex_rate>0.,ex_rate,0.),u.cm**3/u.s).T\n",
    "        # Calculation de-excitation rates from excitation rate\n",
    "        omega_upper = 2.*self._elvlc['J'][self._psplups['upper_level'] - 1] + 1.\n",
    "        omega_lower = 2.*self._elvlc['J'][self._psplups['lower_level'] - 1] + 1.\n",
    "        dex_rate = (omega_lower/omega_upper)*ex_rate*np.exp(1./energy_ratio)\n",
    "        \n",
    "        return dex_rate, ex_rate\n",
    "    \n",
    "    @fiasco.util.needs_dataset('wgfa','elvlc','scups')\n",
    "    @u.quantity_input\n",
    "    def level_populations(self, density: u.cm**(-3), include_protons=True):\n",
    "        \"\"\"\n",
    "        Calculate populations of all energy levels as a function temperature and density.\n",
    "        \"\"\"\n",
    "        def collect(a,b,c,axis):\n",
    "            return c[np.where(a==b)].sum(axis=axis)\n",
    "        collect_v = np.vectorize(collect,excluded=[0,2,3])\n",
    "        level = self._elvlc['level']\n",
    "        upper_level = self._scups['upper_level']\n",
    "        lower_level = self._scups['lower_level']\n",
    "        coeff_matrix = np.zeros(self.temperature.shape+level.shape+level.shape)/u.s\n",
    "        \n",
    "        # Radiative decays\n",
    "        a_diagonal = collect_v(self._wgfa['upper_level'], level, self._wgfa['A'].value, None)*self._wgfa['A'].unit\n",
    "        coeff_matrix[:,level - 1,level - 1] += -a_diagonal\n",
    "        coeff_matrix[:,self._wgfa['lower_level']-1,self._wgfa['upper_level']-1] += self._wgfa['A']\n",
    "        \n",
    "        # Proton and electron collision rates\n",
    "        dex_rate_e,ex_rate_e = self.electron_collision_rate()\n",
    "        ex_diagonal = np.array([collect(lower_level, l, ex_rate_e.value.T,0) for l in level]).T*ex_rate_e.unit\n",
    "        dex_diagonal = np.array([collect(upper_level, l, dex_rate_e.value.T,0) for l in level]).T*dex_rate_e.unit\n",
    "        if include_protons and self._psplups is not None:\n",
    "            p2e_ratio = proton_ratio(self.temperature)\n",
    "            dex_rate_p,ex_rate_p = self.proton_collision_rate()\n",
    "            upper_level_p = self._psplups['upper_level']\n",
    "            lower_level_p = self._psplups['lower_level']\n",
    "            ex_diagonal_p = np.array([collect(lower_level_p, l, ex_rate_p.value.T,0) for l in level]).T*ex_rate_p.unit\n",
    "            dex_diagonal_p = np.array([collect(upper_level_p, l, dex_rate_p.value.T,0) for l in level]).T*dex_rate_p.unit\n",
    "        \n",
    "        # Allocate array of nlvl-by-ntemp-by-ndensity to store populations\n",
    "        populations = np.zeros(self.temperature.shape+density.shape+level.shape)\n",
    "        b = np.zeros(self.temperature.shape+level.shape)\n",
    "        b[:,-1] = 1.0\n",
    "        # Iterate over temperature and density\n",
    "        for i_d,d in enumerate(density):\n",
    "            coeff_matrix_copy = coeff_matrix.copy()\n",
    "            # excitation and de-excitation out of current state\n",
    "            coeff_matrix_copy[:,level - 1, level - 1] -= d*(dex_diagonal + ex_diagonal)\n",
    "            # De-excitation from upper states and excitation from lower states\n",
    "            coeff_matrix_copy[:,lower_level - 1,upper_level - 1] += d*dex_rate_e\n",
    "            coeff_matrix_copy[:,upper_level - 1,lower_level - 1] += d*ex_rate_e\n",
    "\n",
    "            # protons\n",
    "            if include_protons and self._psplups is not None:\n",
    "                coeff_matrix_copy[:,level-1, level-1] -= d*p2e_ratio[:,np.newaxis]*(dex_diagonal_p + ex_diagonal_p)\n",
    "                coeff_matrix_copy[:,lower_level_p - 1,upper_level_p - 1] += d*p2e_ratio[:,np.newaxis]*dex_rate_p\n",
    "                coeff_matrix_copy[:,upper_level_p - 1,lower_level_p - 1] += d*p2e_ratio[:,np.newaxis]*ex_rate_p\n",
    "\n",
    "            coeff_matrix_copy[:,-1,:] = 1.*coeff_matrix_copy.unit\n",
    "            pop = np.linalg.solve(coeff_matrix_copy.value,b)\n",
    "            pop = np.where(pop < 0., 0., pop)\n",
    "            pop /= pop.sum(axis=1)[:,np.newaxis]\n",
    "            populations[:,i_d,:] = pop\n",
    "                \n",
    "        return u.Quantity(populations)\n",
    "    \n",
    "    def emissivity(self, density: u.cm**(-3), include_energy=False, **kwargs):\n",
    "        \"\"\"\n",
    "        Calculate emissivity for all lines as a function of temperature and density\n",
    "        \"\"\"\n",
    "        populations = self.level_populations(density,include_protons=kwargs.get('include_protons',True))\n",
    "        wavelengths = np.fabs(self._wgfa['wavelength'])\n",
    "        upper_levels = self._wgfa['upper_level'][wavelengths != 0*u.angstrom]\n",
    "        a_values = self._wgfa['A'][wavelengths != 0*u.angstrom]\n",
    "        wavelengths = wavelengths[wavelengths != 0*u.angstrom]\n",
    "        if include_energy:\n",
    "            energy = const.h.cgs*const.c.cgs/wavelengths.to(u.cm)\n",
    "        else:\n",
    "            energy = 1.*u.photon\n",
    "        emiss = populations[:,:,upper_levels - 1]*(a_values*energy)\n",
    "        \n",
    "        return emiss"
   ]
  },
  {
   "cell_type": "code",
   "execution_count": null,
   "metadata": {},
   "outputs": [],
   "source": [
    "def collect(a,b,c,axis):\n",
    "    return c[np.where(a==b)].sum(axis=axis)\n",
    "collect_v = np.vectorize(collect,excluded=[0,2,3])"
   ]
  },
  {
   "cell_type": "code",
   "execution_count": null,
   "metadata": {},
   "outputs": [],
   "source": [
    "temperature = 10.**(np.arange(5,8,0.01))*u.K\n",
    "density = np.logspace(8,10,20)*u.cm**(-3)\n",
    "foo = TestIon('h_1',temperature)"
   ]
  },
  {
   "cell_type": "code",
   "execution_count": null,
   "metadata": {},
   "outputs": [],
   "source": [
    "pop = foo.level_populations(density)"
   ]
  },
  {
   "cell_type": "markdown",
   "metadata": {},
   "source": [
    "## Level Populations"
   ]
  },
  {
   "cell_type": "code",
   "execution_count": null,
   "metadata": {},
   "outputs": [],
   "source": [
    "ti = TestIon('fe_5',10.**(np.arange(5,7,0.1))*u.K)"
   ]
  },
  {
   "cell_type": "code",
   "execution_count": null,
   "metadata": {},
   "outputs": [],
   "source": [
    "ch_ion = None\n",
    "ch_ion = ch.ion('fe_5',temperature=ti.temperature.value,eDensity=1e10*np.ones(ti.temperature.shape))"
   ]
  },
  {
   "cell_type": "code",
   "execution_count": null,
   "metadata": {},
   "outputs": [],
   "source": [
    "pop = ti.level_populations([1e10]/(u.cm**3),include_protons=True)\n",
    "emiss = ti.emissivity([1e10]/(u.cm**3),include_energy=True)"
   ]
  },
  {
   "cell_type": "code",
   "execution_count": null,
   "metadata": {},
   "outputs": [],
   "source": [
    "#ch_ion.PDensity = np.zeros(ch_ion.Temperature.shape)\n",
    "ch_ion.populate(popCorrect=0)\n",
    "ch_ion.emiss()"
   ]
  },
  {
   "cell_type": "code",
   "execution_count": null,
   "metadata": {},
   "outputs": [],
   "source": [
    "ssw_script = \"\"\"\n",
    "temperature = {{temperature}}\n",
    "density = {{density}}\n",
    "emiss = emiss_calc({{atomic_number}},{{ionization_stage}})\n",
    "\"\"\""
   ]
  },
  {
   "cell_type": "code",
   "execution_count": null,
   "metadata": {},
   "outputs": [],
   "source": [
    "num_levels = 15#ti._elvlc['level'].shape[0]\n",
    "colors = seaborn.color_palette('Set2',n_colors=num_levels)\n",
    "for i in range(num_levels):\n",
    "    plt.plot(ti.temperature,pop[:,0,i],color=colors[i])\n",
    "    plt.plot(ch_ion.Temperature,ch_ion.Population['population'][:,i],'o',color=colors[i],ls='',markevery=2)\n",
    "plt.xscale('log')\n",
    "plt.yscale('log')\n",
    "#plt.ylim([1e-16,1e-9])\n",
    "#plt.xlim([5e5,1e7])"
   ]
  },
  {
   "cell_type": "code",
   "execution_count": null,
   "metadata": {},
   "outputs": [],
   "source": [
    "num_levels = 15#ti._elvlc['level'].shape[0]\n",
    "colors = seaborn.color_palette('Set2',n_colors=num_levels)\n",
    "for i in range(num_levels):\n",
    "    plt.plot(ti.temperature,emiss[:,0,i],color=colors[i])\n",
    "    plt.plot(ch_ion.Temperature,4.*np.pi*ch_ion.Emiss['emiss'][i,:],'o',color=colors[i],ls='',markevery=2)\n",
    "plt.xscale('log')\n",
    "plt.yscale('log')\n",
    "plt.ylim([1e-12,1e-7])"
   ]
  },
  {
   "cell_type": "markdown",
   "metadata": {},
   "source": [
    "## Comparing Electron Collision Rates"
   ]
  },
  {
   "cell_type": "code",
   "execution_count": null,
   "metadata": {},
   "outputs": [],
   "source": [
    "ti = TestIon('h_1', np.logspace(5.5,9,20)*u.K)"
   ]
  },
  {
   "cell_type": "code",
   "execution_count": null,
   "metadata": {},
   "outputs": [],
   "source": [
    "dex_e,ex_e = ti.electron_collision_rate()"
   ]
  },
  {
   "cell_type": "code",
   "execution_count": null,
   "metadata": {},
   "outputs": [],
   "source": [
    "ch_ion = ch.ion('h_1',ti.temperature.value)"
   ]
  },
  {
   "cell_type": "code",
   "execution_count": null,
   "metadata": {},
   "outputs": [],
   "source": [
    "ch_ion.upsilonDescale()"
   ]
  },
  {
   "cell_type": "code",
   "execution_count": null,
   "metadata": {},
   "outputs": [],
   "source": [
    "fig = plt.figure(figsize=(20,15))\n",
    "ax1 = plt.subplot2grid((3,2),(0,0),rowspan=2)\n",
    "ax2 = plt.subplot2grid((3,2),(0,1),rowspan=2)\n",
    "ax3 = plt.subplot2grid((3,2),(2,0),colspan=2)\n",
    "num_levels = ti._elvlc['level'].max()\n",
    "colors = seaborn.color_palette('Set2',n_colors=num_levels)\n",
    "for i in range(num_levels):\n",
    "    ax1.plot(ti.temperature,dex_e[i,:],color=colors[i])\n",
    "    ax2.plot(ti.temperature,ex_e[i,:],color=colors[i])\n",
    "    ax1.plot(ch_ion.Temperature,ch_ion.Upsilon['dexRate'][i,:],'o',ls='',color=colors[i])\n",
    "    ax2.plot(ch_ion.Temperature,ch_ion.Upsilon['exRate'][i,:],'o',ls='',color=colors[i])\n",
    "    ax3.plot(ti.temperature,np.fabs(dex_e[i,:].value - ch_ion.Upsilon['dexRate'][i,:])/ch_ion.Upsilon['dexRate'][i,:])\n",
    "    ax3.plot(ti.temperature,np.fabs(ex_e[i,:].value - ch_ion.Upsilon['exRate'][i,:])/ch_ion.Upsilon['exRate'][i,:],ls='--')\n",
    "#axes[0].set_title('De-excitation')\n",
    "#axes[1].set_title('Excitation')\n",
    "ax1.set_xscale('log')\n",
    "ax2.set_xscale('log')\n",
    "ax1.set_yscale('log')\n",
    "ax2.set_yscale('log')\n",
    "ax3.set_xscale('log')\n",
    "ax3.set_yscale('log')\n",
    "ax3.set_ylim([1e-10,1])\n",
    "#plt.subplots_adjust(wspace=0)"
   ]
  },
  {
   "cell_type": "code",
   "execution_count": null,
   "metadata": {},
   "outputs": [],
   "source": [
    "plt.figure(figsize=(15,12))\n",
    "plt.subplot(221)\n",
    "plt.pcolor(dex_e.value,norm=matplotlib.colors.SymLogNorm(1e-30,vmin=1e-20,vmax=1e-9))\n",
    "plt.subplot(223)\n",
    "plt.pcolor(ex_e.value,norm=matplotlib.colors.SymLogNorm(1e-30,vmin=1e-20,vmax=1e-9))\n",
    "plt.subplot(222)\n",
    "plt.pcolor(ch_ion.Upsilon['dexRate'],norm=matplotlib.colors.SymLogNorm(1e-30,vmin=1e-20,vmax=1e-9))\n",
    "plt.subplot(224)\n",
    "plt.pcolor(ch_ion.Upsilon['exRate'],norm=matplotlib.colors.SymLogNorm(1e-30,vmin=1e-20,vmax=1e-9))"
   ]
  },
  {
   "cell_type": "code",
   "execution_count": null,
   "metadata": {},
   "outputs": [],
   "source": [
    "plt.figure(figsize=(15,6))\n",
    "plt.subplot(121)\n",
    "plt.pcolor((ch_ion.Upsilon['dexRate'] - dex_e.value)/ch_ion.Upsilon['dexRate'],\n",
    "           vmin=0,vmax=1\n",
    "          )\n",
    "plt.subplot(122)\n",
    "plt.pcolor((ch_ion.Upsilon['exRate'] - ex_e.value)/ch_ion.Upsilon['exRate'],\n",
    "           vmin=0,vmax=1\n",
    "          )\n",
    "plt.colorbar()"
   ]
  },
  {
   "cell_type": "markdown",
   "metadata": {},
   "source": [
    "## Comparing Proton Collision Rates"
   ]
  },
  {
   "cell_type": "code",
   "execution_count": null,
   "metadata": {},
   "outputs": [],
   "source": [
    "ti = TestIon('fe_20',np.logspace(5.5,9,20)*u.K)"
   ]
  },
  {
   "cell_type": "code",
   "execution_count": null,
   "metadata": {},
   "outputs": [],
   "source": [
    "dex_p,ex_p = ti.proton_collision_rate()"
   ]
  },
  {
   "cell_type": "code",
   "execution_count": null,
   "metadata": {},
   "outputs": [],
   "source": [
    "ch_ion = ch.ion('fe_20',ti.temperature.value)"
   ]
  },
  {
   "cell_type": "code",
   "execution_count": null,
   "metadata": {},
   "outputs": [],
   "source": [
    "ch_ion.upsilonDescaleSplups(prot=1)"
   ]
  },
  {
   "cell_type": "code",
   "execution_count": null,
   "metadata": {},
   "outputs": [],
   "source": [
    "ssw_script = \"\"\"\n",
    "fname = '{{ path_to_file }}'\n",
    "read_elvlc,fname+'.elvlc',l1a,term,conf,ss,ll,jj,ecm,eryd,ecmth,erydth,eref\n",
    "mult=2.*jj+1.\n",
    "read_splups,fname+'.psplups',pstr,pref,/prot\n",
    "temperature = {{temperature}}\n",
    "i = {{index}}\n",
    ";ex_rate = make_array(n_elements(pstr),n_elements(temperature))\n",
    ";dex_rate = make_array(n_elements(pstr),n_elements(temperature))\n",
    "\n",
    ";for i=0,n_elements(pstr)-1 do begin\n",
    "descale_all,temperature,pstr,i,ex_rate\n",
    ";ex_rate[i,*] = tmp\n",
    "l1=pstr[i].lvl1-1\n",
    "l2=pstr[i].lvl2-1\n",
    "de=ABS(pstr[i].de)\n",
    "dex_rate = ex_rate*mult[l1]/mult[l2]*exp(de*13.61/8.617/10.^(-5)/temperature)\n",
    ";endfor\n",
    "\"\"\""
   ]
  },
  {
   "cell_type": "code",
   "execution_count": null,
   "metadata": {},
   "outputs": [],
   "source": [
    "ssw_runner = hissw.ScriptMaker(ssw_packages=['chianti'],ssw_paths=['chianti'])"
   ]
  },
  {
   "cell_type": "code",
   "execution_count": null,
   "metadata": {
    "scrolled": false
   },
   "outputs": [],
   "source": [
    "ssw_ex_rate = np.zeros(ex_p.shape)\n",
    "ssw_dex_rate = np.zeros(dex_p.shape)\n",
    "for i in range(ti._psplups['lower_level'].shape[0]):\n",
    "    ssw_prates = ssw_runner.run([(ssw_script,{'temperature':ti.temperature.value.tolist(),\n",
    "                                              'index':i,\n",
    "                                              'path_to_file':os.path.join(os.environ['XUVTOP'],'fe/fe_20/fe_20')})],\n",
    "                                save_vars=('ex_rate','dex_rate'),verbose=False)\n",
    "    ssw_ex_rate[i,:] = ssw_prates['ex_rate']\n",
    "    ssw_dex_rate[i,:] = ssw_prates['dex_rate']"
   ]
  },
  {
   "cell_type": "code",
   "execution_count": null,
   "metadata": {},
   "outputs": [],
   "source": [
    "fig,axes = plt.subplots(1,2,figsize=(20,10),sharex=True,sharey=True)\n",
    "num_levels = 9#ti._psplups['lower_level'].shape[0]\n",
    "colors = seaborn.color_palette('Set2',n_colors=num_levels)\n",
    "for i in range(num_levels):\n",
    "    axes[0].plot(ti.temperature,ex_p[i,:],\n",
    "                 color=colors[i],\n",
    "                 label='fiasco')\n",
    "    axes[0].plot(ch_ion.Temperature,ch_ion.PUpsilon['exRate'][i,:],'o',\n",
    "                 color=colors[i],\n",
    "                 ls='',markevery=2,\n",
    "                 label='ChiantiPy')\n",
    "    axes[0].plot(ti.temperature,ssw_ex_rate[i,:],'s',\n",
    "                 color=colors[i],\n",
    "                 ls='',markevery=2,\n",
    "                 label='IDL')\n",
    "    axes[1].plot(ti.temperature,dex_p[i,:],color=colors[i])\n",
    "    axes[1].plot(ch_ion.Temperature,ch_ion.PUpsilon['dexRate'][i,:],'o',ls='',markevery=2,color=colors[i])\n",
    "    axes[1].plot(ti.temperature,ssw_dex_rate[i,:],'s',ls='',markevery=2,color=colors[i])\n",
    "plt.xscale('log')\n",
    "plt.yscale('log')\n",
    "plt.ylim([1e-12,1e-9])\n",
    "#plt.legend()\n",
    "plt.subplots_adjust(wspace=0)"
   ]
  },
  {
   "cell_type": "markdown",
   "metadata": {},
   "source": [
    "## Proton-electron Ratio"
   ]
  },
  {
   "cell_type": "code",
   "execution_count": null,
   "metadata": {},
   "outputs": [],
   "source": [
    "ch_ion.p2eRatio()\n",
    "p2eratio = proton_ratio(ti.temperature)\n",
    "plt.plot(ch_ion.Temperature,ch_ion.ProtonDensityRatio,'o',markevery=2)\n",
    "plt.plot(ti.temperature,p2eratio)\n",
    "plt.xscale('log')"
   ]
  },
  {
   "cell_type": "markdown",
   "metadata": {},
   "source": [
    "## Sandbox"
   ]
  },
  {
   "cell_type": "code",
   "execution_count": null,
   "metadata": {},
   "outputs": [],
   "source": [
    "ch_tools.io.splupsRead('fe_11',filetype='psplups')"
   ]
  },
  {
   "cell_type": "code",
   "execution_count": null,
   "metadata": {},
   "outputs": [],
   "source": [
    "foo = ch.ion('fe_18',temperature=np.logspace(5.5,9,20))"
   ]
  },
  {
   "cell_type": "code",
   "execution_count": null,
   "metadata": {},
   "outputs": [],
   "source": [
    "foo.upsilonDescaleSplups(prot=1)"
   ]
  },
  {
   "cell_type": "code",
   "execution_count": null,
   "metadata": {},
   "outputs": [],
   "source": [
    "plt.plot(foo.PUpsilon['temperature'],foo.PUpsilon['dexRate'][0,:])\n",
    "plt.xscale('log')\n",
    "plt.yscale('log')"
   ]
  },
  {
   "cell_type": "code",
   "execution_count": null,
   "metadata": {},
   "outputs": [],
   "source": [
    "foo = fiasco.IonBase('fe_9')"
   ]
  },
  {
   "cell_type": "code",
   "execution_count": null,
   "metadata": {},
   "outputs": [],
   "source": [
    "l2 = foo.scups['upper_level']\n",
    "l1 = foo.scups['lower_level']"
   ]
  },
  {
   "cell_type": "code",
   "execution_count": null,
   "metadata": {},
   "outputs": [],
   "source": [
    "energy = np.where(foo.elvlc['E_obs'] <= 0., foo.elvlc['E_th'], foo.elvlc['E_obs'])*const.h.cgs.value*const.c.cgs.value\n",
    "delta_energy = energy[l2-1] - energy[l1-1]"
   ]
  },
  {
   "cell_type": "code",
   "execution_count": null,
   "metadata": {},
   "outputs": [],
   "source": [
    "plt.hist((delta_energy - foo.scups['delta_energy'].to(u.erg).value),bins=100,histtype='step',log=True);"
   ]
  },
  {
   "cell_type": "code",
   "execution_count": null,
   "metadata": {},
   "outputs": [],
   "source": [
    "plt.hist(delta_energy,bins='fd',histtype='step',log=True);\n",
    "plt.xscale('log')"
   ]
  },
  {
   "cell_type": "code",
   "execution_count": null,
   "metadata": {},
   "outputs": [],
   "source": [
    "foo.scups['delta_energy'].to(u.erg)"
   ]
  },
  {
   "cell_type": "code",
   "execution_count": null,
   "metadata": {},
   "outputs": [],
   "source": [
    "foo = fiasco.IonBase('fe_18')"
   ]
  },
  {
   "cell_type": "markdown",
   "metadata": {},
   "source": [
    "## PSplups Reader Sandbox"
   ]
  },
  {
   "cell_type": "code",
   "execution_count": null,
   "metadata": {},
   "outputs": [],
   "source": [
    "%%bash\n",
    "head -n 100 /Users/willbarnes/ssw/packages/chianti/dbase/fe/fe_20/fe_20.psplups"
   ]
  },
  {
   "cell_type": "code",
   "execution_count": null,
   "metadata": {},
   "outputs": [],
   "source": [
    "class TestPsplupsParser(fiasco.io.GenericParser):\n",
    "    filetype = 'psplups'\n",
    "    dtypes = [int,int,int,float,float,float,'object']\n",
    "    units = [None,None,None,u.dimensionless_unscaled,u.Ry,u.dimensionless_unscaled,\n",
    "             u.dimensionless_unscaled]\n",
    "    headings = ['lower_level', 'upper_level', 'bt_type', 'gf', 'delta_energy', 'bt_c', 'bt_upsilon']\n",
    "    descriptions = ['lower level index', 'upper level index', 'Burgess-Tully scaling type',\n",
    "                    'oscillator strength', 'delta energy', 'Burgess-Tully scaling parameter',\n",
    "                    'Burgess-Tully scaled effective collision strength']\n",
    "    \n",
    "    def preprocessor(self,table,line,index):\n",
    "        tmp = line.strip().split()\n",
    "        # 5-point fit for type 6, 9-point fit for type 2\n",
    "        n_spline = 5 if int(tmp[2]) == 6 else 9 \n",
    "        fformat = fortranformat.FortranRecordReader('(3I3,{}E10.3)'.format(3+n_spline))\n",
    "        line = fformat.read(line)\n",
    "        row = line[:6] + [np.array(line[6:])]\n",
    "        table.append(row)"
   ]
  },
  {
   "cell_type": "code",
   "execution_count": null,
   "metadata": {},
   "outputs": [],
   "source": [
    "fiasco.io.Parser('fe_20.psplups',custom_parser=TestPsplupsParser).parse()"
   ]
  },
  {
   "cell_type": "markdown",
   "metadata": {},
   "source": [
    "## Decorator Sandbox\n",
    "Consider using decorators for returning some default value when the provided info is not available"
   ]
  },
  {
   "cell_type": "code",
   "execution_count": null,
   "metadata": {},
   "outputs": [],
   "source": [
    "def has_dataset(*names, default=None):\n",
    "    def decorator(func):\n",
    "        def func_wrapper(*args,**kwargs):\n",
    "            if any([args[0].__getattribute__('_{}'.format(n)) is None for n in names]):\n",
    "                warnings.warn('At least one dataset out of {} is missing. Cannot calculate {}'\n",
    "                              .format(','.join(names),func__name__))\n",
    "                return default\n",
    "            else:\n",
    "                return func(*args,**kwargs)\n",
    "        return func_wrapper\n",
    "    return decorator"
   ]
  },
  {
   "cell_type": "code",
   "execution_count": null,
   "metadata": {},
   "outputs": [],
   "source": [
    "class DecoratorCheck(fiasco.Ion):\n",
    "    \n",
    "    @datacheck('elvlc','scups')\n",
    "    def foo(self):\n",
    "        return(self._elvlc['E_obs']*const.h.cgs*const.c.cgs)[0] + self._scups['delta_energy'][0]\n",
    "    \n",
    "    @datacheck('wgfa','psplups')\n",
    "    def bar(self,val):\n",
    "        if val < 1:\n",
    "            return self._wgfa['A']\n",
    "        else:\n",
    "            return self._psplups['delta_energy']"
   ]
  },
  {
   "cell_type": "code",
   "execution_count": null,
   "metadata": {},
   "outputs": [],
   "source": [
    "f = DecoratorCheck('fe_9',np.logspace(4,5,100)*u.K)"
   ]
  },
  {
   "cell_type": "code",
   "execution_count": null,
   "metadata": {},
   "outputs": [],
   "source": [
    "f._wgfa"
   ]
  },
  {
   "cell_type": "code",
   "execution_count": null,
   "metadata": {},
   "outputs": [],
   "source": [
    "f.bar()"
   ]
  },
  {
   "cell_type": "code",
   "execution_count": null,
   "metadata": {},
   "outputs": [],
   "source": [
    "f.bar(1.1)"
   ]
  },
  {
   "cell_type": "code",
   "execution_count": null,
   "metadata": {},
   "outputs": [],
   "source": [
    "None+2"
   ]
  },
  {
   "cell_type": "code",
   "execution_count": null,
   "metadata": {},
   "outputs": [],
   "source": []
  }
 ],
 "metadata": {
  "kernelspec": {
   "display_name": "Python [conda env:fiasco]",
   "language": "python",
   "name": "conda-env-fiasco-py"
  },
  "language_info": {
   "codemirror_mode": {
    "name": "ipython",
    "version": 3
   },
   "file_extension": ".py",
   "mimetype": "text/x-python",
   "name": "python",
   "nbconvert_exporter": "python",
   "pygments_lexer": "ipython3",
   "version": "3.6.2"
  }
 },
 "nbformat": 4,
 "nbformat_minor": 2
}
