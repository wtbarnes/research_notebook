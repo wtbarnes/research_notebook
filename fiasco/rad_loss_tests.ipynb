{
 "cells": [
  {
   "cell_type": "markdown",
   "metadata": {},
   "source": [
    "# Radiative Loss Tests"
   ]
  },
  {
   "cell_type": "code",
   "execution_count": 1,
   "metadata": {},
   "outputs": [
    {
     "name": "stderr",
     "output_type": "stream",
     "text": [
      "/Users/willbarnes/anaconda/envs/fiasco/lib/python3.6/site-packages/h5py/__init__.py:36: FutureWarning: Conversion of the second argument of issubdtype from `float` to `np.floating` is deprecated. In future, it will be treated as `np.float64 == np.dtype(float).type`.\n",
      "  from ._conv import register_converters as _register_converters\n"
     ]
    },
    {
     "name": "stdout",
     "output_type": "stream",
     "text": [
      " using cli\n",
      " using CLI for selections\n"
     ]
    },
    {
     "name": "stderr",
     "output_type": "stream",
     "text": [
      "/Users/willbarnes/anaconda/envs/fiasco/lib/python3.6/site-packages/ChiantiPy-0.7.dev697-py3.6.egg/ChiantiPy/core/IpyMspectrum.py:9: UserWarning: ipyparallel not found. You won't be able to use the ipymspectrum module\n",
      "  warnings.warn(\"ipyparallel not found. You won't be able to use the ipymspectrum module\")\n"
     ]
    }
   ],
   "source": [
    "import os\n",
    "os.environ['XUVTOP'] = '/Users/willbarnes/ssw/packages/chianti/dbase/'\n",
    "\n",
    "import numpy as np\n",
    "import scipy.ndimage\n",
    "import matplotlib.pyplot as plt\n",
    "import matplotlib.colors\n",
    "import astropy.units as u\n",
    "import astropy.constants as const\n",
    "import fiasco\n",
    "import hissw\n",
    "import ChiantiPy.core as ch\n",
    "\n",
    "%matplotlib inline"
   ]
  },
  {
   "cell_type": "code",
   "execution_count": 2,
   "metadata": {},
   "outputs": [],
   "source": [
    "t = np.logspace(6.1,8,100)*u.K"
   ]
  },
  {
   "cell_type": "code",
   "execution_count": 3,
   "metadata": {},
   "outputs": [],
   "source": [
    "wavelength = np.linspace(100,500,100) * u.angstrom"
   ]
  },
  {
   "cell_type": "code",
   "execution_count": 34,
   "metadata": {},
   "outputs": [],
   "source": [
    "el = fiasco.Element('iron',t,abundance_filename='sun_coronal_1992_feldman')"
   ]
  },
  {
   "cell_type": "code",
   "execution_count": 6,
   "metadata": {},
   "outputs": [
    {
     "data": {
      "text/plain": [
       "CHIANTI Database Ion\n",
       "---------------------\n",
       "Name: Fe 27\n",
       "Element: iron (26)\n",
       "Charge: +26\n",
       "Number of Levels: 0\n",
       "Number of Transitions: 0\n",
       "\n",
       "Temperature range: [0.01 MK, 1000.0 MK]\n",
       "\n",
       "HDF5 Database: /Users/willbarnes/.fiasco/chianti_dbase.h5\n",
       "Using Datasets:\n",
       "  ioneq: chianti\n",
       "  abundance: sun_coronal_1992_feldman\n",
       "  ip: chianti"
      ]
     },
     "execution_count": 6,
     "metadata": {},
     "output_type": "execute_result"
    }
   ],
   "source": [
    "el[26]"
   ]
  },
  {
   "cell_type": "code",
   "execution_count": 7,
   "metadata": {},
   "outputs": [],
   "source": [
    "c = fiasco.IonCollection(*[fiasco.Ion(i,t) for i in fiasco.list_ions()])"
   ]
  },
  {
   "cell_type": "code",
   "execution_count": 8,
   "metadata": {},
   "outputs": [],
   "source": [
    "tmax = []\n",
    "for ion in c:\n",
    "    imax = t[np.argmax(ion.ioneq)]\n",
    "    tmax.append(imax)"
   ]
  },
  {
   "cell_type": "code",
   "execution_count": 9,
   "metadata": {},
   "outputs": [
    {
     "data": {
      "text/plain": [
       "[<Quantity 10000. K>,\n",
       " <Quantity 81113.08307897 K>,\n",
       " <Quantity 10000. K>,\n",
       " <Quantity 50941.38014816 K>,\n",
       " <Quantity 830217.56813197 K>,\n",
       " <Quantity 10000. K>,\n",
       " <Quantity 22570.19719634 K>,\n",
       " <Quantity 145082.87784959 K>,\n",
       " <Quantity 4750810.16210279 K>,\n",
       " <Quantity 10000. K>,\n",
       " <Quantity 17886.49529057 K>,\n",
       " <Quantity 102353.1021899 K>,\n",
       " <Quantity 327454.91628777 K>,\n",
       " <Quantity 17073526.47470689 K>,\n",
       " <Quantity 10000. K>,\n",
       " <Quantity 25353.6449397 K>,\n",
       " <Quantity 50941.38014816 K>,\n",
       " <Quantity 205651.23083487 K>,\n",
       " <Quantity 657933.22465757 K>,\n",
       " <Quantity 77426368.26811278 K>,\n",
       " <Quantity 10000. K>,\n",
       " <Quantity 22570.19719634 K>,\n",
       " <Quantity 72208.09018385 K>,\n",
       " <Quantity 114975.69953977 K>,\n",
       " <Quantity 367837.97718286 K>,\n",
       " <Quantity 1047615.75278967 K>,\n",
       " <Quantity 1.7475284e+08 K>,\n",
       " <Quantity 10000. K>,\n",
       " <Quantity 28480.35868436 K>,\n",
       " <Quantity 72208.09018385 K>,\n",
       " <Quantity 145082.87784959 K>,\n",
       " <Quantity 183073.82802954 K>,\n",
       " <Quantity 585702.08180567 K>,\n",
       " <Quantity 1668100.53720006 K>,\n",
       " <Quantity 4.43062146e+08 K>,\n",
       " <Quantity 10000. K>,\n",
       " <Quantity 28480.35868436 K>,\n",
       " <Quantity 81113.08307897 K>,\n",
       " <Quantity 145082.87784959 K>,\n",
       " <Quantity 231012.97000832 K>,\n",
       " <Quantity 291505.30628252 K>,\n",
       " <Quantity 830217.56813197 K>,\n",
       " <Quantity 2364489.41264541 K>,\n",
       " <Quantity 1.e+09 K>,\n",
       " <Quantity 10000. K>,\n",
       " <Quantity 31992.67137797 K>,\n",
       " <Quantity 81113.08307897 K>,\n",
       " <Quantity 162975.08346206 K>,\n",
       " <Quantity 259502.42113997 K>,\n",
       " <Quantity 367837.97718286 K>,\n",
       " <Quantity 464158.88336128 K>,\n",
       " <Quantity 1176811.952435 K>,\n",
       " <Quantity 3351602.65093884 K>,\n",
       " <Quantity 7.05480231e+08 K>,\n",
       " <Quantity 10000. K>,\n",
       " <Quantity 35938.13663805 K>,\n",
       " <Quantity 91116.27561155 K>,\n",
       " <Quantity 162975.08346206 K>,\n",
       " <Quantity 259502.42113997 K>,\n",
       " <Quantity 413201.24001153 K>,\n",
       " <Quantity 521400.82879997 K>,\n",
       " <Quantity 657933.22465757 K>,\n",
       " <Quantity 1668100.53720006 K>,\n",
       " <Quantity 4750810.16210279 K>,\n",
       " <Quantity 7.92482898e+08 K>,\n",
       " <Quantity 10000. K>,\n",
       " <Quantity 15922.82793341 K>,\n",
       " <Quantity 91116.27561155 K>,\n",
       " <Quantity 162975.08346206 K>,\n",
       " <Quantity 291505.30628252 K>,\n",
       " <Quantity 413201.24001153 K>,\n",
       " <Quantity 585702.08180567 K>,\n",
       " <Quantity 739072.20335258 K>,\n",
       " <Quantity 932603.34688322 K>,\n",
       " <Quantity 2104904.14451202 K>,\n",
       " <Quantity 5994842.50318941 K>,\n",
       " <Quantity 1.e+09 K>,\n",
       " <Quantity 10000. K>,\n",
       " <Quantity 14174.74162927 K>,\n",
       " <Quantity 57223.6765935 K>,\n",
       " <Quantity 162975.08346206 K>,\n",
       " <Quantity 291505.30628252 K>,\n",
       " <Quantity 413201.24001153 K>,\n",
       " <Quantity 585702.08180567 K>,\n",
       " <Quantity 830217.56813197 K>,\n",
       " <Quantity 932603.34688322 K>,\n",
       " <Quantity 1176811.952435 K>,\n",
       " <Quantity 2983647.24028334 K>,\n",
       " <Quantity 7564633.27554629 K>,\n",
       " <Quantity 1.e+09 K>,\n",
       " <Quantity 10000. K>,\n",
       " <Quantity 15922.82793341 K>,\n",
       " <Quantity 35938.13663805 K>,\n",
       " <Quantity 102353.1021899 K>,\n",
       " <Quantity 259502.42113997 K>,\n",
       " <Quantity 413201.24001153 K>,\n",
       " <Quantity 585702.08180567 K>,\n",
       " <Quantity 830217.56813197 K>,\n",
       " <Quantity 1047615.75278967 K>,\n",
       " <Quantity 1321941.14846603 K>,\n",
       " <Quantity 1484968.26225446 K>,\n",
       " <Quantity 3764935.80679247 K>,\n",
       " <Quantity 9545484.56661833 K>,\n",
       " <Quantity 1.e+09 K>,\n",
       " <Quantity 10000. K>,\n",
       " <Quantity 15922.82793341 K>,\n",
       " <Quantity 45348.78508129 K>,\n",
       " <Quantity 72208.09018385 K>,\n",
       " <Quantity 162975.08346206 K>,\n",
       " <Quantity 413201.24001153 K>,\n",
       " <Quantity 585702.08180567 K>,\n",
       " <Quantity 830217.56813197 K>,\n",
       " <Quantity 1176811.952435 K>,\n",
       " <Quantity 1484968.26225446 K>,\n",
       " <Quantity 1668100.53720006 K>,\n",
       " <Quantity 2104904.14451202 K>,\n",
       " <Quantity 4750810.16210279 K>,\n",
       " <Quantity 12045035.40258784 K>,\n",
       " <Quantity 1.e+09 K>,\n",
       " <Quantity 10000. K>,\n",
       " <Quantity 15922.82793341 K>,\n",
       " <Quantity 40370.17258597 K>,\n",
       " <Quantity 91116.27561155 K>,\n",
       " <Quantity 129154.96650149 K>,\n",
       " <Quantity 259502.42113997 K>,\n",
       " <Quantity 585702.08180567 K>,\n",
       " <Quantity 830217.56813197 K>,\n",
       " <Quantity 1176811.952435 K>,\n",
       " <Quantity 1484968.26225446 K>,\n",
       " <Quantity 1873817.42286038 K>,\n",
       " <Quantity 2104904.14451202 K>,\n",
       " <Quantity 2656087.78294668 K>,\n",
       " <Quantity 5994842.50318941 K>,\n",
       " <Quantity 15199110.82952933 K>,\n",
       " <Quantity 1.e+09 K>,\n",
       " <Quantity 10000. K>,\n",
       " <Quantity 17886.49529057 K>,\n",
       " <Quantity 50941.38014816 K>,\n",
       " <Quantity 102353.1021899 K>,\n",
       " <Quantity 162975.08346206 K>,\n",
       " <Quantity 205651.23083487 K>,\n",
       " <Quantity 367837.97718286 K>,\n",
       " <Quantity 830217.56813197 K>,\n",
       " <Quantity 1176811.952435 K>,\n",
       " <Quantity 1484968.26225446 K>,\n",
       " <Quantity 1873817.42286038 K>,\n",
       " <Quantity 2364489.41264541 K>,\n",
       " <Quantity 2656087.78294668 K>,\n",
       " <Quantity 2983647.24028334 K>,\n",
       " <Quantity 6734150.65775083 K>,\n",
       " <Quantity 19179102.61672489 K>,\n",
       " <Quantity 1.e+09 K>,\n",
       " <Quantity 10000. K>,\n",
       " <Quantity 17886.49529057 K>,\n",
       " <Quantity 50941.38014816 K>,\n",
       " <Quantity 102353.1021899 K>,\n",
       " <Quantity 183073.82802954 K>,\n",
       " <Quantity 259502.42113997 K>,\n",
       " <Quantity 291505.30628252 K>,\n",
       " <Quantity 521400.82879997 K>,\n",
       " <Quantity 1047615.75278967 K>,\n",
       " <Quantity 1484968.26225446 K>,\n",
       " <Quantity 1873817.42286038 K>,\n",
       " <Quantity 2364489.41264541 K>,\n",
       " <Quantity 2656087.78294668 K>,\n",
       " <Quantity 3351602.65093884 K>,\n",
       " <Quantity 3764935.80679247 K>,\n",
       " <Quantity 8497534.35908644 K>,\n",
       " <Quantity 24201282.64794384 K>,\n",
       " <Quantity 1.e+09 K>,\n",
       " <Quantity 10000. K>,\n",
       " <Quantity 22570.19719634 K>,\n",
       " <Quantity 45348.78508129 K>,\n",
       " <Quantity 129154.96650149 K>,\n",
       " <Quantity 205651.23083487 K>,\n",
       " <Quantity 291505.30628252 K>,\n",
       " <Quantity 367837.97718286 K>,\n",
       " <Quantity 413201.24001153 K>,\n",
       " <Quantity 657933.22465757 K>,\n",
       " <Quantity 1484968.26225446 K>,\n",
       " <Quantity 1873817.42286038 K>,\n",
       " <Quantity 2364489.41264541 K>,\n",
       " <Quantity 2983647.24028334 K>,\n",
       " <Quantity 3351602.65093884 K>,\n",
       " <Quantity 3764935.80679247 K>,\n",
       " <Quantity 4750810.16210279 K>,\n",
       " <Quantity 10722672.22010323 K>,\n",
       " <Quantity 27185882.4273294 K>,\n",
       " <Quantity 1.e+09 K>,\n",
       " <Quantity 10000. K>,\n",
       " <Quantity 12618.56883066 K>,\n",
       " <Quantity 50941.38014816 K>,\n",
       " <Quantity 114975.69953977 K>,\n",
       " <Quantity 231012.97000832 K>,\n",
       " <Quantity 327454.91628777 K>,\n",
       " <Quantity 413201.24001153 K>,\n",
       " <Quantity 464158.88336128 K>,\n",
       " <Quantity 585702.08180567 K>,\n",
       " <Quantity 932603.34688322 K>,\n",
       " <Quantity 1873817.42286038 K>,\n",
       " <Quantity 2364489.41264541 K>,\n",
       " <Quantity 2983647.24028334 K>,\n",
       " <Quantity 3764935.80679247 K>,\n",
       " <Quantity 4229242.8743895 K>,\n",
       " <Quantity 4750810.16210279 K>,\n",
       " <Quantity 5994842.50318941 K>,\n",
       " <Quantity 12045035.40258784 K>,\n",
       " <Quantity 34304692.86314919 K>,\n",
       " <Quantity 1.e+09 K>,\n",
       " <Quantity 10000. K>,\n",
       " <Quantity 11233.24032978 K>,\n",
       " <Quantity 35938.13663805 K>,\n",
       " <Quantity 145082.87784959 K>,\n",
       " <Quantity 231012.97000832 K>,\n",
       " <Quantity 367837.97718286 K>,\n",
       " <Quantity 464158.88336128 K>,\n",
       " <Quantity 585702.08180567 K>,\n",
       " <Quantity 657933.22465757 K>,\n",
       " <Quantity 830217.56813197 K>,\n",
       " <Quantity 1176811.952435 K>,\n",
       " <Quantity 2364489.41264541 K>,\n",
       " <Quantity 2983647.24028334 K>,\n",
       " <Quantity 3764935.80679247 K>,\n",
       " <Quantity 4229242.8743895 K>,\n",
       " <Quantity 4750810.16210279 K>,\n",
       " <Quantity 5994842.50318941 K>,\n",
       " <Quantity 6734150.65775083 K>,\n",
       " <Quantity 15199110.82952933 K>,\n",
       " <Quantity 43287612.81083062 K>,\n",
       " <Quantity 1.e+09 K>,\n",
       " <Quantity 10000. K>,\n",
       " <Quantity 11233.24032978 K>,\n",
       " <Quantity 22570.19719634 K>,\n",
       " <Quantity 64280.73117284 K>,\n",
       " <Quantity 231012.97000832 K>,\n",
       " <Quantity 327454.91628777 K>,\n",
       " <Quantity 464158.88336128 K>,\n",
       " <Quantity 585702.08180567 K>,\n",
       " <Quantity 739072.20335258 K>,\n",
       " <Quantity 830217.56813197 K>,\n",
       " <Quantity 1047615.75278967 K>,\n",
       " <Quantity 1484968.26225446 K>,\n",
       " <Quantity 2983647.24028334 K>,\n",
       " <Quantity 3764935.80679247 K>,\n",
       " <Quantity 4750810.16210279 K>,\n",
       " <Quantity 5336699.2312063 K>,\n",
       " <Quantity 5994842.50318941 K>,\n",
       " <Quantity 6734150.65775083 K>,\n",
       " <Quantity 8497534.35908644 K>,\n",
       " <Quantity 17073526.47470689 K>,\n",
       " <Quantity 48626015.80065353 K>,\n",
       " <Quantity 1.e+09 K>,\n",
       " <Quantity 10000. K>,\n",
       " <Quantity 14174.74162927 K>,\n",
       " <Quantity 31992.67137797 K>,\n",
       " <Quantity 64280.73117284 K>,\n",
       " <Quantity 183073.82802954 K>,\n",
       " <Quantity 413201.24001153 K>,\n",
       " <Quantity 521400.82879997 K>,\n",
       " <Quantity 657933.22465757 K>,\n",
       " <Quantity 739072.20335258 K>,\n",
       " <Quantity 932603.34688322 K>,\n",
       " <Quantity 1047615.75278967 K>,\n",
       " <Quantity 1321941.14846603 K>,\n",
       " <Quantity 1873817.42286038 K>,\n",
       " <Quantity 3351602.65093884 K>,\n",
       " <Quantity 4750810.16210279 K>,\n",
       " <Quantity 5336699.2312063 K>,\n",
       " <Quantity 5994842.50318941 K>,\n",
       " <Quantity 6734150.65775083 K>,\n",
       " <Quantity 8497534.35908644 K>,\n",
       " <Quantity 9545484.56661833 K>,\n",
       " <Quantity 21544346.90031886 K>,\n",
       " <Quantity 54622772.17684337 K>,\n",
       " <Quantity 1.e+09 K>,\n",
       " <Quantity 10000. K>,\n",
       " <Quantity 12618.56883066 K>,\n",
       " <Quantity 31992.67137797 K>,\n",
       " <Quantity 45348.78508129 K>,\n",
       " <Quantity 72208.09018385 K>,\n",
       " <Quantity 231012.97000832 K>,\n",
       " <Quantity 464158.88336128 K>,\n",
       " <Quantity 585702.08180567 K>,\n",
       " <Quantity 739072.20335258 K>,\n",
       " <Quantity 932603.34688322 K>,\n",
       " <Quantity 1176811.952435 K>,\n",
       " <Quantity 1321941.14846603 K>,\n",
       " <Quantity 1484968.26225446 K>,\n",
       " <Quantity 2364489.41264541 K>,\n",
       " <Quantity 4229242.8743895 K>,\n",
       " <Quantity 5336699.2312063 K>,\n",
       " <Quantity 6734150.65775083 K>,\n",
       " <Quantity 7564633.27554629 K>,\n",
       " <Quantity 8497534.35908644 K>,\n",
       " <Quantity 9545484.56661833 K>,\n",
       " <Quantity 12045035.40258784 K>,\n",
       " <Quantity 24201282.64794384 K>,\n",
       " <Quantity 68926121.04349695 K>,\n",
       " <Quantity 1.e+09 K>,\n",
       " <Quantity 10000. K>,\n",
       " <Quantity 14174.74162927 K>,\n",
       " <Quantity 35938.13663805 K>,\n",
       " <Quantity 64280.73117284 K>,\n",
       " <Quantity 114975.69953977 K>,\n",
       " <Quantity 205651.23083487 K>,\n",
       " <Quantity 413201.24001153 K>,\n",
       " <Quantity 739072.20335258 K>,\n",
       " <Quantity 830217.56813197 K>,\n",
       " <Quantity 1047615.75278967 K>,\n",
       " <Quantity 1176811.952435 K>,\n",
       " <Quantity 1321941.14846603 K>,\n",
       " <Quantity 1484968.26225446 K>,\n",
       " <Quantity 1873817.42286038 K>,\n",
       " <Quantity 2983647.24028334 K>,\n",
       " <Quantity 5336699.2312063 K>,\n",
       " <Quantity 6734150.65775083 K>,\n",
       " <Quantity 7564633.27554629 K>,\n",
       " <Quantity 8497534.35908644 K>,\n",
       " <Quantity 9545484.56661833 K>,\n",
       " <Quantity 10722672.22010323 K>,\n",
       " <Quantity 13530477.74579808 K>,\n",
       " <Quantity 27185882.4273294 K>,\n",
       " <Quantity 77426368.26811278 K>,\n",
       " <Quantity 1.e+09 K>,\n",
       " <Quantity 10000. K>,\n",
       " <Quantity 12618.56883066 K>,\n",
       " <Quantity 31992.67137797 K>,\n",
       " <Quantity 72208.09018385 K>,\n",
       " <Quantity 129154.96650149 K>,\n",
       " <Quantity 205651.23083487 K>,\n",
       " <Quantity 327454.91628777 K>,\n",
       " <Quantity 585702.08180567 K>,\n",
       " <Quantity 932603.34688322 K>,\n",
       " <Quantity 1047615.75278967 K>,\n",
       " <Quantity 1321941.14846603 K>,\n",
       " <Quantity 1484968.26225446 K>,\n",
       " <Quantity 1668100.53720006 K>,\n",
       " <Quantity 1873817.42286038 K>,\n",
       " <Quantity 2364489.41264541 K>,\n",
       " <Quantity 3351602.65093884 K>,\n",
       " <Quantity 5994842.50318941 K>,\n",
       " <Quantity 7564633.27554629 K>,\n",
       " <Quantity 8497534.35908644 K>,\n",
       " <Quantity 9545484.56661833 K>,\n",
       " <Quantity 10722672.22010323 K>,\n",
       " <Quantity 13530477.74579808 K>,\n",
       " <Quantity 15199110.82952933 K>,\n",
       " <Quantity 30538555.08833412 K>,\n",
       " <Quantity 86974900.26177834 K>,\n",
       " <Quantity 1.e+09 K>,\n",
       " <Quantity 10000. K>,\n",
       " <Quantity 14174.74162927 K>,\n",
       " <Quantity 28480.35868436 K>,\n",
       " <Quantity 50941.38014816 K>,\n",
       " <Quantity 91116.27561155 K>,\n",
       " <Quantity 162975.08346206 K>,\n",
       " <Quantity 259502.42113997 K>,\n",
       " <Quantity 464158.88336128 K>,\n",
       " <Quantity 830217.56813197 K>,\n",
       " <Quantity 1047615.75278967 K>,\n",
       " <Quantity 1321941.14846603 K>,\n",
       " <Quantity 1484968.26225446 K>,\n",
       " <Quantity 1668100.53720006 K>,\n",
       " <Quantity 1873817.42286038 K>,\n",
       " <Quantity 2364489.41264541 K>,\n",
       " <Quantity 2656087.78294668 K>,\n",
       " <Quantity 4229242.8743895 K>,\n",
       " <Quantity 7564633.27554629 K>,\n",
       " <Quantity 8497534.35908644 K>,\n",
       " <Quantity 10722672.22010323 K>,\n",
       " <Quantity 12045035.40258784 K>,\n",
       " <Quantity 13530477.74579808 K>,\n",
       " <Quantity 15199110.82952933 K>,\n",
       " <Quantity 19179102.61672489 K>,\n",
       " <Quantity 38535285.93710528 K>,\n",
       " <Quantity 1.09749877e+08 K>,\n",
       " <Quantity 1.e+09 K>,\n",
       " <Quantity 10000. K>,\n",
       " <Quantity 12618.56883066 K>,\n",
       " <Quantity 28480.35868436 K>,\n",
       " <Quantity 50941.38014816 K>,\n",
       " <Quantity 91116.27561155 K>,\n",
       " <Quantity 162975.08346206 K>,\n",
       " <Quantity 231012.97000832 K>,\n",
       " <Quantity 367837.97718286 K>,\n",
       " <Quantity 585702.08180567 K>,\n",
       " <Quantity 932603.34688322 K>,\n",
       " <Quantity 1321941.14846603 K>,\n",
       " <Quantity 1484968.26225446 K>,\n",
       " <Quantity 1873817.42286038 K>,\n",
       " <Quantity 2104904.14451202 K>,\n",
       " <Quantity 2364489.41264541 K>,\n",
       " <Quantity 2656087.78294668 K>,\n",
       " <Quantity 3351602.65093884 K>,\n",
       " <Quantity 4750810.16210279 K>,\n",
       " <Quantity 8497534.35908644 K>,\n",
       " <Quantity 10722672.22010323 K>,\n",
       " <Quantity 12045035.40258784 K>,\n",
       " <Quantity 13530477.74579808 K>,\n",
       " <Quantity 15199110.82952933 K>,\n",
       " <Quantity 17073526.47470689 K>,\n",
       " <Quantity 21544346.90031886 K>,\n",
       " <Quantity 43287612.81083062 K>,\n",
       " <Quantity 1.23284674e+08 K>,\n",
       " <Quantity 1.e+09 K>,\n",
       " <Quantity 10000. K>,\n",
       " <Quantity 14174.74162927 K>,\n",
       " <Quantity 31992.67137797 K>,\n",
       " <Quantity 50941.38014816 K>,\n",
       " <Quantity 91116.27561155 K>,\n",
       " <Quantity 183073.82802954 K>,\n",
       " <Quantity 291505.30628252 K>,\n",
       " <Quantity 367837.97718286 K>,\n",
       " <Quantity 521400.82879997 K>,\n",
       " <Quantity 739072.20335258 K>,\n",
       " <Quantity 1176811.952435 K>,\n",
       " <Quantity 1668100.53720006 K>,\n",
       " <Quantity 2104904.14451202 K>,\n",
       " <Quantity 2364489.41264541 K>,\n",
       " <Quantity 2656087.78294668 K>,\n",
       " <Quantity 2656087.78294668 K>,\n",
       " <Quantity 2983647.24028334 K>,\n",
       " <Quantity 3764935.80679247 K>,\n",
       " <Quantity 5336699.2312063 K>,\n",
       " <Quantity 9545484.56661833 K>,\n",
       " <Quantity 12045035.40258784 K>,\n",
       " <Quantity 13530477.74579808 K>,\n",
       " <Quantity 15199110.82952933 K>,\n",
       " <Quantity 17073526.47470689 K>,\n",
       " <Quantity 19179102.61672489 K>,\n",
       " <Quantity 24201282.64794384 K>,\n",
       " <Quantity 48626015.80065353 K>,\n",
       " <Quantity 1.38488637e+08 K>,\n",
       " <Quantity 1.e+09 K>,\n",
       " <Quantity 10000. K>,\n",
       " <Quantity 20092.33002565 K>,\n",
       " <Quantity 50941.38014816 K>,\n",
       " <Quantity 91116.27561155 K>,\n",
       " <Quantity 162975.08346206 K>,\n",
       " <Quantity 231012.97000832 K>,\n",
       " <Quantity 367837.97718286 K>,\n",
       " <Quantity 521400.82879997 K>,\n",
       " <Quantity 657933.22465757 K>,\n",
       " <Quantity 830217.56813197 K>,\n",
       " <Quantity 1176811.952435 K>,\n",
       " <Quantity 1484968.26225446 K>,\n",
       " <Quantity 2104904.14451202 K>,\n",
       " <Quantity 2364489.41264541 K>,\n",
       " <Quantity 2656087.78294668 K>,\n",
       " <Quantity 2983647.24028334 K>,\n",
       " <Quantity 3351602.65093884 K>,\n",
       " <Quantity 3764935.80679247 K>,\n",
       " <Quantity 4229242.8743895 K>,\n",
       " <Quantity 6734150.65775083 K>,\n",
       " <Quantity 10722672.22010323 K>,\n",
       " <Quantity 13530477.74579808 K>,\n",
       " <Quantity 15199110.82952933 K>,\n",
       " <Quantity 17073526.47470689 K>,\n",
       " <Quantity 19179102.61672489 K>,\n",
       " <Quantity 21544346.90031886 K>,\n",
       " <Quantity 27185882.4273294 K>,\n",
       " <Quantity 54622772.17684337 K>,\n",
       " <Quantity 1.55567614e+08 K>,\n",
       " <Quantity 1.e+09 K>,\n",
       " <Quantity 10000. K>,\n",
       " <Quantity 22570.19719634 K>,\n",
       " <Quantity 50941.38014816 K>,\n",
       " <Quantity 102353.1021899 K>,\n",
       " <Quantity 162975.08346206 K>,\n",
       " <Quantity 259502.42113997 K>,\n",
       " <Quantity 367837.97718286 K>,\n",
       " <Quantity 464158.88336128 K>,\n",
       " <Quantity 657933.22465757 K>,\n",
       " <Quantity 830217.56813197 K>,\n",
       " <Quantity 1047615.75278967 K>,\n",
       " <Quantity 1321941.14846603 K>,\n",
       " <Quantity 1873817.42286038 K>,\n",
       " <Quantity 2364489.41264541 K>,\n",
       " <Quantity 2656087.78294668 K>,\n",
       " <Quantity 2983647.24028334 K>,\n",
       " <Quantity 3351602.65093884 K>,\n",
       " <Quantity 3764935.80679247 K>,\n",
       " <Quantity 4229242.8743895 K>,\n",
       " <Quantity 5336699.2312063 K>,\n",
       " <Quantity 7564633.27554629 K>,\n",
       " <Quantity 12045035.40258784 K>,\n",
       " <Quantity 15199110.82952933 K>,\n",
       " <Quantity 17073526.47470689 K>,\n",
       " <Quantity 19179102.61672489 K>,\n",
       " <Quantity 21544346.90031886 K>,\n",
       " <Quantity 24201282.64794384 K>,\n",
       " <Quantity 30538555.08833412 K>,\n",
       " <Quantity 61359072.73413163 K>,\n",
       " <Quantity 1.7475284e+08 K>,\n",
       " <Quantity 1.e+09 K>]"
      ]
     },
     "execution_count": 9,
     "metadata": {},
     "output_type": "execute_result"
    }
   ],
   "source": [
    "tmax"
   ]
  },
  {
   "cell_type": "code",
   "execution_count": 11,
   "metadata": {},
   "outputs": [
    {
     "data": {
      "text/latex": [
       "$9.1093836 \\times 10^{-31} \\; \\mathrm{kg}$"
      ],
      "text/plain": [
       "<<class 'astropy.constants.codata2014.CODATA2014'> name='Electron mass' value=9.10938356e-31 uncertainty=1.1e-38 unit='kg' reference='CODATA 2014'>"
      ]
     },
     "execution_count": 11,
     "metadata": {},
     "output_type": "execute_result"
    }
   ],
   "source": [
    "const.m_e"
   ]
  },
  {
   "cell_type": "code",
   "execution_count": 12,
   "metadata": {},
   "outputs": [
    {
     "data": {
      "text/latex": [
       "$0.0072973526 \\; \\mathrm{}$"
      ],
      "text/plain": [
       "<<class 'astropy.constants.codata2014.CODATA2014'> name='Fine-structure constant' value=0.0072973525664 uncertainty=1.7e-12 unit='' reference='CODATA 2014'>"
      ]
     },
     "execution_count": 12,
     "metadata": {},
     "output_type": "execute_result"
    }
   ],
   "source": [
    "const.alpha"
   ]
  },
  {
   "cell_type": "code",
   "execution_count": 13,
   "metadata": {},
   "outputs": [
    {
     "data": {
      "text/latex": [
       "$6.62607 \\times 10^{-34} \\; \\mathrm{J\\,s}$"
      ],
      "text/plain": [
       "<<class 'astropy.constants.codata2014.CODATA2014'> name='Planck constant' value=6.62607004e-34 uncertainty=8.1e-42 unit='J s' reference='CODATA 2014'>"
      ]
     },
     "execution_count": 13,
     "metadata": {},
     "output_type": "execute_result"
    }
   ],
   "source": [
    "const.h"
   ]
  },
  {
   "cell_type": "code",
   "execution_count": 14,
   "metadata": {},
   "outputs": [
    {
     "data": {
      "text/latex": [
       "$1.3806485 \\times 10^{-23} \\; \\mathrm{\\frac{J}{K}}$"
      ],
      "text/plain": [
       "<<class 'astropy.constants.codata2014.CODATA2014'> name='Boltzmann constant' value=1.38064852e-23 uncertainty=7.9e-30 unit='J / K' reference='CODATA 2014'>"
      ]
     },
     "execution_count": 14,
     "metadata": {},
     "output_type": "execute_result"
    }
   ],
   "source": [
    "const.k_B"
   ]
  },
  {
   "cell_type": "code",
   "execution_count": 4,
   "metadata": {},
   "outputs": [],
   "source": [
    "foo = fiasco.Ion('H 1', t)"
   ]
  },
  {
   "cell_type": "code",
   "execution_count": 23,
   "metadata": {},
   "outputs": [
    {
     "data": {
      "text/plain": [
       "h/continuum/itoh -- v8.0.2\n",
       "\n",
       "Fields\n",
       "------\n",
       "a  -- fit coefficient\n",
       "\n",
       "Footer\n",
       "------\n",
       "Analytic fit coefficients as a function of scaled temperature and energy for calculating the relativistic free-free Gaunt factor\n",
       "From Itoh, N., et al., ApJS, 2000, 128, 125"
      ]
     },
     "execution_count": 23,
     "metadata": {},
     "output_type": "execute_result"
    }
   ],
   "source": [
    "foo._itoh"
   ]
  },
  {
   "cell_type": "code",
   "execution_count": 24,
   "metadata": {},
   "outputs": [
    {
     "data": {
      "text/plain": [
       "(11, 11)"
      ]
     },
     "execution_count": 24,
     "metadata": {},
     "output_type": "execute_result"
    }
   ],
   "source": [
    "foo._itoh['a'].shape"
   ]
  },
  {
   "cell_type": "code",
   "execution_count": 6,
   "metadata": {},
   "outputs": [],
   "source": [
    "wmesh,tmesh = np.meshgrid(wavelength.value,t.value)\n",
    "itoh_fiasco = foo._gaunt_factor_free_free_itoh(wavelength)"
   ]
  },
  {
   "cell_type": "code",
   "execution_count": 41,
   "metadata": {},
   "outputs": [
    {
     "data": {
      "text/plain": [
       "(10000,)"
      ]
     },
     "execution_count": 41,
     "metadata": {},
     "output_type": "execute_result"
    }
   ],
   "source": [
    "itoh[~np.isnan(itoh)].shape"
   ]
  },
  {
   "cell_type": "code",
   "execution_count": 8,
   "metadata": {},
   "outputs": [
    {
     "data": {
      "text/plain": [
       "<matplotlib.colorbar.Colorbar at 0x181f0956d8>"
      ]
     },
     "execution_count": 8,
     "metadata": {},
     "output_type": "execute_result"
    },
    {
     "data": {
      "image/png": "[encoded data removed]",
      "text/plain": [
       "<matplotlib.figure.Figure at 0x181e7b4cc0>"
      ]
     },
     "metadata": {},
     "output_type": "display_data"
    }
   ],
   "source": [
    "plt.imshow(itoh_fiasco,vmin=1,vmax=4)\n",
    "plt.colorbar()"
   ]
  },
  {
   "cell_type": "code",
   "execution_count": 58,
   "metadata": {},
   "outputs": [
    {
     "data": {
      "text/plain": [
       "continuum/gffgu -- v8.0.2\n",
       "\n",
       "Fields\n",
       "------\n",
       "gamma_squared  -- scaled temperature\n",
       "gaunt_factor  -- free-free Gaunt factor\n",
       "u  -- scaled frequency\n",
       "\n",
       "Footer\n",
       "------\n",
       "Free-Free Emission Gaunt factors for Maxwellian electrons\n",
       "as a function of scaled temperature and scaled frequency.\n",
       "v1.0.0, Sutherland 1997"
      ]
     },
     "execution_count": 58,
     "metadata": {},
     "output_type": "execute_result"
    }
   ],
   "source": [
    "foo._gffgu"
   ]
  },
  {
   "cell_type": "code",
   "execution_count": 11,
   "metadata": {},
   "outputs": [],
   "source": [
    "sutherland_fiasco = foo._gaunt_factor_free_free_sutherland(wavelength)"
   ]
  },
  {
   "cell_type": "code",
   "execution_count": 16,
   "metadata": {},
   "outputs": [
    {
     "data": {
      "text/plain": [
       "<matplotlib.colorbar.Colorbar at 0x181ec70438>"
      ]
     },
     "execution_count": 16,
     "metadata": {},
     "output_type": "execute_result"
    },
    {
     "data": {
      "image/png": "[encoded data removed]",
      "text/plain": [
       "<matplotlib.figure.Figure at 0x181ebeccf8>"
      ]
     },
     "metadata": {},
     "output_type": "display_data"
    }
   ],
   "source": [
    "plt.imshow(sutherland_fiasco,vmin=1,vmax=4)\n",
    "plt.colorbar()"
   ]
  },
  {
   "cell_type": "code",
   "execution_count": 11,
   "metadata": {},
   "outputs": [],
   "source": [
    "ssw = hissw.ScriptMaker(ssw_packages=['chianti'], ssw_paths=['chianti'],)"
   ]
  },
  {
   "cell_type": "code",
   "execution_count": null,
   "metadata": {},
   "outputs": [],
   "source": [
    "script = \"\"\"\n",
    "\"\"\""
   ]
  },
  {
   "cell_type": "code",
   "execution_count": 14,
   "metadata": {},
   "outputs": [],
   "source": [
    "ch_cont = ch.continuum('h_1',foo.temperature.value,)"
   ]
  },
  {
   "cell_type": "code",
   "execution_count": 17,
   "metadata": {},
   "outputs": [],
   "source": [
    "sutherland_chp = ch_cont.sutherland_gaunt_factor(wavelength.value)"
   ]
  },
  {
   "cell_type": "code",
   "execution_count": 18,
   "metadata": {},
   "outputs": [
    {
     "data": {
      "text/plain": [
       "<matplotlib.colorbar.Colorbar at 0x181f58af28>"
      ]
     },
     "execution_count": 18,
     "metadata": {},
     "output_type": "execute_result"
    },
    {
     "data": {
      "image/png": "[encoded data removed]",
      "text/plain": [
       "<matplotlib.figure.Figure at 0x181f55b668>"
      ]
     },
     "metadata": {},
     "output_type": "display_data"
    }
   ],
   "source": [
    "plt.imshow(sutherland_chp,vmin=1,vmax=4)\n",
    "plt.colorbar()"
   ]
  },
  {
   "cell_type": "code",
   "execution_count": 23,
   "metadata": {},
   "outputs": [],
   "source": [
    "itoh_chp = ch_cont.itoh_gaunt_factor(wavelength.value)"
   ]
  },
  {
   "cell_type": "code",
   "execution_count": 15,
   "metadata": {},
   "outputs": [
    {
     "data": {
      "text/plain": [
       "<matplotlib.colorbar.Colorbar at 0x1815327be0>"
      ]
     },
     "execution_count": 15,
     "metadata": {},
     "output_type": "execute_result"
    },
    {
     "data": {
      "image/png": "[encoded data removed]",
      "text/plain": [
       "<matplotlib.figure.Figure at 0x1815311828>"
      ]
     },
     "metadata": {},
     "output_type": "display_data"
    }
   ],
   "source": [
    "plt.imshow(gf_itoh,vmin=1,vmax=4)\n",
    "plt.colorbar()"
   ]
  },
  {
   "cell_type": "code",
   "execution_count": 41,
   "metadata": {},
   "outputs": [
    {
     "data": {
      "text/plain": [
       "<matplotlib.colorbar.Colorbar at 0x1817fb30b8>"
      ]
     },
     "execution_count": 41,
     "metadata": {},
     "output_type": "execute_result"
    },
    {
     "data": {
      "image/png": "[encoded data removed]",
      "text/plain": [
       "<matplotlib.figure.Figure at 0x1817ea5f98>"
      ]
     },
     "metadata": {},
     "output_type": "display_data"
    }
   ],
   "source": [
    "plt.imshow(np.fabs(itoh_chp - itoh_fiasco)/itoh_chp,\n",
    "           #norm=matplotlib.colors.SymLogNorm(1e-10,vmin=-1e-6,vmax=1e-6)\n",
    "          )\n",
    "plt.colorbar()"
   ]
  },
  {
   "cell_type": "code",
   "execution_count": 19,
   "metadata": {},
   "outputs": [
    {
     "data": {
      "text/plain": [
       "<matplotlib.colorbar.Colorbar at 0x181f864908>"
      ]
     },
     "execution_count": 19,
     "metadata": {},
     "output_type": "execute_result"
    },
    {
     "data": {
      "image/png": "[encoded data removed]",
      "text/plain": [
       "<matplotlib.figure.Figure at 0x181f8526a0>"
      ]
     },
     "metadata": {},
     "output_type": "display_data"
    }
   ],
   "source": [
    "plt.imshow(np.fabs(sutherland_chp - sutherland_fiasco)/sutherland_chp,\n",
    "           #norm=matplotlib.colors.SymLogNorm(1e-10,vmin=-1e-6,vmax=1e-6)\n",
    "          )\n",
    "plt.colorbar()"
   ]
  },
  {
   "cell_type": "code",
   "execution_count": null,
   "metadata": {},
   "outputs": [],
   "source": []
  }
 ],
 "metadata": {
  "kernelspec": {
   "display_name": "Python [conda env:fiasco]",
   "language": "python",
   "name": "conda-env-fiasco-py"
  },
  "language_info": {
   "codemirror_mode": {
    "name": "ipython",
    "version": 3
   },
   "file_extension": ".py",
   "mimetype": "text/x-python",
   "name": "python",
   "nbconvert_exporter": "python",
   "pygments_lexer": "ipython3",
   "version": "3.6.4"
  }
 },
 "nbformat": 4,
 "nbformat_minor": 2
}
