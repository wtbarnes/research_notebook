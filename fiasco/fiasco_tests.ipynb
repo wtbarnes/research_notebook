{
 "cells": [
  {
   "cell_type": "markdown",
   "metadata": {},
   "source": [
    "# *fiasco*: Testing the Package"
   ]
  },
  {
   "cell_type": "code",
   "execution_count": 1,
   "metadata": {
    "collapsed": false
   },
   "outputs": [],
   "source": [
    "import fiasco.io"
   ]
  },
  {
   "cell_type": "code",
   "execution_count": 4,
   "metadata": {
    "collapsed": true
   },
   "outputs": [],
   "source": [
    "test = fiasco.io.Parser('h_1.wgfa')"
   ]
  },
  {
   "cell_type": "code",
   "execution_count": 5,
   "metadata": {
    "collapsed": false
   },
   "outputs": [
    {
     "data": {
      "text/html": [
       "&lt;QTable length=76&gt;\n",
       "<table id=\"table4495228488\" class=\"table-striped table-bordered table-condensed\">\n",
       "<thead><tr><th>lower level index</th><th>upper level index</th><th>transition wavelength</th><th>oscillator strength</th><th>radiative decay rate</th><th>lower level configuration</th><th>lower level multiplicity</th><th>lower level orbital angular momentum</th><th>lower level total angular momentum</th><th>upper level configuration</th><th>upper level multiplicity</th><th>upper level orbital angular momentum</th><th>upper level total angular momentum</th></tr></thead>\n",
       "<thead><tr><th></th><th></th><th>Angstrom</th><th></th><th>1 / s</th><th></th><th></th><th></th><th></th><th></th><th></th><th></th><th></th></tr></thead>\n",
       "<thead><tr><th>int64</th><th>int64</th><th>float64</th><th>float64</th><th>float64</th><th>str2</th><th>int64</th><th>str1</th><th>float64</th><th>str2</th><th>int64</th><th>str1</th><th>float64</th></tr></thead>\n",
       "<tr><td>1</td><td>2</td><td>1215.675</td><td>0.0</td><td>2.496e-06</td><td>1s</td><td>2</td><td>S</td><td>0.5</td><td>2s</td><td>2</td><td>S</td><td>0.5</td></tr>\n",
       "<tr><td>1</td><td>2</td><td>0.0</td><td>0.0</td><td>8.229</td><td>1s</td><td>2</td><td>S</td><td>0.5</td><td>2s</td><td>2</td><td>S</td><td>0.5</td></tr>\n",
       "<tr><td>1</td><td>19</td><td>949.745</td><td>0.0186</td><td>34400000.0</td><td>1s</td><td>2</td><td>S</td><td>0.5</td><td>5p</td><td>2</td><td>P</td><td>1.5</td></tr>\n",
       "<tr><td>1</td><td>18</td><td>949.745</td><td>0.0093</td><td>34400000.0</td><td>1s</td><td>2</td><td>S</td><td>0.5</td><td>5p</td><td>2</td><td>P</td><td>0.5</td></tr>\n",
       "<tr><td>1</td><td>12</td><td>972.538</td><td>0.0387</td><td>68200000.0</td><td>1s</td><td>2</td><td>S</td><td>0.5</td><td>4p</td><td>2</td><td>P</td><td>1.5</td></tr>\n",
       "<tr><td>1</td><td>11</td><td>972.539</td><td>0.0193</td><td>68200000.0</td><td>1s</td><td>2</td><td>S</td><td>0.5</td><td>4p</td><td>2</td><td>P</td><td>0.5</td></tr>\n",
       "<tr><td>1</td><td>7</td><td>1025.724</td><td>0.105</td><td>167000000.0</td><td>1s</td><td>2</td><td>S</td><td>0.5</td><td>3p</td><td>2</td><td>P</td><td>1.5</td></tr>\n",
       "<tr><td>1</td><td>6</td><td>1025.725</td><td>0.0527</td><td>167000000.0</td><td>1s</td><td>2</td><td>S</td><td>0.5</td><td>3p</td><td>2</td><td>P</td><td>0.5</td></tr>\n",
       "<tr><td>1</td><td>4</td><td>1215.67</td><td>0.555</td><td>626000000.0</td><td>1s</td><td>2</td><td>S</td><td>0.5</td><td>2p</td><td>2</td><td>P</td><td>1.5</td></tr>\n",
       "<tr><td>...</td><td>...</td><td>...</td><td>...</td><td>...</td><td>...</td><td>...</td><td>...</td><td>...</td><td>...</td><td>...</td><td>...</td><td>...</td></tr>\n",
       "<tr><td>14</td><td>23</td><td>40522.816</td><td>5.09</td><td>2580000.0</td><td>4d</td><td>2</td><td>D</td><td>2.5</td><td>5f</td><td>2</td><td>F</td><td>3.5</td></tr>\n",
       "<tr><td>15</td><td>21</td><td>40522.816</td><td>0.00355</td><td>2400.0</td><td>4f</td><td>2</td><td>F</td><td>2.5</td><td>5d</td><td>2</td><td>D</td><td>2.5</td></tr>\n",
       "<tr><td>14</td><td>22</td><td>40522.816</td><td>0.255</td><td>172000.0</td><td>4d</td><td>2</td><td>D</td><td>2.5</td><td>5f</td><td>2</td><td>F</td><td>2.5</td></tr>\n",
       "<tr><td>16</td><td>25</td><td>40522.816</td><td>10.8</td><td>4380000.0</td><td>4f</td><td>2</td><td>F</td><td>3.5</td><td>5g</td><td>2</td><td>G</td><td>4.5</td></tr>\n",
       "<tr><td>16</td><td>24</td><td>40522.945</td><td>0.539</td><td>274000.0</td><td>4f</td><td>2</td><td>F</td><td>3.5</td><td>5g</td><td>2</td><td>G</td><td>3.5</td></tr>\n",
       "<tr><td>16</td><td>21</td><td>40522.945</td><td>0.071</td><td>48100.0</td><td>4f</td><td>2</td><td>F</td><td>3.5</td><td>5d</td><td>2</td><td>D</td><td>2.5</td></tr>\n",
       "<tr><td>15</td><td>20</td><td>40522.945</td><td>0.0497</td><td>50500.0</td><td>4f</td><td>2</td><td>F</td><td>2.5</td><td>5d</td><td>2</td><td>D</td><td>1.5</td></tr>\n",
       "<tr><td>14</td><td>19</td><td>40522.945</td><td>0.167</td><td>170000.0</td><td>4d</td><td>2</td><td>D</td><td>2.5</td><td>5p</td><td>2</td><td>P</td><td>1.5</td></tr>\n",
       "<tr><td>12</td><td>17</td><td>40523.074</td><td>0.212</td><td>430000.0</td><td>4p</td><td>2</td><td>P</td><td>1.5</td><td>5s</td><td>2</td><td>S</td><td>0.5</td></tr>\n",
       "<tr><td>13</td><td>18</td><td>40523.074</td><td>0.0928</td><td>188000.0</td><td>4d</td><td>2</td><td>D</td><td>1.5</td><td>5p</td><td>2</td><td>P</td><td>0.5</td></tr>\n",
       "</table>"
      ],
      "text/plain": [
       "<QTable length=76>\n",
       "lower level index upper level index ... upper level total angular momentum\n",
       "                                    ...                                   \n",
       "      int64             int64       ...              float64              \n",
       "----------------- ----------------- ... ----------------------------------\n",
       "                1                 2 ...                                0.5\n",
       "                1                 2 ...                                0.5\n",
       "                1                19 ...                                1.5\n",
       "                1                18 ...                                0.5\n",
       "                1                12 ...                                1.5\n",
       "                1                11 ...                                0.5\n",
       "                1                 7 ...                                1.5\n",
       "                1                 6 ...                                0.5\n",
       "                1                 4 ...                                1.5\n",
       "              ...               ... ...                                ...\n",
       "               14                23 ...                                3.5\n",
       "               15                21 ...                                2.5\n",
       "               14                22 ...                                2.5\n",
       "               16                25 ...                                4.5\n",
       "               16                24 ...                                3.5\n",
       "               16                21 ...                                2.5\n",
       "               15                20 ...                                1.5\n",
       "               14                19 ...                                1.5\n",
       "               12                17 ...                                0.5\n",
       "               13                18 ...                                0.5"
      ]
     },
     "execution_count": 5,
     "metadata": {},
     "output_type": "execute_result"
    }
   ],
   "source": [
    "test.parse()"
   ]
  },
  {
   "cell_type": "code",
   "execution_count": null,
   "metadata": {
    "collapsed": true
   },
   "outputs": [],
   "source": []
  }
 ],
 "metadata": {
  "anaconda-cloud": {},
  "kernelspec": {
   "display_name": "Python [conda env:fiasco]",
   "language": "python",
   "name": "conda-env-fiasco-py"
  },
  "language_info": {
   "codemirror_mode": {
    "name": "ipython",
    "version": 3
   },
   "file_extension": ".py",
   "mimetype": "text/x-python",
   "name": "python",
   "nbconvert_exporter": "python",
   "pygments_lexer": "ipython3",
   "version": "3.6.2"
  }
 },
 "nbformat": 4,
 "nbformat_minor": 2
}
