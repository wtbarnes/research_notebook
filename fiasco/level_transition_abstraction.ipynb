{
 "cells": [
  {
   "cell_type": "markdown",
   "metadata": {},
   "source": [
    "# Abstraction Layer for energy levels and transitions"
   ]
  },
  {
   "cell_type": "markdown",
   "metadata": {},
   "source": [
    "Create an additional abstraction layer for the energy levels and transitions of an ion. The level will hold information about an individual level"
   ]
  },
  {
   "cell_type": "code",
   "execution_count": 1,
   "metadata": {},
   "outputs": [],
   "source": [
    "import numpy as np\n",
    "import matplotlib.pyplot as plt\n",
    "import fiasco\n",
    "import astropy.constants as const\n",
    "import astropy.units as u\n",
    "\n",
    "%matplotlib inline"
   ]
  },
  {
   "cell_type": "code",
   "execution_count": 28,
   "metadata": {},
   "outputs": [],
   "source": [
    "class Transition(object):\n",
    "    \n",
    "\n",
    "class Level(object):\n",
    "    \n",
    "    def __init__(self,index,elvlc):\n",
    "        self.index = index\n",
    "        self.elvlc = elvlc\n",
    "        \n",
    "    @property\n",
    "    def configuration(self):\n",
    "        return self.elvlc['config'][self.index]\n",
    "    \n",
    "    @property\n",
    "    def multiplicity(self):\n",
    "        return self.elvlc['mult'][self.index]\n",
    "    \n",
    "    @property\n",
    "    def total_angular_momentum(self):\n",
    "        return self.elvlc['J'][self.index]\n",
    "    \n",
    "    @property\n",
    "    def orbital_angular_momentum_label(self):\n",
    "        return self.elvlc['L_label'][self.index]\n",
    "    \n",
    "    @property\n",
    "    def energy(self):\n",
    "        if self.elvlc['E_obs'][self.index] < 0:\n",
    "            return (self.elvlc['E_th'][self.index]*const.h.cgs*const.c.cgs).decompose().cgs\n",
    "        else:\n",
    "            return (self.elvlc['E_obs'][self.index]*const.h.cgs*const.c.cgs).decompose().cgs"
   ]
  },
  {
   "cell_type": "code",
   "execution_count": 29,
   "metadata": {},
   "outputs": [],
   "source": [
    "class TestIon(fiasco.IonBase):\n",
    "    def __getitem__(self,key):\n",
    "        key = self._elvlc['level'][key] - 1\n",
    "        return Level(key,self._elvlc)"
   ]
  },
  {
   "cell_type": "code",
   "execution_count": 30,
   "metadata": {},
   "outputs": [],
   "source": [
    "H_ion = TestIon('h_1')"
   ]
  },
  {
   "cell_type": "code",
   "execution_count": 31,
   "metadata": {},
   "outputs": [
    {
     "data": {
      "text/plain": [
       "h/h_1/elvlc\n",
       "\n",
       "Fields\n",
       "------\n",
       "E_obs (1 / cm) -- observed energy\n",
       "E_th (1 / cm) -- theoretical energy\n",
       "J  -- total angular momentum\n",
       "L_label  -- orbital angular momentum\n",
       "config  -- configuration\n",
       "label  -- level label\n",
       "level  -- level index\n",
       "mult  -- multiplicity\n",
       "\n",
       "Footer\n",
       "------\n",
       "filename: h_1.elvlc\n",
       "observed energy levels: Fuhr et al, 1999, NIST Atomic Spectra Database Version 2.0\n",
       "produced as part of the Arcetri/Cambridge/NRL 'CHIANTI' atomic data base collaboration\n",
       "\n",
       "  Ken Dere  May 3 2001"
      ]
     },
     "execution_count": 31,
     "metadata": {},
     "output_type": "execute_result"
    }
   ],
   "source": [
    "H_ion._elvlc"
   ]
  },
  {
   "cell_type": "code",
   "execution_count": 32,
   "metadata": {},
   "outputs": [
    {
     "name": "stdout",
     "output_type": "stream",
     "text": [
      "1: S,0.5 1s\n",
      "2: S,0.5 2s\n",
      "3: P,0.5 2p\n",
      "4: P,1.5 2p\n",
      "5: S,0.5 3s\n",
      "6: P,0.5 3p\n",
      "7: P,1.5 3p\n",
      "8: D,1.5 3d\n",
      "9: D,2.5 3d\n",
      "10: S,0.5 4s\n",
      "11: P,0.5 4p\n",
      "12: P,1.5 4p\n",
      "13: D,1.5 4d\n",
      "14: D,2.5 4d\n",
      "15: F,2.5 4f\n",
      "16: F,3.5 4f\n",
      "17: S,0.5 5s\n",
      "18: P,0.5 5p\n",
      "19: P,1.5 5p\n",
      "20: D,1.5 5d\n",
      "21: D,2.5 5d\n",
      "22: F,2.5 5f\n",
      "23: F,3.5 5f\n",
      "24: G,3.5 5g\n",
      "25: G,4.5 5g\n"
     ]
    }
   ],
   "source": [
    "for i,J,L,c in zip(H_ion._elvlc['level'],H_ion._elvlc['J'],H_ion._elvlc['L_label'],H_ion._elvlc['config']):\n",
    "    print(f'{i}: {L},{J} {c}')"
   ]
  },
  {
   "cell_type": "code",
   "execution_count": 52,
   "metadata": {},
   "outputs": [
    {
     "name": "stdout",
     "output_type": "stream",
     "text": [
      "3.01 ms ± 109 µs per loop (mean ± std. dev. of 7 runs, 100 loops each)\n"
     ]
    }
   ],
   "source": [
    "%%timeit\n",
    "H_ion[H_ion._scups['upper_level']-1].multiplicity"
   ]
  },
  {
   "cell_type": "code",
   "execution_count": 53,
   "metadata": {},
   "outputs": [
    {
     "name": "stdout",
     "output_type": "stream",
     "text": [
      "1.92 ms ± 8.05 µs per loop (mean ± std. dev. of 7 runs, 1000 loops each)\n"
     ]
    }
   ],
   "source": [
    "%%timeit\n",
    "H_ion._elvlc['mult'][H_ion._scups['upper_level']-1]"
   ]
  },
  {
   "cell_type": "code",
   "execution_count": 38,
   "metadata": {},
   "outputs": [
    {
     "name": "stdout",
     "output_type": "stream",
     "text": [
      "2\n",
      "2\n",
      "2\n",
      "2\n",
      "2\n",
      "2\n",
      "2\n",
      "2\n",
      "2\n",
      "2\n",
      "2\n",
      "2\n",
      "2\n",
      "2\n",
      "2\n",
      "2\n",
      "2\n",
      "2\n",
      "2\n",
      "2\n",
      "2\n",
      "2\n",
      "2\n",
      "2\n",
      "2\n"
     ]
    }
   ],
   "source": [
    "for level in H_ion:\n",
    "    print(level.multiplicity)"
   ]
  },
  {
   "cell_type": "code",
   "execution_count": 50,
   "metadata": {},
   "outputs": [
    {
     "data": {
      "text/plain": [
       "h/h_1/wgfa\n",
       "\n",
       "Fields\n",
       "------\n",
       "A (1 / s) -- radiative decay rate\n",
       "gf  -- oscillator strength\n",
       "lower_label  -- lower level label\n",
       "lower_level  -- lower level index\n",
       "upper_label  -- upper level label\n",
       "upper_level  -- upper level index\n",
       "wavelength (Angstrom) -- transition wavelength\n",
       "\n",
       "Footer\n",
       "------\n",
       "filename: h_1.wgfa\n",
       " observed energy levels: Fuhr et al, 1999, NIST Atomic Spectra Database Version 2.0,\n",
       "oscillator strengths: Wiese,W.L., Smith,M.W., Glennon,B.M., 1966, Atomic Transition Probabilities, NSRDS-NBS-4\n",
       " A values (1s-2s): Parpia,F.A., Johnson,W.R., 1982, Phys.Rev.A, 26, 1142.\n",
       "comment: Wavelengths have been calculated the original energy levels from NIST, that include more\n",
       "decimal figures than allowed by CHIANTI format.\n",
       "produced as part of the Arcetri/Cambridge/NRL 'CHIANTI' atomic data base collaboration\n",
       "\n",
       "  Ken Dere  May 2001"
      ]
     },
     "execution_count": 50,
     "metadata": {},
     "output_type": "execute_result"
    }
   ],
   "source": [
    "H_ion._wgfa"
   ]
  },
  {
   "cell_type": "code",
   "execution_count": 46,
   "metadata": {},
   "outputs": [],
   "source": [
    "He_ion = TestIon('he_1')"
   ]
  },
  {
   "cell_type": "code",
   "execution_count": 47,
   "metadata": {
    "scrolled": false
   },
   "outputs": [
    {
     "name": "stdout",
     "output_type": "stream",
     "text": [
      "1: S,0.0 1s2\n",
      "2: S,1.0 1s.2s\n",
      "3: S,0.0 1s.2s\n",
      "4: P,2.0 1s.2p\n",
      "5: P,1.0 1s.2p\n",
      "6: P,0.0 1s.2p\n",
      "7: P,1.0 1s.2p\n",
      "8: S,1.0 1s.3s\n",
      "9: S,0.0 1s.3s\n",
      "10: P,2.0 1s.3p\n",
      "11: P,1.0 1s.3p\n",
      "12: P,0.0 1s.3p\n",
      "13: D,3.0 1s.3d\n",
      "14: D,2.0 1s.3d\n",
      "15: D,1.0 1s.3d\n",
      "16: D,2.0 1s.3d\n",
      "17: P,1.0 1s.3p\n",
      "18: S,1.0 1s.4s\n",
      "19: S,0.0 1s.4s\n",
      "20: P,2.0 1s.4p\n",
      "21: P,1.0 1s.4p\n",
      "22: P,0.0 1s.4p\n",
      "23: D,3.0 1s.4d\n",
      "24: D,2.0 1s.4d\n",
      "25: D,1.0 1s.4d\n",
      "26: D,2.0 1s.4d\n",
      "27: F,3.0 1s.4f\n",
      "28: F,4.0 1s.4f\n",
      "29: F,2.0 1s.4f\n",
      "30: F,3.0 1s.4f\n",
      "31: P,1.0 1s.4p\n",
      "32: S,1.0 1s.5s\n",
      "33: S,0.0 1s.5s\n",
      "34: P,2.0 1s.5p\n",
      "35: P,1.0 1s.5p\n",
      "36: P,0.0 1s.5p\n",
      "37: D,3.0 1s.5d\n",
      "38: D,2.0 1s.5d\n",
      "39: D,1.0 1s.5d\n",
      "40: D,2.0 1s.5d\n",
      "41: F,3.0 1s.5f\n",
      "42: F,4.0 1s.5f\n",
      "43: F,2.0 1s.5f\n",
      "44: F,3.0 1s.5f\n",
      "45: G,4.0 1s.5g\n",
      "46: G,5.0 1s.5g\n",
      "47: G,3.0 1s.5g\n",
      "48: G,4.0 1s.5g\n",
      "49: P,1.0 1s.5p\n"
     ]
    }
   ],
   "source": [
    "for i,J,L,c in zip(He_ion._elvlc['level'],He_ion._elvlc['J'],He_ion._elvlc['L_label'],He_ion._elvlc['config']):\n",
    "    print(f'{i}: {L},{J} {c}')"
   ]
  },
  {
   "cell_type": "code",
   "execution_count": 54,
   "metadata": {},
   "outputs": [],
   "source": [
    "a = np.linspace(0,1,10)\n",
    "b = np.linspace(1,2,10)\n",
    "ab = np.vstack([a,b])"
   ]
  },
  {
   "cell_type": "code",
   "execution_count": 57,
   "metadata": {},
   "outputs": [
    {
     "data": {
      "text/plain": [
       "array([[ 0.        ,  0.11111111,  0.22222222,  0.33333333,  0.44444444,\n",
       "         0.55555556,  0.66666667,  0.77777778,  0.88888889,  1.        ],\n",
       "       [ 1.        ,  1.11111111,  1.22222222,  1.33333333,  1.44444444,\n",
       "         1.55555556,  1.66666667,  1.77777778,  1.88888889,  2.        ]])"
      ]
     },
     "execution_count": 57,
     "metadata": {},
     "output_type": "execute_result"
    }
   ],
   "source": [
    "ab"
   ]
  },
  {
   "cell_type": "code",
   "execution_count": 59,
   "metadata": {},
   "outputs": [
    {
     "name": "stderr",
     "output_type": "stream",
     "text": [
      "/Users/willbarnes/anaconda/envs/fiasco/lib/python3.6/site-packages/ipykernel/__main__.py:1: DeprecationWarning: elementwise == comparison failed; this will raise an error in the future.\n",
      "  if __name__ == '__main__':\n"
     ]
    },
    {
     "data": {
      "text/plain": [
       "(array([], dtype=int64),)"
      ]
     },
     "execution_count": 59,
     "metadata": {},
     "output_type": "execute_result"
    }
   ],
   "source": [
    "np.where(ab==np.array([[1,2]]))"
   ]
  },
  {
   "cell_type": "code",
   "execution_count": 61,
   "metadata": {},
   "outputs": [
    {
     "data": {
      "text/plain": [
       "(array([9]),)"
      ]
     },
     "execution_count": 61,
     "metadata": {},
     "output_type": "execute_result"
    }
   ],
   "source": [
    "np.where(a==1) and np.where(b==2)"
   ]
  },
  {
   "cell_type": "code",
   "execution_count": null,
   "metadata": {},
   "outputs": [],
   "source": [
    "np.logical_and()"
   ]
  }
 ],
 "metadata": {
  "kernelspec": {
   "display_name": "Python [conda env:fiasco]",
   "language": "python",
   "name": "conda-env-fiasco-py"
  },
  "language_info": {
   "codemirror_mode": {
    "name": "ipython",
    "version": 3
   },
   "file_extension": ".py",
   "mimetype": "text/x-python",
   "name": "python",
   "nbconvert_exporter": "python",
   "pygments_lexer": "ipython3",
   "version": "3.6.2"
  }
 },
 "nbformat": 4,
 "nbformat_minor": 2
}
