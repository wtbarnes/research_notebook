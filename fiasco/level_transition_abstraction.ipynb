{
 "cells": [
  {
   "cell_type": "markdown",
   "metadata": {},
   "source": [
    "# Abstraction Layer for energy levels and transitions"
   ]
  },
  {
   "cell_type": "markdown",
   "metadata": {},
   "source": [
    "Create an additional abstraction layer for the energy levels and transitions of an ion. The level will hold information about an individual level"
   ]
  },
  {
   "cell_type": "code",
   "execution_count": 1,
   "metadata": {},
   "outputs": [
    {
     "name": "stderr",
     "output_type": "stream",
     "text": [
      "/Users/willbarnes/anaconda/envs/fiasco/lib/python3.6/site-packages/h5py/__init__.py:36: FutureWarning: Conversion of the second argument of issubdtype from `float` to `np.floating` is deprecated. In future, it will be treated as `np.float64 == np.dtype(float).type`.\n",
      "  from ._conv import register_converters as _register_converters\n"
     ]
    }
   ],
   "source": [
    "import numpy as np\n",
    "import matplotlib.pyplot as plt\n",
    "import fiasco\n",
    "import astropy.constants as const\n",
    "import astropy.units as u\n",
    "\n",
    "%matplotlib inline\n",
    "%load_ext snakeviz"
   ]
  },
  {
   "cell_type": "code",
   "execution_count": 52,
   "metadata": {},
   "outputs": [],
   "source": [
    "class Transitions(object):\n",
    "    \n",
    "    def __init__(self, wgfa, elvlc):\n",
    "        self._wgfa = wgfa\n",
    "        self._elvlc = elvlc\n",
    "        \n",
    "    @property\n",
    "    def is_twophoton(self):\n",
    "        \"\"\"\n",
    "        True if the transition is a two-photon decay\n",
    "        \"\"\"\n",
    "        return self._wgfa['wavelength'] == 0.*u.angstrom\n",
    "    \n",
    "    @property\n",
    "    def is_observed(self):\n",
    "        \"\"\"\n",
    "        True for transitions that connect two observed energy levels\n",
    "        \"\"\"\n",
    "        return self._wgfa['wavelength'] > 0.*u.angstrom\n",
    "        \n",
    "    @property\n",
    "    def wavelengths(self):\n",
    "        return np.fabs(self._wgfa['wavelength'])\n",
    "    \n",
    "    @property\n",
    "    def upper_level(self):\n",
    "        return self._wgfa['upper_level']\n",
    "    \n",
    "    @property\n",
    "    def lower_level(self):\n",
    "        return self._wgfa['lower_level']\n",
    "    \n",
    "    @property\n",
    "    def delta_energy(self):\n",
    "        energy = np.where(self._elvlc['E_obs'].value == -1, self._elvlc['E_th'].value, self._elvlc['E_obs'])\n",
    "        energy = u.Quantity(energy, self._elvlc['E_obs'].unit)\n",
    "        indices = np.vstack([fiasco.util.vectorize_where(self._elvlc['level'], self.lower_level),\n",
    "                             fiasco.util.vectorize_where(self._elvlc['level'], self.upper_level)])\n",
    "        delta_energy = np.diff(energy[indices], axis=0).flatten()\n",
    "        return delta_energy * const.h.cgs * const.c.cgs\n",
    "        "
   ]
  },
  {
   "cell_type": "code",
   "execution_count": 57,
   "metadata": {},
   "outputs": [],
   "source": [
    "foo = fiasco.IonBase('H 1')"
   ]
  },
  {
   "cell_type": "code",
   "execution_count": 58,
   "metadata": {},
   "outputs": [],
   "source": [
    "foo_transitions = Transitions(foo._wgfa, foo._elvlc)"
   ]
  },
  {
   "cell_type": "code",
   "execution_count": 36,
   "metadata": {},
   "outputs": [
    {
     "data": {
      "text/plain": [
       "array([False, False, False, ..., False, False,  True])"
      ]
     },
     "execution_count": 36,
     "metadata": {},
     "output_type": "execute_result"
    }
   ],
   "source": [
    "foo_transitions._wgfa['wavelength'].to(u.m) == 0.*u.angstrom"
   ]
  },
  {
   "cell_type": "code",
   "execution_count": 22,
   "metadata": {},
   "outputs": [
    {
     "data": {
      "text/plain": [
       "array([ 1,  1,  1,  1,  1,  1,  1,  1,  1,  1,  3,  3,  2,  2,  4,  4,  4,\n",
       "        3,  2,  3,  2,  4,  4,  4,  3,  2,  3,  2,  4,  4,  4,  6,  5,  6,\n",
       "        5,  8,  7,  8,  7,  7,  8,  9,  9,  9,  6,  5,  6,  5,  7,  8,  8,\n",
       "        7,  9,  9,  9,  7,  8, 11, 10, 11, 10, 13, 12, 13, 12, 15, 14, 15,\n",
       "       14, 16, 16, 16, 15, 14, 12, 13])"
      ]
     },
     "execution_count": 22,
     "metadata": {},
     "output_type": "execute_result"
    }
   ],
   "source": [
    "foo_transitions.lower_level"
   ]
  },
  {
   "cell_type": "code",
   "execution_count": 60,
   "metadata": {},
   "outputs": [
    {
     "data": {
      "text/latex": [
       "$[10.198811,~10.198811,~13.054501,~13.054498,~12.748538,~12.748533,~12.087507,~12.087494,~10.198852,~10.198806,~2.8556949,~2.8556923,~2.8556906,~2.8556877,~2.8556505,~2.8556495,~2.8556469,~2.5497319,~2.5497276,~2.5497268,~2.549722,~2.5496884,~2.5496865,~2.5496815,~1.8887009,~1.8886965,~1.8886888,~1.8886831,~1.88866,~1.8886555,~1.8886435,~0.96700743,~0.96700607,~0.96700483,~0.96700322,~0.96699503,~0.96699503,~0.96699404,~0.96699404,~0.96699144,~0.96699119,~0.96699107,~0.96699057,~0.96698958,~0.66104444,~0.66104307,~0.66103935,~0.66103749,~0.66103291,~0.66103291,~0.66103105,~0.66103105,~0.66102944,~0.66102844,~0.66102658,~0.66102596,~0.66102547,~0.30596857,~0.30596808,~0.30596597,~0.30596523,~0.30596399,~0.30596399,~0.30596299,~0.30596299,~0.30596262,~0.30596262,~0.30596213,~0.30596213,~0.30596188,~0.30596163,~0.30596114,~0.30596114,~0.30596114,~0.30596039,~0.30596014] \\; \\mathrm{eV}$"
      ],
      "text/plain": [
       "<Quantity [10.19881064, 10.19881064, 13.05450121, 13.05449836, 12.74853822,\n",
       "           12.74853264, 12.08750717, 12.08749378, 10.19885168, 10.1988063 ,\n",
       "            2.85569491,  2.85569231,  2.85569058,  2.85568772,  2.85565053,\n",
       "            2.85564954,  2.85564693,  2.54973192,  2.54972758,  2.54972684,\n",
       "            2.549722  ,  2.5496884 ,  2.54968654,  2.54968146,  1.88870087,\n",
       "            1.88869653,  1.88868885,  1.88868314,  1.88865996,  1.88865549,\n",
       "            1.88864347,  0.96700743,  0.96700607,  0.96700483,  0.96700322,\n",
       "            0.96699503,  0.96699503,  0.96699404,  0.96699404,  0.96699144,\n",
       "            0.96699119,  0.96699107,  0.96699057,  0.96698958,  0.66104444,\n",
       "            0.66104307,  0.66103935,  0.66103749,  0.66103291,  0.66103291,\n",
       "            0.66103105,  0.66103105,  0.66102944,  0.66102844,  0.66102658,\n",
       "            0.66102596,  0.66102547,  0.30596857,  0.30596808,  0.30596597,\n",
       "            0.30596523,  0.30596399,  0.30596399,  0.30596299,  0.30596299,\n",
       "            0.30596262,  0.30596262,  0.30596213,  0.30596213,  0.30596188,\n",
       "            0.30596163,  0.30596114,  0.30596114,  0.30596114,  0.30596039,\n",
       "            0.30596014] eV>"
      ]
     },
     "execution_count": 60,
     "metadata": {},
     "output_type": "execute_result"
    }
   ],
   "source": [
    "foo_transitions.delta_energy.to(u.eV)"
   ]
  },
  {
   "cell_type": "code",
   "execution_count": 51,
   "metadata": {},
   "outputs": [
    {
     "data": {
      "text/plain": [
       "(3,)"
      ]
     },
     "execution_count": 51,
     "metadata": {},
     "output_type": "execute_result"
    }
   ],
   "source": [
    "a = np.array([0,1,2])\n",
    "b = np.array([1,2,3])\n",
    "c = np.array([2,4,6,8])\n",
    "np.diff(c[np.vstack([a,b])],axis=0).flatten().shape"
   ]
  },
  {
   "cell_type": "code",
   "execution_count": 29,
   "metadata": {},
   "outputs": [
    {
     "data": {
      "text/latex": [
       "$13.2207 \\; \\mathrm{eV}$"
      ],
      "text/plain": [
       "<Quantity 13.22070043 eV>"
      ]
     },
     "execution_count": 29,
     "metadata": {},
     "output_type": "execute_result"
    }
   ],
   "source": [
    "(foo._ip['chianti'] * const.h * const.c).cgs.to(u.eV) * (1 - 1/(6**2))"
   ]
  },
  {
   "cell_type": "code",
   "execution_count": null,
   "metadata": {},
   "outputs": [],
   "source": [
    "class Transition(object):\n",
    "    \n",
    "    def __init__(self, lower_level, upper_level, ion_name):\n",
    "        self._ionbase = fiasco.IonBase(ion_name)\n",
    "        self._lower_level = lower_level\n",
    "        self._upper_level = upper_level\n",
    "        \n",
    "    def __repr__(self):\n",
    "        pass\n",
    "    \n",
    "    @property\n",
    "    def _index(self):\n",
    "        index = np.where(np.logical_and(\n",
    "            self._ionbase._wgfa['lower_level'] == self._lower_level,\n",
    "            self._ionbase._wgfa['upper_level'] == self._upper_level))[0]\n",
    "        if index.shape[0] == 0:\n",
    "            raise IndexError(f'Transition {upper_level}->{lower_level} not available')\n",
    "        return index[0]\n",
    "    \n",
    "    @property\n",
    "    def lower_level(self):\n",
    "        index = np.where(self._ionbase._wgfa['lower_level'][self._index] == self._ionbase._elvlc['level'])\n",
    "        return Level(index[0][0], self._ionbase._elvlc)\n",
    "    \n",
    "    @property\n",
    "    def upper_level(self):\n",
    "        index = np.where(self._ionbase._wgfa['upper_level'][self._index] == self._ionbase._elvlc['level'])\n",
    "        return Level(index[0][0], self._ionbase._elvlc)\n",
    "\n",
    "    @property\n",
    "    def wavelength(self):\n",
    "        return self._ionbase._wgfa['wavelength'][self._index]\n",
    "    \n",
    "    @property\n",
    "    def delta_energy(self):\n",
    "        return self.upper_level.energy - self.lower_level.energy\n",
    "    \n",
    "\n",
    "class Level(object):\n",
    "    \n",
    "    def __init__(self, index, elvlc):\n",
    "        self._index = index\n",
    "        self._elvlc = elvlc\n",
    "        \n",
    "    def __repr__(self):\n",
    "        return f\"\"\"Level: {self.level}\n",
    "Configuration: {self.configuration}\n",
    "Orbital Angular Momentum: {self.orbital_angular_momentum_label}\n",
    "Energy: {self.energy}\"\"\"\n",
    "    \n",
    "    @property\n",
    "    def level(self):\n",
    "        return self._elvlc['level'][self._index]\n",
    "        \n",
    "    @property\n",
    "    def configuration(self):\n",
    "        return self._elvlc['config'][self._index]\n",
    "    \n",
    "    @property\n",
    "    def multiplicity(self):\n",
    "        return self._elvlc['mult'][self._index]\n",
    "    \n",
    "    @property\n",
    "    def total_angular_momentum(self):\n",
    "        return self._elvlc['J'][self._index]\n",
    "    \n",
    "    @property\n",
    "    def orbital_angular_momentum_label(self):\n",
    "        return self._elvlc['L_label'][self._index]\n",
    "    \n",
    "    @property\n",
    "    def energy(self):\n",
    "        if self._elvlc['E_obs'][self._index] < 0:\n",
    "            return (self._elvlc['E_th'][self._index]*const.h.cgs*const.c.cgs).decompose().cgs\n",
    "        else:\n",
    "            return (self._elvlc['E_obs'][self._index]*const.h.cgs*const.c.cgs).decompose().cgs"
   ]
  },
  {
   "cell_type": "code",
   "execution_count": null,
   "metadata": {},
   "outputs": [],
   "source": [
    "class TestIon(fiasco.Ion):\n",
    "    \n",
    "    def __getitem__(self, key):\n",
    "        _ = self._elvlc['level'][key]\n",
    "        return Level(key, self._elvlc)\n",
    "    \n",
    "    @property\n",
    "    def transitions(self):\n",
    "        transitions = np.stack([self._wgfa['lower_level'], self._wgfa['upper_level']], axis=1)\n",
    "        return [Transition(*t, self.ion_name) for t in transitions]"
   ]
  },
  {
   "cell_type": "code",
   "execution_count": null,
   "metadata": {},
   "outputs": [],
   "source": [
    "H_ion.__class__.__bases__[0].__bases__[0]"
   ]
  },
  {
   "cell_type": "code",
   "execution_count": null,
   "metadata": {},
   "outputs": [],
   "source": [
    "H_ion = TestIon('h 1', np.logspace(5,7,10)*u.K)"
   ]
  },
  {
   "cell_type": "code",
   "execution_count": null,
   "metadata": {},
   "outputs": [],
   "source": [
    "H_ion._elvlc['level'].shape"
   ]
  },
  {
   "cell_type": "code",
   "execution_count": null,
   "metadata": {},
   "outputs": [],
   "source": [
    "for t in H_ion.transitions[::10]:\n",
    "    print(t.wavelength)"
   ]
  },
  {
   "cell_type": "code",
   "execution_count": null,
   "metadata": {},
   "outputs": [],
   "source": [
    "H_ion[1]"
   ]
  },
  {
   "cell_type": "code",
   "execution_count": null,
   "metadata": {},
   "outputs": [],
   "source": [
    "H_ion[0]"
   ]
  },
  {
   "cell_type": "code",
   "execution_count": null,
   "metadata": {},
   "outputs": [],
   "source": [
    "%%snakeviz\n",
    "ts = H_ion.transitions"
   ]
  },
  {
   "cell_type": "code",
   "execution_count": null,
   "metadata": {},
   "outputs": [],
   "source": [
    "H_ion._wgfa['wavelength']"
   ]
  },
  {
   "cell_type": "code",
   "execution_count": null,
   "metadata": {},
   "outputs": [],
   "source": [
    "for level in H_ion:\n",
    "    print(level.level, level.configuration)"
   ]
  },
  {
   "cell_type": "code",
   "execution_count": null,
   "metadata": {},
   "outputs": [],
   "source": [
    "H_ion._elvlc"
   ]
  },
  {
   "cell_type": "code",
   "execution_count": null,
   "metadata": {},
   "outputs": [],
   "source": [
    "for i,J,L,c in zip(H_ion._elvlc['level'],H_ion._elvlc['J'],H_ion._elvlc['L_label'],H_ion._elvlc['config']):\n",
    "    print(f'{i}: {L},{J} {c}')"
   ]
  },
  {
   "cell_type": "code",
   "execution_count": null,
   "metadata": {},
   "outputs": [],
   "source": [
    "%%timeit\n",
    "H_ion[H_ion._scups['upper_level']-1].multiplicity"
   ]
  },
  {
   "cell_type": "code",
   "execution_count": null,
   "metadata": {},
   "outputs": [],
   "source": [
    "%%timeit\n",
    "H_ion._elvlc['mult'][H_ion._scups['upper_level']-1]"
   ]
  },
  {
   "cell_type": "code",
   "execution_count": null,
   "metadata": {},
   "outputs": [],
   "source": [
    "for level in H_ion:\n",
    "    print(level.multiplicity)"
   ]
  },
  {
   "cell_type": "code",
   "execution_count": null,
   "metadata": {},
   "outputs": [],
   "source": [
    "H_ion._wgfa"
   ]
  },
  {
   "cell_type": "code",
   "execution_count": null,
   "metadata": {},
   "outputs": [],
   "source": [
    "foo = fiasco.IonBase('Fe 5')"
   ]
  },
  {
   "cell_type": "code",
   "execution_count": null,
   "metadata": {},
   "outputs": [],
   "source": [
    "foo._elvlc['E_obs']"
   ]
  },
  {
   "cell_type": "code",
   "execution_count": null,
   "metadata": {},
   "outputs": [],
   "source": [
    "foo._wgfa['upper_level']"
   ]
  },
  {
   "cell_type": "code",
   "execution_count": null,
   "metadata": {},
   "outputs": [],
   "source": [
    "np.where(np.logical_and(foo._wgfa['lower_level'] == 1, foo._wgfa['upper_level'] == 2))"
   ]
  },
  {
   "cell_type": "code",
   "execution_count": null,
   "metadata": {},
   "outputs": [],
   "source": [
    "np.where(foo._elvlc['level'] == 0)[0].shape[0]"
   ]
  },
  {
   "cell_type": "code",
   "execution_count": null,
   "metadata": {},
   "outputs": [],
   "source": [
    "foo._wgfa['upper_label']"
   ]
  },
  {
   "cell_type": "code",
   "execution_count": null,
   "metadata": {},
   "outputs": [],
   "source": [
    "foobar = TestIon('Fe 11')"
   ]
  },
  {
   "cell_type": "code",
   "execution_count": null,
   "metadata": {},
   "outputs": [],
   "source": [
    "%%snakeviz\n",
    "fb_t = foobar.transitions"
   ]
  },
  {
   "cell_type": "code",
   "execution_count": null,
   "metadata": {},
   "outputs": [],
   "source": [
    "%%timeit\n",
    "np.where((foobar._wgfa['lower_level'] == 1) * (foobar._wgfa['upper_level'] == 2))"
   ]
  },
  {
   "cell_type": "code",
   "execution_count": null,
   "metadata": {},
   "outputs": [],
   "source": [
    "%%timeit\n",
    "np.where(np.logical_and(foobar._wgfa['lower_level'] == 1, foobar._wgfa['upper_level'] == 2))"
   ]
  },
  {
   "cell_type": "code",
   "execution_count": null,
   "metadata": {},
   "outputs": [],
   "source": [
    "foobar[0]"
   ]
  },
  {
   "cell_type": "code",
   "execution_count": 7,
   "metadata": {},
   "outputs": [],
   "source": [
    "test = fiasco.Ion('H 1', [1e6,1e8]*u.K)"
   ]
  },
  {
   "cell_type": "code",
   "execution_count": 8,
   "metadata": {},
   "outputs": [
    {
     "data": {
      "text/plain": [
       "CHIANTI Database Ion\n",
       "---------------------\n",
       "Name: H 1\n",
       "Element: hydrogen (1)\n",
       "Charge: +0\n",
       "Number of Levels: 25\n",
       "Number of Transitions: 76\n",
       "\n",
       "Temperature range: [1.0 MK, 100.0 MK]\n",
       "\n",
       "HDF5 Database: /Users/willbarnes/.fiasco/chianti_dbase.h5\n",
       "Using Datasets:\n",
       "  ioneq: chianti\n",
       "  abundance: sun_photospheric_1998_grevesse\n",
       "  ip: chianti"
      ]
     },
     "execution_count": 8,
     "metadata": {},
     "output_type": "execute_result"
    }
   ],
   "source": [
    "test"
   ]
  },
  {
   "cell_type": "code",
   "execution_count": 9,
   "metadata": {},
   "outputs": [
    {
     "ename": "TypeError",
     "evalue": "object of type 'Ion' has no len()",
     "output_type": "error",
     "traceback": [
      "\u001b[0;31m---------------------------------------------------------------------------\u001b[0m",
      "\u001b[0;31mTypeError\u001b[0m                                 Traceback (most recent call last)",
      "\u001b[0;32m<ipython-input-9-0d22009e0a68>\u001b[0m in \u001b[0;36m<module>\u001b[0;34m()\u001b[0m\n\u001b[0;32m----> 1\u001b[0;31m \u001b[0mlen\u001b[0m\u001b[0;34m(\u001b[0m\u001b[0mtest\u001b[0m\u001b[0;34m)\u001b[0m\u001b[0;34m\u001b[0m\u001b[0m\n\u001b[0m",
      "\u001b[0;31mTypeError\u001b[0m: object of type 'Ion' has no len()"
     ]
    }
   ],
   "source": [
    "len(test)"
   ]
  },
  {
   "cell_type": "code",
   "execution_count": 4,
   "metadata": {},
   "outputs": [],
   "source": [
    "for l in test:\n",
    "    print(l)"
   ]
  },
  {
   "cell_type": "code",
   "execution_count": 16,
   "metadata": {},
   "outputs": [
    {
     "data": {
      "text/plain": [
       "True"
      ]
     },
     "execution_count": 16,
     "metadata": {},
     "output_type": "execute_result"
    }
   ],
   "source": [
    "hasattr(test[0], 'level')"
   ]
  },
  {
   "cell_type": "code",
   "execution_count": 13,
   "metadata": {},
   "outputs": [
    {
     "name": "stdout",
     "output_type": "stream",
     "text": [
      "Level: 1\n",
      "Configuration: 1s\n",
      "Orbital Angular Momentum: S\n",
      "Energy: 0.0 erg \n",
      "\n",
      "Level: 2\n",
      "Configuration: 2s\n",
      "Orbital Angular Momentum: S\n",
      "Energy: 1.634029596469284e-11 erg \n",
      "\n",
      "Level: 3\n",
      "Configuration: 2p\n",
      "Orbital Angular Momentum: P\n",
      "Energy: 1.6340289012132456e-11 erg \n",
      "\n",
      "Level: 4\n",
      "Configuration: 2p\n",
      "Orbital Angular Momentum: P\n",
      "Energy: 1.6340361716049618e-11 erg \n",
      "\n",
      "Level: 5\n",
      "Configuration: 3s\n",
      "Orbital Angular Momentum: S\n",
      "Energy: 1.9366302125401765e-11 erg \n",
      "\n",
      "Level: 6\n",
      "Configuration: 3p\n",
      "Orbital Angular Momentum: P\n",
      "Energy: 1.936629994031136e-11 erg \n",
      "\n",
      "Level: 7\n",
      "Configuration: 3p\n",
      "Orbital Angular Momentum: P\n",
      "Energy: 1.9366321393926264e-11 erg \n",
      "\n",
      "Level: 8\n",
      "Configuration: 3d\n",
      "Orbital Angular Momentum: D\n",
      "Energy: 1.9366321393926264e-11 erg \n",
      "\n",
      "Level: 9\n",
      "Configuration: 3d\n",
      "Orbital Angular Momentum: D\n",
      "Energy: 1.9366328545131233e-11 erg \n",
      "\n",
      "Level: 10\n",
      "Configuration: 4s\n",
      "Orbital Angular Momentum: S\n",
      "Energy: 2.0425401738999235e-11 erg \n",
      "\n",
      "Level: 11\n",
      "Configuration: 4p\n",
      "Orbital Angular Momentum: P\n",
      "Energy: 2.0425400944420903e-11 erg \n",
      "\n",
      "Level: 12\n",
      "Configuration: 4p\n",
      "Orbital Angular Momentum: P\n",
      "Energy: 2.0425409883427117e-11 erg \n",
      "\n",
      "Level: 13\n",
      "Configuration: 4d\n",
      "Orbital Angular Momentum: D\n",
      "Energy: 2.0425409883427117e-11 erg \n",
      "\n",
      "Level: 14\n",
      "Configuration: 4d\n",
      "Orbital Angular Momentum: D\n",
      "Energy: 2.042541286309585e-11 erg \n",
      "\n",
      "Level: 15\n",
      "Configuration: 4f\n",
      "Orbital Angular Momentum: F\n",
      "Energy: 2.042541286309585e-11 erg \n",
      "\n",
      "Level: 16\n",
      "Configuration: 4f\n",
      "Orbital Angular Momentum: F\n",
      "Energy: 2.042541445225251e-11 erg \n",
      "\n",
      "Level: 17\n",
      "Configuration: 5s\n",
      "Orbital Angular Momentum: S\n",
      "Energy: 2.091561246930753e-11 erg \n",
      "\n",
      "Level: 18\n",
      "Configuration: 5p\n",
      "Orbital Angular Momentum: P\n",
      "Energy: 2.091561207201836e-11 erg \n",
      "\n",
      "Level: 19\n",
      "Configuration: 5p\n",
      "Orbital Angular Momentum: P\n",
      "Energy: 2.091561664084376e-11 erg \n",
      "\n",
      "Level: 20\n",
      "Configuration: 5d\n",
      "Orbital Angular Momentum: D\n",
      "Energy: 2.091561664084376e-11 erg \n",
      "\n",
      "Level: 21\n",
      "Configuration: 5d\n",
      "Orbital Angular Momentum: D\n",
      "Energy: 2.0915618230000417e-11 erg \n",
      "\n",
      "Level: 22\n",
      "Configuration: 5f\n",
      "Orbital Angular Momentum: F\n",
      "Energy: 2.0915618230000417e-11 erg \n",
      "\n",
      "Level: 23\n",
      "Configuration: 5f\n",
      "Orbital Angular Momentum: F\n",
      "Energy: 2.0915619024578746e-11 erg \n",
      "\n",
      "Level: 24\n",
      "Configuration: 5g\n",
      "Orbital Angular Momentum: G\n",
      "Energy: 2.0915619024578746e-11 erg \n",
      "\n",
      "Level: 25\n",
      "Configuration: 5g\n",
      "Orbital Angular Momentum: G\n",
      "Energy: 2.0915619421867914e-11 erg \n",
      "\n"
     ]
    }
   ],
   "source": [
    "for level in test:\n",
    "    print(level,'\\n')"
   ]
  },
  {
   "cell_type": "code",
   "execution_count": null,
   "metadata": {},
   "outputs": [],
   "source": []
  }
 ],
 "metadata": {
  "kernelspec": {
   "display_name": "Python [conda env:fiasco]",
   "language": "python",
   "name": "conda-env-fiasco-py"
  },
  "language_info": {
   "codemirror_mode": {
    "name": "ipython",
    "version": 3
   },
   "file_extension": ".py",
   "mimetype": "text/x-python",
   "name": "python",
   "nbconvert_exporter": "python",
   "pygments_lexer": "ipython3",
   "version": "3.6.4"
  }
 },
 "nbformat": 4,
 "nbformat_minor": 2
}
