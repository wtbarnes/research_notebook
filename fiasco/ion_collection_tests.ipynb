{
 "cells": [
  {
   "cell_type": "code",
   "execution_count": 82,
   "metadata": {},
   "outputs": [],
   "source": [
    "import numpy as np\n",
    "import astropy.units as u\n",
    "import matplotlib.pyplot as plt\n",
    "import fiasco\n",
    "\n",
    "%matplotlib inline"
   ]
  },
  {
   "cell_type": "markdown",
   "metadata": {},
   "source": [
    "# Testing an Ion Collection Object\n",
    "Need to have an object that combines several ions into a collection. This is most useful for calculating multi-ion quantities like spectra and radiative losses.\n",
    "\n",
    "What are the ways we could create an `IonCollection`?\n",
    "\n",
    "1. Instantiate an `IonCollection` object with\n",
    "  - a list of ion strings, e.g. `['fe_1','ca_7','li_2']`\n",
    "  - a list of `Ion` objects, e.g. `[Ion('fe_1'),Ion('ca_7'),Ion('li_2')]`\n",
    "  - a list of element strings, e.g. `['Fe','Ca']`\n",
    "  - a list of `Element` objects, e.g. `[Element('Fe'),Element('Ca')]`\n",
    "  - any combination of the above\n",
    "2. Add two or more `Element` or `Ion` objects together, e.g.\n",
    "  - `Element('Fe') + Element('Ca')`\n",
    "  - `Ion('fe_1') + Ion('ca_7')`\n",
    "3. Add two or more `IonCollection` objects together\n",
    "  \n",
    "This make things like spectra and radiative losses easily \"composable\" and is very intuitive for the user, particularly the latter approach. \n",
    "\n",
    "A few notes:\n",
    "- To have two or more ions in an `IonCollection`, the temperature and densities **must be the same**.\n",
    "- If only a string is included anywhere in the list, a temperature must also be specified\n",
    "- When an element is added to a collection, it is expanded into its component ions, i.e. there is no need to have a separate collection for elements\n",
    "- We need to filter out duplicates such that if I include both `Element('Fe')` and `Ion('fe_2')`, I don't have Fe II in the collection twice\n"
   ]
  },
  {
   "cell_type": "code",
   "execution_count": 107,
   "metadata": {},
   "outputs": [],
   "source": [
    "temperature = np.logspace(5,8,100)*u.K"
   ]
  },
  {
   "cell_type": "code",
   "execution_count": 174,
   "metadata": {},
   "outputs": [],
   "source": [
    "class IonCollection(object):\n",
    "    \n",
    "    def __init__(self,item_list,temperature=None):\n",
    "        if type(item_list) is not list:\n",
    "            item_list = [item_list]\n",
    "        self._ion_list = []\n",
    "        for item in item_list:\n",
    "            if isinstance(item, fiasco.Ion):\n",
    "                self._ion_list.append(item)\n",
    "            elif isinstance(item, fiasco.Element):\n",
    "                self._ion_list += [ion for ion in item]\n",
    "            elif isinstance(item, type(self)):\n",
    "                self._ion_list += item._ion_list\n",
    "            elif type(item) is str or type(item) is int:\n",
    "                if temperature is None:\n",
    "                    raise ValueError('Must specify a temperature in order to create an ion or element.')\n",
    "                # TODO: better criteria for ion versus element here\n",
    "                if type(item) is str and len(item.split('_')) > 1:\n",
    "                    self._ion_list.append(fiasco.Ion(item,temperature))\n",
    "                else:\n",
    "                    self._ion_list += [ion for ion in fiasco.Element(item,temperature)]\n",
    "            else:\n",
    "                raise TypeError('{} has an unrecognized type and cannot be added to collection.'.format(item))\n",
    "        # TODO: check for duplicates\n",
    "        # TODO: check all temperatures are the same\n",
    "        \n",
    "    def __getitem__(self,x):\n",
    "        return self._ion_list[x]\n",
    "    \n",
    "    def __contains__(self,x):\n",
    "        return x in [i.ion_name for i in self._ion_list]\n",
    "    \n",
    "    def __add__(self,x):\n",
    "        return IonCollection(self._ion_list+[x])\n",
    "    \n",
    "    def __radd__(self,x):\n",
    "        return IonCollection([x]+self._ion_list)"
   ]
  },
  {
   "cell_type": "markdown",
   "metadata": {},
   "source": [
    "Test direct instantiation"
   ]
  },
  {
   "cell_type": "code",
   "execution_count": 175,
   "metadata": {},
   "outputs": [],
   "source": [
    "el1 = fiasco.Element('Fe',temperature)\n",
    "el2 = fiasco.Element('ca',temperature)\n",
    "ion1 = fiasco.Ion('li_2',temperature)\n",
    "ion2 = fiasco.Ion('he_2',temperature)"
   ]
  },
  {
   "cell_type": "code",
   "execution_count": 176,
   "metadata": {},
   "outputs": [],
   "source": [
    "ic = IonCollection([el1,el2,ion1,'h_1','He',10],temperature)"
   ]
  },
  {
   "cell_type": "code",
   "execution_count": 177,
   "metadata": {
    "scrolled": true
   },
   "outputs": [
    {
     "name": "stdout",
     "output_type": "stream",
     "text": [
      "fe_1\n",
      "fe_2\n",
      "fe_3\n",
      "fe_4\n",
      "fe_5\n",
      "fe_6\n",
      "fe_7\n",
      "fe_8\n",
      "fe_9\n",
      "fe_10\n",
      "fe_11\n",
      "fe_12\n",
      "fe_13\n",
      "fe_14\n",
      "fe_15\n",
      "fe_16\n",
      "fe_17\n",
      "fe_18\n",
      "fe_19\n",
      "fe_20\n",
      "fe_21\n",
      "fe_22\n",
      "fe_23\n",
      "fe_24\n",
      "fe_25\n",
      "fe_26\n",
      "fe_27\n",
      "ca_1\n",
      "ca_2\n",
      "ca_3\n",
      "ca_4\n",
      "ca_5\n",
      "ca_6\n",
      "ca_7\n",
      "ca_8\n",
      "ca_9\n",
      "ca_10\n",
      "ca_11\n",
      "ca_12\n",
      "ca_13\n",
      "ca_14\n",
      "ca_15\n",
      "ca_16\n",
      "ca_17\n",
      "ca_18\n",
      "ca_19\n",
      "ca_20\n",
      "ca_21\n",
      "li_2\n",
      "h_1\n",
      "he_1\n",
      "he_2\n",
      "he_3\n",
      "ne_1\n",
      "ne_2\n",
      "ne_3\n",
      "ne_4\n",
      "ne_5\n",
      "ne_6\n",
      "ne_7\n",
      "ne_8\n",
      "ne_9\n",
      "ne_10\n",
      "ne_11\n"
     ]
    }
   ],
   "source": [
    "for ion in ic:\n",
    "    print(ion.ion_name)"
   ]
  },
  {
   "cell_type": "code",
   "execution_count": 178,
   "metadata": {},
   "outputs": [
    {
     "data": {
      "text/plain": [
       "False"
      ]
     },
     "execution_count": 178,
     "metadata": {},
     "output_type": "execute_result"
    }
   ],
   "source": [
    "'li_3' in ic"
   ]
  },
  {
   "cell_type": "code",
   "execution_count": 179,
   "metadata": {},
   "outputs": [],
   "source": [
    "ic2 = IonCollection('fe_2',temperature=temperature)"
   ]
  },
  {
   "cell_type": "code",
   "execution_count": 180,
   "metadata": {},
   "outputs": [
    {
     "data": {
      "text/plain": [
       "'fe_2'"
      ]
     },
     "execution_count": 180,
     "metadata": {},
     "output_type": "execute_result"
    }
   ],
   "source": [
    "ic2[0].ion_name"
   ]
  },
  {
   "cell_type": "markdown",
   "metadata": {},
   "source": [
    "Testing composable approach"
   ]
  },
  {
   "cell_type": "code",
   "execution_count": 181,
   "metadata": {},
   "outputs": [],
   "source": [
    "class TestIon(fiasco.Ion):\n",
    "    def __add__(self,x):\n",
    "        return IonCollection([self.ion_name,x],temperature=self.temperature)\n",
    "    \n",
    "    def __radd__(self,x):\n",
    "        return IonCollection([x,self.ion_name],temperature=self.temperature)\n",
    "\n",
    "class TestElement(fiasco.Element):\n",
    "    def __add__(self,x):\n",
    "        return IonCollection([self.element_name,x],temperature=self.temperature)\n",
    "    def __radd__(self,x):\n",
    "        return IonCollection([x,self.element_name],temperature=self.temperature)"
   ]
  },
  {
   "cell_type": "code",
   "execution_count": 182,
   "metadata": {},
   "outputs": [],
   "source": [
    "tion1 = TestIon('li_2',temperature)\n",
    "tion2 = TestIon('he_2',temperature)\n",
    "tion3 = TestIon('fe_18',temperature)"
   ]
  },
  {
   "cell_type": "code",
   "execution_count": 183,
   "metadata": {},
   "outputs": [],
   "source": [
    "ic3 = tion1 + tion2 + tion3 + ic"
   ]
  },
  {
   "cell_type": "code",
   "execution_count": 184,
   "metadata": {
    "scrolled": true
   },
   "outputs": [
    {
     "name": "stdout",
     "output_type": "stream",
     "text": [
      "li_2\n",
      "he_2\n",
      "fe_18\n",
      "fe_1\n",
      "fe_2\n",
      "fe_3\n",
      "fe_4\n",
      "fe_5\n",
      "fe_6\n",
      "fe_7\n",
      "fe_8\n",
      "fe_9\n",
      "fe_10\n",
      "fe_11\n",
      "fe_12\n",
      "fe_13\n",
      "fe_14\n",
      "fe_15\n",
      "fe_16\n",
      "fe_17\n",
      "fe_18\n",
      "fe_19\n",
      "fe_20\n",
      "fe_21\n",
      "fe_22\n",
      "fe_23\n",
      "fe_24\n",
      "fe_25\n",
      "fe_26\n",
      "fe_27\n",
      "ca_1\n",
      "ca_2\n",
      "ca_3\n",
      "ca_4\n",
      "ca_5\n",
      "ca_6\n",
      "ca_7\n",
      "ca_8\n",
      "ca_9\n",
      "ca_10\n",
      "ca_11\n",
      "ca_12\n",
      "ca_13\n",
      "ca_14\n",
      "ca_15\n",
      "ca_16\n",
      "ca_17\n",
      "ca_18\n",
      "ca_19\n",
      "ca_20\n",
      "ca_21\n",
      "li_2\n",
      "h_1\n",
      "he_1\n",
      "he_2\n",
      "he_3\n",
      "ne_1\n",
      "ne_2\n",
      "ne_3\n",
      "ne_4\n",
      "ne_5\n",
      "ne_6\n",
      "ne_7\n",
      "ne_8\n",
      "ne_9\n",
      "ne_10\n",
      "ne_11\n"
     ]
    }
   ],
   "source": [
    "for ion in ic3:\n",
    "    print(ion.ion_name)"
   ]
  },
  {
   "cell_type": "code",
   "execution_count": null,
   "metadata": {},
   "outputs": [],
   "source": []
  }
 ],
 "metadata": {
  "kernelspec": {
   "display_name": "Python [conda env:fiasco]",
   "language": "python",
   "name": "conda-env-fiasco-py"
  },
  "language_info": {
   "codemirror_mode": {
    "name": "ipython",
    "version": 3
   },
   "file_extension": ".py",
   "mimetype": "text/x-python",
   "name": "python",
   "nbconvert_exporter": "python",
   "pygments_lexer": "ipython3",
   "version": "3.6.2"
  }
 },
 "nbformat": 4,
 "nbformat_minor": 2
}
