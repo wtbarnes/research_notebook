{
 "cells": [
  {
   "cell_type": "code",
   "execution_count": 1,
   "metadata": {},
   "outputs": [],
   "source": [
    "import warnings\n",
    "import numpy as np\n",
    "import scipy.interpolate\n",
    "import astropy.units as u\n",
    "import matplotlib.pyplot as plt\n",
    "import fiasco\n",
    "\n",
    "%matplotlib inline"
   ]
  },
  {
   "cell_type": "markdown",
   "metadata": {},
   "source": [
    "# Testing an Ion Collection Object\n",
    "Need to have an object that combines several ions into a collection. This is most useful for calculating multi-ion quantities like spectra and radiative losses.\n",
    "\n",
    "What are the ways we could create an `IonCollection`?\n",
    "\n",
    "1. Instantiate an `IonCollection` object with\n",
    "  - a list of ion strings, e.g. `['fe_1','ca_7','li_2']`\n",
    "  - a list of `Ion` objects, e.g. `[Ion('fe_1'),Ion('ca_7'),Ion('li_2')]`\n",
    "  - a list of element strings, e.g. `['Fe','Ca']`\n",
    "  - a list of `Element` objects, e.g. `[Element('Fe'),Element('Ca')]`\n",
    "  - any combination of the above\n",
    "2. Add two or more `Element` or `Ion` objects together, e.g.\n",
    "  - `Element('Fe') + Element('Ca')`\n",
    "  - `Ion('fe_1') + Ion('ca_7')`\n",
    "3. Add two or more `IonCollection` objects together\n",
    "  \n",
    "This make things like spectra and radiative losses easily \"composable\" and is very intuitive for the user, particularly the latter approach. \n",
    "\n",
    "A few notes:\n",
    "- To have two or more ions in an `IonCollection`, the temperature and densities **must be the same**.\n",
    "- If only a string is included anywhere in the list, a temperature must also be specified\n",
    "- When an element is added to a collection, it is expanded into its component ions, i.e. there is no need to have a separate collection for elements\n",
    "- We need to filter out duplicates such that if I include both `Element('Fe')` and `Ion('fe_2')`, I don't have Fe II in the collection twice\n"
   ]
  },
  {
   "cell_type": "code",
   "execution_count": 2,
   "metadata": {},
   "outputs": [],
   "source": [
    "temperature = np.logspace(4,9,100)*u.K"
   ]
  },
  {
   "cell_type": "code",
   "execution_count": null,
   "metadata": {},
   "outputs": [],
   "source": [
    "class IonCollection(object):\n",
    "    \n",
    "    def __init__(self,*args):\n",
    "        self._ion_list = []\n",
    "        for item in args:\n",
    "            if isinstance(item, fiasco.Ion):\n",
    "                self._ion_list.append(item)\n",
    "            elif isinstance(item, fiasco.Element):\n",
    "                self._ion_list += [ion for ion in item]\n",
    "            elif isinstance(item, type(self)):\n",
    "                self._ion_list += item._ion_list\n",
    "            else:\n",
    "                raise TypeError('{} has an unrecognized type and cannot be added to collection.'.format(item))\n",
    "        # TODO: check for duplicates\n",
    "        # TODO: check all temperatures are the same\n",
    "        \n",
    "    def __getitem__(self,x):\n",
    "        return self._ion_list[x]\n",
    "    \n",
    "    def __contains__(self,x):\n",
    "        return x in [i.ion_name for i in self._ion_list]\n",
    "    \n",
    "    def __add__(self,x):\n",
    "        return IonCollection(self._ion_list+[x])\n",
    "    \n",
    "    def __radd__(self,x):\n",
    "        return IonCollection([x]+self._ion_list)"
   ]
  },
  {
   "cell_type": "markdown",
   "metadata": {},
   "source": [
    "Test direct instantiation"
   ]
  },
  {
   "cell_type": "code",
   "execution_count": 3,
   "metadata": {},
   "outputs": [],
   "source": [
    "el1 = fiasco.Element('Fe',temperature)\n",
    "el2 = fiasco.Element('ca',temperature)\n",
    "ion1 = fiasco.Ion('li_2',temperature)\n",
    "ion2 = fiasco.Ion('li_1',temperature)\n",
    "ionb = fiasco.IonBase('li_2')"
   ]
  },
  {
   "cell_type": "code",
   "execution_count": 8,
   "metadata": {},
   "outputs": [],
   "source": [
    "c12 = el1+el2+ion1+ion2"
   ]
  },
  {
   "cell_type": "code",
   "execution_count": 9,
   "metadata": {},
   "outputs": [
    {
     "data": {
      "text/plain": [
       "True"
      ]
     },
     "execution_count": 9,
     "metadata": {},
     "output_type": "execute_result"
    }
   ],
   "source": [
    "'Fe 26' in c12"
   ]
  },
  {
   "cell_type": "code",
   "execution_count": 13,
   "metadata": {},
   "outputs": [
    {
     "data": {
      "text/latex": [
       "$1.2118889 \\times 10^{-10} \\; \\mathrm{erg}$"
      ],
      "text/plain": [
       "<Quantity 1.211888881964882e-10 erg>"
      ]
     },
     "execution_count": 13,
     "metadata": {},
     "output_type": "execute_result"
    }
   ],
   "source": [
    "ion1.ip.decompose().cgs"
   ]
  },
  {
   "cell_type": "code",
   "execution_count": null,
   "metadata": {},
   "outputs": [],
   "source": [
    "plt.plot(ion1.temperature,ion1.ioneq)\n",
    "plt.plot(ionb.ioneq['chianti']['temperature'],ionb.ioneq['chianti']['ionization_fraction'],'.')\n",
    "plt.plot(ion2.temperature,ion2.ioneq)\n",
    "plt.xscale('log')"
   ]
  },
  {
   "cell_type": "code",
   "execution_count": null,
   "metadata": {},
   "outputs": [],
   "source": [
    "ionb.ioneq"
   ]
  },
  {
   "cell_type": "code",
   "execution_count": null,
   "metadata": {},
   "outputs": [],
   "source": [
    "f = scipy.interpolate.interp1d(ionb.ioneq['shull_steenberg']['temperature'],\n",
    "                               ionb.ioneq['shull_steenberg']['ionization_fraction'],\n",
    "                               kind='cubic')\n",
    "plt.plot(ionb.ioneq['shull_steenberg']['temperature'],ionb.ioneq['shull_steenberg']['ionization_fraction'],'.')\n",
    "plt.plot(temperature,f(temperature.value))\n",
    "plt.xscale('log')"
   ]
  },
  {
   "cell_type": "code",
   "execution_count": null,
   "metadata": {},
   "outputs": [],
   "source": [
    "ic = IonCollection(el1,el2,ion1,ion2)"
   ]
  },
  {
   "cell_type": "code",
   "execution_count": null,
   "metadata": {
    "scrolled": true
   },
   "outputs": [],
   "source": [
    "for ion in ic:\n",
    "    print(ion.ion_name)"
   ]
  },
  {
   "cell_type": "code",
   "execution_count": null,
   "metadata": {},
   "outputs": [],
   "source": [
    "'li_3' in ic"
   ]
  },
  {
   "cell_type": "code",
   "execution_count": null,
   "metadata": {},
   "outputs": [],
   "source": [
    "ic2 = IonCollection('fe_2',temperature=temperature)"
   ]
  },
  {
   "cell_type": "code",
   "execution_count": null,
   "metadata": {},
   "outputs": [],
   "source": [
    "ic2[0].ion_name"
   ]
  },
  {
   "cell_type": "markdown",
   "metadata": {},
   "source": [
    "Testing composable approach"
   ]
  },
  {
   "cell_type": "code",
   "execution_count": null,
   "metadata": {},
   "outputs": [],
   "source": [
    "class TestIon(fiasco.Ion):\n",
    "    def __add__(self,x):\n",
    "        return IonCollection([self.ion_name,x],temperature=self.temperature)\n",
    "    \n",
    "    def __radd__(self,x):\n",
    "        return IonCollection([x,self.ion_name],temperature=self.temperature)\n",
    "\n",
    "class TestElement(fiasco.Element):\n",
    "    def __add__(self,x):\n",
    "        return IonCollection([self.element_name,x],temperature=self.temperature)\n",
    "    def __radd__(self,x):\n",
    "        return IonCollection([x,self.element_name],temperature=self.temperature)"
   ]
  },
  {
   "cell_type": "code",
   "execution_count": null,
   "metadata": {},
   "outputs": [],
   "source": [
    "tion1 = TestIon('li_2',temperature)\n",
    "tion2 = TestIon('he_2',temperature)\n",
    "tion3 = TestIon('fe_18',temperature)"
   ]
  },
  {
   "cell_type": "code",
   "execution_count": null,
   "metadata": {},
   "outputs": [],
   "source": [
    "ic3 = tion1 + tion2 + tion3 + ic"
   ]
  },
  {
   "cell_type": "code",
   "execution_count": null,
   "metadata": {
    "scrolled": true
   },
   "outputs": [],
   "source": [
    "for ion in ic3:\n",
    "    print(ion.ion_name)"
   ]
  },
  {
   "cell_type": "code",
   "execution_count": null,
   "metadata": {},
   "outputs": [],
   "source": [
    "foo1 = [1,2,3]\n",
    "foo2 = 4\n",
    "foo(*([foo2] + foo1))"
   ]
  },
  {
   "cell_type": "code",
   "execution_count": null,
   "metadata": {},
   "outputs": [],
   "source": []
  }
 ],
 "metadata": {
  "kernelspec": {
   "display_name": "Python [conda env:fiasco]",
   "language": "python",
   "name": "conda-env-fiasco-py"
  },
  "language_info": {
   "codemirror_mode": {
    "name": "ipython",
    "version": 3
   },
   "file_extension": ".py",
   "mimetype": "text/x-python",
   "name": "python",
   "nbconvert_exporter": "python",
   "pygments_lexer": "ipython3",
   "version": "3.6.2"
  }
 },
 "nbformat": 4,
 "nbformat_minor": 2
}
