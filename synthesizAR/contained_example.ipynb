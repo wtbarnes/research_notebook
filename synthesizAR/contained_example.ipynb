{
 "cells": [
  {
   "cell_type": "markdown",
   "metadata": {},
   "source": [
    "# Example: Computing Synthetic AIA Emission"
   ]
  },
  {
   "cell_type": "code",
   "execution_count": null,
   "metadata": {},
   "outputs": [],
   "source": [
    "import os\n",
    "import subprocess\n",
    "\n",
    "import numpy as np\n",
    "import astropy.units as u\n",
    "import astropy.time\n",
    "from astropy.coordinates import SkyCoord\n",
    "import matplotlib.pyplot as plt\n",
    "import matplotlib.colors\n",
    "from sunpy.map import Map,GenericMap\n",
    "from sunpy.util.metadata import MetaDict\n",
    "import sunpy.sun.constants as const\n",
    "import sunpy.coordinates.ephemeris\n",
    "\n",
    "import synthesizAR\n",
    "import synthesizAR.maps\n",
    "from synthesizAR.interfaces import UniformHeating, EbtelInterface\n",
    "from synthesizAR.instruments import InstrumentSDOAIA\n",
    "from synthesizAR.visualize import plot_aia_channels, make_aia_animation\n",
    "from synthesizAR.extrapolate import PotentialField, peek_projections\n",
    "\n",
    "%matplotlib inline"
   ]
  },
  {
   "cell_type": "markdown",
   "metadata": {},
   "source": [
    "## Simulate Magnetogram\n",
    "First, construct a fake magnetogram with a simple dipole configuration. If you're using a real observed magnetogram, these steps aren't needed."
   ]
  },
  {
   "cell_type": "code",
   "execution_count": null,
   "metadata": {},
   "outputs": [],
   "source": [
    "def make_synthetic_map(xrange, yrange, shape, spots):\n",
    "    # Setup array\n",
    "    delta_x = xrange[1] - xrange[0]\n",
    "    delta_y = yrange[1] - yrange[0]\n",
    "    dx = delta_x/arr_grid_shape[0]\n",
    "    dy = delta_y/arr_grid_shape[1]\n",
    "    data = np.zeros(shape)\n",
    "    xphysical, yphysical = np.meshgrid(np.arange(shape[0])*dx, np.arange(shape[1])*dy)\n",
    "    # Add sunspots\n",
    "    for spot in spots:\n",
    "        if spot[0].unit is u.percent:\n",
    "            pos = u.Quantity([spot[0][0].value/100.*delta_x + xrange[0],\n",
    "                              spot[0][1].value/100.*delta_y + yrange[0]])\n",
    "        else:\n",
    "            pos = spot[0]\n",
    "        if spot[1].unit is u.percent:\n",
    "            sigma = spot[1].value/100.*delta_x\n",
    "        else:\n",
    "            sigma = spot[1]\n",
    "        a_max   = spot[2].value\n",
    "        xc_2 = (xphysical - pos[0] + xrange[0]).value**2.0\n",
    "        yc_2 = (yphysical - pos[1] + yrange[0]).value**2.0\n",
    "        data += a_max * np.exp( - ( (xc_2 + yc_2) / (2 * sigma.value**2)) )\n",
    "        \n",
    "    # Build metadata\n",
    "    time_now = astropy.time.Time.now()\n",
    "    observer = sunpy.coordinates.ephemeris.get_earth(time=time_now)\n",
    "    meta = MetaDict({\n",
    "        'telescop': 'fake_telescope',\n",
    "        'instrume': 'fake_mag_imager',\n",
    "        'detector': 'fake_detector',\n",
    "        'bunit': 'Gauss',\n",
    "        'ctype1': 'HPLN-TAN',\n",
    "        'ctype2': 'HPLT-TAN',\n",
    "        'hgln_obs': observer.lon.to(u.deg).value,\n",
    "        'hglt_obs': observer.lat.to(u.deg).value,\n",
    "        'cunit1': 'arcsec',\n",
    "        'cunit2': 'arcsec',\n",
    "        'crpix1': (shape[0] + 1)/2.,\n",
    "        'crpix2': (shape[1] + 1)/2.,\n",
    "        'cdelt1': delta_x.to(u.arcsec).value/shape[0],\n",
    "        'cdelt2': delta_y.to(u.arcsec).value/shape[1],\n",
    "        'crval1': ((xrange[0] + xrange[1])/2.).value,\n",
    "        'crval2': ((yrange[0] + yrange[1])/2.).value,\n",
    "        'dsun_obs': observer.radius.to(u.m).value,\n",
    "        'dsun_ref': observer.radius.to(u.m).value,\n",
    "        'rsun_ref': const.radius.to(u.m).value,\n",
    "        'rsun_obs': ((const.radius/observer.radius).decompose() * u.radian).to(u.arcsec).value,\n",
    "        't_obs': time_now.iso,\n",
    "        'date-obs': time_now.iso,\n",
    "    })\n",
    "        \n",
    "    plot_settings = {'cmap': 'hmimag',\n",
    "                     'norm': matplotlib.colors.Normalize(vmin=-1.5e3, vmax=1.5e3)}\n",
    "        \n",
    "    return GenericMap(data, meta, plot_settings=plot_settings)"
   ]
  },
  {
   "cell_type": "code",
   "execution_count": null,
   "metadata": {},
   "outputs": [],
   "source": [
    "arr_grid_shape = [ 300, 300]\n",
    "width_x,width_y = 300 * u.arcsec, 300 * u.arcsec\n",
    "left_corner_x, left_corner_y = -150 * u.arcsec, -150 * u.arcsec\n",
    "xrange = u.Quantity((left_corner_x, left_corner_x + width_x))\n",
    "yrange = u.Quantity((left_corner_y, left_corner_y + width_y))\n",
    "spots = [\n",
    "    ( u.Quantity([60,50],u.percent), 2*u.percent,  1e3*u.Gauss),\n",
    "    ( u.Quantity([40,50],u.percent), 2*u.percent,  -1e3*u.Gauss),\n",
    "    #( u.Quantity([35,35],u.percent), 2*u.percent, -1e3*u.Gauss),\n",
    "    #( u.Quantity([65,65],u.percent), 2*u.percent, -1e3*u.Gauss),\n",
    "]\n",
    "magnetogram = make_synthetic_map(xrange,yrange,arr_grid_shape,spots)"
   ]
  },
  {
   "cell_type": "code",
   "execution_count": null,
   "metadata": {},
   "outputs": [],
   "source": [
    "fig = plt.figure(figsize=(8,8))\n",
    "ax = fig.gca(projection=magnetogram)\n",
    "magnetogram.plot(title=False,axes=ax)\n",
    "ax.grid(alpha=0)\n",
    "magnetogram.draw_grid(color='k',grid_spacing=10*u.deg,axes=ax)\n",
    "ax.plot_coord(\n",
    "    SkyCoord(-1000 * u.arcsec, -1000 * u.arcsec, frame=magnetogram.coordinate_frame),\n",
    "    color='w',marker='o',alpha=0,\n",
    ")\n",
    "ax.plot_coord(\n",
    "    SkyCoord(1000 * u.arcsec, 1000 * u.arcsec, frame=magnetogram.coordinate_frame),\n",
    "    color='w',marker='o',alpha=0,\n",
    ")"
   ]
  },
  {
   "cell_type": "code",
   "execution_count": null,
   "metadata": {},
   "outputs": [],
   "source": [
    "magnetogram_resampled = magnetogram.resample((100,100) * u.pixel,)"
   ]
  },
  {
   "cell_type": "markdown",
   "metadata": {},
   "source": [
    "## Extrapolate Field"
   ]
  },
  {
   "cell_type": "code",
   "execution_count": null,
   "metadata": {},
   "outputs": [],
   "source": [
    "potential_extrapolator = PotentialField(magnetogram_resampled, 0.3 * sunpy.sun.constants.radius, 100*u.pixel)"
   ]
  },
  {
   "cell_type": "code",
   "execution_count": null,
   "metadata": {},
   "outputs": [],
   "source": [
    "B_potential = potential_extrapolator.extrapolate()"
   ]
  },
  {
   "cell_type": "code",
   "execution_count": null,
   "metadata": {},
   "outputs": [],
   "source": [
    "peek_projections(B_potential)"
   ]
  },
  {
   "cell_type": "code",
   "execution_count": null,
   "metadata": {},
   "outputs": [],
   "source": [
    "fieldlines = potential_extrapolator.trace_fieldlines(B_potential, 200,\n",
    "                                                     close_threshold=0.05,\n",
    "                                                     mask_threshold=1e-3,\n",
    "                                                     loop_length_range=[1e9,5e10]*u.cm)"
   ]
  },
  {
   "cell_type": "code",
   "execution_count": null,
   "metadata": {},
   "outputs": [],
   "source": [
    "potential_extrapolator.peek(fieldlines,line_frequency=1)"
   ]
  },
  {
   "cell_type": "markdown",
   "metadata": {},
   "source": [
    "## Build Active Region\n",
    "Next, extrapolate a 3D magnetic field from the magnetogram and trace fieldlines through this volume."
   ]
  },
  {
   "cell_type": "code",
   "execution_count": null,
   "metadata": {},
   "outputs": [],
   "source": [
    "active_region = synthesizAR.Field(magnetogram_resampled, fieldlines)"
   ]
  },
  {
   "cell_type": "code",
   "execution_count": null,
   "metadata": {},
   "outputs": [],
   "source": [
    "plt.hist([loop.full_length.to(u.Mm).value for loop in active_region.loops],bins='scott',histtype='step',lw=2);\n",
    "plt.xlabel(r'$L$ [Mm]')"
   ]
  },
  {
   "cell_type": "markdown",
   "metadata": {},
   "source": [
    "## Hydrodynamics\n",
    "Now, we need to model the dynamics of each of our loops, defined geometrically by the strands we traced above, using some hydrodynamic model. In this case, we'll use the EBTEL model due to its efficiency."
   ]
  },
  {
   "cell_type": "code",
   "execution_count": null,
   "metadata": {},
   "outputs": [],
   "source": [
    "class SingleEventModel(UniformHeating):\n",
    "    @property\n",
    "    def number_events(self):\n",
    "        return 1\n",
    "heating_options = {\n",
    "                   'duration':200,\n",
    "                   'average_waiting_time':1000,\n",
    "                   'duration_rise':100,\n",
    "                   'duration_decay':100,\n",
    "                   'stress_level':0.3\n",
    "                  }\n",
    "heating_model = SingleEventModel(heating_options)"
   ]
  },
  {
   "cell_type": "code",
   "execution_count": null,
   "metadata": {},
   "outputs": [],
   "source": [
    "base_config = synthesizAR.util.InputHandler(\n",
    "    '/Users/willbarnes/Documents/work/codes/ebtelPlusPlus/config/ebtel.example.cfg.xml'\n",
    ").lookup_vars()\n",
    "base_config['total_time'] = 5e3\n",
    "base_config['use_adaptive_solver'] = True\n",
    "base_config['use_flux_limiting'] = True\n",
    "base_config['force_single_fluid'] = False\n",
    "base_config['heating']['partition'] = 1.\n",
    "base_config['heating']['background'] = 1e-6"
   ]
  },
  {
   "cell_type": "code",
   "execution_count": null,
   "metadata": {},
   "outputs": [],
   "source": [
    "ebtel_interface = EbtelInterface(base_config,\n",
    "                                 heating_model,\n",
    "                                 '/Users/willbarnes/Desktop/synthesizAR_example/hydro_config',\n",
    "                                 '/Users/willbarnes/Desktop/synthesizAR_example/hydro_results')"
   ]
  },
  {
   "cell_type": "code",
   "execution_count": null,
   "metadata": {},
   "outputs": [],
   "source": [
    "active_region.configure_loop_simulations(ebtel_interface)"
   ]
  },
  {
   "cell_type": "code",
   "execution_count": null,
   "metadata": {},
   "outputs": [],
   "source": [
    "def ebtel_runner(loop):\n",
    "    subprocess.call([os.path.join('/Users/willbarnes/Documents/work/codes/','ebtelPlusPlus/bin/ebtel++.run'),\n",
    "                     '-c',loop.hydro_configuration['config_filename']])"
   ]
  },
  {
   "cell_type": "code",
   "execution_count": null,
   "metadata": {},
   "outputs": [],
   "source": [
    "for loop in active_region.loops:\n",
    "    ebtel_runner(loop)"
   ]
  },
  {
   "cell_type": "code",
   "execution_count": null,
   "metadata": {},
   "outputs": [],
   "source": [
    "active_region.load_loop_simulations(ebtel_interface,savefile='/Users/willbarnes/Desktop/synthesizAR_example/loop_parameters.h5')"
   ]
  },
  {
   "cell_type": "code",
   "execution_count": null,
   "metadata": {},
   "outputs": [],
   "source": [
    "fig,axes = plt.subplots(2,1,figsize=(20,10),sharex=True)\n",
    "plt.subplots_adjust(hspace=0.)\n",
    "for loop in active_region.loops:\n",
    "    axes[0].plot(loop.time,np.max(loop.electron_temperature.to(u.MK),axis=1),color='C0',alpha=0.1)\n",
    "    axes[0].plot(loop.time,loop.ion_temperature[:,0].to(u.MK),color='C1',ls='--',alpha=0.1)\n",
    "    axes[1].plot(loop.time,np.mean(loop.density,axis=1)/1e9,color='C0',alpha=0.25)\n",
    "#axes[0].set_xlim([0,base_config['total_time']])\n",
    "axes[0].set_ylim([0,20])\n",
    "axes[1].set_ylim([0,20])\n",
    "axes[0].set_ylabel(r'$T$ [MK]')\n",
    "axes[1].set_ylabel(r'$n$ [10$^9$ cm$^{-3}$]')\n",
    "axes[1].set_xlabel(r'$t$ [s]')"
   ]
  },
  {
   "cell_type": "markdown",
   "metadata": {},
   "source": [
    "We can easily save the active region to be reloaded at a later time."
   ]
  },
  {
   "cell_type": "code",
   "execution_count": null,
   "metadata": {},
   "outputs": [],
   "source": [
    "active_region.save('/Users/willbarnes/Desktop/synthesizAR_example/field_checkpoint')"
   ]
  },
  {
   "cell_type": "markdown",
   "metadata": {},
   "source": [
    "And then restore the field like so."
   ]
  },
  {
   "cell_type": "code",
   "execution_count": null,
   "metadata": {},
   "outputs": [],
   "source": [
    "active_region = synthesizAR.Field.restore('/Users/willbarnes/Desktop/synthesizAR_example/field_checkpoint/')"
   ]
  },
  {
   "cell_type": "markdown",
   "metadata": {},
   "source": [
    "## Forward Modeling\n",
    "Finally, we can compute the emission as it would be observed by the AIA instrument on the SDO spacecraft. "
   ]
  },
  {
   "cell_type": "code",
   "execution_count": null,
   "metadata": {},
   "outputs": [],
   "source": [
    "aia = InstrumentSDOAIA([0,5000]*u.s,)"
   ]
  },
  {
   "cell_type": "code",
   "execution_count": null,
   "metadata": {},
   "outputs": [],
   "source": [
    "observer = synthesizAR.Observer(active_region,[aia],)"
   ]
  },
  {
   "cell_type": "code",
   "execution_count": null,
   "metadata": {},
   "outputs": [],
   "source": [
    "observer.build_detector_files('/Users/willbarnes/Desktop/synthesizAR_example/', 0.5 * u.Mm)"
   ]
  },
  {
   "cell_type": "markdown",
   "metadata": {},
   "source": [
    "This step interpolates all of the quantities for each loop to the correct spatial and temporal resolution, calculates the intensity observed in each channel of the detector, and stores them all in a single file."
   ]
  },
  {
   "cell_type": "code",
   "execution_count": null,
   "metadata": {},
   "outputs": [],
   "source": [
    "observer.flatten_detector_counts()"
   ]
  },
  {
   "cell_type": "markdown",
   "metadata": {},
   "source": [
    "This final step uses the flattened coordinate and intensity information calculated from the previous step and builds a FITS file at each timestep (set by the instrument cadence) and for each channel of the detector. In this case, because AIA has a cadence of $\\sim10$ s and a total of 6 EUV channels, we get $6\\times5000/10=3000$ individual observations."
   ]
  },
  {
   "cell_type": "markdown",
   "metadata": {},
   "source": [
    "Note that if we would rather only produce files for a limited time range, we can reset the instrument observing time before this last step."
   ]
  },
  {
   "cell_type": "code",
   "execution_count": null,
   "metadata": {},
   "outputs": [],
   "source": [
    "# optional\n",
    "observer.instruments[0].observing_time = np.arange(500, 1500, aia.cadence.value) * u.s"
   ]
  },
  {
   "cell_type": "code",
   "execution_count": null,
   "metadata": {},
   "outputs": [],
   "source": [
    "observer.bin_detector_counts('/Users/willbarnes/Desktop/synthesizAR_example/')"
   ]
  },
  {
   "cell_type": "markdown",
   "metadata": {},
   "source": [
    "## Visualize\n",
    "We can use the plotting functionality provided by SunPy to plot our results. Note that our simulation output format is identical to that of actual observations, allowing us to process and analyze our results using the same techniques. For more info on handling and plotting maps in SunPy, see [the SunPy docs](http://sunpy.readthedocs.io/en/latest/guide/plotting.html#). \n",
    "\n",
    "As an example, below is our simulated active region after 1500 s of evolution as imaged by the 171 Å channel of AIA."
   ]
  },
  {
   "cell_type": "code",
   "execution_count": null,
   "metadata": {},
   "outputs": [],
   "source": [
    "fig = plt.figure(figsize=(15,12))\n",
    "m = Map(f'/Users/willbarnes/Desktop/synthesizAR_example/SDO_AIA/171/map_t000100.fits')\n",
    "ax = fig.gca(projection=m)\n",
    "im = m.plot(axes=ax,\n",
    "            norm=matplotlib.colors.SymLogNorm(1e-6,vmin=1e-1,vmax=5e2),\n",
    "            title=False)\n",
    "fig.colorbar(im)"
   ]
  },
  {
   "cell_type": "markdown",
   "metadata": {},
   "source": [
    "We can also use one of our built in plot helpers to plot all 6 channels in one plot for a given timestep."
   ]
  },
  {
   "cell_type": "code",
   "execution_count": null,
   "metadata": {
    "scrolled": false
   },
   "outputs": [],
   "source": [
    "plot_aia_channels(aia,500*u.s,'/Users/willbarnes/Desktop/synthesizAR_example/')"
   ]
  },
  {
   "cell_type": "markdown",
   "metadata": {},
   "source": [
    "Our make a movie over a given timerange (this can take a little bit, depending on how long you want the movie to be)."
   ]
  },
  {
   "cell_type": "code",
   "execution_count": null,
   "metadata": {},
   "outputs": [],
   "source": [
    "ani = make_aia_animation(aia,500*u.s,2490*u.s,'/Users/willbarnes/Desktop/synthesizAR_example/')"
   ]
  },
  {
   "cell_type": "code",
   "execution_count": null,
   "metadata": {},
   "outputs": [],
   "source": [
    "ani.save('/Users/willbarnes/Desktop/sample_mov.mp4')"
   ]
  },
  {
   "cell_type": "code",
   "execution_count": null,
   "metadata": {},
   "outputs": [],
   "source": []
  }
 ],
 "metadata": {
  "kernelspec": {
   "display_name": "Python [conda env:synthesizar]",
   "language": "python",
   "name": "conda-env-synthesizar-py"
  },
  "language_info": {
   "codemirror_mode": {
    "name": "ipython",
    "version": 3
   },
   "file_extension": ".py",
   "mimetype": "text/x-python",
   "name": "python",
   "nbconvert_exporter": "python",
   "pygments_lexer": "ipython3",
   "version": "3.6.4"
  }
 },
 "nbformat": 4,
 "nbformat_minor": 2
}
