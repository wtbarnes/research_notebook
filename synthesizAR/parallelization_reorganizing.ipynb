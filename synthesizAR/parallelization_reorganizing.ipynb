{
 "cells": [
  {
   "cell_type": "markdown",
   "metadata": {},
   "source": [
    "# Reorganization\n",
    "Run simple dipole test case (with few loops) to make sure our reorganization is working properly."
   ]
  },
  {
   "cell_type": "code",
   "execution_count": null,
   "metadata": {},
   "outputs": [],
   "source": [
    "import os\n",
    "import subprocess\n",
    "import time\n",
    "\n",
    "import dask\n",
    "import dask.distributed\n",
    "import numpy as np\n",
    "import scipy.interpolate\n",
    "import astropy.units as u\n",
    "import matplotlib.pyplot as plt\n",
    "import matplotlib.colors\n",
    "import seaborn\n",
    "from sunpy.map import Map,GenericMap\n",
    "from sunpy.instr.aia import aiaprep\n",
    "import fiasco\n",
    "import synthesizAR\n",
    "import synthesizAR.maps\n",
    "from synthesizAR.model_ext import UniformHeating, EbtelInterface\n",
    "from synthesizAR.instruments import InstrumentSDOAIA\n",
    "from synthesizAR.atomic import Ion,Element,EmissionModel\n",
    "from solarbextrapolation.example_data_generator import dummyDataToMap\n",
    "\n",
    "%matplotlib inline"
   ]
  },
  {
   "cell_type": "code",
   "execution_count": null,
   "metadata": {},
   "outputs": [],
   "source": [
    "client = dask.distributed.Client()\n",
    "client"
   ]
  },
  {
   "cell_type": "markdown",
   "metadata": {},
   "source": [
    "## Synthetic HMI Map\n",
    "First, make a basic dipole map."
   ]
  },
  {
   "cell_type": "code",
   "execution_count": null,
   "metadata": {},
   "outputs": [],
   "source": [
    "def make_synthetic_map(xrange,yrange,shape,spots):\n",
    "    delta_x = xrange[1] - xrange[0]\n",
    "    delta_y = yrange[1] - yrange[0]\n",
    "    dx = delta_x/arr_grid_shape[0]\n",
    "    dy = delta_y/arr_grid_shape[1]\n",
    "    synthetic_hmi_data = np.zeros(arr_grid_shape)\n",
    "    xphysical,yphysical = np.meshgrid(np.arange(arr_grid_shape[0])*dx,np.arange(arr_grid_shape[1])*dy)\n",
    "    for spot in spots:\n",
    "        if spot[0].unit is u.percent:\n",
    "            pos = u.Quantity([spot[0][0].value/100.*delta_x + xrange[0],\n",
    "                              spot[0][1].value/100.*delta_y + yrange[0]])\n",
    "        else:\n",
    "            pos = spot[0]\n",
    "        if spot[1].unit is u.percent:\n",
    "            sigma = spot[1].value/100.*delta_x\n",
    "        else:\n",
    "            sigma = spot[1]\n",
    "        An_max   = spot[2].value\n",
    "        An_x     = pos[0]\n",
    "        An_y     = pos[1]\n",
    "        An_Dx    = xphysical - An_x + xrange[0]\n",
    "        An_Dy    = yphysical - An_y + yrange[0]\n",
    "        An_DxSqu = An_Dx.value**2.0\n",
    "        An_DySqu = An_Dy.value**2.0\n",
    "        An_Sigma = sigma.value\n",
    "\n",
    "        # So this contibution is calculated and added.\n",
    "        synthetic_hmi_data += An_max * np.exp( - ( (An_DxSqu + An_DySqu) / (2 * An_Sigma**2.0)) )\n",
    "        \n",
    "    synthetic_hmi_map = dummyDataToMap(synthetic_hmi_data,xrange,yrange)\n",
    "    test = Map('/Users/willbarnes/sunpy/data/hmi_m_45s_2017_08_20_18_16_30_tai_magnetogram.fits')\n",
    "    for key in ['ctype1','ctype2','rsun_ref','rsun_obs','dsun_ref','dsun_obs',\n",
    "                'wcsname','crlt_obs','t_obs','date-obs']:\n",
    "        synthetic_hmi_map.meta[key] = test.meta[key]\n",
    "        \n",
    "    return synthetic_hmi_map"
   ]
  },
  {
   "cell_type": "code",
   "execution_count": null,
   "metadata": {},
   "outputs": [],
   "source": [
    "arr_grid_shape = [ 300, 300]\n",
    "xrange = u.Quantity([ -150.0, 150.0 ], u.arcsec)\n",
    "yrange = u.Quantity([ -150.0, 150.0 ], u.arcsec)\n",
    "spots = [\n",
    "    ( u.Quantity([65,50],u.percent), 5*u.percent, -5e3*u.Gauss),\n",
    "    ( u.Quantity([35,50],u.percent), 5*u.percent,  5e3*u.Gauss)\n",
    "]"
   ]
  },
  {
   "cell_type": "code",
   "execution_count": null,
   "metadata": {},
   "outputs": [],
   "source": [
    "hmi_map = make_synthetic_map(xrange,yrange,arr_grid_shape,spots)"
   ]
  },
  {
   "cell_type": "markdown",
   "metadata": {},
   "source": [
    "## Build Field\n",
    "Assemble the extrapolated field and trace streamlines."
   ]
  },
  {
   "cell_type": "code",
   "execution_count": null,
   "metadata": {},
   "outputs": [],
   "source": [
    "field = synthesizAR.Skeleton(hmi_fits_file=hmi_map,resample=u.Quantity([100,100],'pix'))"
   ]
  },
  {
   "cell_type": "code",
   "execution_count": null,
   "metadata": {},
   "outputs": [],
   "source": [
    "zrange = u.Quantity([0,300],'arcsec')\n",
    "zshape = 100"
   ]
  },
  {
   "cell_type": "code",
   "execution_count": null,
   "metadata": {},
   "outputs": [],
   "source": [
    "field.extrapolate_field(zshape,zrange)"
   ]
  },
  {
   "cell_type": "code",
   "execution_count": null,
   "metadata": {
    "scrolled": true
   },
   "outputs": [],
   "source": [
    "field.extract_streamlines(100,\n",
    "                          close_threshold=0.05,\n",
    "                          mask_threshold=0.2,\n",
    "                          safety=2,\n",
    "                          loop_length_range=[1e9,2e10]*u.cm,\n",
    "                          direction=-1)"
   ]
  },
  {
   "cell_type": "code",
   "execution_count": null,
   "metadata": {},
   "outputs": [],
   "source": [
    "field.peek()"
   ]
  },
  {
   "cell_type": "code",
   "execution_count": null,
   "metadata": {},
   "outputs": [],
   "source": [
    "field.make_loops()"
   ]
  },
  {
   "cell_type": "code",
   "execution_count": null,
   "metadata": {},
   "outputs": [],
   "source": [
    "plt.hist([loop.full_length.to(u.Mm).value for loop in field.loops],bins='scott',histtype='step',lw=2);\n",
    "plt.xscale('log')"
   ]
  },
  {
   "cell_type": "markdown",
   "metadata": {},
   "source": [
    "## Loop Models"
   ]
  },
  {
   "cell_type": "code",
   "execution_count": null,
   "metadata": {},
   "outputs": [],
   "source": [
    "class SingleEventModel(UniformHeating):\n",
    "    @property\n",
    "    def number_events(self):\n",
    "        return 1\n",
    "heating_options = {'duration':200,'average_waiting_time':1000,'duration_rise':100,\n",
    "                   'duration_decay':100,'stress_level':1e-6}\n",
    "heating_model = SingleEventModel(heating_options)"
   ]
  },
  {
   "cell_type": "code",
   "execution_count": null,
   "metadata": {},
   "outputs": [],
   "source": [
    "base_config = synthesizAR.util.InputHandler(\n",
    "    '/Users/willbarnes/Documents/work/codes/ebtelPlusPlus/config/ebtel.example.cfg.xml'\n",
    ").lookup_vars()\n",
    "base_config['total_time'] = 5e3\n",
    "base_config['use_adaptive_solver'] = True\n",
    "base_config['use_flux_limiting'] = True\n",
    "base_config['force_single_fluid'] = False\n",
    "base_config['heating']['partition'] = 1.\n",
    "base_config['heating']['background'] = 1e-6"
   ]
  },
  {
   "cell_type": "code",
   "execution_count": null,
   "metadata": {},
   "outputs": [],
   "source": [
    "ebtel_interface = EbtelInterface(base_config,\n",
    "                                 heating_model,\n",
    "                                 '/Users/willbarnes/Desktop/tmp_ar/hydro_config',\n",
    "                                 '/Users/willbarnes/Desktop/tmp_ar/hydro_results')"
   ]
  },
  {
   "cell_type": "code",
   "execution_count": null,
   "metadata": {},
   "outputs": [],
   "source": [
    "field.configure_loop_simulations(ebtel_interface)"
   ]
  },
  {
   "cell_type": "code",
   "execution_count": null,
   "metadata": {},
   "outputs": [],
   "source": [
    "def ebtel_runner(loop):\n",
    "    subprocess.call([os.path.join('/Users/willbarnes/Documents/work/codes/','ebtelPlusPlus/bin/ebtel++.run'),\n",
    "                     '-c',loop.hydro_configuration['config_filename']])"
   ]
  },
  {
   "cell_type": "code",
   "execution_count": null,
   "metadata": {},
   "outputs": [],
   "source": [
    "for loop in field.loops:\n",
    "    ebtel_runner(loop)"
   ]
  },
  {
   "cell_type": "code",
   "execution_count": null,
   "metadata": {},
   "outputs": [],
   "source": [
    "field.load_loop_simulations(ebtel_interface,savefile='/Users/willbarnes/Desktop/tmp_ar/loop_parameters.h5')"
   ]
  },
  {
   "cell_type": "code",
   "execution_count": null,
   "metadata": {},
   "outputs": [],
   "source": [
    "fig,axes = plt.subplots(2,1,figsize=(20,10),sharex=True)\n",
    "plt.subplots_adjust(hspace=0.)\n",
    "for loop in field.loops[::]:\n",
    "    axes[0].plot(loop.time,np.max(loop.electron_temperature.to(u.MK),axis=1),color='b',alpha=0.1)\n",
    "    axes[0].plot(loop.time,loop.ion_temperature[:,0].to(u.MK),color='r',ls='--',alpha=0.1)\n",
    "    axes[1].plot(loop.time,np.mean(loop.density,axis=1)/1e9,color='b',alpha=0.25)\n",
    "axes[0].set_xlim([0,base_config['total_time']])\n",
    "axes[0].set_ylim([0,20])\n",
    "axes[1].set_ylim([0,30])\n",
    "axes[0].set_ylabel(r'$T$ [MK]')\n",
    "axes[1].set_ylabel(r'$n$ [10$^9$ cm$^{-3}$]')\n",
    "axes[1].set_xlabel(r'$t$ [s]')"
   ]
  },
  {
   "cell_type": "code",
   "execution_count": null,
   "metadata": {},
   "outputs": [],
   "source": [
    "field.save(savedir='/Users/willbarnes/Desktop/tmp_ar/field_checkpoint')"
   ]
  },
  {
   "cell_type": "markdown",
   "metadata": {},
   "source": [
    "## Emission Model"
   ]
  },
  {
   "cell_type": "code",
   "execution_count": null,
   "metadata": {},
   "outputs": [],
   "source": [
    "temperature = 10.**(np.arange(4.5,8,0.05))*u.K\n",
    "density = np.logspace(7,11,10)/(u.cm**3)\n",
    "ions = Element('iron', temperature, ion_kwargs={'abundance_filename':'sun_coronal_1992_feldman'})\n",
    "em_model = EmissionModel(density,ions)"
   ]
  },
  {
   "cell_type": "code",
   "execution_count": null,
   "metadata": {},
   "outputs": [],
   "source": [
    "em_model.calculate_emissivity('/Users/willbarnes/Desktop/tmp_ar/emiss_table.h5')"
   ]
  },
  {
   "cell_type": "code",
   "execution_count": null,
   "metadata": {},
   "outputs": [],
   "source": [
    "em_model.emissivity_savefile = '/Users/willbarnes/Desktop/tmp_ar/emiss_table.h5'\n",
    "em_model.ionization_fraction_savefile = '/Users/willbarnes/Desktop/tmp_ar/ionization_fractions.h5'"
   ]
  },
  {
   "cell_type": "code",
   "execution_count": null,
   "metadata": {},
   "outputs": [],
   "source": [
    "em_model.calculate_ionization_fraction(field, '/Users/willbarnes/Desktop/tmp_ar/ionization_fractions.h5')"
   ]
  },
  {
   "cell_type": "code",
   "execution_count": null,
   "metadata": {},
   "outputs": [],
   "source": [
    "foo = em_model.get_ionization_fraction(field.loops[50], em_model[10])"
   ]
  },
  {
   "cell_type": "code",
   "execution_count": null,
   "metadata": {},
   "outputs": [],
   "source": [
    "plt.plot(field.loops[50].time, foo[:,0],'o')"
   ]
  },
  {
   "cell_type": "markdown",
   "metadata": {},
   "source": [
    "## AIA Observations"
   ]
  },
  {
   "cell_type": "code",
   "execution_count": null,
   "metadata": {},
   "outputs": [],
   "source": [
    "# Restore here if needed\n",
    "field = synthesizAR.Skeleton.restore('/Users/willbarnes/Desktop/tmp_ar/field_checkpoint/')"
   ]
  },
  {
   "cell_type": "markdown",
   "metadata": {},
   "source": [
    "### Simple Calculation\n",
    "Only use response functions"
   ]
  },
  {
   "cell_type": "code",
   "execution_count": null,
   "metadata": {},
   "outputs": [],
   "source": [
    "aia = InstrumentSDOAIA([0,5000]*u.s, use_temperature_response_functions=True)"
   ]
  },
  {
   "cell_type": "code",
   "execution_count": null,
   "metadata": {},
   "outputs": [],
   "source": [
    "observer = synthesizAR.Observer(field,[aia],parallel=False)"
   ]
  },
  {
   "cell_type": "code",
   "execution_count": null,
   "metadata": {},
   "outputs": [],
   "source": [
    "observer.build_detector_files('/Users/willbarnes/Desktop/tmp_ar/simple',ds=field._convert_angle_to_length(0.3*u.arcsec))"
   ]
  },
  {
   "cell_type": "code",
   "execution_count": null,
   "metadata": {},
   "outputs": [],
   "source": [
    "observer.flatten_detector_counts()"
   ]
  },
  {
   "cell_type": "code",
   "execution_count": null,
   "metadata": {},
   "outputs": [],
   "source": [
    "observer.bin_detector_counts('/Users/willbarnes/Desktop/tmp_ar/simple')"
   ]
  },
  {
   "cell_type": "markdown",
   "metadata": {},
   "source": [
    "### Full Calculation\n",
    "Use ions"
   ]
  },
  {
   "cell_type": "code",
   "execution_count": null,
   "metadata": {},
   "outputs": [],
   "source": [
    "aia = InstrumentSDOAIA([0,5000]*u.s, use_temperature_response_functions=False)"
   ]
  },
  {
   "cell_type": "code",
   "execution_count": null,
   "metadata": {},
   "outputs": [],
   "source": [
    "observer = synthesizAR.Observer(field,[aia],parallel=True)"
   ]
  },
  {
   "cell_type": "code",
   "execution_count": null,
   "metadata": {},
   "outputs": [],
   "source": [
    "observer.build_detector_files('/Users/willbarnes/Desktop/tmp_ar/',ds=field._convert_angle_to_length(0.3*u.arcsec))"
   ]
  },
  {
   "cell_type": "code",
   "execution_count": null,
   "metadata": {},
   "outputs": [],
   "source": [
    "tasks = observer.flatten_detector_counts(emission_model=em_model)"
   ]
  },
  {
   "cell_type": "code",
   "execution_count": null,
   "metadata": {},
   "outputs": [],
   "source": [
    "tasks['SDO_AIA'].compute()"
   ]
  },
  {
   "cell_type": "code",
   "execution_count": null,
   "metadata": {},
   "outputs": [],
   "source": [
    "tasks = observer.bin_detector_counts('/Users/willbarnes/Desktop/tmp_ar/full')"
   ]
  },
  {
   "cell_type": "code",
   "execution_count": null,
   "metadata": {},
   "outputs": [],
   "source": [
    "jobs = client.compute(jobs['SDO_AIA'])"
   ]
  },
  {
   "cell_type": "markdown",
   "metadata": {},
   "source": [
    "### Parallel"
   ]
  },
  {
   "cell_type": "code",
   "execution_count": null,
   "metadata": {},
   "outputs": [],
   "source": [
    "tasks['SDO_AIA'].compute()"
   ]
  },
  {
   "cell_type": "code",
   "execution_count": null,
   "metadata": {},
   "outputs": [],
   "source": [
    "tasks = observer.bin_detector_counts('/Users/willbarnes/Desktop/tmp_ar/')"
   ]
  },
  {
   "cell_type": "code",
   "execution_count": null,
   "metadata": {},
   "outputs": [],
   "source": [
    "jobs = client.compute(tasks['SDO_AIA'])"
   ]
  },
  {
   "cell_type": "markdown",
   "metadata": {},
   "source": [
    "## Viz Sandbox"
   ]
  },
  {
   "cell_type": "code",
   "execution_count": null,
   "metadata": {},
   "outputs": [],
   "source": [
    "map_193_simple = Map('/Users/willbarnes/Desktop/tmp_ar/simple/SDO_AIA/193/map_t000110.fits')\n",
    "map_193_full = Map('/Users/willbarnes/Desktop/tmp_ar/full/SDO_AIA/193/map_t000110.fits')\n",
    "map_94_simple = Map('/Users/willbarnes/Desktop/tmp_ar/simple/SDO_AIA/94/map_t000110.fits')\n",
    "map_94_full = Map('/Users/willbarnes/Desktop/tmp_ar/full/SDO_AIA/94/map_t000110.fits')\n",
    "map_131_simple = Map('/Users/willbarnes/Desktop/tmp_ar/simple/SDO_AIA/131/map_t000110.fits')\n",
    "map_131_full = Map('/Users/willbarnes/Desktop/tmp_ar/full/SDO_AIA/131/map_t000110.fits')\n",
    "map_171_simple = Map('/Users/willbarnes/Desktop/tmp_ar/simple/SDO_AIA/171/map_t000110.fits')\n",
    "map_171_full = Map('/Users/willbarnes/Desktop/tmp_ar/full/SDO_AIA/171/map_t000110.fits')\n",
    "map_211_simple = Map('/Users/willbarnes/Desktop/tmp_ar/simple/SDO_AIA/211/map_t000110.fits')\n",
    "map_211_full = Map('/Users/willbarnes/Desktop/tmp_ar/full/SDO_AIA/211/map_t000110.fits')\n",
    "map_335_simple = Map('/Users/willbarnes/Desktop/tmp_ar/simple/SDO_AIA/335/map_t000110.fits')\n",
    "map_335_full = Map('/Users/willbarnes/Desktop/tmp_ar/full/SDO_AIA/335/map_t000110.fits')"
   ]
  },
  {
   "cell_type": "code",
   "execution_count": null,
   "metadata": {},
   "outputs": [],
   "source": [
    "map_171_simple.peek(norm=matplotlib.colors.SymLogNorm(1e-6,vmin=1,vmax=1000))"
   ]
  },
  {
   "cell_type": "code",
   "execution_count": null,
   "metadata": {},
   "outputs": [],
   "source": [
    "map_171_full.peek(norm=matplotlib.colors.SymLogNorm(1e-6,vmin=1,vmax=1000))"
   ]
  },
  {
   "cell_type": "code",
   "execution_count": null,
   "metadata": {},
   "outputs": [],
   "source": [
    "fig = plt.figure(figsize=(10,10))\n",
    "foo = synthesizAR.maps.make_temperature_map(1110*u.s,field,aia)\n",
    "#foo = foo.submap()\n",
    "ax = fig.add_subplot(111,projection=foo)\n",
    "foo.plot(norm=matplotlib.colors.SymLogNorm(1,vmin=1e5,vmax=1e7))\n",
    "plt.colorbar()"
   ]
  },
  {
   "cell_type": "code",
   "execution_count": null,
   "metadata": {},
   "outputs": [],
   "source": [
    "calc_temp_response = {}\n",
    "for channel in aia.channels:\n",
    "    counts = np.zeros(em_model.temperature.shape+em_model.density.shape)\n",
    "    for ion in em_model:\n",
    "        wvl,emiss = em_model.get_emissivity(ion)\n",
    "        if wvl is None or emiss is None:\n",
    "            continue\n",
    "        response = scipy.interpolate.splev(wvl.value,channel['wavelength_response_spline'])\n",
    "        response = np.where(response < 0., 0., response)\n",
    "        tmp = np.dot(emiss.value,response)\n",
    "        tmp *= ion.abundance.value*ion.ioneq.value[:,np.newaxis]/em_model.density.value/4./np.pi\n",
    "        counts += tmp\n",
    "    calc_temp_response[channel['name']] = counts"
   ]
  },
  {
   "cell_type": "code",
   "execution_count": null,
   "metadata": {},
   "outputs": [],
   "source": [
    "const_p_indices = np.array([(i,np.argmin(np.fabs(density.value-d.value))) \n",
    "                            for i,d in enumerate(1e15/em_model.temperature)])"
   ]
  },
  {
   "cell_type": "code",
   "execution_count": null,
   "metadata": {},
   "outputs": [],
   "source": [
    "fig,axes = plt.subplots(3,2,figsize=(10,15),sharex=True,sharey=True)\n",
    "for i,(ax,channel) in enumerate(zip(axes.flatten(),aia.channels)):\n",
    "    real_response = scipy.interpolate.splev(em_model.temperature.value,channel['temperature_response_spline'])\n",
    "    ax.plot(em_model.temperature,real_response,\n",
    "             color=seaborn.color_palette('deep')[i],ls='-',label=channel['name'])\n",
    "    ax.plot(em_model.temperature,calc_temp_response[channel['name']][const_p_indices[:,0],const_p_indices[:,1]],\n",
    "             color=seaborn.color_palette('deep')[i],ls='--')\n",
    "    ax.axvline(x=1e6,ls='--',color='k')\n",
    "    ax.axvline(x=1e7,ls='--',color='k')\n",
    "    ax.legend()\n",
    "plt.xscale('log')\n",
    "plt.yscale('log')\n",
    "plt.ylim([1e-30,2e-24])\n",
    "plt.xlim([1e5,1e8])\n",
    "#plt.legend()\n",
    "plt.subplots_adjust(wspace=0.,hspace=0.)"
   ]
  },
  {
   "cell_type": "markdown",
   "metadata": {},
   "source": [
    "## Parallelize Sandbox"
   ]
  },
  {
   "cell_type": "code",
   "execution_count": null,
   "metadata": {},
   "outputs": [],
   "source": [
    "@dask.delayed\n",
    "def average_temperatures(loop_temperatures):\n",
    "    return np.array(loop_temperatures).mean()\n",
    "\n",
    "@dask.delayed\n",
    "def slow_read(loop):\n",
    "    time.sleep(5)\n",
    "    electron_temperature = loop.electron_temperature\n",
    "    return electron_temperature.value.mean()\n",
    "\n",
    "@dask.delayed\n",
    "def fast_read(loop):\n",
    "    time.sleep(0.5)\n",
    "    electron_temperature = loop.electron_temperature\n",
    "    return electron_temperature.value.mean()"
   ]
  },
  {
   "cell_type": "code",
   "execution_count": null,
   "metadata": {},
   "outputs": [],
   "source": [
    "slow_reads = [slow_read(loop) for loop in field.loops[:50]]\n",
    "fast_reads = [fast_read(loop) for loop in field.loops[50:]]\n",
    "compute_avg = average_temperatures(slow_reads + fast_reads)"
   ]
  },
  {
   "cell_type": "code",
   "execution_count": null,
   "metadata": {},
   "outputs": [],
   "source": [
    "compute_avg.compute()"
   ]
  },
  {
   "cell_type": "code",
   "execution_count": null,
   "metadata": {},
   "outputs": [],
   "source": []
  }
 ],
 "metadata": {
  "kernelspec": {
   "display_name": "Python [conda env:synthesizar]",
   "language": "python",
   "name": "conda-env-synthesizar-py"
  },
  "language_info": {
   "codemirror_mode": {
    "name": "ipython",
    "version": 3
   },
   "file_extension": ".py",
   "mimetype": "text/x-python",
   "name": "python",
   "nbconvert_exporter": "python",
   "pygments_lexer": "ipython3",
   "version": "3.6.3"
  }
 },
 "nbformat": 4,
 "nbformat_minor": 2
}
