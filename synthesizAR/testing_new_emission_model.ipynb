{
 "cells": [
  {
   "cell_type": "markdown",
   "metadata": {},
   "source": [
    "# Testing a New Emission Model\n",
    "Use the `fiasco` library to revamp emission model used for synthesizing active region emission."
   ]
  },
  {
   "cell_type": "code",
   "execution_count": 17,
   "metadata": {
    "scrolled": false
   },
   "outputs": [],
   "source": [
    "import logging\n",
    "import pytest\n",
    "import numpy as np\n",
    "from scipy.interpolate import interp1d,splev\n",
    "from scipy.ndimage import map_coordinates\n",
    "import h5py\n",
    "import matplotlib.pyplot as plt\n",
    "import matplotlib.colors\n",
    "import astropy.units as u\n",
    "from astropy.utils.console import ProgressBar\n",
    "import fiasco\n",
    "import cloudpickle\n",
    "import plasmapy\n",
    "\n",
    "import synthesizAR\n",
    "from synthesizAR.atomic import Ion,Element,EmissionModel\n",
    "from synthesizAR.instruments import InstrumentSDOAIA\n",
    "\n",
    "%matplotlib inline"
   ]
  },
  {
   "cell_type": "markdown",
   "metadata": {},
   "source": [
    "What does the emission model need to do?\n",
    "- Hold information about each ion\n",
    "- Store and retrieve emissivity data for each ion\n",
    "- Accept a grid of temperature and density points over which the emissivity is calculated\n",
    "- Accept a number of wavelengths for which the wavelength resolved emission is saved\n",
    "\n",
    "What does a minimal ion object/dictionary need to store?\n",
    "- element name\n",
    "- ion name\n",
    "- path to emissivity database\n",
    "- temperature grid\n",
    "- density grid\n",
    "- wavelength grid"
   ]
  },
  {
   "cell_type": "code",
   "execution_count": null,
   "metadata": {},
   "outputs": [],
   "source": [
    "class Element(fiasco.Element):\n",
    "    def __getitem__(self, value):\n",
    "        if type(value) is int:\n",
    "            value = self.ions[value]\n",
    "        return Ion(value, self.temperature, hdf5_path=self.hdf5_dbase_root)"
   ]
  },
  {
   "cell_type": "code",
   "execution_count": null,
   "metadata": {},
   "outputs": [],
   "source": [
    "class EmissionModel(fiasco.IonCollection):\n",
    "    \"\"\"\n",
    "    Model for how atomic data is used to calculate emission from \n",
    "    coronal plasma.\n",
    "    \"\"\"\n",
    "    \n",
    "    @u.quantity_input\n",
    "    def __init__(self, density: u.cm**(-3), *args,**kwargs):\n",
    "        super().__init__(*args, **kwargs)\n",
    "        self.temperature = self[0].temperature\n",
    "        self.density = density\n",
    "        self.resolved_wavelengths = kwargs.get('resolved_wavelengths',{})\n",
    "        \n",
    "    def interpolate_to_mesh_indices(self, loop):\n",
    "        \"\"\"\n",
    "        Return interpolated loop indices to the temperature and density meshes defined for\n",
    "        the atomic data. For use with `~scipy.ndimage.map_coordinates`.\n",
    "        \"\"\"\n",
    "        nots_itemperature = splrep(self.temperature.value, np.arange(self.temperature.shape[0]))\n",
    "        nots_idensity = splrep(self.density.value, np.arange(self.density.shape[0]))\n",
    "        itemperature = splev(np.ravel(loop.electron_temperature.value), nots_itemperature)\n",
    "        idensity = splev(np.ravel(loop.density.value), nots_idensity)\n",
    "\n",
    "        return itemperature, idensity\n",
    "        \n",
    "    def calculate_emissivity(self, savefile, **kwargs):\n",
    "        \"\"\"\n",
    "        Calculate and store emissivity for every ion in the model\n",
    "        \"\"\"\n",
    "        self.emissivity_savefile = savefile\n",
    "        with h5py.File(savefile,'w') as hf:\n",
    "            with ProgressBar(len(self._ion_list), ipython_widget=kwargs.get('notebook', True)) as progress:\n",
    "                for ion in self:\n",
    "                    wavelength,emissivity = ion.emissivity(self.density, include_energy=False)\n",
    "                    if wavelength is None or emissivity is None:\n",
    "                        continue\n",
    "                    emissivity = emissivity[:,:,np.argsort(wavelength)]\n",
    "                    wavelength = np.sort(wavelength)\n",
    "                    grp = hf.create_group(ion.ion_name)\n",
    "                    ds = grp.create_dataset('wavelength',data=wavelength.value)\n",
    "                    ds.attrs['units'] = wavelength.unit.to_string()\n",
    "                    ds = grp.create_dataset('emissivity', data=emissivity.data)\n",
    "                    ds.attrs['units'] = emissivity.unit.to_string()\n",
    "                    progress.update()\n",
    "    \n",
    "    def get_emissivity(self, ion):\n",
    "        with h5py.File(self.emissivity_savefile,'r') as hf:\n",
    "            if ion.ion_name not in hf:\n",
    "                return None,None\n",
    "            ds = hf['/'.join([ion.ion_name,'wavelength'])]\n",
    "            wavelength = u.Quantity(ds,ds.attrs['units'])\n",
    "            ds = hf['/'.join([ion.ion_name,'emissivity'])]\n",
    "            emissivity = u.Quantity(ds,ds.attrs['units'])\n",
    "            \n",
    "        return wavelength,emissivity"
   ]
  },
  {
   "cell_type": "code",
   "execution_count": null,
   "metadata": {},
   "outputs": [],
   "source": [
    "temperature = 10**(np.arange(5,8,0.01))*u.K\n",
    "density = np.logspace(7,11,20)/(u.cm**3)\n",
    "ion_list = Element('H', temperature) + Element('Ca',temperature)\n",
    "em_model = EmissionModel(density, ion_list)"
   ]
  },
  {
   "cell_type": "markdown",
   "metadata": {},
   "source": [
    "Test to make sure the emission model class can still be pickled."
   ]
  },
  {
   "cell_type": "code",
   "execution_count": null,
   "metadata": {},
   "outputs": [],
   "source": [
    "with open('/Users/willbarnes/Desktop/test.pickle','wb') as f:\n",
    "    cloudpickle.dump(em_model,f)"
   ]
  },
  {
   "cell_type": "markdown",
   "metadata": {},
   "source": [
    "Now, let's use it."
   ]
  },
  {
   "cell_type": "code",
   "execution_count": null,
   "metadata": {},
   "outputs": [],
   "source": [
    "%%bash\n",
    "rm /Users/willbarnes/Desktop/emiss_table.h5"
   ]
  },
  {
   "cell_type": "code",
   "execution_count": null,
   "metadata": {},
   "outputs": [],
   "source": [
    "em_model.calculate_emissivity('/Users/willbarnes/Desktop/emiss_table.h5')"
   ]
  },
  {
   "cell_type": "code",
   "execution_count": null,
   "metadata": {},
   "outputs": [],
   "source": [
    "for ion in Element('Fe',temperature):\n",
    "    if ion._elvlc:\n",
    "        print(ion.ion_name,ion._elvlc['level'].shape)"
   ]
  },
  {
   "cell_type": "code",
   "execution_count": null,
   "metadata": {},
   "outputs": [],
   "source": [
    "len(em_model)"
   ]
  },
  {
   "cell_type": "code",
   "execution_count": null,
   "metadata": {},
   "outputs": [],
   "source": [
    "foo,bar = em_model.get_emissivity(ion_list[0])"
   ]
  },
  {
   "cell_type": "code",
   "execution_count": null,
   "metadata": {},
   "outputs": [],
   "source": [
    "plt.pcolormesh(bar[:,:,0].value,norm=matplotlib.colors.LogNorm(vmin=1e-3,vmax=1e3))"
   ]
  },
  {
   "cell_type": "markdown",
   "metadata": {},
   "source": [
    "## Sandbox"
   ]
  },
  {
   "cell_type": "code",
   "execution_count": 2,
   "metadata": {},
   "outputs": [
    {
     "name": "stderr",
     "output_type": "stream",
     "text": [
      "No HMI fits file supplied. A new HMI map object will not be created.\n",
      "/Users/willbarnes/anaconda/envs/synthesizar/lib/python3.6/site-packages/synthesizAR-0.1.dev487-py3.6.egg/synthesizAR/field.py:187: SunpyDeprecationWarning: This property is only valid for non-rotated WCS\n",
      "  lcx, rcx = self.hmi_map.xrange + self.hmi_map.scale.axis1*u.Quantity([boundary_clipping[0], -boundary_clipping[0]], u.pixel)\n",
      "/Users/willbarnes/anaconda/envs/synthesizar/lib/python3.6/site-packages/synthesizAR-0.1.dev487-py3.6.egg/synthesizAR/field.py:188: SunpyDeprecationWarning: This property is only valid for non-rotated WCS\n",
      "  lcy, rcy = self.hmi_map.yrange + self.hmi_map.scale.axis2*u.Quantity([boundary_clipping[1], -boundary_clipping[1]], u.pixel)\n",
      "/Users/willbarnes/anaconda/envs/synthesizar/lib/python3.6/site-packages/synthesizAR-0.1.dev487-py3.6.egg/synthesizAR/field.py:195: SunpyDeprecationWarning: This property is only valid for non-rotated WCS\n",
      "  bbox = np.array([self._convert_angle_to_length(self.clipped_hmi_map.xrange).value,\n",
      "/Users/willbarnes/anaconda/envs/synthesizar/lib/python3.6/site-packages/synthesizAR-0.1.dev487-py3.6.egg/synthesizAR/field.py:196: SunpyDeprecationWarning: This property is only valid for non-rotated WCS\n",
      "  self._convert_angle_to_length(self.clipped_hmi_map.yrange).value,\n",
      "yt : [INFO     ] 2017-11-20 14:26:33,787 Parameters: current_time              = 0.0\n",
      "yt : [INFO     ] 2017-11-20 14:26:33,788 Parameters: domain_dimensions         = [96 96 96]\n",
      "yt : [INFO     ] 2017-11-20 14:26:33,790 Parameters: domain_left_edge          = [ -1.03690594e+10  -1.03690594e+10   4.38129271e+08]\n",
      "yt : [INFO     ] 2017-11-20 14:26:33,792 Parameters: domain_right_edge         = [  1.08802102e+10   1.08802102e+10   2.14683343e+10]\n",
      "yt : [INFO     ] 2017-11-20 14:26:33,793 Parameters: cosmological_simulation   = 0.0\n"
     ]
    }
   ],
   "source": [
    "field = synthesizAR.Skeleton.restore('/Users/willbarnes/Desktop/tmp_ar/field_checkpoint/')"
   ]
  },
  {
   "cell_type": "code",
   "execution_count": 5,
   "metadata": {},
   "outputs": [],
   "source": [
    "temperature = 10.**(np.arange(4.5,8,0.05))*u.K\n",
    "density = np.logspace(7,11,10)/(u.cm**3)\n",
    "ions = Element('iron', temperature, ion_kwargs={'abundance_filename':'sun_coronal_1992_feldman'})\n",
    "em_model = EmissionModel(density,ions)"
   ]
  },
  {
   "cell_type": "code",
   "execution_count": 6,
   "metadata": {},
   "outputs": [],
   "source": [
    "em_model.emissivity_savefile = '/Users/willbarnes/Desktop/tmp_ar/full/emiss_table.h5'"
   ]
  },
  {
   "cell_type": "code",
   "execution_count": 4,
   "metadata": {},
   "outputs": [],
   "source": [
    "aia = InstrumentSDOAIA([0,1]*u.s)"
   ]
  },
  {
   "cell_type": "code",
   "execution_count": 7,
   "metadata": {},
   "outputs": [],
   "source": [
    "wvl,emiss = em_model.get_emissivity(em_model[10])"
   ]
  },
  {
   "cell_type": "code",
   "execution_count": 13,
   "metadata": {},
   "outputs": [],
   "source": [
    "interp_response = splev(wvl.value, aia.channels[0]['wavelength_response_spline'])"
   ]
  },
  {
   "cell_type": "code",
   "execution_count": 14,
   "metadata": {},
   "outputs": [],
   "source": [
    "emiss_response = np.dot(emiss.value,interp_response)"
   ]
  },
  {
   "cell_type": "code",
   "execution_count": 16,
   "metadata": {},
   "outputs": [],
   "source": [
    "itemp,idens = em_model.interpolate_to_mesh_indices(field.loops[0])"
   ]
  },
  {
   "cell_type": "code",
   "execution_count": 19,
   "metadata": {},
   "outputs": [
    {
     "data": {
      "text/plain": [
       "(2, 10298)"
      ]
     },
     "execution_count": 19,
     "metadata": {},
     "output_type": "execute_result"
    }
   ],
   "source": [
    "np.vstack([itemp,idens]).shape"
   ]
  },
  {
   "cell_type": "code",
   "execution_count": 25,
   "metadata": {},
   "outputs": [],
   "source": [
    "foo = np.reshape(map_coordinates(emiss_response, np.vstack([itemp,idens])),field.loops[0].electron_temperature.shape)"
   ]
  },
  {
   "cell_type": "code",
   "execution_count": 26,
   "metadata": {},
   "outputs": [
    {
     "data": {
      "text/plain": [
       "(271, 38)"
      ]
     },
     "execution_count": 26,
     "metadata": {},
     "output_type": "execute_result"
    }
   ],
   "source": [
    "foo.shape"
   ]
  },
  {
   "cell_type": "code",
   "execution_count": 28,
   "metadata": {},
   "outputs": [
    {
     "data": {
      "text/plain": [
       "[<matplotlib.lines.Line2D at 0x1c23f0e7b8>]"
      ]
     },
     "execution_count": 28,
     "metadata": {},
     "output_type": "execute_result"
    },
    {
     "data": {
      "image/png": "[encoded data removed]",
      "text/plain": [
       "<matplotlib.figure.Figure at 0x1c2406afd0>"
      ]
     },
     "metadata": {},
     "output_type": "display_data"
    }
   ],
   "source": [
    "plt.plot(field.loops[0].time,foo[:,0])"
   ]
  },
  {
   "cell_type": "code",
   "execution_count": null,
   "metadata": {},
   "outputs": [],
   "source": []
  }
 ],
 "metadata": {
  "kernelspec": {
   "display_name": "Python [conda env:synthesizar]",
   "language": "python",
   "name": "conda-env-synthesizar-py"
  },
  "language_info": {
   "codemirror_mode": {
    "name": "ipython",
    "version": 3
   },
   "file_extension": ".py",
   "mimetype": "text/x-python",
   "name": "python",
   "nbconvert_exporter": "python",
   "pygments_lexer": "ipython3",
   "version": "3.6.3"
  },
  "nbpresent": {
   "slides": {},
   "themes": {
    "default": "0bcfa1f4-bc60-4dc6-be3e-3f859d8c844b",
    "theme": {
     "0bcfa1f4-bc60-4dc6-be3e-3f859d8c844b": {
      "backgrounds": {
       "dc7afa04-bf90-40b1-82a5-726e3cff5267": {
        "background-color": "31af15d2-7e15-44c5-ab5e-e04b16a89eff",
        "id": "dc7afa04-bf90-40b1-82a5-726e3cff5267"
       }
      },
      "id": "0bcfa1f4-bc60-4dc6-be3e-3f859d8c844b",
      "palette": {
       "19cc588f-0593-49c9-9f4b-e4d7cc113b1c": {
        "id": "19cc588f-0593-49c9-9f4b-e4d7cc113b1c",
        "rgb": [
         252,
         252,
         252
        ]
       },
       "31af15d2-7e15-44c5-ab5e-e04b16a89eff": {
        "id": "31af15d2-7e15-44c5-ab5e-e04b16a89eff",
        "rgb": [
         68,
         68,
         68
        ]
       },
       "50f92c45-a630-455b-aec3-788680ec7410": {
        "id": "50f92c45-a630-455b-aec3-788680ec7410",
        "rgb": [
         197,
         226,
         245
        ]
       },
       "c5cc3653-2ee1-402a-aba2-7caae1da4f6c": {
        "id": "c5cc3653-2ee1-402a-aba2-7caae1da4f6c",
        "rgb": [
         43,
         126,
         184
        ]
       },
       "efa7f048-9acb-414c-8b04-a26811511a21": {
        "id": "efa7f048-9acb-414c-8b04-a26811511a21",
        "rgb": [
         25.118061674008803,
         73.60176211453744,
         107.4819383259912
        ]
       }
      },
      "rules": {
       "a": {
        "color": "19cc588f-0593-49c9-9f4b-e4d7cc113b1c"
       },
       "blockquote": {
        "color": "50f92c45-a630-455b-aec3-788680ec7410",
        "font-size": 3
       },
       "code": {
        "font-family": "Anonymous Pro"
       },
       "h1": {
        "color": "19cc588f-0593-49c9-9f4b-e4d7cc113b1c",
        "font-family": "Merriweather",
        "font-size": 8
       },
       "h2": {
        "color": "19cc588f-0593-49c9-9f4b-e4d7cc113b1c",
        "font-family": "Merriweather",
        "font-size": 6
       },
       "h3": {
        "color": "50f92c45-a630-455b-aec3-788680ec7410",
        "font-family": "Lato",
        "font-size": 5.5
       },
       "h4": {
        "color": "c5cc3653-2ee1-402a-aba2-7caae1da4f6c",
        "font-family": "Lato",
        "font-size": 5
       },
       "h5": {
        "font-family": "Lato"
       },
       "h6": {
        "font-family": "Lato"
       },
       "h7": {
        "font-family": "Lato"
       },
       "li": {
        "color": "50f92c45-a630-455b-aec3-788680ec7410",
        "font-size": 3.25
       },
       "pre": {
        "font-family": "Anonymous Pro",
        "font-size": 4
       }
      },
      "text-base": {
       "color": "19cc588f-0593-49c9-9f4b-e4d7cc113b1c",
       "font-family": "Lato",
       "font-size": 4
      }
     }
    }
   }
  }
 },
 "nbformat": 4,
 "nbformat_minor": 2
}
