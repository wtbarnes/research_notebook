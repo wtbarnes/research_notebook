{
 "cells": [
  {
   "cell_type": "markdown",
   "metadata": {},
   "source": [
    "# Simple Field Benchmarks\n",
    "Run simple dipole test case (with few loops) to make sure our reorganization is working properly. Test out our emission model for a modest number of loops to make sure everything is working properly and scaling as expected."
   ]
  },
  {
   "cell_type": "code",
   "execution_count": 1,
   "metadata": {
    "collapsed": true,
    "scrolled": false
   },
   "outputs": [],
   "source": [
    "import os\n",
    "import subprocess\n",
    "import time\n",
    "import json\n",
    "\n",
    "import dask\n",
    "import dask.distributed\n",
    "import numpy as np\n",
    "import scipy.interpolate\n",
    "import astropy.units as u\n",
    "from astropy.utils.console import ProgressBar\n",
    "import matplotlib.pyplot as plt\n",
    "import matplotlib.colors\n",
    "import seaborn\n",
    "from sunpy.map import Map,GenericMap\n",
    "from sunpy.instr.aia import aiaprep\n",
    "import fiasco\n",
    "import synthesizAR\n",
    "import synthesizAR.maps\n",
    "from synthesizAR.model_ext import UniformHeating, EbtelInterface\n",
    "from synthesizAR.instruments import InstrumentSDOAIA\n",
    "from synthesizAR.atomic import Ion,Element,EmissionModel,list_elements\n",
    "from solarbextrapolation.example_data_generator import dummyDataToMap\n",
    "\n",
    "%matplotlib inline"
   ]
  },
  {
   "cell_type": "code",
   "execution_count": 2,
   "metadata": {},
   "outputs": [
    {
     "data": {
      "text/html": [
       "<table style=\"border: 2px solid white;\">\n",
       "<tr>\n",
       "<td style=\"vertical-align: top; border: 0px solid white\">\n",
       "<h3>Client</h3>\n",
       "<ul>\n",
       "  <li><b>Scheduler: </b>tcp://127.0.0.1:35619\n",
       "  <li><b>Dashboard: </b><a href='http://127.0.0.1:8787' target='_blank'>http://127.0.0.1:8787</a>\n",
       "</ul>\n",
       "</td>\n",
       "<td style=\"vertical-align: top; border: 0px solid white\">\n",
       "<h3>Cluster</h3>\n",
       "<ul>\n",
       "  <li><b>Workers: </b>64</li>\n",
       "  <li><b>Cores: </b>64</li>\n",
       "  <li><b>Memory: </b>270.38 GB</li>\n",
       "</ul>\n",
       "</td>\n",
       "</tr>\n",
       "</table>"
      ],
      "text/plain": [
       "<Client: scheduler='tcp://127.0.0.1:35619' processes=64 cores=64>"
      ]
     },
     "execution_count": 2,
     "metadata": {},
     "output_type": "execute_result"
    }
   ],
   "source": [
    "client = dask.distributed.Client()\n",
    "client"
   ]
  },
  {
   "cell_type": "markdown",
   "metadata": {},
   "source": [
    "## Synthetic HMI Map\n",
    "First, make a basic dipole map."
   ]
  },
  {
   "cell_type": "code",
   "execution_count": null,
   "metadata": {
    "collapsed": true
   },
   "outputs": [],
   "source": [
    "def make_synthetic_map(xrange,yrange,shape,spots):\n",
    "    delta_x = xrange[1] - xrange[0]\n",
    "    delta_y = yrange[1] - yrange[0]\n",
    "    dx = delta_x/arr_grid_shape[0]\n",
    "    dy = delta_y/arr_grid_shape[1]\n",
    "    synthetic_hmi_data = np.zeros(arr_grid_shape)\n",
    "    xphysical,yphysical = np.meshgrid(np.arange(arr_grid_shape[0])*dx,np.arange(arr_grid_shape[1])*dy)\n",
    "    for spot in spots:\n",
    "        if spot[0].unit is u.percent:\n",
    "            pos = u.Quantity([spot[0][0].value/100.*delta_x + xrange[0],\n",
    "                              spot[0][1].value/100.*delta_y + yrange[0]])\n",
    "        else:\n",
    "            pos = spot[0]\n",
    "        if spot[1].unit is u.percent:\n",
    "            sigma = spot[1].value/100.*delta_x\n",
    "        else:\n",
    "            sigma = spot[1]\n",
    "        An_max   = spot[2].value\n",
    "        An_x     = pos[0]\n",
    "        An_y     = pos[1]\n",
    "        An_Dx    = xphysical - An_x + xrange[0]\n",
    "        An_Dy    = yphysical - An_y + yrange[0]\n",
    "        An_DxSqu = An_Dx.value**2.0\n",
    "        An_DySqu = An_Dy.value**2.0\n",
    "        An_Sigma = sigma.value\n",
    "\n",
    "        # So this contibution is calculated and added.\n",
    "        synthetic_hmi_data += An_max * np.exp( - ( (An_DxSqu + An_DySqu) / (2 * An_Sigma**2.0)) )\n",
    "        \n",
    "    synthetic_hmi_map = dummyDataToMap(synthetic_hmi_data,xrange,yrange)\n",
    "    test = Map('/storage-home/w/wtb2/sunpy/data/hmi_m_45s_2011_02_12_15_32_15_tai_magnetogram.fits')\n",
    "    for key in ['ctype1','ctype2','rsun_ref','rsun_obs','dsun_ref','dsun_obs',\n",
    "                'wcsname','crlt_obs','t_obs','date-obs']:\n",
    "        synthetic_hmi_map.meta[key] = test.meta[key]\n",
    "        \n",
    "    return synthetic_hmi_map"
   ]
  },
  {
   "cell_type": "code",
   "execution_count": null,
   "metadata": {
    "collapsed": true
   },
   "outputs": [],
   "source": [
    "arr_grid_shape = [ 300, 300]\n",
    "xrange = u.Quantity([ -150.0, 150.0 ], u.arcsec)\n",
    "yrange = u.Quantity([ -150.0, 150.0 ], u.arcsec)\n",
    "spots = [\n",
    "    ( u.Quantity([65,50],u.percent), 5*u.percent, -5e3*u.Gauss),\n",
    "    ( u.Quantity([35,50],u.percent), 5*u.percent,  5e3*u.Gauss)\n",
    "]"
   ]
  },
  {
   "cell_type": "code",
   "execution_count": null,
   "metadata": {
    "collapsed": true
   },
   "outputs": [],
   "source": [
    "hmi_map = make_synthetic_map(xrange,yrange,arr_grid_shape,spots)"
   ]
  },
  {
   "cell_type": "markdown",
   "metadata": {},
   "source": [
    "## Build Field\n",
    "Assemble the extrapolated field and trace streamlines."
   ]
  },
  {
   "cell_type": "code",
   "execution_count": null,
   "metadata": {
    "collapsed": true
   },
   "outputs": [],
   "source": [
    "field = synthesizAR.Skeleton(hmi_fits_file=hmi_map,resample=u.Quantity([100,100],'pix'))"
   ]
  },
  {
   "cell_type": "code",
   "execution_count": null,
   "metadata": {
    "collapsed": true
   },
   "outputs": [],
   "source": [
    "zrange = u.Quantity([0,300],'arcsec')\n",
    "zshape = 100"
   ]
  },
  {
   "cell_type": "code",
   "execution_count": null,
   "metadata": {
    "collapsed": true
   },
   "outputs": [],
   "source": [
    "field.extrapolate_field(zshape,zrange)"
   ]
  },
  {
   "cell_type": "code",
   "execution_count": null,
   "metadata": {
    "collapsed": true,
    "scrolled": true
   },
   "outputs": [],
   "source": [
    "field.extract_streamlines(100,\n",
    "                          close_threshold=0.05,\n",
    "                          mask_threshold=0.2,\n",
    "                          safety=2,\n",
    "                          loop_length_range=[1e9,2e10]*u.cm,\n",
    "                          direction=-1)"
   ]
  },
  {
   "cell_type": "code",
   "execution_count": null,
   "metadata": {
    "collapsed": true
   },
   "outputs": [],
   "source": [
    "field.peek()"
   ]
  },
  {
   "cell_type": "code",
   "execution_count": null,
   "metadata": {
    "collapsed": true
   },
   "outputs": [],
   "source": [
    "field.make_loops()"
   ]
  },
  {
   "cell_type": "code",
   "execution_count": null,
   "metadata": {
    "collapsed": true
   },
   "outputs": [],
   "source": [
    "plt.hist([loop.full_length.to(u.Mm).value for loop in field.loops],bins='scott',histtype='step',lw=2);\n",
    "plt.xscale('log')"
   ]
  },
  {
   "cell_type": "markdown",
   "metadata": {},
   "source": [
    "## Loop Models"
   ]
  },
  {
   "cell_type": "code",
   "execution_count": null,
   "metadata": {
    "collapsed": true
   },
   "outputs": [],
   "source": [
    "class SingleEventModel(UniformHeating):\n",
    "    @property\n",
    "    def number_events(self):\n",
    "        return 1\n",
    "heating_options = {'duration':200,'average_waiting_time':1000,'duration_rise':100,\n",
    "                   'duration_decay':100,'stress_level':1e-6}\n",
    "heating_model = SingleEventModel(heating_options)"
   ]
  },
  {
   "cell_type": "code",
   "execution_count": null,
   "metadata": {
    "collapsed": true
   },
   "outputs": [],
   "source": [
    "base_config = synthesizAR.util.InputHandler(\n",
    "    '/storage-home/w/wtb2/codes/ebtelPlusPlus/config/ebtel.example.cfg.xml'\n",
    ").lookup_vars()\n",
    "base_config['total_time'] = 5e3\n",
    "base_config['use_adaptive_solver'] = True\n",
    "base_config['use_flux_limiting'] = True\n",
    "base_config['force_single_fluid'] = False\n",
    "base_config['heating']['partition'] = 1.\n",
    "base_config['heating']['background'] = 1e-6"
   ]
  },
  {
   "cell_type": "code",
   "execution_count": null,
   "metadata": {
    "collapsed": true
   },
   "outputs": [],
   "source": [
    "ebtel_interface = EbtelInterface(base_config,\n",
    "                                 heating_model,\n",
    "                                 '/storage-home/w/wtb2/data/simple_ar_model/hydro_config/',\n",
    "                                 '/storage-home/w/wtb2/data/simple_ar_model/hydro_results/')"
   ]
  },
  {
   "cell_type": "code",
   "execution_count": null,
   "metadata": {
    "collapsed": true
   },
   "outputs": [],
   "source": [
    "field.configure_loop_simulations(ebtel_interface)"
   ]
  },
  {
   "cell_type": "code",
   "execution_count": null,
   "metadata": {
    "collapsed": true
   },
   "outputs": [],
   "source": [
    "def ebtel_runner(loop):\n",
    "    subprocess.call([os.path.join('/storage-home/w/wtb2/codes/','ebtelPlusPlus/bin/ebtel++.run'),\n",
    "                     '-c',loop.hydro_configuration['config_filename']])"
   ]
  },
  {
   "cell_type": "code",
   "execution_count": null,
   "metadata": {
    "collapsed": true
   },
   "outputs": [],
   "source": [
    "for loop in field.loops:\n",
    "    ebtel_runner(loop)"
   ]
  },
  {
   "cell_type": "code",
   "execution_count": null,
   "metadata": {
    "collapsed": true
   },
   "outputs": [],
   "source": [
    "field.load_loop_simulations(ebtel_interface,savefile='/storage-home/w/wtb2/data/simple_ar_model/loop_parameters.h5')"
   ]
  },
  {
   "cell_type": "code",
   "execution_count": null,
   "metadata": {
    "collapsed": true
   },
   "outputs": [],
   "source": [
    "fig,axes = plt.subplots(2,1,figsize=(20,10),sharex=True)\n",
    "plt.subplots_adjust(hspace=0.)\n",
    "for loop in field.loops[::]:\n",
    "    axes[0].plot(loop.time,np.max(loop.electron_temperature.to(u.MK),axis=1),color='b',alpha=0.1)\n",
    "    axes[0].plot(loop.time,loop.ion_temperature[:,0].to(u.MK),color='r',ls='--',alpha=0.1)\n",
    "    axes[1].plot(loop.time,np.mean(loop.density,axis=1)/1e9,color='b',alpha=0.25)\n",
    "#axes[0].set_xlim([0,base_config['total_time']])\n",
    "axes[0].set_ylim([0,20])\n",
    "axes[1].set_ylim([0,30])\n",
    "axes[0].set_ylabel(r'$T$ [MK]')\n",
    "axes[1].set_ylabel(r'$n$ [10$^9$ cm$^{-3}$]')\n",
    "axes[1].set_xlabel(r'$t$ [s]')"
   ]
  },
  {
   "cell_type": "code",
   "execution_count": null,
   "metadata": {
    "collapsed": true
   },
   "outputs": [],
   "source": [
    "field.save(savedir='/storage-home/w/wtb2/data/simple_ar_model/field_checkpoint')"
   ]
  },
  {
   "cell_type": "code",
   "execution_count": 3,
   "metadata": {},
   "outputs": [
    {
     "name": "stderr",
     "output_type": "stream",
     "text": [
      "No HMI fits file supplied. A new HMI map object will not be created.\n",
      "/storage-home/w/wtb2/anaconda3/envs/synthesizar/lib/python3.6/site-packages/synthesizAR-0.1.dev526-py3.6.egg/synthesizAR/field.py:187: SunpyDeprecationWarning: This property is only valid for non-rotated WCS\n",
      "  lcx, rcx = self.hmi_map.xrange + self.hmi_map.scale.axis1*u.Quantity([boundary_clipping[0], -boundary_clipping[0]], u.pixel)\n",
      "/storage-home/w/wtb2/anaconda3/envs/synthesizar/lib/python3.6/site-packages/synthesizAR-0.1.dev526-py3.6.egg/synthesizAR/field.py:188: SunpyDeprecationWarning: This property is only valid for non-rotated WCS\n",
      "  lcy, rcy = self.hmi_map.yrange + self.hmi_map.scale.axis2*u.Quantity([boundary_clipping[1], -boundary_clipping[1]], u.pixel)\n",
      "/storage-home/w/wtb2/anaconda3/envs/synthesizar/lib/python3.6/site-packages/synthesizAR-0.1.dev526-py3.6.egg/synthesizAR/field.py:195: SunpyDeprecationWarning: This property is only valid for non-rotated WCS\n",
      "  bbox = np.array([self._convert_angle_to_length(self.clipped_hmi_map.xrange).value,\n",
      "/storage-home/w/wtb2/anaconda3/envs/synthesizar/lib/python3.6/site-packages/synthesizAR-0.1.dev526-py3.6.egg/synthesizAR/field.py:196: SunpyDeprecationWarning: This property is only valid for non-rotated WCS\n",
      "  self._convert_angle_to_length(self.clipped_hmi_map.yrange).value,\n",
      "yt : [INFO     ] 2017-12-05 13:06:14,718 Parameters: current_time              = 0.0\n",
      "yt : [INFO     ] 2017-12-05 13:06:14,720 Parameters: domain_dimensions         = [96 96 96]\n",
      "yt : [INFO     ] 2017-12-05 13:06:14,721 Parameters: domain_left_edge          = [ -1.01173784e+10  -1.01173784e+10   4.27494861e+08]\n",
      "yt : [INFO     ] 2017-12-05 13:06:14,885 Parameters: domain_right_edge         = [  1.06161224e+10   1.06161224e+10   2.09472482e+10]\n",
      "yt : [INFO     ] 2017-12-05 13:06:14,889 Parameters: cosmological_simulation   = 0.0\n"
     ]
    }
   ],
   "source": [
    "# Restore here if needed\n",
    "field = synthesizAR.Skeleton.restore('/storage-home/w/wtb2/data/simple_ar_model/field_checkpoint/')"
   ]
  },
  {
   "cell_type": "markdown",
   "metadata": {},
   "source": [
    "## Emission Model"
   ]
  },
  {
   "cell_type": "code",
   "execution_count": null,
   "metadata": {
    "collapsed": true
   },
   "outputs": [],
   "source": [
    "temperature = 10.**(np.arange(4.5,8,0.05))*u.K\n",
    "density = np.logspace(7,11,15)/(u.cm**3)\n",
    "ions = [Element(el, temperature, ion_kwargs={'abundance_filename':'sun_coronal_1992_feldman'}) \n",
    "        for el in list_elements()]\n",
    "em_model = EmissionModel(density,*ions)"
   ]
  },
  {
   "cell_type": "markdown",
   "metadata": {},
   "source": [
    "Calculate the emissivity table."
   ]
  },
  {
   "cell_type": "code",
   "execution_count": null,
   "metadata": {
    "collapsed": true
   },
   "outputs": [],
   "source": [
    "em_model.calculate_emissivity('/storage-home/w/wtb2/data/simple_ar_model/emiss_table.h5')"
   ]
  },
  {
   "cell_type": "markdown",
   "metadata": {},
   "source": [
    "And the ionization fractions for each loop and each ion"
   ]
  },
  {
   "cell_type": "code",
   "execution_count": null,
   "metadata": {
    "collapsed": true
   },
   "outputs": [],
   "source": [
    "# equilibrium\n",
    "em_model.calculate_ionization_fraction(field, '/storage-home/w/wtb2/data/simple_ar_model/ionization_fractions_eq.h5')"
   ]
  },
  {
   "cell_type": "code",
   "execution_count": null,
   "metadata": {
    "collapsed": true
   },
   "outputs": [],
   "source": [
    "# non-equilibrium\n",
    "tasks = em_model.calculate_ionization_fraction(field, \n",
    "                                               '/storage-home/w/wtb2/data/simple_ar_model/ionization_fractions.h5',\n",
    "                                               interface=EbtelInterface\n",
    "                                              )"
   ]
  },
  {
   "cell_type": "code",
   "execution_count": null,
   "metadata": {
    "collapsed": true
   },
   "outputs": [],
   "source": [
    "tasks.compute()"
   ]
  },
  {
   "cell_type": "code",
   "execution_count": null,
   "metadata": {
    "collapsed": true
   },
   "outputs": [],
   "source": [
    "em_model.save('/storage-home/w/wtb2/data/simple_ar_model/emission_model.json')"
   ]
  },
  {
   "cell_type": "markdown",
   "metadata": {},
   "source": [
    "Or just restore from a previous save"
   ]
  },
  {
   "cell_type": "code",
   "execution_count": 4,
   "metadata": {
    "collapsed": true
   },
   "outputs": [],
   "source": [
    "em_model = EmissionModel.restore('/storage-home/w/wtb2/data/simple_ar_model/emission_model.json')"
   ]
  },
  {
   "cell_type": "code",
   "execution_count": null,
   "metadata": {
    "collapsed": true
   },
   "outputs": [],
   "source": [
    "plt.figure(figsize=(15,8))\n",
    "for ion in em_model:\n",
    "    if ion.element_name == 'iron':\n",
    "        ionfrac = em_model.get_ionization_fraction(field.loops[-1], ion)\n",
    "        plt.plot(field.loops[-1].time, ionfrac[:,0], color='C0', ls='-', alpha=0.5)\n",
    "plt.yscale('log')\n",
    "plt.ylim([1e-6,1])\n",
    "plt.xscale('log')"
   ]
  },
  {
   "cell_type": "markdown",
   "metadata": {},
   "source": [
    "## AIA Observations"
   ]
  },
  {
   "cell_type": "markdown",
   "metadata": {},
   "source": [
    "### Simple Calculation\n",
    "Only use response functions"
   ]
  },
  {
   "cell_type": "code",
   "execution_count": null,
   "metadata": {
    "collapsed": true
   },
   "outputs": [],
   "source": [
    "aia = InstrumentSDOAIA([0,5000]*u.s, use_temperature_response_functions=True)"
   ]
  },
  {
   "cell_type": "code",
   "execution_count": null,
   "metadata": {
    "collapsed": true
   },
   "outputs": [],
   "source": [
    "observer = synthesizAR.Observer(field,[aia],parallel=True)"
   ]
  },
  {
   "cell_type": "code",
   "execution_count": null,
   "metadata": {
    "collapsed": true
   },
   "outputs": [],
   "source": [
    "observer.build_detector_files('/storage-home/w/wtb2/data/simple_ar_model/simple/',ds=field._convert_angle_to_length(0.3*u.arcsec))"
   ]
  },
  {
   "cell_type": "code",
   "execution_count": null,
   "metadata": {
    "collapsed": true
   },
   "outputs": [],
   "source": [
    "tasks=observer.flatten_detector_counts()"
   ]
  },
  {
   "cell_type": "code",
   "execution_count": null,
   "metadata": {
    "collapsed": true
   },
   "outputs": [],
   "source": [
    "tasks['SDO_AIA'].compute()"
   ]
  },
  {
   "cell_type": "code",
   "execution_count": null,
   "metadata": {
    "collapsed": true
   },
   "outputs": [],
   "source": [
    "tasks = observer.bin_detector_counts('/storage-home/w/wtb2/data/simple_ar_model/simple/')"
   ]
  },
  {
   "cell_type": "code",
   "execution_count": null,
   "metadata": {
    "collapsed": true
   },
   "outputs": [],
   "source": [
    "jobs = client.compute(tasks['SDO_AIA'])"
   ]
  },
  {
   "cell_type": "code",
   "execution_count": null,
   "metadata": {
    "collapsed": true
   },
   "outputs": [],
   "source": [
    "jobs=None"
   ]
  },
  {
   "cell_type": "markdown",
   "metadata": {},
   "source": [
    "### Full Calculation\n",
    "Use ions"
   ]
  },
  {
   "cell_type": "markdown",
   "metadata": {},
   "source": [
    "With and without non-equilibrium ionization"
   ]
  },
  {
   "cell_type": "code",
   "execution_count": 6,
   "metadata": {
    "collapsed": true
   },
   "outputs": [],
   "source": [
    "aia = InstrumentSDOAIA([0,5000]*u.s, use_temperature_response_functions=False)"
   ]
  },
  {
   "cell_type": "code",
   "execution_count": 7,
   "metadata": {
    "collapsed": true
   },
   "outputs": [],
   "source": [
    "observer = synthesizAR.Observer(field,[aia],parallel=True)"
   ]
  },
  {
   "cell_type": "code",
   "execution_count": 8,
   "metadata": {},
   "outputs": [
    {
     "name": "stderr",
     "output_type": "stream",
     "text": [
      "/storage-home/w/wtb2/anaconda3/envs/synthesizar/lib/python3.6/site-packages/scipy/interpolate/_fitpack_impl.py:299: RuntimeWarning: The maximal number of iterations (20) allowed for finding smoothing\n",
      "spline with fp=s has been reached. Probable cause: s too small.\n",
      "(abs(fp-s)/s>0.001)\n",
      "  warnings.warn(RuntimeWarning(_iermess[ier][0]))\n",
      "/storage-home/w/wtb2/anaconda3/envs/synthesizar/lib/python3.6/site-packages/synthesizAR-0.1.dev526-py3.6.egg/synthesizAR/instruments/base.py:116: SunpyDeprecationWarning: This property is only valid for non-rotated WCS\n",
      "  delta_x = np.fabs(field.clipped_hmi_map.xrange[1] - field.clipped_hmi_map.xrange[0])\n",
      "/storage-home/w/wtb2/anaconda3/envs/synthesizar/lib/python3.6/site-packages/synthesizAR-0.1.dev526-py3.6.egg/synthesizAR/instruments/base.py:117: SunpyDeprecationWarning: This property is only valid for non-rotated WCS\n",
      "  delta_y = np.fabs(field.clipped_hmi_map.yrange[1] - field.clipped_hmi_map.yrange[0])\n",
      "/storage-home/w/wtb2/anaconda3/envs/synthesizar/lib/python3.6/site-packages/synthesizAR-0.1.dev526-py3.6.egg/synthesizAR/instruments/base.py:126: SunpyDeprecationWarning: This property is only valid for non-rotated WCS\n",
      "  self.bin_range = Pair(field._convert_angle_to_length(field.clipped_hmi_map.xrange).value,\n",
      "/storage-home/w/wtb2/anaconda3/envs/synthesizar/lib/python3.6/site-packages/synthesizAR-0.1.dev526-py3.6.egg/synthesizAR/instruments/base.py:127: SunpyDeprecationWarning: This property is only valid for non-rotated WCS\n",
      "  field._convert_angle_to_length(field.clipped_hmi_map.yrange).value,\n"
     ]
    }
   ],
   "source": [
    "observer.build_detector_files('/storage-home/w/wtb2/data/simple_ar_model/',\n",
    "                              ds=field._convert_angle_to_length(0.3*u.arcsec))"
   ]
  },
  {
   "cell_type": "code",
   "execution_count": 9,
   "metadata": {
    "collapsed": true
   },
   "outputs": [],
   "source": [
    "tasks = observer.flatten_detector_counts(emission_model=em_model)"
   ]
  },
  {
   "cell_type": "code",
   "execution_count": 10,
   "metadata": {
    "collapsed": true
   },
   "outputs": [],
   "source": [
    "tasks['SDO_AIA_counts'].compute()"
   ]
  },
  {
   "cell_type": "code",
   "execution_count": null,
   "metadata": {
    "collapsed": true
   },
   "outputs": [],
   "source": [
    "tasks = observer.bin_detector_counts('/storage-home/w/wtb2/data/simple_ar_model/')"
   ]
  },
  {
   "cell_type": "code",
   "execution_count": null,
   "metadata": {
    "collapsed": true
   },
   "outputs": [],
   "source": [
    "jobs = client.compute(tasks['SDO_AIA'])"
   ]
  },
  {
   "cell_type": "code",
   "execution_count": null,
   "metadata": {
    "collapsed": true
   },
   "outputs": [],
   "source": [
    "jobs = None"
   ]
  },
  {
   "cell_type": "markdown",
   "metadata": {},
   "source": [
    "## Viz Sandbox"
   ]
  },
  {
   "cell_type": "code",
   "execution_count": null,
   "metadata": {
    "collapsed": true
   },
   "outputs": [],
   "source": [
    "timestamp = 499\n",
    "fig = plt.figure(figsize=(20,13))\n",
    "for i,channel in enumerate(aia.channels):\n",
    "    m = Map(f'/storage-home/w/wtb2/data/simple_ar_model/simple/SDO_AIA/{channel[\"name\"]}/map_t{timestamp:06d}.fits')\n",
    "    ax = fig.add_subplot(2,3,i+1)\n",
    "    m.plot(axes=ax,norm=matplotlib.colors.SymLogNorm(1e-5,vmin=1e-3,vmax=5e2),annotate=False,title=False)\n",
    "#plt.colorbar()"
   ]
  },
  {
   "cell_type": "code",
   "execution_count": null,
   "metadata": {
    "collapsed": true
   },
   "outputs": [],
   "source": [
    "timestamp = 499\n",
    "fig = plt.figure(figsize=(20,13))\n",
    "for i,channel in enumerate(aia.channels):\n",
    "    m = Map(f'/storage-home/w/wtb2/data/simple_ar_model/SDO_AIA/{channel[\"name\"]}/map_t{timestamp:06d}.fits')\n",
    "    ax = fig.add_subplot(2,3,i+1)\n",
    "    m.plot(axes=ax,norm=matplotlib.colors.SymLogNorm(1e-5,vmin=1e-3,vmax=5e2),annotate=False,title=False)\n",
    "#plt.colorbar()"
   ]
  },
  {
   "cell_type": "code",
   "execution_count": null,
   "metadata": {
    "collapsed": true
   },
   "outputs": [],
   "source": [
    "timestamp = 499\n",
    "fig = plt.figure(figsize=(20,13))\n",
    "for i,channel in enumerate(aia.channels):\n",
    "    m = Map(f'/storage-home/w/wtb2/data/simple_ar_model/nei/SDO_AIA/{channel[\"name\"]}/map_t{timestamp:06d}.fits')\n",
    "    ax = fig.add_subplot(2,3,i+1)\n",
    "    m.plot(axes=ax,norm=matplotlib.colors.SymLogNorm(1e-5,vmin=1e-3,vmax=5e2),annotate=False,title=False)\n",
    "#plt.colorbar()"
   ]
  },
  {
   "cell_type": "code",
   "execution_count": null,
   "metadata": {
    "collapsed": true,
    "scrolled": false
   },
   "outputs": [],
   "source": [
    "timestamp = 3\n",
    "fig = plt.figure(figsize=(11,30))\n",
    "for i,channel in enumerate(aia.channels):\n",
    "    opts = {\n",
    "        'norm': matplotlib.colors.SymLogNorm(1e-5,vmin=1e-1,vmax=1e3),\n",
    "        'annotate':False,\n",
    "        'title':False\n",
    "    }\n",
    "    # Temp response\n",
    "    m = Map(f'/storage-home/w/wtb2/data/simple_ar_model/simple/SDO_AIA/{channel[\"name\"]}/map_t{timestamp:06d}.fits')\n",
    "    ax = fig.add_subplot(6,2,2*i+1,projection=m)\n",
    "    m.plot(axes=ax,**opts)\n",
    "    # NEI/full\n",
    "    m = Map(f'/storage-home/w/wtb2/data/simple_ar_model/SDO_AIA/{channel[\"name\"]}/map_t{timestamp:06d}.fits')\n",
    "    ax = fig.add_subplot(6,2,2*i+2,projection=m)\n",
    "    m.plot(axes=ax,**opts)\n",
    "#plt.colorbar()"
   ]
  },
  {
   "cell_type": "markdown",
   "metadata": {},
   "source": [
    "## Sandbox"
   ]
  },
  {
   "cell_type": "code",
   "execution_count": null,
   "metadata": {
    "collapsed": true
   },
   "outputs": [],
   "source": [
    "calc_temp_response = {}\n",
    "for channel in aia.channels:\n",
    "    counts = np.zeros(em_model.temperature.shape+em_model.density.shape)\n",
    "    for ion in em_model:\n",
    "        #if ion.element_name != 'iron':\n",
    "        #    continue\n",
    "        wvl,emiss = em_model.get_emissivity(ion)\n",
    "        if wvl is None or emiss is None:\n",
    "            continue\n",
    "        response = scipy.interpolate.splev(wvl.value,channel['wavelength_response_spline'])\n",
    "        response = np.where(response < 0., 0., response)\n",
    "        tmp = np.dot(emiss.value,response)\n",
    "        ab = ion.abundance.value\n",
    "        tmp *= ab*ion.ioneq.value[:,np.newaxis]/em_model.density.value/4./np.pi\n",
    "        counts += tmp\n",
    "    calc_temp_response[channel['name']] = counts"
   ]
  },
  {
   "cell_type": "code",
   "execution_count": null,
   "metadata": {
    "collapsed": true
   },
   "outputs": [],
   "source": [
    "const_p_indices = np.array([(i,np.argmin(np.fabs(em_model.density.value-d.value))) \n",
    "                            for i,d in enumerate(1e15/em_model.temperature)])"
   ]
  },
  {
   "cell_type": "code",
   "execution_count": null,
   "metadata": {
    "collapsed": true
   },
   "outputs": [],
   "source": [
    "fig,axes = plt.subplots(3,2,figsize=(10,15),sharex=True,sharey=True)\n",
    "data_temperature = np.logspace(5,8,100)\n",
    "for i,(ax,channel) in enumerate(zip(axes.flatten(),aia.channels)):\n",
    "    real_response = scipy.interpolate.splev(data_temperature,channel['temperature_response_spline'])\n",
    "    ax.plot(data_temperature,real_response,\n",
    "            'o',markevery=3,color=seaborn.color_palette('deep')[i],label=channel['name'])\n",
    "    ax.plot(em_model.temperature,calc_temp_response[channel['name']][const_p_indices[:,0],const_p_indices[:,1]],\n",
    "             color=seaborn.color_palette('deep')[i],ls='-')\n",
    "    #ax.axvline(x=1e6,ls='--',color='k')\n",
    "    #ax.axvline(x=1e7,ls='--',color='k')\n",
    "    ax.legend()\n",
    "plt.xscale('log')\n",
    "plt.yscale('log')\n",
    "plt.ylim([1e-30,2e-24])\n",
    "plt.xlim([1e5,1e8])\n",
    "#plt.legend()\n",
    "plt.subplots_adjust(wspace=0.,hspace=0.)"
   ]
  },
  {
   "cell_type": "code",
   "execution_count": null,
   "metadata": {
    "collapsed": true
   },
   "outputs": [],
   "source": [
    "fe_ions = [ion for ion in em_model if ion.element_name == 'iron']"
   ]
  },
  {
   "cell_type": "code",
   "execution_count": null,
   "metadata": {
    "collapsed": true
   },
   "outputs": [],
   "source": [
    "plt.figure(figsize=(12,8))\n",
    "loop = field.loops[15]\n",
    "for i,ion in enumerate(fe_ions):\n",
    "    em_model.ionization_fraction_savefile = '/storage-home/w/wtb2/data/simple_ar_model/ionization_fractions.h5'\n",
    "    ionfrac = em_model.get_ionization_fraction(loop,ion)\n",
    "    #em_model.ionization_fraction_savefile = '/storage-home/w/wtb2/data/simple_ar_model/nei/ionization_fractions.h5'\n",
    "    #ionfrac_nei = em_model.get_ionization_fraction(loop,ion)\n",
    "    plt.plot(loop.time,ionfrac[:,0],color=f'C{i%10}',ls='--')\n",
    "    #plt.plot(loop.time,ionfrac_nei[:,0],color=f'C{i%10}',ls='-')\n",
    "plt.xscale('log')\n",
    "#plt.xlim(2e3,3e3)\n",
    "plt.yscale('log')\n",
    "plt.ylim(1e-6,1)"
   ]
  },
  {
   "cell_type": "code",
   "execution_count": null,
   "metadata": {
    "collapsed": true
   },
   "outputs": [],
   "source": [
    "element = Element('iron',10.**np.arange(4,8,0.01)*u.K)"
   ]
  },
  {
   "cell_type": "code",
   "execution_count": null,
   "metadata": {
    "collapsed": true
   },
   "outputs": [],
   "source": [
    "loop = field.loops[50]"
   ]
  },
  {
   "cell_type": "code",
   "execution_count": null,
   "metadata": {
    "collapsed": true
   },
   "outputs": [],
   "source": [
    "nei = element.non_equilibrium_ionization(loop.time, loop.electron_temperature[:,0], loop.density[:,0])"
   ]
  },
  {
   "cell_type": "code",
   "execution_count": null,
   "metadata": {
    "collapsed": true
   },
   "outputs": [],
   "source": [
    "loop.density.shape"
   ]
  },
  {
   "cell_type": "code",
   "execution_count": null,
   "metadata": {
    "collapsed": true
   },
   "outputs": [],
   "source": [
    "foo = np.repeat(nei[:,np.newaxis,:],3,axis=1)"
   ]
  },
  {
   "cell_type": "code",
   "execution_count": null,
   "metadata": {
    "collapsed": true
   },
   "outputs": [],
   "source": [
    "foo.shape"
   ]
  },
  {
   "cell_type": "code",
   "execution_count": null,
   "metadata": {
    "collapsed": true
   },
   "outputs": [],
   "source": [
    "plt.pcolor(foo[:,2,:])"
   ]
  },
  {
   "cell_type": "code",
   "execution_count": null,
   "metadata": {
    "collapsed": true
   },
   "outputs": [],
   "source": [
    "bar = np.repeat(np.array([[1,2],[3,4]])[:,np.newaxis,:],3,axis=1)"
   ]
  },
  {
   "cell_type": "code",
   "execution_count": null,
   "metadata": {
    "collapsed": true
   },
   "outputs": [],
   "source": [
    "bar[:,2,:]"
   ]
  },
  {
   "cell_type": "code",
   "execution_count": null,
   "metadata": {
    "collapsed": true
   },
   "outputs": [],
   "source": [
    "ieq = element.equilibrium_ionization()"
   ]
  },
  {
   "cell_type": "code",
   "execution_count": null,
   "metadata": {
    "collapsed": true
   },
   "outputs": [],
   "source": [
    "ieq.shape"
   ]
  },
  {
   "cell_type": "code",
   "execution_count": null,
   "metadata": {
    "collapsed": true
   },
   "outputs": [],
   "source": [
    "ieq_interp = scipy.interpolate.interp1d(element.temperature,ieq,\n",
    "                                        axis=0,kind='linear',fill_value='extrapolate')"
   ]
  },
  {
   "cell_type": "code",
   "execution_count": null,
   "metadata": {
    "collapsed": true
   },
   "outputs": [],
   "source": [
    "ieq_interp(loop.electron_temperature).shape"
   ]
  },
  {
   "cell_type": "code",
   "execution_count": null,
   "metadata": {
    "collapsed": true
   },
   "outputs": [],
   "source": [
    "loop = field.loops[0]\n",
    "ion = em_model[200]\n",
    "em_model.ionization_fraction_savefile = '/storage-home/w/wtb2/data/simple_ar_model/ionization_fractions_eq.h5'\n",
    "ieq = em_model.get_ionization_fraction(loop, ion)\n",
    "em_model.ionization_fraction_savefile = '/storage-home/w/wtb2/data/simple_ar_model/ionization_fractions.h5'\n",
    "nei = em_model.get_ionization_fraction(loop, ion)\n",
    "f_interp = scipy.interpolate.interp1d(ion.temperature, ion.ioneq,\n",
    "                                      kind='linear',fill_value='extrapolate')\n",
    "ieq_interp = f_interp(loop.electron_temperature)"
   ]
  },
  {
   "cell_type": "code",
   "execution_count": null,
   "metadata": {
    "collapsed": true
   },
   "outputs": [],
   "source": [
    "plt.figure(figsize=(8,5))\n",
    "plt.plot(loop.time, ieq[:,0])\n",
    "plt.plot(loop.time, nei[:,0])\n",
    "plt.plot(loop.time, ieq_interp[:,0], '--',lw=3)\n",
    "plt.xscale('log')\n",
    "plt.yscale('log')\n",
    "plt.ylim(1e-6,1)"
   ]
  },
  {
   "cell_type": "code",
   "execution_count": null,
   "metadata": {
    "collapsed": true
   },
   "outputs": [],
   "source": [
    "u.Quantity(1,u.s)[0]"
   ]
  },
  {
   "cell_type": "code",
   "execution_count": 2,
   "metadata": {},
   "outputs": [
    {
     "data": {
      "application/vnd.jupyter.widget-view+json": {
       "model_id": "de4b9e26cd5549a0bc8b0a4098696006",
       "version_major": 2,
       "version_minor": 0
      },
      "text/html": [
       "<p>Failed to display Jupyter Widget of type <code>FloatProgress</code>.</p>\n",
       "<p>\n",
       "  If you're reading this message in the Jupyter Notebook or JupyterLab Notebook, it may mean\n",
       "  that the widgets JavaScript is still loading. If this message persists, it\n",
       "  likely means that the widgets JavaScript library is either not installed or\n",
       "  not enabled. See the <a href=\"https://ipywidgets.readthedocs.io/en/stable/user_install.html\">Jupyter\n",
       "  Widgets Documentation</a> for setup instructions.\n",
       "</p>\n",
       "<p>\n",
       "  If you're reading this message in another frontend (for example, a static\n",
       "  rendering on GitHub or <a href=\"https://nbviewer.jupyter.org/\">NBViewer</a>),\n",
       "  it may mean that your frontend doesn't currently support widgets.\n",
       "</p>\n"
      ],
      "text/plain": [
       "FloatProgress(value=0.0)"
      ]
     },
     "metadata": {},
     "output_type": "display_data"
    },
    {
     "name": "stdout",
     "output_type": "stream",
     "text": [
      "\n"
     ]
    }
   ],
   "source": [
    "with ProgressBar(1000,ipython_widget=True) as progress:\n",
    "    for i in range(1000):\n",
    "        time.sleep(0.01)\n",
    "        progress.update()"
   ]
  },
  {
   "cell_type": "code",
   "execution_count": null,
   "metadata": {
    "collapsed": true
   },
   "outputs": [],
   "source": []
  }
 ],
 "metadata": {
  "kernelspec": {
   "display_name": "Python [conda env:synthesizar]",
   "language": "python",
   "name": "conda-env-synthesizar-py"
  },
  "language_info": {
   "codemirror_mode": {
    "name": "ipython",
    "version": 3
   },
   "file_extension": ".py",
   "mimetype": "text/x-python",
   "name": "python",
   "nbconvert_exporter": "python",
   "pygments_lexer": "ipython3",
   "version": "3.6.3"
  }
 },
 "nbformat": 4,
 "nbformat_minor": 2
}
