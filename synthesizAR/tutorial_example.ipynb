{
 "cells": [
  {
   "cell_type": "markdown",
   "metadata": {},
   "source": [
    "# Tutorial Example\n",
    "Go through synthesizAR example step-by-step from the beginning. Ideally this will end up in a tutorial in the docs."
   ]
  },
  {
   "cell_type": "code",
   "execution_count": 1,
   "metadata": {},
   "outputs": [
    {
     "name": "stderr",
     "output_type": "stream",
     "text": [
      "/Users/willbarnes/anaconda/envs/synthesizar/lib/python3.6/site-packages/h5py/__init__.py:36: FutureWarning: Conversion of the second argument of issubdtype from `float` to `np.floating` is deprecated. In future, it will be treated as `np.float64 == np.dtype(float).type`.\n",
      "  from ._conv import register_converters as _register_converters\n"
     ]
    }
   ],
   "source": [
    "import os\n",
    "\n",
    "import matplotlib.pyplot as plt\n",
    "import numpy as np\n",
    "import astropy.units as u\n",
    "import astropy.constants as const\n",
    "from astropy.coordinates import SkyCoord\n",
    "from sunpy.sun import constants\n",
    "from sunpy.map import Map\n",
    "from sunpy.net import Fido,attrs as a\n",
    "from sunpy.time import TimeRange\n",
    "\n",
    "import synthesizAR\n",
    "import synthesizAR.extrapolate\n",
    "from synthesizAR.util import heeq_to_hcc_coord\n",
    "\n",
    "%matplotlib inline"
   ]
  },
  {
   "cell_type": "markdown",
   "metadata": {},
   "source": [
    "## Download Magnetogram Data"
   ]
  },
  {
   "cell_type": "markdown",
   "metadata": {},
   "source": [
    "## Prep Magnetogram"
   ]
  },
  {
   "cell_type": "markdown",
   "metadata": {},
   "source": [
    "## Extrapolate Field and Trace Fieldlines"
   ]
  },
  {
   "cell_type": "markdown",
   "metadata": {},
   "source": [
    "## Create Active Region"
   ]
  },
  {
   "cell_type": "markdown",
   "metadata": {},
   "source": [
    "## Run Hydrodynamic Simulation"
   ]
  },
  {
   "cell_type": "markdown",
   "metadata": {},
   "source": [
    "### Setup A Heating Model"
   ]
  },
  {
   "cell_type": "code",
   "execution_count": null,
   "metadata": {},
   "outputs": [],
   "source": [
    "class OutofPhaseNanoflares(object):\n",
    "    def __init__(self,heating_options):\n",
    "        self.heating_options = heating_options\n",
    "        \n",
    "    def calculate_event_properties(self,loop):\n",
    "        self.number_events = 1\n",
    "        start_time = np.random.uniform(low=0, high=self.base_config['total_time'] - self.heating_options['duration'])\n",
    "        max_energy = (self.heating_options['stress_level'] * loop.field_strength.mean().value)**2/(8.*np.pi)\n",
    "        return {'magnitude': np.array([max_energy/(self.heating_options['duration']/2.)]),\n",
    "                'rise_start': np.array([start_time]),\n",
    "                'rise_end': np.array([start_time+self.heating_options['duration']/2]),\n",
    "                'decay_start': np.array([start_time+self.heating_options['duration']/2]),\n",
    "                'decay_end': np.array([start_time+self.heating_options['duration']])}"
   ]
  },
  {
   "cell_type": "code",
   "execution_count": null,
   "metadata": {},
   "outputs": [],
   "source": [
    "heating_options = {\n",
    "    'duration':200.0,\n",
    "    'stress_level':0.3,\n",
    "}\n",
    "heating_model = OutofPhaseNanoflares(heating_options)"
   ]
  },
  {
   "cell_type": "markdown",
   "metadata": {},
   "source": [
    "### Configure and Run Simulation"
   ]
  },
  {
   "cell_type": "code",
   "execution_count": null,
   "metadata": {},
   "outputs": [],
   "source": [
    "ih = synthesizAR.util.InputHandler(\n",
    "    '/storage-home/w/wtb2/codes/ebtelPlusPlus/config/ebtel.example.cfg.xml')\n",
    "base_config = ih.lookup_vars()\n",
    "base_config['c1_cond0'] = 6.0\n",
    "base_config['total_time'] = 3e4\n",
    "base_config['use_adaptive_solver'] = True\n",
    "base_config['use_flux_limiting'] = True\n",
    "base_config['calculate_dem'] = False\n",
    "base_config['heating']['partition'] = 1.0\n",
    "base_config['heating']['background'] = 1e-6\n",
    "base_config['force_single_fluid'] = False\n",
    "base_config['tau_max'] = 200.0"
   ]
  },
  {
   "cell_type": "code",
   "execution_count": null,
   "metadata": {},
   "outputs": [],
   "source": [
    "ebtel_interface = EbtelInterface(\n",
    "    base_config,heating_model,\n",
    "    '/storage-home/w/wtb2/data/timelag_synthesis_v2/cooling_outofphase_long/hydro_config/',\n",
    "    '/storage-home/w/wtb2/data/timelag_synthesis_v2/cooling_outofphase_long/hydro_results/')"
   ]
  },
  {
   "cell_type": "code",
   "execution_count": null,
   "metadata": {},
   "outputs": [],
   "source": [
    "field.configure_loop_simulations(ebtel_interface,)"
   ]
  },
  {
   "cell_type": "code",
   "execution_count": null,
   "metadata": {},
   "outputs": [],
   "source": [
    "def ebtel_runner(loop):\n",
    "    subprocess.call([os.path.join('/storage-home/w/wtb2/codes/','ebtelPlusPlus/bin/ebtel++.run'),\n",
    "                     '-c',loop.hydro_configuration['config_filename']])"
   ]
  },
  {
   "cell_type": "code",
   "execution_count": null,
   "metadata": {},
   "outputs": [],
   "source": [
    "field.load_loop_simulations(\n",
    "    ebtel_interface,\n",
    "    '/storage-home/w/wtb2/data/timelag_synthesis_v2/cooling_outofphase_long/loop_parameters.h5')"
   ]
  },
  {
   "cell_type": "markdown",
   "metadata": {},
   "source": [
    "Plot the output of all of our loop simulations"
   ]
  },
  {
   "cell_type": "code",
   "execution_count": null,
   "metadata": {},
   "outputs": [],
   "source": [
    "fig,axes = plt.subplots(2,1,figsize=(20,10),sharex=True)\n",
    "plt.subplots_adjust(hspace=0.)\n",
    "for loop in field.loops[::5]:\n",
    "    axes[0].plot(loop.time,loop.electron_temperature[:,0].to(u.MK),color='C0',alpha=0.1)\n",
    "    axes[0].plot(loop.time,loop.ion_temperature[:,0].to(u.MK),color='C2',alpha=0.1)\n",
    "    axes[1].plot(loop.time,loop.density[:,0]/1e9,color='C0',alpha=0.05)\n",
    "axes[0].set_xlim([0,base_config['total_time']])\n",
    "axes[0].set_ylabel(r'$T$ [MK]')\n",
    "axes[1].set_ylabel(r'$n$ [10$^9$ cm$^{-3}$]')\n",
    "axes[1].set_xlabel(r'$t$ [s]')"
   ]
  }
 ],
 "metadata": {
  "kernelspec": {
   "display_name": "Python [conda env:synthesizar]",
   "language": "python",
   "name": "conda-env-synthesizar-py"
  },
  "language_info": {
   "codemirror_mode": {
    "name": "ipython",
    "version": 3
   },
   "file_extension": ".py",
   "mimetype": "text/x-python",
   "name": "python",
   "nbconvert_exporter": "python",
   "pygments_lexer": "ipython3",
   "version": "3.6.4"
  }
 },
 "nbformat": 4,
 "nbformat_minor": 2
}
