{
 "cells": [
  {
   "cell_type": "markdown",
   "metadata": {},
   "source": [
    "#Masters Thesis Figures"
   ]
  },
  {
   "cell_type": "markdown",
   "metadata": {},
   "source": [
    "Example figures for Masters Thesis, particularly for Heating Functions section."
   ]
  },
  {
   "cell_type": "code",
   "execution_count": 14,
   "metadata": {
    "collapsed": false
   },
   "outputs": [
    {
     "data": {
      "text/plain": [
       "<module 'matplotlib.pyplot' from '/usr/local/lib/python3.4/dist-packages/matplotlib/pyplot.py'>"
      ]
     },
     "execution_count": 14,
     "metadata": {},
     "output_type": "execute_result"
    }
   ],
   "source": [
    "#import needed modules\n",
    "import numpy as np\n",
    "import matplotlib.pyplot as plt\n",
    "#plt.style.use('bmh')\n",
    "from matplotlib import ticker\n",
    "import sys\n",
    "import itertools\n",
    "import xml.etree.ElementTree as ET\n",
    "from imp import reload\n",
    "%matplotlib inline\n",
    "#ebtel modules\n",
    "sys.path.append('/home/wtb2/Documents/EBTEL_analysis/src/')\n",
    "import ebtel_plot as ebp\n",
    "reload(ebp)\n",
    "reload(plt)"
   ]
  },
  {
   "cell_type": "code",
   "execution_count": 106,
   "metadata": {
    "collapsed": true
   },
   "outputs": [],
   "source": [
    "#set some static parameters for formatting figures\n",
    "mt_fs = 18.0\n",
    "mt_figsize = (10,10*3/4)\n",
    "mt_format = 'pdf'\n",
    "mt_dpi = 1000\n",
    "#set some default input parameters for our example cases\n",
    "loop_length=40.0\n",
    "alpha=1.5\n",
    "species='electron'\n",
    "tpulse=100.0\n",
    "total_time = 8.0e+4\n",
    "f_template = '/data/datadrive2/EBTEL-2fluid_runs/%s_heating_runs/alpha%s/config/ebtel_L%.1f_tn%s_tpulse100.0_%s/ebtel_L%.1f_tn%s_tpulse100.0_%s_0.xml'"
   ]
  },
  {
   "cell_type": "code",
   "execution_count": 70,
   "metadata": {
    "collapsed": true
   },
   "outputs": [],
   "source": [
    "#define some useful functions\n",
    "def get_heating_function(t,t_start,t_end,amp,h_bg):\n",
    "    heat = h_bg\n",
    "    for i in range(len(t_start)):\n",
    "        if t_start[i] <= t <= t_end[i]:\n",
    "            t_mid = t_start[i] + (t_end[i] - t_start[i])/2.0\n",
    "            if t < t_mid:\n",
    "                heat = heat + amp[i]/((t_end[i]-t_start[i])/2.0)*(t - t_start[i])\n",
    "            else:\n",
    "                heat = heat - amp[i]/((t_end[i]-t_start[i])/2.0)*(t - t_end[i])\n",
    "                \n",
    "    return heat\n",
    "\n",
    "def tick_maker(old_ticks,n):\n",
    "    if n < 2:\n",
    "        raise ValueError('n must be greater than 1')\n",
    "        \n",
    "    n = n-1\n",
    "    delta = (old_ticks[-1] - old_ticks[0])/n\n",
    "    new_ticks = []\n",
    "    for i in range(n):\n",
    "        new_ticks.append(old_ticks[0] + i*delta)\n",
    "        \n",
    "    new_ticks.append(old_ticks[0] + n*delta)\n",
    "    return new_ticks\n",
    "\n",
    "def my_formatter_2f(x,p):\n",
    "    return \"%.2f\" % (x)\n",
    "\n",
    "def my_formatter_1f(x,p):\n",
    "    return \"%.1f\" % (x)\n",
    "\n",
    "def calc_total_events(t_tot,t_pulse,t_n,N_tot):\n",
    "    N_N = int(np.ceil(t_tot/(t_pulse+t_n)))\n",
    "    N_MC = int(np.ceil(N_tot/N_N))\n",
    "    return N_N,N_MC\n",
    "\n",
    "def data_loader(species,alpha,loop_length,t_wait,tot_events):\n",
    "    tot_event_list = []\n",
    "    file_format = '/data/datadrive2/EBTEL-2fluid_runs/%s_heating_runs/alpha%s/data/ebtel_L%.1f_tn%d_tpulse100.0_rka4/ebtel_L%.1f_tn%d_tpulse100.0_rka4_%d_heat_amp.txt'\n",
    "    for i in range(tot_events):\n",
    "        temp = np.loadtxt(file_format%(species,str(alpha),loop_length,t_wait,loop_length,t_wait,i))\n",
    "        tot_event_list.append(temp)\n",
    "    #flatten list\n",
    "    tot_event_list = list(itertools.chain(*tot_event_list))\n",
    "    return tot_event_list"
   ]
  },
  {
   "cell_type": "markdown",
   "metadata": {},
   "source": [
    "##Event Amplitude Histogram"
   ]
  },
  {
   "cell_type": "markdown",
   "metadata": {},
   "source": [
    "Build histogram of event amplitudes for example values of $\\alpha,L,T_N$. Really only need one as they all should look about the same."
   ]
  },
  {
   "cell_type": "code",
   "execution_count": 71,
   "metadata": {
    "collapsed": false
   },
   "outputs": [
    {
     "name": "stdout",
     "output_type": "stream",
     "text": [
      "No file specified. Variable namespace will not be populated.\n"
     ]
    }
   ],
   "source": [
    "plotter = ebp.Plotter(dpi=mt_dpi,format=mt_format,figsize=mt_figsize,fs=mt_fs)"
   ]
  },
  {
   "cell_type": "code",
   "execution_count": 72,
   "metadata": {
    "collapsed": false
   },
   "outputs": [],
   "source": [
    "plotter.events = data_loader(species,alpha,loop_length,5000,calc_total_events(total_time,tpulse,5000,1e+4)[1])"
   ]
  },
  {
   "cell_type": "code",
   "execution_count": 73,
   "metadata": {
    "collapsed": false
   },
   "outputs": [
    {
     "data": {
      "image/png": "[encoded data removed]",
      "text/plain": [
       "<matplotlib.figure.Figure at 0x7efbe6da1ac8>"
      ]
     },
     "metadata": {},
     "output_type": "display_data"
    },
    {
     "data": {
      "text/plain": [
       "(-1.5759555567172034, 0.080641361266988537)"
      ]
     },
     "execution_count": 73,
     "metadata": {},
     "output_type": "execute_result"
    }
   ],
   "source": [
    "plotter.plot_event_distribution()"
   ]
  },
  {
   "cell_type": "markdown",
   "metadata": {},
   "source": [
    "##Example Heating Function Profiles"
   ]
  },
  {
   "cell_type": "markdown",
   "metadata": {},
   "source": [
    "Next, we'll provide examples of uniform amplitudes ($T_N=750,5000$ s), power-law($T_N=2000$ s) and scaling($b=1,2$ $T_N=2000$ s)."
   ]
  },
  {
   "cell_type": "code",
   "execution_count": 93,
   "metadata": {
    "collapsed": true
   },
   "outputs": [],
   "source": [
    "#read the xml file for alpha=uniform, tn=750,5000 to get the start times and amplitudes\n",
    "tree = ET.parse(f_template%(species,'uniform',loop_length,'1000','euler',loop_length,'1000','euler'))\n",
    "root = tree.getroot()"
   ]
  },
  {
   "cell_type": "code",
   "execution_count": 94,
   "metadata": {
    "collapsed": false
   },
   "outputs": [],
   "source": [
    "#get amplitude, start and end times\n",
    "h0 = np.float(root.find('h_nano').text)\n",
    "st_array = []\n",
    "et_array = []\n",
    "for child in root.find('start_time_array'):\n",
    "    st_array.append(np.float(child.text))\n",
    "for child in root.find('end_time_array'):\n",
    "    et_array.append(np.float(child.text))\n",
    "st_array = np.array(st_array)\n",
    "et_array = np.array(et_array)\n",
    "amp_array = h0*np.ones(len(st_array))"
   ]
  },
  {
   "cell_type": "code",
   "execution_count": 95,
   "metadata": {
    "collapsed": false
   },
   "outputs": [],
   "source": [
    "#make heating function\n",
    "t=np.arange(0,total_time)\n",
    "heat_750_uni = np.zeros(len(t))\n",
    "for i in range(len(t)):\n",
    "    heat_750_uni[i] = get_heating_function(t[i],st_array,et_array,amp_array,3.4e-6)"
   ]
  },
  {
   "cell_type": "code",
   "execution_count": 96,
   "metadata": {
    "collapsed": true
   },
   "outputs": [],
   "source": [
    "#similarly for tn=5000 s\n",
    "tree = ET.parse(f_template%(species,'uniform',loop_length,'5000','euler',loop_length,'5000','euler'))\n",
    "root = tree.getroot()\n",
    "#get amplitude, start and end times\n",
    "h0 = np.float(root.find('h_nano').text)\n",
    "st_array = []\n",
    "et_array = []\n",
    "for child in root.find('start_time_array'):\n",
    "    st_array.append(np.float(child.text))\n",
    "for child in root.find('end_time_array'):\n",
    "    et_array.append(np.float(child.text))\n",
    "st_array = np.array(st_array)\n",
    "et_array = np.array(et_array)\n",
    "amp_array = h0*np.ones(len(st_array))\n",
    "#make heating function\n",
    "heat_5000_uni = np.zeros(len(t))\n",
    "for i in range(len(t)):\n",
    "    heat_5000_uni[i] = get_heating_function(t[i],st_array,et_array,amp_array,3.4e-6)"
   ]
  },
  {
   "cell_type": "code",
   "execution_count": 97,
   "metadata": {
    "collapsed": true
   },
   "outputs": [],
   "source": [
    "#now do the same for the two scaling power-law cases but heating amplitudes can be loaded in"
   ]
  },
  {
   "cell_type": "code",
   "execution_count": 98,
   "metadata": {
    "collapsed": true
   },
   "outputs": [],
   "source": [
    "tree = ET.parse(f_template%(species,alpha,loop_length,'2000-b1.0','rka4',loop_length,'2000-b1.0','rka4'))\n",
    "root = tree.getroot()\n",
    "amp_array = []\n",
    "st_array = []\n",
    "et_array = []\n",
    "for child in root.find('amp_array'):\n",
    "    amp_array.append(np.float(child.text))\n",
    "amp_array = np.array(amp_array)\n",
    "for child in root.find('start_time_array'):\n",
    "    st_array.append(np.float(child.text))\n",
    "at_array = np.array(st_array)\n",
    "for child in root.find('end_time_array'):\n",
    "    et_array.append(np.float(child.text))\n",
    "et_array = np.array(et_array)"
   ]
  },
  {
   "cell_type": "code",
   "execution_count": 99,
   "metadata": {
    "collapsed": true
   },
   "outputs": [],
   "source": [
    "heat_b1_pl = np.zeros(len(t))\n",
    "for i in range(len(t)):\n",
    "    heat_b1_pl[i] = get_heating_function(t[i],st_array,et_array,amp_array,3.4e-6)"
   ]
  },
  {
   "cell_type": "code",
   "execution_count": 100,
   "metadata": {
    "collapsed": true
   },
   "outputs": [],
   "source": [
    "tree = ET.parse(f_template%(species,alpha,loop_length,'2000-b2.0','rka4',loop_length,'2000-b2.0','rka4'))\n",
    "root = tree.getroot()\n",
    "amp_array = []\n",
    "st_array = []\n",
    "et_array = []\n",
    "for child in root.find('amp_array'):\n",
    "    amp_array.append(np.float(child.text))\n",
    "amp_array = np.array(amp_array)\n",
    "for child in root.find('start_time_array'):\n",
    "    st_array.append(np.float(child.text))\n",
    "at_array = np.array(st_array)\n",
    "for child in root.find('end_time_array'):\n",
    "    et_array.append(np.float(child.text))\n",
    "et_array = np.array(et_array)"
   ]
  },
  {
   "cell_type": "code",
   "execution_count": 101,
   "metadata": {
    "collapsed": true
   },
   "outputs": [],
   "source": [
    "heat_b2_pl = np.zeros(len(t))\n",
    "for i in range(len(t)):\n",
    "    heat_b2_pl[i] = get_heating_function(t[i],st_array,et_array,amp_array,3.4e-6)"
   ]
  },
  {
   "cell_type": "code",
   "execution_count": 102,
   "metadata": {
    "collapsed": true
   },
   "outputs": [],
   "source": [
    "#for the no wait-time case, we can just load in the amplitude data from the text file\n",
    "amp_array = np.loadtxt('/data/datadrive2/EBTEL-2fluid_runs/electron_heating_runs/alpha1.5/data/ebtel_L40.0_tn2000_tpulse100.0_rka4/ebtel_L40.0_tn2000_tpulse100.0_rka4_0_heat_amp.txt')"
   ]
  },
  {
   "cell_type": "code",
   "execution_count": 103,
   "metadata": {
    "collapsed": true
   },
   "outputs": [],
   "source": [
    "#load the start and end times normally\n",
    "tree = ET.parse(f_template%(species,alpha,loop_length,'2000','rka4',loop_length,'2000','rka4'))\n",
    "root = tree.getroot()\n",
    "st_array = []\n",
    "et_array = []\n",
    "for child in root.find('start_time_array'):\n",
    "    st_array.append(np.float(child.text))\n",
    "at_array = np.array(st_array)\n",
    "for child in root.find('end_time_array'):\n",
    "    et_array.append(np.float(child.text))\n",
    "et_array = np.array(et_array)"
   ]
  },
  {
   "cell_type": "code",
   "execution_count": 104,
   "metadata": {
    "collapsed": true
   },
   "outputs": [],
   "source": [
    "heat_pl = np.zeros(len(t))\n",
    "for i in range(len(t)):\n",
    "    heat_pl[i] = get_heating_function(t[i],st_array,et_array,amp_array,3.4e-6)"
   ]
  },
  {
   "cell_type": "code",
   "execution_count": 109,
   "metadata": {
    "collapsed": false
   },
   "outputs": [
    {
     "data": {
      "image/png": "[encoded data removed]",
      "text/plain": [
       "<matplotlib.figure.Figure at 0x7efbe6e9c048>"
      ]
     },
     "metadata": {},
     "output_type": "display_data"
    }
   ],
   "source": [
    "#plot the results\n",
    "fig,ax = plt.subplots(2,2,figsize=mt_figsize,sharex=True,sharey=True)\n",
    "plt.subplots_adjust(hspace=0,wspace=0)\n",
    "#plot\n",
    "ax[0,0].plot(t,heat_5000_uni)\n",
    "ax[1,0].plot(t,heat_750_uni)\n",
    "ax[0,1].plot(t,heat_pl)\n",
    "ax[1,1].plot(t,heat_b1_pl,'b',label=r'$b=1$')\n",
    "ax[1,1].plot(t,heat_b2_pl,'r',label=r'$b=2$')\n",
    "#cosmetic\n",
    "\n",
    "#labels\n",
    "fig.text(0.5, 0.04, r'$t$ (s)', ha='center', va='center',fontsize=mt_fs)\n",
    "fig.text(0.06, 0.5, r'$E_H$ (erg cm$^{-3}$ s$^{-1}$)', ha='center', va='center', rotation='vertical',fontsize=mt_fs)\n",
    "ax[1,1].legend()\n",
    "plt.show()"
   ]
  },
  {
   "cell_type": "code",
   "execution_count": null,
   "metadata": {
    "collapsed": true
   },
   "outputs": [],
   "source": []
  }
 ],
 "metadata": {
  "kernelspec": {
   "display_name": "Python 3",
   "language": "python",
   "name": "python3"
  },
  "language_info": {
   "codemirror_mode": {
    "name": "ipython",
    "version": 3
   },
   "file_extension": ".py",
   "mimetype": "text/x-python",
   "name": "python",
   "nbconvert_exporter": "python",
   "pygments_lexer": "ipython3",
   "version": "3.4.0"
  }
 },
 "nbformat": 4,
 "nbformat_minor": 0
}
