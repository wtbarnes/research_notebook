{
 "cells": [
  {
   "cell_type": "markdown",
   "metadata": {},
   "source": [
    "# Maximum Likelihood Estimation: Bounded Power-law Distributions"
   ]
  },
  {
   "cell_type": "code",
   "execution_count": 10,
   "metadata": {
    "collapsed": false
   },
   "outputs": [],
   "source": [
    "import os\n",
    "import sys\n",
    "\n",
    "import numpy as np\n",
    "import scipy.optimize\n",
    "from astroML import density_estimation\n",
    "import matplotlib.pyplot as plt\n",
    "import seaborn as sns\n",
    "\n",
    "sys.path.append(os.path.join(os.environ['RESEARCH_DIR'],'EBTEL_analysis/src'))\n",
    "import ebtel_plot as ebp\n",
    "%matplotlib inline"
   ]
  },
  {
   "cell_type": "markdown",
   "metadata": {},
   "source": [
    "When estimating the slope of a supposed power-law distribution for limited sample size, using a log-transform combined with least-squares fitting can yield incorrect results (e.g. see [d'Huys et al., 2016](http://adsabs.harvard.edu/abs/2016arXiv160506972D)).\n",
    "\n",
    "It is better instead to use __maximum likelihood estimation__ (or MLE) to estimate this slope $\\alpha$. For a power-law distribution $p\\sim x^{-\\alpha}$ with a lower-bound of $x_{min}$, the estimate is simply,\n",
    "$$\n",
    "\\hat{\\alpha} = \\sum_{i=1}^{n}\\log\\left(\\frac{x_i}{x_{min}}\\right) + 1.\n",
    "$$\n",
    "\n",
    "This assumes an upper bound of $\\infty$. It turns out that for those distributions that have a finite upper bound (call it $x_{max}$), this estimate is not appropriate (e.g. see [Langlois et al., 2014](http://link.aps.org/doi/10.1103/PhysRevE.89.012709)). A power-law bounded by both $x_{min}$ and $x_{max}$ is given by\n",
    "$$\n",
    "p(x) = \\frac{1-\\alpha}{x_{max}^{1-\\alpha} - x_{min}^{1-\\alpha}}x^{-\\alpha}.\n",
    "$$\n",
    "\n",
    "Calculating the probability $P(x|\\alpha)$ of a given $\\alpha$ and the log-likelihood function $\\mathcal{L}$, one can calculate $\\partial\\mathcal{L}/\\partial\\alpha=0$ as, \n",
    "$$\n",
    "0 = -\\sum_{i=1}^{n}\\log{x_i} + \\frac{n}{\\alpha - 1} + \\frac{n}{x_{min}^{1-\\alpha} - x_{max}^{1-\\alpha}}(x_{min}^{1-\\alpha}\\log{x_{min}} - x_{max}^{1-\\alpha}\\log{x_{max}}).\n",
    "$$\n",
    "\n",
    "The value of $\\alpha$ which most closely satisfies this expression (i.e. _maximizes_ the log-likelihood) is the best estimate of $\\alpha$ for our distribution."
   ]
  },
  {
   "cell_type": "markdown",
   "metadata": {},
   "source": [
    "First, define a function for generating power-law distributions."
   ]
  },
  {
   "cell_type": "code",
   "execution_count": 11,
   "metadata": {
    "code_folding": [
     0
    ],
    "collapsed": true
   },
   "outputs": [],
   "source": [
    "def pl_dist(xmin,xmax,alpha,x):\n",
    "        return ((xmax**(-alpha+1) - xmin**(-alpha+1))*x + xmin**(-alpha+1))**(1/(-alpha+1))"
   ]
  },
  {
   "cell_type": "markdown",
   "metadata": {},
   "source": [
    "Now, define a function that fits the data using a log-transform/least squares approch."
   ]
  },
  {
   "cell_type": "code",
   "execution_count": 12,
   "metadata": {
    "code_folding": [
     0
    ],
    "collapsed": true
   },
   "outputs": [],
   "source": [
    "def graphical(x,noise_thresh=0.01,truncate=True):\n",
    "    #Compute the histogram\n",
    "    _,bins = density_estimation.freedman_bin_width(x,return_bins=True)\n",
    "    hist,edges = np.histogram(x,bins=bins)\n",
    "    centers = np.diff(edges)/2.0+edges[0:-1]\n",
    "    #Filter\n",
    "    noise = np.where(hist <= int(np.max(hist)*noise_thresh))\n",
    "    if len(noise[0]) > 0 and truncate:\n",
    "        hist = hist[0:noise[0][0]]\n",
    "        centers = centers[0:noise[0][0]]\n",
    "    #Log transform\n",
    "    centers = np.log10(centers)\n",
    "    hist = np.log10(hist)\n",
    "    #Fit function\n",
    "    def f(x,a,b):\n",
    "        return a*x + b\n",
    "    #Fitting\n",
    "    pars,covar = scipy.optimize.curve_fit(f,centers,hist,sigma=np.sqrt(hist))\n",
    "    #Uncertainty\n",
    "    try:\n",
    "        sigma = np.sqrt(np.diag(covar))\n",
    "    except:\n",
    "        sigma = [0.0,0.0]\n",
    "        pass\n",
    "    \n",
    "    return {'alpha':pars[0],'sigma':sigma[0]}"
   ]
  },
  {
   "cell_type": "markdown",
   "metadata": {},
   "source": [
    "Finally, define a function that uses our new numerical MLE method."
   ]
  },
  {
   "cell_type": "code",
   "execution_count": 13,
   "metadata": {
    "code_folding": [
     0
    ],
    "collapsed": true
   },
   "outputs": [],
   "source": [
    "def mle(x,xmin,xmax,alpha_bounds=[1.1,10]):\n",
    "    #define mle function\n",
    "    def f_mle(alpha,xi,x_min,x_max):\n",
    "        n = len(xi)\n",
    "        term1 = -np.sum(np.log(xi))\n",
    "        term2 = n/(alpha - 1.0)\n",
    "        term3a = n/(x_min**(1.0-alpha) - x_max**(1.0-alpha))\n",
    "        term3b = x_min**(1.0-alpha)*np.log(x_min) - x_max**(1.0-alpha)*np.log(x_max)\n",
    "        return term1 + term2 + term3a*term3b\n",
    "    \n",
    "    x0,r = scipy.optimize.brentq(f_mle,alpha_bounds[0],alpha_bounds[1],args=(x,xmin,xmax),full_output=True)\n",
    "    if r.converged:\n",
    "        return {'alpha':x0}\n",
    "    else:\n",
    "        print('Minimization not sucessful. Returning None')\n",
    "        return None"
   ]
  },
  {
   "cell_type": "markdown",
   "metadata": {},
   "source": [
    "Now run the two methods for a range of sample sizes and a given $\\alpha$ to see how they perform."
   ]
  },
  {
   "cell_type": "code",
   "execution_count": 21,
   "metadata": {
    "collapsed": false
   },
   "outputs": [
    {
     "name": "stderr",
     "output_type": "stream",
     "text": [
      "/opt/anaconda3/lib/python3.4/site-packages/ipykernel/__main__.py:7: DeprecationWarning: using a non-integer number instead of an integer will result in an error in the future\n",
      "/opt/anaconda3/lib/python3.4/site-packages/scipy/optimize/minpack.py:690: OptimizeWarning: Covariance of the parameters could not be estimated\n",
      "  category=OptimizeWarning)\n"
     ]
    }
   ],
   "source": [
    "alpha = 1.5\n",
    "a0,a1 = 0.0001,10.0\n",
    "sample_size = np.logspace(2,7,100)\n",
    "graphical_results,mle_results = [],[]\n",
    "for s in sample_size:\n",
    "    #Create distribution\n",
    "    xpl = pl_dist(a0,a1,alpha,np.random.rand(s))\n",
    "    #Graphical fitting\n",
    "    pl_instance = ebp.Plotter()\n",
    "    pl_instance.events = xpl\n",
    "    result = pl_instance.plot_event_distribution(show_plot=False)\n",
    "    graphical_results.append(result['graphical'])\n",
    "    #graphical_results.append(graphical(xpl,truncate=True,noise_thresh=1e-6))\n",
    "    #MLE\n",
    "    mle_results.append(mle(xpl,np.min(xpl),np.max(xpl),alpha_bounds=[1.1,5]))"
   ]
  },
  {
   "cell_type": "code",
   "execution_count": 23,
   "metadata": {
    "collapsed": false
   },
   "outputs": [
    {
     "data": {
      "image/png": "[encoded data removed]",
      "text/plain": [
       "<matplotlib.figure.Figure at 0x7fc08fc18cc0>"
      ]
     },
     "metadata": {},
     "output_type": "display_data"
    }
   ],
   "source": [
    "fig = plt.figure(figsize=(8,8))\n",
    "ax = fig.gca()\n",
    "ax.axhline(y=alpha,color='k',linestyle='--')\n",
    "for i in range(len(sample_size)):\n",
    "    graphical_line = ax.plot(sample_size[i],np.fabs(graphical_results[i]['alpha']),color=sns.color_palette('deep')[0],marker='o')\n",
    "    mle_line = ax.plot(sample_size[i],mle_results[i]['alpha'],color=sns.color_palette('deep')[2],marker='o')\n",
    "lines = graphical_line + mle_line\n",
    "ax.legend(lines,[r'Graphical',r'MLE'],loc='best')\n",
    "ax.set_ylim([1,2])\n",
    "ax.set_xscale('log')"
   ]
  },
  {
   "cell_type": "code",
   "execution_count": null,
   "metadata": {
    "collapsed": true
   },
   "outputs": [],
   "source": []
  }
 ],
 "metadata": {
  "kernelspec": {
   "display_name": "Python 3",
   "language": "python",
   "name": "python3"
  },
  "language_info": {
   "codemirror_mode": {
    "name": "ipython",
    "version": 3
   },
   "file_extension": ".py",
   "mimetype": "text/x-python",
   "name": "python",
   "nbconvert_exporter": "python",
   "pygments_lexer": "ipython3",
   "version": "3.4.4"
  }
 },
 "nbformat": 4,
 "nbformat_minor": 0
}
