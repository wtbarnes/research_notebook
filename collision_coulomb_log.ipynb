{
 "cells": [
  {
   "cell_type": "markdown",
   "metadata": {},
   "source": [
    "<h1>EBTEL Two-Fluid Equations: Collisional Frequency and the Coulomb Logarithm<h1\\>"
   ]
  },
  {
   "cell_type": "code",
   "execution_count": 124,
   "metadata": {
    "collapsed": false
   },
   "outputs": [],
   "source": [
    "import numpy as np\n",
    "import matplotlib.pyplot as plt\n",
    "import astropy.constants as astro_const\n",
    "from matplotlib.colors import LogNorm\n",
    "%matplotlib inline"
   ]
  },
  {
   "cell_type": "markdown",
   "metadata": {},
   "source": [
    "In the pressure equations for electrons and ions, there is a collisional term of the form $$\\frac{1}{\\gamma-1}k_Bn\\nu_{ei}(T_i - T_e)$$ where $$\\nu_{ei} = \\frac{16}{3}\\sqrt{\\pi}\\frac{e^4}{m_em_i}\\left(\\frac{2k_BT_e}{m_e}\\right)^{-3/2}n\\ln\\Lambda$$ is the collisional frequency."
   ]
  },
  {
   "cell_type": "markdown",
   "metadata": {},
   "source": [
    "<p>Define vectors for density and electron temperature</p>"
   ]
  },
  {
   "cell_type": "code",
   "execution_count": 125,
   "metadata": {
    "collapsed": false
   },
   "outputs": [],
   "source": [
    "n = np.linspace(10**5,10**10,100)\n",
    "Te = np.linspace(0.5*10**6,5*10**7,100)\n",
    "Ti = np.linspace(10**5,5.*10**6,100)"
   ]
  },
  {
   "cell_type": "markdown",
   "metadata": {},
   "source": [
    "<p>First, do some abundance calculations to factor in influence of heavier elements (i.e. He) in the plasma.<p>"
   ]
  },
  {
   "cell_type": "code",
   "execution_count": 126,
   "metadata": {
    "collapsed": false
   },
   "outputs": [
    {
     "name": "stdout",
     "output_type": "stream",
     "text": [
      "1.13043478261\n"
     ]
    }
   ],
   "source": [
    "#Define important constants here\n",
    "kb = astro_const.k_B.cgs.value\n",
    "mp = astro_const.m_p.cgs.value\n",
    "me = astro_const.m_e.cgs.value\n",
    "qe = astro_const.e.gauss.value\n",
    "abund = 0.075\n",
    "Z = (1. + 2.*abund)/(1. + abund)\n",
    "kb_fact = 1./2.*(1. + 1./Z)\n",
    "mp_fact = (1. + 4.*abund)/(2.+3.*abund)\n",
    "mu = mp_fact*(1./Z + 1.)\n",
    "mp = mp*mu\n",
    "kb = kb*kb_fact\n",
    "print mu"
   ]
  },
  {
   "cell_type": "markdown",
   "metadata": {},
   "source": [
    "<p>Define a function for the Coulomb logarithm. The first function uses that taken from the NRL plasma formulary while the second uses a form taken from <em>Plasma Dyanmics</em> by R.O. Dendy.</p>"
   ]
  },
  {
   "cell_type": "code",
   "execution_count": 127,
   "metadata": {
    "collapsed": false
   },
   "outputs": [],
   "source": [
    "def colLog(Te,Ti,n):\n",
    "    #Define electron and proton mass\n",
    "    \n",
    "    #Define the upper and lower temperature limits\n",
    "    Tup = Z*10.**2\n",
    "    Tdown = Ti*me/mp\n",
    "    \n",
    "    #Decide which function to use\n",
    "    if Te >= Tup:\n",
    "        lnLambda = 24 - np.log(sqrt(n)/Te)\n",
    "    elif Te >= Tdown:\n",
    "        lnLambda = 23 - np.log(np.sqrt(n)*Z*Te**(-3./2.))\n",
    "    else:\n",
    "        lnLambda = 30 - np.log(np.sqrt(n)*Ti**(-3./2.)*Z**2./mu)\n",
    "        \n",
    "    return lnLambda\n",
    "        "
   ]
  },
  {
   "cell_type": "code",
   "execution_count": 128,
   "metadata": {
    "collapsed": false
   },
   "outputs": [],
   "source": [
    "def colLog_dendy(Te,n):\n",
    "    #Define necessary constants\n",
    "    beta_1 = 1e+13\n",
    "    beta_2 = 1.602*1e-9\n",
    "    lnLambda = 18 - np.log((n/beta_1)**(1./2.)*(kb*Te/beta_2)**(-3./2.))\n",
    "    \n",
    "    return lnLambda"
   ]
  },
  {
   "cell_type": "code",
   "execution_count": 129,
   "metadata": {
    "collapsed": false
   },
   "outputs": [],
   "source": [
    "def colLog_mja(Te,n):\n",
    "    #Define necessary constants\n",
    "    beta_1 = 1.e+13\n",
    "    beta_2 = 1.602*1e-9\n",
    "    #lnLambda = 23 - log((n/beta_1)**(1./2.)*(kb*Te/beta_2)**(-3./2.))\n",
    "    lnLambda = np.log(8.*10**6*Te*n**(-1./2.))\n",
    "    \n",
    "    return lnLambda"
   ]
  },
  {
   "cell_type": "markdown",
   "metadata": {},
   "source": [
    "<p>Let's create some surface plots of the Coulomb logarithm to help visualize it</p>"
   ]
  },
  {
   "cell_type": "code",
   "execution_count": 130,
   "metadata": {
    "collapsed": false
   },
   "outputs": [],
   "source": [
    "#Set the ion temperature\n",
    "Ti =0.5*10.**5"
   ]
  },
  {
   "cell_type": "code",
   "execution_count": 131,
   "metadata": {
    "collapsed": false
   },
   "outputs": [],
   "source": [
    "cLog = np.zeros((len(n),len(Te)))\n",
    "for i in range(len(n)):\n",
    "    for j in range(len(Te)):\n",
    "        cLog[i,j] = colLog_dendy(Te[j],n[i])\n",
    "        #cLog[i,j] = colLog(Te[j],Ti[i],n)\n",
    "        #cLog[i,j] = colLog_mja(Te[j],n[i])"
   ]
  },
  {
   "cell_type": "code",
   "execution_count": 132,
   "metadata": {
    "collapsed": false
   },
   "outputs": [],
   "source": [
    "#Make meshgrid from n,Te vectors\n",
    "n_mesh,Te_mesh = np.meshgrid(n,Te)"
   ]
  },
  {
   "cell_type": "code",
   "execution_count": 134,
   "metadata": {
    "collapsed": false
   },
   "outputs": [
    {
     "data": {
      "image/png": "[encoded data removed]",
      "text/plain": [
       "<matplotlib.figure.Figure at 0x10db909d0>"
      ]
     },
     "metadata": {},
     "output_type": "display_data"
    }
   ],
   "source": [
    "#Now do the plotting\n",
    "fig=plt.figure(figsize=(10,7),dpi=1000)\n",
    "ax = fig.gca()\n",
    "surf = ax.pcolormesh(n_mesh,Te_mesh,cLog,cmap=plt.cm.coolwarm,norm=LogNorm())\n",
    "ax.set_xlabel(r'$n$ (cm$^{-3}$)',fontsize=22)\n",
    "ax.set_ylabel(r'$T_e$',fontsize=22)\n",
    "ax.set_title(r\"Coulomb Logarithm ($\\ln\\Lambda$)\",fontsize=22)\n",
    "ax.set_xlim([np.min(n_mesh),np.max(n_mesh)])\n",
    "ax.set_ylim([np.min(Te_mesh),np.max(Te_mesh)])\n",
    "ax.set_xscale('log')\n",
    "ax.set_yscale('log')\n",
    "fig.colorbar(surf,ax=ax)\n",
    "plt.show()"
   ]
  },
  {
   "cell_type": "markdown",
   "metadata": {},
   "source": [
    "<p>Now define the function for the collisional frequency</p>"
   ]
  },
  {
   "cell_type": "code",
   "execution_count": 135,
   "metadata": {
    "collapsed": false
   },
   "outputs": [],
   "source": [
    "def colFreq(Te,Ti,n):  \n",
    "    #lnLambda = colLog(Te,Ti,n)\n",
    "    lnLambda = colLog_dendy(Te,n)\n",
    "    \n",
    "    nu = 16./3.*np.sqrt(np.pi)*qe**4/me/mp*(2*kb*Te/me)**(-1.5)*n*lnLambda\n",
    "    \n",
    "    return nu"
   ]
  },
  {
   "cell_type": "code",
   "execution_count": 136,
   "metadata": {
    "collapsed": false
   },
   "outputs": [],
   "source": [
    "#Calculate the collisional frequency for each n,Te\n",
    "nu_ei = np.zeros((len(n),len(Te)))\n",
    "for i in range(len(n)):\n",
    "    for j in range(len(Te)):\n",
    "        nu_ei[i,j] = colFreq(Te[j],Ti,n[i]) \n",
    "        "
   ]
  },
  {
   "cell_type": "code",
   "execution_count": 137,
   "metadata": {
    "collapsed": false,
    "scrolled": false
   },
   "outputs": [
    {
     "data": {
      "image/png": "[encoded data removed]",
      "text/plain": [
       "<matplotlib.figure.Figure at 0x10d565510>"
      ]
     },
     "metadata": {},
     "output_type": "display_data"
    }
   ],
   "source": [
    "#Now do the plotting\n",
    "fig=plt.figure(figsize=(10,7),dpi=1000)\n",
    "ax = fig.gca()\n",
    "surf = ax.pcolormesh(n_mesh,Te_mesh,nu_ei,cmap=plt.cm.coolwarm,norm=LogNorm())\n",
    "ax.set_xlabel(r'$n$ (cm$^{-3}$)',fontsize=22)\n",
    "ax.set_ylabel(r'$T_e$ (K)',fontsize=22)\n",
    "ax.set_title(r\"Collisional Frequency ($\\nu_{ei}$)\",fontsize=22)\n",
    "ax.set_xlim([np.min(n_mesh),np.max(n_mesh)])\n",
    "ax.set_ylim([np.min(Te_mesh),np.max(Te_mesh)])\n",
    "ax.set_xscale('log')\n",
    "ax.set_yscale('log')\n",
    "fig.colorbar(surf,ax=ax)\n",
    "plt.show()"
   ]
  },
  {
   "cell_type": "code",
   "execution_count": 12,
   "metadata": {
    "collapsed": false
   },
   "outputs": [],
   "source": []
  }
 ],
 "metadata": {
  "kernelspec": {
   "display_name": "Python 2",
   "language": "python",
   "name": "python2"
  },
  "language_info": {
   "codemirror_mode": {
    "name": "ipython",
    "version": 2
   },
   "file_extension": ".py",
   "mimetype": "text/x-python",
   "name": "python",
   "nbconvert_exporter": "python",
   "pygments_lexer": "ipython2",
   "version": "2.7.9"
  }
 },
 "nbformat": 4,
 "nbformat_minor": 0
}
