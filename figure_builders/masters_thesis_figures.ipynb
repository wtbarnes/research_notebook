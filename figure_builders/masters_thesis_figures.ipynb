{
 "cells": [
  {
   "cell_type": "markdown",
   "metadata": {},
   "source": [
    "# Masters Thesis Figures"
   ]
  },
  {
   "cell_type": "markdown",
   "metadata": {},
   "source": [
    "Example figures for Masters Thesis, particularly for Heating Functions section."
   ]
  },
  {
   "cell_type": "code",
   "execution_count": 1,
   "metadata": {
    "collapsed": false
   },
   "outputs": [
    {
     "name": "stderr",
     "output_type": "stream",
     "text": [
      "/usr/lib/python3/dist-packages/matplotlib/__init__.py:1175: UserWarning:  This call to matplotlib.use() has no effect\n",
      "because the backend has already been chosen;\n",
      "matplotlib.use() must be called *before* pylab, matplotlib.pyplot,\n",
      "or matplotlib.backends is imported for the first time.\n",
      "\n",
      "  warnings.warn(_use_error_msg)\n",
      "/usr/lib/python3/dist-packages/matplotlib/__init__.py:1175: UserWarning:  This call to matplotlib.use() has no effect\n",
      "because the backend has already been chosen;\n",
      "matplotlib.use() must be called *before* pylab, matplotlib.pyplot,\n",
      "or matplotlib.backends is imported for the first time.\n",
      "\n",
      "  warnings.warn(_use_error_msg)\n"
     ]
    },
    {
     "data": {
      "text/plain": [
       "<module 'matplotlib.pyplot' from '/usr/lib/python3/dist-packages/matplotlib/pyplot.py'>"
      ]
     },
     "execution_count": 1,
     "metadata": {},
     "output_type": "execute_result"
    }
   ],
   "source": [
    "#import needed modules\n",
    "import numpy as np\n",
    "import matplotlib.pyplot as plt\n",
    "#plt.style.use('bmh')\n",
    "from matplotlib import ticker\n",
    "import sys\n",
    "import itertools\n",
    "import xml.etree.ElementTree as ET\n",
    "from imp import reload\n",
    "%matplotlib inline\n",
    "#ebtel modules\n",
    "sys.path.append('/home/wtb2/Documents/EBTEL_analysis/src/')\n",
    "import ebtel_plot as ebp\n",
    "reload(ebp)\n",
    "reload(plt)"
   ]
  },
  {
   "cell_type": "code",
   "execution_count": 2,
   "metadata": {
    "collapsed": true
   },
   "outputs": [],
   "source": [
    "#set some static parameters for formatting figures\n",
    "mt_fs = 22.0\n",
    "mt_figsize = (8,8*3/4)\n",
    "mt_format = 'pdf'\n",
    "mt_dpi = 1000\n",
    "#set some default input parameters for our example cases\n",
    "loop_length=40.0\n",
    "alpha=1.5\n",
    "species='electron'\n",
    "tpulse=100.0\n",
    "total_time = 8.0e+4\n",
    "f_template = '/data/datadrive2/EBTEL-2fluid_runs/%s_heating_runs/alpha%s/config/ebtel_L%.1f_tn%s_tpulse100.0_%s/ebtel_L%.1f_tn%s_tpulse100.0_%s_0.xml'"
   ]
  },
  {
   "cell_type": "code",
   "execution_count": 3,
   "metadata": {
    "collapsed": true
   },
   "outputs": [],
   "source": [
    "#define some useful functions\n",
    "def get_heating_function(t,t_start,t_end,amp,h_bg):\n",
    "    heat = h_bg\n",
    "    for i in range(len(t_start)):\n",
    "        if t_start[i] <= t <= t_end[i]:\n",
    "            t_mid = t_start[i] + (t_end[i] - t_start[i])/2.0\n",
    "            if t < t_mid:\n",
    "                heat = heat + amp[i]/((t_end[i]-t_start[i])/2.0)*(t - t_start[i])\n",
    "            else:\n",
    "                heat = heat - amp[i]/((t_end[i]-t_start[i])/2.0)*(t - t_end[i])\n",
    "                \n",
    "    return heat\n",
    "\n",
    "def tick_maker(old_ticks,n):\n",
    "    if n < 2:\n",
    "        raise ValueError('n must be greater than 1')\n",
    "        \n",
    "    n = n-1\n",
    "    delta = (old_ticks[-1] - old_ticks[0])/n\n",
    "    new_ticks = []\n",
    "    for i in range(n):\n",
    "        new_ticks.append(old_ticks[0] + i*delta)\n",
    "        \n",
    "    new_ticks.append(old_ticks[0] + n*delta)\n",
    "    return new_ticks\n",
    "\n",
    "def my_formatter_2f(x,p):\n",
    "    return \"%.2f\" % (x)\n",
    "\n",
    "def my_formatter_1f(x,p):\n",
    "    return \"%.1f\" % (x)\n",
    "\n",
    "def calc_total_events(t_tot,t_pulse,t_n,N_tot):\n",
    "    N_N = int(np.ceil(t_tot/(t_pulse+t_n)))\n",
    "    N_MC = int(np.ceil(N_tot/N_N))\n",
    "    return N_N,N_MC\n",
    "\n",
    "def data_loader(species,alpha,loop_length,t_wait,tot_events):\n",
    "    tot_event_list = []\n",
    "    file_format = '/data/datadrive2/EBTEL-2fluid_runs/%s_heating_runs/alpha%s/data/ebtel_L%.1f_tn%d_tpulse100.0_rka4/ebtel_L%.1f_tn%d_tpulse100.0_rka4_%d_heat_amp.txt'\n",
    "    for i in range(tot_events):\n",
    "        temp = np.loadtxt(file_format%(species,str(alpha),loop_length,t_wait,loop_length,t_wait,i))\n",
    "        tot_event_list.append(temp)\n",
    "    #flatten list\n",
    "    tot_event_list = list(itertools.chain(*tot_event_list))\n",
    "    return tot_event_list"
   ]
  },
  {
   "cell_type": "markdown",
   "metadata": {},
   "source": [
    "## Event Amplitude Histogram"
   ]
  },
  {
   "cell_type": "markdown",
   "metadata": {},
   "source": [
    "Build histogram of event amplitudes for example values of $\\alpha,L,T_N$. Really only need one as they all should look about the same."
   ]
  },
  {
   "cell_type": "code",
   "execution_count": 4,
   "metadata": {
    "collapsed": false
   },
   "outputs": [
    {
     "name": "stdout",
     "output_type": "stream",
     "text": [
      "No file specified. Variable namespace will not be populated.\n"
     ]
    }
   ],
   "source": [
    "plotter = ebp.Plotter(dpi=mt_dpi,format=mt_format,figsize=mt_figsize,fs=mt_fs)"
   ]
  },
  {
   "cell_type": "code",
   "execution_count": 5,
   "metadata": {
    "collapsed": false
   },
   "outputs": [],
   "source": [
    "plotter.events = data_loader(species,alpha,loop_length,5000,calc_total_events(total_time,tpulse,5000,1e+4)[1])"
   ]
  },
  {
   "cell_type": "code",
   "execution_count": 6,
   "metadata": {
    "collapsed": false
   },
   "outputs": [
    {
     "data": {
      "text/plain": [
       "(-1.5759555567172034, 0.080641361266988537)"
      ]
     },
     "execution_count": 6,
     "metadata": {},
     "output_type": "execute_result"
    }
   ],
   "source": [
    "plotter.plot_event_distribution(print_fig_filename='../masters_thesis_figs/event_dist')"
   ]
  },
  {
   "cell_type": "markdown",
   "metadata": {},
   "source": [
    "## Example Heating Function Profiles"
   ]
  },
  {
   "cell_type": "markdown",
   "metadata": {},
   "source": [
    "Next, we'll provide examples of uniform amplitudes ($T_N=750,5000$ s), power-law($T_N=2000$ s) and scaling($b=1,2$ $T_N=2000$ s)."
   ]
  },
  {
   "cell_type": "code",
   "execution_count": 7,
   "metadata": {
    "collapsed": true
   },
   "outputs": [],
   "source": [
    "#read the xml file for alpha=uniform, tn=750,5000 to get the start times and amplitudes\n",
    "tree = ET.parse(f_template%(species,'uniform',loop_length,'1000','euler',loop_length,'1000','euler'))\n",
    "root = tree.getroot()"
   ]
  },
  {
   "cell_type": "code",
   "execution_count": 8,
   "metadata": {
    "collapsed": false
   },
   "outputs": [],
   "source": [
    "#get amplitude, start and end times\n",
    "h0 = np.float(root.find('h_nano').text)\n",
    "st_array = []\n",
    "et_array = []\n",
    "for child in root.find('start_time_array'):\n",
    "    st_array.append(np.float(child.text))\n",
    "for child in root.find('end_time_array'):\n",
    "    et_array.append(np.float(child.text))\n",
    "st_array = np.array(st_array)\n",
    "et_array = np.array(et_array)\n",
    "amp_array = h0*np.ones(len(st_array))"
   ]
  },
  {
   "cell_type": "code",
   "execution_count": 9,
   "metadata": {
    "collapsed": false
   },
   "outputs": [],
   "source": [
    "#make heating function\n",
    "t=np.arange(0,total_time)\n",
    "heat_750_uni = np.zeros(len(t))\n",
    "for i in range(len(t)):\n",
    "    heat_750_uni[i] = get_heating_function(t[i],st_array,et_array,amp_array,3.4e-6)"
   ]
  },
  {
   "cell_type": "code",
   "execution_count": 10,
   "metadata": {
    "collapsed": true
   },
   "outputs": [],
   "source": [
    "#similarly for tn=5000 s\n",
    "tree = ET.parse(f_template%(species,'uniform',loop_length,'5000','euler',loop_length,'5000','euler'))\n",
    "root = tree.getroot()\n",
    "#get amplitude, start and end times\n",
    "h0 = np.float(root.find('h_nano').text)\n",
    "st_array = []\n",
    "et_array = []\n",
    "for child in root.find('start_time_array'):\n",
    "    st_array.append(np.float(child.text))\n",
    "for child in root.find('end_time_array'):\n",
    "    et_array.append(np.float(child.text))\n",
    "st_array = np.array(st_array)\n",
    "et_array = np.array(et_array)\n",
    "amp_array = h0*np.ones(len(st_array))\n",
    "#make heating function\n",
    "heat_5000_uni = np.zeros(len(t))\n",
    "for i in range(len(t)):\n",
    "    heat_5000_uni[i] = get_heating_function(t[i],st_array,et_array,amp_array,3.4e-6)"
   ]
  },
  {
   "cell_type": "code",
   "execution_count": 11,
   "metadata": {
    "collapsed": true
   },
   "outputs": [],
   "source": [
    "#now do the same for the two scaling power-law cases but heating amplitudes can be loaded in"
   ]
  },
  {
   "cell_type": "code",
   "execution_count": 12,
   "metadata": {
    "collapsed": true
   },
   "outputs": [],
   "source": [
    "tree = ET.parse(f_template%(species,alpha,loop_length,'2000-b1.0','rka4',loop_length,'2000-b1.0','rka4'))\n",
    "root = tree.getroot()\n",
    "amp_array = []\n",
    "st_array = []\n",
    "et_array = []\n",
    "for child in root.find('amp_array'):\n",
    "    amp_array.append(np.float(child.text))\n",
    "amp_array = np.array(amp_array)\n",
    "for child in root.find('start_time_array'):\n",
    "    st_array.append(np.float(child.text))\n",
    "at_array = np.array(st_array)\n",
    "for child in root.find('end_time_array'):\n",
    "    et_array.append(np.float(child.text))\n",
    "et_array = np.array(et_array)"
   ]
  },
  {
   "cell_type": "code",
   "execution_count": 13,
   "metadata": {
    "collapsed": true
   },
   "outputs": [],
   "source": [
    "heat_b1_pl = np.zeros(len(t))\n",
    "for i in range(len(t)):\n",
    "    heat_b1_pl[i] = get_heating_function(t[i],st_array,et_array,amp_array,3.4e-6)"
   ]
  },
  {
   "cell_type": "code",
   "execution_count": 14,
   "metadata": {
    "collapsed": true
   },
   "outputs": [],
   "source": [
    "tree = ET.parse(f_template%(species,alpha,loop_length,'2000-b2.0','rka4',loop_length,'2000-b2.0','rka4'))\n",
    "root = tree.getroot()\n",
    "amp_array = []\n",
    "st_array = []\n",
    "et_array = []\n",
    "for child in root.find('amp_array'):\n",
    "    amp_array.append(np.float(child.text))\n",
    "amp_array = np.array(amp_array)\n",
    "for child in root.find('start_time_array'):\n",
    "    st_array.append(np.float(child.text))\n",
    "at_array = np.array(st_array)\n",
    "for child in root.find('end_time_array'):\n",
    "    et_array.append(np.float(child.text))\n",
    "et_array = np.array(et_array)"
   ]
  },
  {
   "cell_type": "code",
   "execution_count": 15,
   "metadata": {
    "collapsed": true
   },
   "outputs": [],
   "source": [
    "heat_b2_pl = np.zeros(len(t))\n",
    "for i in range(len(t)):\n",
    "    heat_b2_pl[i] = get_heating_function(t[i],st_array,et_array,amp_array,3.4e-6)"
   ]
  },
  {
   "cell_type": "code",
   "execution_count": 16,
   "metadata": {
    "collapsed": true
   },
   "outputs": [],
   "source": [
    "#for the no wait-time case, we can just load in the amplitude data from the text file\n",
    "amp_array = np.loadtxt('/data/datadrive2/EBTEL-2fluid_runs/electron_heating_runs/alpha1.5/data/ebtel_L40.0_tn2000_tpulse100.0_rka4/ebtel_L40.0_tn2000_tpulse100.0_rka4_0_heat_amp.txt')"
   ]
  },
  {
   "cell_type": "code",
   "execution_count": 17,
   "metadata": {
    "collapsed": true
   },
   "outputs": [],
   "source": [
    "#load the start and end times normally\n",
    "tree = ET.parse(f_template%(species,alpha,loop_length,'2000','rka4',loop_length,'2000','rka4'))\n",
    "root = tree.getroot()\n",
    "st_array = []\n",
    "et_array = []\n",
    "for child in root.find('start_time_array'):\n",
    "    st_array.append(np.float(child.text))\n",
    "at_array = np.array(st_array)\n",
    "for child in root.find('end_time_array'):\n",
    "    et_array.append(np.float(child.text))\n",
    "et_array = np.array(et_array)"
   ]
  },
  {
   "cell_type": "code",
   "execution_count": 18,
   "metadata": {
    "collapsed": true
   },
   "outputs": [],
   "source": [
    "heat_pl = np.zeros(len(t))\n",
    "for i in range(len(t)):\n",
    "    heat_pl[i] = get_heating_function(t[i],st_array,et_array,amp_array,3.4e-6)"
   ]
  },
  {
   "cell_type": "code",
   "execution_count": 19,
   "metadata": {
    "collapsed": false
   },
   "outputs": [
    {
     "data": {
      "image/png": "[encoded data removed]",
      "text/plain": [
       "<matplotlib.figure.Figure at 0x7f35cafe1c50>"
      ]
     },
     "metadata": {},
     "output_type": "display_data"
    }
   ],
   "source": [
    "#plot the results\n",
    "fig,axes = plt.subplots(2,2,figsize=mt_figsize,sharex=False,sharey=False)\n",
    "plt.subplots_adjust(hspace=0,wspace=0)\n",
    "#plot\n",
    "axes[0,1].plot(t,heat_5000_uni)\n",
    "axes[0,0].plot(t,heat_750_uni)\n",
    "axes[1,0].plot(t,heat_pl)\n",
    "axes[1,1].plot(t,heat_b1_pl,'b',label=r'$\\beta=1$')\n",
    "axes[1,1].plot(t,heat_b2_pl,'r',label=r'$\\beta=2$')\n",
    "#cosmetic\n",
    "#fontsize\n",
    "axes[0,0].tick_params(axis='both',labelsize=0.65*mt_fs,pad=8)\n",
    "axes[0,1].tick_params(axis='both',labelsize=0.65*mt_fs,pad=8)\n",
    "axes[1,0].tick_params(axis='both',labelsize=0.65*mt_fs,pad=8)\n",
    "axes[1,1].tick_params(axis='both',labelsize=0.65*mt_fs,pad=8)\n",
    "#set intervals\n",
    "for i in range(2):\n",
    "    for j in range(2):\n",
    "        axes[i,j].set_ylim([0,1.2])\n",
    "        axes[i,j].set_xticks(tick_maker(axes[i,j].get_xticks(),5))\n",
    "        axes[i,j].set_yticks(tick_maker(axes[i,j].get_yticks(),5))\n",
    "#prune and turn off visibility\n",
    "axes[0,0].set_yticks(axes[0,0].get_yticks()[1:])\n",
    "axes[0,0].set_xticks([])\n",
    "axes[0,1].set_xticks([])\n",
    "axes[0,1].set_yticks([])\n",
    "axes[1,1].set_yticks([])\n",
    "axes[1,1].set_xticks(axes[1,1].get_xticks()[1:])\n",
    "#labels\n",
    "fig.text(0.5, 0.04, r'$t$ $\\mathrm{(s)}$', ha='center', va='center',fontsize=mt_fs)\n",
    "fig.text(0.04, 0.5, r'$E_H$ $(\\mathrm{erg}$ $\\mathrm{cm}^{-3}$ $\\mathrm{s}^{-1}\\mathrm{)}$', ha='center', va='center', rotation='vertical',fontsize=mt_fs)\n",
    "axes[1,1].legend(fontsize=0.65*mt_fs,frameon=True)\n",
    "plt.savefig('/home/wtb2/Documents/papers/hot_non-flaring_plasma_2/figures/heating_functions.'+mt_format,format=mt_format,dpi=mt_dpi)"
   ]
  },
  {
   "cell_type": "code",
   "execution_count": null,
   "metadata": {
    "collapsed": true
   },
   "outputs": [],
   "source": []
  }
 ],
 "metadata": {
  "kernelspec": {
   "display_name": "Python 3",
   "language": "python",
   "name": "python3"
  },
  "language_info": {
   "codemirror_mode": {
    "name": "ipython",
    "version": 3
   },
   "file_extension": ".py",
   "mimetype": "text/x-python",
   "name": "python",
   "nbconvert_exporter": "python",
   "pygments_lexer": "ipython3",
   "version": "3.4.3"
  }
 },
 "nbformat": 4,
 "nbformat_minor": 0
}
