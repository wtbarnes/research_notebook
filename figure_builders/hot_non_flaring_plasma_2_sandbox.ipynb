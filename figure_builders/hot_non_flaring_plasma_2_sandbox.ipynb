{
 "cells": [
  {
   "cell_type": "markdown",
   "metadata": {},
   "source": [
    "# Hot Plasma II. Sandbox\n",
    "\n",
    "Play around with some figures for Paper II"
   ]
  },
  {
   "cell_type": "code",
   "execution_count": 41,
   "metadata": {
    "collapsed": false
   },
   "outputs": [
    {
     "name": "stderr",
     "output_type": "stream",
     "text": [
      "/opt/anaconda3/lib/python3.4/site-packages/matplotlib/__init__.py:1350: UserWarning:  This call to matplotlib.use() has no effect\n",
      "because the backend has already been chosen;\n",
      "matplotlib.use() must be called *before* pylab, matplotlib.pyplot,\n",
      "or matplotlib.backends is imported for the first time.\n",
      "\n",
      "  warnings.warn(_use_error_msg)\n"
     ]
    }
   ],
   "source": [
    "import sys\n",
    "import os\n",
    "from random import randint\n",
    "from imp import reload\n",
    "import pickle\n",
    "import xml.etree.ElementTree as ET\n",
    "import pandas as pd\n",
    "from astroML import density_estimation\n",
    "from scipy import interpolate\n",
    "import numpy as np\n",
    "import matplotlib.pyplot as plt\n",
    "from matplotlib.colors import LogNorm\n",
    "from matplotlib import colorbar\n",
    "from matplotlib.ticker import NullFormatter\n",
    "import seaborn.apionly as sns\n",
    "plt.style.use('papers')\n",
    "sys.path.append(os.path.join(os.environ['RESEARCH_DIR'],'EBTEL_analysis/src/'))\n",
    "import ebtel_dem as ebd\n",
    "import ebtel_plot_em as ebpe\n",
    "reload(ebd)\n",
    "reload(ebpe)\n",
    "%matplotlib inline"
   ]
  },
  {
   "cell_type": "code",
   "execution_count": 42,
   "metadata": {
    "collapsed": false
   },
   "outputs": [],
   "source": [
    "figname = 'ebtel_L40.0_tpulse200.0_alpha%s_%s_heating.lvl2_em_statistics.pickle'\n",
    "data_root_ieq='/data/datadrive2/EBTEL_figs/%s_heating_runs/alpha%s'\n",
    "data_root_nei='/data/datadrive2/IonPopSolver_figs/%s_heating_runs/alpha%s'"
   ]
  },
  {
   "cell_type": "markdown",
   "metadata": {},
   "source": [
    "## Density at Onset of Heating Event for given $t_N$"
   ]
  },
  {
   "cell_type": "markdown",
   "metadata": {},
   "source": [
    "At Peter's suggestion, try just comparing a $T,n$ timeseries for a single-heating frequency, one with the wait-time scaling and one without. "
   ]
  },
  {
   "cell_type": "code",
   "execution_count": null,
   "metadata": {
    "collapsed": false
   },
   "outputs": [],
   "source": [
    "tn=5000\n",
    "run_no=0\n",
    "fnf_flag=False\n",
    "fig,axes=plt.subplots(3,1,figsize=(10,8))\n",
    "while not fnf_flag:\n",
    "    #load data\n",
    "    try:\n",
    "        data_scaling=np.loadtxt(os.path.join(data_root%('electron','1.5'),'data',fn_temp%(tn,'-b1.0'),fn_temp%(tn,'-b1.0'))+'_%d.txt'%run_no)\n",
    "        data_no_scaling=np.loadtxt(os.path.join(data_root%('electron','1.5'),'data',fn_temp%(tn,''),fn_temp%(tn,''))+'_%d.txt'%run_no)\n",
    "    except FileNotFoundError:\n",
    "        fnf_flag=True\n",
    "        continue\n",
    "    #cut\n",
    "    ts,Tes,Tis,ns,qs=data_scaling[:,0],data_scaling[:,1],data_scaling[:,2],data_scaling[:,3],data_scaling[:,15]\n",
    "    tns,Tens,Tins,nns,qns=data_no_scaling[:,0],data_no_scaling[:,1],data_no_scaling[:,2],data_no_scaling[:,3],data_no_scaling[:,15]\n",
    "    #plotting\n",
    "    axes[0].plot(ts,qs,color=sns.color_palette('deep')[0],linestyle='-',alpha=0.1)\n",
    "    axes[0].plot(tns,qns,color=sns.color_palette('deep')[2],linestyle='-',alpha=0.1)\n",
    "    axes[1].plot(ts,Tes,color=sns.color_palette('deep')[0],linestyle='-',alpha=0.1)\n",
    "    #axes[1].plot(ts,Tis,color=sns.color_palette('deep')[2],linestyle='-',alpha=0.1)\n",
    "    axes[1].plot(tns,Tens,color=sns.color_palette('deep')[2],linestyle='-',alpha=0.1)\n",
    "    #axes[1].plot(tns,Tins,color=sns.color_palette('deep')[2],linestyle='--',alpha=0.1)\n",
    "    axes[2].plot(ts,ns,color=sns.color_palette('deep')[0],linestyle='-',alpha=0.1)\n",
    "    axes[2].plot(tns,nns,color=sns.color_palette('deep')[2],linestyle='-',alpha=0.1)\n",
    "    #increment\n",
    "    run_no+=1\n",
    "    \n",
    "plt.tight_layout()\n",
    "plt.show()"
   ]
  },
  {
   "cell_type": "code",
   "execution_count": null,
   "metadata": {
    "collapsed": false
   },
   "outputs": [],
   "source": [
    "def get_onset_and_density(species,alpha,tn,scaling):\n",
    "    \"Read in heating onset times and associated densities\"\n",
    "    \n",
    "    index_offset=1\n",
    "    if species=='single':index_offset=0\n",
    "    #get all data files\n",
    "    data_files=[df for df in os.listdir(os.path.join(data_root%(species,str(alpha)),'data',fn_temp%(tn,scaling))) if 'heat_amp' not in df]\n",
    "    res_dict={'amp':[],'density':[]}\n",
    "    for df in data_files:\n",
    "        #read in density\n",
    "        data=np.loadtxt(os.path.join(data_root%(species,str(alpha)),'data',fn_temp%(tn,scaling),df))\n",
    "        time,density=data[:,0],data[:,2+index_offset]\n",
    "        #parse config file\n",
    "        root=ET.parse(os.path.join(data_root%(species,str(alpha)),'config',fn_temp%(tn,scaling),df[:-3]+'xml')).getroot()\n",
    "        #loop through configuration settings\n",
    "        for child_ts,child_amp,i in zip(root.find('start_time_array'),root.find('amp_array'),range(int(root.find('num_events').text))):\n",
    "            if i==0:\n",
    "                continue\n",
    "            else:\n",
    "                #amplitude\n",
    "                if alpha=='uniform':\n",
    "                    res_dict['amp'].append(float(root.find('h_nano').text))\n",
    "                else:\n",
    "                    res_dict['amp'].append(float(child_amp.text))\n",
    "                #density\n",
    "                ts=float(child_ts.text)\n",
    "                ind_ts=np.where(time>ts)[0]\n",
    "                if len(ind_ts)<1:\n",
    "                    print('start time out of range')\n",
    "                    continue\n",
    "                elif len(ind_ts)>len(time)-2:\n",
    "                    print('indices too long for interpolation')\n",
    "                    res_dict['density'].append(density[ind_ts[0]])\n",
    "                else:\n",
    "                    f=interpolate.interp1d(time[ind_ts[0]-2:ind_ts[0]+1],density[ind_ts[0]-2:ind_ts[0]+1])\n",
    "                    res_dict['density'].append(f(ts))\n",
    "                \n",
    "    res_dict['amp']=np.array(res_dict['amp'])\n",
    "    res_dict['density']=np.array(res_dict['density'])\n",
    "                \n",
    "    return res_dict"
   ]
  },
  {
   "cell_type": "code",
   "execution_count": null,
   "metadata": {
    "collapsed": false,
    "scrolled": true
   },
   "outputs": [],
   "source": [
    "dens_electron_alpha25=get_onset_and_density('electron',2.5,250,'-b1.0')"
   ]
  },
  {
   "cell_type": "code",
   "execution_count": null,
   "metadata": {
    "collapsed": false
   },
   "outputs": [],
   "source": [
    "#bins\n",
    "_,kbins_amp = density_estimation.knuth_bin_width(dens_electron_alpha25['amp'],return_bins=True)\n",
    "_,kbins_density = density_estimation.knuth_bin_width(dens_electron_alpha25['density'],return_bins=True)"
   ]
  },
  {
   "cell_type": "code",
   "execution_count": null,
   "metadata": {
    "collapsed": false
   },
   "outputs": [],
   "source": [
    "bincount,xedge,yedge=np.histogram2d(dens_electron_alpha25['amp'],dens_electron_alpha25['density'],\n",
    "                                   bins=(kbins_amp,kbins_density),)\n",
    "bincount_masked=np.ma.masked_where(bincount==0,bincount)\n",
    "fig=plt.figure(figsize=(8,8))\n",
    "ax=fig.gca()\n",
    "X,Y=np.meshgrid(xedge,yedge)\n",
    "im=ax.pcolormesh(X,Y,bincount_masked.T,cmap='Reds',\n",
    "              norm=LogNorm(vmin=bincount_masked.min(), vmax=bincount_masked.max()))\n",
    "ax.set_xlim([dens_electron_alpha25['amp'].min(),dens_electron_alpha25['amp'].max()])\n",
    "ax.set_xscale('log')\n",
    "ax.set_ylim([dens_electron_alpha25['density'].min(),dens_electron_alpha25['density'].max()])\n",
    "ax.set_yscale('log')\n",
    "fig.colorbar(im,ax=ax)\n",
    "plt.show()"
   ]
  },
  {
   "cell_type": "markdown",
   "metadata": {},
   "source": [
    "Now let's look at the case where the waiting time and event amplitude are independent."
   ]
  },
  {
   "cell_type": "code",
   "execution_count": null,
   "metadata": {
    "collapsed": true
   },
   "outputs": [],
   "source": [
    "dens_electron_alpha25_no_scaling=get_onset_and_density('electron',2.5,250,'')"
   ]
  },
  {
   "cell_type": "code",
   "execution_count": null,
   "metadata": {
    "collapsed": false
   },
   "outputs": [],
   "source": [
    "#bins\n",
    "_,kbins_amp_ns = density_estimation.knuth_bin_width(dens_electron_alpha25_no_scaling['amp'],return_bins=True)\n",
    "_,kbins_density_ns = density_estimation.knuth_bin_width(dens_electron_alpha25_no_scaling['density'],return_bins=True)"
   ]
  },
  {
   "cell_type": "code",
   "execution_count": null,
   "metadata": {
    "collapsed": false
   },
   "outputs": [],
   "source": [
    "bincount,xedge,yedge=np.histogram2d(dens_electron_alpha25_no_scaling['amp'],dens_electron_alpha25_no_scaling['density'],\n",
    "                                   bins=(kbins_amp_ns,kbins_density_ns),)\n",
    "bincount_masked=np.ma.masked_where(bincount==0,bincount)\n",
    "fig=plt.figure(figsize=(8,8))\n",
    "ax=fig.gca()\n",
    "X,Y=np.meshgrid(xedge,yedge)\n",
    "im=ax.pcolormesh(X,Y,bincount_masked.T,cmap='Reds',\n",
    "              norm=LogNorm(vmin=bincount_masked.min(), vmax=bincount_masked.max()))\n",
    "ax.set_xlim([dens_electron_alpha25_no_scaling['amp'].min(),dens_electron_alpha25_no_scaling['amp'].max()])\n",
    "ax.set_xscale('log')\n",
    "#ax.set_ylim([dens_electron_alpha25_no_scaling['density'].min(),dens_electron_alpha25_no_scaling['density'].max()])\n",
    "#ax.set_ylim([1.2e+8,1.6e+8])\n",
    "ax.set_yscale('log')\n",
    "fig.colorbar(im,ax=ax)\n",
    "plt.show()"
   ]
  },
  {
   "cell_type": "markdown",
   "metadata": {},
   "source": [
    "Next compare the cases where the event energies are or are not scaled."
   ]
  },
  {
   "cell_type": "code",
   "execution_count": null,
   "metadata": {
    "collapsed": false
   },
   "outputs": [],
   "source": [
    "#setup figure\n",
    "fig=plt.figure(figsize=(15,8))\n",
    "p_spacing=0.01\n",
    "left,bottom,width,height=0.2,0.1,0.65,0.9\n",
    "ax=fig.add_axes((left,bottom,width,height))\n",
    "#add an axes\n",
    "axHisty = fig.add_axes((p_spacing,bottom,(1-10*p_spacing)*left,height)) # y histogram\n",
    "#data set 1\n",
    "bincount,xedge,yedge=np.histogram2d(dens_electron_alpha25['amp'],dens_electron_alpha25['density'],\n",
    "                                   bins=(kbins_amp,kbins_density),)\n",
    "bincount_masked=np.ma.masked_where(bincount==0,bincount)\n",
    "X,Y=np.meshgrid(xedge,yedge)\n",
    "#data set 2\n",
    "bincount_ns,xedge_ns,yedge_ns=np.histogram2d(dens_electron_alpha25_no_scaling['amp'],dens_electron_alpha25_no_scaling['density'],\n",
    "                                            bins=(kbins_amp_ns,kbins_density_ns))\n",
    "bincount_masked_ns=np.ma.masked_where(bincount_ns==0,bincount_ns)\n",
    "X_ns,Y_ns=np.meshgrid(xedge_ns,yedge_ns)\n",
    "#plot data set 1\n",
    "im=ax.pcolormesh(X,Y,bincount_masked.T,cmap='Reds',\n",
    "              norm=LogNorm(vmin=bincount_masked.min(), vmax=bincount_masked.max()),alpha=0.75)\n",
    "#plot data set 2\n",
    "im_ns=ax.pcolormesh(X_ns,Y_ns,bincount_masked_ns.T,cmap='Blues',\n",
    "              norm=LogNorm(vmin=bincount_masked_ns.min(), vmax=bincount_masked_ns.max()),linewidth=0,alpha=0.75)\n",
    "im_ns.set_edgecolor('face')\n",
    "#plotting 1D histogram\n",
    "axHisty.hist(dens_electron_alpha25['density'],bins=kbins_density,orientation='horizontal',color=sns.color_palette('deep')[2],histtype='stepfilled',alpha=0.75)\n",
    "axHisty.hist(dens_electron_alpha25_no_scaling['density'],bins=kbins_density_ns,orientation='horizontal',color=sns.color_palette('deep')[0],histtype='stepfilled',alpha=0.75)\n",
    "#axes options\n",
    "ax.set_xlim([min(dens_electron_alpha25_no_scaling['amp'].min(),dens_electron_alpha25['amp'].min()),max(dens_electron_alpha25_no_scaling['amp'].max(),dens_electron_alpha25['amp'].max())])\n",
    "#ax.set_xlim([1e-3,10])\n",
    "ax.set_xscale('log')\n",
    "ax.set_ylim([min(dens_electron_alpha25_no_scaling['density'].min(),dens_electron_alpha25['density'].min()),max(dens_electron_alpha25_no_scaling['density'].max(),dens_electron_alpha25['density'].max())])\n",
    "#ax.set_ylim([1e+8,1e+10])\n",
    "ax.set_yscale('log')\n",
    "axHisty.set_xlim(axHisty.get_xlim()[::-1])\n",
    "axHisty.set_ylim(ax.get_ylim())\n",
    "axHisty.set_yscale(ax.get_yscale())\n",
    "#styling and labels\n",
    "ax.yaxis.set_major_formatter(NullFormatter())\n",
    "axHisty.set_ylabel(r'$n$ $(\\mathrm{cm}^{-3})$')\n",
    "ax.set_xlabel(r'$Q$ $(\\mathrm{erg}$ $\\mathrm{cm}^{-3}$ $\\mathrm{s}^{-1})$')\n",
    "#colorbar\n",
    "cb_spacing=0.05\n",
    "cb_width=0.02\n",
    "cba1=fig.add_axes((left+width+p_spacing,0.1,cb_width,height))\n",
    "cba2=fig.add_axes((left+width+p_spacing+cb_spacing+cb_width,0.1,cb_width,height))\n",
    "fig.colorbar(im,cax=cba1)\n",
    "fig.colorbar(im_ns,cax=cba2)\n",
    "plt.show()"
   ]
  },
  {
   "cell_type": "markdown",
   "metadata": {},
   "source": [
    "### Animating $(Q,n)$ distributions for varying $t_N$\n",
    "\n",
    "Let's load all $(Q,n)$ for $250<t_N<5000$ s and then plot the histogram each time and save it."
   ]
  },
  {
   "cell_type": "code",
   "execution_count": null,
   "metadata": {
    "collapsed": true
   },
   "outputs": [],
   "source": [
    "qn_scaling = []\n",
    "qn_no_scaling = []\n",
    "species='electron'\n",
    "alpha=2.5\n",
    "twait=np.arange(250,5250,250)"
   ]
  },
  {
   "cell_type": "code",
   "execution_count": null,
   "metadata": {
    "collapsed": true
   },
   "outputs": [],
   "source": [
    "for tw in twait:\n",
    "    qn_scaling.append(get_onset_and_density(species,alpha,tw,'-b1.0'))\n",
    "    qn_no_scaling.append(get_onset_and_density(species,alpha,tw,''))"
   ]
  },
  {
   "cell_type": "code",
   "execution_count": null,
   "metadata": {
    "collapsed": false
   },
   "outputs": [],
   "source": [
    "#save for later\n",
    "with open('test_figs/histo2d.pickle','wb') as f:\n",
    "    pickle.dump([qn_scaling,qn_no_scaling],f)"
   ]
  },
  {
   "cell_type": "markdown",
   "metadata": {},
   "source": [
    "Once we've loaded the data (probably will take a while), we want to make many plots so that we can animate it."
   ]
  },
  {
   "cell_type": "code",
   "execution_count": null,
   "metadata": {
    "collapsed": false
   },
   "outputs": [],
   "source": [
    "#axes sizing\n",
    "p_spacing=0.01\n",
    "left,bottom,width,height=0.2,0.1,0.65,0.9\n",
    "cb_spacing=0.05\n",
    "cb_width=0.02\n",
    "for qns,qnns,tw in zip(qn_scaling,qn_no_scaling,twait):\n",
    "    #set up the figure\n",
    "    fig=plt.figure(figsize=(15,8))\n",
    "    #add the axes\n",
    "    ax=fig.add_axes((left,bottom,width,height))\n",
    "    axHisty = fig.add_axes((p_spacing,bottom,(1-10*p_spacing)*left,height)) # y histogram\n",
    "    #binning\n",
    "    #scaling\n",
    "    _,kba_s = density_estimation.knuth_bin_width(qns['amp'],return_bins=True)\n",
    "    _,kbn_s = density_estimation.knuth_bin_width(qns['density'],return_bins=True)\n",
    "    bc_s,x_s,y_s=np.histogram2d(qns['amp'],qns['density'],bins=(kba_s,kbn_s),)\n",
    "    bc_s_masked=np.ma.masked_where(bc_s==0,bc_s)\n",
    "    X_s,Y_s=np.meshgrid(x_s,y_s)\n",
    "    #no scaling\n",
    "    _,kba_ns = density_estimation.knuth_bin_width(qnns['amp'],return_bins=True)\n",
    "    _,kbn_ns = density_estimation.knuth_bin_width(qnns['density'],return_bins=True)\n",
    "    bc_ns,x_ns,y_ns=np.histogram2d(qnns['amp'],qnns['density'],bins=(kba_ns,kbn_ns),)\n",
    "    bc_ns_masked=np.ma.masked_where(bc_ns==0,bc_ns)\n",
    "    X_ns,Y_ns=np.meshgrid(x_ns,y_ns)\n",
    "    #plotting\n",
    "    #2D\n",
    "    im_s=ax.pcolormesh(X_s,Y_s,bc_s_masked.T,cmap='Reds',norm=LogNorm(vmin=1, vmax=500),alpha=0.65,linewidth=0)\n",
    "    im_s.set_edgecolor('face')\n",
    "    im_ns=ax.pcolormesh(X_ns,Y_ns,bc_ns_masked.T,cmap='Blues',norm=LogNorm(vmin=1, vmax=500),linewidth=0,alpha=0.65)\n",
    "    im_ns.set_edgecolor('face')\n",
    "    #1D\n",
    "    axHisty.hist(qns['density'],bins=kbn_s,orientation='horizontal',color=sns.color_palette('deep')[2],histtype='stepfilled',alpha=0.75)\n",
    "    axHisty.hist(qnns['density'],bins=kbn_ns,orientation='horizontal',color=sns.color_palette('deep')[0],histtype='stepfilled',alpha=0.75)\n",
    "    #axes options\n",
    "    #2D\n",
    "    ax.set_xlim([8e-3,2])\n",
    "    ax.set_xscale('log')\n",
    "    ax.set_ylim([9e+7,8e+9])\n",
    "    ax.set_yscale('log')\n",
    "    #1D\n",
    "    axHisty.set_xlim([650,0])\n",
    "    axHisty.set_ylim(ax.get_ylim())\n",
    "    axHisty.set_yscale(ax.get_yscale())\n",
    "    #styling and labels\n",
    "    ax.yaxis.set_major_formatter(NullFormatter())\n",
    "    axHisty.set_ylabel(r'$n$ $(\\mathrm{cm}^{-3})$')\n",
    "    ax.set_xlabel(r'$Q$ $(\\mathrm{erg}$ $\\mathrm{cm}^{-3}$ $\\mathrm{s}^{-1})$')\n",
    "    ax.set_title(r'$t_N=%d$ s'%tw)\n",
    "    #add the colorbar\n",
    "    cba1=fig.add_axes((left+width+p_spacing,0.1,cb_width,height))\n",
    "    cba2=fig.add_axes((left+width+p_spacing+cb_spacing+cb_width,0.1,cb_width,height))\n",
    "    fig.colorbar(im,cax=cba1)\n",
    "    fig.colorbar(im_ns,cax=cba2)\n",
    "    #print \n",
    "    plt.savefig('test_figs/hist2d_tn%d.pdf'%tw,format='pdf',dpi=1000)"
   ]
  }
 ],
 "metadata": {
  "kernelspec": {
   "display_name": "Python 3",
   "language": "python",
   "name": "python3"
  },
  "language_info": {
   "codemirror_mode": {
    "name": "ipython",
    "version": 3
   },
   "file_extension": ".py",
   "mimetype": "text/x-python",
   "name": "python",
   "nbconvert_exporter": "python",
   "pygments_lexer": "ipython3",
   "version": "3.4.4"
  }
 },
 "nbformat": 4,
 "nbformat_minor": 0
}
