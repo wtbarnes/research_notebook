{
 "cells": [
  {
   "cell_type": "code",
   "execution_count": 1,
   "metadata": {
    "collapsed": false
   },
   "outputs": [
    {
     "name": "stderr",
     "output_type": "stream",
     "text": [
      "/opt/anaconda3/lib/python3.5/site-packages/matplotlib/__init__.py:872: UserWarning: axes.color_cycle is deprecated and replaced with axes.prop_cycle; please use the latter.\n",
      "  warnings.warn(self.msg_depr % (key, alt_key))\n",
      "/opt/anaconda3/lib/python3.5/site-packages/matplotlib/__init__.py:1350: UserWarning:  This call to matplotlib.use() has no effect\n",
      "because the backend has already been chosen;\n",
      "matplotlib.use() must be called *before* pylab, matplotlib.pyplot,\n",
      "or matplotlib.backends is imported for the first time.\n",
      "\n",
      "  warnings.warn(_use_error_msg)\n"
     ]
    }
   ],
   "source": [
    "import sys\n",
    "import os \n",
    "import numpy as np\n",
    "import seaborn.apionly as sns\n",
    "import astropy.constants as ac\n",
    "from matplotlib import ticker\n",
    "import matplotlib.pyplot as plt\n",
    "plt.style.use('papers')\n",
    "%matplotlib inline\n",
    "root_path = '/home/wtb2/Documents'\n",
    "sys.path.append(os.path.join(root_path,'EBTEL_analysis/src/'))\n",
    "import ebtel_run as ebr\n",
    "import ebtel_configure as ebc\n",
    "import ebtel_plot as ebp"
   ]
  },
  {
   "cell_type": "markdown",
   "metadata": {},
   "source": [
    "# Hot Plasma Paper 1–Figures, Appendix"
   ]
  },
  {
   "cell_type": "markdown",
   "metadata": {},
   "source": [
    "Here, we'll build the figure(s) needed for Hot Plasma Paper 1 Appendix.\n",
    "\n",
    "## Figure 1\n",
    "The first figure will show the relative importance of $\\psi_{TR}$ in the EBTEL two-fluid equations. Consider the equation,\n",
    "$$\n",
    "\\frac{L}{\\gamma - 1}\\frac{dp_e}{dt} = \\psi_{TR} - (\\mathcal{R}_C + \\mathcal{R}_{TR}) + \\frac{L}{\\gamma - 1}k_Bn\\nu_{ei}(T_i - T_e) + LQ_e.\n",
    "$$\n",
    "We want to plot each term as a function of time to show their relative contributions to the evolution of the electron energy.\n",
    "\n",
    "We will use the following parameters for our sample run:\n",
    "\n",
    "+ $L=40$ Mm\n",
    "+ $\\tau=20$ s\n",
    "+ $H_0=1.0$ erg cm$^{-3}$ s$^{-1}$\n",
    "+ Spitzer conduction"
   ]
  },
  {
   "cell_type": "markdown",
   "metadata": {},
   "source": [
    "Write function to calculate electron-ion heating frequency."
   ]
  },
  {
   "cell_type": "code",
   "execution_count": 2,
   "metadata": {
    "collapsed": true
   },
   "outputs": [],
   "source": [
    "def calc_nu_ei(n,Te):\n",
    "    c1 = 16.*np.sqrt(np.pi)/3.\n",
    "    c2 = ac.e.gauss.value**4/(ac.m_e.cgs.value*ac.m_p.cgs.value)\n",
    "    c3 = 2.*ac.k_B.cgs.value*Te/ac.m_e.cgs.value\n",
    "    colLog = 20.\n",
    "    return c1*c2*c3**(-3./2.)*n*colLog"
   ]
  },
  {
   "cell_type": "markdown",
   "metadata": {},
   "source": [
    "Configure dictionary to run EBTEL-2fluid model."
   ]
  },
  {
   "cell_type": "code",
   "execution_count": 3,
   "metadata": {
    "collapsed": true
   },
   "outputs": [],
   "source": [
    "#input dictionary\n",
    "config_dict = {'usage_option':'dem','rad_option':'rk','dem_option':'new','heat_flux_option':'classical',\n",
    "              'solver':'euler','ic_mode':'st_eq','print_plasma_params':'True','heat_species':'electron'}\n",
    "config_dict['total_time'] = 5000\n",
    "config_dict['tau'] = 1.0\n",
    "config_dict['rka_error'] = 1.0e-6\n",
    "config_dict['index_dem'] = 451\n",
    "config_dict['sat_limit'] = 1.0/6.0\n",
    "config_dict['h_back'] = 3.5e-5\n",
    "config_dict['heating_shape'] = 'triangle'\n",
    "config_dict['t_start_switch'] = 'uniform'\n",
    "config_dict['t_end_switch'] = 'uniform'\n",
    "config_dict['T0'] = 1.0e+6\n",
    "config_dict['n0'] = 1.0e+8\n",
    "config_dict['t_start'] = 0.0\n",
    "config_dict['mean_t_start'] = 1000\n",
    "config_dict['std_t_start'] = 1000\n",
    "config_dict['amp_switch'] = 'uniform'\n",
    "config_dict['amp0'] = 0.001\n",
    "config_dict['amp1'] = 0.01\n",
    "config_dict['alpha'] = 1.5\n",
    "config_dict['loop_length'] = 40.0\n",
    "config_dict['num_events'] = 1\n",
    "config_dict['t_pulse_half'] = 10\n",
    "config_dict['h_nano'] = 1.0\n",
    "config_dict['sample_rate'] = 1\n",
    "config_dict['output_file'] = '/home/wtb2/Documents/research_notebook/EBTEL/ebtel_data/psi_TR_testing'"
   ]
  },
  {
   "cell_type": "code",
   "execution_count": 4,
   "metadata": {
    "collapsed": false
   },
   "outputs": [
    {
     "name": "stdout",
     "output_type": "stream",
     "text": [
      "Warning: Build paths not constructed! You will not be able to build config files for variable Tn until you run self.path_builder().\n"
     ]
    }
   ],
   "source": [
    "configurer = ebc.Configurer(config_dict,'')"
   ]
  },
  {
   "cell_type": "code",
   "execution_count": 5,
   "metadata": {
    "collapsed": true
   },
   "outputs": [],
   "source": [
    "configurer.print_xml_config(config_file=config_dict['output_file']+'.xml')"
   ]
  },
  {
   "cell_type": "markdown",
   "metadata": {},
   "source": [
    "Now, run the two-fluid EBTEL code with this configuration."
   ]
  },
  {
   "cell_type": "code",
   "execution_count": 6,
   "metadata": {
    "collapsed": true
   },
   "outputs": [],
   "source": [
    "runner = ebr.Runner('/home/wtb2/Documents/EBTEL-2fluid_repo/bin/','')"
   ]
  },
  {
   "cell_type": "code",
   "execution_count": 7,
   "metadata": {
    "collapsed": false
   },
   "outputs": [],
   "source": [
    "runner.run_ebtel_single(config_dict['output_file']+'.xml')"
   ]
  },
  {
   "cell_type": "markdown",
   "metadata": {},
   "source": [
    "Next, load the data and plot."
   ]
  },
  {
   "cell_type": "code",
   "execution_count": 8,
   "metadata": {
    "collapsed": true
   },
   "outputs": [],
   "source": [
    "data = np.loadtxt(config_dict['output_file']+'.txt')\n",
    "t = data[:,0]\n",
    "Te = data[:,1]\n",
    "Ti = data[:,2]\n",
    "n = data[:,3]\n",
    "fce = data[:,12]\n",
    "fci = data[:,13]\n",
    "q = data[:,15]\n",
    "rad = data[:,-2]\n",
    "r3 = data[:,-3]"
   ]
  },
  {
   "cell_type": "markdown",
   "metadata": {},
   "source": [
    "Calculate the relevant quantities."
   ]
  },
  {
   "cell_type": "code",
   "execution_count": 9,
   "metadata": {
    "collapsed": true
   },
   "outputs": [],
   "source": [
    "delta_terms = []\n",
    "delta_terms.append(fce/(config_dict['loop_length']*1.e+8)/(1.+Te/Ti))\n",
    "delta_terms.append(-fci/(config_dict['loop_length']*1.e+8)*(Te/Ti)/(1.+Te/Ti))\n",
    "delta_terms.append(-(Te/Ti*(r3+1.) + 1.)/(1.+Te/Ti)*n**2*rad)\n",
    "#delta_terms.append(q)\n",
    "tmp = np.zeros(len(Te))\n",
    "for i in range(len(Te)):\n",
    "    tmp[i] = ac.k_B.cgs.value/(5./3. - 1.)*n[i]*calc_nu_ei(n[i],Te[i])*(Ti[i] - Te[i])\n",
    "delta_terms.append(tmp)"
   ]
  },
  {
   "cell_type": "code",
   "execution_count": 12,
   "metadata": {
    "collapsed": false
   },
   "outputs": [
    {
     "data": {
      "image/png": "[encoded data removed]",
      "text/plain": [
       "<matplotlib.figure.Figure at 0x7f22b71d3ef0>"
      ]
     },
     "metadata": {},
     "output_type": "display_data"
    }
   ],
   "source": [
    "labels = [r'$\\mathrm{e}^{-}$ $\\mathrm{thermal}$ $\\mathrm{conduction}$',\n",
    "          r'$\\mathrm{ion}$ $\\mathrm{thermal}$ $\\mathrm{conduction}$',\n",
    "          r'$\\mathrm{radiation}$',r'$\\mathrm{equilibration}$']\n",
    "fig = plt.figure(figsize=(8,5))\n",
    "ax = fig.gca()\n",
    "#axT = ax.twinx()\n",
    "for i in range(len(delta_terms)):\n",
    "        ax.plot(t,delta_terms[i],color=sns.color_palette('bright')[i],label=labels[i])\n",
    "ax.plot(t,1.0/(config_dict['loop_length']*1.e+8)*1./(1.+Te/Ti)*(fce + (r3*(config_dict['loop_length']*1.e+8)*(n**2)*rad)-Te/Ti*fci),\n",
    "       linestyle='dotted',color='k',label=r'$\\psi_{TR}$')\n",
    "#axT.plot(t,Te/1e+6,linestyle='dashed',color='k')\n",
    "ax.set_xscale('log')\n",
    "#ax.set_yscale('log')\n",
    "ax.set_xlim([1,config_dict['total_time']])\n",
    "ax.set_xlabel(r'$t$ $\\mathrm{(s)}$')\n",
    "ax.set_ylabel(r'$\\Delta\\bar{p}_e$ $\\mathrm{terms}$ $(\\mathrm{erg}$ $\\mathrm{cm}^{-3}$ $\\mathrm{s}^{-1})$')\n",
    "box = ax.get_position()\n",
    "#ax.set_position([box.x0, box.y0, box.width * 0.95, box.height])\n",
    "ax.legend(loc='best')\n",
    "plt.savefig('/home/wtb2/Documents/papers/hot_non-flaring_plasma_1/figures/psi_TR_compare.pdf')\n",
    "plt.show()"
   ]
  },
  {
   "cell_type": "code",
   "execution_count": null,
   "metadata": {
    "collapsed": true
   },
   "outputs": [],
   "source": []
  }
 ],
 "metadata": {
  "kernelspec": {
   "display_name": "Python 3",
   "language": "python",
   "name": "python3"
  },
  "language_info": {
   "codemirror_mode": {
    "name": "ipython",
    "version": 3
   },
   "file_extension": ".py",
   "mimetype": "text/x-python",
   "name": "python",
   "nbconvert_exporter": "python",
   "pygments_lexer": "ipython3",
   "version": "3.5.1"
  }
 },
 "nbformat": 4,
 "nbformat_minor": 0
}
