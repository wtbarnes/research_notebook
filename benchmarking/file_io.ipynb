{
 "cells": [
  {
   "cell_type": "markdown",
   "metadata": {},
   "source": [
    "# File I/O Benchmarks\n",
    "Loading everything into memory is very slow. Reading and writing huge datasets with `pickle` is very slow. How do `np.loadtxt/savetxt` compare with `pickle.load/dump`?"
   ]
  },
  {
   "cell_type": "code",
   "execution_count": 1,
   "metadata": {
    "collapsed": true
   },
   "outputs": [],
   "source": [
    "import sys,os\n",
    "import numpy as np\n",
    "import pickle\n",
    "import matplotlib.pyplot as plt\n",
    "%matplotlib inline"
   ]
  },
  {
   "cell_type": "markdown",
   "metadata": {},
   "source": [
    "First, let's create three numpy arrays."
   ]
  },
  {
   "cell_type": "code",
   "execution_count": 2,
   "metadata": {
    "collapsed": true
   },
   "outputs": [],
   "source": [
    "array1=np.random.rand(100)\n",
    "array2=np.linspace(-500,500,10000)\n",
    "array3=array2**2+5*array2"
   ]
  },
  {
   "cell_type": "markdown",
   "metadata": {},
   "source": [
    "## Writing to File\n",
    "First, let's look at how long it takes to write these to a file."
   ]
  },
  {
   "cell_type": "markdown",
   "metadata": {},
   "source": [
    " * `pickle.dump` with three separate arrays"
   ]
  },
  {
   "cell_type": "code",
   "execution_count": 3,
   "metadata": {
    "collapsed": false
   },
   "outputs": [
    {
     "name": "stdout",
     "output_type": "stream",
     "text": [
      "1000 loops, best of 3: 1.22 ms per loop\n"
     ]
    }
   ],
   "source": [
    "%%timeit\n",
    "with open('pickle.array','wb') as f:\n",
    "    pickle.dump([array1,array2,array3],f)"
   ]
  },
  {
   "cell_type": "markdown",
   "metadata": {},
   "source": [
    " * `pickle.dump` with a single dictionary object"
   ]
  },
  {
   "cell_type": "code",
   "execution_count": 4,
   "metadata": {
    "collapsed": false
   },
   "outputs": [
    {
     "name": "stdout",
     "output_type": "stream",
     "text": [
      "1000 loops, best of 3: 1.22 ms per loop\n"
     ]
    }
   ],
   "source": [
    "%%timeit\n",
    "with open('pickle.dict','wb') as f:\n",
    "    pickle.dump([{'a1':array1,'a2':array2,'a3':array3}],f)"
   ]
  },
  {
   "cell_type": "markdown",
   "metadata": {},
   "source": [
    " * `np.savetxt` for three separate files"
   ]
  },
  {
   "cell_type": "code",
   "execution_count": 5,
   "metadata": {
    "collapsed": false
   },
   "outputs": [
    {
     "name": "stdout",
     "output_type": "stream",
     "text": [
      "10 loops, best of 3: 108 ms per loop\n"
     ]
    }
   ],
   "source": [
    "%%timeit\n",
    "np.savetxt('numpy.a1',array1)\n",
    "np.savetxt('numpy.a2',array2)\n",
    "np.savetxt('numpy.a3',array3)"
   ]
  },
  {
   "cell_type": "markdown",
   "metadata": {},
   "source": [
    "## Reading from File\n",
    "Now, more importantly, how long does it take to read from the file?"
   ]
  },
  {
   "cell_type": "markdown",
   "metadata": {},
   "source": [
    " * `pickle.load` with three separate arrays"
   ]
  },
  {
   "cell_type": "code",
   "execution_count": 7,
   "metadata": {
    "collapsed": false
   },
   "outputs": [
    {
     "name": "stdout",
     "output_type": "stream",
     "text": [
      "The slowest run took 10.04 times longer than the fastest. This could mean that an intermediate result is being cached.\n",
      "10000 loops, best of 3: 56.7 µs per loop\n"
     ]
    }
   ],
   "source": [
    "%%timeit\n",
    "with open('pickle.array','rb') as f:\n",
    "    na1,na2,na3=pickle.load(f)"
   ]
  },
  {
   "cell_type": "markdown",
   "metadata": {},
   "source": [
    " * `pickle.load` with a single dictionary"
   ]
  },
  {
   "cell_type": "code",
   "execution_count": 8,
   "metadata": {
    "collapsed": false
   },
   "outputs": [
    {
     "name": "stdout",
     "output_type": "stream",
     "text": [
      "The slowest run took 8.99 times longer than the fastest. This could mean that an intermediate result is being cached.\n",
      "10000 loops, best of 3: 58.4 µs per loop\n"
     ]
    }
   ],
   "source": [
    "%%timeit\n",
    "with open('pickle.dict','rb') as f:\n",
    "    nad=pickle.load(f)"
   ]
  },
  {
   "cell_type": "markdown",
   "metadata": {},
   "source": [
    " * `np.loadtxt` for three separate files"
   ]
  },
  {
   "cell_type": "code",
   "execution_count": 10,
   "metadata": {
    "collapsed": false
   },
   "outputs": [
    {
     "name": "stdout",
     "output_type": "stream",
     "text": [
      "10 loops, best of 3: 180 ms per loop\n"
     ]
    }
   ],
   "source": [
    "%%timeit\n",
    "na1,na2,na3=np.loadtxt('numpy.a1'),np.loadtxt('numpy.a2'),np.loadtxt('numpy.a3')"
   ]
  },
  {
   "cell_type": "markdown",
   "metadata": {},
   "source": [
    "Since we'll be only reading/writing small files (though many of them!), this should scale quite linearly. It seems that only when you impose a lot of structure on these binary files that they really get slow."
   ]
  },
  {
   "cell_type": "code",
   "execution_count": null,
   "metadata": {
    "collapsed": true
   },
   "outputs": [],
   "source": []
  }
 ],
 "metadata": {
  "kernelspec": {
   "display_name": "Python 3",
   "language": "python",
   "name": "python3"
  },
  "language_info": {
   "codemirror_mode": {
    "name": "ipython",
    "version": 3
   },
   "file_extension": ".py",
   "mimetype": "text/x-python",
   "name": "python",
   "nbconvert_exporter": "python",
   "pygments_lexer": "ipython3",
   "version": "3.4.4"
  }
 },
 "nbformat": 4,
 "nbformat_minor": 0
}
