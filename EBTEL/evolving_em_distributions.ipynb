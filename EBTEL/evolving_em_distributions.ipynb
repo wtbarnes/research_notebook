{
 "cells": [
  {
   "cell_type": "markdown",
   "metadata": {},
   "source": [
    "# Evolving Emission Measure Distributions\n",
    "Look at the emission measure distribution ($\\mathrm{EM}(T)$) as a function of time for a given run, for both a uniform and power-law case, comparing equilibrium and non-equilibrium results. Choose an intermediate frequency, say around $t_N\\approx2000$ s to show some interesting results."
   ]
  },
  {
   "cell_type": "code",
   "execution_count": 1,
   "metadata": {
    "collapsed": false
   },
   "outputs": [
    {
     "name": "stderr",
     "output_type": "stream",
     "text": [
      "/opt/anaconda3/lib/python3.4/site-packages/IPython/html.py:14: ShimWarning: The `IPython.html` package has been deprecated. You should import from `notebook` instead. `IPython.html.widgets` has moved to `ipywidgets`.\n",
      "  \"`IPython.html.widgets` has moved to `ipywidgets`.\", ShimWarning)\n"
     ]
    }
   ],
   "source": [
    "import os,sys\n",
    "sys.path.append(os.path.join(os.environ['RESEARCH_DIR'],'EBTEL_analysis/src'))\n",
    "from random import randint\n",
    "import numpy as np\n",
    "import matplotlib.pyplot as plt\n",
    "import matplotlib.gridspec as gridspec\n",
    "from matplotlib import animation\n",
    "import seaborn.apionly as sns\n",
    "import em_binner as emb\n",
    "#%matplotlib inline"
   ]
  },
  {
   "cell_type": "markdown",
   "metadata": {},
   "source": [
    "## Data Selection\n",
    "Grab the data we want from our database. For the power-law case, we'll start off with a dataset where the waiting time is **not** proportional to the event energy."
   ]
  },
  {
   "cell_type": "code",
   "execution_count": 52,
   "metadata": {
    "collapsed": true
   },
   "outputs": [],
   "source": [
    "em_results_dict = {}\n",
    "tn_sample_val = 2000\n",
    "#uniform\n",
    "data = np.loadtxt('/data/datadrive2/EBTEL_runs/electron_heating_runs/alphauniform/data/ebtel_L40.0_tn%d_tpulse200.0_rka4/ebtel_L40.0_tn%d_tpulse200.0_rka4_0.txt'%(tn_sample_val,tn_sample_val))\n",
    "em_results_dict['uniform_ieq'] = {'t':data[:,0],'T':data[:,1],'n':data[:,3],'q':data[:,15]}\n",
    "data = np.loadtxt('/data/datadrive2/IonPopSolver_runs/electron_heating_runs/alphauniform/data/ebtel_L40.0_tn%d_tpulse200.0_rka4/ebtel_L40.0_tn%d_tpulse200.0_rka4_0.ips_results.txt'%(tn_sample_val,tn_sample_val))\n",
    "em_results_dict['uniform_nei'] = {'t':data[:,0],'T':data[:,2],'n':data[:,3]}\n",
    "#power-law\n",
    "data = np.loadtxt('/data/datadrive2/EBTEL_runs/electron_heating_runs/alpha2.5/data/ebtel_L40.0_tn%d_tpulse200.0_rka4/ebtel_L40.0_tn%d_tpulse200.0_rka4_0.txt'%(tn_sample_val,tn_sample_val))\n",
    "em_results_dict['pl_ieq'] = {'t':data[:,0],'T':data[:,1],'n':data[:,3],'q':data[:,15]}\n",
    "data = np.loadtxt('/data/datadrive2/IonPopSolver_runs/electron_heating_runs/alpha2.5/data/ebtel_L40.0_tn%d_tpulse200.0_rka4/ebtel_L40.0_tn%d_tpulse200.0_rka4_0.ips_results.txt'%(tn_sample_val,tn_sample_val))\n",
    "em_results_dict['pl_nei'] = {'t':data[:,0],'T':data[:,2],'n':data[:,3]}\n",
    "#power-law with scaling\n",
    "data = np.loadtxt('/data/datadrive2/EBTEL_runs/electron_heating_runs/alpha2.5/data/ebtel_L40.0_tn%d-b1.0_tpulse200.0_rka4/ebtel_L40.0_tn%d-b1.0_tpulse200.0_rka4_0.txt'%(tn_sample_val,tn_sample_val))\n",
    "em_results_dict['pl_beta_ieq'] = {'t':data[:,0],'T':data[:,1],'n':data[:,3],'q':data[:,15]}\n",
    "data = np.loadtxt('/data/datadrive2/IonPopSolver_runs/electron_heating_runs/alpha2.5/data/ebtel_L40.0_tn%d-b1.0_tpulse200.0_rka4/ebtel_L40.0_tn%d-b1.0_tpulse200.0_rka4_0.ips_results.txt'%(tn_sample_val,tn_sample_val))\n",
    "em_results_dict['pl_beta_nei'] = {'t':data[:,0],'T':data[:,2],'n':data[:,3]}"
   ]
  },
  {
   "cell_type": "markdown",
   "metadata": {},
   "source": [
    "## Emission Measure Calculation\n",
    "Calculate the emission measure at each timestep for each of the datasets."
   ]
  },
  {
   "cell_type": "code",
   "execution_count": 53,
   "metadata": {
    "collapsed": false
   },
   "outputs": [
    {
     "name": "stderr",
     "output_type": "stream",
     "text": [
      "WARNING:EM_Binner:Parameters not yet set. Run self.set_data(t,T,n)\n"
     ]
    }
   ],
   "source": [
    "em_maker = emb.EM_Binner(2.*40.0e+8)"
   ]
  },
  {
   "cell_type": "code",
   "execution_count": 54,
   "metadata": {
    "collapsed": true
   },
   "outputs": [],
   "source": [
    "for key in em_results_dict:\n",
    "    em_maker.set_data(em_results_dict[key]['t'],em_results_dict[key]['T'],em_results_dict[key]['n'])\n",
    "    em_maker.build_em_dist(build_mat=True)\n",
    "    em_results_dict[key]['em_mat'] = em_maker.em_mat\n",
    "    em_results_dict[key]['T_em'] = em_maker.T_em"
   ]
  },
  {
   "cell_type": "markdown",
   "metadata": {},
   "source": [
    "## Plotting $\\mathrm{EM}(T)$ versus time, $t$\n",
    "Try overlaying all of the plots on each other."
   ]
  },
  {
   "cell_type": "markdown",
   "metadata": {},
   "source": [
    "### Make a movie (needs help)"
   ]
  },
  {
   "cell_type": "code",
   "execution_count": 55,
   "metadata": {
    "collapsed": false
   },
   "outputs": [],
   "source": [
    "def make_em_movie(ieq_data,nei_data, interval=20, fps=30, movie_filename=None,duration='full'):\n",
    "    \"\"\"Make movie of evolving EM distribution\"\"\"\n",
    "    \n",
    "    if duration=='full':\n",
    "        duration=ieq_data['t']\n",
    "        duration_ind = len(duration)\n",
    "    else:\n",
    "        duration_ind=duration\n",
    "        duration=ieq_data['t'][0:duration]\n",
    "    \n",
    "    #set up the figure\n",
    "    fig = plt.figure(figsize=(12,10))\n",
    "    gs = gridspec.GridSpec(4,6)\n",
    "    ax_heat = fig.add_subplot(gs[0,:])\n",
    "    ax_t = fig.add_subplot(gs[1,:])\n",
    "    ax_n = ax_t.twinx()\n",
    "    ax_snap = fig.add_subplot(gs[2:,0:2])\n",
    "    ax_ieq = fig.add_subplot(gs[2:,2:4])\n",
    "    ax_nei = fig.add_subplot(gs[2:,4:])\n",
    "    \n",
    "    #set limits\n",
    "    ax_heat.set_xlim([duration[0],duration[-1]])\n",
    "    ax_heat.set_ylim([0,np.max(ieq_data['q'][0:duration_ind])])\n",
    "    ax_t.set_xlim([duration[0],duration[-1]])\n",
    "    ax_t.set_ylim([0,np.max(ieq_data['T'][0:duration_ind])/1e+6])\n",
    "    ax_n.set_xlim([duration[0],duration[-1]])\n",
    "    ax_n.set_ylim([0,np.max(ieq_data['n'][0:duration_ind])/1e+8])\n",
    "    ax_snap.set_xlim([10**5.5,10**7.5])\n",
    "    ax_snap.set_ylim([10**27.,10**30.])\n",
    "    ax_ieq.set_xlim([10**5.5,10**7.5])\n",
    "    ax_ieq.set_ylim([10**27.,10**30.])\n",
    "    ax_nei.set_xlim([10**5.5,10**7.5])\n",
    "    ax_nei.set_ylim([10**27.,10**30.])\n",
    "    \n",
    "    #labels and ticks and scale\n",
    "    ax_heat.set_xlabel(r'$t\\,\\,\\mathrm{(s)}$',fontsize=22)\n",
    "    ax_t.set_xlabel(r'$t\\,\\,\\mathrm{(s)}$',fontsize=22)\n",
    "    ax_t.set_ylabel(r'$T\\,\\,\\mathrm{(MK)}$',fontsize=22)\n",
    "    ax_n.set_ylabel(r'$n\\,\\,(10^8\\,\\mathrm{cm}^{-3})$',fontsize=22)\n",
    "    ax_heat.set_ylabel(r'$H\\,\\,(\\mathrm{erg}\\,\\mathrm{cm}^{-3}\\,\\mathrm{s}^{-1})$',fontsize=22)\n",
    "    ax_snap.set_xlabel(r'$T\\,\\,\\mathrm{(K)}$',fontsize=22)\n",
    "    ax_ieq.set_xlabel(r'$T\\,\\,\\mathrm{(K)}$',fontsize=22)\n",
    "    ax_nei.set_xlabel(r'$T\\,\\,\\mathrm{(K)}$',fontsize=22)\n",
    "    ax_snap.set_ylabel(r'$\\mathrm{EM}\\,\\,(\\mathrm{cm}^{-5})$',fontsize=22)\n",
    "    ax_ieq.tick_params(axis='y',labelleft='off')\n",
    "    ax_nei.tick_params(axis='y',labelleft='off')\n",
    "    ax_snap.set_yscale('log')\n",
    "    ax_snap.set_xscale('log')\n",
    "    ax_ieq.set_yscale('log')\n",
    "    ax_ieq.set_xscale('log')\n",
    "    ax_nei.set_yscale('log')\n",
    "    ax_nei.set_xscale('log')\n",
    "    \n",
    "    #plot the heating\n",
    "    ax_heat.plot(duration,ieq_data['q'][0:duration_ind],linewidth=2,color=sns.color_palette('deep')[0])\n",
    "    ax_t.plot(duration,ieq_data['T'][0:duration_ind]/1e+6,linewidth=2,color=sns.color_palette('deep')[0])\n",
    "    ax_n.plot(duration,ieq_data['n'][0:duration_ind]/1e+8,linewidth=2,color=sns.color_palette('deep')[2])\n",
    "                     \n",
    "    plt.tight_layout()\n",
    "\n",
    "    #setup the plotters\n",
    "    progress, = ax_heat.plot([],[],linewidth=2,color='k',linestyle='--')\n",
    "    progress_t, = ax_t.plot([],[],linewidth=2,color='k',linestyle='--')\n",
    "    em_ieq_snap, = ax_snap.plot([],[],linestyle='-',color=sns.color_palette('deep')[0],linewidth=2)\n",
    "    em_nei_snap, = ax_snap.plot([],[],linestyle='--',color=sns.color_palette('deep')[2],linewidth=2)\n",
    "    em_snap_ieq, = ax_ieq.plot([],[],linestyle='-',color=sns.color_palette('deep')[0],linewidth=2)\n",
    "    em_avg_ieq, = ax_ieq.plot([],[],linestyle='--',color=sns.color_palette('deep')[2],linewidth=2)\n",
    "    em_snap_nei, = ax_nei.plot([],[],linestyle='-',color=sns.color_palette('deep')[0],linewidth=2)\n",
    "    em_avg_nei, = ax_nei.plot([],[],linestyle='--',color=sns.color_palette('deep')[2],linewidth=2)\n",
    "    \n",
    "    #define initializer\n",
    "    def init():\n",
    "        progress.set_data([],[])\n",
    "        progress_t.set_data([],[])\n",
    "        em_ieq_snap.set_data([],[])\n",
    "        em_nei_snap.set_data([],[])\n",
    "        em_snap_ieq.set_data([],[])\n",
    "        em_avg_ieq.set_data([],[])\n",
    "        em_snap_nei.set_data([],[])\n",
    "        em_avg_nei.set_data([],[])\n",
    "        return progress,progress_t,em_ieq_snap,em_nei_snap,em_snap_ieq,em_avg_ieq,em_snap_nei,em_avg_nei\n",
    "    \n",
    "    #define animator function\n",
    "    def animate(i):\n",
    "        #get data and compute running averages\n",
    "        em_i = ieq_data['em_mat'][i,:]\n",
    "        em_n = nei_data['em_mat'][i,:]\n",
    "        if i > 0:\n",
    "            em_i_ra = np.average(ieq_data['em_mat'][0:i+1,:],weights=np.gradient(ieq_data['t'][0:i+1]),axis=0)\n",
    "            em_n_ra = np.average(nei_data['em_mat'][0:i+1,:],weights=np.gradient(nei_data['t'][0:i+1]),axis=0)\n",
    "        else:\n",
    "            em_i_ra = em_i\n",
    "            em_n_ra = em_n\n",
    "        #set data\n",
    "        progress.set_data([ieq_data['t'][i],ieq_data['t'][i]],[0.0,np.max(ieq_data['q'])])\n",
    "        progress_t.set_data([ieq_data['t'][i],ieq_data['t'][i]],[0.0,np.max(ieq_data['T'])/1e+6])\n",
    "        em_ieq_snap.set_data(ieq_data['T_em'],em_i)\n",
    "        em_nei_snap.set_data(nei_data['T_em'],em_n) \n",
    "        em_snap_ieq.set_data(ieq_data['T_em'],em_i)\n",
    "        em_avg_ieq.set_data(ieq_data['T_em'],em_i_ra)\n",
    "        em_snap_nei.set_data(nei_data['T_em'],em_n)\n",
    "        em_avg_nei.set_data(nei_data['T_em'],em_n_ra)\n",
    "        return progress,progress_t,em_ieq_snap,em_nei_snap,em_snap_ieq,em_avg_ieq,em_snap_nei,em_avg_nei\n",
    "    \n",
    "    #make animation\n",
    "    anim = animation.FuncAnimation(fig,animate,init_func=init, frames=len(duration), blit=True, interval=interval )\n",
    "\n",
    "    #save or return animation handler\n",
    "    if movie_filename is not None:\n",
    "        metadata={'title':'Evolving EM distributions, IEQ and NEI','author':'Will Barnes'}\n",
    "        anim.save(movie_filename,writer=animation.writers['ffmpeg'](fps=fps,metadata=metadata,bitrate=1800))\n",
    "    else:\n",
    "        plt.show()\n",
    "        #plt.close(anim._fig)\n",
    "        #return anim\n",
    "    "
   ]
  },
  {
   "cell_type": "code",
   "execution_count": 56,
   "metadata": {
    "collapsed": false
   },
   "outputs": [],
   "source": [
    "make_em_movie(em_results_dict['uniform_ieq'],em_results_dict['uniform_nei'],interval=10,duration=1200,movie_filename='/home/wtb2/Desktop/emEvolve_tn%d_uniform.mp4'%(tn_sample_val))"
   ]
  },
  {
   "cell_type": "code",
   "execution_count": 57,
   "metadata": {
    "collapsed": false
   },
   "outputs": [],
   "source": [
    "make_em_movie(em_results_dict['pl_ieq'],em_results_dict['pl_nei'],interval=10,duration=1200,movie_filename='/home/wtb2/Desktop/emEvolve_tn%d_pl.mp4'%(tn_sample_val))"
   ]
  },
  {
   "cell_type": "code",
   "execution_count": 58,
   "metadata": {
    "collapsed": true
   },
   "outputs": [],
   "source": [
    "make_em_movie(em_results_dict['pl_beta_ieq'],em_results_dict['pl_beta_nei'],interval=10,duration=1200,movie_filename='/home/wtb2/Desktop/emEvolve_tn%d_plBeta.mp4'%(tn_sample_val))"
   ]
  },
  {
   "cell_type": "code",
   "execution_count": null,
   "metadata": {
    "collapsed": true
   },
   "outputs": [],
   "source": []
  }
 ],
 "metadata": {
  "kernelspec": {
   "display_name": "Python 3",
   "language": "python",
   "name": "python3"
  },
  "language_info": {
   "codemirror_mode": {
    "name": "ipython",
    "version": 3
   },
   "file_extension": ".py",
   "mimetype": "text/x-python",
   "name": "python",
   "nbconvert_exporter": "python",
   "pygments_lexer": "ipython3",
   "version": "3.4.4"
  }
 },
 "nbformat": 4,
 "nbformat_minor": 0
}
