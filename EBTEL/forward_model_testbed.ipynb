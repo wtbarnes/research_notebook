{
 "cells": [
  {
   "cell_type": "markdown",
   "metadata": {},
   "source": [
    "# Forward Modelling with EBTEL and ChiantiPy\n",
    "\n",
    "Here, we'll do some tests of forward modeling some light curves using EBTEL and the ChiantiPy code."
   ]
  },
  {
   "cell_type": "code",
   "execution_count": 1,
   "metadata": {
    "collapsed": false
   },
   "outputs": [
    {
     "name": "stderr",
     "output_type": "stream",
     "text": [
      "/opt/local/Library/Frameworks/Python.framework/Versions/3.4/lib/python3.4/site-packages/IPython/parallel.py:13: ShimWarning: The `IPython.parallel` package has been deprecated. You should import from ipyparallel instead.\n",
      "  \"You should import from ipyparallel instead.\", ShimWarning)\n",
      "/opt/local/Library/Frameworks/Python.framework/Versions/3.4/lib/python3.4/site-packages/matplotlib/__init__.py:1350: UserWarning:  This call to matplotlib.use() has no effect\n",
      "because the backend has already been chosen;\n",
      "matplotlib.use() must be called *before* pylab, matplotlib.pyplot,\n",
      "or matplotlib.backends is imported for the first time.\n",
      "\n",
      "  warnings.warn(_use_error_msg)\n"
     ]
    },
    {
     "name": "stdout",
     "output_type": "stream",
     "text": [
      " using cli\n",
      " using CLI for selections\n"
     ]
    }
   ],
   "source": [
    "#standard imports\n",
    "import numpy as np\n",
    "import matplotlib.pyplot as plt\n",
    "import sys\n",
    "#ChiantiPy\n",
    "import chianti\n",
    "import chianti.core as ch\n",
    "#EBTEL helpers\n",
    "sys.path.append('/Users/willbarnes/Documents/Rice/Research/EBTEL_repo/bin/')\n",
    "import ebtel_wrapper as ew\n",
    "%matplotlib inline"
   ]
  },
  {
   "cell_type": "markdown",
   "metadata": {},
   "source": [
    "First, configure a standard EBTEL simulation."
   ]
  },
  {
   "cell_type": "code",
   "execution_count": 2,
   "metadata": {
    "collapsed": true
   },
   "outputs": [],
   "source": [
    "#input dictionary\n",
    "config_dict = {'usage_option':'dem','rad_option':'rk','dem_option':'new','heat_flux_option':'classical',\n",
    "              'solver':'euler','ic_mode':'st_eq','print_plasma_params':'True','heat_species':'electron'}\n",
    "config_dict['total_time'] = 5000\n",
    "config_dict['tau'] = 1.0\n",
    "config_dict['rka_error'] = 1.0e-6\n",
    "config_dict['index_dem'] = 451\n",
    "config_dict['sat_limit'] = 1.0/6.0\n",
    "config_dict['h_back'] = 3.5e-5\n",
    "config_dict['heating_shape'] = 'triangle'\n",
    "config_dict['t_start_switch'] = 'uniform'\n",
    "config_dict['t_end_switch'] = 'uniform'\n",
    "config_dict['T0'] = 1.0e+6\n",
    "config_dict['n0'] = 1.0e+8\n",
    "config_dict['t_start'] = 10.0\n",
    "config_dict['mean_t_start'] = 1000\n",
    "config_dict['std_t_start'] = 1000\n",
    "config_dict['amp_switch'] = 'uniform'\n",
    "config_dict['amp0'] = 0.001\n",
    "config_dict['amp1'] = 0.01\n",
    "config_dict['alpha'] = 1.5\n",
    "config_dict['loop_length'] = 40.0\n",
    "config_dict['num_events'] = 3\n",
    "config_dict['t_pulse_half'] = 100\n",
    "config_dict['h_nano'] = 0.1\n",
    "config_dict['sample_rate'] = 1\n",
    "config_dict['output_file'] = '/Users/willbarnes/Documents/Rice/Research/research_notebook/EBTEL/ebtel_data/fm_testing'"
   ]
  },
  {
   "cell_type": "code",
   "execution_count": 3,
   "metadata": {
    "collapsed": true
   },
   "outputs": [],
   "source": [
    "ew.print_xml_config(config_dict,config_file=config_dict['output_file']+'.xml')"
   ]
  },
  {
   "cell_type": "markdown",
   "metadata": {},
   "source": [
    "Run the model."
   ]
  },
  {
   "cell_type": "code",
   "execution_count": 4,
   "metadata": {
    "collapsed": true
   },
   "outputs": [],
   "source": [
    "ew.run_ebtel('/Users/willbarnes/Documents/Rice/Research/EBTEL_repo/bin/','',\n",
    "             config_file=config_dict['output_file']+'.xml')"
   ]
  },
  {
   "cell_type": "markdown",
   "metadata": {},
   "source": [
    "Import the data."
   ]
  },
  {
   "cell_type": "code",
   "execution_count": 5,
   "metadata": {
    "collapsed": true
   },
   "outputs": [],
   "source": [
    "data = np.loadtxt(config_dict['output_file']+'.txt')\n",
    "data_em = np.loadtxt(config_dict['output_file']+'_dem.txt')"
   ]
  },
  {
   "cell_type": "code",
   "execution_count": null,
   "metadata": {
    "collapsed": true
   },
   "outputs": [],
   "source": []
  }
 ],
 "metadata": {
  "kernelspec": {
   "display_name": "Python 3",
   "language": "python",
   "name": "python3"
  },
  "language_info": {
   "codemirror_mode": {
    "name": "ipython",
    "version": 3
   },
   "file_extension": ".py",
   "mimetype": "text/x-python",
   "name": "python",
   "nbconvert_exporter": "python",
   "pygments_lexer": "ipython3",
   "version": "3.4.4"
  }
 },
 "nbformat": 4,
 "nbformat_minor": 0
}
