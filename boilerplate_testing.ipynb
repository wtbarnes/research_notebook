{
 "cells": [
  {
   "cell_type": "code",
   "execution_count": 16,
   "metadata": {
    "collapsed": true
   },
   "outputs": [],
   "source": [
    "import sys\n",
    "from imp import reload\n",
    "import numpy as np\n",
    "import matplotlib.pyplot as plt\n",
    "sys.path.append('/home/wtb2/Documents/boilerplate/')\n",
    "import solvers0D as s0D\n",
    "reload(s0D)\n",
    "%matplotlib inline"
   ]
  },
  {
   "cell_type": "markdown",
   "metadata": {},
   "source": [
    "# Boilerplate Testing"
   ]
  },
  {
   "cell_type": "markdown",
   "metadata": {},
   "source": [
    "Notebook for testing boilerplate code."
   ]
  },
  {
   "cell_type": "markdown",
   "metadata": {},
   "source": [
    "## Solver Testing"
   ]
  },
  {
   "cell_type": "markdown",
   "metadata": {},
   "source": [
    "Testing Euler and RK4 general purpose solvers with projectile motion ODE."
   ]
  },
  {
   "cell_type": "code",
   "execution_count": 17,
   "metadata": {
    "collapsed": true
   },
   "outputs": [],
   "source": [
    "def projectile_derivs(s,time,tau,**kwargs):\n",
    "    #s=[vx,x,vy,y]\n",
    "    derivs = []\n",
    "    derivs.append(0)\n",
    "    derivs.append(s[0] + tau*derivs[0])\n",
    "    derivs.append(kwargs['g'])\n",
    "    derivs.append(s[2] + tau*derivs[2])\n",
    "    return derivs"
   ]
  },
  {
   "cell_type": "code",
   "execution_count": 18,
   "metadata": {
    "collapsed": true
   },
   "outputs": [],
   "source": [
    "#Initial parameters\n",
    "total_time = 3.0\n",
    "tau = 0.01\n",
    "state = [10.,0.,10.,5.]"
   ]
  },
  {
   "cell_type": "code",
   "execution_count": 19,
   "metadata": {
    "collapsed": true
   },
   "outputs": [],
   "source": [
    "#Instantiate solver class\n",
    "solver = s0D.Solvers0D(projectile_derivs,{'g':-9.8})"
   ]
  },
  {
   "cell_type": "markdown",
   "metadata": {},
   "source": [
    "First, test Euler solver."
   ]
  },
  {
   "cell_type": "code",
   "execution_count": 20,
   "metadata": {
    "collapsed": false
   },
   "outputs": [],
   "source": [
    "#Evolve\n",
    "pstate = []\n",
    "pstate.append(state)\n",
    "tvec = []\n",
    "time = 0.\n",
    "tvec.append(time)\n",
    "while time < total_time:\n",
    "    time += tau\n",
    "    tvec.append(time)\n",
    "    new_state = solver.euler_solve(state,time,tau)\n",
    "    pstate.append(new_state)\n",
    "    state=new_state"
   ]
  },
  {
   "cell_type": "code",
   "execution_count": 21,
   "metadata": {
    "collapsed": false
   },
   "outputs": [
    {
     "data": {
      "text/plain": [
       "[<matplotlib.lines.Line2D at 0x7f94c6f365f8>]"
      ]
     },
     "execution_count": 21,
     "metadata": {},
     "output_type": "execute_result"
    },
    {
     "data": {
      "image/png": "[encoded data removed]",
      "text/plain": [
       "<matplotlib.figure.Figure at 0x7f94c6fe6860>"
      ]
     },
     "metadata": {},
     "output_type": "display_data"
    }
   ],
   "source": [
    "plt.plot(tvec,np.array(pstate)[:,1])\n",
    "plt.plot(tvec,np.array(pstate)[:,3])\n",
    "plt.plot(tvec,10*np.array(tvec),'--r')\n",
    "plt.plot(tvec,5 + 10*np.array(tvec) - 0.5*9.8*np.array(tvec)**2,'--r')"
   ]
  },
  {
   "cell_type": "markdown",
   "metadata": {},
   "source": [
    "Now, reinitialize and test RK4 solver."
   ]
  },
  {
   "cell_type": "code",
   "execution_count": 22,
   "metadata": {
    "collapsed": true
   },
   "outputs": [],
   "source": [
    "#Initial parameters\n",
    "total_time = 3.0\n",
    "tau = 0.01\n",
    "state = [10.,0.,10.,5.]\n",
    "pstate = []\n",
    "pstate.append(state)\n",
    "tvec = []\n",
    "time = 0.\n",
    "tvec.append(time)"
   ]
  },
  {
   "cell_type": "code",
   "execution_count": 23,
   "metadata": {
    "collapsed": false
   },
   "outputs": [],
   "source": [
    "#Evolve\n",
    "while time < total_time:\n",
    "    time += tau\n",
    "    tvec.append(time)\n",
    "    new_state = solver.rk4_solve(state,time,tau)\n",
    "    pstate.append(new_state)\n",
    "    state=new_state"
   ]
  },
  {
   "cell_type": "code",
   "execution_count": 24,
   "metadata": {
    "collapsed": false
   },
   "outputs": [
    {
     "data": {
      "text/plain": [
       "[<matplotlib.lines.Line2D at 0x7f94c6ea46d8>]"
      ]
     },
     "execution_count": 24,
     "metadata": {},
     "output_type": "execute_result"
    },
    {
     "data": {
      "image/png": "[encoded data removed]",
      "text/plain": [
       "<matplotlib.figure.Figure at 0x7f94c6f4d198>"
      ]
     },
     "metadata": {},
     "output_type": "display_data"
    }
   ],
   "source": [
    "plt.plot(tvec,np.array(pstate)[:,1])\n",
    "plt.plot(tvec,np.array(pstate)[:,3])\n",
    "plt.plot(tvec,10*np.array(tvec),'--r')\n",
    "plt.plot(tvec,5 + 10*np.array(tvec) - 0.5*9.8*np.array(tvec)**2,'--r')"
   ]
  },
  {
   "cell_type": "markdown",
   "metadata": {
    "collapsed": true
   },
   "source": [
    "Include test to show usefulness of RK4 over Euler as step size increases (run time does not)"
   ]
  },
  {
   "cell_type": "code",
   "execution_count": null,
   "metadata": {
    "collapsed": true
   },
   "outputs": [],
   "source": []
  }
 ],
 "metadata": {
  "kernelspec": {
   "display_name": "Python 3",
   "language": "python",
   "name": "python3"
  },
  "language_info": {
   "codemirror_mode": {
    "name": "ipython",
    "version": 3
   },
   "file_extension": ".py",
   "mimetype": "text/x-python",
   "name": "python",
   "nbconvert_exporter": "python",
   "pygments_lexer": "ipython3",
   "version": "3.4.3"
  }
 },
 "nbformat": 4,
 "nbformat_minor": 0
}
