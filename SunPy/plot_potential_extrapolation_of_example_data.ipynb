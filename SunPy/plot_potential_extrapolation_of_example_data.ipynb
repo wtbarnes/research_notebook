{
 "cells": [
  {
   "cell_type": "markdown",
   "metadata": {},
   "source": [
    "\n",
    "# Generated Data Extrapolation\n",
    "\n",
    "\n",
    "In this example you will be generating some example data and extrapolate this\n",
    "using the basic potential extrapolator.\n"
   ]
  },
  {
   "cell_type": "markdown",
   "metadata": {},
   "source": [
    "You can start by importing the necessary module components.\n"
   ]
  },
  {
   "cell_type": "code",
   "execution_count": 1,
   "metadata": {
    "collapsed": true
   },
   "outputs": [],
   "source": [
    "import solarbextrapolation"
   ]
  },
  {
   "cell_type": "code",
   "execution_count": 2,
   "metadata": {
    "collapsed": false
   },
   "outputs": [
    {
     "name": "stderr",
     "output_type": "stream",
     "text": [
      "/opt/anaconda3/envs/py27/lib/python2.7/site-packages/matplotlib-1.5.1-py2.7-linux-x86_64.egg/matplotlib/font_manager.py:273: UserWarning: Matplotlib is building the font cache using fc-list. This may take a moment.\n",
      "  warnings.warn('Matplotlib is building the font cache using fc-list. This may take a moment.')\n",
      "/opt/anaconda3/envs/py27/lib/python2.7/site-packages/sunpy-0.7.dev6442-py2.7-linux-x86_64.egg/sunpy/visualization/wcsaxes_compat.py:17: UserWarning: SunPy plotting is improved by installing the WCSAxes module: http://wcsaxes.readthedocs.org/en/latest/index.html\n",
      "  warnings.warn(\"SunPy plotting is improved by installing the WCSAxes module: http://wcsaxes.readthedocs.org/en/latest/index.html\")\n"
     ]
    }
   ],
   "source": [
    "# Module imports\n",
    "from solarbextrapolation.map3dclasses import Map3D\n",
    "#from solarbextrapolation.potential_field_extrapolator import PotentialExtrapolator\n",
    "from solarbextrapolation.extrapolators import PotentialExtrapolator\n",
    "from solarbextrapolation.example_data_generator import generate_example_data, dummyDataToMap\n",
    "#from solarbextrapolation.visualisation_functions import visualise"
   ]
  },
  {
   "cell_type": "markdown",
   "metadata": {},
   "source": [
    "You also need the ability to convert astropyunits and use MayaVi for\n",
    "visualisation.\n"
   ]
  },
  {
   "cell_type": "code",
   "execution_count": 8,
   "metadata": {
    "collapsed": false
   },
   "outputs": [],
   "source": [
    "# General imports\n",
    "import astropy.units as u\n",
    "#from mayavi import mlab\n",
    "import numpy as np\n",
    "import matplotlib.pyplot as plt\n",
    "%matplotlib inline"
   ]
  },
  {
   "cell_type": "markdown",
   "metadata": {},
   "source": [
    "You are going to try and define a 3D cuboid grid of 20x22x20 with ranges in\n",
    "arcseconds, these parameters can be stored in the following lists and astropy\n",
    "quantities.\n"
   ]
  },
  {
   "cell_type": "code",
   "execution_count": 4,
   "metadata": {
    "collapsed": false
   },
   "outputs": [],
   "source": [
    "# Input parameters:\n",
    "arr_grid_shape = [ 20, 22, 20 ]         # [ y-size, x-size ]\n",
    "xrange = u.Quantity([ -10.0, 10.0 ] * u.arcsec)\n",
    "yrange = u.Quantity([ -11.0, 11.0 ] * u.arcsec)\n",
    "zrange = u.Quantity([ 0,     20.0 ] * u.arcsec)"
   ]
  },
  {
   "cell_type": "markdown",
   "metadata": {},
   "source": [
    "The generated data will consist of a 2D space with 2 Gaussian spots, one\n",
    "positive and one negative, on a background of 0.0.\n",
    "solarbextrapolation.example_data_generator provides many ways to achieve this,\n",
    "including letting it randomly generate the position, magnitude and size of\n",
    "each spot.\n",
    "In this case you will manually define the parameters of each spot as a list,\n",
    "using percentage units so that the spots will be inside the given ranges of\n",
    "any generated data:\n"
   ]
  },
  {
   "cell_type": "code",
   "execution_count": 5,
   "metadata": {
    "collapsed": false
   },
   "outputs": [],
   "source": [
    "# Manual Pole Details\n",
    "#arrA# = [ position, size, maximum strength ]\n",
    "arrA0 = [ u.Quantity([ 25, 25 ] * u.percent), 10.0 * u.percent,  0.2 * u.T ]\n",
    "arrA1 = [ u.Quantity([ 75, 75 ] * u.percent), 10.0 * u.percent, -0.2 * u.T ]"
   ]
  },
  {
   "cell_type": "markdown",
   "metadata": {},
   "source": [
    "You generate the data using generate_example_data(...) and create a map with\n",
    "this using dummyDataToMap(...).\n"
   ]
  },
  {
   "cell_type": "code",
   "execution_count": 6,
   "metadata": {
    "collapsed": false
   },
   "outputs": [],
   "source": [
    "# Generate the data and make into a map\n",
    "arr_data = generate_example_data(arr_grid_shape[0:2], xrange, yrange, arrA0, arrA1)\n",
    "map_boundary = dummyDataToMap(arr_data, xrange, yrange)"
   ]
  },
  {
   "cell_type": "markdown",
   "metadata": {},
   "source": [
    "You can check the resulting generated data by using peek().\n"
   ]
  },
  {
   "cell_type": "code",
   "execution_count": 9,
   "metadata": {
    "collapsed": false
   },
   "outputs": [
    {
     "name": "stderr",
     "output_type": "stream",
     "text": [
      "/opt/anaconda3/envs/py27/lib/python2.7/site-packages/matplotlib-1.5.1-py2.7-linux-x86_64.egg/matplotlib/figure.py:397: UserWarning: matplotlib is currently using a non-GUI backend, so cannot show the figure\n",
      "  \"matplotlib is currently using a non-GUI backend, \"\n"
     ]
    },
    {
     "data": {
      "image/png": "[encoded data removed]",
      "text/plain": [
       "<matplotlib.figure.Figure at 0x7f531e745990>"
      ]
     },
     "metadata": {},
     "output_type": "display_data"
    }
   ],
   "source": [
    "map_boundary.peek()"
   ]
  },
  {
   "cell_type": "markdown",
   "metadata": {},
   "source": [
    "You now simply want to extrapolate using this boundary data, this is achieved\n",
    "by first creating a potential extrapolator object and then by running the\n",
    "extrapolate on this to return a Map3D object with the resulting vector field.\n"
   ]
  },
  {
   "cell_type": "code",
   "execution_count": 10,
   "metadata": {
    "collapsed": false
   },
   "outputs": [
    {
     "name": "stdout",
     "output_type": "stream",
     "text": [
      "False\n",
      "\n",
      "extrapolation duration: 0.217 s\n",
      "\n"
     ]
    },
    {
     "name": "stderr",
     "output_type": "stream",
     "text": [
      "/opt/anaconda3/envs/py27/lib/python2.7/site-packages/sunpy-0.7.dev6442-py2.7-linux-x86_64.egg/sunpy/map/mapbase.pyc:133: Warning: Missing metadata for Sun-spacecraft separation: assuming Sun-Earth distance\n",
      "  \n"
     ]
    }
   ],
   "source": [
    "# Use potential extrapolator to generate field\n",
    "aPotExt = PotentialExtrapolator(map_boundary, zshape=arr_grid_shape[2], zrange=zrange)\n",
    "aMap3D  = aPotExt.extrapolate(enable_numba=True)\n",
    "\n",
    "# The Extrapolations run time is stored in the meta\n",
    "floSeconds = np.round(aMap3D.meta['extrapolator_duration'],3)\n",
    "print('\\nextrapolation duration: ' + str(floSeconds) + ' s\\n')"
   ]
  },
  {
   "cell_type": "markdown",
   "metadata": {},
   "source": [
    "Note that you used enable_numba=True to speed up the computation on systems\n",
    "with Anaconda numba installed.\n"
   ]
  },
  {
   "cell_type": "code",
   "execution_count": 20,
   "metadata": {
    "collapsed": false
   },
   "outputs": [
    {
     "data": {
      "text/plain": [
       "{'boundary_1_meta': MapMeta([('rsun_ref', 696000000),\n",
       "          ('naxis', 2),\n",
       "          ('naxis2', 20),\n",
       "          ('crval2', 0.0),\n",
       "          ('crpix1', 11.5),\n",
       "          ('t_obs', '2016-02-22T18:01:40.495984'),\n",
       "          ('crpix2', 10.5),\n",
       "          ('naxis1', 8),\n",
       "          ('cdelt1', 1.0),\n",
       "          ('cdelt2', 1.0),\n",
       "          ('crval1', 0.0),\n",
       "          ('datavals', 400),\n",
       "          ('dsun_ref', 149597870691),\n",
       "          ('cunit1', 'arcsec'),\n",
       "          ('bunit', 'Tesla'),\n",
       "          ('bitpix', 64),\n",
       "          ('cunit2', 'arcsec'),\n",
       "          ('datamin', -0.19384664689521952),\n",
       "          ('datamax', 0.19384664689521952)]),\n",
       " 'cdelt1': 1.1,\n",
       " 'cdelt2': 0.9090909090909091,\n",
       " 'cdelt3': 1.0,\n",
       " 'cunit1': Unit(\"arcsec\"),\n",
       " 'cunit2': Unit(\"arcsec\"),\n",
       " 'cunit3': Unit(\"arcsec\"),\n",
       " 'extrapolator_duration': 0.21719884872436523,\n",
       " 'extrapolator_duration_unit': Unit(\"s\"),\n",
       " 'extrapolator_notes': '',\n",
       " 'extrapolator_routine': 'Potential Field Extrapolator',\n",
       " 'extrapolator_start_time': '2016-02-22T18:02:48.765128',\n",
       " 'naxis1': 20,\n",
       " 'naxis2': 22,\n",
       " 'naxis3': 20,\n",
       " 'rsun_ref': 695508000.0,\n",
       " 'xobsrange': <Quantity [-11., 11.] arcsec>,\n",
       " 'xrange': <Quantity [-11., 11.] arcsec>,\n",
       " 'yobsrange': <Quantity [-10., 10.] arcsec>,\n",
       " 'yrange': <Quantity [-10., 10.] arcsec>,\n",
       " 'zrange': <Quantity [  0., 20.] arcsec>}"
      ]
     },
     "execution_count": 20,
     "metadata": {},
     "output_type": "execute_result"
    }
   ],
   "source": [
    "aMap3D.meta"
   ]
  },
  {
   "cell_type": "markdown",
   "metadata": {},
   "source": [
    "You can now get a quick and easy visualisation using the\n",
    "solarbextrapolation.example_data_generator.visualise tools:\n"
   ]
  },
  {
   "cell_type": "code",
   "execution_count": null,
   "metadata": {
    "collapsed": false
   },
   "outputs": [],
   "source": [
    "# Visualise the 3D vector field\n",
    "fig = visualise(aMap3D,\n",
    "                boundary=map_boundary,\n",
    "                volume_units=[1.0*u.arcsec, 1.0*u.arcsec, 1.0*u.Mm],\n",
    "                show_boundary_axes=False,\n",
    "                boundary_units=[1.0*u.arcsec, 1.0*u.arcsec],\n",
    "                show_volume_axes=True,\n",
    "                debug=False)\n",
    "mlab.show()"
   ]
  },
  {
   "cell_type": "markdown",
   "metadata": {},
   "source": [
    "Note that the parameters here are simply to decide what boundary ranges\n",
    "to display.\n"
   ]
  }
 ],
 "metadata": {
  "kernelspec": {
   "display_name": "Python 2",
   "language": "python",
   "name": "python2"
  },
  "language_info": {
   "codemirror_mode": {
    "name": "ipython",
    "version": 2
   },
   "file_extension": ".py",
   "mimetype": "text/x-python",
   "name": "python",
   "nbconvert_exporter": "python",
   "pygments_lexer": "ipython2",
   "version": "2.7.11"
  }
 },
 "nbformat": 4,
 "nbformat_minor": 0
}
