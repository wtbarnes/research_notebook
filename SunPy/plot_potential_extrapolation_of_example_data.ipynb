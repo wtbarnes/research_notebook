{
  "nbformat_minor": 0, 
  "nbformat": 4, 
  "cells": [
    {
      "execution_count": null, 
      "cell_type": "code", 
      "source": [
        "%matplotlib inline"
      ], 
      "outputs": [], 
      "metadata": {
        "collapsed": false
      }
    }, 
    {
      "source": [
        "\n# Generated Data Extrapolation\n\n\nIn this example you will be generating some example data and extrapolate this\nusing the basic potential extrapolator.\n"
      ], 
      "cell_type": "markdown", 
      "metadata": {}
    }, 
    {
      "source": [
        "You can start by importing the necessary module components.\n"
      ], 
      "cell_type": "markdown", 
      "metadata": {}
    }, 
    {
      "execution_count": null, 
      "cell_type": "code", 
      "source": [
        "# Module imports\nfrom solarbextrapolation.map3dclasses import Map3D\n#from solarbextrapolation.potential_field_extrapolator import PotentialExtrapolator\nfrom solarbextrapolation.extrapolators import PotentialExtrapolator\nfrom solarbextrapolation.example_data_generator import generate_example_data, dummyDataToMap\nfrom solarbextrapolation.visualisation_functions import visualise"
      ], 
      "outputs": [], 
      "metadata": {
        "collapsed": false
      }
    }, 
    {
      "source": [
        "You also need the ability to convert astropyunits and use MayaVi for\nvisualisation.\n"
      ], 
      "cell_type": "markdown", 
      "metadata": {}
    }, 
    {
      "execution_count": null, 
      "cell_type": "code", 
      "source": [
        "# General imports\nimport astropy.units as u\nfrom mayavi import mlab\nimport numpy as np"
      ], 
      "outputs": [], 
      "metadata": {
        "collapsed": false
      }
    }, 
    {
      "source": [
        "You are going to try and define a 3D cuboid grid of 20x22x20 with ranges in\narcseconds, these parameters can be stored in the following lists and astropy\nquantities.\n"
      ], 
      "cell_type": "markdown", 
      "metadata": {}
    }, 
    {
      "execution_count": null, 
      "cell_type": "code", 
      "source": [
        "# Input parameters:\narr_grid_shape = [ 20, 22, 20 ]         # [ y-size, x-size ]\nxrange = u.Quantity([ -10.0, 10.0 ] * u.arcsec)\nyrange = u.Quantity([ -11.0, 11.0 ] * u.arcsec)\nzrange = u.Quantity([ 0,     20.0 ] * u.arcsec)"
      ], 
      "outputs": [], 
      "metadata": {
        "collapsed": false
      }
    }, 
    {
      "source": [
        "The generated data will consist of a 2D space with 2 Gaussian spots, one\npositive and one negative, on a background of 0.0.\nsolarbextrapolation.example_data_generator provides many ways to achieve this,\nincluding letting it randomly generate the position, magnitude and size of\neach spot.\nIn this case you will manually define the parameters of each spot as a list,\nusing percentage units so that the spots will be inside the given ranges of\nany generated data:\n"
      ], 
      "cell_type": "markdown", 
      "metadata": {}
    }, 
    {
      "execution_count": null, 
      "cell_type": "code", 
      "source": [
        "# Manual Pole Details\n#arrA# = [ position, size, maximum strength ]\narrA0 = [ u.Quantity([ 25, 25 ] * u.percent), 10.0 * u.percent,  0.2 * u.T ]\narrA1 = [ u.Quantity([ 75, 75 ] * u.percent), 10.0 * u.percent, -0.2 * u.T ]"
      ], 
      "outputs": [], 
      "metadata": {
        "collapsed": false
      }
    }, 
    {
      "source": [
        "You generate the data using generate_example_data(...) and create a map with\nthis using dummyDataToMap(...).\n"
      ], 
      "cell_type": "markdown", 
      "metadata": {}
    }, 
    {
      "execution_count": null, 
      "cell_type": "code", 
      "source": [
        "# Generate the data and make into a map\narr_data = generate_example_data(arr_grid_shape[0:2], xrange, yrange, arrA0, arrA1)\nmap_boundary = dummyDataToMap(arr_data, xrange, yrange)"
      ], 
      "outputs": [], 
      "metadata": {
        "collapsed": false
      }
    }, 
    {
      "source": [
        "You can check the resulting generated data by using peek().\n"
      ], 
      "cell_type": "markdown", 
      "metadata": {}
    }, 
    {
      "execution_count": null, 
      "cell_type": "code", 
      "source": [
        "map_boundary.peek()"
      ], 
      "outputs": [], 
      "metadata": {
        "collapsed": false
      }
    }, 
    {
      "source": [
        "You now simply want to extrapolate using this boundary data, this is achieved\nby first creating a potential extrapolator object and then by running the\nextrapolate on this to return a Map3D object with the resulting vector field.\n"
      ], 
      "cell_type": "markdown", 
      "metadata": {}
    }, 
    {
      "execution_count": null, 
      "cell_type": "code", 
      "source": [
        "# Use potential extrapolator to generate field\naPotExt = PotentialExtrapolator(map_boundary, zshape=arr_grid_shape[2], zrange=zrange)\naMap3D  = aPotExt.extrapolate(enable_numba=True)\n\n# The Extrapolations run time is stored in the meta\nfloSeconds = np.round(aMap3D.meta['extrapolator_duration'],3)\nprint('\\nextrapolation duration: ' + str(floSeconds) + ' s\\n')"
      ], 
      "outputs": [], 
      "metadata": {
        "collapsed": false
      }
    }, 
    {
      "source": [
        "Note that you used enable_numba=True to speed up the computation on systems\nwith Anaconda numba installed.\n"
      ], 
      "cell_type": "markdown", 
      "metadata": {}
    }, 
    {
      "source": [
        "You can now get a quick and easy visualisation using the\nsolarbextrapolation.example_data_generator.visualise tools:\n"
      ], 
      "cell_type": "markdown", 
      "metadata": {}
    }, 
    {
      "execution_count": null, 
      "cell_type": "code", 
      "source": [
        "# Visualise the 3D vector field\nfig = visualise(aMap3D,\n                boundary=map_boundary,\n                volume_units=[1.0*u.arcsec, 1.0*u.arcsec, 1.0*u.Mm],\n                show_boundary_axes=False,\n                boundary_units=[1.0*u.arcsec, 1.0*u.arcsec],\n                show_volume_axes=True,\n                debug=False)\nmlab.show()"
      ], 
      "outputs": [], 
      "metadata": {
        "collapsed": false
      }
    }, 
    {
      "source": [
        "Note that the parameters here are simply to decide what boundary ranges\nto display.\n"
      ], 
      "cell_type": "markdown", 
      "metadata": {}
    }
  ], 
  "metadata": {
    "kernelspec": {
      "display_name": "Python 2", 
      "name": "python2", 
      "language": "python"
    }, 
    "language_info": {
      "mimetype": "text/x-python", 
      "nbconvert_exporter": "python", 
      "name": "python", 
      "file_extension": ".py", 
      "version": "2.7.11", 
      "pygments_lexer": "ipython2", 
      "codemirror_mode": {
        "version": 2, 
        "name": "ipython"
      }
    }
  }
}