{
  "nbformat_minor": 0, 
  "nbformat": 4, 
  "cells": [
    {
      "execution_count": null, 
      "cell_type": "code", 
      "source": [
        "%matplotlib inline"
      ], 
      "outputs": [], 
      "metadata": {
        "collapsed": false
      }
    }, 
    {
      "source": [
        "\n# HMI FITS File Extrapolation\n\n\nExample of extrapolating from a HMI fitts file using the potential\nextrapolator and visualising.\n"
      ], 
      "cell_type": "markdown", 
      "metadata": {}
    }, 
    {
      "execution_count": null, 
      "cell_type": "code", 
      "source": [
        "# General imports\nimport numpy as np\nimport sunpy.map as mp\nfrom astropy import units as u\nfrom mayavi import mlab\nimport os\n\n# Module imports\nfrom solarbextrapolation.map3dclasses import Map3D\nfrom solarbextrapolation.extrapolators import PotentialExtrapolator\nfrom solarbextrapolation.visualisation_functions import visualise\n\n# Cropping into the active region within the HMI map\nstr_vol_filepath = 'C:\\\\git\\\\solarbextrapolation\\\\examples\\\\2011-02-14__20-35-25__02_Bxyz.npy'\nxrange = u.Quantity([50, 300] * u.arcsec)\nyrange = u.Quantity([-350, -100] * u.arcsec)\nzrange = u.Quantity([0, 250] * u.arcsec)\nxrangeextended = u.Quantity([xrange.value[0] - 50, xrange.value[1] + 50] *\n                            xrange.unit)\nyrangeextended = u.Quantity([yrange.value[0] - 50, yrange.value[1] + 50] *\n                            yrange.unit)\n\n# Open the map and create a cropped version for the extrapolation.\nmap_hmi = mp.Map(\n    'C:\\\\git\\\\solarbextrapolation\\\\examples\\\\2011-02-14__20-35-25__01_hmi.fits')\nmap_hmi_cropped = map_hmi.submap(xrange, yrange)\ndimensions = u.Quantity([100, 100] * u.pixel)\nmap_hmi_cropped_resampled = map_hmi_cropped.resample(dimensions,\n                                                     method='linear')\n\n# Open the map and create a cropped version for the visualisation.\n#map_boundary = mp.Map('C:\\\\git\\\\solarbextrapolation\\\\examples\\\\2011-02-14__20-35-25__02_aia.fits') # For AIA\nmap_boundary = mp.Map(\n    'C:\\\\git\\\\solarbextrapolation\\\\examples\\\\2011-02-14__20-35-25__01_hmi.fits'\n)  # For HMI\n\nmap_boundary_cropped = map_boundary.submap(xrangeextended, yrangeextended)\n\n# Only extrapolate if we don't have a saved version\nif not os.path.isfile(str_vol_filepath):\n    aPotExt = PotentialExtrapolator(map_hmi_cropped_resampled,\n                                    filepath=str_vol_filepath,\n                                    zshape=dimensions[0].value,\n                                    zrange=zrange)\n    aMap3D = aPotExt.extrapolate()\naMap3D = Map3D.load(str_vol_filepath)\nprint('\\nextrapolation duration: ' + str(np.round(aMap3D.meta['extrapolator_duration'], 3)) + ' s\\n')\n\n# Visualise this\nvisualise(aMap3D,\n          boundary=map_boundary_cropped,\n          scale=1.0 * u.Mm,\n          boundary_unit=1.0 * u.arcsec,\n          show_boundary_axes=False,\n          show_volume_axes=True,\n          debug=False)\nmlab.show()"
      ], 
      "outputs": [], 
      "metadata": {
        "collapsed": false
      }
    }
  ], 
  "metadata": {
    "kernelspec": {
      "display_name": "Python 2", 
      "name": "python2", 
      "language": "python"
    }, 
    "language_info": {
      "mimetype": "text/x-python", 
      "nbconvert_exporter": "python", 
      "name": "python", 
      "file_extension": ".py", 
      "version": "2.7.11", 
      "pygments_lexer": "ipython2", 
      "codemirror_mode": {
        "version": 2, 
        "name": "ipython"
      }
    }
  }
}