{
  "nbformat_minor": 0, 
  "nbformat": 4, 
  "cells": [
    {
      "execution_count": null, 
      "cell_type": "code", 
      "source": [
        "%matplotlib inline"
      ], 
      "outputs": [], 
      "metadata": {
        "collapsed": false
      }
    }, 
    {
      "source": [
        "\n# Extrapolating HMI Data\n\n\nIn this example you will be downloading boundary data from VSO, extrapolating\nusing the potential extrapolator and visualising in MayaVi.\n"
      ], 
      "cell_type": "markdown", 
      "metadata": {}
    }, 
    {
      "source": [
        "You start by importing the necessary modules.\n"
      ], 
      "cell_type": "markdown", 
      "metadata": {}
    }, 
    {
      "execution_count": null, 
      "cell_type": "code", 
      "source": [
        "# General imports\nimport numpy as np\nimport sunpy.map as mp\nfrom sunpy.net import vso\nfrom astropy import units as u\nfrom mayavi import mlab # Necessary for visulisation\nimport os\n\n# Module imports\nfrom solarbextrapolation.map3dclasses import Map3D\nfrom solarbextrapolation.extrapolators import PotentialExtrapolator\nfrom solarbextrapolation.visualisation_functions import visualise"
      ], 
      "outputs": [], 
      "metadata": {
        "collapsed": false
      }
    }, 
    {
      "source": [
        "You will retrieve the boundary data from the VSO using the SunPy VSO client.\nIn this case we will retrieve an SDO HMI line-of-sight magnetogram that was\nmade on the 14th of February 2011, as used in Sun et al (2012).\n"
      ], 
      "cell_type": "markdown", 
      "metadata": {}
    }, 
    {
      "execution_count": null, 
      "cell_type": "code", 
      "source": [
        "# Create a new VSOClient instance\nclient = vso.VSOClient()\n\n# Build the query, this can return one item, or a list of them to DL matching\n# the given filters.\nresult_hmi = client.query(\n    # The following are filters for collecting the desired data.\n    vso.attrs.Time((2011, 2, 14, 20, 34, 0), (2011, 2, 14, 21, 0, 0)), # Time range.\n    vso.attrs.Instrument('HMI'),               # Helioseismic and Magnetic Imager.\n    vso.attrs.Physobs('LOS_magnetic_field'),   # Physical observables\n    vso.attrs.Sample(4000 * u.s)               # Only take a shot every $var seconds.\n    # More observables at http://sdac.virtualsolar.org/cgi/show_details?keyword=PHYSOBS\n)\n\n# Save the results to fits files. (Using Rice compression if possible)\ndata_hmi = client.get(result_hmi, methods=('URL-FILE_Rice', 'URL-FILE')).wait()"
      ], 
      "outputs": [], 
      "metadata": {
        "collapsed": false
      }
    }, 
    {
      "source": [
        "You may also decide to get the corrisponding SDO AIA data showing the EUV\nimage at the same time, this can be used to see the flux tubes for comparrison\nto the vector field streamlines for visulisation.\n"
      ], 
      "cell_type": "markdown", 
      "metadata": {}
    }, 
    {
      "execution_count": null, 
      "cell_type": "code", 
      "source": [
        "# Query VSO.\nresult_aia = client.query(\n    vso.attrs.Time((2011, 2, 14, 20, 34, 0), (2011, 2, 14, 21, 0, 0)), # Time range.\n    vso.attrs.Instrument('AIA'),    # Helioseismic and Magnetic Imager.\n    vso.attrs.Physobs('intensity'), # Physical observables\n    vso.attrs.Sample(4000 * u.s)    # Only take a shot every $var seconds.\n    # More observables at http://sdac.virtualsolar.org/cgi/show_details?keyword=PHYSOBS\n)\n\n# Save the results to fits files. (Using Rice compression if possible)\ndata_aia = client.get(result_aia, methods=('URL-FILE_Rice', 'URL-FILE')).wait()"
      ], 
      "outputs": [], 
      "metadata": {
        "collapsed": false
      }
    }, 
    {
      "source": [
        "You want to crop on solar-x and solar-y the the active region of interest.\nLikewise you want to decide on the altertude ranges to extrapolate within.\nExtrapolators use astropy quantities for ranges, importanmtly these are\ndesigned to work with either physical length or angular units, conversion is\ndone using the assumption the boundary data ios on the surface of the sun and\nfollowing the small angle approximation.\nIn this case we use angular uniits (arcsec specifically) for the zrange\nquantity, this is physically meaningless, but gives an easy way to ensure\nyour zrange is similar to teh other ranges.\nWe also want extended solar-x and solar-y ranges for plotting the\n"
      ], 
      "cell_type": "markdown", 
      "metadata": {}
    }, 
    {
      "execution_count": null, 
      "cell_type": "code", 
      "source": [
        "# Cropping into the active region within the HMI map\nxrange = u.Quantity([50,    300] * u.arcsec)\nyrange = u.Quantity([-350, -100] * u.arcsec)\nzrange = u.Quantity([0,     250] * u.arcsec)\n\n# Open the map and create a cropped version for the extrapolation.\nmap_hmi = mp.Map(data_hmi[0])\nmap_hmi_cropped = map_hmi.submap(xrange, yrange)"
      ], 
      "outputs": [], 
      "metadata": {
        "collapsed": false
      }
    }, 
    {
      "source": [
        "If your boundary data has a high resolution then you may need to resample to\nensure it extrapolates within a reasonable timeframe.\n"
      ], 
      "cell_type": "markdown", 
      "metadata": {}
    }, 
    {
      "execution_count": null, 
      "cell_type": "code", 
      "source": [
        "# Resample boundary data map\nshape = u.Quantity([20, 20] * u.pixel)\nmap_hmi_cropped_resampled = map_hmi_cropped.resample(shape, method='linear')"
      ], 
      "outputs": [], 
      "metadata": {
        "collapsed": false
      }
    }, 
    {
      "source": [
        "You can check the resulting generated data by using peek().\n"
      ], 
      "cell_type": "markdown", 
      "metadata": {}
    }, 
    {
      "execution_count": null, 
      "cell_type": "code", 
      "source": [
        "map_hmi_cropped_resampled.peek()"
      ], 
      "outputs": [], 
      "metadata": {
        "collapsed": false
      }
    }, 
    {
      "source": [
        "To speed up repeat usage of this script it will save the extrapolation output,\nyou can use os.path.isfile() to check if the file already exists, assuming it\ndoesn't you will extrapolate and create it, otherwise you load it.\n"
      ], 
      "cell_type": "markdown", 
      "metadata": {}
    }, 
    {
      "execution_count": null, 
      "cell_type": "code", 
      "source": [
        "# Only extrapolate if we don't have a saved version\nstr_vol_filepath = data_hmi[0][0:-5] + '_Bxyz.npy'\nif not os.path.isfile(str_vol_filepath):\n    # Create the potential extrapolator and run the extrapolate method.\n    aPotExt = PotentialExtrapolator(map_hmi_cropped_resampled, filepath=str_vol_filepath, zshape=20, zrange=zrange)\n    aMap3D = aPotExt.extrapolate()\n# Load the results.\naMap3D = Map3D.load(str_vol_filepath)\n#print '\\nextrapolation duration: ' + str(np.round(aMap3D.meta['extrapolator_duration'],3)) + ' s\\n'"
      ], 
      "outputs": [], 
      "metadata": {
        "collapsed": false
      }
    }, 
    {
      "source": [
        "For the perposes of visualisation we will want an extended boundary data, not\njust that of the extrapolated region, and at the instruments full resolution,\nnot resampled.\n"
      ], 
      "cell_type": "markdown", 
      "metadata": {}
    }, 
    {
      "execution_count": null, 
      "cell_type": "code", 
      "source": [
        "xrangeextended = u.Quantity([ xrange.value[0] - 50, xrange.value[1] + 50 ] * xrange.unit)\nyrangeextended = u.Quantity([ yrange.value[0] - 50, yrange.value[1] + 50 ] * yrange.unit)\n\n# Open the map and create a cropped version for the visualisation.\nmap_boundary = mp.Map(data_hmi[0])\nmap_boundary_cropped = map_boundary.submap(xrangeextended, yrangeextended)"
      ], 
      "outputs": [], 
      "metadata": {
        "collapsed": false
      }
    }, 
    {
      "source": [
        "You can now get a quick and easy visualisation using the\nsolarbextrapolation.example_data_generator.visualise tools:\n"
      ], 
      "cell_type": "markdown", 
      "metadata": {}
    }, 
    {
      "execution_count": null, 
      "cell_type": "code", 
      "source": [
        "# Visualise the 3D vector field\nvisualise(aMap3D, boundary=map_boundary_cropped, scale=1.0*u.Mm, boundary_unit=1.0*u.arcsec, show_boundary_axes=False, show_volume_axes=True, debug=False)\nmlab.show()"
      ], 
      "outputs": [], 
      "metadata": {
        "collapsed": false
      }
    }
  ], 
  "metadata": {
    "kernelspec": {
      "display_name": "Python 2", 
      "name": "python2", 
      "language": "python"
    }, 
    "language_info": {
      "mimetype": "text/x-python", 
      "nbconvert_exporter": "python", 
      "name": "python", 
      "file_extension": ".py", 
      "version": "2.7.11", 
      "pygments_lexer": "ipython2", 
      "codemirror_mode": {
        "version": 2, 
        "name": "ipython"
      }
    }
  }
}