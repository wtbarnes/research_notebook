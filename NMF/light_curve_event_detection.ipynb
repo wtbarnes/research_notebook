{
 "cells": [
  {
   "cell_type": "code",
   "execution_count": null,
   "metadata": {
    "collapsed": false
   },
   "outputs": [],
   "source": [
    "import sys\n",
    "import os\n",
    "import logging\n",
    "from imp import reload\n",
    "import numpy as np\n",
    "import seaborn.apionly as sns\n",
    "import matplotlib.pyplot as plt\n",
    "plt.style.use('papers')\n",
    "%matplotlib inline\n",
    "import sklearn.decomposition as skd\n",
    "import chianti.core as ch\n",
    "research_root = '/home/wtb2/Documents'\n",
    "sys.path.append(os.path.join(research_root,'solarnmf'))\n",
    "sys.path.append(os.path.join(research_root,'EBTEL_C/bin/'))\n",
    "sys.path.append(os.path.join(research_root,'EBTEL_analysis/src/'))\n",
    "import solarnmf as snf\n",
    "import ebtel_wrapper as ebw\n",
    "import em_binner as emb\n",
    "reload(snf)\n",
    "reload(emb)"
   ]
  },
  {
   "cell_type": "markdown",
   "metadata": {},
   "source": [
    "# Event Detection in Forward Modeled Light Curves\n",
    "Use EBTEL to create synthetic light curves and then use NMF to try and detect the number of events in this light curve."
   ]
  },
  {
   "cell_type": "markdown",
   "metadata": {},
   "source": [
    "## EBTEL Run\n",
    "First, run the EBTEL model for a couple of heating events and get a temperature and density profile."
   ]
  },
  {
   "cell_type": "code",
   "execution_count": null,
   "metadata": {
    "collapsed": false
   },
   "outputs": [],
   "source": [
    "#input dictionary\n",
    "config_dict = {'usage_option':'dem','rad_option':'rk','dem_option':'new','heat_flux_option':'classical',\n",
    "              'solver':'euler','ic_mode':'st_eq','print_plasma_params':'True'}\n",
    "config_dict['total_time'] = 100\n",
    "config_dict['tau'] = 1.0\n",
    "config_dict['rka_error'] = 1.0e-6\n",
    "config_dict['index_dem'] = 451\n",
    "config_dict['sat_limit'] = 1.0/6.0\n",
    "config_dict['h_back'] = 3.5e-5\n",
    "config_dict['heating_shape'] = 'triangle'\n",
    "config_dict['t_start_switch'] = 'file'\n",
    "config_dict['t_end_switch'] = 'file'\n",
    "config_dict['T0'] = 1.0e+6\n",
    "config_dict['n0'] = 1.0e+8\n",
    "config_dict['t_start'] = 0.0\n",
    "config_dict['mean_t_start'] = 1000\n",
    "config_dict['std_t_start'] = 1000\n",
    "config_dict['amp_switch'] = 'uniform'\n",
    "config_dict['amp0'] = 0.001\n",
    "config_dict['amp1'] = 0.01\n",
    "config_dict['alpha'] = 1.5\n",
    "config_dict['loop_length'] = 40.0\n",
    "config_dict['num_events'] = 1\n",
    "config_dict['t_pulse_half'] = 25\n",
    "config_dict['h_nano'] = 0.4\n",
    "config_dict['sample_rate'] = 50\n",
    "config_dict['output_file'] = '/home/wtb2/Documents/research_notebook/NMF/ebtel_light_curve_test'\n",
    "config_dict['start_time_array'] = np.array([0.0])#,120.0,300.0,360.0,425.0])\n",
    "config_dict['end_time_array'] = 2.*config_dict['t_pulse_half'] + config_dict['start_time_array']"
   ]
  },
  {
   "cell_type": "code",
   "execution_count": null,
   "metadata": {
    "collapsed": false
   },
   "outputs": [],
   "source": [
    "#print input file\n",
    "ebw.print_xml_config(config_dict,config_file=config_dict['output_file']+'.xml')\n",
    "#run model\n",
    "ebw.run_ebtel('/home/wtb2/Documents/EBTEL_C/bin/','',config_file=config_dict['output_file']+'.xml',verbose=False)"
   ]
  },
  {
   "cell_type": "code",
   "execution_count": null,
   "metadata": {
    "collapsed": false
   },
   "outputs": [],
   "source": [
    "#plot result\n",
    "ebw.plot_ebtel('',config_dict['output_file']+'.txt')"
   ]
  },
  {
   "cell_type": "code",
   "execution_count": null,
   "metadata": {
    "collapsed": false
   },
   "outputs": [],
   "source": [
    "#Load data\n",
    "data = np.loadtxt(config_dict['output_file']+'.txt')\n",
    "t_ebtel = data[:,0]\n",
    "T_ebtel = data[:,1]\n",
    "n_ebtel = data[:,2]"
   ]
  },
  {
   "cell_type": "markdown",
   "metadata": {},
   "source": [
    "## Forward-modeled Light Curve\n",
    "Now, we want to use the resulting temperature and density to calculate a light curve."
   ]
  },
  {
   "cell_type": "markdown",
   "metadata": {},
   "source": [
    "### Differential Emission Measure, $\\mathrm{DEM}(T)$"
   ]
  },
  {
   "cell_type": "markdown",
   "metadata": {},
   "source": [
    "First, calculate the differential emission measure. Here, we'll only use the coronal component which shouldn't be a problem given the temperatures that we care about."
   ]
  },
  {
   "cell_type": "code",
   "execution_count": null,
   "metadata": {
    "collapsed": true
   },
   "outputs": [],
   "source": [
    "binner = emb.EM_Binner(t_ebtel,T_ebtel,n_ebtel,2.0*config_dict['loop_length']*1.e+8)"
   ]
  },
  {
   "cell_type": "code",
   "execution_count": null,
   "metadata": {
    "collapsed": false
   },
   "outputs": [],
   "source": [
    "binner.build_em_dist()"
   ]
  },
  {
   "cell_type": "markdown",
   "metadata": {},
   "source": [
    "### Contribution Function, $G(n,T)$\n",
    "Now we'll use the contribution function as calculated by CHIANTI for Fe XVIII"
   ]
  },
  {
   "cell_type": "code",
   "execution_count": null,
   "metadata": {
    "collapsed": false
   },
   "outputs": [],
   "source": [
    "fe18 = ch.ion('fe_18',temperature=T_ebtel,eDensity=1.e+9,em=1.e+27)"
   ]
  },
  {
   "cell_type": "code",
   "execution_count": null,
   "metadata": {
    "collapsed": false
   },
   "outputs": [],
   "source": [
    "fe18.popPlot()"
   ]
  },
  {
   "cell_type": "code",
   "execution_count": null,
   "metadata": {
    "collapsed": false
   },
   "outputs": [],
   "source": [
    "fe18.intensityPlot(wvlRange=[90.,100.],linLog='log')"
   ]
  },
  {
   "cell_type": "code",
   "execution_count": null,
   "metadata": {
    "collapsed": false
   },
   "outputs": [],
   "source": [
    "fe18.intensityList(wvlRange=[90.,95.])"
   ]
  },
  {
   "cell_type": "code",
   "execution_count": null,
   "metadata": {
    "collapsed": false
   },
   "outputs": [],
   "source": [
    "fe18.gofnt(wvlRange=[90,95],top=3)"
   ]
  },
  {
   "cell_type": "code",
   "execution_count": null,
   "metadata": {
    "collapsed": true
   },
   "outputs": [],
   "source": []
  }
 ],
 "metadata": {
  "kernelspec": {
   "display_name": "Python 3",
   "language": "python",
   "name": "python3"
  },
  "language_info": {
   "codemirror_mode": {
    "name": "ipython",
    "version": 3
   },
   "file_extension": ".py",
   "mimetype": "text/x-python",
   "name": "python",
   "nbconvert_exporter": "python",
   "pygments_lexer": "ipython3",
   "version": "3.5.1"
  }
 },
 "nbformat": 4,
 "nbformat_minor": 0
}
