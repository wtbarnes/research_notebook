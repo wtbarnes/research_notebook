{
 "cells": [
  {
   "cell_type": "code",
   "execution_count": 1,
   "metadata": {
    "collapsed": false
   },
   "outputs": [
    {
     "name": "stderr",
     "output_type": "stream",
     "text": [
      "/opt/anaconda3/lib/python3.5/site-packages/matplotlib/__init__.py:872: UserWarning: axes.color_cycle is deprecated and replaced with axes.prop_cycle; please use the latter.\n",
      "  warnings.warn(self.msg_depr % (key, alt_key))\n",
      "/opt/anaconda3/lib/python3.5/site-packages/IPython/parallel.py:13: ShimWarning: The `IPython.parallel` package has been deprecated. You should import from ipyparallel instead.\n",
      "  \"You should import from ipyparallel instead.\", ShimWarning)\n"
     ]
    },
    {
     "name": "stdout",
     "output_type": "stream",
     "text": [
      " found PyQt4 widgets\n",
      " using PyQt4 widgets\n"
     ]
    },
    {
     "name": "stderr",
     "output_type": "stream",
     "text": [
      "/opt/anaconda3/lib/python3.5/site-packages/matplotlib/__init__.py:1350: UserWarning:  This call to matplotlib.use() has no effect\n",
      "because the backend has already been chosen;\n",
      "matplotlib.use() must be called *before* pylab, matplotlib.pyplot,\n",
      "or matplotlib.backends is imported for the first time.\n",
      "\n",
      "  warnings.warn(_use_error_msg)\n"
     ]
    },
    {
     "data": {
      "text/plain": [
       "<module 'em_binner' from '/home/wtb2/Documents/EBTEL_analysis/src/em_binner.py'>"
      ]
     },
     "execution_count": 1,
     "metadata": {},
     "output_type": "execute_result"
    }
   ],
   "source": [
    "import sys\n",
    "import os\n",
    "import pickle\n",
    "import logging\n",
    "from imp import reload\n",
    "import numpy as np\n",
    "import scipy as sc\n",
    "import seaborn.apionly as sns\n",
    "import matplotlib.pyplot as plt\n",
    "#plt.style.use('papers')\n",
    "%matplotlib inline\n",
    "import sklearn.decomposition as skd\n",
    "import chianti.core as ch\n",
    "research_root = '/home/wtb2/Documents/'\n",
    "sys.path.append(os.path.join(research_root,'solarnmf'))\n",
    "sys.path.append(os.path.join(research_root,'EBTEL_C/bin/'))\n",
    "sys.path.append(os.path.join(research_root,'EBTEL_analysis/src/'))\n",
    "import solarnmf as snf\n",
    "import ebtel_wrapper as ebw\n",
    "import ebtel_configure as ebc\n",
    "import em_binner as emb\n",
    "reload(snf)\n",
    "reload(emb)"
   ]
  },
  {
   "cell_type": "markdown",
   "metadata": {},
   "source": [
    "# Event Detection in Forward Modeled Light Curves\n",
    "Use EBTEL to create synthetic light curves and then use NMF to try and detect the number of events in this light curve."
   ]
  },
  {
   "cell_type": "markdown",
   "metadata": {},
   "source": [
    "## EBTEL Run\n",
    "First, run the EBTEL model for a couple of heating events and get a temperature and density profile."
   ]
  },
  {
   "cell_type": "code",
   "execution_count": 5,
   "metadata": {
    "collapsed": false
   },
   "outputs": [
    {
     "name": "stdout",
     "output_type": "stream",
     "text": [
      "Warning: Build paths not constructed! You will not be able to build config files for variable Tn until you run self.path_builder().\n"
     ]
    }
   ],
   "source": [
    "#input dictionary\n",
    "config_dict = {'usage_option':'dem','rad_option':'rk','dem_option':'new','heat_flux_option':'classical',\n",
    "              'solver':'euler','ic_mode':'st_eq','print_plasma_params':'True'}\n",
    "config_dict['total_time'] = 36000\n",
    "config_dict['tau'] = 1.0\n",
    "config_dict['rka_error'] = 1.0e-6\n",
    "config_dict['index_dem'] = 451\n",
    "config_dict['sat_limit'] = 1.0/6.0\n",
    "config_dict['h_back'] = 3.5e-5\n",
    "config_dict['heating_shape'] = 'triangle'\n",
    "config_dict['t_start_switch'] = 'file'\n",
    "config_dict['t_end_switch'] = 'file'\n",
    "config_dict['T0'] = 1.0e+6\n",
    "config_dict['n0'] = 1.0e+8\n",
    "config_dict['t_start'] = 0.0\n",
    "config_dict['mean_t_start'] = 1000\n",
    "config_dict['std_t_start'] = 1000\n",
    "config_dict['amp_switch'] = 'file'\n",
    "config_dict['amp0'] = 0.001\n",
    "config_dict['amp1'] = 0.1\n",
    "config_dict['alpha'] = 2.\n",
    "config_dict['loop_length'] = 40.0\n",
    "config_dict['num_events'] = 15\n",
    "config_dict['t_pulse_half'] = 100\n",
    "config_dict['h_nano'] = 0.4\n",
    "config_dict['sample_rate'] = 100\n",
    "config_dict['output_file'] = os.path.join(research_root,'research_notebook/NMF/ebtel_light_curve_test')\n",
    "#set custom start, end times and amplitudes\n",
    "config_dict['start_time_array'] = np.sort(np.random.normal(config_dict['total_time']/2.,config_dict['total_time']/8.,\n",
    "                                                  config_dict['num_events']))\n",
    "config_dict['end_time_array'] = 2.*config_dict['t_pulse_half'] + config_dict['start_time_array']\n",
    "_configurer = ebc.Configurer(config_dict,'')\n",
    "config_dict['amp_array'] = _configurer.power_law_dist(np.random.rand(config_dict['num_events']))"
   ]
  },
  {
   "cell_type": "code",
   "execution_count": 6,
   "metadata": {
    "collapsed": false
   },
   "outputs": [
    {
     "name": "stdout",
     "output_type": "stream",
     "text": [
      "************************************************************************************\n",
      "            Enthalpy Based Thermal Evolution of Loops (EBTEL)                       \n",
      "************************************************************************************\n",
      "\n",
      "Original code written in IDL by J.A. Klimchuk, S. Patsourakos, P.J. Cargill\n",
      "See Klimchuk, J.A, S. Patsourakos & P.J. Cargill 2008, ApJ 682:1351-2362\n",
      "See also Cargill, P.J., S.J. Bradshaw & J.A. Klimchuk 2012, ApJ 752:161-174\n",
      "\n",
      "Translation into the C Programming Language by Will Barnes,\n",
      "Dept. of Physics & Astronomy, Rice University (2014)\n",
      "************************************************************************************\n",
      "\n",
      "INPUTS\n",
      "------\n",
      "Total time: 36000 s\n",
      "Time step: 1.000000 s\n",
      "Loop half-length: 40.000000 Mm\n",
      "Usage option(see documentation): dem\n",
      "Heating pulse shape: triangle\n",
      "Solving equations using Euler method\n",
      "Using Raymond-Klimchuk Loss Function\n",
      "Using classical method to calculate the heat flux\n",
      "Using new method to calculate DEM in the TR\n",
      "Using static equilibrium to calculate initial conditions\n",
      "\n",
      "************************************************************************************\n",
      "            \t\tInitial Conditions\t\t                       \n",
      "************************************************************************************\n",
      "T(t = 0) = 1078574.619141 K\n",
      "n(t = 0) = 201266051.342093 cm^-3\n",
      "p(t = 0) = 0.059914 dyne cm^-2\n",
      "r3(t = 0) = 3.557822\n",
      "\n",
      "The results were printed to the file /home/wtb2/Documents/research_notebook/NMF/ebtel_light_curve_test.txt\n",
      "The heating amplitude results were printed to the file /home/wtb2/Documents/research_notebook/NMF/ebtel_light_curve_test_heat_amp.txt\n",
      "The DEM results were printed to the file /home/wtb2/Documents/research_notebook/NMF/ebtel_light_curve_test_dem.txt\n",
      "Number of simulated heating events: 15\n",
      "The process took 2948.000000 milliseconds to run.\n",
      "\n"
     ]
    }
   ],
   "source": [
    "#print input file\n",
    "ebw.print_xml_config(config_dict,config_file=config_dict['output_file']+'.xml')\n",
    "#run model\n",
    "ebw.run_ebtel(os.path.join(research_root,'EBTEL_C/bin/'),'',config_file=config_dict['output_file']+'.xml',verbose=True)"
   ]
  },
  {
   "cell_type": "code",
   "execution_count": 7,
   "metadata": {
    "collapsed": false
   },
   "outputs": [
    {
     "data": {
      "image/png": "[encoded data removed]",
      "text/plain": [
       "<matplotlib.figure.Figure at 0x7fe86e2dbc88>"
      ]
     },
     "metadata": {},
     "output_type": "display_data"
    }
   ],
   "source": [
    "#plot result\n",
    "ebw.plot_ebtel('',config_dict['output_file']+'.txt')"
   ]
  },
  {
   "cell_type": "code",
   "execution_count": null,
   "metadata": {
    "collapsed": false
   },
   "outputs": [],
   "source": [
    "#Load data\n",
    "data = np.loadtxt(config_dict['output_file']+'.txt')\n",
    "t_ebtel = data[:,0]\n",
    "T_ebtel = data[:,1]\n",
    "n_ebtel = data[:,2]"
   ]
  },
  {
   "cell_type": "code",
   "execution_count": null,
   "metadata": {
    "collapsed": true
   },
   "outputs": [],
   "source": [
    "#interpolate temperature curve\n",
    "sample_interval = int(config_dict['t_pulse_half'])\n",
    "t_ebtel_short = t_ebtel[0:-1:sample_interval]\n",
    "tckT = sc.interpolate.splrep(t_ebtel,T_ebtel)\n",
    "tckn = sc.interpolate.splrep(t_ebtel,n_ebtel)\n",
    "T_ebtel_short = sc.interpolate.splev(t_ebtel_short,tckT,der=0)\n",
    "n_ebtel_short = sc.interpolate.splev(t_ebtel_short,tckn,der=0)"
   ]
  },
  {
   "cell_type": "code",
   "execution_count": null,
   "metadata": {
    "collapsed": false
   },
   "outputs": [],
   "source": [
    "#test to make sure the interpolation isn't messing things up\n",
    "plt.plot(t_ebtel,T_ebtel,'k')\n",
    "plt.plot(t_ebtel_short,T_ebtel_short,'r')\n",
    "len(T_ebtel_short)"
   ]
  },
  {
   "cell_type": "markdown",
   "metadata": {},
   "source": [
    "## Forward-modeled Light Curve\n",
    "Now, we want to use the resulting temperature and density to calculate a light curve."
   ]
  },
  {
   "cell_type": "markdown",
   "metadata": {},
   "source": [
    "### Differential Emission Measure, $\\mathrm{DEM}(T)$"
   ]
  },
  {
   "cell_type": "markdown",
   "metadata": {},
   "source": [
    "First, calculate the differential emission measure. Here, we'll only use the coronal component which shouldn't be a problem given the temperatures that we care about."
   ]
  },
  {
   "cell_type": "code",
   "execution_count": null,
   "metadata": {
    "collapsed": true
   },
   "outputs": [],
   "source": [
    "binner = emb.EM_Binner(t_ebtel_short,T_ebtel_short,n_ebtel_short,2.0*config_dict['loop_length']*1.e+8)"
   ]
  },
  {
   "cell_type": "code",
   "execution_count": null,
   "metadata": {
    "collapsed": false
   },
   "outputs": [],
   "source": [
    "binner.build_em_dist()"
   ]
  },
  {
   "cell_type": "markdown",
   "metadata": {},
   "source": [
    "### Contribution Function, $G(n,T)$\n",
    "Now we'll use the contribution function as calculated by CHIANTI for Fe XVIII"
   ]
  },
  {
   "cell_type": "code",
   "execution_count": null,
   "metadata": {
    "collapsed": false
   },
   "outputs": [],
   "source": [
    "fe18 = ch.ion('fe_18',temperature=T_ebtel_short,eDensity=np.mean(n_ebtel_short))"
   ]
  },
  {
   "cell_type": "code",
   "execution_count": null,
   "metadata": {
    "collapsed": false
   },
   "outputs": [],
   "source": [
    "fe18.popPlot()"
   ]
  },
  {
   "cell_type": "code",
   "execution_count": null,
   "metadata": {
    "collapsed": false
   },
   "outputs": [],
   "source": [
    "fe18.gofnt(wvlRange=[90,95],top=3)"
   ]
  },
  {
   "cell_type": "markdown",
   "metadata": {
    "collapsed": true
   },
   "source": [
    "### Intensity Calculation\n",
    "First, do some preliminary calculations and allocations."
   ]
  },
  {
   "cell_type": "code",
   "execution_count": null,
   "metadata": {
    "collapsed": false
   },
   "outputs": [],
   "source": [
    "T_EM = 10**binner.logT_EM\n",
    "dlogT = binner.logT_EM[1] - binner.logT_EM[0] #assumes uniform spacing\n",
    "g = np.zeros(len(T_EM))\n",
    "g_avg = np.zeros(len(t_ebtel_short))\n",
    "intensity = np.zeros(len(t_ebtel_short))\n",
    "intensity_avg = np.zeros(len(t_ebtel_short))"
   ]
  },
  {
   "cell_type": "code",
   "execution_count": null,
   "metadata": {
    "collapsed": true
   },
   "outputs": [],
   "source": [
    "ind_g = np.where((T_EM > np.min(fe18.Gofnt['temperature'])) & (T_EM < np.max(fe18.Gofnt['temperature'])))\n",
    "tck_g = sc.interpolate.splrep(np.log10(fe18.Gofnt['temperature']),np.log10(fe18.Gofnt['gofnt']))\n",
    "g[ind_g] = 10.**(sc.interpolate.splev(binner.logT_EM[ind_g],tck_g,der=0))"
   ]
  },
  {
   "cell_type": "markdown",
   "metadata": {},
   "source": [
    "Now, loop over time and calculate the intensity according to the $\\mathrm{DEM}$."
   ]
  },
  {
   "cell_type": "code",
   "execution_count": null,
   "metadata": {
    "collapsed": true
   },
   "outputs": [],
   "source": [
    "for i in range(len(t_ebtel_short)):\n",
    "    intensity[i] = np.log(10.)*dlogT*np.sum(g*T_EM*binner.dem_mat[i,:])"
   ]
  },
  {
   "cell_type": "markdown",
   "metadata": {},
   "source": [
    "Next, calculate the average intensity according to the density $n$ and temperature $T$."
   ]
  },
  {
   "cell_type": "code",
   "execution_count": null,
   "metadata": {
    "collapsed": false
   },
   "outputs": [],
   "source": [
    "ind_g_avg = np.where((T_ebtel_short > np.min(fe18.Gofnt['temperature'])) & (T_ebtel_short < np.max(fe18.Gofnt['temperature'])))\n",
    "g_avg[ind_g_avg] = 10.**(sc.interpolate.splev(np.log10(T_ebtel_short[ind_g]),tck_g,der=0))"
   ]
  },
  {
   "cell_type": "code",
   "execution_count": null,
   "metadata": {
    "collapsed": true
   },
   "outputs": [],
   "source": [
    "intensity_avg = n_ebtel_short**2*g_avg*2.*config_dict['loop_length']*1.e+8"
   ]
  },
  {
   "cell_type": "markdown",
   "metadata": {},
   "source": [
    "Normalize both intensities."
   ]
  },
  {
   "cell_type": "code",
   "execution_count": null,
   "metadata": {
    "collapsed": true
   },
   "outputs": [],
   "source": [
    "intensity = intensity/np.max(intensity)\n",
    "intensity_avg = intensity_avg/np.max(intensity_avg)"
   ]
  },
  {
   "cell_type": "markdown",
   "metadata": {},
   "source": [
    "## Plot Intensity"
   ]
  },
  {
   "cell_type": "code",
   "execution_count": null,
   "metadata": {
    "collapsed": false
   },
   "outputs": [],
   "source": [
    "fig,ax = plt.subplots(2,1,figsize=(14,7),sharex=True)\n",
    "ax[0].plot(t_ebtel,intensity,linewidth=2)\n",
    "ax[1].plot(t_ebtel,intensity_avg,linewidth=2)\n",
    "ax[1].set_xlabel(r'$t$ $\\mathrm{(s)}$',fontsize=22)\n",
    "ax[0].set_ylabel(r'$I$',fontsize=22)\n",
    "ax[1].set_ylabel(r'$\\bar{I}$',fontsize=22)\n",
    "plt.show()"
   ]
  },
  {
   "cell_type": "markdown",
   "metadata": {},
   "source": [
    "Let's write these to a file so we dont' necessarily have to go through this calculation again."
   ]
  },
  {
   "cell_type": "code",
   "execution_count": null,
   "metadata": {
    "collapsed": true
   },
   "outputs": [],
   "source": [
    "with open('ebtel_lc_test.intensity','wb') as f:\n",
    "    pickle.dump([t_ebtel,intensity,intensity_avg],f)\n",
    "f.close()"
   ]
  },
  {
   "cell_type": "code",
   "execution_count": null,
   "metadata": {
    "collapsed": false
   },
   "outputs": [],
   "source": [
    "with open('ebtel_lc_test.gofnt','wb') as f:\n",
    "    pickle.dump([fe18.Gofnt['temperature'],fe18.Gofnt['gofnt']],f)\n",
    "f.close()"
   ]
  }
 ],
 "metadata": {
  "kernelspec": {
   "display_name": "Python 3",
   "language": "python",
   "name": "python3"
  },
  "language_info": {
   "codemirror_mode": {
    "name": "ipython",
    "version": 3
   },
   "file_extension": ".py",
   "mimetype": "text/x-python",
   "name": "python",
   "nbconvert_exporter": "python",
   "pygments_lexer": "ipython3",
   "version": "3.5.1"
  }
 },
 "nbformat": 4,
 "nbformat_minor": 0
}
