{
 "cells": [
  {
   "cell_type": "markdown",
   "metadata": {},
   "source": [
    "This short tutorial will demonstrate some of the capabilities of ChiantiPy and the CHIANTI database. It assumes that you know what the CHIANTI database provides and why you want to use it. The current implementation uses Version 0.6 of ChiantiPy and version 8.0 of the CHIANTI database and mainly provides access to methods concerned with single ions. An ion such as Fe XIV is specified by the string ‘fe_14’, in the usual CHIANTI notation.\n",
    "\n",
    "Bring up a Python session (using > Python -i ), or better yet, an IPython session\n",
    "\n",
    "In my Ipython 00-setup.py file I have already performed"
   ]
  },
  {
   "cell_type": "code",
   "execution_count": null,
   "metadata": {
    "collapsed": false
   },
   "outputs": [],
   "source": [
    "import chianti\n",
    "import chianti.core as ch\n",
    "import numpy as np\n",
    "import matplotlib.pylab as pl\n",
    "%matplotlib inline"
   ]
  },
  {
   "cell_type": "markdown",
   "metadata": {},
   "source": [
    "the following import is also useful for this demo"
   ]
  },
  {
   "cell_type": "code",
   "execution_count": null,
   "metadata": {
    "collapsed": false
   },
   "outputs": [],
   "source": [
    "import chianti.filters as chfilters"
   ]
  },
  {
   "cell_type": "code",
   "execution_count": null,
   "metadata": {
    "collapsed": false
   },
   "outputs": [],
   "source": [
    "import os\n",
    "os.environ['XUVTOP']"
   ]
  },
  {
   "cell_type": "code",
   "execution_count": null,
   "metadata": {
    "collapsed": false
   },
   "outputs": [],
   "source": [
    "chianti.Version"
   ]
  },
  {
   "cell_type": "code",
   "execution_count": null,
   "metadata": {
    "collapsed": false
   },
   "outputs": [],
   "source": [
    "from IPython import version_info\n",
    "print(' IPython version %i %i %i '%(version_info[0], version_info[1], version_info[2]))"
   ]
  },
  {
   "cell_type": "markdown",
   "metadata": {},
   "source": [
    "What we will really be interested in are various properties of the Fe XIV emissivities as a function of temperature and density. So, let’s define a numpy array of temperatures and a value for the electron density"
   ]
  },
  {
   "cell_type": "code",
   "execution_count": null,
   "metadata": {
    "collapsed": false
   },
   "outputs": [],
   "source": [
    "temp = 10.**(5.8 + 0.05*np.arange(21.))\n",
    "edens = 1.e+9"
   ]
  },
  {
   "cell_type": "markdown",
   "metadata": {},
   "source": [
    "In ChiantiPy, temperatures are currently given in degrees Kelvin and densities as the number electron density per cubic cm. Then, construct fe14 as would be typically done"
   ]
  },
  {
   "cell_type": "code",
   "execution_count": null,
   "metadata": {
    "collapsed": false
   },
   "outputs": [],
   "source": [
    "fe14 = ch.ion('fe_14', temperature=temp, eDensity=edens, em=1.e+27)"
   ]
  },
  {
   "cell_type": "markdown",
   "metadata": {},
   "source": [
    "alternately, since **temperature** and **eDensity** are the first keyword arguments\n",
    "fe14 = ch.ion('fe_14', temp, edens)"
   ]
  },
  {
   "cell_type": "markdown",
   "metadata": {},
   "source": [
    "# GUI Tests"
   ]
  },
  {
   "cell_type": "code",
   "execution_count": null,
   "metadata": {
    "collapsed": true
   },
   "outputs": [],
   "source": [
    "import chianti.Gui as chgui"
   ]
  },
  {
   "cell_type": "code",
   "execution_count": null,
   "metadata": {
    "collapsed": true
   },
   "outputs": [],
   "source": [
    "chgui.gui.chpicker('/usr/local/ssw/packages/chianti/dbase/abundance/')"
   ]
  },
  {
   "cell_type": "markdown",
   "metadata": {},
   "source": [
    "Level populations\n",
    "================="
   ]
  },
  {
   "cell_type": "code",
   "execution_count": null,
   "metadata": {
    "collapsed": false
   },
   "outputs": [],
   "source": [
    "fe14.popPlot()"
   ]
  },
  {
   "cell_type": "markdown",
   "metadata": {},
   "source": [
    "produces a matplotlib plot window were the population of the top 10 (the default) levels are plotted as a function of temperature.\n",
    "\n",
    "If the level populations had not already been calculated, popPlot() would have invoked the populate() method which calculates the level populations and stores them in the Population dictionary, with keys = [‘protonDensity’, ‘population’, ‘temperature’, ‘density’].\n",
    "\n",
    "The populations vs. temperature is not particularly interesting.  Plotting them vs. density is more interesting and will come latere"
   ]
  },
  {
   "cell_type": "markdown",
   "metadata": {},
   "source": [
    "it is also useful to open a qtconsole to explore the calculations interactively"
   ]
  },
  {
   "cell_type": "code",
   "execution_count": null,
   "metadata": {
    "collapsed": false
   },
   "outputs": [],
   "source": [
    "qtconsole"
   ]
  },
  {
   "cell_type": "markdown",
   "metadata": {},
   "source": [
    "A ChiantiPy Convention\n",
    "======================\n",
    "\n",
    "Classes and function of ChiantiPy start with lower case letters. \n",
    "----------------------------------------------------------------\n",
    "\n",
    "Data attached to the instantiation of a class will start with a capital letter. For example,\n",
    "--------------------------------------------------------------------------------------------\n",
    "\n",
    "fe14.populate() creates fe14.Population containing the level population information\n",
    "\n",
    "fe14.emiss() creates fe14.Emiss containing the line emissivity information\n",
    "\n",
    "fe14.intensity() creates fe14.Intensity containing the line intensity information that includes the elemental abundance and the ionization equilibrium\n",
    "\n",
    "fe14.spectrum() creates fe14.Spectrum contain the line and continuum spectrum information"
   ]
  },
  {
   "cell_type": "markdown",
   "metadata": {},
   "source": [
    "Spectral Line Intensities\n",
    "========================="
   ]
  },
  {
   "cell_type": "code",
   "execution_count": null,
   "metadata": {
    "collapsed": false
   },
   "outputs": [],
   "source": [
    "fe14.intensity()\n",
    "for akey in sorted(fe14.Intensity):\n",
    "    print('%10s'%(akey))"
   ]
  },
  {
   "cell_type": "markdown",
   "metadata": {},
   "source": [
    "the units for line intensities, the key **intensity**, are erg cm$^{-2}$ s$^{-1}$ sr$^{-1}$ / $\\int N_H d\\ell $, if the emission meassure **em** *not* unspecified.  The emission measure was specified when the ion was created"
   ]
  },
  {
   "cell_type": "code",
   "execution_count": null,
   "metadata": {
    "collapsed": false
   },
   "outputs": [],
   "source": [
    "fe14.intensityPlot(wvlRange=[210.,220.],linLog='log')"
   ]
  },
  {
   "cell_type": "code",
   "execution_count": null,
   "metadata": {
    "collapsed": false
   },
   "outputs": [],
   "source": [
    "fe14.intensityPlot(index = 2, wvlRange=[210.,220.],linLog='log')"
   ]
  },
  {
   "cell_type": "code",
   "execution_count": null,
   "metadata": {
    "collapsed": false
   },
   "outputs": [],
   "source": [
    "fe14.intensityList(wvlRange=[210.,220.])"
   ]
  },
  {
   "cell_type": "markdown",
   "metadata": {},
   "source": [
    "here, we have used the default value for the keyword argument **top** which specified how many of the most intense lines to list.  Also, **index** can be specified to give a different temperature, and **relative** can be set to 1 give relative emissivities"
   ]
  },
  {
   "cell_type": "code",
   "execution_count": null,
   "metadata": {
    "collapsed": false
   },
   "outputs": [],
   "source": [
    "fe14.intensityList(wvlRange=[210.,220.], relative=1, index=11)"
   ]
  },
  {
   "cell_type": "markdown",
   "metadata": {},
   "source": [
    "optionally, an output file could also be created by setting the keyword **outFile** to the name of the desired name"
   ]
  },
  {
   "cell_type": "markdown",
   "metadata": {},
   "source": [
    "Intensity Ratios\n",
    "================"
   ]
  },
  {
   "cell_type": "code",
   "execution_count": null,
   "metadata": {
    "collapsed": false
   },
   "outputs": [],
   "source": [
    "fe14.intensityRatio(wvlRange=[210., 225.])"
   ]
  },
  {
   "cell_type": "markdown",
   "metadata": {},
   "source": [
    "this brings up a plot showing the relative emissivities on the top 10 Fe XIV lines\n",
    "followed by a dialog where you can selector the numerator(s) and denominator(s) of the desired intensity ratio\n",
    "so the specified ratio is then plotted\n",
    "the intensityRatio as a function of temperature and density can be save to a text file with the following"
   ]
  },
  {
   "cell_type": "code",
   "execution_count": null,
   "metadata": {
    "collapsed": false
   },
   "outputs": [],
   "source": [
    "fe14.intensityRatioSave()"
   ]
  },
  {
   "cell_type": "code",
   "execution_count": null,
   "metadata": {
    "collapsed": false
   },
   "outputs": [],
   "source": [
    "fe14.intensityRatioSave(outFile='myratio.txt')"
   ]
  },
  {
   "cell_type": "markdown",
   "metadata": {},
   "source": [
    "or, eventually we will have to use unicode "
   ]
  },
  {
   "cell_type": "code",
   "execution_count": null,
   "metadata": {
    "collapsed": false
   },
   "outputs": [],
   "source": [
    "fe14.intensityRatioSave(outFile=u'myratio2.txt')"
   ]
  },
  {
   "cell_type": "markdown",
   "metadata": {},
   "source": [
    "**The role of the electron density in line intensities**"
   ]
  },
  {
   "cell_type": "code",
   "execution_count": null,
   "metadata": {
    "collapsed": false
   },
   "outputs": [],
   "source": [
    "del fe14\n",
    "temp = 2.e+6\n",
    "dens = 10.**(6. + 0.1*np.arange(61))\n",
    "fe14 = ch.ion('fe_14', temp, dens)\n",
    "fe14.popPlot()"
   ]
  },
  {
   "cell_type": "markdown",
   "metadata": {},
   "source": [
    "a plot of the population of the top 10 levels is produced as a function of the electron density"
   ]
  },
  {
   "cell_type": "code",
   "execution_count": null,
   "metadata": {
    "collapsed": false
   },
   "outputs": [],
   "source": [
    "fe14.intensityRatio(wvlRange=[210.,220.])"
   ]
  },
  {
   "cell_type": "markdown",
   "metadata": {},
   "source": [
    "to obtain ratios of lines widely separated in wavelength, the **wvlRanges** keyword can be used"
   ]
  },
  {
   "cell_type": "code",
   "execution_count": null,
   "metadata": {
    "collapsed": false
   },
   "outputs": [],
   "source": [
    "temp = 10.**(5.8 + 0.05*np.arange(21.))\n",
    "edens = 1.e+9\n",
    "fe12 = ch.ion('fe_12', temperature=temp, eDensity=edens)\n",
    "fe12.intensityRatio(wvlRanges=[[190.,200.],[1240.,1250.]])"
   ]
  },
  {
   "cell_type": "markdown",
   "metadata": {},
   "source": [
    "the most recently calculated intensity ratio is stored in fe14.IntensityRatio, with the following keys:"
   ]
  },
  {
   "cell_type": "code",
   "execution_count": null,
   "metadata": {
    "collapsed": false
   },
   "outputs": [],
   "source": [
    "for akey in sorted(fe14.IntensityRatio):\n",
    "    print('%10s'%(akey))"
   ]
  },
  {
   "cell_type": "markdown",
   "metadata": {},
   "source": [
    "G(n,T) function or G(T)\n",
    "=======================\n",
    "\n",
    "When G(n,T), for specific spectral line, is multiplied by the line of sight **emission measure**, $\\int$ n$_e$ n_$H$ d $\\ell$, it provides the predicted value of the line intensity in units of erg cm$^{-2}$ s$^{-1}$ sr$^{-1}$, if the value for **flux** in the** Defaults** is set to **energy** (the default value).  If **flux** is set to photon, the intensity is given in units of\n",
    "\n",
    "\n",
    "photons cm$^{-2}$ s$^{-1}$ sr$^{-1}$.\n",
    "\n",
    "A **chiantirc** file is included with the ChiantiPy distribution. If it is placed in $HOME/.chianti it will be read when ChiantiPy is initiated.  Editing this file allows you to specify the values of **flux** that you want and other things such as the set of elemental abundances and the ionization equilibrium."
   ]
  },
  {
   "cell_type": "code",
   "execution_count": null,
   "metadata": {
    "collapsed": false
   },
   "outputs": [],
   "source": [
    "del fe14\n",
    "temp = 10.**(5.8 + 0.05*np.arange(21.))\n",
    "dens = 1.e+9\n",
    "fe14 = ch.ion('fe_14', temp, dens)"
   ]
  },
  {
   "cell_type": "code",
   "execution_count": null,
   "metadata": {
    "collapsed": false
   },
   "outputs": [],
   "source": [
    "fe14.gofnt(wvlRange=[210., 220.],top=5)"
   ]
  },
  {
   "cell_type": "markdown",
   "metadata": {},
   "source": [
    "this brings up a plot of relative line ratios vs temperature and a single selection widget, similar to the intensityRatio process.  Multiple lines can be selected with the *control* key and their G(T) functions will summed."
   ]
  },
  {
   "cell_type": "markdown",
   "metadata": {},
   "source": [
    "The **g(n,T)** calculation is stored in the **Gofnt** dictionary, with keys"
   ]
  },
  {
   "cell_type": "code",
   "execution_count": null,
   "metadata": {
    "collapsed": false
   },
   "outputs": [],
   "source": [
    "sorted(fe14.Gofnt.keys())"
   ]
  },
  {
   "cell_type": "code",
   "execution_count": null,
   "metadata": {
    "collapsed": false
   },
   "outputs": [],
   "source": [
    "fe14.Gofnt['wvl']\n",
    "print(fe14.Gofnt['gofnt'])"
   ]
  },
  {
   "cell_type": "markdown",
   "metadata": {},
   "source": [
    "while the is a fairly straightforward way to get a G(T) function, it is not very practical to use for a more than a handful of lines.  For the fe_14 line at 211.3172 is in a list of lines to be analyzed, a more practical way is the following"
   ]
  },
  {
   "cell_type": "code",
   "execution_count": null,
   "metadata": {
    "collapsed": false
   },
   "outputs": [],
   "source": [
    "fe14.intensity()\n",
    "dist = np.abs(np.asarray(fe14.Intensity['wvl']) - 211.3172)\n",
    "idx = np.argmin(dist)\n",
    "fe14.Intensity['wvl'][idx]\n"
   ]
  },
  {
   "cell_type": "code",
   "execution_count": null,
   "metadata": {
    "collapsed": false
   },
   "outputs": [],
   "source": [
    "pl.loglog(temp,fe14.Intensity['intensity'][:,idx])"
   ]
  },
  {
   "cell_type": "markdown",
   "metadata": {},
   "source": [
    "once the axes are properly scaled, this produces the same values as fe14.Gofnt['gofnt']"
   ]
  },
  {
   "cell_type": "markdown",
   "metadata": {},
   "source": [
    "Spectrum of a single ion\n",
    "========================"
   ]
  },
  {
   "cell_type": "code",
   "execution_count": null,
   "metadata": {
    "collapsed": false
   },
   "outputs": [],
   "source": [
    "del fe14\n",
    "fe14 = ch.ion('fe_14', temperature = 2.e+6, eDensity = 1.e+9)\n",
    "wvl = 200. + 0.125*np.arange(801)\n",
    "fe14.spectrum(wvl, em=1.e+27)\n",
    "pl.figure()\n",
    "pl.plot(wvl, fe14.Spectrum['intensity'])"
   ]
  },
  {
   "cell_type": "markdown",
   "metadata": {},
   "source": [
    "this calculates the spectrum of fe_14 over the specified wavelength range and filter it with the default filter which is a gaussian (filters.gaussianR) with a ‘resolving power’ of 1000 which gives a gaussian width of wvl/1000.  Other filters available in chianti.filters include a boxcar filter and a gaussian filter where the gaussian width can be specified directly\n",
    "\n",
    "the units of the vertical axis is erg cm$^{-2}$ s$^{-1}$ sr$^{-1}$ $\\mathring A$$^{-1}$ since the value of the emission measure **em** has been specified"
   ]
  },
  {
   "cell_type": "code",
   "execution_count": null,
   "metadata": {
    "collapsed": false
   },
   "outputs": [],
   "source": [
    "if hasattr(fe14,'Em'):\n",
    "    print(' Emission Measure = %12.2e'%(fe14.Em))\n",
    "else:\n",
    "    print(' the value for the emission measure is unspecified')"
   ]
  },
  {
   "cell_type": "code",
   "execution_count": null,
   "metadata": {
    "collapsed": false
   },
   "outputs": [],
   "source": [
    "fe14.spectrum(wvl,filter=(chfilters.gaussian,.4))\n",
    "pl.figure()\n",
    "pl.plot(wvl, fe14.Spectrum['intensity'])"
   ]
  },
  {
   "cell_type": "markdown",
   "metadata": {},
   "source": [
    "calculates the spectrum of fe_14 for a gaussian filter with a width of 0.4 Angstroms.  The current value of the spectrum is kept in fe14.Spectrum with the following keys:"
   ]
  },
  {
   "cell_type": "code",
   "execution_count": null,
   "metadata": {
    "collapsed": false
   },
   "outputs": [],
   "source": [
    "for akey in sorted(fe14.Spectrum.keys()):\n",
    "    print(' %10s'%(akey))"
   ]
  },
  {
   "cell_type": "code",
   "execution_count": null,
   "metadata": {
    "collapsed": false
   },
   "outputs": [],
   "source": [
    "if hasattr(fe14,'Em'):\n",
    "    print(' Emission Measure = %12.2e'%(fe14.Em))\n",
    "else:\n",
    "    print(' the value for the emission measure is unspecified')"
   ]
  },
  {
   "cell_type": "markdown",
   "metadata": {},
   "source": [
    "Here, the previously value of the emission measure has been used"
   ]
  },
  {
   "cell_type": "code",
   "execution_count": null,
   "metadata": {
    "collapsed": false
   },
   "outputs": [],
   "source": [
    "fe14.spectrumPlot()"
   ]
  },
  {
   "cell_type": "code",
   "execution_count": null,
   "metadata": {
    "collapsed": false
   },
   "outputs": [],
   "source": [
    "pl.xlabel(fe14.Spectrum['xlabel'])\n",
    "pl.ylabel(fe14.Spectrum['ylabel'])"
   ]
  },
  {
   "cell_type": "markdown",
   "metadata": {},
   "source": [
    "the labels obviously need correction"
   ]
  },
  {
   "cell_type": "markdown",
   "metadata": {},
   "source": [
    "In ChiantiPy 0.6, the **label** keyword has been added to the ion.spectrum method, and also to the other various spectral classes.  This allows several spectral calculations for different filters to be saved and compared"
   ]
  },
  {
   "cell_type": "code",
   "execution_count": null,
   "metadata": {
    "collapsed": false
   },
   "outputs": [],
   "source": [
    "del fe14\n",
    "temp = 10.**(5.8 + 0.1*np.arange(11.))\n",
    "dens = 1.e+9\n",
    "fe14 = ch.ion('fe_14', temp, dens)"
   ]
  },
  {
   "cell_type": "code",
   "execution_count": null,
   "metadata": {
    "collapsed": false
   },
   "outputs": [],
   "source": [
    "emeas = np.ones(11,'float64')*1.e+27\n",
    "wvl = 200. + 0.125*np.arange(801)\n",
    "fe14.spectrum(wvl,filter=(chfilters.gaussian,.4),label='.4',em=emeas)\n",
    "fe14.spectrum(wvl,filter=(chfilters.gaussian,1.),label='1.')"
   ]
  },
  {
   "cell_type": "code",
   "execution_count": null,
   "metadata": {
    "collapsed": false
   },
   "outputs": [],
   "source": [
    "for akey in sorted(fe14.Spectrum.keys()):\n",
    "    print(' %10s'%(akey))"
   ]
  },
  {
   "cell_type": "code",
   "execution_count": null,
   "metadata": {
    "collapsed": false
   },
   "outputs": [],
   "source": [
    "for akey in sorted(fe14.Spectrum['.4'].keys()):\n",
    "    print(' %10s'%(akey))"
   ]
  },
  {
   "cell_type": "code",
   "execution_count": null,
   "metadata": {
    "collapsed": false
   },
   "outputs": [],
   "source": [
    "pl.figure()\n",
    "pl.plot(wvl,fe14.Spectrum['.4']['intensity'][5], label = '0.4')\n",
    "pl.plot(wvl,fe14.Spectrum['1.']['intensity'][5],'-r', label = '1.0')"
   ]
  },
  {
   "cell_type": "code",
   "execution_count": null,
   "metadata": {
    "collapsed": false
   },
   "outputs": [],
   "source": [
    "pl.legend(loc='upper right')"
   ]
  },
  {
   "cell_type": "markdown",
   "metadata": {},
   "source": [
    "Free-free and free-bound continuum\n",
    "==================================\n",
    "\n",
    "The module continuum provides the ability to calculate the free-free, free-bound continuum spectrum for a large number of individual ions.  The two-photon continuum is produced only by the hydrogen-like and helium-like ions"
   ]
  },
  {
   "cell_type": "code",
   "execution_count": null,
   "metadata": {
    "collapsed": false
   },
   "outputs": [],
   "source": [
    "temperature = 2.e+7\n",
    "c = ch.continuum('fe_25', temperature = temperature, em=1.e+27)\n",
    "wvl = 1. + 0.002*np.arange(4501)\n",
    "c.freeFree(wvl)\n",
    "pl.figure()\n",
    "pl.plot(wvl, c.FreeFree['rate'],label='ff')\n",
    "c.freeBound(wvl)\n",
    "pl.plot(wvl, c.FreeBound['rate'],label='fb')\n",
    "fe25=ch.ion('fe_25',2.e+7,1.e+9,em=1.e+18)\n",
    "fe25.twoPhoton(wvl)\n",
    "pl.plot(wvl,fe25.TwoPhoton['rate'],label='2 photon')\n",
    "pl.legend(loc='upper right')"
   ]
  },
  {
   "cell_type": "markdown",
   "metadata": {},
   "source": [
    "In the continuum calculations, Fe XXV in this case, is the target ion for the free-free calculation. For the free-bound calculation, specified ion is also the target ion. In this case, the radiative recombination spectrum of Fe XXV recombining to form Fe XXIV is returned.  **Note** this will bring up an error message.  Things are probably OK for the present except with the two-photon calculation"
   ]
  },
  {
   "cell_type": "markdown",
   "metadata": {},
   "source": [
    "The multi-ion class bunch\n",
    "========================="
   ]
  },
  {
   "cell_type": "markdown",
   "metadata": {},
   "source": [
    "The multi-ion class bunch [new in v0.6] inherits a number of the same methods inherited by the ion class, for example intensityList,*intensityRatio*, and intensityRatioSave. As a short demonstration of its usefulness, Widing and Feldman (1989, ApJ, 344, 1046) used line ratios of Mg VI and Ne VI as diagnostics of elemental abundance variations in the solar atmosphere. For that to be accurate, it is necessary that the lines of the two ions have the same temperature response."
   ]
  },
  {
   "cell_type": "code",
   "execution_count": null,
   "metadata": {
    "collapsed": false
   },
   "outputs": [],
   "source": [
    "t = 10.**(5.0+0.1*np.arange(11))\n",
    "bnch=ch.bunch(t,1.e+9,wvlRange=[300.,500.],ionList=['ne_6','mg_6'],abundanceName='unity')\n",
    "bnch.intensityRatio(wvlRange=[395.,405.],top=7)"
   ]
  },
  {
   "cell_type": "markdown",
   "metadata": {},
   "source": [
    "there seems to be a significant temperature dependence to the ratio, even though both are formed near 4.e+5 K."
   ]
  },
  {
   "cell_type": "markdown",
   "metadata": {},
   "source": [
    "A new keyword argument **keepIons** has been added in v0.6 to the bunch and the 3 spectrum classes."
   ]
  },
  {
   "cell_type": "code",
   "execution_count": null,
   "metadata": {
    "collapsed": false
   },
   "outputs": [],
   "source": [
    "dwvl = 0.01\n",
    "nwvl = (406.-394.)/dwvl\n",
    "wvl = 394. + dwvl*np.arange(nwvl+1)"
   ]
  },
  {
   "cell_type": "code",
   "execution_count": null,
   "metadata": {
    "collapsed": false
   },
   "outputs": [],
   "source": [
    "bnch2=ch.bunch(t, 1.e+9, wvlRange=[wvl.min(),wvl.max()], elementList=['ne','mg'], keepIons=1,em=1.e+27)\n",
    "bnch2.convolve(wvl,filter=(chfilters.gaussian,5.*dwvl))\n",
    "pl.figure()\n",
    "pl.plot(wvl, bnch2.Spectrum['intensity'][6],label='Total')\n",
    "pl.title('Temperature = %10.2e for t[6]'%(t[6]))"
   ]
  },
  {
   "cell_type": "code",
   "execution_count": null,
   "metadata": {
    "collapsed": false
   },
   "outputs": [],
   "source": [
    "sorted(bnch2.IonInstances.keys())"
   ]
  },
  {
   "cell_type": "code",
   "execution_count": null,
   "metadata": {
    "collapsed": false
   },
   "outputs": [],
   "source": [
    "pl.plot(wvl,bnch2.IonInstances['mg_6'].Spectrum['intensity'][6],'r',label='mg_6')"
   ]
  },
  {
   "cell_type": "code",
   "execution_count": null,
   "metadata": {
    "collapsed": false
   },
   "outputs": [],
   "source": [
    "pl.legend(loc='upper left')"
   ]
  },
  {
   "cell_type": "markdown",
   "metadata": {},
   "source": [
    "Spectra of multiple ions and continuum\n",
    "======================================\n",
    "\n",
    "the spectrum for selection of all of the ions in the CHIANTI database can also be calculated. There are 3 spectral classes.\n",
    "\n",
    "  1.  spectrum - the single processor implementation that can be used anywhere\n",
    "  2.  mspectrum - uses the Python multiprocessing class and cannot be used in a IPython qtconsole or notebook\n",
    "  3.  ipymspectrum [new in v0.6] - uses the IPython parallel class and can be used in a IPython qtconsole or notebook\n"
   ]
  },
  {
   "cell_type": "code",
   "execution_count": null,
   "metadata": {
    "collapsed": false
   },
   "outputs": [],
   "source": [
    "temp = [1.e+6, 2.e+6]\n",
    "dens = 1.e+9\n",
    "wvl = 200. + 0.05*np.arange(2001)\n",
    "emeasure = [1.e+27 ,1.e+27]"
   ]
  },
  {
   "cell_type": "code",
   "execution_count": null,
   "metadata": {
    "collapsed": false
   },
   "outputs": [],
   "source": [
    "s = ch.spectrum(temp, dens, wvl, filter = (chfilters.gaussian,.2), em = emeasure, doContinuum=0, minAbund=1.e-5)\n",
    "pl.figure()\n",
    "pl.subplot(311)\n",
    "pl.plot(wvl, s.Spectrum['integrated'])\n",
    "pl.title('integrated')\n",
    "pl.subplot(312)\n",
    "pl.plot(wvl, s.Spectrum['intensity'][0])\n",
    "pl.subplot(313)\n",
    "pl.plot(wvl, s.Spectrum['intensity'][1])"
   ]
  },
  {
   "cell_type": "markdown",
   "metadata": {},
   "source": [
    "the integrated spectrum is formed by multiplying each spectrum by the value of em (‘as in emission measure’) and summing them. Note that even though a value is specified for em, only the values of s.Spectrum[‘integrated’] have been multiplied by em. Also, the filter is not applied to the continuum. This spectrum was created with CHIANTI database version 8.0 and ChiantiPy version 0.6.0 using the following default values:"
   ]
  },
  {
   "cell_type": "markdown",
   "metadata": {},
   "source": [
    "setting minAbund = 1.e-6 will include the spectra of 170 ions and take 167 minutes on a 3.5 GHz processor\n",
    "setting minAbund = 1.e-5 will include the spectra of 100 ions and take 121 s, using a 4 processors, this takes 54s"
   ]
  },
  {
   "cell_type": "markdown",
   "metadata": {},
   "source": [
    "Calculations with the a spectrum module can be time consuming.  One way to control the length of time the calculations take is to limit the number of ions with the ionList keyword and to avoid the continuum calculations by setting the doContinuum keyword to 0 or False.  Another way to control the length of time the calculations take is with the minAbund keyword.  It sets the minimum elemental abundance that an element can have for its spectra to be calculated.  The default value is set include all elements.  Some usefull values of minAbund are:\n",
    "\n",
    "*  minAbund = 1.e-4, will include H, He, C, O, Ne\n",
    "*  minAbund = 2.e-5 adds  N, Mg, Si, S, Fe\n",
    "*  minAbund = 1.e-6 adds  Na, Al, Ar, Ca, Ni"
   ]
  },
  {
   "cell_type": "code",
   "execution_count": null,
   "metadata": {
    "collapsed": false
   },
   "outputs": [],
   "source": [
    "for akey in  chianti.data.Defaults:\n",
    "   print(' %10s - %s'%(akey,chianti.data.Defaults[akey]))"
   ]
  },
  {
   "cell_type": "markdown",
   "metadata": {},
   "source": [
    "Spectra of multiple ions and continuum with multi-processing\n",
    "============================================================"
   ]
  },
  {
   "cell_type": "markdown",
   "metadata": {},
   "source": [
    "The spectrum for a selection of all of the ions in the CHIANTI database can also be calculated. There are 3 spectral classes.\n",
    "\n",
    "1. spectrum - the single processor implementation that can be used anywhere\n",
    "2.  mspectrum - uses the Python multiprocessing class and **cannot** be used in a IPython qtconsole or notebook\n",
    "3.  ipymspectrum [new in v0.6] - uses the IPython parallel class and can be used in a IPython qtconsole or notebook\n"
   ]
  },
  {
   "cell_type": "markdown",
   "metadata": {},
   "source": [
    "next, we will use teh ipymspectrum class.  First, it is necessary to start up the cluster.  In some shell\n",
    "> ipcluster start --profile=notebook  --n=4\n",
    "\n",
    "this will start 4 engines if you have 4 cores and will use the notebook profile.  Under my .ipython directory, I have 3 profiles defined, 'profile_default', 'profile_notebook', and 'profile_qtconsole.'  You will at least have the default profile.  In that case \n",
    "\n",
    "> ipcluster start --n=4"
   ]
  },
  {
   "cell_type": "markdown",
   "metadata": {},
   "source": [
    "[New in version 0.6] One can also use a different abundance file than the default by specifying the abundanceName keyword. For example, abundanceName = ‘cosmic_1973_allen.abund’. If the specified file is not found in XUVTOP/abundance, then a widget will pop up and one can select the abundance file from a list.\n",
    "\n",
    "It is also possible to specify a selection of ions by means of the ionList keyword, for example, ionList=[‘fe_11’,’fe_12’,’fe_13’] or with the elementList keyword, for example, elementList=[‘mg’,’si’]\n",
    "\n",
    "For a minAbund of 1.e-4, 20 ions were calculated in 21 s. If the keyword argument minAbund were set to 1.e-5, then the spectra of 80 ions would be calculated 77 s. This would take about 8 min. on a single processor running at about 3 GHz."
   ]
  },
  {
   "cell_type": "code",
   "execution_count": null,
   "metadata": {
    "collapsed": false
   },
   "outputs": [],
   "source": [
    "s2 = ch.ipymspectrum(temp, dens, wvl, filter = (chfilters.gaussian,.2), em = emeasure, doContinuum=0, keepIons=1, elementList=['si'], minAbund=1.e-4)\n",
    "pl.subplot(211)\n",
    "pl.plot(wvl,s2.Spectrum['intensity'][0])\n",
    "pl.ylabel(r'erg cm$^{-2}$ s$^{-1}$ sr$^{-1} \\AA^{-1}$')\n",
    "pl.subplot(212)\n",
    "pl.plot(wvl,s2.IonInstances['si_9'].Spectrum['intensity'][0])\n",
    "pl.ylabel(r'erg cm$^{-2}$ s$^{-1}$ sr$^{-1} \\AA^{-1}$')\n",
    "pl.xlabel(r'Wavelength ($\\AA$)')\n",
    "pl.title('Si IX')"
   ]
  },
  {
   "cell_type": "markdown",
   "metadata": {},
   "source": [
    "Because **keepIons** has been set, the ion instances of all of the ions are maintained in the s2.IonInstances dictionary. It is then possible to compare the spectrum of all of the ions with the spectrum of a single ion."
   ]
  },
  {
   "cell_type": "code",
   "execution_count": null,
   "metadata": {
    "collapsed": false
   },
   "outputs": [],
   "source": [
    "print(' number of ions calculated %i '%(len(s3.IonsCalculated)))"
   ]
  },
  {
   "cell_type": "code",
   "execution_count": null,
   "metadata": {
    "collapsed": false
   },
   "outputs": [],
   "source": [
    "temp = 2.e+7\n",
    "dens = 1.e+9\n",
    "wvl = 1. + 0.002*np.arange(4501)\n",
    "s3 = ch.ipymspectrum(temp, dens, wvl, filter = (chfilters.gaussian,.015), doContinuum=1, em=1.e+27, minAbund=1.e-5)\n",
    "pl.figure()\n",
    "pl.plot(wvl, s3.Spectrum['intensity'])"
   ]
  },
  {
   "cell_type": "markdown",
   "metadata": {},
   "source": [
    "Since the continuum was calculated, it can be plotted separately"
   ]
  },
  {
   "cell_type": "code",
   "execution_count": null,
   "metadata": {
    "collapsed": false
   },
   "outputs": [],
   "source": [
    "pl.figure()\n",
    "pl.plot(wvl, s3.FreeFree['intensity'],label='FF')\n",
    "pl.plot(wvl, s3.FreeBound['intensity'],label = 'FB')\n",
    "pl.plot(wvl,s3.FreeBound['intensity']+s3.FreeFree['intensity'],label='FF+FB')\n",
    "pl.legend(loc='upper right')"
   ]
  },
  {
   "cell_type": "markdown",
   "metadata": {},
   "source": [
    "Radiative Energy Loss Rate\n",
    "=========================="
   ]
  },
  {
   "cell_type": "code",
   "execution_count": null,
   "metadata": {
    "collapsed": false
   },
   "outputs": [],
   "source": [
    "with these parameters, the calculation will take 207 s"
   ]
  },
  {
   "cell_type": "code",
   "execution_count": null,
   "metadata": {
    "collapsed": false
   },
   "outputs": [],
   "source": [
    "temp = 10.**(4.+0.25*np.arange(14))\n",
    "dens=1.e+4\n",
    "rl = ch.radLoss(temp, dens, minAbund=1.e-5, abundanceName='sun_photospheric_2011_caffau')\n",
    "rl.radLossPlot()"
   ]
  },
  {
   "cell_type": "code",
   "execution_count": null,
   "metadata": {
    "collapsed": false
   },
   "outputs": [],
   "source": []
  }
 ],
 "metadata": {
  "kernelspec": {
   "display_name": "Python 3",
   "language": "python",
   "name": "python3"
  },
  "language_info": {
   "codemirror_mode": {
    "name": "ipython",
    "version": 3
   },
   "file_extension": ".py",
   "mimetype": "text/x-python",
   "name": "python",
   "nbconvert_exporter": "python",
   "pygments_lexer": "ipython3",
   "version": "3.5.1"
  }
 },
 "nbformat": 4,
 "nbformat_minor": 0
}
