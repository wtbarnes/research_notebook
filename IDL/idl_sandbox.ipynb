{
 "cells": [
  {
   "cell_type": "code",
   "execution_count": null,
   "metadata": {
    "collapsed": false
   },
   "outputs": [],
   "source": [
    "R=FINDGEN(100)"
   ]
  },
  {
   "cell_type": "code",
   "execution_count": null,
   "metadata": {
    "collapsed": false
   },
   "outputs": [],
   "source": [
    "theta=R/5"
   ]
  },
  {
   "cell_type": "code",
   "execution_count": null,
   "metadata": {
    "collapsed": false
   },
   "outputs": [],
   "source": [
    "pplot=POLARPLOT(r,theta,'b*',TITLE='My Polar Plot')"
   ]
  },
  {
   "cell_type": "code",
   "execution_count": null,
   "metadata": {
    "collapsed": false
   },
   "outputs": [],
   "source": [
    "print,!PATH"
   ]
  },
  {
   "cell_type": "code",
   "execution_count": 15,
   "metadata": {
    "collapsed": false
   },
   "outputs": [
    {
     "name": "stdout",
     "output_type": "stream",
     "text": [
      "Executing: $SSW/site/setup/setup.ssw_paths\n",
      "Executing: $SSW/gen/setup/setup.soho_env\n",
      "Executing: $SSW/gen/setup/setup.yohkoh_env\n",
      "Executing: $SSW/gen/setup/setup.stereo_env\n",
      "SSW  setup will include: <gen \"sdo/aia sdo/hmi hinode/eis hic iris chianti poa\">\n",
      "Executing: $SSW/hic/setup/setup.hic_env\n",
      "Executing: $SSW/iris/setup/setup.iris_env\n",
      "Executing: $SSW/gen/setup/setup.ssw_alias\n",
      "\n",
      "Type <sswidl> to start SSW IDL\n",
      "SSW_BIN: Undefined variable.\n"
     ]
    }
   ],
   "source": [
    "setenv,'SHELL=/bin/tcsh'\n",
    "setenv,'SSW=/usr/local/ssw'\n",
    "setenv,'SSW_INSTR=\"sdo/aia sdo/hmi hinode/eis hic iris chianti poa\"'\n",
    "spawn,'source $SSW/gen/setup/setup.ssw /loud'\n",
    "setenv,'IDL_DIR=/usr/local/excelis/idl'\n",
    "setenv,'IDL_STARTUP=/usr/local/exelis/startup_idl.pro'\n",
    "spawn,'/home/wtb2/.idl/create_ssw_paths'"
   ]
  },
  {
   "cell_type": "code",
   "execution_count": 14,
   "metadata": {
    "collapsed": false
   },
   "outputs": [
    {
     "name": "stdout",
     "output_type": "stream",
     "text": [
      "\"sdo/aia sdo/hmi hinode/eis hic iris chianti poa\"\n"
     ]
    }
   ],
   "source": [
    "spawn,'echo $SSW_INSTR'"
   ]
  },
  {
   "cell_type": "code",
   "execution_count": 12,
   "metadata": {
    "collapsed": false
   },
   "outputs": [
    {
     "name": "stdout",
     "output_type": "stream",
     "text": [
      "% Attempt to call undefined procedure: 'SSW_PATH'.\n",
      "% Execution halted at: $MAIN$          \n"
     ]
    }
   ],
   "source": [
    "ssw_path"
   ]
  },
  {
   "cell_type": "code",
   "execution_count": null,
   "metadata": {
    "collapsed": true
   },
   "outputs": [],
   "source": []
  }
 ],
 "metadata": {
  "kernelspec": {
   "display_name": "IDL",
   "language": "IDL",
   "name": "idl"
  },
  "language_info": {
   "codemirror_mode": "idl",
   "file_extension": ".pro",
   "mimetype": "text/x-idl",
   "name": "idl"
  }
 },
 "nbformat": 4,
 "nbformat_minor": 0
}
