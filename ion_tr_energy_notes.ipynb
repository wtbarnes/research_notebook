{
 "cells": [
  {
   "cell_type": "markdown",
   "metadata": {},
   "source": [
    "# Ion Energy Balance in the Transition Region"
   ]
  },
  {
   "cell_type": "markdown",
   "metadata": {},
   "source": [
    "We can write the energy balance equation in the TR for electrons as\n",
    "$$\n",
    "\\frac{\\gamma}{\\gamma - 1}(p_ev)_0 = -F_{0,e} + \\psi_{TR} - \\mathcal{R}_{TR},\n",
    "$$\n",
    "and for ions as,\n",
    "$$\n",
    "\\frac{\\gamma}{\\gamma - 1}(p_iv)_0 = -F_{0,i} - \\psi_{TR}.\n",
    "$$"
   ]
  },
  {
   "cell_type": "markdown",
   "metadata": {},
   "source": [
    "Recall that $\\psi_{TR}$ is given by,\n",
    "$$\n",
    "\\psi_{TR} = \\frac{1}{1+\\xi}(F_{0,e} + \\mathcal{R}_{TR} - \\xi F_{0,i}),\n",
    "$$\n",
    "where $\\xi$ is defined to be the ratio between the electron and ion temperatures, $\\xi\\equiv T_e/T_i$."
   ]
  },
  {
   "cell_type": "markdown",
   "metadata": {},
   "source": [
    "Plugging this into the electron TR energy equation, \n",
    "$$\n",
    "\\frac{\\gamma}{\\gamma - 1}(p_ev)_0 = -\\frac{\\xi}{1+\\xi}(F_{0,e} + F_{0,i} + \\mathcal{R}_{TR}).\n",
    "$$\n",
    "Similarly, for the ion energy equation,\n",
    "$$\n",
    "\\frac{\\gamma}{\\gamma - 1}(p_iv)_0 = -\\frac{1}{1+\\xi}(F_{0,e} + F_{0,i} + \\mathcal{R}_{TR}).\n",
    "$$"
   ]
  },
  {
   "cell_type": "markdown",
   "metadata": {},
   "source": [
    "Let's look at these equations in three limits:\n",
    "\n",
    "+ __Electron heating__: $T_e\\gg T_i$ such that $\\xi\\to\\infty$. Here, the TR energy balance for electrons becomes\n",
    "$$\n",
    "\\frac{\\gamma}{\\gamma - 1}(p_ev)_0 \\to -(F_{0,e} + F_{0,i} + \\mathcal{R}_{TR}),\n",
    "$$\n",
    "while in the ion case,\n",
    "$$\n",
    "\\frac{\\gamma}{\\gamma - 1}(p_iv)_0 \\to 0.\n",
    "$$\n",
    "\n",
    "+ __Ion heating__: $T_i\\gg T_e$ such that $\\xi\\to0$. Now, TR energy balnce for electrons becomes\n",
    "$$\n",
    "\\frac{\\gamma}{\\gamma - 1}(p_ev)_0 \\to 0,\n",
    "$$\n",
    "while the ion equation becomes\n",
    "$$\n",
    "\\frac{\\gamma}{\\gamma - 1}(p_iv)_0 \\to -(F_{0,e} + F_{0,i} + \\mathcal{R}_{TR}).\n",
    "$$\n",
    "\n",
    "+ __Electron-ion equilibrium__: $T_i\\approx T_e$ such that $\\xi\\to1$. In the limit of electron-ion equilbrium, the two energy equations of course both reduce to,\n",
    "$$\n",
    "-\\frac{1}{2}(F_{0,e} + F_{0,i} + \\mathcal{R}_{TR}).\n",
    "$$"
   ]
  }
 ],
 "metadata": {
  "kernelspec": {
   "display_name": "Python 3",
   "language": "python",
   "name": "python3"
  },
  "language_info": {
   "codemirror_mode": {
    "name": "ipython",
    "version": 3
   },
   "file_extension": ".py",
   "mimetype": "text/x-python",
   "name": "python",
   "nbconvert_exporter": "python",
   "pygments_lexer": "ipython3",
   "version": "3.4.3"
  }
 },
 "nbformat": 4,
 "nbformat_minor": 0
}
