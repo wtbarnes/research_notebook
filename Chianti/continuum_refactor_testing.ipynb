{
 "cells": [
  {
   "cell_type": "markdown",
   "metadata": {
    "collapsed": true
   },
   "source": [
    "# ChiantiPy Continuum Refactor\n",
    "Testing some improvements to the `continuum` class in ChiantiPy. Here, we'll try to implement a barebones version for testing purposes."
   ]
  },
  {
   "cell_type": "code",
   "execution_count": 1,
   "metadata": {
    "collapsed": false
   },
   "outputs": [
    {
     "name": "stderr",
     "output_type": "stream",
     "text": [
      "/home/wtb2/anaconda3/envs/sunpy-aia-response/lib/python3.5/site-packages/IPython/html.py:14: ShimWarning: The `IPython.html` package has been deprecated since IPython 4.0. You should import from `notebook` instead. `IPython.html.widgets` has moved to `ipywidgets`.\n",
      "  \"`IPython.html.widgets` has moved to `ipywidgets`.\", ShimWarning)\n"
     ]
    },
    {
     "name": "stdout",
     "output_type": "stream",
     "text": [
      " using cli\n",
      " using CLI for selections\n",
      " reading chiantirc file\n"
     ]
    }
   ],
   "source": [
    "import os\n",
    "\n",
    "import numpy as np\n",
    "from scipy.interpolate import splrep,splev\n",
    "from scipy.ndimage import map_coordinates\n",
    "import matplotlib.pyplot as plt\n",
    "import matplotlib.colors\n",
    "import seaborn as sns\n",
    "import astropy.units as u\n",
    "import astropy.constants as const\n",
    "import ChiantiPy.core as ch\n",
    "import ChiantiPy.tools.constants as ch_const\n",
    "import ChiantiPy.tools.io as ch_io\n",
    "import ChiantiPy.tools.data as ch_data\n",
    "import ChiantiPy.tools.util as ch_util\n",
    "import hissw\n",
    "\n",
    "%matplotlib inline"
   ]
  },
  {
   "cell_type": "code",
   "execution_count": 2,
   "metadata": {
    "collapsed": false
   },
   "outputs": [],
   "source": [
    "ch_data.Defaults['abundfile'] = 'sun_coronal_1992_feldman'\n",
    "ch_data.Defaults['ioneqfile'] = 'chianti'\n",
    "ch_data.Defaults['flux'] = 'photon'"
   ]
  },
  {
   "cell_type": "markdown",
   "metadata": {},
   "source": [
    "## Improved Implementation of `continuum` class"
   ]
  },
  {
   "cell_type": "code",
   "execution_count": 3,
   "metadata": {
    "collapsed": true
   },
   "outputs": [],
   "source": [
    "invcm = (const.h.cgs*const.c.cgs)"
   ]
  },
  {
   "cell_type": "code",
   "execution_count": null,
   "metadata": {
    "code_folding": [
     162,
     185
    ],
    "collapsed": false
   },
   "outputs": [],
   "source": [
    "class ContinuumTest(object):\n",
    "    \"\"\"\n",
    "    Testing new continuum class\n",
    "    \"\"\"\n",
    "    \n",
    "    @u.quantity_input(temperature=u.K)\n",
    "    def __init__(self,ion_name,temperature,use_photons=True):\n",
    "        self.temperature = temperature\n",
    "        self.Z = ch_util.el2z(ion_name.split('_')[0])\n",
    "        self.z = int(ion_name.split('_')[1])\n",
    "        if self.z == 1:\n",
    "            raise ValueError('No continuum emission for neutrals!')\n",
    "        self.abundance = ch_io.abundanceRead(abundancename=ch_data.Defaults['abundfile'])['abundance'][self.Z-1]\n",
    "        self.ionization_potential = (ch_data.Ip[self.Z-1,self.z-1]*u.eV).to(u.erg)\n",
    "        self.use_photons = use_photons\n",
    "        tmp = ch.ioneq(self.Z)\n",
    "        tmp.load(ch_data.Defaults['ioneqfile'])\n",
    "        ioneq = splev(self.temperature.value,splrep(tmp.Temperature,tmp.Ioneq[self.z,:]))\n",
    "        self.ioneq = np.where(ioneq<0.,0.,ioneq)\n",
    "    \n",
    "    @u.quantity_input(wavelength=u.angstrom)\n",
    "    def free_bound(self,wavelength,use_verner=True):\n",
    "        \"\"\"\n",
    "        Calculate free-bound emission\n",
    "        \"\"\"\n",
    "        #from IPython.core.debugger import Tracer; Tracer()()\n",
    "\n",
    "        # calculate constant\n",
    "        fb_constant = (2./np.sqrt(2.*np.pi)/(4.*np.pi*u.steradian)\n",
    "                       /(const.h.cgs*(const.c.cgs**3)*(const.m_e.cgs*const.k_B.cgs)**(3./2.)))\n",
    "                \n",
    "        # read free-bound level information for recombined ion\n",
    "        recombined_fblvl = ch_io.fblvlRead('.'.join([ch_util.zion2filename(self.Z,self.z),'fblvl']))\n",
    "        # read free-bound level information for recombining ion\n",
    "        recombining_fblvl = ch_io.fblvlRead('.'.join([ch_util.zion2filename(self.Z,self.z+1),'fblvl']))        \n",
    "        # check if no fblvl files are available\n",
    "        if 'errorMessage' in recombined_fblvl:\n",
    "            raise ValueError('No free-bound information available for {}'.format(ch_util.zion2name(self.Z,self.z)))\n",
    "        # calculate photon energy from wavelength\n",
    "        photon_energy = invcm/wavelength.to(u.cm)\n",
    "        # get the multiplicity of the ground state of the recombining ion\n",
    "        if 'errorMessage' in recombining_fblvl:\n",
    "            omega_0 = 1.\n",
    "        else:\n",
    "            omega_0 = recombining_fblvl['mult'][0]\n",
    "        \n",
    "        # calculate a few different factors\n",
    "        energy_over_temp_factor = (np.outer(1./(self.temperature**1.5),photon_energy**5.)\n",
    "                                  *((photon_energy.unit**5)/(self.temperature.unit**(3./2.))))\n",
    "        \n",
    "        # sum over the recombined levels\n",
    "        sum_factor = np.zeros((len(self.temperature),len(wavelength)))*u.cm**2\n",
    "        #print(photon_energy)\n",
    "        for i,omega_i in enumerate(recombined_fblvl['mult']):\n",
    "            ip = self.ionization_potential - recombined_fblvl['ecm'][i]/u.cm*invcm\n",
    "            if ip < 0. or np.all(np.max(photon_energy) < (self.ionization_potential - ip)):\n",
    "                continue\n",
    "            if i==0 and use_verner:\n",
    "                # use V&Y for ground states\n",
    "                cross_section = self.verner_cross_sections(photon_energy)\n",
    "            else:\n",
    "                # otherwise use the KL method\n",
    "                cross_section = self.karzas_cross_sections(photon_energy,ip,\n",
    "                                                           recombined_fblvl['pqn'][i],\n",
    "                                                           recombined_fblvl['l'][i])\n",
    "            \n",
    "            scaled_energy = np.outer(1./(const.k_B.cgs*self.temperature),photon_energy - ip)\n",
    "            scaled_energy[:,np.where(cross_section==0.)] = 0.0\n",
    "            sum_factor += omega_i/omega_0*np.exp(-scaled_energy)*cross_section\n",
    "                    \n",
    "        # combine to get total emissivity\n",
    "        fb_emiss = fb_constant*energy_over_temp_factor*sum_factor\n",
    "        # multiply by abundance and ionization equilibrium\n",
    "        fb_emiss *= self.abundance*self.ioneq[:,np.newaxis] \n",
    "        \n",
    "        if self.use_photons:\n",
    "            photon_factor = (const.h*const.c).to(u.erg*u.angstrom)/wavelength/u.photon\n",
    "        else:\n",
    "            photon_factor = 1.0\n",
    "        \n",
    "        return fb_emiss.to(u.erg*u.cm**3/u.s/u.angstrom/u.steradian)/photon_factor\n",
    "        \n",
    "    def verner_cross_sections(self,photon_energy):\n",
    "        \"\"\"\n",
    "        Calculate cross-sections according to Verner and Yakovlev\n",
    "        \"\"\"\n",
    "        # Read the data related to the verner cross sections\n",
    "        vyxs_info = ch_io.vernerRead()\n",
    "        # simplify variable names for fitting formula\n",
    "        eth = vyxs_info['eth'][self.Z,self.z]*u.eV\n",
    "        yw = vyxs_info['yw'][self.Z,self.z]\n",
    "        ya = vyxs_info['ya'][self.Z,self.z]\n",
    "        p = vyxs_info['p'][self.Z,self.z]\n",
    "        sigma0 = vyxs_info['sig0'][self.Z,self.z]*u.Mbarn\n",
    "        e0 = vyxs_info['e0'][self.Z,self.z]*u.eV\n",
    "        q = 5.5 + vyxs_info['l'][self.Z,self.z] - 0.5*p\n",
    "        \n",
    "        # scaled photon energy\n",
    "        y = photon_energy.to(u.eV)/e0\n",
    "        # calculating fitting function\n",
    "        F = ((y - 1.)**2 + yw**2)*(y**(-q))*(1. + np.sqrt(y/ya))**(-p)\n",
    "        \n",
    "        # calculate cross section\n",
    "        cross_section = (sigma0*F).to(u.cm**2)\n",
    "        \n",
    "        return np.where(photon_energy < eth,0.,cross_section)*cross_section.unit\n",
    "    \n",
    "    def karzas_cross_sections(self,photon_energy,ionization_potential,n,l):\n",
    "        \"\"\"\n",
    "        Calculate cross-sections using the gaunt factors of Karzas and Latter\n",
    "        \"\"\"\n",
    "        kl_constant = 1.077294e-1*8065.54e3*u.Mbarn\n",
    "        \n",
    "        # read in KL gaunt factor information and calculate the gaunt factor\n",
    "        klgf_info = ch_io.klgfbRead()\n",
    "        if n <= klgf_info['klgfb'].shape[0]:\n",
    "            scaled_energy = np.log10(photon_energy/ionization_potential)\n",
    "            f_gf = splrep(klgf_info['pe'],klgf_info['klgfb'][n-1,l,:])\n",
    "            gf = np.exp(splev(scaled_energy,f_gf))\n",
    "        else:\n",
    "            gf = 1.\n",
    "        \n",
    "        # scaled energy factors\n",
    "        energy_factor = ((ionization_potential/invcm).value**2.)*((photon_energy/invcm).value)**(-3)\n",
    "        # cross section\n",
    "        cross_section = (kl_constant*energy_factor*gf/n).to(u.cm**2)\n",
    "    \n",
    "        return np.where(photon_energy>=ionization_potential,cross_section,0.)*cross_section.unit\n",
    "    \n",
    "    @u.quantity_input(wavelength=u.angstrom)\n",
    "    def free_free(self,wavelength):\n",
    "        \"\"\"\n",
    "        Use Rybicki and Lightman formula, same as what is implemented in CHIANTI IDL, itoh and Sutherland\n",
    "        \"\"\"\n",
    "        # define constant\n",
    "        # equivalent to c*f_K of Sutherland et al. \n",
    "        ff_const = ((2**5*np.pi*const.e.gauss**6/3./const.m_e/(const.c**3)\n",
    "                     *(2.*np.pi/3./const.m_e/const.k_B)**(0.5)).cgs\n",
    "                     /(4*np.pi*u.sr)*const.c.to(u.angstrom/u.s))\n",
    "        # temperature dimension factor with ion properties\n",
    "        prefactor = self.abundance*self.ioneq*self.Z**2/np.sqrt(self.temperature)\n",
    "        # temperature by wavelength exponential factor\n",
    "        exp_factor = (np.exp(-const.h*const.c/const.k_B/(np.outer(self.temperature,wavelength)\n",
    "                                                         *self.temperature.unit*wavelength.unit))\n",
    "                      / wavelength**2)\n",
    "        # combine the two\n",
    "        factor = prefactor.reshape(self.temperature.shape[0],1)*exp_factor\n",
    "        \n",
    "        # calculate gaunt factor\n",
    "        gf_itoh = self.itoh(wavelength)\n",
    "        gf_sutherland = self.sutherland(wavelength)\n",
    "        # set sutherland values where itoh values are Nan\n",
    "        gf = np.where(np.isnan(gf_itoh),gf_sutherland,gf_itoh)\n",
    "        \n",
    "        if self.use_photons:\n",
    "            photon_factor = (const.h*const.c).to(u.erg*u.angstrom)/wavelength/u.photon\n",
    "        else:\n",
    "            photon_factor = 1.0\n",
    "        \n",
    "        return factor*ff_const*gf/photon_factor\n",
    "        \n",
    "    @u.quantity_input(wavelength=u.angstrom)\n",
    "    def itoh(self,wavelength):\n",
    "        \"\"\"\n",
    "        Calculate gaunt factor according to Itoh et al. (2000)\n",
    "        \"\"\"\n",
    "        lower_u = ((const.h*const.c).to(u.erg*u.angstrom)\n",
    "                   /const.k_B.cgs/(np.outer(self.temperature.value,wavelength.value)\n",
    "                                   *wavelength.unit*self.temperature.unit))\n",
    "        upper_u = 1./2.5*(np.log10(lower_u) + 1.5)\n",
    "        t = 1./1.25*(np.log10(self.temperature.value) - 7.25)\n",
    "        \n",
    "        itoh_coefficients = ch_io.itohRead()['itohCoef'][self.Z-1].reshape(11,11)\n",
    "        gf = np.zeros(upper_u.shape)\n",
    "        for j in range(11):\n",
    "            for i in range(11):\n",
    "                gf += itoh_coefficients[i,j]*(t**i).reshape(t.shape[0],1)*(upper_u**j)\n",
    "                \n",
    "        gf = np.where(np.logical_and(np.log10(lower_u)>=-4.,np.log10(lower_u)<=1.0),gf,np.nan)\n",
    "        gf[np.where(np.logical_or(np.log10(self.temperature.value)<=6.0,\n",
    "                                  np.log10(self.temperature.value)>=8.5)),:] = np.nan\n",
    "                \n",
    "        return gf\n",
    "        \n",
    "    @u.quantity_input(wavelength=u.angstrom)\n",
    "    def sutherland(self,wavelength):\n",
    "        \"\"\"\n",
    "        Calculate Gaunt factors according to Sutherland (1998)\n",
    "        \"\"\"\n",
    "        \n",
    "        lower_u = ((const.h*const.c).to(u.erg*u.angstrom)\n",
    "                    /const.k_B.cgs/(np.outer(self.temperature.value,wavelength.value)\n",
    "                                    *wavelength.unit*self.temperature.unit))\n",
    "        gamma_squared = ((self.Z**2)*(1.*u.Ry).to(u.erg)/const.k_B.cgs\n",
    "                         /self.temperature.reshape(self.temperature.shape[0],1)*np.ones(lower_u.shape))\n",
    "        \n",
    "        i_lower_u = (np.log10(lower_u) + 4.)*10.\n",
    "        i_gamma_squared = (np.log10(gamma_squared) + 4.)*5\n",
    "        \n",
    "        gf_sutherland_data = ch_io.gffRead()\n",
    "        \n",
    "        gf_sutherland = map_coordinates(gf_sutherland_data['gff'],\n",
    "                                        [i_gamma_squared.value.flatten(),\n",
    "                                         i_lower_u.value.flatten()]).reshape(lower_u.shape)\n",
    "        \n",
    "        return np.where(gf_sutherland<0.,0.,gf_sutherland)"
   ]
  },
  {
   "cell_type": "markdown",
   "metadata": {},
   "source": [
    "## IDL"
   ]
  },
  {
   "cell_type": "markdown",
   "metadata": {},
   "source": [
    "First, run the free-free method in SSW."
   ]
  },
  {
   "cell_type": "code",
   "execution_count": 4,
   "metadata": {
    "code_folding": [],
    "collapsed": true
   },
   "outputs": [],
   "source": [
    "calc_continuum = \"\"\"\n",
    "    ; set common block\n",
    "    common abund, abund_ref, ioneq, ioneq_logt, ioneq_ref\n",
    "\n",
    "    ; read abundance and ionization equilibrium\n",
    "    abundfile=\"/usr/local/ssw/packages/chianti/dbase/abundance/sun_coronal_1992_feldman.abund\"\n",
    "    read_abund, abundfile, abund, abund_ref\n",
    "    ioneqfile=\"/usr/local/ssw/packages/chianti/dbase/ioneq/chianti.ioneq\"\n",
    "    read_ioneq, ioneqfile, ioneq_logt, ioneq, ioneq_ref\n",
    "\n",
    "    ; set temperature and wavelength\n",
    "    pressure = 1.e15\n",
    "    temperature = 5+findgen(100)/99*3\n",
    "    wavelength = findgen(413-24) + 25\n",
    "    edensity = pressure/(10.^temperature)\n",
    "\n",
    "    ; proton-to-electron density ratio\n",
    "    common proton, pstr, pe_ratio\n",
    "    pe_ratio=proton_dens(temperature)\n",
    "\n",
    "    ; calculate two photon\n",
    "    two_photon, 10.^temperature, wavelength, tp, /photons, /no_setup, edensity=edensity\n",
    "    ; calculate free-free\n",
    "    freefree, 10.^temperature, wavelength, ff, /photons, /no_setup\n",
    "    ; calculate free-bound\n",
    "    freebound, 10.^temperature, wavelength, fb, /photons, /no_setup\n",
    "    ; make into normal units\n",
    "    tp = tp/1d40\n",
    "    ff = ff/1d40\n",
    "    fb = fb/1d40\n",
    "    \"\"\""
   ]
  },
  {
   "cell_type": "code",
   "execution_count": 5,
   "metadata": {
    "collapsed": true
   },
   "outputs": [],
   "source": [
    "continuum_sm = hissw.ScriptMaker(ssw_pkg_list=['chianti'],ssw_path_list=['chianti'])"
   ]
  },
  {
   "cell_type": "code",
   "execution_count": 6,
   "metadata": {
    "collapsed": false,
    "scrolled": true
   },
   "outputs": [
    {
     "name": "stdout",
     "output_type": "stream",
     "text": [
      "SSW  setup will include: <gen chianti>\n",
      "\n",
      "Type <sswidl> to start SSW IDL\n",
      "--------------------------------------------------------\n",
      "Running SSW, Last Updated: Wed Nov 2 22:22:51 GMT 2005\n",
      " \n",
      "PROBLEMS? - e-mail TO: freeland@penumbra.nascom.nasa.gov\n",
      "--------------------------------------------------------\n",
      "IDL Version 8.5 (linux x86_64 m64). (c) 2015, Exelis Visual Information Solutions, Inc., a subsidiary of Harris Corporation.\n",
      "Installation number: 401801-1.\n",
      "Licensed for use by: Rice University\n",
      "\n",
      "Executing SSW IDL_STARTUP for: GEN\n",
      "Invalid MIT-MAGIC-COOKIE-1 key% DEVICE: Unable to connect to X Windows display: :0.0\n",
      "Executing SSW IDL_STARTUP for: CHIANTI\n",
      "% Compiled module: USE_CHIANTI.\n",
      "\n",
      "---------------------------------------------------------------\n",
      "                  Welcome to the CHIANTI database \n",
      "                   for astrophysical spectroscopy. \n",
      "       For current information see the CHIANTI home page:\n",
      "                     www.chiantidatabase.org   \n",
      " For any comments and questions please sign up on our google group:\n",
      "         https://groups.google.com/forum/#!forum/chianti \n",
      " Please acknowledge the use of CHIANTI in any presentation and publication\n",
      "% Compiled module: DIR_EXIST.\n",
      "CHIANTI system variable !xuvtop set=/usr/local/ssw/packages/chianti/dbase\n",
      "You are using the CHIANTI database VERSION 8.0.1\n",
      "CHIANTI system variable !ioneq_file set=/usr/local/ssw/packages/chianti/dbase/ioneq/chianti.ioneq\n",
      "CHIANTI system variable !abund_file set=/usr/local/ssw/packages/chianti/dbase/abundance/sun_photospheric_1998_grevesse.abund\n",
      "% DEVICELIB: Added system variable !BCOLOR\n",
      "% DEVICELIB: Added system variable !ASPECT\n",
      "-------------------------------------------------------------------\n",
      "\n",
      "Executing SSW IDL_STARTUP for: SITE\n",
      "% Compiled module: SSW_PATH.\n",
      "% Compiled module: SSW_INSTRUMENTS.\n",
      "% Compiled module: WC_WHERE.\n",
      "% Compiled module: PATHFIX.\n",
      "% Compiled module: REM_ELEM.\n",
      "% Compiled module: REM_ELEM2.\n",
      "% Compiled module: GET_UNIQ.\n",
      "% Compiled module: SSW_UNIQ.\n",
      "% Compiled module: DEFAULT.\n",
      "% Compiled module: REMOVE.\n",
      "% Compiled module: UNIQO.\n",
      "% Compiled module: STRJUSTIFY.\n",
      "% Compiled module: UNIQ.\n",
      "% Compiled module: PRSTR.\n",
      "Including Paths:\n",
      " --------------------------------------------\n",
      "| $SSW/packages/chianti/idl/emiss            |\n",
      "| $SSW/packages/chianti/idl/ratios           |\n",
      "| $SSW/packages/chianti/idl/utilities        |\n",
      "| $SSW/packages/chianti/idl/dem/low_level    |\n",
      "| $SSW/packages/chianti/idl/dem              |\n",
      "| $SSW/packages/chianti/idl/synt_spec        |\n",
      "| $SSW/packages/chianti/idl/read             |\n",
      "| $SSW/packages/chianti/idl/setup            |\n",
      "| $SSW/packages/chianti/idl/convert          |\n",
      "| $SSW/packages/chianti/idl/continuum        |\n",
      "| $SSW/packages/chianti/idl/object           |\n",
      "| $SSW/packages/chianti/idl/level_population |\n",
      "| $SSW/packages/chianti/idl/ionrec           |\n",
      "| $SSW/packages/chianti/idl/em               |\n",
      " --------------------------------------------\n",
      "% SSW_PATH: Path not changed Number of paths: 102\n",
      "% Compiled module: READ_ABUND.\n",
      "% Compiled module: READ_IONEQ.\n",
      "% Program caused arithmetic error: Floating underflow\n",
      "% Compiled module: PROTON_DENS.\n",
      "Using the default abundance file /usr/local/ssw/packages/chianti/dbase/abundance/sun_photospheric_1998_grevesse.abund to calculate the p/e ratio\n",
      "Using the default ion fraction file /usr/local/ssw/packages/chianti/dbase/ioneq/chianti.ioneq to calculate the p/e ratio\n",
      "% Program caused arithmetic error: Floating underflow\n",
      "% Compiled module: TWO_PHOTON.\n",
      "% Compiled module: READ_MASTERLIST.\n",
      "% Compiled module: CONVERTNAME.\n",
      "% Compiled module: STR_SEP.\n",
      "% Compiled module: SETUP_ION.\n",
      "% Compiled module: ION2FILENAME.\n",
      "% Compiled module: READ_IONREC.\n",
      "% Compiled module: READ_WGFA2.\n",
      "% Compiled module: READ_SPLUPS.\n",
      "% Compiled module: READ_ELVLC.\n",
      "% Compiled module: ZION2SPECTROSCOPIC.\n",
      "% Compiled module: CONVERT_CONFIG.\n",
      "% Compiled module: REPSTR.\n",
      "% Compiled module: STR_INDEX.\n",
      "% Compiled module: VALID_NUM.\n",
      "% Compiled module: READ_SCUPS.\n",
      "% Compiled module: POP_SOLVER.\n",
      "% Compiled module: TAG_EXIST.\n",
      "% Compiled module: ION2SPECTROSCOPIC.\n",
      "% Compiled module: DESCALE_SCUPS.\n",
      "% Compiled module: MATRIX_SOLVER.\n",
      "% Compiled module: CORRECT_POPS.\n",
      "% Compiled module: ION_FRAC_INTERP.\n",
      "% Compiled module: CI_REC_INTERP.\n",
      "% Compiled module: READ_IP.\n",
      "% Program caused arithmetic error: Floating underflow\n",
      "% Compiled module: FREEFREE.\n",
      "% Compiled module: ITOH.\n",
      "% Compiled module: SUTHERLAND.\n",
      "% Compiled module: READ_GFFGU.\n",
      "% Compiled module: BILINEAR.\n",
      "% Program caused arithmetic error: Floating underflow\n",
      "% Compiled module: FREEBOUND.\n",
      "% Compiled module: READ_KLGFB.\n",
      "% Compiled module: GET_IEQ.\n",
      "% Compiled module: FREEBOUND_ION.\n",
      "% Compiled module: ZION2FILENAME.\n",
      "% Compiled module: READ_FBLVL.\n",
      "% Compiled module: VERNER_XS.\n",
      "% Compiled module: KARZAS_XS.\n",
      "% Program caused arithmetic error: Floating underflow\n",
      "\n"
     ]
    }
   ],
   "source": [
    "ssw_continuum = continuum_sm.run([(calc_continuum,{})],save_vars=['ff','fb','temperature','wavelength'])"
   ]
  },
  {
   "cell_type": "markdown",
   "metadata": {},
   "source": [
    "## ChiantiPy"
   ]
  },
  {
   "cell_type": "markdown",
   "metadata": {},
   "source": [
    "Now, loop over all ions and calculate total free-free emission using our new bare-bones version of the continuum object in ChiantiPy. "
   ]
  },
  {
   "cell_type": "code",
   "execution_count": 7,
   "metadata": {
    "collapsed": true
   },
   "outputs": [],
   "source": [
    "wavelength = ssw_continuum['wavelength']*u.angstrom"
   ]
  },
  {
   "cell_type": "code",
   "execution_count": 8,
   "metadata": {
    "collapsed": true
   },
   "outputs": [],
   "source": [
    "temperature = 10.**(ssw_continuum['temperature'])*u.K"
   ]
  },
  {
   "cell_type": "code",
   "execution_count": 9,
   "metadata": {
    "collapsed": true
   },
   "outputs": [],
   "source": [
    "total_free_free = np.zeros((len(temperature),len(wavelength)))\n",
    "total_free_bound = np.zeros((len(temperature),len(wavelength)))"
   ]
  },
  {
   "cell_type": "code",
   "execution_count": 10,
   "metadata": {
    "code_folding": [],
    "collapsed": false,
    "scrolled": true
   },
   "outputs": [
    {
     "name": "stdout",
     "output_type": "stream",
     "text": [
      "0: Calculating continuum for h_1\n",
      "1: Calculating continuum for he_2\n",
      "2: Calculating continuum for c_6\n",
      "3: Calculating continuum for n_7\n",
      "4: Calculating continuum for o_8\n",
      "5: Calculating continuum for ne_10\n",
      "6: Calculating continuum for na_11\n",
      "No free-bound information available for na_11\n",
      "7: Calculating continuum for mg_12\n",
      "8: Calculating continuum for al_13\n",
      "9: Calculating continuum for si_14\n",
      "10: Calculating continuum for p_15\n",
      "No free-bound information available for p_15\n",
      "11: Calculating continuum for s_16\n",
      "12: Calculating continuum for cl_17\n",
      "No free-bound information available for cl_17\n",
      "13: Calculating continuum for ar_18\n",
      "14: Calculating continuum for k_19\n",
      "No free-bound information available for k_19\n",
      "15: Calculating continuum for ca_20\n",
      "16: Calculating continuum for fe_26\n",
      "17: Calculating continuum for ni_28\n",
      "18: Calculating continuum for he_1\n",
      "19: Calculating continuum for c_5\n",
      "20: Calculating continuum for n_6\n",
      "21: Calculating continuum for o_7\n",
      "22: Calculating continuum for ne_9\n",
      "23: Calculating continuum for na_10\n",
      "No free-bound information available for na_10\n",
      "24: Calculating continuum for mg_11\n",
      "25: Calculating continuum for al_12\n",
      "26: Calculating continuum for si_13\n",
      "27: Calculating continuum for p_14\n",
      "No free-bound information available for p_14\n",
      "28: Calculating continuum for s_15\n",
      "29: Calculating continuum for cl_16\n",
      "No free-bound information available for cl_16\n",
      "30: Calculating continuum for ar_17\n",
      "31: Calculating continuum for k_18\n",
      "No free-bound information available for k_18\n",
      "32: Calculating continuum for ca_19\n",
      "33: Calculating continuum for fe_25\n",
      "34: Calculating continuum for ni_27\n",
      "35: Calculating continuum for zn_29\n",
      "No free-bound information available for zn_29\n",
      "48: Calculating continuum for c_4\n",
      "49: Calculating continuum for n_5\n",
      "50: Calculating continuum for o_6\n",
      "51: Calculating continuum for ne_8\n",
      "52: Calculating continuum for na_9\n",
      "No free-bound information available for na_9\n",
      "53: Calculating continuum for mg_10\n",
      "54: Calculating continuum for al_11\n",
      "55: Calculating continuum for si_12\n",
      "56: Calculating continuum for p_13\n",
      "No free-bound information available for p_13\n",
      "57: Calculating continuum for s_14\n",
      "58: Calculating continuum for ar_16\n",
      "59: Calculating continuum for k_17\n",
      "No free-bound information available for k_17\n",
      "60: Calculating continuum for ca_18\n",
      "61: Calculating continuum for ti_20\n",
      "No free-bound information available for ti_20\n",
      "62: Calculating continuum for cr_22\n",
      "No free-bound information available for cr_22\n",
      "63: Calculating continuum for mn_23\n",
      "No free-bound information available for mn_23\n",
      "64: Calculating continuum for fe_24\n",
      "65: Calculating continuum for co_25\n",
      "No free-bound information available for co_25\n",
      "66: Calculating continuum for ni_26\n",
      "67: Calculating continuum for zn_28\n",
      "No free-bound information available for zn_28\n",
      "80: Calculating continuum for c_3\n",
      "81: Calculating continuum for n_4\n",
      "82: Calculating continuum for o_5\n",
      "83: Calculating continuum for ne_7\n",
      "84: Calculating continuum for na_8\n",
      "No free-bound information available for na_8\n",
      "85: Calculating continuum for mg_9\n",
      "86: Calculating continuum for al_10\n",
      "87: Calculating continuum for si_11\n",
      "88: Calculating continuum for p_12\n",
      "No free-bound information available for p_12\n",
      "89: Calculating continuum for s_13\n",
      "90: Calculating continuum for cl_14\n",
      "No free-bound information available for cl_14\n",
      "91: Calculating continuum for ar_15\n",
      "92: Calculating continuum for k_16\n",
      "No free-bound information available for k_16\n",
      "93: Calculating continuum for ca_17\n",
      "94: Calculating continuum for ti_19\n",
      "No free-bound information available for ti_19\n",
      "95: Calculating continuum for cr_21\n",
      "No free-bound information available for cr_21\n",
      "96: Calculating continuum for mn_22\n",
      "No free-bound information available for mn_22\n",
      "97: Calculating continuum for fe_23\n",
      "98: Calculating continuum for co_24\n",
      "No free-bound information available for co_24\n",
      "99: Calculating continuum for ni_25\n",
      "100: Calculating continuum for zn_27\n",
      "No free-bound information available for zn_27\n",
      "123: Calculating continuum for c_2\n",
      "124: Calculating continuum for n_3\n",
      "125: Calculating continuum for o_4\n",
      "126: Calculating continuum for ne_6\n",
      "127: Calculating continuum for na_7\n",
      "No free-bound information available for na_7\n",
      "128: Calculating continuum for mg_8\n",
      "129: Calculating continuum for al_9\n",
      "130: Calculating continuum for si_10\n",
      "131: Calculating continuum for p_11\n",
      "No free-bound information available for p_11\n",
      "132: Calculating continuum for s_12\n",
      "133: Calculating continuum for cl_13\n",
      "No free-bound information available for cl_13\n",
      "134: Calculating continuum for ar_14\n",
      "135: Calculating continuum for k_15\n",
      "No free-bound information available for k_15\n",
      "136: Calculating continuum for ca_16\n",
      "137: Calculating continuum for ti_18\n",
      "No free-bound information available for ti_18\n",
      "138: Calculating continuum for cr_20\n",
      "No free-bound information available for cr_20\n",
      "139: Calculating continuum for mn_21\n",
      "No free-bound information available for mn_21\n",
      "140: Calculating continuum for fe_22\n",
      "141: Calculating continuum for co_23\n",
      "No free-bound information available for co_23\n",
      "142: Calculating continuum for ni_24\n",
      "143: Calculating continuum for c_1\n",
      "144: Calculating continuum for n_2\n",
      "145: Calculating continuum for o_3\n",
      "146: Calculating continuum for ne_5\n",
      "147: Calculating continuum for na_6\n",
      "No free-bound information available for na_6\n",
      "148: Calculating continuum for mg_7\n",
      "149: Calculating continuum for al_8\n",
      "150: Calculating continuum for si_9\n",
      "151: Calculating continuum for p_10\n",
      "No free-bound information available for p_10\n",
      "152: Calculating continuum for s_11\n",
      "153: Calculating continuum for cl_12\n",
      "No free-bound information available for cl_12\n",
      "154: Calculating continuum for ar_13\n",
      "155: Calculating continuum for k_14\n",
      "No free-bound information available for k_14\n",
      "156: Calculating continuum for ca_15\n",
      "157: Calculating continuum for ti_17\n",
      "No free-bound information available for ti_17\n",
      "158: Calculating continuum for cr_19\n",
      "No free-bound information available for cr_19\n",
      "159: Calculating continuum for mn_20\n",
      "No free-bound information available for mn_20\n",
      "160: Calculating continuum for fe_21\n",
      "161: Calculating continuum for co_22\n",
      "No free-bound information available for co_22\n",
      "162: Calculating continuum for ni_23\n",
      "163: Calculating continuum for zn_25\n",
      "No free-bound information available for zn_25\n",
      "164: Calculating continuum for n_1\n",
      "165: Calculating continuum for o_2\n",
      "166: Calculating continuum for ne_4\n",
      "167: Calculating continuum for na_5\n",
      "No free-bound information available for na_5\n",
      "168: Calculating continuum for mg_6\n",
      "169: Calculating continuum for al_7\n",
      "170: Calculating continuum for si_8\n",
      "171: Calculating continuum for p_9\n",
      "No free-bound information available for p_9\n",
      "172: Calculating continuum for s_10\n",
      "173: Calculating continuum for cl_11\n",
      "No free-bound information available for cl_11\n",
      "174: Calculating continuum for ar_12\n",
      "175: Calculating continuum for k_13\n",
      "No free-bound information available for k_13\n",
      "176: Calculating continuum for ca_14\n",
      "177: Calculating continuum for ti_16\n",
      "No free-bound information available for ti_16\n",
      "178: Calculating continuum for cr_18\n",
      "No free-bound information available for cr_18\n",
      "179: Calculating continuum for mn_19\n",
      "No free-bound information available for mn_19\n",
      "180: Calculating continuum for fe_20\n",
      "181: Calculating continuum for co_21\n",
      "No free-bound information available for co_21\n",
      "182: Calculating continuum for ni_22\n",
      "183: Calculating continuum for zn_24\n",
      "No free-bound information available for zn_24\n",
      "184: Calculating continuum for o_1\n",
      "185: Calculating continuum for ne_3\n",
      "186: Calculating continuum for na_4\n",
      "No free-bound information available for na_4\n",
      "187: Calculating continuum for mg_5\n",
      "188: Calculating continuum for al_6\n",
      "189: Calculating continuum for si_7\n",
      "190: Calculating continuum for p_8\n",
      "No free-bound information available for p_8\n",
      "191: Calculating continuum for s_9\n",
      "192: Calculating continuum for cl_10\n",
      "No free-bound information available for cl_10\n",
      "193: Calculating continuum for ar_11\n",
      "194: Calculating continuum for k_12\n",
      "No free-bound information available for k_12\n",
      "195: Calculating continuum for ca_13\n",
      "196: Calculating continuum for ti_15\n",
      "No free-bound information available for ti_15\n",
      "197: Calculating continuum for cr_17\n",
      "No free-bound information available for cr_17\n",
      "198: Calculating continuum for mn_18\n",
      "No free-bound information available for mn_18\n",
      "199: Calculating continuum for fe_19\n",
      "200: Calculating continuum for co_20\n",
      "No free-bound information available for co_20\n",
      "201: Calculating continuum for ni_21\n",
      "202: Calculating continuum for zn_23\n",
      "No free-bound information available for zn_23\n",
      "203: Calculating continuum for ne_2\n",
      "204: Calculating continuum for na_3\n",
      "No free-bound information available for na_3\n",
      "205: Calculating continuum for mg_4\n",
      "206: Calculating continuum for al_5\n",
      "207: Calculating continuum for si_6\n",
      "208: Calculating continuum for p_7\n",
      "No free-bound information available for p_7\n",
      "209: Calculating continuum for s_8\n",
      "210: Calculating continuum for ar_10\n",
      "211: Calculating continuum for k_11\n",
      "No free-bound information available for k_11\n",
      "212: Calculating continuum for ca_12\n",
      "213: Calculating continuum for ti_14\n",
      "No free-bound information available for ti_14\n",
      "214: Calculating continuum for cr_16\n",
      "No free-bound information available for cr_16\n",
      "215: Calculating continuum for mn_17\n",
      "No free-bound information available for mn_17\n",
      "216: Calculating continuum for fe_18\n",
      "217: Calculating continuum for co_19\n",
      "No free-bound information available for co_19\n",
      "218: Calculating continuum for ni_20\n",
      "219: Calculating continuum for na_2\n",
      "No free-bound information available for na_2\n",
      "220: Calculating continuum for mg_3\n",
      "221: Calculating continuum for al_4\n",
      "222: Calculating continuum for si_5\n",
      "223: Calculating continuum for p_6\n",
      "No free-bound information available for p_6\n",
      "224: Calculating continuum for s_7\n",
      "225: Calculating continuum for ar_9\n",
      "226: Calculating continuum for k_10\n",
      "No free-bound information available for k_10\n",
      "227: Calculating continuum for ca_11\n",
      "228: Calculating continuum for ti_13\n",
      "No free-bound information available for ti_13\n",
      "229: Calculating continuum for cr_15\n",
      "No free-bound information available for cr_15\n",
      "230: Calculating continuum for mn_16\n",
      "No free-bound information available for mn_16\n",
      "231: Calculating continuum for fe_17\n",
      "232: Calculating continuum for co_18\n",
      "No free-bound information available for co_18\n",
      "233: Calculating continuum for ni_19\n",
      "234: Calculating continuum for zn_21\n",
      "No free-bound information available for zn_21\n",
      "235: Calculating continuum for mg_2\n",
      "236: Calculating continuum for al_3\n",
      "237: Calculating continuum for si_4\n",
      "238: Calculating continuum for p_5\n",
      "No free-bound information available for p_5\n",
      "239: Calculating continuum for s_6\n",
      "240: Calculating continuum for ar_8\n",
      "241: Calculating continuum for k_9\n",
      "No free-bound information available for k_9\n",
      "242: Calculating continuum for ca_10\n",
      "243: Calculating continuum for ti_12\n",
      "No free-bound information available for ti_12\n",
      "244: Calculating continuum for cr_14\n",
      "No free-bound information available for cr_14\n",
      "245: Calculating continuum for mn_15\n",
      "No free-bound information available for mn_15\n",
      "246: Calculating continuum for fe_16\n",
      "247: Calculating continuum for co_17\n",
      "No free-bound information available for co_17\n",
      "248: Calculating continuum for ni_18\n",
      "249: Calculating continuum for zn_20\n",
      "No free-bound information available for zn_20\n",
      "250: Calculating continuum for al_2\n",
      "No free-bound information available for al_2\n",
      "251: Calculating continuum for si_3\n",
      "252: Calculating continuum for s_5\n",
      "253: Calculating continuum for ar_7\n",
      "254: Calculating continuum for ca_9\n",
      "255: Calculating continuum for ti_11\n",
      "No free-bound information available for ti_11\n",
      "256: Calculating continuum for cr_13\n",
      "No free-bound information available for cr_13\n",
      "257: Calculating continuum for fe_15\n",
      "258: Calculating continuum for ni_17\n",
      "259: Calculating continuum for si_2\n",
      "260: Calculating continuum for s_4\n",
      "261: Calculating continuum for ca_8\n",
      "No free-bound information available for ca_8\n",
      "262: Calculating continuum for fe_14\n",
      "263: Calculating continuum for ni_16\n",
      "264: Calculating continuum for s_3\n",
      "265: Calculating continuum for cl_4\n",
      "No free-bound information available for cl_4\n",
      "266: Calculating continuum for ar_5\n",
      "No free-bound information available for ar_5\n",
      "267: Calculating continuum for k_6\n",
      "No free-bound information available for k_6\n",
      "268: Calculating continuum for ca_7\n",
      "No free-bound information available for ca_7\n",
      "269: Calculating continuum for fe_13\n",
      "270: Calculating continuum for ni_15\n",
      "271: Calculating continuum for s_2\n",
      "272: Calculating continuum for cl_3\n",
      "No free-bound information available for cl_3\n",
      "273: Calculating continuum for ar_4\n",
      "274: Calculating continuum for k_5\n",
      "No free-bound information available for k_5\n",
      "275: Calculating continuum for ca_6\n",
      "No free-bound information available for ca_6\n",
      "276: Calculating continuum for fe_12\n",
      "277: Calculating continuum for ni_14\n",
      "No free-bound information available for ni_14\n",
      "278: Calculating continuum for s_1\n",
      "279: Calculating continuum for cl_2\n",
      "No free-bound information available for cl_2\n",
      "280: Calculating continuum for ar_3\n",
      "No free-bound information available for ar_3\n",
      "281: Calculating continuum for ca_5\n",
      "No free-bound information available for ca_5\n",
      "282: Calculating continuum for cr_9\n",
      "No free-bound information available for cr_9\n",
      "283: Calculating continuum for mn_10\n",
      "No free-bound information available for mn_10\n",
      "284: Calculating continuum for fe_11\n",
      "285: Calculating continuum for ni_13\n",
      "286: Calculating continuum for cr_8\n",
      "No free-bound information available for cr_8\n",
      "287: Calculating continuum for mn_9\n",
      "No free-bound information available for mn_9\n",
      "288: Calculating continuum for fe_10\n",
      "289: Calculating continuum for ni_12\n",
      "290: Calculating continuum for cr_7\n",
      "No free-bound information available for cr_7\n",
      "291: Calculating continuum for mn_8\n",
      "No free-bound information available for mn_8\n",
      "292: Calculating continuum for fe_9\n",
      "293: Calculating continuum for ni_11\n",
      "294: Calculating continuum for ca_2\n",
      "No free-bound information available for ca_2\n",
      "295: Calculating continuum for fe_8\n",
      "296: Calculating continuum for fe_7\n",
      "297: Calculating continuum for fe_6\n",
      "298: Calculating continuum for fe_5\n",
      "299: Calculating continuum for fe_4\n",
      "300: Calculating continuum for fe_3\n",
      "No free-bound information available for fe_3\n",
      "301: Calculating continuum for fe_2\n",
      "No free-bound information available for fe_2\n",
      "302: Calculating continuum for ni_2\n",
      "No free-bound information available for ni_2\n"
     ]
    }
   ],
   "source": [
    "for ion in ch_data.MasterList:\n",
    "    if ion[-1] == 'd':\n",
    "        continue\n",
    "    print('{}: Calculating continuum for {}'.format(ch_data.MasterList.index(ion),ion))\n",
    "    #tmp = ContinuumTest(ion,temperature)\n",
    "    tmp = ch.Continuum(ion,temperature.value)\n",
    "    #try:\n",
    "    #    tmp = ContinuumTest(ion,temperature)\n",
    "    #except ValueError:\n",
    "    #    print('No continuum for neutral ions')\n",
    "    #    continue\n",
    "    #total_free_free += tmp.free_free(wavelength)\n",
    "    total_free_free += tmp.free_free(wavelength.value)\n",
    "    try:\n",
    "        #tmp_fb = tmp.free_bound(wavelength, use_verner=False)\n",
    "        tmp_fb = tmp.free_bound(wavelength.value, use_verner=True)\n",
    "        if np.any(np.isnan(tmp_fb)):\n",
    "            raise ZeroDivisionError('Found some NaNs')\n",
    "        total_free_bound += tmp_fb\n",
    "    except ValueError:\n",
    "        print('No free-bound information available for {}'.format(ion))\n",
    "        continue"
   ]
  },
  {
   "cell_type": "markdown",
   "metadata": {},
   "source": [
    "## Single Ion Comparison\n",
    "Compare the free-bound emission for a single ion. We'll choose the first ion of hydrogen."
   ]
  },
  {
   "cell_type": "markdown",
   "metadata": {},
   "source": [
    "### IDL"
   ]
  },
  {
   "cell_type": "code",
   "execution_count": null,
   "metadata": {
    "code_folding": [],
    "collapsed": true
   },
   "outputs": [],
   "source": [
    "calc_continuum_single_ion = \"\"\"\n",
    "    ; set common block\n",
    "    common abund, abund_ref, ioneq, ioneq_logt, ioneq_ref\n",
    "\n",
    "    ; read abundance and ionization equilibrium\n",
    "    abundfile=\"/usr/local/ssw/packages/chianti/dbase/abundance/sun_coronal_1992_feldman.abund\"\n",
    "    read_abund, abundfile, abund, abund_ref\n",
    "    ioneqfile=\"/usr/local/ssw/packages/chianti/dbase/ioneq/chianti.ioneq\"\n",
    "    read_ioneq, ioneqfile, ioneq_logt, ioneq, ioneq_ref\n",
    "\n",
    "    ; set temperature and wavelength\n",
    "    temperature = 5+findgen(100)/99*3\n",
    "    wavelength = findgen(413-24) + 25\n",
    "\n",
    "    ; proton-to-electron density ratio (get out the abundance)\n",
    "    common proton, pstr, pe_ratio\n",
    "    pe_ratio=proton_dens(temperature)\n",
    "\n",
    "    ; calculate free-bound\n",
    "    freebound, 10.^temperature, wavelength, fb, /photons, /no_setup, iz={{iz}}, ion={{ion}}\n",
    "\n",
    "    ; make into normal units\n",
    "    fb = fb/1d40\n",
    "    \"\"\""
   ]
  },
  {
   "cell_type": "code",
   "execution_count": null,
   "metadata": {
    "collapsed": true
   },
   "outputs": [],
   "source": [
    "continuum_sm_single_ion = hissw.ScriptMaker(ssw_pkg_list=['chianti'],ssw_path_list=['chianti'])"
   ]
  },
  {
   "cell_type": "code",
   "execution_count": null,
   "metadata": {
    "code_folding": [
     0
    ],
    "collapsed": true
   },
   "outputs": [],
   "source": [
    "single_ion_results_ssw = continuum_sm_single_ion.run([(calc_continuum_single_ion,{'ion':9,'iz':26})],\n",
    "                                                 save_vars=['fb','wavelength','temperature'])"
   ]
  },
  {
   "cell_type": "markdown",
   "metadata": {},
   "source": [
    "### Python"
   ]
  },
  {
   "cell_type": "code",
   "execution_count": null,
   "metadata": {
    "collapsed": false
   },
   "outputs": [],
   "source": [
    "continuum_py_single_ion = ch.Continuum('fe_9',10.**single_ion_results_ssw['temperature'])"
   ]
  },
  {
   "cell_type": "code",
   "execution_count": null,
   "metadata": {
    "collapsed": false,
    "scrolled": true
   },
   "outputs": [],
   "source": [
    "single_ion_results_py = continuum_py_single_ion.free_bound(single_ion_results_ssw['wavelength'])"
   ]
  },
  {
   "cell_type": "code",
   "execution_count": null,
   "metadata": {
    "collapsed": false,
    "scrolled": false
   },
   "outputs": [],
   "source": [
    "plt.figure(figsize=(8,8))\n",
    "for i in range(single_ion_results_ssw['temperature'].shape[0]):\n",
    "    plt.plot(single_ion_results_ssw['wavelength'],single_ion_results_ssw['fb'][i,:])\n",
    "plt.xlim([single_ion_results_ssw['wavelength'][0],\n",
    "          single_ion_results_ssw['wavelength'][-1]])\n",
    "plt.yscale('log')\n",
    "plt.ylim([1e-24,2e-18])"
   ]
  },
  {
   "cell_type": "code",
   "execution_count": null,
   "metadata": {
    "collapsed": false
   },
   "outputs": [],
   "source": [
    "plt.figure(figsize=(8,8))\n",
    "for i in range(single_ion_results_ssw['temperature'].shape[0]):\n",
    "    plt.plot(single_ion_results_ssw['wavelength'],single_ion_results_py[i,:])\n",
    "plt.xlim([single_ion_results_ssw['wavelength'][0],\n",
    "          single_ion_results_ssw['wavelength'][-1]])\n",
    "plt.yscale('log')\n",
    "plt.ylim([1e-24,2e-18])"
   ]
  },
  {
   "cell_type": "markdown",
   "metadata": {},
   "source": [
    "## Free-free comparison"
   ]
  },
  {
   "cell_type": "markdown",
   "metadata": {},
   "source": [
    "Now plot the comparisons."
   ]
  },
  {
   "cell_type": "code",
   "execution_count": 11,
   "metadata": {
    "collapsed": false
   },
   "outputs": [
    {
     "data": {
      "text/plain": [
       "<matplotlib.text.Text at 0x7f31f1387b38>"
      ]
     },
     "execution_count": 11,
     "metadata": {},
     "output_type": "execute_result"
    },
    {
     "data": {
      "image/png": "[encoded data removed]",
      "text/plain": [
       "<matplotlib.figure.Figure at 0x7f31f13acfd0>"
      ]
     },
     "metadata": {},
     "output_type": "display_data"
    }
   ],
   "source": [
    "wmesh,tmesh = np.meshgrid(ssw_continuum['wavelength'],10.**ssw_continuum['temperature'])\n",
    "plt.pcolormesh(tmesh,wmesh,(ssw_continuum['ff']),\n",
    "               norm=matplotlib.colors.SymLogNorm(1e-50,vmin=1e-20,vmax=1e-17),\n",
    "               cmap=matplotlib.cm.viridis\n",
    "              )\n",
    "plt.xscale('log')\n",
    "plt.colorbar()\n",
    "plt.xlim([1e5,1e8])\n",
    "plt.xlabel(r'$T$')\n",
    "plt.ylabel(r'$\\lambda$')\n",
    "plt.title(r'IDL, Free-free')"
   ]
  },
  {
   "cell_type": "code",
   "execution_count": 12,
   "metadata": {
    "collapsed": false
   },
   "outputs": [
    {
     "data": {
      "text/plain": [
       "<matplotlib.colorbar.Colorbar at 0x7f31ede81a58>"
      ]
     },
     "execution_count": 12,
     "metadata": {},
     "output_type": "execute_result"
    },
    {
     "data": {
      "image/png": "[encoded data removed]",
      "text/plain": [
       "<matplotlib.figure.Figure at 0x7f31f1384f98>"
      ]
     },
     "metadata": {},
     "output_type": "display_data"
    }
   ],
   "source": [
    "wmesh_py,tmesh_py = np.meshgrid(wavelength,temperature)\n",
    "plt.pcolormesh(tmesh_py.value,wmesh_py.value,(total_free_free),\n",
    "               norm=matplotlib.colors.SymLogNorm(1e-50,\n",
    "                                                 vmin=1e-20,\n",
    "                                                 vmax=1e-17\n",
    "                                                ),\n",
    "               cmap=matplotlib.cm.viridis\n",
    "              )\n",
    "plt.xscale('log')\n",
    "plt.title(r'ChiantiPy, Free-free')\n",
    "plt.xlabel(r'$T$')\n",
    "plt.ylabel(r'$\\lambda$')\n",
    "plt.colorbar()"
   ]
  },
  {
   "cell_type": "markdown",
   "metadata": {
    "collapsed": true
   },
   "source": [
    "Now plot the difference between the two."
   ]
  },
  {
   "cell_type": "code",
   "execution_count": 18,
   "metadata": {
    "collapsed": false
   },
   "outputs": [
    {
     "data": {
      "text/plain": [
       "<matplotlib.text.Text at 0x7f31ed879160>"
      ]
     },
     "execution_count": 18,
     "metadata": {},
     "output_type": "execute_result"
    },
    {
     "data": {
      "image/png": "[encoded data removed]",
      "text/plain": [
       "<matplotlib.figure.Figure at 0x7f31eda33278>"
      ]
     },
     "metadata": {},
     "output_type": "display_data"
    }
   ],
   "source": [
    "plt.pcolormesh(tmesh,wmesh,\n",
    "               np.fabs(ssw_continuum['ff'] - total_free_free)/(ssw_continuum['ff'] + total_free_free)/2.,\n",
    "               #norm=matplotlib.colors.SymLogNorm(1e-50,\n",
    "                                                  vmin=0.05,\n",
    "                                                  vmax=0.009,\n",
    "                #                                  ),\n",
    "               cmap=matplotlib.cm.viridis\n",
    "              )\n",
    "plt.xscale('log')\n",
    "plt.colorbar()\n",
    "plt.xlim([1e5,1e8])\n",
    "plt.xlabel(r'$T$')\n",
    "plt.ylabel(r'$\\lambda$')\n",
    "plt.title(r'Free-free percent difference')"
   ]
  },
  {
   "cell_type": "markdown",
   "metadata": {
    "collapsed": true
   },
   "source": [
    "## Free-bound comparison"
   ]
  },
  {
   "cell_type": "code",
   "execution_count": 19,
   "metadata": {
    "collapsed": false
   },
   "outputs": [
    {
     "data": {
      "text/plain": [
       "<matplotlib.text.Text at 0x7f31ed64f0b8>"
      ]
     },
     "execution_count": 19,
     "metadata": {},
     "output_type": "execute_result"
    },
    {
     "data": {
      "image/png": "[encoded data removed]",
      "text/plain": [
       "<matplotlib.figure.Figure at 0x7f31edcb46d8>"
      ]
     },
     "metadata": {},
     "output_type": "display_data"
    }
   ],
   "source": [
    "wmesh,tmesh = np.meshgrid(ssw_continuum['wavelength'],10.**ssw_continuum['temperature'])\n",
    "plt.pcolormesh(tmesh,wmesh,(ssw_continuum['fb']),\n",
    "               norm=matplotlib.colors.SymLogNorm(1e-50,vmin=1e-20,vmax=1e-17),\n",
    "               cmap=matplotlib.cm.viridis\n",
    "              )\n",
    "plt.xscale('log')\n",
    "plt.colorbar()\n",
    "plt.xlim([1e5,1e8])\n",
    "plt.xlabel(r'$T$')\n",
    "plt.ylabel(r'$\\lambda$')\n",
    "plt.title(r'IDL, Free-bound')"
   ]
  },
  {
   "cell_type": "code",
   "execution_count": 20,
   "metadata": {
    "collapsed": false
   },
   "outputs": [
    {
     "data": {
      "text/plain": [
       "<matplotlib.colorbar.Colorbar at 0x7f31ed4d96a0>"
      ]
     },
     "execution_count": 20,
     "metadata": {},
     "output_type": "execute_result"
    },
    {
     "data": {
      "image/png": "[encoded data removed]",
      "text/plain": [
       "<matplotlib.figure.Figure at 0x7f31ed867a90>"
      ]
     },
     "metadata": {},
     "output_type": "display_data"
    }
   ],
   "source": [
    "wmesh_py,tmesh_py = np.meshgrid(wavelength,temperature)\n",
    "plt.pcolormesh(tmesh_py.value,wmesh_py.value,(total_free_bound),\n",
    "               norm=matplotlib.colors.SymLogNorm(1e-50,vmin=1e-20,vmax=1e-17),\n",
    "               cmap=matplotlib.cm.viridis\n",
    "              )\n",
    "plt.xscale('log')\n",
    "plt.title(r'ChiantiPy, Free-bound')\n",
    "plt.xlabel(r'$T$')\n",
    "plt.ylabel(r'$\\lambda$')\n",
    "plt.colorbar()"
   ]
  },
  {
   "cell_type": "code",
   "execution_count": 21,
   "metadata": {
    "collapsed": false
   },
   "outputs": [
    {
     "data": {
      "text/plain": [
       "<matplotlib.text.Text at 0x7f31ed96fe10>"
      ]
     },
     "execution_count": 21,
     "metadata": {},
     "output_type": "execute_result"
    },
    {
     "data": {
      "image/png": "[encoded data removed]",
      "text/plain": [
       "<matplotlib.figure.Figure at 0x7f31ed308748>"
      ]
     },
     "metadata": {},
     "output_type": "display_data"
    }
   ],
   "source": [
    "plt.pcolormesh(tmesh,wmesh,\n",
    "               np.fabs(ssw_continuum['fb'] - total_free_bound)/(ssw_continuum['fb'] + total_free_bound)/2.,\n",
    "               norm=matplotlib.colors.SymLogNorm(1e-50,\n",
    "                                                 vmin=0.0001,\n",
    "                                                 vmax=0.1,\n",
    "                                                ),\n",
    "               cmap=matplotlib.cm.viridis\n",
    "              )\n",
    "plt.xscale('log')\n",
    "plt.colorbar()\n",
    "plt.xlim([1e5,1e8])\n",
    "plt.xlabel(r'$T$')\n",
    "plt.ylabel(r'$\\lambda$')\n",
    "plt.title(r'Free-bound percent difference')"
   ]
  },
  {
   "cell_type": "code",
   "execution_count": null,
   "metadata": {
    "collapsed": true
   },
   "outputs": [],
   "source": []
  }
 ],
 "metadata": {
  "kernelspec": {
   "display_name": "Python [conda env:sunpy-aia-response]",
   "language": "python",
   "name": "conda-env-sunpy-aia-response-py"
  },
  "language_info": {
   "codemirror_mode": {
    "name": "ipython",
    "version": 3
   },
   "file_extension": ".py",
   "mimetype": "text/x-python",
   "name": "python",
   "nbconvert_exporter": "python",
   "pygments_lexer": "ipython3",
   "version": "3.5.3"
  }
 },
 "nbformat": 4,
 "nbformat_minor": 2
}
