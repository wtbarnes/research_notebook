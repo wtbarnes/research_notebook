{
 "cells": [
  {
   "cell_type": "markdown",
   "metadata": {},
   "source": [
    "# Prototyping a Data Storage Model for ChiantiPy"
   ]
  },
  {
   "cell_type": "code",
   "execution_count": null,
   "metadata": {
    "collapsed": false
   },
   "outputs": [],
   "source": [
    "import os\n",
    "\n",
    "import numpy as np\n",
    "import pandas\n",
    "import matplotlib.pyplot as plt\n",
    "import h5py\n",
    "import astropy.units as u\n",
    "import ChiantiPy.tools.util as ch_util\n",
    "import ChiantiPy.tools.io as ch_io\n",
    "import ChiantiPy.core as ch\n",
    "\n",
    "%matplotlib inline"
   ]
  },
  {
   "cell_type": "markdown",
   "metadata": {},
   "source": [
    "## Build HDF5 file from CHIANTI files\n",
    "Build out an HDF5 file from all of the various CHIANTI data files. It would be nice if we could read the data without the ChiantiPy readers..."
   ]
  },
  {
   "cell_type": "markdown",
   "metadata": {},
   "source": [
    "## Data Access Model"
   ]
  },
  {
   "cell_type": "markdown",
   "metadata": {},
   "source": [
    "CHIANTI has several file formats that it stores for each ion. The most notable are,\n",
    "\n",
    "* `.elvlc`: energy levels (in cm$^{-1}$) with additional level configuration\n",
    "* `.wgfa`: wavelengths, oscillator strengths, and Einstein A coefficients for the transitions\n",
    "* `.scups`: temperatures and effective collision strenghts for each transition. Replaces the old `.splups` files. There are also still `.psplups` files\n",
    "* Additional files:\n",
    "  * `.fblvl`: information for calculating free-bound continuum\n",
    "  * `.cilvl`, `.reclvl`: ionization and recombination rates\n",
    "\n",
    "Essentially, we want to have a property for each of these files. Each of these properties returns an object with a `__getitem__` method that takes in the keys associated with each of these files. These objects return the relevant data streamed out of the HDF5 file.\n",
    "\n",
    "Ideally, this file would be built once the first time you download ChiantiPy and then only rebuilt when your installed CHIANTI database gets updated. The filename is then stored at the package level. We'll use our CHIANTI database HDF5 file that we've been using in `synthesizAR`."
   ]
  },
  {
   "cell_type": "code",
   "execution_count": null,
   "metadata": {
    "collapsed": true
   },
   "outputs": [],
   "source": [
    "chianti_hdf5_filename = '/data/datadrive1/ar_forward_modeling/systematic_ar_study/chianti_db.h5'"
   ]
  },
  {
   "cell_type": "code",
   "execution_count": null,
   "metadata": {
    "collapsed": true
   },
   "outputs": [],
   "source": [
    "class DataIndexer(object):\n",
    "    \n",
    "    def __init__(self,ion_path,key_conversion):\n",
    "        self.ion_path = ion_path\n",
    "        self.key_conversion = key_conversion\n",
    "    \n",
    "    def __getitem__(self,key):\n",
    "        if key not in self.key_conversion:\n",
    "            raise IndexError('{} not a valid attribute for {}'.format(key,self.ion_path))\n",
    "        with h5py.File(chianti_hdf5_filename,'r') as hf:\n",
    "            data = np.array(hf['/'.join([self.ion_path,self.key_conversion[key][0]])])*self.key_conversion[key][1]\n",
    "        return data\n",
    "    \n",
    "    def __repr__(self):\n",
    "        with h5py.File(chianti_hdf5_filename,'r') as hf:\n",
    "            ref = hf[self.ion_path].attrs['ref']\n",
    "        return ref\n",
    "    "
   ]
  },
  {
   "cell_type": "code",
   "execution_count": null,
   "metadata": {
    "collapsed": false
   },
   "outputs": [],
   "source": [
    "class GenericChiantiData(object):\n",
    "    \n",
    "    def __init__(self,ion_name):\n",
    "        self.ion_name = ion_name\n",
    "        self.element = ion_name.split('_')[0]\n",
    "        self.Z = ch_util.el2z(self.element)\n",
    "        self.stage = ion_name.split('_')[-1]\n",
    "        \n",
    "    @property\n",
    "    def elvlc(self):\n",
    "        # more sensible and readable keywords\n",
    "        key_unit_conversion = {'energy':('ecm',1/u.cm),'level':('lvl',u.dimensionless_unscaled)}\n",
    "        return DataIndexer('/'.join([self.element,self.stage,'elvlc']),key_unit_conversion)\n",
    "    \n",
    "    @property\n",
    "    def wgfa(self):\n",
    "        key_unit_conversion = {'wavelength':('wvl',u.angstrom),'einstein_a':('avalue',1/u.s)}\n",
    "        return DataIndexer('/'.join([self.element,self.stage,'wgfa']),key_unit_conversion)\n",
    "    "
   ]
  },
  {
   "cell_type": "code",
   "execution_count": null,
   "metadata": {
    "collapsed": false
   },
   "outputs": [],
   "source": [
    "with h5py.File(chianti_hdf5_filename,'r') as hf:\n",
    "    print([a for a in hf['fe/15/scups'].attrs])\n",
    "    print(hf['fe/15/elvlc'].attrs['ref'])"
   ]
  },
  {
   "cell_type": "code",
   "execution_count": null,
   "metadata": {
    "collapsed": true
   },
   "outputs": [],
   "source": [
    "chianti_reader = GenericChiantiData('fe_15')"
   ]
  },
  {
   "cell_type": "code",
   "execution_count": null,
   "metadata": {
    "collapsed": false
   },
   "outputs": [],
   "source": [
    "chianti_reader.wgfa"
   ]
  },
  {
   "cell_type": "code",
   "execution_count": null,
   "metadata": {
    "collapsed": true
   },
   "outputs": [],
   "source": [
    "elvlc_data = chianti_reader.elvlc"
   ]
  },
  {
   "cell_type": "code",
   "execution_count": null,
   "metadata": {
    "collapsed": false
   },
   "outputs": [],
   "source": [
    "elvlc_data['level']"
   ]
  },
  {
   "cell_type": "code",
   "execution_count": null,
   "metadata": {
    "collapsed": false
   },
   "outputs": [],
   "source": [
    "GenericChiantiData('mg_12').elvlc['energy']"
   ]
  },
  {
   "cell_type": "code",
   "execution_count": null,
   "metadata": {
    "collapsed": false
   },
   "outputs": [],
   "source": [
    "%%timeit\n",
    "GenericChiantiData('h_1').wgfa['einstein_a']"
   ]
  },
  {
   "cell_type": "code",
   "execution_count": null,
   "metadata": {
    "collapsed": false
   },
   "outputs": [],
   "source": [
    "%%timeit\n",
    "ch.ion('h_1').Wgfa['avalue']"
   ]
  },
  {
   "cell_type": "markdown",
   "metadata": {},
   "source": [
    "This is specifically for an ion. We could also implement an even more generic class for the other non-ion-specific datasets, e.g. abundance, ionization potential, miscellaneous continuum data. \n",
    "\n",
    "Alternatively, when the CHIANTI HDF5 database is created, these could just be broken up by ion appropriately. This would work except for the continuum data which is maybe a special case anyway. \n",
    "\n",
    "Basically, we just want to avoid having to index things over and over again. Better to just refer to it by the ion name.\n",
    "\n",
    "Since this kind of data is used in quite a few places, we could provide it as a generic object. This also makes the CHIANTI data easily accessible without the baggage of the ion object if users want to extend it in anyway."
   ]
  },
  {
   "cell_type": "code",
   "execution_count": null,
   "metadata": {
    "collapsed": true
   },
   "outputs": [],
   "source": []
  }
 ],
 "metadata": {
  "anaconda-cloud": {},
  "kernelspec": {
   "display_name": "Python [conda env:chiantipy]",
   "language": "python",
   "name": "conda-env-chiantipy-py"
  },
  "language_info": {
   "codemirror_mode": {
    "name": "ipython",
    "version": 3
   },
   "file_extension": ".py",
   "mimetype": "text/x-python",
   "name": "python",
   "nbconvert_exporter": "python",
   "pygments_lexer": "ipython3",
   "version": "3.5.2"
  }
 },
 "nbformat": 4,
 "nbformat_minor": 2
}
