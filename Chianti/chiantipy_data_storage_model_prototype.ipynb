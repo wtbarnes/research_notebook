{
 "cells": [
  {
   "cell_type": "markdown",
   "metadata": {},
   "source": [
    "# Prototyping a Data Storage Model for ChiantiPy"
   ]
  },
  {
   "cell_type": "code",
   "execution_count": 30,
   "metadata": {
    "collapsed": false
   },
   "outputs": [
    {
     "name": "stdout",
     "output_type": "stream",
     "text": [
      " using cli\n",
      " using CLI for selections\n",
      " reading chiantirc file\n"
     ]
    }
   ],
   "source": [
    "import os\n",
    "\n",
    "import numpy as np\n",
    "import h5py\n",
    "import astropy.units as u\n",
    "import ChiantiPy.tools.util as ch_util\n",
    "import ChiantiPy.core as ch"
   ]
  },
  {
   "cell_type": "markdown",
   "metadata": {},
   "source": [
    "CHIANTI has several file formats that it stores for each ion. The most notable are,\n",
    "\n",
    "* `.elvlc`: energy levels (in cm$^{-1}$) with additional level configuration\n",
    "* `.wgfa`: wavelengths, oscillator strengths, and Einstein A coefficients for the transitions\n",
    "* `.scups`: temperatures and effective collision strenghts for each transition. Replaces the old `.splups` files. There are also still `.psplups` files\n",
    "* Additional files:\n",
    "  * `.fblvl`: information for calculating free-bound continuum\n",
    "  * `.cilvl`, `.reclvl`: ionization and recombination rates\n",
    "\n",
    "Essentially, we want to have a property for each of these files. Each of these properties returns an object with a `__getitem__` method that takes in the keys associated with each of these files. These objects return the relevant data streamed out of the HDF5 file.\n",
    "\n",
    "Ideally, this file would be built once the first time you download ChiantiPy and then only rebuilt when your installed CHIANTI database gets updated. The filename is then stored at the package level. We'll use our CHIANTI database HDF5 file that we've been using in `synthesizAR`."
   ]
  },
  {
   "cell_type": "code",
   "execution_count": 5,
   "metadata": {
    "collapsed": true
   },
   "outputs": [],
   "source": [
    "chianti_hdf5_filename = '/data/datadrive1/ar_forward_modeling/systematic_ar_study/chianti_db.h5'"
   ]
  },
  {
   "cell_type": "code",
   "execution_count": 43,
   "metadata": {
    "collapsed": true
   },
   "outputs": [],
   "source": [
    "class DataIndexer(object):\n",
    "    \n",
    "    def __init__(self,ion_path,key_conversion):\n",
    "        self.ion_path = ion_path\n",
    "        self.key_conversion = key_conversion\n",
    "    \n",
    "    def __getitem__(self,key):\n",
    "        if key not in self.key_conversion:\n",
    "            raise IndexError('{} not a valid attribute for {}'.format(key,self.ion_path))\n",
    "        with h5py.File(chianti_hdf5_filename,'r') as hf:\n",
    "            data = np.array(hf['/'.join([self.ion_path,self.key_conversion[key][0]])])*self.key_conversion[key][1]\n",
    "        return data\n",
    "    \n",
    "    def __repr__(self):\n",
    "        with h5py.File(chianti_hdf5_filename,'r') as hf:\n",
    "            ref = hf[self.ion_path].attrs['ref']\n",
    "        return ref\n",
    "    "
   ]
  },
  {
   "cell_type": "code",
   "execution_count": 44,
   "metadata": {
    "collapsed": false
   },
   "outputs": [],
   "source": [
    "class GenericChiantiData(object):\n",
    "    \n",
    "    def __init__(self,ion_name):\n",
    "        self.ion_name = ion_name\n",
    "        self.element = ion_name.split('_')[0]\n",
    "        self.Z = ch_util.el2z(self.element)\n",
    "        self.stage = ion_name.split('_')[-1]\n",
    "        \n",
    "    @property\n",
    "    def elvlc(self):\n",
    "        # more sensible and readable keywords\n",
    "        key_unit_conversion = {'energy':('ecm',1/u.cm),'level':('lvl',u.dimensionless_unscaled)}\n",
    "        return DataIndexer('/'.join([self.element,self.stage,'elvlc']),key_unit_conversion)\n",
    "    \n",
    "    @property\n",
    "    def wgfa(self):\n",
    "        key_unit_conversion = {'wavelength':('wvl',u.angstrom),'einstein_a':('avalue',1/u.s)}\n",
    "        return DataIndexer('/'.join([self.element,self.stage,'wgfa']),key_unit_conversion)\n",
    "    "
   ]
  },
  {
   "cell_type": "code",
   "execution_count": 42,
   "metadata": {
    "collapsed": false
   },
   "outputs": [
    {
     "name": "stdout",
     "output_type": "stream",
     "text": [
      "['ntrans', 'ref']\n",
      "%filename: fe_15.elvlc\n",
      "%Experimental energy levels (1 to 45): Shirai,T., Sugar,J., Musgrove,A., Wiese,W.L.,2000, J.Phys.Chem.Ref.Data, Monograph 8\n",
      "%Experimental energy levels (31,32): Eissner, W., Galavis, M.E., Mendoza, C., Zeippen, C.J., 1999, A&AS, 137, 165\n",
      "%Experimental energy levels (50,51,52): Reader, J., Sugar, J., 1975, J.Phys.Chem.Ref.Data, 4, 424\n",
      "%Experimental energy levels (76-117): Ralchenko Y., Jou, F.C., Kelleher, D.E., Kramida, A.E.,\n",
      "Musgrove, A., Reader, J., Wiese, W.L., Olsen, K., 2005, NIST Atomic Spectra Database, Version 3.0\n",
      "%Theoretical energy levels: Landi, E. 2011, ADNDT, 97, 587\n",
      "%comment: NIST energy for level 3p.4f 1F3 (80) has been assigned to level 3p.4f 3F3 (77)\n",
      "%produced as part of the Arcetri/Cambridge/NRL 'CHIANTI' atomic data base collaboration\n",
      "%\n",
      "% Enrico Landi - Aug 2005\n"
     ]
    }
   ],
   "source": [
    "with h5py.File(chianti_hdf5_filename,'r') as hf:\n",
    "    print([a for a in hf['fe/15/scups'].attrs])\n",
    "    print(hf['fe/15/elvlc'].attrs['ref'])"
   ]
  },
  {
   "cell_type": "code",
   "execution_count": 45,
   "metadata": {
    "collapsed": true
   },
   "outputs": [],
   "source": [
    "chianti_reader = GenericChiantiData('fe_15')"
   ]
  },
  {
   "cell_type": "code",
   "execution_count": 47,
   "metadata": {
    "collapsed": false
   },
   "outputs": [
    {
     "data": {
      "text/plain": [
       "%filename: fe_15.wgfa\n",
       "%Experimental energy levels (1 to 45): Shirai, T., Sugar, J., Musgrove, A., Wiese, W.L.,2000, J.Phys.Chem.Ref.Data, Monograph 8\n",
       "%Experimental energy levels (31,32): Eissner, W., Galavis, M.E., Mendoza, C., Zeippen, C.J., 1999, A&AS, 137, 165\n",
       "%Experimental energy levels (50,51,52): Reader, J., Sugar, J., 1975, J.Phys.Chem.Ref.Data, 4, 424\n",
       "%Experimental energy levels (76-117): Ralchenko Y., Jou, F.C., Kelleher, D.E., Kramida, A.E.,\n",
       "Musgrove, A., Reader, J., Wiese, W.L., Olsen, K., 2005, NIST Atomic Spectra Database, Version 3.0\n",
       "%Theoretical energy levels: Landi, E. 2011, ADNDT, 97, 587\n",
       "%A values and oscillator strengths: Landi, E. 2011, ADNDT, 97, 587\n",
       "%A-value (1-3): Traebert, E., Heckmann, P.H., Hutton , R., & Martinson, I. 1988, J. Opt. Soc. Am. B, 5, 2173\n",
       "%comment: added transition experimental A-value 1-3 from Traebert et al 1988 (E. Landi, Sept. 20, 2006).\n",
       "%produced as part of the Arcetri/Cambridge/NRL 'CHIANTI' atomic data base collaboration\n",
       "%\n",
       "% Enrico Landi - Sep 2006\n",
       "-1"
      ]
     },
     "execution_count": 47,
     "metadata": {},
     "output_type": "execute_result"
    }
   ],
   "source": [
    "chianti_reader.wgfa"
   ]
  },
  {
   "cell_type": "code",
   "execution_count": 24,
   "metadata": {
    "collapsed": true
   },
   "outputs": [],
   "source": [
    "elvlc_data = chianti_reader.elvlc"
   ]
  },
  {
   "cell_type": "code",
   "execution_count": 26,
   "metadata": {
    "collapsed": false
   },
   "outputs": [
    {
     "data": {
      "text/latex": [
       "$[1,~2,~3,~\\dots, 281,~282,~283] \\; \\mathrm{}$"
      ],
      "text/plain": [
       "<Quantity [   1.,   2.,   3.,   4.,   5.,   6.,   7.,   8.,   9.,  10.,\n",
       "             11.,  12.,  13.,  14.,  15.,  16.,  17.,  18.,  19.,  20.,\n",
       "             21.,  22.,  23.,  24.,  25.,  26.,  27.,  28.,  29.,  30.,\n",
       "             31.,  32.,  33.,  34.,  35.,  36.,  37.,  38.,  39.,  40.,\n",
       "             41.,  42.,  43.,  44.,  45.,  46.,  47.,  48.,  49.,  50.,\n",
       "             51.,  52.,  53.,  54.,  55.,  56.,  57.,  58.,  59.,  60.,\n",
       "             61.,  62.,  63.,  64.,  65.,  66.,  67.,  68.,  69.,  70.,\n",
       "             71.,  72.,  73.,  74.,  75.,  76.,  77.,  78.,  79.,  80.,\n",
       "             81.,  82.,  83.,  84.,  85.,  86.,  87.,  88.,  89.,  90.,\n",
       "             91.,  92.,  93.,  94.,  95.,  96.,  97.,  98.,  99., 100.,\n",
       "            101., 102., 103., 104., 105., 106., 107., 108., 109., 110.,\n",
       "            111., 112., 113., 114., 115., 116., 117., 118., 119., 120.,\n",
       "            121., 122., 123., 124., 125., 126., 127., 128., 129., 130.,\n",
       "            131., 132., 133., 134., 135., 136., 137., 138., 139., 140.,\n",
       "            141., 142., 143., 144., 145., 146., 147., 148., 149., 150.,\n",
       "            151., 152., 153., 154., 155., 156., 157., 158., 159., 160.,\n",
       "            161., 162., 163., 164., 165., 166., 167., 168., 169., 170.,\n",
       "            171., 172., 173., 174., 175., 176., 177., 178., 179., 180.,\n",
       "            181., 182., 183., 184., 185., 186., 187., 188., 189., 190.,\n",
       "            191., 192., 193., 194., 195., 196., 197., 198., 199., 200.,\n",
       "            201., 202., 203., 204., 205., 206., 207., 208., 209., 210.,\n",
       "            211., 212., 213., 214., 215., 216., 217., 218., 219., 220.,\n",
       "            221., 222., 223., 224., 225., 226., 227., 228., 229., 230.,\n",
       "            231., 232., 233., 234., 235., 236., 237., 238., 239., 240.,\n",
       "            241., 242., 243., 244., 245., 246., 247., 248., 249., 250.,\n",
       "            251., 252., 253., 254., 255., 256., 257., 258., 259., 260.,\n",
       "            261., 262., 263., 264., 265., 266., 267., 268., 269., 270.,\n",
       "            271., 272., 273., 274., 275., 276., 277., 278., 279., 280.,\n",
       "            281., 282., 283.]>"
      ]
     },
     "execution_count": 26,
     "metadata": {},
     "output_type": "execute_result"
    }
   ],
   "source": [
    "elvlc_data['level']"
   ]
  },
  {
   "cell_type": "code",
   "execution_count": 27,
   "metadata": {
    "collapsed": false
   },
   "outputs": [
    {
     "data": {
      "text/latex": [
       "$[0,~11870297,~11869988,~11877615,~14070911,~14070818,~14073078,~14073074,~14073825,~14840837,~14840798,~14841751,~14841749,~14842066,~14842065,~14842223,~15197076,~15197056,~15197544,~15197543,~15197705,~15197705,~15197786,~15197786,~15197834] \\; \\mathrm{\\frac{1}{cm}}$"
      ],
      "text/plain": [
       "<Quantity [        0. , 11870297.1, 11869988.3, 11877615.1, 14070911. ,\n",
       "            14070818. , 14073078. , 14073074. , 14073825. , 14840837. ,\n",
       "            14840798. , 14841751. , 14841749. , 14842066. , 14842065. ,\n",
       "            14842223. , 15197076. , 15197056. , 15197544. , 15197543. ,\n",
       "            15197705. , 15197705. , 15197786. , 15197786. , 15197834. ] 1 / cm>"
      ]
     },
     "execution_count": 27,
     "metadata": {},
     "output_type": "execute_result"
    }
   ],
   "source": [
    "GenericChiantiData('mg_12').elvlc['energy']"
   ]
  },
  {
   "cell_type": "code",
   "execution_count": 50,
   "metadata": {
    "collapsed": false
   },
   "outputs": [
    {
     "name": "stdout",
     "output_type": "stream",
     "text": [
      "The slowest run took 14.84 times longer than the fastest. This could mean that an intermediate result is being cached.\n",
      "1000 loops, best of 3: 762 µs per loop\n"
     ]
    }
   ],
   "source": [
    "%%timeit\n",
    "GenericChiantiData('h_1').wgfa['einstein_a']"
   ]
  },
  {
   "cell_type": "code",
   "execution_count": 51,
   "metadata": {
    "collapsed": false
   },
   "outputs": [
    {
     "name": "stdout",
     "output_type": "stream",
     "text": [
      "100 loops, best of 3: 13.5 ms per loop\n"
     ]
    }
   ],
   "source": [
    "%%timeit\n",
    "ch.ion('h_1').Wgfa['avalue']"
   ]
  },
  {
   "cell_type": "markdown",
   "metadata": {},
   "source": [
    "This is specifically for an ion. We could also implement an even more generic class for the other non-ion-specific datasets, e.g. abundance, ionization potential, miscellaneous continuum data. \n",
    "\n",
    "Alternatively, when the CHIANTI HDF5 database is created, these could just be broken up by ion appropriately. This would work except for the continuum data which is maybe a special case anyway. \n",
    "\n",
    "Basically, we just want to avoid having to index things over and over again. Better to just refer to it by the ion name.\n",
    "\n",
    "Since this kind of data is used in quite a few places, we could provide it as a generic object. This also makes the CHIANTI data easily accessible without the baggage of the ion object if users want to extend it in anyway."
   ]
  },
  {
   "cell_type": "code",
   "execution_count": null,
   "metadata": {
    "collapsed": true
   },
   "outputs": [],
   "source": []
  }
 ],
 "metadata": {
  "kernelspec": {
   "display_name": "Python [conda env:chiantipy]",
   "language": "python",
   "name": "conda-env-chiantipy-py"
  },
  "language_info": {
   "codemirror_mode": {
    "name": "ipython",
    "version": 3
   },
   "file_extension": ".py",
   "mimetype": "text/x-python",
   "name": "python",
   "nbconvert_exporter": "python",
   "pygments_lexer": "ipython3",
   "version": "3.5.3"
  }
 },
 "nbformat": 4,
 "nbformat_minor": 2
}
