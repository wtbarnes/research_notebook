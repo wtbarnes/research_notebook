{
 "cells": [
  {
   "cell_type": "markdown",
   "metadata": {},
   "source": [
    "# ChiantiPy Continuum Loss Rate Testing"
   ]
  },
  {
   "cell_type": "code",
   "execution_count": 1,
   "metadata": {
    "collapsed": false
   },
   "outputs": [
    {
     "name": "stdout",
     "output_type": "stream",
     "text": [
      " using cli\n",
      " using CLI for selections\n",
      " reading chiantirc file\n"
     ]
    }
   ],
   "source": [
    "import numpy as np\n",
    "from scipy.interpolate import splrep,splev\n",
    "import matplotlib.pyplot as plt\n",
    "import ChiantiPy.core as ch\n",
    "import ChiantiPy.tools.util as ch_util\n",
    "import ChiantiPy.tools.io as ch_io\n",
    "import ChiantiPy.tools.constants as ch_const\n",
    "import ChiantiPy.tools.data as ch_data\n",
    "import astropy.units as u\n",
    "import astropy.constants as const\n",
    "import hissw\n",
    "\n",
    "%matplotlib inline"
   ]
  },
  {
   "cell_type": "code",
   "execution_count": null,
   "metadata": {
    "collapsed": true
   },
   "outputs": [],
   "source": [
    "gf_info = ch_io.gffintRead()"
   ]
  },
  {
   "cell_type": "code",
   "execution_count": null,
   "metadata": {
    "collapsed": false
   },
   "outputs": [],
   "source": [
    "gf_info.keys()"
   ]
  },
  {
   "cell_type": "code",
   "execution_count": null,
   "metadata": {
    "collapsed": false
   },
   "outputs": [],
   "source": [
    "gf_info['g2'].shape"
   ]
  },
  {
   "cell_type": "code",
   "execution_count": null,
   "metadata": {
    "collapsed": false
   },
   "outputs": [],
   "source": [
    "gf_info['gffint'].shape"
   ]
  },
  {
   "cell_type": "code",
   "execution_count": null,
   "metadata": {
    "collapsed": false
   },
   "outputs": [],
   "source": [
    "plt.plot(np.exp(gf_info['g2']),gf_info['gffint'])\n",
    "#plt.xscale('log')\n",
    "#plt.yscale('log')\n",
    "#plt.ylim([1e-1,10])\n",
    "#plt.xlim([1,1e3])\n",
    "#plt.axhline(y=1.2,color='k',linestyle='--')"
   ]
  },
  {
   "cell_type": "code",
   "execution_count": null,
   "metadata": {
    "collapsed": false
   },
   "outputs": [],
   "source": [
    "(const.h.cgs*const.c.cgs/const.k_B.cgs)"
   ]
  },
  {
   "cell_type": "code",
   "execution_count": null,
   "metadata": {
    "collapsed": false
   },
   "outputs": [],
   "source": [
    "(const.Ryd.cgs*const.h.cgs*const.c.cgs/const.k_B.cgs).to(u.MK)"
   ]
  },
  {
   "cell_type": "code",
   "execution_count": null,
   "metadata": {
    "collapsed": false
   },
   "outputs": [],
   "source": [
    "cff = 4.*np.pi*16./3.*np.sqrt(np.pi/6.)*(const.e.gauss**6)/(const.c.cgs**2)/(const.m_e.cgs**1.5)/np.sqrt(const.k_B.cgs)"
   ]
  },
  {
   "cell_type": "code",
   "execution_count": null,
   "metadata": {
    "collapsed": false
   },
   "outputs": [],
   "source": [
    "((cff*const.k_B.cgs/const.h.cgs/const.c.cgs)*u.K**0.5).to(u.erg*u.cm**3/u.s)"
   ]
  },
  {
   "cell_type": "code",
   "execution_count": 69,
   "metadata": {
    "collapsed": false
   },
   "outputs": [],
   "source": [
    "cff_khc = 8./3.*np.sqrt(np.pi/6.)*(const.h.cgs**2)*(const.alpha.cgs**3)/(np.pi**2)*(const.k_B.cgs**0.5)/(const.m_e.cgs**1.5)"
   ]
  },
  {
   "cell_type": "code",
   "execution_count": 75,
   "metadata": {
    "collapsed": false
   },
   "outputs": [
    {
     "data": {
      "text/latex": [
       "$\\mathrm{\\frac{erg^{5/2}\\,s^{2}}{K^{1/2}\\,g^{3/2}}}$"
      ],
      "text/plain": [
       "Unit(\"erg(5/2) s2 / (g(3/2) K(1/2))\")"
      ]
     },
     "execution_count": 75,
     "metadata": {},
     "output_type": "execute_result"
    }
   ],
   "source": [
    "cff_khc.unit"
   ]
  },
  {
   "cell_type": "code",
   "execution_count": 76,
   "metadata": {
    "collapsed": false
   },
   "outputs": [
    {
     "data": {
      "text/latex": [
       "$1.4255565 \\times 10^{-27} \\; \\mathrm{\\frac{cm^{3}\\,erg}{K^{1/2}\\,s}}$"
      ],
      "text/plain": [
       "<Quantity 1.4255565263832292e-27 cm3 erg / (K(1/2) s)>"
      ]
     },
     "execution_count": 76,
     "metadata": {},
     "output_type": "execute_result"
    }
   ],
   "source": [
    "cff_khc.to(u.erg*u.cm**3/u.s*u.K**(-0.5))"
   ]
  },
  {
   "cell_type": "code",
   "execution_count": 67,
   "metadata": {
    "collapsed": false
   },
   "outputs": [
    {
     "data": {
      "text/plain": [
       "1.4255573957578986e-27"
      ]
     },
     "execution_count": 67,
     "metadata": {},
     "output_type": "execute_result"
    }
   ],
   "source": [
    "(8./3.*np.sqrt(np.pi/6.)*(ch_const.planck**2)*(ch_const.fine**3)/(np.pi**2)\n",
    "                     * (ch_const.boltzmann**0.5)/(ch_const.emass**(3./2.)))"
   ]
  },
  {
   "cell_type": "code",
   "execution_count": null,
   "metadata": {
    "collapsed": false
   },
   "outputs": [],
   "source": [
    "ch_const.ryd2erg/ch_const.boltzmann"
   ]
  },
  {
   "cell_type": "code",
   "execution_count": null,
   "metadata": {
    "collapsed": false
   },
   "outputs": [],
   "source": [
    "ch_io.fblvlRead('/usr/local/ssw/packages/chianti/dbase/fe/fe_14/fe_14.fblvl')['pqn']"
   ]
  },
  {
   "cell_type": "code",
   "execution_count": null,
   "metadata": {
    "collapsed": false
   },
   "outputs": [],
   "source": [
    "ch_const.ryd2erg"
   ]
  },
  {
   "cell_type": "code",
   "execution_count": null,
   "metadata": {
    "collapsed": false
   },
   "outputs": [],
   "source": [
    "ch_io.ipRead()[0,0]*ch_const.ev2Erg"
   ]
  },
  {
   "cell_type": "code",
   "execution_count": null,
   "metadata": {
    "collapsed": false
   },
   "outputs": [],
   "source": [
    "2.051e-27*const.k_B.cgs/const.h.cgs/const.c.cgs"
   ]
  },
  {
   "cell_type": "code",
   "execution_count": 66,
   "metadata": {
    "collapsed": false
   },
   "outputs": [
    {
     "data": {
      "text/plain": [
       "1.4255573957578986e-27"
      ]
     },
     "execution_count": 66,
     "metadata": {},
     "output_type": "execute_result"
    }
   ],
   "source": [
    "(8./3.*np.sqrt(np.pi/6.)*(ch_const.planck**2)*(ch_const.fine**3)/(np.pi**2)\n",
    "                     * (ch_const.boltzmann**(1./2.))/(ch_const.emass**(3./2.)))"
   ]
  },
  {
   "cell_type": "markdown",
   "metadata": {},
   "source": [
    "## CHIANTI IDL Radiative Losses"
   ]
  },
  {
   "cell_type": "code",
   "execution_count": 44,
   "metadata": {
    "collapsed": true
   },
   "outputs": [],
   "source": [
    "script=\"\"\"\n",
    "common elements,abund,abund_ref,ioneq,ioneq_logt,ioneq_ref\n",
    "!abund_file=\"/usr/local/ssw/packages/chianti/dbase/abundance/sun_coronal_1992_feldman.abund\"\n",
    "; read abundance and ionization equilibrium\n",
    "abundfile=\"/usr/local/ssw/packages/chianti/dbase/abundance/sun_coronal_1992_feldman.abund\"\n",
    "read_abund, abundfile, abund, abund_ref\n",
    "ioneqfile=\"/usr/local/ssw/packages/chianti/dbase/ioneq/chianti.ioneq\"\n",
    "read_ioneq, ioneqfile, ioneq_logt, ioneq, ioneq_ref\n",
    "\n",
    ";common elements,ioneq_t\n",
    "ioneq_t = ioneq_logt\n",
    "\n",
    "print,!abund_file\n",
    "\n",
    "fb_rad_loss, temp_fb, int_fb, /no_setup\n",
    "ff_rad_loss, temp_ff, int_ff, /no_setup\n",
    "\"\"\"\n",
    "save_vars = ['temp_fb','temp_ff','int_fb','int_ff']"
   ]
  },
  {
   "cell_type": "code",
   "execution_count": 45,
   "metadata": {
    "collapsed": true
   },
   "outputs": [],
   "source": [
    "ssw_runner = hissw.ScriptMaker(ssw_pkg_list=['chianti'],ssw_path_list=['chianti'])"
   ]
  },
  {
   "cell_type": "code",
   "execution_count": 46,
   "metadata": {
    "collapsed": false,
    "scrolled": false
   },
   "outputs": [
    {
     "name": "stdout",
     "output_type": "stream",
     "text": [
      "SSW  setup will include: <gen chianti>\n",
      "\n",
      "Type <sswidl> to start SSW IDL\n",
      "--------------------------------------------------------\n",
      "Running SSW, Last Updated: Wed Nov 2 22:22:51 GMT 2005\n",
      " \n",
      "PROBLEMS? - e-mail TO: freeland@penumbra.nascom.nasa.gov\n",
      "--------------------------------------------------------\n",
      "IDL Version 8.5 (linux x86_64 m64). (c) 2015, Exelis Visual Information Solutions, Inc., a subsidiary of Harris Corporation.\n",
      "Installation number: 401801-1.\n",
      "Licensed for use by: Rice University\n",
      "\n",
      "Executing SSW IDL_STARTUP for: GEN\n",
      "Invalid MIT-MAGIC-COOKIE-1 key% DEVICE: Unable to connect to X Windows display: :0.0\n",
      "Executing SSW IDL_STARTUP for: CHIANTI\n",
      "% Compiled module: USE_CHIANTI.\n",
      "\n",
      "---------------------------------------------------------------\n",
      "                  Welcome to the CHIANTI database \n",
      "                   for astrophysical spectroscopy. \n",
      "       For current information see the CHIANTI home page:\n",
      "                     www.chiantidatabase.org   \n",
      " For any comments and questions please sign up on our google group:\n",
      "         https://groups.google.com/forum/#!forum/chianti \n",
      " Please acknowledge the use of CHIANTI in any presentation and publication\n",
      "% Compiled module: DIR_EXIST.\n",
      "CHIANTI system variable !xuvtop set=/usr/local/ssw/packages/chianti/dbase\n",
      "You are using the CHIANTI database VERSION 8.0.1\n",
      "CHIANTI system variable !ioneq_file set=/usr/local/ssw/packages/chianti/dbase/ioneq/chianti.ioneq\n",
      "CHIANTI system variable !abund_file set=/usr/local/ssw/packages/chianti/dbase/abundance/sun_photospheric_1998_grevesse.abund\n",
      "% DEVICELIB: Added system variable !BCOLOR\n",
      "% DEVICELIB: Added system variable !ASPECT\n",
      "-------------------------------------------------------------------\n",
      "\n",
      "Executing SSW IDL_STARTUP for: SITE\n",
      "% Compiled module: SSW_PATH.\n",
      "% Compiled module: SSW_INSTRUMENTS.\n",
      "% Compiled module: WC_WHERE.\n",
      "% Compiled module: PATHFIX.\n",
      "% Compiled module: REM_ELEM.\n",
      "% Compiled module: REM_ELEM2.\n",
      "% Compiled module: GET_UNIQ.\n",
      "% Compiled module: SSW_UNIQ.\n",
      "% Compiled module: DEFAULT.\n",
      "% Compiled module: REMOVE.\n",
      "% Compiled module: UNIQO.\n",
      "% Compiled module: STRJUSTIFY.\n",
      "% Compiled module: UNIQ.\n",
      "% Compiled module: PRSTR.\n",
      "Including Paths:\n",
      " --------------------------------------------\n",
      "| $SSW/packages/chianti/idl/emiss            |\n",
      "| $SSW/packages/chianti/idl/ratios           |\n",
      "| $SSW/packages/chianti/idl/utilities        |\n",
      "| $SSW/packages/chianti/idl/dem/low_level    |\n",
      "| $SSW/packages/chianti/idl/dem              |\n",
      "| $SSW/packages/chianti/idl/synt_spec        |\n",
      "| $SSW/packages/chianti/idl/read             |\n",
      "| $SSW/packages/chianti/idl/setup            |\n",
      "| $SSW/packages/chianti/idl/convert          |\n",
      "| $SSW/packages/chianti/idl/continuum        |\n",
      "| $SSW/packages/chianti/idl/object           |\n",
      "| $SSW/packages/chianti/idl/level_population |\n",
      "| $SSW/packages/chianti/idl/ionrec           |\n",
      "| $SSW/packages/chianti/idl/em               |\n",
      " --------------------------------------------\n",
      "% SSW_PATH: Path not changed Number of paths: 102\n",
      "% Compiled module: READ_ABUND.\n",
      "% Compiled module: READ_IONEQ.\n",
      "% Program caused arithmetic error: Floating underflow\n",
      "/usr/local/ssw/packages/chianti/dbase/abundance/sun_coronal_1992_feldman.abund\n",
      "% Compiled module: FB_RAD_LOSS.\n",
      "% Compiled module: READ_IP.\n",
      "% Compiled module: GET_IEQ.\n",
      "% Compiled module: ZION2FILENAME.\n",
      "% Compiled module: READ_FBLVL.\n",
      "% Program caused arithmetic error: Floating underflow\n",
      "% Compiled module: FF_RAD_LOSS.\n",
      "% Compiled module: READ_GFFINT.\n",
      "% Program caused arithmetic error: Floating underflow\n",
      "\n"
     ]
    }
   ],
   "source": [
    "rad_loss_ssw = ssw_runner.run([(script,{})],save_vars=save_vars,verbose=True)"
   ]
  },
  {
   "cell_type": "markdown",
   "metadata": {},
   "source": [
    "## ChiantiPy Continuum Radiative Losses"
   ]
  },
  {
   "cell_type": "code",
   "execution_count": 5,
   "metadata": {
    "collapsed": true
   },
   "outputs": [],
   "source": [
    "temperature = np.logspace(4,9,200)\n",
    "chpy_ff_loss = np.zeros(temperature.shape)\n",
    "chpy_fb_loss = np.zeros(temperature.shape)"
   ]
  },
  {
   "cell_type": "code",
   "execution_count": 6,
   "metadata": {
    "collapsed": false,
    "scrolled": true
   },
   "outputs": [
    {
     "name": "stdout",
     "output_type": "stream",
     "text": [
      "No free-bound info for na_11\n",
      "No free-bound info for p_15\n",
      "No free-bound info for cl_17\n",
      "No free-bound info for k_19\n",
      "No free-bound info for na_10\n",
      "No free-bound info for p_14\n",
      "No free-bound info for cl_16\n",
      "No free-bound info for k_18\n",
      "No free-bound info for zn_29\n",
      "No free-bound info for na_9\n",
      "No free-bound info for p_13\n",
      "No free-bound info for k_17\n",
      "No free-bound info for ti_20\n",
      "No free-bound info for cr_22\n",
      "No free-bound info for mn_23\n",
      "No free-bound info for co_25\n",
      "No free-bound info for zn_28\n",
      "No free-bound info for na_8\n",
      "No free-bound info for p_12\n",
      "No free-bound info for cl_14\n",
      "No free-bound info for k_16\n",
      "No free-bound info for ti_19\n",
      "No free-bound info for cr_21\n",
      "No free-bound info for mn_22\n",
      "No free-bound info for co_24\n",
      "No free-bound info for zn_27\n",
      "No free-bound info for fe_3d\n",
      "No free-bound info for fe_2d\n",
      "No free-bound info for na_7\n",
      "No free-bound info for p_11\n",
      "No free-bound info for cl_13\n",
      "No free-bound info for k_15\n",
      "No free-bound info for ti_18\n",
      "No free-bound info for cr_20\n",
      "No free-bound info for mn_21\n",
      "No free-bound info for co_23\n",
      "No free-bound info for na_6\n",
      "No free-bound info for p_10\n",
      "No free-bound info for cl_12\n",
      "No free-bound info for k_14\n",
      "No free-bound info for ti_17\n",
      "No free-bound info for cr_19\n",
      "No free-bound info for mn_20\n",
      "No free-bound info for co_22\n",
      "No free-bound info for zn_25\n",
      "No free-bound info for na_5\n",
      "No free-bound info for p_9\n",
      "No free-bound info for cl_11\n",
      "No free-bound info for k_13\n",
      "No free-bound info for ti_16\n",
      "No free-bound info for cr_18\n",
      "No free-bound info for mn_19\n",
      "No free-bound info for co_21\n",
      "No free-bound info for zn_24\n",
      "No free-bound info for na_4\n",
      "No free-bound info for p_8\n",
      "No free-bound info for cl_10\n",
      "No free-bound info for k_12\n",
      "No free-bound info for ti_15\n",
      "No free-bound info for cr_17\n",
      "No free-bound info for mn_18\n",
      "No free-bound info for co_20\n",
      "No free-bound info for zn_23\n",
      "No free-bound info for na_3\n",
      "No free-bound info for p_7\n",
      "No free-bound info for k_11\n",
      "No free-bound info for ti_14\n",
      "No free-bound info for cr_16\n",
      "No free-bound info for mn_17\n",
      "No free-bound info for co_19\n",
      "No free-bound info for na_2\n",
      "No free-bound info for p_6\n",
      "No free-bound info for k_10\n",
      "No free-bound info for ti_13\n",
      "No free-bound info for cr_15\n",
      "No free-bound info for mn_16\n",
      "No free-bound info for co_18\n",
      "No free-bound info for zn_21\n",
      "No free-bound info for p_5\n",
      "No free-bound info for k_9\n",
      "No free-bound info for ti_12\n",
      "No free-bound info for cr_14\n",
      "No free-bound info for mn_15\n",
      "No free-bound info for co_17\n",
      "No free-bound info for zn_20\n",
      "No free-bound info for al_2\n",
      "No free-bound info for ti_11\n",
      "No free-bound info for cr_13\n",
      "No free-bound info for ca_8\n",
      "No free-bound info for cl_4\n",
      "No free-bound info for ar_5\n",
      "No free-bound info for k_6\n",
      "No free-bound info for ca_7\n",
      "No free-bound info for cl_3\n",
      "No free-bound info for k_5\n",
      "No free-bound info for ca_6\n",
      "No free-bound info for ni_14\n",
      "No free-bound info for cl_2\n",
      "No free-bound info for ar_3\n",
      "No free-bound info for ca_5\n",
      "No free-bound info for cr_9\n",
      "No free-bound info for mn_10\n",
      "No free-bound info for cr_8\n",
      "No free-bound info for mn_9\n",
      "No free-bound info for cr_7\n",
      "No free-bound info for mn_8\n",
      "No free-bound info for ca_2\n",
      "No free-bound info for fe_3\n",
      "No free-bound info for fe_2\n",
      "No free-bound info for ni_2\n"
     ]
    }
   ],
   "source": [
    "for ion in ch_data.MasterList:\n",
    "    chpy_cont = ch.Continuum(ion,temperature)\n",
    "    chpy_cont.calculate_free_free_loss()\n",
    "    chpy_ff_loss += chpy_cont.free_free_loss\n",
    "    try:\n",
    "        chpy_cont.calculate_free_bound_loss()\n",
    "        chpy_fb_loss += chpy_cont.free_bound_loss\n",
    "    except ValueError:\n",
    "        print('No free-bound info for {}'.format(ion))\n",
    "        pass"
   ]
  },
  {
   "cell_type": "markdown",
   "metadata": {},
   "source": [
    "## Compare"
   ]
  },
  {
   "cell_type": "code",
   "execution_count": 78,
   "metadata": {
    "collapsed": false
   },
   "outputs": [
    {
     "data": {
      "text/plain": [
       "<matplotlib.legend.Legend at 0x7fad08178eb8>"
      ]
     },
     "execution_count": 78,
     "metadata": {},
     "output_type": "execute_result"
    },
    {
     "data": {
      "image/png": "[encoded data removed]",
      "text/plain": [
       "<matplotlib.figure.Figure at 0x7fad07e55c18>"
      ]
     },
     "metadata": {},
     "output_type": "display_data"
    }
   ],
   "source": [
    "plt.figure(figsize=(8,8))\n",
    "plt.plot(rad_loss_ssw['temp_ff'],rad_loss_ssw['int_ff'],'r',label='FF, IDL')\n",
    "plt.plot(rad_loss_ssw['temp_fb'],rad_loss_ssw['int_fb'],'b',label='FB, IDL')\n",
    "plt.plot(temperature,chpy_ff_loss,'--r',label='FF, ChiantiPy')\n",
    "plt.plot(temperature,chpy_fb_loss,'--b',label='FB, ChiantiPy')\n",
    "plt.yscale('log')\n",
    "plt.xscale('log')\n",
    "plt.xlabel(r'$T$ [K]')\n",
    "plt.ylabel(r'Radiative Losses [erg cm$^3$ s$^{-1}$]')\n",
    "#plt.ylim([1e-28,1e-21])\n",
    "plt.legend(loc='best')"
   ]
  },
  {
   "cell_type": "code",
   "execution_count": null,
   "metadata": {
    "collapsed": true
   },
   "outputs": [],
   "source": [
    "test = ch.Continuum('mg_12',temperature)"
   ]
  },
  {
   "cell_type": "code",
   "execution_count": null,
   "metadata": {
    "collapsed": false
   },
   "outputs": [],
   "source": [
    "n0 = ch_io.fblvlRead('.'.join([ch_util.zion2filename(test.Z, test.stage), 'fblvl']))['pqn'][0]\n",
    "if test.Z - test.stage > 22:\n",
    "    zeta_0 = test.Z - test.stage + 55\n",
    "elif 8 < test.Z - test.stage <= 22:\n",
    "    zeta_0 = test.Z - test.stage + 27\n",
    "elif 0 < test.Z - test.stage <= 8:\n",
    "    zeta_0 = test.Z - test.stage + 9\n",
    "else:\n",
    "    zeta_0 = test.Z - test.stage + 1\n",
    "z0 = np.sqrt(test.ionization_potential/ch_const.ryd2erg)*n0\n",
    "scaled_energy = ch_const.ryd2erg/ch_const.boltzmann/test.temperature"
   ]
  },
  {
   "cell_type": "code",
   "execution_count": null,
   "metadata": {
    "collapsed": false
   },
   "outputs": [],
   "source": [
    "f2_1 = (0.9\n",
    "        *zeta0\n",
    "        *(z0**4)\n",
    "        /(n0**5)\n",
    "        *np.exp(scaled_energy*(z0**2)/(n0**2)))\n",
    "f2_2 = 0.42*n0**(-1.5)*test.stage**4*np.exp(scaled_energy*test.stage**2/((n0 + 1)**2))"
   ]
  },
  {
   "cell_type": "code",
   "execution_count": null,
   "metadata": {
    "collapsed": false
   },
   "outputs": [],
   "source": [
    "fake_gf = (scaled_energy\n",
    "           *test.abundance\n",
    "           *test.ioneq_one()\n",
    "           *(f2_1 + f2_2))"
   ]
  },
  {
   "cell_type": "code",
   "execution_count": null,
   "metadata": {
    "collapsed": false
   },
   "outputs": [],
   "source": [
    "plt.plot(test.temperature,fake_gf)\n",
    "plt.xscale('log')"
   ]
  },
  {
   "cell_type": "code",
   "execution_count": null,
   "metadata": {
    "collapsed": false
   },
   "outputs": [],
   "source": [
    "for ion in ch_data.MasterList:\n",
    "    test = ch.Continuum(ion,temperature)\n",
    "    try:\n",
    "        plt.plot(test.temperature,test.mewe_gaunt_factor(),'b-',alpha=0.5)\n",
    "    except ValueError:\n",
    "        pass\n",
    "#plt.plot(test.temperature,fake_gf,'--r')\n",
    "plt.axhline(y=1,linestyle='--',color='k')\n",
    "plt.ylim([1e-2,10])\n",
    "plt.xscale('log')\n",
    "plt.yscale('log')"
   ]
  },
  {
   "cell_type": "code",
   "execution_count": null,
   "metadata": {
    "collapsed": true
   },
   "outputs": [],
   "source": []
  }
 ],
 "metadata": {
  "kernelspec": {
   "display_name": "Python [conda env:sunpy-aia-response]",
   "language": "python",
   "name": "conda-env-sunpy-aia-response-py"
  },
  "language_info": {
   "codemirror_mode": {
    "name": "ipython",
    "version": 3
   },
   "file_extension": ".py",
   "mimetype": "text/x-python",
   "name": "python",
   "nbconvert_exporter": "python",
   "pygments_lexer": "ipython3",
   "version": "3.5.3"
  }
 },
 "nbformat": 4,
 "nbformat_minor": 2
}
