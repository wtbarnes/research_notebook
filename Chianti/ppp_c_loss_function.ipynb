{
 "cells": [
  {
   "cell_type": "markdown",
   "metadata": {},
   "source": [
    "# Radiative Loss Functions: `PPP_C`\n",
    "Calculate the so-called `PPP_C` loss function, the radiative losses as calculated by CHIANTI with coronal abundances."
   ]
  },
  {
   "cell_type": "code",
   "execution_count": 3,
   "metadata": {
    "collapsed": false
   },
   "outputs": [
    {
     "name": "stdout",
     "output_type": "stream",
     "text": [
      " using cli\n",
      " using CLI for selections\n",
      " reading chiantirc file\n"
     ]
    }
   ],
   "source": [
    "import numpy as np\n",
    "import matplotlib.pyplot as plt\n",
    "import ChiantiPy.core as ch\n",
    "import ChiantiPy\n",
    "\n",
    "%matplotlib inline"
   ]
  },
  {
   "cell_type": "code",
   "execution_count": 4,
   "metadata": {
    "collapsed": false
   },
   "outputs": [],
   "source": [
    "temperature_fortran = np.array([\n",
    "    1.00E+03, 1.26E+03, 1.58E+03, 2.00E+03, 2.51E+03,\n",
    "    3.16E+03, 3.98E+03, 5.01E+03, 6.31E+03, 7.94E+03,\n",
    "    1.00E+04, 1.26E+04, 1.58E+04, 2.00E+04, 2.51E+04,\n",
    "    3.16E+04, 3.98E+04, 5.01E+04, 6.31E+04, 7.94E+04,\n",
    "    1.00E+05, 1.26E+05, 1.58E+05, 2.00E+05, 2.51E+05,\n",
    "    3.16E+05, 3.98E+05, 5.01E+05, 6.31E+05, 7.94E+05,\n",
    "    1.00E+06, 1.26E+06, 1.58E+06, 2.00E+06, 2.51E+06,\n",
    "    3.16E+06, 3.98E+06, 5.01E+06, 6.31E+06, 7.94E+06,\n",
    "    1.00E+07, 1.26E+07, 1.58E+07, 2.00E+07, 2.51E+07,\n",
    "    3.16E+07, 3.98E+07, 5.01E+07, 6.31E+07, 7.94E+07,\n",
    "    1.00E+08\n",
    "])"
   ]
  },
  {
   "cell_type": "code",
   "execution_count": 5,
   "metadata": {
    "collapsed": false
   },
   "outputs": [],
   "source": [
    "radlosses_fortran_ppp_c = np.array([\n",
    "    1.00e-23,\n",
    "    1.49e-23,  2.21e-23,  3.34e-23,  4.96e-23,  7.41e-23,\n",
    "    1.11e-22,  1.65e-22,  2.47e-22,  3.69e-22,  5.51e-22,\n",
    "    5.15e-22,  5.57e-22,  6.02e-22,  5.96e-22,  4.17e-22,\n",
    "    3.12e-22,  3.41e-22,  3.71e-22,  4.02e-22,  4.32e-22,\n",
    "    4.20e-22,  3.83e-22,  2.80e-22,  1.55e-22,  9.60e-23,\n",
    "    7.81e-23,  7.88e-23,  8.60e-23,  9.23e-23,  8.94e-23,\n",
    "    7.16e-23,  4.86e-23,  3.46e-23,  2.88e-23,  2.67e-23,\n",
    "    2.66e-23,  2.75e-23,  2.90e-23,  3.09e-23,  3.30e-23,\n",
    "    0.0, 0.0, 0.0, 0.0, 0.0,\n",
    "    0.0, 0.0, 0.0, 0.0, 0.0,\n",
    "])   "
   ]
  },
  {
   "cell_type": "markdown",
   "metadata": {},
   "source": [
    "Load the interpolated data from the file."
   ]
  },
  {
   "cell_type": "code",
   "execution_count": 10,
   "metadata": {
    "collapsed": true
   },
   "outputs": [],
   "source": [
    "tmp = np.loadtxt('interpolated_rad_loss.txt')\n",
    "interpolated_t,interpolated_rad_loss = tmp[:,0],tmp[:,1]"
   ]
  },
  {
   "cell_type": "code",
   "execution_count": 13,
   "metadata": {
    "collapsed": false
   },
   "outputs": [
    {
     "data": {
      "text/plain": [
       "(1e-23, 1e-21)"
      ]
     },
     "execution_count": 13,
     "metadata": {},
     "output_type": "execute_result"
    },
    {
     "data": {
      "image/png": "[encoded data removed]",
      "text/plain": [
       "<matplotlib.figure.Figure at 0x7f38363a4210>"
      ]
     },
     "metadata": {},
     "output_type": "display_data"
    }
   ],
   "source": [
    "plt.plot(temperature_fortran,radlosses_fortran_ppp_c,'ob')\n",
    "plt.plot(interpolated_t,interpolated_rad_loss,'r-')\n",
    "plt.xscale('log')\n",
    "plt.yscale('log')\n",
    "plt.xlim([1e4,1e7])\n",
    "plt.ylim([1e-23,1e-21])"
   ]
  },
  {
   "cell_type": "code",
   "execution_count": null,
   "metadata": {
    "collapsed": true
   },
   "outputs": [],
   "source": []
  }
 ],
 "metadata": {
  "kernelspec": {
   "display_name": "Python [conda env:chiantipy]",
   "language": "python",
   "name": "conda-env-chiantipy-py"
  },
  "language_info": {
   "codemirror_mode": {
    "name": "ipython",
    "version": 2
   },
   "file_extension": ".py",
   "mimetype": "text/x-python",
   "name": "python",
   "nbconvert_exporter": "python",
   "pygments_lexer": "ipython2",
   "version": "2.7.12"
  }
 },
 "nbformat": 4,
 "nbformat_minor": 2
}
