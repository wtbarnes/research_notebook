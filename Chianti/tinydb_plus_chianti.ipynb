{
 "cells": [
  {
   "cell_type": "markdown",
   "metadata": {},
   "source": [
    "# TinyDB and CHIANTI\n",
    "This notebook experiments a bit with the idea of turning the CHIANTI \"database\" into a more proper database, i.e. one that is easily queried. We'll try out the TinyDB model here."
   ]
  },
  {
   "cell_type": "code",
   "execution_count": 13,
   "metadata": {
    "collapsed": false
   },
   "outputs": [],
   "source": [
    "import os\n",
    "\n",
    "import periodictable\n",
    "import numpy as np\n",
    "import h5py\n",
    "from tinydb import TinyDB,Query,middlewares\n",
    "import ChiantiPy.core as ch\n",
    "import ChiantiPy.tools as ch_tools"
   ]
  },
  {
   "cell_type": "markdown",
   "metadata": {},
   "source": [
    "First, create a TinyDB instance."
   ]
  },
  {
   "cell_type": "code",
   "execution_count": null,
   "metadata": {
    "collapsed": true
   },
   "outputs": [],
   "source": [
    "db = TinyDB('chianti_db.json')"
   ]
  },
  {
   "cell_type": "markdown",
   "metadata": {},
   "source": [
    "Read some CHIANTI information."
   ]
  },
  {
   "cell_type": "code",
   "execution_count": null,
   "metadata": {
    "collapsed": false
   },
   "outputs": [],
   "source": [
    "db.insert({'element':'fe','ions':15,'type':'wgfa','data':ch_tools.io.wgfaRead('fe_15')})\n",
    "db.insert({'element':'fe','ions':15,'type':'elvlc','data':ch_tools.io.elvlcRead('fe_15')})\n",
    "db.insert({'element':'fe','ions':16,'type':'wgfa','data':ch_tools.io.wgfaRead('fe_16')})\n",
    "db.insert({'element':'fe','ions':16,'type':'elvlc','data':ch_tools.io.elvlcRead('fe_16')})"
   ]
  },
  {
   "cell_type": "code",
   "execution_count": null,
   "metadata": {
    "collapsed": false
   },
   "outputs": [],
   "source": [
    "q = Query()"
   ]
  },
  {
   "cell_type": "code",
   "execution_count": null,
   "metadata": {
    "collapsed": false
   },
   "outputs": [],
   "source": [
    "res = db.search((q.element=='fe') & (q.ions==15) & (q.type=='wgfa'))[0]['data']"
   ]
  },
  {
   "cell_type": "code",
   "execution_count": null,
   "metadata": {
    "collapsed": true
   },
   "outputs": [],
   "source": [
    "db.purge()"
   ]
  },
  {
   "cell_type": "markdown",
   "metadata": {},
   "source": [
    "Get some info from the CHIANTI file system."
   ]
  },
  {
   "cell_type": "code",
   "execution_count": 2,
   "metadata": {
    "collapsed": true
   },
   "outputs": [],
   "source": [
    "class ConvertNumpyArrayMiddleWare(middlewares.Middleware):\n",
    "    def __init__(self,storage_cls=TinyDB.DEFAULT_STORAGE):\n",
    "        super(ConvertNumpyArrayMiddleWare,self).__init__(storage_cls)\n",
    "        \n",
    "    def read(self):\n",
    "        data = self.storage.read()\n",
    "        if type(data) is not type(None):\n",
    "            for table_name in data:\n",
    "                table = data[table_name]\n",
    "                for element_id in table:\n",
    "                    item = table[element_id]\n",
    "                    if item['type']=='scups' and type(item['data']) is dict:\n",
    "                        item['data']['bscups'] = np.array(item['data']['bscups'])\n",
    "                        item['data']['btemp'] = np.array(item['data']['btemp'])\n",
    "                    if item['type']=='psplups' and type(item['data']) is dict:\n",
    "                        item['data']['cups'] = np.array(item['data']['cups'])\n",
    "                        item['data']['de'] = np.array(item['data']['de'])\n",
    "                        item['data']['gf'] = np.array(item['data']['gf'])\n",
    "                        item['data']['splups'] = np.array(item['data']['splups'])\n",
    "\n",
    "        return data\n",
    "                    \n",
    "    def write(self,data):\n",
    "        for table_name in data:\n",
    "            table = data[table_name]\n",
    "            for element_id in table:\n",
    "                item = table[element_id]\n",
    "                if item['type']=='scups' and type(item['data']) is dict:\n",
    "                    item['data']['bscups'] = [list(bs) for bs in item['data']['bscups']]\n",
    "                    item['data']['btemp'] = [list(bt) for bt in item['data']['btemp']]\n",
    "                if item['type']=='psplups' and type(item['data']) is dict:\n",
    "                    item['data']['cups'] = list(item['data']['cups'])\n",
    "                    item['data']['de'] = list(item['data']['de'])\n",
    "                    item['data']['gf'] = list(item['data']['gf'])\n",
    "                    item['data']['splups'] = [list(sp) for sp in item['data']['splups']]\n",
    "        self.storage.write(data)\n",
    "    \n",
    "    def close(self):\n",
    "        self.storage.close()"
   ]
  },
  {
   "cell_type": "code",
   "execution_count": 3,
   "metadata": {
    "collapsed": false
   },
   "outputs": [],
   "source": [
    "db = TinyDB('chianti_db.json',storage=ConvertNumpyArrayMiddleWare())"
   ]
  },
  {
   "cell_type": "code",
   "execution_count": 4,
   "metadata": {
    "collapsed": false
   },
   "outputs": [],
   "source": [
    "for el_item in os.listdir(os.environ['XUVTOP']):\n",
    "    try:\n",
    "        periodictable.elements.symbol(el_item.capitalize())\n",
    "    except ValueError:\n",
    "        continue\n",
    "    for ion_item in os.listdir(os.path.join(os.environ['XUVTOP'],el_item)):\n",
    "        if ion_item[-1]=='d':\n",
    "            continue\n",
    "        base_record = {'name':el_item.capitalize(),'ion':int(ion_item.split('_')[-1])}\n",
    "        file_keys = ['wgfa','elvlc','scups','psplups']\n",
    "        for fk in file_keys:\n",
    "            base_record['type'] = fk\n",
    "            if '.'.join([ion_item,fk]) in os.listdir(os.path.join(os.environ['XUVTOP'],el_item,ion_item)):\n",
    "                base_record['data'] = True\n",
    "            else:\n",
    "                base_record['data'] = False\n",
    "            db.insert(base_record)"
   ]
  },
  {
   "cell_type": "code",
   "execution_count": 5,
   "metadata": {
    "collapsed": true
   },
   "outputs": [],
   "source": [
    "tdQ = Query()"
   ]
  },
  {
   "cell_type": "code",
   "execution_count": 6,
   "metadata": {
    "collapsed": false
   },
   "outputs": [
    {
     "data": {
      "text/plain": [
       "[1051]"
      ]
     },
     "execution_count": 6,
     "metadata": {},
     "output_type": "execute_result"
    }
   ],
   "source": [
    "db.update({'data':ch_tools.io.scupsRead('fe_15')},(tdQ.name=='Fe')&(tdQ['type']=='scups')&(tdQ.ion==15))"
   ]
  },
  {
   "cell_type": "markdown",
   "metadata": {},
   "source": [
    "So the general idea is:\n",
    "\n",
    "* In the Emission Model, the top level interface to the ion objects, build the CHIANTI tinyDB skeleton\n",
    "* Then, for all the ions in the ion list provided to the emission model, populate the tinyDB with all relevant atomic info\n",
    "* Pass database object to the ChIon object. ChIon oject will also create a base query for doing easy queries when information is needed. \n",
    "* Small info about the ion like ionization equilibrium and abundance will still be kept in memory.\n",
    "* Need to modify both the emission model and the ChIon object.\n",
    "\n",
    "What about using HDF5 instead?"
   ]
  },
  {
   "cell_type": "code",
   "execution_count": 54,
   "metadata": {
    "collapsed": true
   },
   "outputs": [],
   "source": [
    "test_ions = ['fe_9','fe_15','fe_12']\n",
    "with h5py.File('tmp_chianti_db.h5','w') as hf:\n",
    "    for t in test_ions:\n",
    "        el = t.split('_')[0].capitalize()\n",
    "        ion = t.split('_')[-1]\n",
    "        #create group\n",
    "        hf.create_group(os.path.join('/',el,ion))"
   ]
  },
  {
   "cell_type": "code",
   "execution_count": 117,
   "metadata": {
    "collapsed": false
   },
   "outputs": [],
   "source": [
    "with h5py.File('tmp_chianti_db.h5','a') as hf:\n",
    "    for t in test_ions:\n",
    "        el = t.split('_')[0].capitalize()\n",
    "        ion = t.split('_')[-1]\n",
    "        #elvlc group and datasets\n",
    "        elvlc_grp = hf.create_group(os.path.join('/',el,ion,'elvlc'))\n",
    "        _tmp = ch_tools.io.elvlcRead(t)\n",
    "        for key in _tmp:\n",
    "            if key=='ref':\n",
    "                elvlc_grp.attrs[key] = '\\n'.join(_tmp[key])\n",
    "            elif type(_tmp[key]) is list or type(_tmp[key]) is type(np.array([])):\n",
    "                elvlc_grp.create_dataset(key,data=_tmp[key])\n",
    "            else:\n",
    "                elvlc_grp.attrs[key] = _tmp[key]"
   ]
  },
  {
   "cell_type": "code",
   "execution_count": 119,
   "metadata": {
    "collapsed": false
   },
   "outputs": [
    {
     "name": "stdout",
     "output_type": "stream",
     "text": [
      "True\n"
     ]
    }
   ],
   "source": [
    "with h5py.File('tmp_chianti_db.h5','r') as hf:\n",
    "    grp = hf['/Fe/9']\n",
    "    print('/Fe/9' in hf)"
   ]
  },
  {
   "cell_type": "code",
   "execution_count": 109,
   "metadata": {
    "collapsed": false
   },
   "outputs": [],
   "source": [
    "tmp_chianti_read = ch_tools.io.splupsRead('fe_16',filetype='psplups')"
   ]
  },
  {
   "cell_type": "code",
   "execution_count": 110,
   "metadata": {
    "collapsed": false
   },
   "outputs": [
    {
     "data": {
      "text/plain": [
       "['file not found']"
      ]
     },
     "execution_count": 110,
     "metadata": {},
     "output_type": "execute_result"
    }
   ],
   "source": [
    "tmp_chianti_read.keys()"
   ]
  },
  {
   "cell_type": "code",
   "execution_count": 120,
   "metadata": {
    "collapsed": true
   },
   "outputs": [],
   "source": [
    "foobar = ch_tools.io.scupsRead('fe_9')"
   ]
  },
  {
   "cell_type": "code",
   "execution_count": 124,
   "metadata": {
    "collapsed": false
   },
   "outputs": [
    {
     "name": "stdout",
     "output_type": "stream",
     "text": [
      "btemp\n",
      "object\n",
      "de\n",
      "float64\n",
      "bscups\n",
      "object\n",
      "gf\n",
      "float64\n",
      "lvl2\n",
      "int64\n",
      "lvl1\n",
      "int64\n",
      "cups\n",
      "float64\n",
      "ntemp\n",
      "int64\n",
      "lim\n",
      "float64\n",
      "ttype\n",
      "int64\n",
      "ntrans\n",
      "int64\n",
      "ref\n",
      "|S79\n"
     ]
    }
   ],
   "source": [
    "for k in foobar:\n",
    "    print(k)\n",
    "    print(np.array(foobar[k]).dtype)"
   ]
  },
  {
   "cell_type": "code",
   "execution_count": null,
   "metadata": {
    "collapsed": true
   },
   "outputs": [],
   "source": []
  }
 ],
 "metadata": {
  "anaconda-cloud": {},
  "kernelspec": {
   "display_name": "Python [conda env:chiantipy]",
   "language": "python",
   "name": "conda-env-chiantipy-py"
  },
  "language_info": {
   "codemirror_mode": {
    "name": "ipython",
    "version": 2
   },
   "file_extension": ".py",
   "mimetype": "text/x-python",
   "name": "python",
   "nbconvert_exporter": "python",
   "pygments_lexer": "ipython2",
   "version": "2.7.12"
  }
 },
 "nbformat": 4,
 "nbformat_minor": 1
}
